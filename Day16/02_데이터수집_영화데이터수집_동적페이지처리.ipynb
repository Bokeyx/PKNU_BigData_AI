{
 "cells": [
  {
   "cell_type": "code",
   "execution_count": null,
   "id": "e530c4b8-5762-428d-98b1-94861e519b2c",
   "metadata": {},
   "outputs": [],
   "source": [
    "\"\"\"\n",
    "<영화 데이터 수집>\n",
    " - 수집처 : 메가박스\n",
    " - 수집처 URL : https://www.megabox.co.kr/movie\n",
    " - 수집 위치(웹 네비게이션) : 영화 > 전체영화 > 박스오피스\n",
    " - 수집 데이터 (10개 영화정보만 수집)\n",
    "  : 영화제목, 실관람평점, 예매순위, 예매율, 누적관객수\n",
    "  : 영화제목, 개별관람평점, 개별관란명내용, 긍정(관람평점6이상)/부정(관렴평점6미만)\n",
    "\"\"\""
   ]
  },
  {
   "cell_type": "markdown",
   "id": "dd58edd2-3094-4688-9fdf-45507098e877",
   "metadata": {},
   "source": [
    "### 라이브러리 정의하기"
   ]
  },
  {
   "cell_type": "code",
   "execution_count": 1,
   "id": "3e3431bc-6be3-45f0-9e49-242dd5b8485a",
   "metadata": {},
   "outputs": [],
   "source": [
    "### 웹브라우저 오픈을 위한 라이브러리\n",
    "# - 브라우저 제어\n",
    "# - 설치해야 합니다. : pip install selenium\n",
    "from selenium import webdriver\n",
    "\n",
    "### 데이터 처리\n",
    "import pandas as pd\n",
    "\n",
    "### 동적 웹페이지 처리 라이브러리\n",
    "# - 동적 웹페이지 처리처럼 html.parser 처리를 하지 않아도,\n",
    "#   라이브러리가 알아서 내부적으로 처리해줌\n",
    "from selenium.webdriver.common.by import By\n",
    "\n",
    "### 시간 라이브러리\n",
    "# - 브라우저의 로딩시간이 길어지는 경우에는\n",
    "#  -> 프로그램 처리 시간도 늦춰주어야 합니다.\n",
    "#  -> time.sleep(초)를 이용해서 늦춰주면 됩니다.\n",
    "import time\n",
    "\n",
    "# ### 웹 프로토콜을 통해서 요청 URL을 전송하고 결과를 받아오는 라이브러리\n",
    "# import requests\n",
    "\n",
    "# ### 전달받은 태그 코드의 데이터를 검색 추출하기 위한 라이브러리\n",
    "# from bs4 import BeautifulSoup\n",
    "\n",
    "# ### 전달받은 태그 코드를 인식하지 못하는 경우를 대비해서 라이브러리 추가만 해놓기\n",
    "# # - 설치 필요 : pip install lxml\n",
    "# # - 설치 후 커널 재시작해야 합니다.\n",
    "# from openpyxl.workbook import Workbook"
   ]
  },
  {
   "cell_type": "markdown",
   "id": "4a3694e1-d868-4e42-9ce8-28abe780cf46",
   "metadata": {},
   "source": [
    "### 크롬브라우저 제어하기"
   ]
  },
  {
   "cell_type": "code",
   "execution_count": 2,
   "id": "da992396-20ab-4c12-b85e-1f0c93ca58d9",
   "metadata": {},
   "outputs": [],
   "source": [
    "def getDriver() :\n",
    "    return webdriver.Chrome()"
   ]
  },
  {
   "cell_type": "code",
   "execution_count": 3,
   "id": "a29cc732-cce6-4de7-8150-eae003e53fc0",
   "metadata": {},
   "outputs": [],
   "source": [
    "### 크롬브라우저 open하기\n",
    "driver = getDriver()"
   ]
  },
  {
   "cell_type": "markdown",
   "id": "6e70095e-23ce-4ded-9307-b8d72c804432",
   "metadata": {},
   "source": [
    "### 수집할 웹페이지 URL 정의, 요청 및 html 코드 수집"
   ]
  },
  {
   "cell_type": "code",
   "execution_count": 4,
   "id": "92d0e7da-c284-48a7-b057-8e46c58f50e3",
   "metadata": {},
   "outputs": [],
   "source": [
    "### 수집할 웹페이지 URL\n",
    "url = \"https://www.megabox.co.kr/movie\"\n",
    "\n",
    "### 브라우저를 통해서 용청 및 html 코드 받아오기\n",
    "driver.get(url)"
   ]
  },
  {
   "cell_type": "code",
   "execution_count": null,
   "id": "341c2c70-8800-468d-a67a-a18462052994",
   "metadata": {},
   "outputs": [],
   "source": [
    "\"\"\"\n",
    "** selenium 동적페이지 처리시에는 \n",
    "   -> 별도의 파싱(html.parser) 작업을 하지 않아도 됨...\n",
    "   -> 바로 태그 경로를 이용해서 데이터 수집하면 됩니다.\n",
    "\n",
    "** 태그 정보 조회 함수 : driver.find_elements(By.CSS_SELECTOR, \"태그 경로 패턴\")\n",
    "                          -> 반환 타입은 list 타입 입니다.(여러 건 조회)\n",
    "\n",
    "                       : driver.find_element(By.CSS_SELECTOR, \"태그 경로 패턴\")\n",
    "                          -> 반환 타입은 html 태그 자체 입니다. (1건 조회)\n",
    "                          \n",
    "** 클릭 가능한 태그들 : a, input, button 태그 이름들은 클릭 가능한 태그들 입니다.\n",
    "                      : a태그의 경우 href 속성 값에 #만 있는 경우에는 링크 주소가 없는 경우로,\n",
    "                        상위 태그에서 링크(페이지 전환) 처리를 한다고 보면 됩니다.\n",
    "\"\"\""
   ]
  },
  {
   "cell_type": "markdown",
   "id": "d91d13c6-e909-4093-8f50-ca767d60f514",
   "metadata": {},
   "source": [
    "### 영화 목록 전체 추출하기"
   ]
  },
  {
   "cell_type": "code",
   "execution_count": null,
   "id": "28bdd7c0-48a7-4a93-9259-ddff9c41b745",
   "metadata": {},
   "outputs": [],
   "source": [
    "\"\"\"\n",
    "<처리 순서>\n",
    " 1. 영화 목록 전체 정보를 추출\n",
    "  -> 클릭 할 수 있는 태그를 찾아서 수집해야 합니다\n",
    " 2. 추출한 각 영화 정보를 크릭하여 페이지 전환\n",
    " 3. 전환된 페이지에서 해당 영화 정보() 추출\n",
    "  : 영화제목, 실관람평점, 예매순위, 예매율, 누적관객수\n",
    "  : 영화제목, 개별관람평점, 개별관란명내용, 긍정(관람평점6이상)/부정(관렴평점6미만)\n",
    " 4. 전환된 페이지에서 추출이 끝나면 -> 다시 목록으로 페이지 전환\n",
    " 5. 다음 영화 정보 클릭하여 페이지 전화하면서 반복 처리\n",
    "\"\"\""
   ]
  },
  {
   "cell_type": "code",
   "execution_count": 5,
   "id": "e1b0d19a-d1a3-47de-8572-7eb561fb16f0",
   "metadata": {},
   "outputs": [
    {
     "name": "stdout",
     "output_type": "stream",
     "text": [
      "20\n"
     ]
    }
   ],
   "source": [
    "# 1. 영화 목록 전체 정보를 추출\n",
    "#  -> 클릭 할 수 있는 태그를 찾아서 수집해야 합니다\n",
    "# #movieList > li > div.movie-list-info\n",
    "# div.movie-list-info\n",
    "\n",
    "### 영화 목록 전체 가지고 오기 위한 태그 경로 정의\n",
    "movie_list_path = \"div.movie-list-info\"\n",
    "\n",
    "### 태그 경로에 대한 태그 정보 조회하기\n",
    "# - find_elements 또는 find_element의 조회 결과 내에는 태그가 안보임\n",
    "#   (각 태그의 메모리 주소 정보만 가지고 있음)\n",
    "movie_elements = driver.find_elements(By.CSS_SELECTOR, \"div.movie-list-info\")\n",
    "print(len(movie_elements))"
   ]
  },
  {
   "cell_type": "markdown",
   "id": "30f04fb9-6db7-4f51-9c7f-34f3f0473eed",
   "metadata": {},
   "source": [
    "### 20개 태그 정보(list 타입) 중에, 0번째 인덱스의 태그 정보로 샘플링하기"
   ]
  },
  {
   "cell_type": "code",
   "execution_count": 6,
   "id": "22c624cf-4e07-47ff-8aad-b9b5ff542160",
   "metadata": {},
   "outputs": [],
   "source": [
    "### 클릭 테스트 하기\n",
    "# - 0번째 태그정보를 이용해서 실제 클릭 후 페이지 전환이 잘 되는지 확인하기\n",
    "# - 클릭(click) 처리 함수 : click() 함수 사용 (클릭 이벤트 함수라고 칭합니다.)\n",
    "\n",
    "### 반환된 값은 0번쨰 태그 정보 자체..(리스트 아님..)\n",
    "movie_elements[0]\n",
    "\n",
    "### 클릭 이벤트 처리 : 클릭 시키기\n",
    "movie_elements[0].click()"
   ]
  },
  {
   "cell_type": "code",
   "execution_count": 7,
   "id": "237b4b39-6322-46c3-8aa1-a7e155550040",
   "metadata": {},
   "outputs": [],
   "source": [
    "### 다시 목록 페이지로 나오기(이전 페이지 나오기)\n",
    "# - 웹브라우저의 history 정보를 이용합니다.\n",
    "# - history 정보 : 페이지를 클릭하면서 이동한 이력정보를 가지고 있는 변수(브라우저가 관리)\n",
    "# - execute_script() : javascript 프로그램 처리 함수 (javascript 프로그램 코드 작성 가능)\n",
    "# - html의 이벤트 처리는 javascript 프로그램으로 처리됩니다.\n",
    "\n",
    "### window.history.go(-1)\n",
    "# - window : html 페이지가 보이는 브라우저 자체\n",
    "# - history : 페이지 전환에 대한 이력 정보\n",
    "# - go() : 이동(이전 또는 다음), -기호는 이전, -1은 이전페이지, -2는 이전-이전 페이지\n",
    "driver.execute_script(\"window.history.go(-1)\")"
   ]
  },
  {
   "cell_type": "code",
   "execution_count": 8,
   "id": "d863c45d-12f0-4ec3-adc1-328f571086ec",
   "metadata": {},
   "outputs": [
    {
     "name": "stdout",
     "output_type": "stream",
     "text": [
      "20\n"
     ]
    }
   ],
   "source": [
    "### 예외처리\n",
    "# - 외부 연결 중 외부 물리적 연결에 문제가 발생한 경우 처리\n",
    "# - 보통 윈도우 내부의 파일 읽어들이기, 웹클로링의 경우 접속하고자 하는 사이트가 중지된 경우 등등\n",
    "# - 문제가 발생할 부분의 코드를 try 영역에 작성\n",
    "#  -> 문제가 발생한 경우에 대한 처리 코드는 except 영역에 작성\n",
    "try :\n",
    "    # 1. 영화 목록 전체 정보를 추출\n",
    "    #  -> 클릭 할 수 있는 태그를 찾아서 수집해야 합니다\n",
    "    # #movieList > li > div.movie-list-info\n",
    "    # div.movie-list-info\n",
    "    \n",
    "    ### 영화 목록 전체 가지고 오기 위한 태그 경로 정의\n",
    "    movie_list_path = \"div.movie-list-info\"\n",
    "    \n",
    "    ### 태그 경로에 대한 태그 정보 조회하기\n",
    "    # - find_elements 또는 find_element의 조회 결과 내에는 태그가 안보임\n",
    "    #   (각 태그의 메모리 주소 정보만 가지고 있음)\n",
    "    movie_elements = driver.find_elements(By.CSS_SELECTOR, \"div.movie-list-info\")\n",
    "    print(len(movie_elements))\n",
    "    \n",
    "except :\n",
    "    print(\"예외가 발생 했습니다. : find_elemenets()의 결과값을 가져오지 못했습니다.\")\n",
    "    movie_elements = []"
   ]
  },
  {
   "cell_type": "code",
   "execution_count": 9,
   "id": "708aed3c-18cf-4321-8884-9c7cc9cd6e02",
   "metadata": {},
   "outputs": [],
   "source": [
    "if len(movie_elements) >= 1 :\n",
    "    ### 클릭 이벤트 처리하기\n",
    "    movie_elements[0].click()\n",
    "\n",
    "else :\n",
    "    print(\"수집된 영화 목록이 없습니다.\")"
   ]
  },
  {
   "cell_type": "code",
   "execution_count": 10,
   "id": "cd7bbeb3-8827-40f8-8579-23b3ccc9c121",
   "metadata": {},
   "outputs": [],
   "source": [
    "### 웹브라우저 종료하기\n",
    "driver.quit()"
   ]
  },
  {
   "cell_type": "code",
   "execution_count": null,
   "id": "4acf5bb5-8334-444c-b16d-d421274bc958",
   "metadata": {},
   "outputs": [],
   "source": [
    "# div.movie-list-info"
   ]
  },
  {
   "cell_type": "markdown",
   "id": "3fa829c3-2f5e-4b70-942f-388a51a4e81d",
   "metadata": {},
   "source": [
    "### 영화목록 하단의 [더보기] 버튼 처리"
   ]
  },
  {
   "cell_type": "code",
   "execution_count": null,
   "id": "4dc0cc98-166e-4e19-aec5-a21ff9aa0151",
   "metadata": {},
   "outputs": [],
   "source": [
    "\"\"\"\n",
    "<더보기>\n",
    " - [더보기] 버튼을 클릭 할 때 마다, 목록이 20개씩 계속 나옵니다.\n",
    " - [더보기] 버튼이 안보이는 시점에 -> 모든 영화 목록 전체를 가지고 오며,\n",
    "   한번에 모든 영화목록 태그정보를 수집할 수 있음(방법적인 부분으로, 분석가 마음)\n",
    "\n",
    "<더보기 버튼 처리 순서>\n",
    " 1. [더보기] 버튼의 태그 정보를 추출하기 위한 태그 경로(패턴) 찾기\n",
    " 2. 찾은 태그를 이용해서 -> [더보기] 클릭 처리하기\n",
    "    -> [더보기] 버튼이 보이지 않을때까지 계속 클릭 처리\n",
    " 3. [더보기] 버튼이 안보이는 시점에서 -> 모든 목록이 보이게 됩니다.\n",
    "    -> 모든 목록이 보이는 시점의 현재 페이지 정보를 인식(현재 페이지 html 코드 수집) 해야 합니다.\n",
    "       (클릭 또는 이전/이후에 대한 처리 후에는 전환 후 페이지 html 코드를 다시 인식해야함)\n",
    "\"\"\""
   ]
  },
  {
   "cell_type": "code",
   "execution_count": 12,
   "id": "84171c22-f835-4a85-aeda-12b669fb2127",
   "metadata": {},
   "outputs": [],
   "source": [
    "### 크롬브라우저 open하는 코드를 함수로 만들어주세요...\n",
    "# - url을 받아서 요청 및 응답받는 처리까지 모두 수행하는 함수로 만들어 주세요...\n",
    "# - 드라이버 변수를 반환\n",
    "def getDriver(url) :\n",
    "    # 크롬브라우저 오픈\n",
    "    driver = webdriver.Chrome()\n",
    "    #웹 url \n",
    "    driver.get(url)\n",
    "    return driver"
   ]
  },
  {
   "cell_type": "code",
   "execution_count": 13,
   "id": "1535428e-83ac-4cb0-9aa2-15746f946890",
   "metadata": {},
   "outputs": [],
   "source": [
    "driver = getDriver(\"https://www.megabox.co.kr/movie\")"
   ]
  },
  {
   "cell_type": "code",
   "execution_count": 14,
   "id": "ef55f428-31e1-4286-b4e3-222ea85ef361",
   "metadata": {},
   "outputs": [],
   "source": [
    "# 1. [더보기] 버튼의 태그 정보를 추출하기 위한 태그 경로(패턴) 찾기\n",
    "# [더보기] 태그 경로 : #btnAddMovie\n",
    "see_more = \"#btnAddMovie\"\n",
    "\n",
    "### [더보기] 태그 정보 추출해 주세요.\n",
    "# 변수명 : see_more_elements\n",
    "see_more_element = driver.find_element(By.CSS_SELECTOR, \"#btnAddMovie\")"
   ]
  },
  {
   "cell_type": "code",
   "execution_count": 15,
   "id": "9e84ee67-a9e2-418e-afbe-d8c5773cbc47",
   "metadata": {},
   "outputs": [],
   "source": [
    "### 클릭 이벤트 한번 처리해 보기\n",
    "# - [더보기] 버튼이 안보이는 상태에서, 아래 클릭 코드를 실행하면 오류 발생\n",
    "try :\n",
    "    see_more_element.click()\n",
    "    \n",
    "except :\n",
    "    print(\"[더보기] 버튼이 더 이상 보이지 않습니다.\")"
   ]
  },
  {
   "cell_type": "code",
   "execution_count": null,
   "id": "b28894c8-97e3-406c-870e-3b436dbd9dae",
   "metadata": {},
   "outputs": [],
   "source": [
    "driver.execute_script(\"window.history.go(-1)\")"
   ]
  },
  {
   "cell_type": "code",
   "execution_count": null,
   "id": "82ac1999-cd28-4fdf-b959-5eda6df7d028",
   "metadata": {},
   "outputs": [],
   "source": [
    "### 웹브라우저 종료하기\n",
    "driver.quit()"
   ]
  },
  {
   "cell_type": "markdown",
   "id": "e0e55804-a7a7-4aaa-87d1-98af901a6079",
   "metadata": {},
   "source": [
    "### [더보기] 버튼 모두 펼쳐 놓는 코드 작성해주세요"
   ]
  },
  {
   "cell_type": "code",
   "execution_count": 15,
   "id": "c2bccd72-531f-42ff-b14c-7689f9348a3a",
   "metadata": {},
   "outputs": [],
   "source": [
    "### [더보기] 버튼이 안보일 때 까지 클릭해서 모든 목록을 펼쳐 놓기 위한\n",
    "# -> 코드를 작성해 주세요.\n",
    "\n",
    "cnt = 0\n",
    "def see_more_all() :\n",
    "    while True :\n",
    "        try :\n",
    "            see_more = \"#btnAddMovie\"\n",
    "            see_more_element = driver.find_element(By.CSS_SELECTOR, see_more)\n",
    "            ### 더보기 클릭\n",
    "            see_more_element.click()\n",
    "            ### 브라우저에서 클릭 후 로딩하는 시간 동안 프로그램은 잠시 대기 처리\n",
    "            # - 1초 대기\n",
    "            time.sleep(1)\n",
    "    \n",
    "            # ### cnt### 총 반복횟수 출력\n",
    "            # cnt += 1\n",
    "            \n",
    "        except :\n",
    "            print(\"[더보기] 버튼이 더 이상 보이지 않습니다.\")\n",
    "            break"
   ]
  },
  {
   "cell_type": "code",
   "execution_count": 16,
   "id": "6b06b511-fe03-485c-84b5-fda8d6439eb6",
   "metadata": {},
   "outputs": [
    {
     "name": "stdout",
     "output_type": "stream",
     "text": [
      "[더보기] 버튼이 더 이상 보이지 않습니다.\n"
     ]
    }
   ],
   "source": [
    "see_more_all()"
   ]
  },
  {
   "cell_type": "markdown",
   "id": "ed054ccb-6041-49e9-90cf-cd4014f43bc5",
   "metadata": {},
   "source": [
    "### 모든 목록이 보이는 시점의 현재 페이지 정보를 인식(현재 페이지 html 코드 수집)해야 합니다\n",
    "##### (클릭 또는 이전/이후에 대한 처리 후에는 전환 후 페이지 html 코드를 다시 인식해야함)"
   ]
  },
  {
   "cell_type": "code",
   "execution_count": null,
   "id": "de79c5eb-517e-4f73-8b51-1df049a87255",
   "metadata": {},
   "outputs": [],
   "source": [
    "### window_handles : 페이지 변경 사항에 대한 정보를 담고 있습니다.\n",
    "# - 클릭 후 페이지 변경이 되면, 해당 window_handles 리스트에 정보가 하나씩 추가됩니다.\n",
    "# - 마지막 리스트 값을 사용하면 됩니다.\n",
    "# - window_handles의 결과값은 리스트 타입\n",
    "page_handle = driver.window_handles[-1]\n",
    "page_handle\n",
    "\n",
    "### window_handles의 마지막 값을 브라우저, 즉 window에 다시 반영 시켜야 합니다.\n",
    "driver.switch_to.window(page_handle)"
   ]
  },
  {
   "cell_type": "code",
   "execution_count": 17,
   "id": "9a6d8322-a521-44fa-8716-2d5b9929100e",
   "metadata": {},
   "outputs": [],
   "source": [
    "### 위 코드를 함수로 정의해서 사용하기\n",
    "# - 함수 이름 : setPage\n",
    "def setWindowPage(p_driver) :\n",
    "    page_handle = p_driver.window_handles[-1]\n",
    "    p_driver.switch_to.window(page_handle)\n",
    "    time.sleep(1)"
   ]
  },
  {
   "cell_type": "markdown",
   "id": "3ff026e5-5b4d-4cec-a9d2-8fa6ef2bf04b",
   "metadata": {},
   "source": [
    "### [더보기] 이후 전체 목록 정보 조회하기"
   ]
  },
  {
   "cell_type": "code",
   "execution_count": 16,
   "id": "0898e525-aeb9-4f45-83d3-d777e440ded0",
   "metadata": {},
   "outputs": [
    {
     "name": "stdout",
     "output_type": "stream",
     "text": [
      "40\n"
     ]
    }
   ],
   "source": [
    "try :\n",
    "    # 1. 영화 목록 전체 정보를 추출\n",
    "    #  -> 클릭 할 수 있는 태그를 찾아서 수집해야 합니다\n",
    "    \n",
    "    ### 영화 목록 전체 가지고 오기 위한 태그 경로 정의\n",
    "    movie_list_path = \"div.movie-list-info\"\n",
    "    \n",
    "    ### 태그 경로에 대한 태그 정보 조회하기\n",
    "    # - find_elements 또는 find_element의 조회 결과 내에는 태그가 안보임\n",
    "    #   (각 태그의 메모리 주소 정보만 가지고 있음)\n",
    "    movie_elements = driver.find_elements(By.CSS_SELECTOR, \"div.movie-list-info\")\n",
    "    print(len(movie_elements))\n",
    "    \n",
    "except :\n",
    "    print(\"예외가 발생 했습니다. : find_elements()의 결과값을 가져오지 못했습니다.\")\n",
    "    movie_elements = []"
   ]
  },
  {
   "cell_type": "markdown",
   "id": "ce3c6ed7-cc48-4729-b51c-af1be2477427",
   "metadata": {},
   "source": [
    "### 영화목록 1개를 기준으로 샘플링 하기"
   ]
  },
  {
   "cell_type": "code",
   "execution_count": 19,
   "id": "5849a4ba-fa04-4dc9-9910-4910d4f2bba7",
   "metadata": {},
   "outputs": [],
   "source": [
    "### 영화목록 1개 추출하기, 클릭해서 정보 페이지로 전환하기\n",
    "movie_elements[4].click()"
   ]
  },
  {
   "cell_type": "code",
   "execution_count": null,
   "id": "443a9a58-772c-40d7-89ac-dab743ea159e",
   "metadata": {},
   "outputs": [],
   "source": [
    "### 페이지 전환 이후 전환된 페이지를 window(브라우저)에 인식 시키기"
   ]
  },
  {
   "cell_type": "code",
   "execution_count": 20,
   "id": "a6318c7b-bc13-4187-a2b9-f5ae2cc0268e",
   "metadata": {},
   "outputs": [],
   "source": [
    "setWindowPage(driver)"
   ]
  },
  {
   "cell_type": "code",
   "execution_count": null,
   "id": "e1a2950c-e1b3-4b6e-a1bf-0c539381456b",
   "metadata": {},
   "outputs": [],
   "source": [
    "### 영화 상세 정보 추출하기\n",
    "# : 영화제목, 실관람평점, 예매순위, 예매율, 누적관객수\n",
    "# : 영화제목, 개별관람평점, 개별관란명내용, 긍정(관람평점6이상)/부정(관렴평점6미만)"
   ]
  },
  {
   "cell_type": "code",
   "execution_count": 21,
   "id": "76f15557-2015-4043-b029-17f5dde22ddb",
   "metadata": {},
   "outputs": [
    {
     "name": "stdout",
     "output_type": "stream",
     "text": [
      "영화제목 : 캡틴 아메리카: 브레이브 뉴 월드\n"
     ]
    }
   ],
   "source": [
    "### 영화 상세 정보 추출하기\n",
    "# - [영화 제목] 추출하기\n",
    "# - 영화제목이 있는 태그 경로 정의하기\n",
    "title_path = \"p.title\"\n",
    "\n",
    "##3 영화제목이 있는 태그 정보 추출하기\n",
    "title_element = driver.find_element(By.CSS_SELECTOR, title_path)\n",
    "\n",
    "### 추출한 태그에서 영화제목 text 추출하여 출력하기\n",
    "title = title_element.text\n",
    "print(f\"영화제목 : {title}\")"
   ]
  },
  {
   "cell_type": "code",
   "execution_count": 22,
   "id": "9e539b0f-c58d-4906-b110-c8e9c3677f72",
   "metadata": {},
   "outputs": [
    {
     "name": "stdout",
     "output_type": "stream",
     "text": [
      "실관람평 : 8.3\n"
     ]
    }
   ],
   "source": [
    "### [실관람평] 추출하기\n",
    "# - 실관람평 태그 경로 정의\n",
    "score_path = \"#mainMegaScore > p > em\"\n",
    "\n",
    "# 실관람평 태그 추출하기\n",
    "score_element = driver.find_element(By.CSS_SELECTOR, score_path)\n",
    "\n",
    "# - 실관람평 텍스트 추출하기\n",
    "score = score_element.text\n",
    "print(f\"실관람평 : {score}\")"
   ]
  },
  {
   "cell_type": "code",
   "execution_count": 23,
   "id": "730461fa-b081-4aeb-a686-8615d4b07419",
   "metadata": {},
   "outputs": [
    {
     "name": "stdout",
     "output_type": "stream",
     "text": [
      "예매순위 : 5위, 예매율 : 4.7%\n"
     ]
    }
   ],
   "source": [
    "### [예매순위] 및 [예매율] 추출하기\n",
    "### [예매순위] 추출하기\n",
    "# - 예매순위 태그 경로 정의 : ranking\n",
    "ranking_path = \"div.info > div.rate > p.cont > em\"\n",
    "\n",
    "# 예매순위 태그 추출하기\n",
    "ranking_element = driver.find_element(By.CSS_SELECTOR, ranking_path)\n",
    "\n",
    "# - 예매순위 텍스트 추출하기\n",
    "ranking = ranking_element.text\n",
    "\n",
    "### [예매율] 추출하기\n",
    "# - 예매율 태그 경로 정의 : rate\n",
    "#  -> 예매율은 selector가 안될겁니다. (selector 되는 시점의 태그를 찾아야 합니다.)\n",
    "# - hint : 문자열.split(\"구분자\") 함수 사용 -> 함수 결과는 구분된 값을 리스트(list)로 반환\n",
    "rate_path = \"div.info > div.rate > p.cont\"\n",
    "\n",
    "# 예매율 태그 추출하기\n",
    "rate_element = driver.find_element(By.CSS_SELECTOR, rate_path)\n",
    "\n",
    "# - 예매율 텍스트 추출하기\n",
    "rate_text = rate_element.text\n",
    "rate = rate_text.split()[1][1:4]\n",
    "\n",
    "print(f\"예매순위 : {ranking}위, 예매율 : {rate}%\")"
   ]
  },
  {
   "cell_type": "code",
   "execution_count": 24,
   "id": "486b19e7-f69e-4e78-9e46-1f4d329176a0",
   "metadata": {},
   "outputs": [
    {
     "name": "stdout",
     "output_type": "stream",
     "text": [
      "예매순위 : 5위, 예매율 : 4.7%\n"
     ]
    }
   ],
   "source": [
    "### [예매순위] 및 [예매율] 추출하기\n",
    "temp_path = \"div.info > div.rate > p.cont\"\n",
    "temp_element = driver.find_element(By.CSS_SELECTOR, temp_path)\n",
    "temp_text = temp_element.text\n",
    "rate = temp_text.split(\" \")[1][1:4]\n",
    "ranking = temp_text.split(\" \")[0][0:-1]\n",
    "\n",
    "print(f\"예매순위 : {ranking}위, 예매율 : {rate}%\")"
   ]
  },
  {
   "cell_type": "code",
   "execution_count": 25,
   "id": "550343c6-19e7-440f-b799-5ec003144d26",
   "metadata": {},
   "outputs": [
    {
     "name": "stdout",
     "output_type": "stream",
     "text": [
      "누적관객수 : 1312372명\n"
     ]
    }
   ],
   "source": [
    "### [누적관객수] 추출하기\n",
    "# - 누적관객수 태그 경로 정의 : audience\n",
    "# - 최종 값에서 콤마(,)는 제외하고 숫자만 추출하여 변수에 저장하기\n",
    "audience_path = \"div.info > div.audience > p > em\"\n",
    "\n",
    "# 누적관객수 태그 추출하기\n",
    "audience_element = driver.find_element(By.CSS_SELECTOR, audience_path)\n",
    "\n",
    "# - 누적관객수 텍스트 추출하기\n",
    "audience = audience_element.text.replace(',','')\n",
    "print(f\"누적관객수 : {audience}명\")"
   ]
  },
  {
   "cell_type": "markdown",
   "id": "ce92b9ba-14aa-40b2-892d-e82277dea37a",
   "metadata": {},
   "source": [
    "### [실관람평] 탭을 클릭하여 개별 관련 평점 및 평내용 추출하기"
   ]
  },
  {
   "cell_type": "code",
   "execution_count": 26,
   "id": "bc53e067-e30d-474b-9561-ee8d8463df54",
   "metadata": {},
   "outputs": [],
   "source": [
    "### [실관람평] 탭 클릭을 위한 태그 정보 추출하기\n",
    "try :\n",
    "    movie_tab_path = \"#contentData > div:nth-child(5) > div.tab-list.fixed > ul\"\n",
    "    movie_tab_element = driver.find_element(By.CSS_SELECTOR, movie_tab_path)\n",
    "    ### 더보기 클릭\n",
    "    movie_tab_element.click()\n",
    "            \n",
    "except :\n",
    "    print(\"[더보기] 버튼이 더 이상 보이지 않습니다.\")"
   ]
  },
  {
   "cell_type": "code",
   "execution_count": 29,
   "id": "dc00f2ff-9edc-422f-9c53-f296ae99f723",
   "metadata": {},
   "outputs": [],
   "source": [
    "setWindowPage(driver)"
   ]
  },
  {
   "cell_type": "code",
   "execution_count": null,
   "id": "7c07b291-2c00-4d7f-b2e3-5eb86188258e",
   "metadata": {},
   "outputs": [],
   "source": [
    "### [실관람평] 탭 클릭을 위한 태그 정보 추출하기\n",
    "# - 탭 경로 정의\n",
    "movie_tab_path = \"#contentData > div:nth-child(5) > div.tab-list.fixed > ul > li:nth-child(2) > a\"\n",
    "\n",
    "# - 탭 태그 정보 추출\n",
    "\n",
    "movie_tab_element = driver.find_element(By.CSS_SELECTOR,movie_tab_path)\n",
    "# - 탭 태그 텍스트 추출해 보기\n",
    "\n",
    "print(movie_tab_element.text)\n",
    "# - 탭 태그의 링크 주소(url) 추출해 보기\n",
    "# --> a = {href:\"url\"}\n",
    "# --> BeautifulSoup 방식 : 태그변수[\"href\"]\n",
    "# - 속성의 값 추출하는 함수 : 태그변수.get_attribute(\"속성명\")\n",
    "\n",
    "print(movie_tab_element.get_attribute(\"href\"))"
   ]
  },
  {
   "cell_type": "code",
   "execution_count": null,
   "id": "ab437e13-e08e-4545-9adb-9a3ee9612b60",
   "metadata": {},
   "outputs": [],
   "source": [
    "### [실관람평] 탭 클릭 처리하기\n",
    "movie_tab_element.click()"
   ]
  },
  {
   "cell_type": "code",
   "execution_count": null,
   "id": "d66b2da1-d63c-4442-916c-86ce366a3946",
   "metadata": {},
   "outputs": [],
   "source": [
    "### 클릭 이벤트 처리 후에는 브라우저에 현재 페이지 정보 인식시키기\n",
    "setWindowPage(driver)"
   ]
  },
  {
   "cell_type": "code",
   "execution_count": 35,
   "id": "4722c397-009a-4920-9684-496f839d4cc8",
   "metadata": {},
   "outputs": [
    {
     "name": "stdout",
     "output_type": "stream",
     "text": [
      "개별관람평점 전체 태그 조회 갯수 :  10\n",
      "0번째 개별관람평 평점 : 10\n"
     ]
    }
   ],
   "source": [
    "### [개별 관람평점] 추출하기\n",
    "# - 개별관람평점 태그 경로 정의\n",
    "use_score_path = \"div.story-box > div > div.story-cont > div.story-point > span\"\n",
    "# - 개별관람평점이 있는 모든 태그 정보 추출하기\n",
    "use_score_elements = driver.find_elements(By.CSS_SELECTOR, use_score_path)\n",
    "print(\"개별관람평점 전체 태그 조회 갯수 : \", len(use_score_elements))\n",
    "\n",
    "# - 0번째 태그의 텍스트 값 추출하여 출력해보기\n",
    "use_score = use_score_elements[9].text\n",
    "print(f\"0번째 개별관람평 평점 : {use_score}\")"
   ]
  },
  {
   "cell_type": "code",
   "execution_count": 49,
   "id": "9bf4124c-02ea-4aaf-89d0-9c8a05996f54",
   "metadata": {},
   "outputs": [
    {
     "name": "stdout",
     "output_type": "stream",
     "text": [
      "개별관람평점 전체 댓글 조회 갯수 :  10\n",
      "0번째 개별관람평 내용 : 마블영화지만.재미는 별로 없네요.. 킬링타임용 영화이네요\n"
     ]
    }
   ],
   "source": [
    "### [개별 관람평내용] 추출하기\n",
    "# - 개별관람평내용 태그 경로 정의\n",
    "use_comment_path = \"div.story-area > div.story-box > div > div.story-cont > div.story-txt\"\n",
    "# - 개별관람평내용 있는 모든 태그 정보 추출하기\n",
    "use_comment_elements = driver.find_elements(By.CSS_SELECTOR, use_comment_path)\n",
    "print(\"개별관람평점 전체 댓글 조회 갯수 : \", len(use_comment_elements))\n",
    "\n",
    "# - 0번째 태그의 텍스트 값 추출하여 출력해보기\n",
    "use_comment = use_comment_elements[0].text\n",
    "print(f\"0번째 개별관람평 내용 : {use_comment}\")"
   ]
  },
  {
   "cell_type": "code",
   "execution_count": 50,
   "id": "5c4f6c30-a94c-4d9e-b27e-a12d1f26fdea",
   "metadata": {},
   "outputs": [],
   "source": [
    "### 현재 영화정보에 대한 수집이 완료되면,\n",
    "# - 전체 목록 페이지로 돌아가기 : 이전페이지로 가기\n",
    "driver.execute_script(\"window.history.go(-1)\")\n",
    "# - 이전페이지 로딩되는 시간동안 프로그램 실행 잠시 대기\n",
    "time.sleep(1)"
   ]
  },
  {
   "cell_type": "code",
   "execution_count": null,
   "id": "757252c7-7029-4486-ba3e-29dd2144e49f",
   "metadata": {},
   "outputs": [],
   "source": []
  },
  {
   "cell_type": "code",
   "execution_count": null,
   "id": "42c572bd-5fb5-4dd1-9bee-eb92aa0d813a",
   "metadata": {},
   "outputs": [],
   "source": []
  },
  {
   "cell_type": "code",
   "execution_count": null,
   "id": "80225853-dcf9-4a1f-bce3-e8d8e5156d40",
   "metadata": {},
   "outputs": [],
   "source": [
    "### 전체 목록으로 이동하기\n",
    "driver.execute_script(\"window.history.go(-1)\")\n",
    "time.sleep(1)"
   ]
  },
  {
   "cell_type": "code",
   "execution_count": null,
   "id": "27104987-f796-410b-bda9-a92f4d02a074",
   "metadata": {},
   "outputs": [],
   "source": []
  },
  {
   "cell_type": "code",
   "execution_count": null,
   "id": "3ed986aa-4916-4e1e-ab30-0b9823f8fd02",
   "metadata": {},
   "outputs": [],
   "source": []
  },
  {
   "cell_type": "code",
   "execution_count": null,
   "id": "adc7d068-4e90-41e6-8cce-8b8c59c4058b",
   "metadata": {},
   "outputs": [],
   "source": []
  },
  {
   "cell_type": "code",
   "execution_count": null,
   "id": "cf611e61-2433-444f-89a2-4a45327405a3",
   "metadata": {},
   "outputs": [],
   "source": []
  },
  {
   "cell_type": "code",
   "execution_count": 17,
   "id": "9962686b-139c-481f-9dc7-9591b9bc01c8",
   "metadata": {},
   "outputs": [],
   "source": [
    "### 웹브라우저 종료하기\n",
    "driver.quit()"
   ]
  },
  {
   "cell_type": "code",
   "execution_count": null,
   "id": "de00cb6e-05a2-4424-949f-8d32e9d9910f",
   "metadata": {},
   "outputs": [],
   "source": []
  },
  {
   "cell_type": "code",
   "execution_count": null,
   "id": "ff647a94-38ca-474e-be7c-d0ed6bb0df7c",
   "metadata": {},
   "outputs": [],
   "source": []
  },
  {
   "cell_type": "code",
   "execution_count": null,
   "id": "1985cbc5-87b9-4c10-bdfb-6b6a2fa1822b",
   "metadata": {},
   "outputs": [],
   "source": []
  },
  {
   "cell_type": "code",
   "execution_count": null,
   "id": "c1e59c66-9b1e-43bf-afbc-6d8a390bc775",
   "metadata": {},
   "outputs": [],
   "source": []
  },
  {
   "cell_type": "code",
   "execution_count": null,
   "id": "478f7017-232b-4720-be3c-fcc4432b4849",
   "metadata": {},
   "outputs": [],
   "source": []
  },
  {
   "cell_type": "code",
   "execution_count": null,
   "id": "3b805a48-d1b7-4937-b523-2a8f8aa9499b",
   "metadata": {},
   "outputs": [],
   "source": []
  },
  {
   "cell_type": "code",
   "execution_count": null,
   "id": "5a8e8aca-ef97-4f6f-83d1-a25b2b2fac8a",
   "metadata": {},
   "outputs": [],
   "source": []
  },
  {
   "cell_type": "code",
   "execution_count": null,
   "id": "098103ed-f871-4537-b216-d332596e7b85",
   "metadata": {},
   "outputs": [],
   "source": []
  },
  {
   "cell_type": "code",
   "execution_count": null,
   "id": "5096b6dd-5948-4a04-9720-8b69a5d81969",
   "metadata": {},
   "outputs": [],
   "source": []
  },
  {
   "cell_type": "code",
   "execution_count": null,
   "id": "06f06594-6d95-4fd7-8ce3-38d78e33880b",
   "metadata": {},
   "outputs": [],
   "source": []
  },
  {
   "cell_type": "code",
   "execution_count": null,
   "id": "929ea5fa-3f3b-48c2-a09e-5db6ef81f691",
   "metadata": {},
   "outputs": [],
   "source": []
  }
 ],
 "metadata": {
  "kernelspec": {
   "display_name": "pk_base_202503_kernel",
   "language": "python",
   "name": "pk_base_202503"
  },
  "language_info": {
   "codemirror_mode": {
    "name": "ipython",
    "version": 3
   },
   "file_extension": ".py",
   "mimetype": "text/x-python",
   "name": "python",
   "nbconvert_exporter": "python",
   "pygments_lexer": "ipython3",
   "version": "3.9.21"
  }
 },
 "nbformat": 4,
 "nbformat_minor": 5
}
