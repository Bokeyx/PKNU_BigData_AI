{
 "cells": [
  {
   "cell_type": "code",
   "execution_count": null,
   "id": "25a7b3a8-da9b-416f-9d99-07ba414085b8",
   "metadata": {},
   "outputs": [],
   "source": [
    "\"\"\"\n",
    "<함수(Function, Method)>\n",
    "    - 자주 반복해서 사용해야하는 코드를 미리 하나의 이름으로 정의해 놓은 것\n",
    "    - 자주 반복해서 사용해야하는 기능, 기능은 함수...\n",
    "    - 자주 반복하지 않더라도, 가끔 사용 또는 코드가 너무 긴 경우 사용\n",
    "\n",
    "<함수 작성 순서(정해진 것은 아닙니다.)>\n",
    "    1. 프로그램을 먼저 작성 (절차적으로 테스트)\n",
    "    2. 오류가 없는 상태로 테스트\n",
    "    3. 자주 반복해서 사용되는 부분을 하나의 이름으로 별도로 정의 (함수 정의라고 합니다.)\n",
    "        - 함수 정의 시 가급적 \n",
    "            -> 정의된 숫자값은 사용하지 않기\n",
    "        - 함수를 정의 규칙\n",
    "            -> 함수 이름은 소문자로 시작합니다.\n",
    "            -> 함수 이름 뒤에는 소괄호()가 항상 있습니다.\n",
    "        - 함수 이름 작명할 때\n",
    "            -> getXxx(), setXxx()\n",
    "    4. 정의된 함수를 호출하여 사용 (함수 호출이라고 합니다.)\n",
    "\"\"\""
   ]
  },
  {
   "cell_type": "code",
   "execution_count": 6,
   "id": "85c734a8-ca40-4632-a3cb-b585f92f8776",
   "metadata": {},
   "outputs": [
    {
     "name": "stdout",
     "output_type": "stream",
     "text": [
      "38\n"
     ]
    }
   ],
   "source": [
    "a = 30\n",
    "b = 8\n",
    "tot = a + b\n",
    "\n",
    "### 출력 함수\n",
    "# - print(인자)\n",
    "# - 인자(넘겨주는 쪽, 호출하는 쪽) 또는 매개변수(받는 쪽, 정의된 함수 쪽에서 받습니다.)\n",
    "# - 인자와 매개변수를 통칭해서 파라미터(parameter)라고 칭하겠습니다\n",
    "print(tot)"
   ]
  },
  {
   "cell_type": "code",
   "execution_count": 7,
   "id": "10b9777d-9335-4796-a7b3-776fb8836a99",
   "metadata": {},
   "outputs": [
    {
     "name": "stdout",
     "output_type": "stream",
     "text": [
      "48\n"
     ]
    }
   ],
   "source": [
    "a = 40\n",
    "b = 8\n",
    "tot = a + b\n",
    "\n",
    "print(tot)"
   ]
  },
  {
   "cell_type": "code",
   "execution_count": 8,
   "id": "27adc17b-a9fd-4b46-9ce8-8b60d9e40aa9",
   "metadata": {},
   "outputs": [],
   "source": [
    "### 함수 정의하기(User Define Function : UDF(사용자 정의 함수) 문서)\n",
    "# - 수행하는 기능 : a와 b의 값을 합해서 화면에 출력해주는 기능## 함수 정의하기(User Define Function : UDF(사용자 정의 함수) 문서)\n",
    "# - 수행하는 기능 : a와 b의 값을 합해서 화면에 출력해주는 기능\n",
    "def showPlus() :\n",
    "    a = 30\n",
    "    b = 8\n",
    "    tot = a + b\n",
    "    \n",
    "    print(tot)"
   ]
  },
  {
   "cell_type": "code",
   "execution_count": 9,
   "id": "affde890-31ae-4ae6-b3f6-03d5d56f35ad",
   "metadata": {},
   "outputs": [
    {
     "name": "stdout",
     "output_type": "stream",
     "text": [
      "38\n"
     ]
    }
   ],
   "source": [
    "showPlus()"
   ]
  },
  {
   "cell_type": "code",
   "execution_count": 10,
   "id": "da8161d9-2590-4a8f-b1c5-02bc1a4ca055",
   "metadata": {},
   "outputs": [],
   "source": [
    "### 매개변수(파라미터) 사용\n",
    "def showPlus(a, b) :\n",
    "    # a = 30\n",
    "    # b = 8\n",
    "    tot = a + b\n",
    "    \n",
    "    print(tot)"
   ]
  },
  {
   "cell_type": "code",
   "execution_count": 12,
   "id": "e59bf111-8a70-4870-8d1d-2ef79cd9801f",
   "metadata": {},
   "outputs": [
    {
     "name": "stdout",
     "output_type": "stream",
     "text": [
      "26\n"
     ]
    }
   ],
   "source": [
    "### 함수 호출\n",
    "showPlus(11, 15)"
   ]
  },
  {
   "cell_type": "code",
   "execution_count": 27,
   "id": "4942748c-44f3-40d3-80f3-542f54fd8a3d",
   "metadata": {},
   "outputs": [],
   "source": [
    "### 매개변수(파라미터) + 반환(리턴, return) 사용 함수 정의\n",
    "def getPlus(a, b) :\n",
    "    # a = 30\n",
    "    # b = 8\n",
    "    tot = a + b\n",
    "    \n",
    "    # print(tot)\n",
    "\n",
    "    ### 반환 (리턴, return)\n",
    "    # - 함수를 호출한 사용자 코드에 값을 다시 전달해 줍니다.\n",
    "    return tot"
   ]
  },
  {
   "cell_type": "code",
   "execution_count": 28,
   "id": "ac935572-35e7-462b-b01a-3f945183bba9",
   "metadata": {},
   "outputs": [
    {
     "data": {
      "text/plain": [
       "6660"
      ]
     },
     "execution_count": 28,
     "metadata": {},
     "output_type": "execute_result"
    }
   ],
   "source": [
    "rs_tot = getPlus(44, 50)\n",
    "rs_tot + 6566"
   ]
  },
  {
   "cell_type": "code",
   "execution_count": 29,
   "id": "c55b8cdd-2bb1-48af-a0d3-52d4c882deb4",
   "metadata": {},
   "outputs": [],
   "source": [
    "### 매개변수(파라미터) + 반환(리턴, return) 사용 함수 정의\n",
    "# - 파라미터에 디폴트(default)값을 미리 정의해 놓기\n",
    "#    --> 디폴트 값은 보통 자주 사용되는 값이 있는 경우에 정의하거나,\n",
    "#    --> 초기값(0 또는 \"\")을 정의해 놓고 사용하고자 할 때 미리 정의해서 사용함\n",
    "# - range(0, 100, 1) == range(100)\n",
    "def getPlus(a=5, b=10) :\n",
    "    # a = 30\n",
    "    # b = 8\n",
    "    tot = a + b\n",
    "    \n",
    "    # print(tot)\n",
    "\n",
    "    ### 반환 (리턴, return)\n",
    "    # - 함수를 호출한 사용자 코드에 값을 다시 전달해 줍니다.\n",
    "    return tot"
   ]
  },
  {
   "cell_type": "code",
   "execution_count": 31,
   "id": "139ee122-23bc-490a-9c1a-41b1f522016e",
   "metadata": {},
   "outputs": [
    {
     "data": {
      "text/plain": [
       "60"
      ]
     },
     "execution_count": 31,
     "metadata": {},
     "output_type": "execute_result"
    }
   ],
   "source": [
    "getPlus()\n",
    "getPlus(50)"
   ]
  },
  {
   "cell_type": "code",
   "execution_count": 34,
   "id": "c3af62a0-a5b6-4c96-9214-4d34e3056ef7",
   "metadata": {},
   "outputs": [],
   "source": [
    "### 여러개의 값들을 반환(리턴)하는 함수 정의\n",
    "def getPlus(a=5, b=10) :\n",
    "    # a = 30\n",
    "    # b = 8\n",
    "    tot = a + b\n",
    "    \n",
    "    # print(tot)\n",
    "\n",
    "    ### 반환 (리턴, return)\n",
    "    # - 함수를 호출한 사용자 코드에 값을 다시 전달해 줍니다.\n",
    "    return tot, a, b"
   ]
  },
  {
   "cell_type": "code",
   "execution_count": 36,
   "id": "87cdc859-fff5-4159-be49-377983edc536",
   "metadata": {},
   "outputs": [
    {
     "name": "stdout",
     "output_type": "stream",
     "text": [
      "66 11 55\n"
     ]
    }
   ],
   "source": [
    "### 여러개의 값을 반환 받을 때 사용....\n",
    "tot1, a1, b1 = getPlus(11, 55)\n",
    "print(tot1, a1, b1)"
   ]
  },
  {
   "cell_type": "code",
   "execution_count": null,
   "id": "f23e9b9c-bb0f-47c4-a601-776e331c6cfc",
   "metadata": {},
   "outputs": [],
   "source": [
    "\"\"\"\n",
    "* 산술연산(+, -, *, /, //, %)을 수행하는 기능(함수) 정의하기\n",
    "    - 함수 이름 : getMath\n",
    "    - 파라미터 : 직접 고민하기\n",
    "    - 함수 기능\n",
    "        : 더하기 연산을 하고 싶은 경우에는 더한 값을 리턴 하기\n",
    "        : 빼기 연산을 하고 싶은 경우에는 더한 값을 리턴 하기\n",
    "        : 곱하기, 나누기, 나눈몫, 나눈나머지 모두 위와 동일하게 처리\n",
    "\"\"\""
   ]
  },
  {
   "cell_type": "code",
   "execution_count": 86,
   "id": "6940eff6-e5de-4a72-82a7-5d23ebfc7865",
   "metadata": {},
   "outputs": [],
   "source": [
    "msg = \"\"\"아래 번호 중에 하나를 선택하여 주세요(번호로 입력)\n",
    "0. 종료\n",
    "1. 더하기\n",
    "2. 빼기\n",
    "3. 곱하기\n",
    "4. 나누기\n",
    "5. 나눈 몫\n",
    "6. 나눈 나머지\n",
    "\"\"\"\n",
    "\n",
    "def getMath(a=0, b=0) :\n",
    "\n",
    "    while True :\n",
    "        num = int(input(msg))\n",
    "\n",
    "        if num == 0 :\n",
    "            print(\"종료합니다.\")\n",
    "            break\n",
    "\n",
    "        elif num == 1 :\n",
    "            a = int(input(\"더하고 싶은 값 a를 입력해 주세요.\"))\n",
    "            b = int(input(\"더하고 싶은 값 b를 입력해 주세요\"))\n",
    "            p = a + b\n",
    "            return(f\"{p}는 더하기를 한 결과 값입니다.\")\n",
    "\n",
    "        elif num == 2 :\n",
    "            a = int(input(\"빼고 싶은 값 a를 입력해 주세요.\"))\n",
    "            b = int(input(\"빼고 싶은 값 b를 입력해 주세요\"))\n",
    "            m = a - b\n",
    "            return(f\"{m}는 빼기를 한 결과 값입니다.\")\n",
    "\n",
    "        elif num == 3 :\n",
    "            a = int(input(\"곱하고 싶은 값 a를 입력해 주세요.\"))\n",
    "            b = int(input(\"곱하고 싶은 값 b를 입력해 주세요\"))\n",
    "            x = a * b\n",
    "            return(f\"{x}는 곱하기 한 결과 값입니다.\")\n",
    "            \n",
    "        elif num == 4 :\n",
    "            a = int(input(\"나누고 싶은 값 a를 입력해 주세요.\"))\n",
    "            b = int(input(\"나누고 싶은 값 b를 입력해 주세요\"))\n",
    "            d = a / b\n",
    "            return(f\"{d}는 나누기를 한 결과 값입니다.\")\n",
    "\n",
    "        elif num == 5 :\n",
    "            a = int(input(\"나누고 싶은 값 a를 입력해 주세요.\"))\n",
    "            b = int(input(\"나누고 싶은 값 b를 입력해 주세요\"))\n",
    "            dt = a // b\n",
    "            return(f\"{dt}는 나누기를 한 결과 값은 몫 입니다.\")\n",
    "\n",
    "        elif num == 6 :\n",
    "            a = int(input(\"나누고 싶은 값 a를 입력해 주세요.\"))\n",
    "            b = int(input(\"나누고 싶은 값 b를 입력해 주세요\"))\n",
    "            dl = a % b\n",
    "            return(f\"{dl}는 나누기를 한 결과 값은 나머지 입니다.\")\n",
    "\n",
    "        else :\n",
    "            print(\"\\n\\n++++++++++오류++++++++++\\n\\n\")\n",
    "\n",
    "    \n",
    "    return\n"
   ]
  },
  {
   "cell_type": "code",
   "execution_count": 87,
   "id": "a653cbff-055f-4a8b-9c42-7074c3bb5524",
   "metadata": {},
   "outputs": [
    {
     "name": "stdin",
     "output_type": "stream",
     "text": [
      "아래 번호 중에 하나를 선택하여 주세요(번호로 입력)\n",
      "0. 종료\n",
      "1. 더하기\n",
      "2. 빼기\n",
      "3. 곱하기\n",
      "4. 나누기\n",
      "5. 나눈 몫\n",
      "6. 나눈 나머지\n",
      " 8\n"
     ]
    },
    {
     "name": "stdout",
     "output_type": "stream",
     "text": [
      "\n",
      "\n",
      "++++++++++오류++++++++++\n",
      "\n",
      "\n"
     ]
    },
    {
     "name": "stdin",
     "output_type": "stream",
     "text": [
      "아래 번호 중에 하나를 선택하여 주세요(번호로 입력)\n",
      "0. 종료\n",
      "1. 더하기\n",
      "2. 빼기\n",
      "3. 곱하기\n",
      "4. 나누기\n",
      "5. 나눈 몫\n",
      "6. 나눈 나머지\n",
      " 1\n",
      "더하고 싶은 값 a를 입력해 주세요. 4\n",
      "더하고 싶은 값 b를 입력해 주세요 10\n"
     ]
    },
    {
     "data": {
      "text/plain": [
       "'14는 더하기를 한 결과 값입니다.'"
      ]
     },
     "execution_count": 87,
     "metadata": {},
     "output_type": "execute_result"
    }
   ],
   "source": [
    "getMath()"
   ]
  },
  {
   "cell_type": "code",
   "execution_count": null,
   "id": "3e223de8-d820-490a-b523-1ca3acb88d28",
   "metadata": {},
   "outputs": [],
   "source": [
    "def getMath2(mode, a, b) :\n",
    "    if mode == \"+\" :\n",
    "        tot = a + b\n",
    "    elif mode == \"-\" :\n",
    "        tot = a - b\n",
    "    elif mode == \"*\" :\n",
    "        tot = a * b\n",
    "    elif mode == \"/\" :\n",
    "        tot = a / b\n",
    "    elif mode == \"//\" :\n",
    "        tot = a // b\n",
    "    elif mode == \"%\" :\n",
    "        tot = a % b\n",
    "    else :\n",
    "        print(\"잘못된 구분자 입니다.\")\n",
    "        tot = 0\n",
    "    return tot"
   ]
  },
  {
   "cell_type": "code",
   "execution_count": null,
   "id": "69d42f28-75f9-4114-ace4-edc4e502394f",
   "metadata": {},
   "outputs": [],
   "source": []
  },
  {
   "cell_type": "code",
   "execution_count": 16,
   "id": "d2c2e0d0-7e9f-4c6a-91fc-3841dc318f91",
   "metadata": {},
   "outputs": [
    {
     "name": "stdout",
     "output_type": "stream",
     "text": [
      "8 x 1 = 8\n",
      "8 x 2 = 16\n",
      "8 x 3 = 24\n",
      "8 x 4 = 32\n",
      "8 x 5 = 40\n",
      "8 x 6 = 48\n",
      "8 x 7 = 56\n",
      "8 x 8 = 64\n",
      "8 x 9 = 72\n"
     ]
    }
   ],
   "source": [
    "\"\"\"\n",
    "함수는 만들지 마시고...\n",
    "    - 구구단 출력하기\n",
    "        -- 단, 원하는 단 하나에 대해서만 출력하기\n",
    "\"\"\"\n",
    "dan = 8\n",
    "\n",
    "for n in range(1, 10, 1) :\n",
    "    print(f\"{dan} x {n} = {dan * n}\")"
   ]
  },
  {
   "cell_type": "code",
   "execution_count": 17,
   "id": "c187aee5-378c-4def-bcbd-42b1ba12e2b7",
   "metadata": {},
   "outputs": [],
   "source": [
    "### 위의 구구단 예제를 함수로 만들어 주세요\n",
    "# - 함수명 : PrintGDan\n",
    "# - 함수 기능 : 임의 단을 전달 받아서 출력하는 기능 수행\n",
    "def PrintGDan(dan) :\n",
    "    for n in range(1, 10, 1) :\n",
    "        print(f\"{dan} x {n} = {dan * n}\")"
   ]
  },
  {
   "cell_type": "code",
   "execution_count": 18,
   "id": "64e5788e-b1b5-47f0-a5cd-2c1305410e43",
   "metadata": {},
   "outputs": [
    {
     "name": "stdout",
     "output_type": "stream",
     "text": [
      "5 x 1 = 5\n",
      "5 x 2 = 10\n",
      "5 x 3 = 15\n",
      "5 x 4 = 20\n",
      "5 x 5 = 25\n",
      "5 x 6 = 30\n",
      "5 x 7 = 35\n",
      "5 x 8 = 40\n",
      "5 x 9 = 45\n"
     ]
    }
   ],
   "source": [
    "### 함수 호출하기\n",
    "PrintGDan(5)"
   ]
  },
  {
   "cell_type": "code",
   "execution_count": 33,
   "id": "1210ccbb-38c2-4aea-abcd-303534ca0027",
   "metadata": {},
   "outputs": [
    {
     "name": "stdout",
     "output_type": "stream",
     "text": [
      "홍길동\n",
      "이순신\n",
      "김유신\n"
     ]
    }
   ],
   "source": [
    "\"\"\"\n",
    "temp_list = [\"홍길동\", \"이순신\", \"김유신\"]\n",
    "\n",
    "    - 임의 리스트 변수를 전달 받아서 각 데이터를 출력하는 함수 정의하기\n",
    "    - 함수명 : printList\n",
    "\"\"\"\n",
    "temp_list = [\"홍길동\", \"이순신\", \"김유신\"]\n",
    "\n",
    "for val in temp_list :\n",
    "    print(val)"
   ]
  },
  {
   "cell_type": "code",
   "execution_count": 34,
   "id": "8d10a180-ed3e-4c99-b520-9da819b40d4b",
   "metadata": {},
   "outputs": [],
   "source": [
    "### 함수정의\n",
    "def printList(temp_list) :\n",
    "    for val in temp_list :\n",
    "        print(val)"
   ]
  },
  {
   "cell_type": "code",
   "execution_count": 35,
   "id": "7138c719-d457-4c76-8d64-af3e7f20d5bb",
   "metadata": {},
   "outputs": [
    {
     "name": "stdout",
     "output_type": "stream",
     "text": [
      "홍길동\n",
      "이순신\n",
      "김유신\n"
     ]
    }
   ],
   "source": [
    "### 함수 호출하기\n",
    "temp_list = [\"홍길동\", \"이순신\", \"김유신\"]\n",
    "printList(temp_list=temp_list)"
   ]
  },
  {
   "cell_type": "code",
   "execution_count": 25,
   "id": "4b04a19e-8823-48a9-8629-e99c91e2eb57",
   "metadata": {},
   "outputs": [],
   "source": [
    "printList([])"
   ]
  },
  {
   "cell_type": "code",
   "execution_count": null,
   "id": "b52279b6-31c3-4ba5-be22-17df619311ab",
   "metadata": {},
   "outputs": [],
   "source": [
    "\"\"\"\n",
    "위의 임의 리스트 변수 temp_list를 사용해서....\n",
    "    - 임의 리스트 변수를 전달 받아서 임의 값을 추가하는 함수 정의\n",
    "    - 함수명 : setAppendList\n",
    "\"\"\""
   ]
  },
  {
   "cell_type": "code",
   "execution_count": 42,
   "id": "b3d730e3-58ad-44e3-9192-f2f01bbc3c2e",
   "metadata": {},
   "outputs": [
    {
     "name": "stdout",
     "output_type": "stream",
     "text": [
      "홍길동\n",
      "이순신\n",
      "김유신\n",
      "홍길동2\n"
     ]
    }
   ],
   "source": [
    "temp_list = [\"홍길동\", \"이순신\", \"김유신\"]\n",
    "add_name = \"홍길동2\"\n",
    "temp_list.append(add_name)\n",
    "\n",
    "printList(temp_list)"
   ]
  },
  {
   "cell_type": "code",
   "execution_count": 43,
   "id": "42bc18d7-861e-480a-8293-c3fd902156fd",
   "metadata": {},
   "outputs": [],
   "source": [
    "def setAppendList(p_list, p_name) :\n",
    "    p_list.append(p_name)"
   ]
  },
  {
   "cell_type": "code",
   "execution_count": 45,
   "id": "3ef4a879-c645-4157-be56-8dd2a19f994e",
   "metadata": {},
   "outputs": [],
   "source": [
    "temp_list = [\"홍길동\", \"이순신\", \"김유신\"]\n",
    "### 함수 호출\n",
    "setAppendList(p_list=temp_list, p_name=\"김유신2\")"
   ]
  },
  {
   "cell_type": "code",
   "execution_count": 46,
   "id": "d152f67b-cf0d-4fbe-b1cb-9559dbe897c3",
   "metadata": {},
   "outputs": [
    {
     "name": "stdout",
     "output_type": "stream",
     "text": [
      "홍길동\n",
      "이순신\n",
      "김유신\n",
      "김유신2\n"
     ]
    }
   ],
   "source": [
    "### 리스트에 값이 잘 추가되었는지 확인하는 함수 호출\n",
    "printList(temp_list=temp_list)"
   ]
  },
  {
   "cell_type": "code",
   "execution_count": null,
   "id": "9a23adde-87bf-4efd-bcbe-91b2bcd88707",
   "metadata": {},
   "outputs": [],
   "source": [
    "\"\"\"\n",
    "구구단 함수 만들기\n",
    "    - 함수명 : printGDan2\n",
    "    - 기능\n",
    "        : 임의의 시작단과 끝단 전달 받기\n",
    "        : 곱하기를 할 시작값과 끝값 전달 받기\n",
    "        : 시작단부터 끝단까지의 곱할 시작값과 끝값을 곱하여 출력하기..\n",
    "    - 예시\n",
    "        --> 시작단은 2 , 끝단은 3을 전달받고,\n",
    "            곱할 시작값을 5, 끝값을 9를 전달 받았다면,,,\n",
    "            2 x 5 = 10\n",
    "               ...\n",
    "            2 x 9 = 18\n",
    "            ----------\n",
    "            3 x 5 = 15\n",
    "               ...\n",
    "            3 x 9 = 27\n",
    "\"\"\""
   ]
  },
  {
   "cell_type": "code",
   "execution_count": 71,
   "id": "d468bf57-7f9f-4e3c-87ee-b66658733e57",
   "metadata": {},
   "outputs": [],
   "source": [
    "### 함수정의\n",
    "def printGDan2(s_dan, e_dan, s_mul, e_mul):\n",
    "\n",
    "    for dan in range(s_dan, e_dan + 1) :\n",
    "        print(f\"[ {dan}단 ]\")\n",
    "        \n",
    "        for mul in range(s_mul, e_mul + 1) :\n",
    "            print(f\"{dan} x {mul} = {dan * mul}\")"
   ]
  },
  {
   "cell_type": "code",
   "execution_count": 72,
   "id": "9603a56a-2bc3-4ee4-9e99-80fe16d89cda",
   "metadata": {},
   "outputs": [
    {
     "name": "stdout",
     "output_type": "stream",
     "text": [
      "[ 8단 ]\n",
      "8 x 7 = 56\n",
      "8 x 8 = 64\n",
      "8 x 9 = 72\n",
      "[ 9단 ]\n",
      "9 x 7 = 63\n",
      "9 x 8 = 72\n",
      "9 x 9 = 81\n"
     ]
    }
   ],
   "source": [
    "### 호출하기\n",
    "printGDan2(s_dan=8, e_dan=9, s_mul=7, e_mul=9)"
   ]
  },
  {
   "cell_type": "code",
   "execution_count": 74,
   "id": "a8d83eb8-9004-4583-8155-f79fc549d7a8",
   "metadata": {},
   "outputs": [],
   "source": [
    "### 임의 여러개의 값을 매개변수로 받아와야 하는 경우\n",
    "# - 정해지지 않은 갯수...\n",
    "# - 이때 매개변수명 앞에 별(*)을 붙여서 받아 옵니다.\n",
    "# - *로 받은 타입은 -> 튜플 타입 입니다.\n",
    "def getTotSum(*num) :\n",
    "    print(num)"
   ]
  },
  {
   "cell_type": "code",
   "execution_count": 86,
   "id": "2f37e11b-e272-46b0-a78d-30fbd1ad9321",
   "metadata": {},
   "outputs": [
    {
     "name": "stdout",
     "output_type": "stream",
     "text": [
      "(1, 2, 3, 4, 5, 6, 7, 8, 9, 10)\n"
     ]
    }
   ],
   "source": [
    "getTotSum(1, 2, 3, 4, 5, 6)"
   ]
  },
  {
   "cell_type": "code",
   "execution_count": 87,
   "id": "f2f30328-0cf6-4856-a7e9-20078389640c",
   "metadata": {},
   "outputs": [],
   "source": [
    "### 위 함수(getTotSum)를 수정하셔서,\n",
    "# -> 1부터 10까지의 총합을 계산한 후\n",
    "# -> 총합의 결과값을 리번(반환)\n",
    "# -> 반환 받은 결과를 출력"
   ]
  },
  {
   "cell_type": "code",
   "execution_count": 110,
   "id": "898bde52-5548-4b8f-8953-d499735ff00b",
   "metadata": {},
   "outputs": [],
   "source": [
    "def getTotSum(*num) :\n",
    "    tot = 0\n",
    "    for num in range(1, 11, 1) :\n",
    "        tot += num\n",
    "    return tot"
   ]
  },
  {
   "cell_type": "code",
   "execution_count": 111,
   "id": "23f6d5bf-8312-4ac2-a8ab-54a472c9ffdf",
   "metadata": {},
   "outputs": [
    {
     "data": {
      "text/plain": [
       "55"
      ]
     },
     "execution_count": 111,
     "metadata": {},
     "output_type": "execute_result"
    }
   ],
   "source": [
    "getTotSum()"
   ]
  },
  {
   "cell_type": "code",
   "execution_count": 112,
   "id": "89a10ef1-f110-45a0-ba2b-1589bedf0a72",
   "metadata": {},
   "outputs": [
    {
     "data": {
      "text/plain": [
       "55"
      ]
     },
     "execution_count": 112,
     "metadata": {},
     "output_type": "execute_result"
    }
   ],
   "source": [
    "getTotSum(1, 2, 3, 4, 5, 6, 7, 8, 9, 10)"
   ]
  },
  {
   "cell_type": "code",
   "execution_count": 113,
   "id": "91beee0a-49bc-4da3-956f-e4a280517461",
   "metadata": {},
   "outputs": [],
   "source": [
    "def getTotSum(*num) :\n",
    "    tot = sum(num)\n",
    "    return tot"
   ]
  },
  {
   "cell_type": "code",
   "execution_count": 114,
   "id": "1d4a28db-b1ed-4c6d-86d5-8ac32c663e21",
   "metadata": {},
   "outputs": [
    {
     "data": {
      "text/plain": [
       "55"
      ]
     },
     "execution_count": 114,
     "metadata": {},
     "output_type": "execute_result"
    }
   ],
   "source": [
    "getTotSum(1, 2, 3, 4, 5, 6, 7, 8, 9, 10)"
   ]
  },
  {
   "cell_type": "code",
   "execution_count": 115,
   "id": "fb973f27-7918-4bae-ba0d-e5f875e4703a",
   "metadata": {},
   "outputs": [],
   "source": [
    "### 문자열로 여러개 값 받아오기\n",
    "def getString(*string) :\n",
    "    print(string)"
   ]
  },
  {
   "cell_type": "code",
   "execution_count": 147,
   "id": "9f7fd8cd-e426-431c-a21a-b890a0bb291d",
   "metadata": {},
   "outputs": [
    {
     "data": {
      "text/plain": [
       "('홍길동', '이순신', '김유신')"
      ]
     },
     "execution_count": 147,
     "metadata": {},
     "output_type": "execute_result"
    }
   ],
   "source": [
    "getString(\"홍길동\", \"이순신\", \"김유신\")"
   ]
  },
  {
   "cell_type": "code",
   "execution_count": 156,
   "id": "a4d00bf3-4bd2-4123-8723-e869cf738f68",
   "metadata": {},
   "outputs": [],
   "source": [
    "### setAppendList함수와 getString 함수를 이용해서\n",
    "# 이름 여러개의 튜플 타입을 임의 리스트에 추가하기\n",
    "# 임의 리스트 변수명 : list_temp\n",
    "\n",
    "list_temp = []\n",
    "# 추가할 값 = \"홍길동\", \"이순신\", \"김유신\"\n",
    "\n",
    "### 함수 정의하기\n",
    "def setAppendList(a_list, a_name) :\n",
    "    a_list.append(a_name)\n",
    "    \n",
    "### 문자열로 여러개 값 받아오기\n",
    "def getString(*string) :\n",
    "        return string"
   ]
  },
  {
   "cell_type": "code",
   "execution_count": 159,
   "id": "ae0c41cb-4894-4b5b-83bd-ce1714e4d01a",
   "metadata": {},
   "outputs": [],
   "source": [
    "list_temp = []\n",
    "# rs_tuple = getString(\"홍길동\", \"이순신\", \"김유신\")\n",
    "# setAppendList(a_list=list_temp, a_name=rs_tuple)\n",
    "\n",
    "setAppendList(a_list=list_temp, a_name=getString(\"홍길동\", \"이순신\", \"김유신\"))"
   ]
  },
  {
   "cell_type": "code",
   "execution_count": 160,
   "id": "58c414d4-0a78-4ad0-ba8f-69270ed30953",
   "metadata": {},
   "outputs": [
    {
     "data": {
      "text/plain": [
       "[('홍길동', '이순신', '김유신')]"
      ]
     },
     "execution_count": 160,
     "metadata": {},
     "output_type": "execute_result"
    }
   ],
   "source": [
    "list_temp"
   ]
  },
  {
   "cell_type": "code",
   "execution_count": 162,
   "id": "e520554f-8ef0-40af-9cb5-d11aeefdbdff",
   "metadata": {},
   "outputs": [],
   "source": [
    "### 임의 여러개의 key=value 형태의 값들을 묶어서 받아오기\n",
    "# - 별 기호(**)를 2개 사용합니다.\n",
    "# - **의 의미 : key=value로 전달받은 값들을 딕셔너리 타입으로 처리합니다.\n",
    "def getDict(**info) :\n",
    "    print(info)"
   ]
  },
  {
   "cell_type": "code",
   "execution_count": 164,
   "id": "edf7de12-e54a-462f-a94f-fd0b381f09ec",
   "metadata": {},
   "outputs": [
    {
     "name": "stdout",
     "output_type": "stream",
     "text": [
      "{'name': '홍길동', 'age': 30, 'area': '부산'}\n"
     ]
    }
   ],
   "source": [
    "getDict(name = \"홍길동\", age = 30, area = \"부산\")"
   ]
  },
  {
   "cell_type": "code",
   "execution_count": null,
   "id": "a8bb8d85-383a-4c6b-b291-a0795353aa8a",
   "metadata": {},
   "outputs": [],
   "source": [
    "### 위에서 사용한 setAppendList 함수와 getDict 함수를 이용해서\n",
    "# - 사용자 정보(name = \"홍길동\", age = 30, area = \"부산\")를 딕셔너리 타입으로\n",
    "# - 리스트에 추가해 주세요...\n",
    "# - 리스트 변수명 : list_temp = []"
   ]
  },
  {
   "cell_type": "code",
   "execution_count": 170,
   "id": "23edc429-caa6-49dd-a3ee-314de490dae2",
   "metadata": {},
   "outputs": [],
   "source": [
    "def getDict(**info) :\n",
    "    return info"
   ]
  },
  {
   "cell_type": "code",
   "execution_count": 171,
   "id": "f15a4202-6ea0-4ef9-b528-5a0ee617dbce",
   "metadata": {},
   "outputs": [],
   "source": [
    "list_temp = []\n",
    "\n",
    "setAppendList(list_temp, getDict(name = \"홍길동\", age = 30, area = \"부산\"))"
   ]
  },
  {
   "cell_type": "code",
   "execution_count": 172,
   "id": "2f8b5b1c-935b-43ee-a4f4-570632470e7d",
   "metadata": {},
   "outputs": [
    {
     "data": {
      "text/plain": [
       "[{'name': '홍길동', 'age': 30, 'area': '부산'}]"
      ]
     },
     "execution_count": 172,
     "metadata": {},
     "output_type": "execute_result"
    }
   ],
   "source": [
    "list_temp"
   ]
  },
  {
   "cell_type": "code",
   "execution_count": null,
   "id": "2a3d057e-74b6-4a5b-bcd4-83858bc1bf60",
   "metadata": {},
   "outputs": [],
   "source": []
  },
  {
   "cell_type": "code",
   "execution_count": null,
   "id": "c3b06fb6-cd2d-4752-aa09-089c78bdacf9",
   "metadata": {},
   "outputs": [],
   "source": []
  },
  {
   "cell_type": "code",
   "execution_count": null,
   "id": "094aa296-a367-4df1-a122-5574d9222f42",
   "metadata": {},
   "outputs": [],
   "source": []
  },
  {
   "cell_type": "code",
   "execution_count": null,
   "id": "96ade82e-e4b1-4903-ab97-cb0b15fa0ae7",
   "metadata": {},
   "outputs": [],
   "source": []
  },
  {
   "cell_type": "code",
   "execution_count": null,
   "id": "6a51912d-fa8b-49ee-9ed4-291333ac36fa",
   "metadata": {},
   "outputs": [],
   "source": []
  },
  {
   "cell_type": "code",
   "execution_count": null,
   "id": "0c2eed49-60e3-4494-be1a-b8f3b2e12041",
   "metadata": {},
   "outputs": [],
   "source": []
  },
  {
   "cell_type": "code",
   "execution_count": null,
   "id": "370538c7-b921-4880-9764-bd3d21b5abc6",
   "metadata": {},
   "outputs": [],
   "source": []
  },
  {
   "cell_type": "code",
   "execution_count": null,
   "id": "8bceaba0-a379-478f-9489-9dfa7a87de88",
   "metadata": {},
   "outputs": [],
   "source": []
  },
  {
   "cell_type": "code",
   "execution_count": null,
   "id": "1516c000-522f-436c-a4f6-6610ce97c7f6",
   "metadata": {},
   "outputs": [],
   "source": []
  },
  {
   "cell_type": "code",
   "execution_count": null,
   "id": "eb67e3a9-f9e9-4409-800e-54255f1e6fe5",
   "metadata": {},
   "outputs": [],
   "source": []
  },
  {
   "cell_type": "code",
   "execution_count": null,
   "id": "851b9640-d582-4563-ac18-468df75138c1",
   "metadata": {},
   "outputs": [],
   "source": []
  },
  {
   "cell_type": "code",
   "execution_count": null,
   "id": "3aed6170-cb55-48d3-8c05-f2402add19fc",
   "metadata": {},
   "outputs": [],
   "source": []
  },
  {
   "cell_type": "code",
   "execution_count": null,
   "id": "89d94ea6-6a93-4594-ae06-bde8a16ae756",
   "metadata": {},
   "outputs": [],
   "source": []
  },
  {
   "cell_type": "code",
   "execution_count": null,
   "id": "daa78e84-78f3-4462-a6ae-9dbbd63e166d",
   "metadata": {},
   "outputs": [],
   "source": []
  },
  {
   "cell_type": "code",
   "execution_count": null,
   "id": "a98547ac-b426-49c9-b22d-3d84f6291a4d",
   "metadata": {},
   "outputs": [],
   "source": []
  },
  {
   "cell_type": "code",
   "execution_count": null,
   "id": "7744d575-1caa-4fea-a9a0-590588c6a53a",
   "metadata": {},
   "outputs": [],
   "source": []
  },
  {
   "cell_type": "code",
   "execution_count": null,
   "id": "6487982c-3144-4dd7-8844-33dae7b65e77",
   "metadata": {},
   "outputs": [],
   "source": []
  },
  {
   "cell_type": "code",
   "execution_count": null,
   "id": "a930a103-8684-4fb3-91d9-81894c4c8c01",
   "metadata": {},
   "outputs": [],
   "source": []
  },
  {
   "cell_type": "code",
   "execution_count": null,
   "id": "44973fe5-45cd-4d26-9590-a75a8774542f",
   "metadata": {},
   "outputs": [],
   "source": []
  },
  {
   "cell_type": "code",
   "execution_count": null,
   "id": "6c484bb5-36ec-44e2-b398-73961802c384",
   "metadata": {},
   "outputs": [],
   "source": []
  },
  {
   "cell_type": "code",
   "execution_count": null,
   "id": "133dfa19-ed53-4714-8d27-597e299756a6",
   "metadata": {},
   "outputs": [],
   "source": []
  },
  {
   "cell_type": "code",
   "execution_count": null,
   "id": "8998875f-aa9f-4860-9999-f546f717e942",
   "metadata": {},
   "outputs": [],
   "source": []
  },
  {
   "cell_type": "code",
   "execution_count": null,
   "id": "b8070503-3873-4f4b-9ad9-77351e3973bd",
   "metadata": {},
   "outputs": [],
   "source": []
  },
  {
   "cell_type": "code",
   "execution_count": null,
   "id": "2ebde97d-8d9d-436d-8329-34484aa58b92",
   "metadata": {},
   "outputs": [],
   "source": []
  },
  {
   "cell_type": "code",
   "execution_count": null,
   "id": "03324531-e49b-41ec-9914-94a911ffd9a8",
   "metadata": {},
   "outputs": [],
   "source": []
  }
 ],
 "metadata": {
  "kernelspec": {
   "display_name": "pk_base_202503_kernel",
   "language": "python",
   "name": "pk_base_202503"
  },
  "language_info": {
   "codemirror_mode": {
    "name": "ipython",
    "version": 3
   },
   "file_extension": ".py",
   "mimetype": "text/x-python",
   "name": "python",
   "nbconvert_exporter": "python",
   "pygments_lexer": "ipython3",
   "version": "3.9.21"
  }
 },
 "nbformat": 4,
 "nbformat_minor": 5
}
