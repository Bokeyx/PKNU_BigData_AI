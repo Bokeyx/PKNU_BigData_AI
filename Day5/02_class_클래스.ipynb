{
 "cells": [
  {
   "cell_type": "code",
   "execution_count": null,
   "id": "4f287b82-5e48-4519-a930-cc526a072652",
   "metadata": {},
   "outputs": [],
   "source": []
  },
  {
   "cell_type": "code",
   "execution_count": 13,
   "id": "7fbd9fd6-5aad-4356-96ef-d7aba0fc86b0",
   "metadata": {},
   "outputs": [],
   "source": [
    "### 클래스\n",
    "# - 클래스 이름은 대문자로 시작합니다.\n",
    "# - 변수를 멤버 변수, 함수를 멤버 함수라고 칭합니다.\n",
    "# - 함수를 정의할 때, 매개변수에는 무조건 self라는 단어를 처음에 제시해야 합니다.\n",
    "#    -- self는 클래스 내에서 전역변수로 사용하겠다는 의미를 가집니다.\n",
    "#    -- self로 정의된 변수들은 모두 외부에서 접근이 가능합니다.\n",
    "\n",
    "class Math :\n",
    "    ### 리스트 변수\n",
    "    list_temp = []\n",
    "\n",
    "    ### 리스트에 데이터 추가하는 함수 정의하기\n",
    "    def setAppendList(self, p_list, p_name) :\n",
    "        p_list.append(p_name)\n",
    "        \n",
    "    ### 여러개의 문자열을 튜플 타입으로 반환하기\n",
    "    def getTuple(self, *string) :\n",
    "        return string\n",
    "\n",
    "    ### 여러개의 key = value를 딕셔너리 타입으로 반환하기\n",
    "    def getDict(self, **info) :\n",
    "        return info"
   ]
  },
  {
   "cell_type": "code",
   "execution_count": 14,
   "id": "c2dca5a5-6ce0-4f20-a622-1d7fb0dadd6f",
   "metadata": {},
   "outputs": [
    {
     "data": {
      "text/plain": [
       "[{'name': '홍길동', 'age': 11, 'area': '부산'}]"
      ]
     },
     "execution_count": 14,
     "metadata": {},
     "output_type": "execute_result"
    }
   ],
   "source": [
    "### 클래스는 호출이 아닌, 생성한다는 표현을 사용 합니다.\n",
    "# - 생성과 동시에 메모리가 만들어 집니다.\n",
    "\n",
    "### 클래스 생성하기\n",
    "math = Math()\n",
    "math.setAppendList(math.list_temp,\n",
    "                   math.getDict(name = \"홍길동\", age = 11, area = \"부산\"))\n",
    "\n",
    "math.list_temp"
   ]
  },
  {
   "cell_type": "code",
   "execution_count": 15,
   "id": "d3ff4011-a764-4be9-b22b-b11ae696d277",
   "metadata": {},
   "outputs": [],
   "source": [
    "class Math :\n",
    "    ### 리스트 변수\n",
    "    list_temp = []\n",
    "\n",
    "    ### 리스트에 데이터 추가하는 함수 정의하기\n",
    "    def setAppendList(self, p_name) :\n",
    "        self.list_temp.append(p_name)\n",
    "        \n",
    "    ### 여러개의 문자열을 튜플 타입으로 반환하기\n",
    "    def getTuple(self, *string) :\n",
    "        return string\n",
    "\n",
    "    ### 여러개의 key = value를 딕셔너리 타입으로 반환하기\n",
    "    def getDict(self, **info) :\n",
    "        return info"
   ]
  },
  {
   "cell_type": "code",
   "execution_count": 16,
   "id": "918982f0-abc5-4be6-a42f-218cf58c602c",
   "metadata": {},
   "outputs": [
    {
     "data": {
      "text/plain": [
       "[{'name': '홍길동', 'age': 11, 'area': '부산'}]"
      ]
     },
     "execution_count": 16,
     "metadata": {},
     "output_type": "execute_result"
    }
   ],
   "source": [
    "math1 = Math()\n",
    "math1.setAppendList(math1.getDict(name = \"홍길동\", age = 11, area = \"부산\"))\n",
    "\n",
    "math1.list_temp"
   ]
  },
  {
   "cell_type": "code",
   "execution_count": 17,
   "id": "927ee9f2-9f6a-43e5-be57-94ce574193b4",
   "metadata": {},
   "outputs": [],
   "source": [
    "class Math :\n",
    "    ### 리스트 변수\n",
    "    list_temp = []\n",
    "\n",
    "    ### setTuple_AppList()\n",
    "    # - 딕셔너리 타입을 리스트에 추가하는 함수 정의\n",
    "    def setDict_AppList(self, **data) :\n",
    "        self.setAppendList(data)\n",
    "\n",
    "    ### 리스트에 데이터 추가하는 함수 정의하기\n",
    "    def setAppendList(self, p_name) :\n",
    "        self.list_temp.append(p_name)\n",
    "        \n",
    "    ### 여러개의 문자열을 튜플 타입으로 반환하기\n",
    "    def getTuple(self, *string) :\n",
    "        return string\n",
    "\n",
    "    ### 여러개의 key = value를 딕셔너리 타입으로 반환하기\n",
    "    def getDict(self, **info) :\n",
    "        return info"
   ]
  },
  {
   "cell_type": "code",
   "execution_count": 18,
   "id": "17f74462-2cc0-4ead-a0a7-0875bd8c04fd",
   "metadata": {},
   "outputs": [
    {
     "data": {
      "text/plain": [
       "[{'name': '홍길동', 'age': 11, 'area': '부산'}]"
      ]
     },
     "execution_count": 18,
     "metadata": {},
     "output_type": "execute_result"
    }
   ],
   "source": [
    "math2 = Math()\n",
    "math2.setDict_AppList(name = \"홍길동\", age = 11, area = \"부산\")\n",
    "\n",
    "math2.list_temp"
   ]
  },
  {
   "cell_type": "code",
   "execution_count": 19,
   "id": "912a071c-70ee-4634-ae66-a3919f43a715",
   "metadata": {},
   "outputs": [],
   "source": [
    "class Math :\n",
    "    ### 생성자 함수 정의하기\n",
    "    # - 외부에서 클래스 생성 시에 미리 값을 정의하고자 할 때 넘겨받을 값을 처리함\n",
    "    def __init__(self) :\n",
    "        print(\"생성자가 호출되었습니다.\")\n",
    "    \n",
    "    ### 리스트 변수\n",
    "    list_temp = []\n",
    "\n",
    "    ### setTuple_AppList()\n",
    "    # - 딕셔너리 타입을 리스트에 추가하는 함수 정의\n",
    "    def setDict_AppList(self, **data) :\n",
    "        self.setAppendList(data)\n",
    "\n",
    "    ### 리스트에 데이터 추가하는 함수 정의하기\n",
    "    def setAppendList(self, p_name) :\n",
    "        self.list_temp.append(p_name)\n",
    "        \n",
    "    ### 여러개의 문자열을 튜플 타입으로 반환하기\n",
    "    def getTuple(self, *string) :\n",
    "        return string\n",
    "\n",
    "    ### 여러개의 key = value를 딕셔너리 타입으로 반환하기\n",
    "    def getDict(self, **info) :\n",
    "        return info"
   ]
  },
  {
   "cell_type": "code",
   "execution_count": 20,
   "id": "c6a87a54-9991-4aee-a784-ab3f2eb2fb1a",
   "metadata": {},
   "outputs": [
    {
     "name": "stdout",
     "output_type": "stream",
     "text": [
      "생성자가 호출되었습니다.\n"
     ]
    },
    {
     "data": {
      "text/plain": [
       "[{'name': '홍길동', 'age': 11, 'area': '부산'}]"
      ]
     },
     "execution_count": 20,
     "metadata": {},
     "output_type": "execute_result"
    }
   ],
   "source": [
    "math3 = Math()\n",
    "math3.setDict_AppList(name = \"홍길동\", age = 11, area = \"부산\")\n",
    "\n",
    "math3.list_temp"
   ]
  },
  {
   "cell_type": "code",
   "execution_count": 30,
   "id": "f6d1945a-a497-4b7a-8a77-beb64d13fa65",
   "metadata": {},
   "outputs": [],
   "source": [
    "class Math :\n",
    "    ### 생성자 함수 정의하기\n",
    "    # - 외부에서 클래스 생성 시에 미리 값을 정의하고자 할 때 넘겨받을 값을 처리함\n",
    "    def __init__(self, **data) :\n",
    "        print(\"생성자가 호출되었습니다.\")\n",
    "        self.setAppendList(data)\n",
    "    \n",
    "    ### 리스트 변수\n",
    "    list_temp = []\n",
    "\n",
    "    ### setTuple_AppList()\n",
    "    # - 딕셔너리 타입을 리스트에 추가하는 함수 정의\n",
    "    def setDict_AppList(self, **data) :\n",
    "        self.setAppendList(data)\n",
    "\n",
    "    ### 리스트에 데이터 추가하는 함수 정의하기\n",
    "    def setAppendList(self, p_name) :\n",
    "        self.list_temp.append(p_name)\n",
    "        \n",
    "    ### 여러개의 문자열을 튜플 타입으로 반환하기\n",
    "    def getTuple(self, *string) :\n",
    "        return string\n",
    "\n",
    "    ### 여러개의 key = value를 딕셔너리 타입으로 반환하기\n",
    "    def getDict(self, **info) :\n",
    "        return info"
   ]
  },
  {
   "cell_type": "code",
   "execution_count": 31,
   "id": "5fb06802-f2f9-4e78-8603-99ef4c708c08",
   "metadata": {},
   "outputs": [
    {
     "name": "stdout",
     "output_type": "stream",
     "text": [
      "생성자가 호출되었습니다.\n"
     ]
    },
    {
     "data": {
      "text/plain": [
       "[{'name': '홍길동', 'age': 11, 'area': '부산'}]"
      ]
     },
     "execution_count": 31,
     "metadata": {},
     "output_type": "execute_result"
    }
   ],
   "source": [
    "math4 = Math(name = \"홍길동\", age = 11, area = \"부산\")\n",
    "\n",
    "math4.list_temp"
   ]
  },
  {
   "cell_type": "markdown",
   "id": "c51056b9-fbc8-437b-80d7-3ab4a1651a36",
   "metadata": {},
   "source": [
    "## 외부 모듈 불러들이기"
   ]
  },
  {
   "cell_type": "code",
   "execution_count": 10,
   "id": "74d3b190-349b-4f4d-bb77-6246229f2d83",
   "metadata": {},
   "outputs": [],
   "source": [
    "### 외부의 .py 파일 불러들이기\n",
    "# - 모듈 불러들이기 : import\n",
    "# - 커널 리스타트 한 후 안래 진행\n",
    "import math_class"
   ]
  },
  {
   "cell_type": "code",
   "execution_count": 11,
   "id": "86b414a1-d2cd-4773-b10e-3e02465ddf14",
   "metadata": {},
   "outputs": [
    {
     "name": "stdout",
     "output_type": "stream",
     "text": [
      "생성자가 호출되었습니다.\n"
     ]
    },
    {
     "data": {
      "text/plain": [
       "[{'name': '홍길동', 'age': 11, 'area': '부산'}]"
      ]
     },
     "execution_count": 11,
     "metadata": {},
     "output_type": "execute_result"
    }
   ],
   "source": [
    "math5 = math_class.Math (name=\"홍길동\", age=11, area=\"부산\")\n",
    "\n",
    "math5.list_temp"
   ]
  },
  {
   "cell_type": "code",
   "execution_count": 12,
   "id": "15f45851-85f7-406b-abf2-3af1ece5975b",
   "metadata": {},
   "outputs": [],
   "source": [
    "### 불러들이는 방법 2번째.....\n",
    "from math_class import Math"
   ]
  },
  {
   "cell_type": "code",
   "execution_count": 13,
   "id": "518c167c-66f0-4837-9b4f-e1266c90ae24",
   "metadata": {},
   "outputs": [
    {
     "name": "stdout",
     "output_type": "stream",
     "text": [
      "생성자가 호출되었습니다.\n"
     ]
    },
    {
     "data": {
      "text/plain": [
       "[{'name': '홍길동', 'age': 11, 'area': '부산'},\n",
       " {'name': '홍길동444', 'age': 11, 'area': '부산'}]"
      ]
     },
     "execution_count": 13,
     "metadata": {},
     "output_type": "execute_result"
    }
   ],
   "source": [
    "math6 = Math(name=\"홍길동444\", age=11, area=\"부산\")\n",
    "\n",
    "math6.list_temp"
   ]
  },
  {
   "cell_type": "code",
   "execution_count": 14,
   "id": "7a83aee1-9150-4878-83ab-caf022a64ee8",
   "metadata": {},
   "outputs": [],
   "source": [
    "### 불러들이는 방법 3번째.....\n",
    "# as : 별칭 (이름이 긴 경우에 사용합니다.)\n",
    "# from 뒤에는 : 폴더명 또는 파일명\n",
    "# import 뒤에는\n",
    "#    : 파일명 또는 클래스명 또는 함수명\n",
    "#    : from 없이 사용하는 경우에는 파일명\n",
    "#    : from 뒤에 사용하는 경우에는 클래스명, 함수명\n",
    "from math_class import Math as M"
   ]
  },
  {
   "cell_type": "code",
   "execution_count": 15,
   "id": "c20e9b46-e0a2-4904-946e-bdf4a3fcc7f5",
   "metadata": {},
   "outputs": [
    {
     "name": "stdout",
     "output_type": "stream",
     "text": [
      "생성자가 호출되었습니다.\n"
     ]
    },
    {
     "data": {
      "text/plain": [
       "[{'name': '홍길동', 'age': 11, 'area': '부산'},\n",
       " {'name': '홍길동444', 'age': 11, 'area': '부산'},\n",
       " {'name': '홍길동444', 'age': 11, 'area': '부산'}]"
      ]
     },
     "execution_count": 15,
     "metadata": {},
     "output_type": "execute_result"
    }
   ],
   "source": [
    "math7 = M(name=\"홍길동444\", age=11, area=\"부산\")\n",
    "\n",
    "math7.list_temp"
   ]
  },
  {
   "cell_type": "code",
   "execution_count": 8,
   "id": "ebc40990-35dd-4322-b69c-261aa47c1587",
   "metadata": {},
   "outputs": [],
   "source": [
    "### 불러들이는 방법 4번째\n",
    "# 폴더 안에 있는 파일의 경우\n",
    "from lib.math_class_lib import Math as M2"
   ]
  },
  {
   "cell_type": "code",
   "execution_count": 9,
   "id": "e32851a4-0194-4464-9829-04c89439f962",
   "metadata": {},
   "outputs": [
    {
     "name": "stdout",
     "output_type": "stream",
     "text": [
      "생성자가 호출되었습니다.\n"
     ]
    },
    {
     "data": {
      "text/plain": [
       "[{'name': '홍길동444', 'age': 11, 'area': '부산'}]"
      ]
     },
     "execution_count": 9,
     "metadata": {},
     "output_type": "execute_result"
    }
   ],
   "source": [
    "math8 = M2(name=\"홍길동444\", age=11, area=\"부산\")\n",
    "\n",
    "math8.list_temp"
   ]
  },
  {
   "cell_type": "code",
   "execution_count": 17,
   "id": "9adf1f1d-1d50-4973-9240-64528f051a63",
   "metadata": {},
   "outputs": [],
   "source": [
    "from lib.math_class_lib import getTotSum"
   ]
  },
  {
   "cell_type": "code",
   "execution_count": 18,
   "id": "5ea5a071-0be8-4f41-bb79-c6e08c5e1293",
   "metadata": {},
   "outputs": [
    {
     "data": {
      "text/plain": [
       "10"
      ]
     },
     "execution_count": 18,
     "metadata": {},
     "output_type": "execute_result"
    }
   ],
   "source": [
    "getTotSum(1, 2, 3, 4)"
   ]
  },
  {
   "cell_type": "code",
   "execution_count": null,
   "id": "9dcd8fe9-0bcf-460f-ba29-950d5157eabc",
   "metadata": {},
   "outputs": [],
   "source": []
  },
  {
   "cell_type": "markdown",
   "id": "998aab07-f72a-4632-a4dd-53766ae9446d",
   "metadata": {},
   "source": [
    "## 한줄 코딩"
   ]
  },
  {
   "cell_type": "code",
   "execution_count": 1,
   "id": "7dca2208-bde1-439d-8cb1-5ffb5b47111a",
   "metadata": {},
   "outputs": [
    {
     "data": {
      "text/plain": [
       "[0, 1, 2, 3, 4, 5, 6, 7, 8, 9]"
      ]
     },
     "execution_count": 1,
     "metadata": {},
     "output_type": "execute_result"
    }
   ],
   "source": [
    "list_temp = list(range(10))\n",
    "list_temp"
   ]
  },
  {
   "cell_type": "code",
   "execution_count": 3,
   "id": "1d6ca850-7257-4b2b-b84d-68e7d035d028",
   "metadata": {},
   "outputs": [
    {
     "name": "stdout",
     "output_type": "stream",
     "text": [
      "0 1 2 3 4 5 6 7 8 9 "
     ]
    }
   ],
   "source": [
    "for i in list_temp :\n",
    "    print(i, end =\" \")"
   ]
  },
  {
   "cell_type": "code",
   "execution_count": 5,
   "id": "bebdb33c-402a-4f6b-a089-0df18a532be4",
   "metadata": {},
   "outputs": [
    {
     "data": {
      "text/plain": [
       "[0, 1, 2, 3, 4, 5, 6, 7, 8, 9]"
      ]
     },
     "execution_count": 5,
     "metadata": {},
     "output_type": "execute_result"
    }
   ],
   "source": [
    "### 한줄 for문 (단축 for문)\n",
    "[i for i in list_temp]\n",
    "\n",
    "### [0] + [1] + [2] + ... + [9] = [0, 1, 2, 3, 4, 5, 6, 7, 8, 9]"
   ]
  },
  {
   "cell_type": "code",
   "execution_count": 7,
   "id": "2c857ffc-5d44-4b1a-9251-4d86e77501aa",
   "metadata": {},
   "outputs": [
    {
     "data": {
      "text/plain": [
       "'0 1 2 3 4 5 6 7 8 9'"
      ]
     },
     "execution_count": 7,
     "metadata": {},
     "output_type": "execute_result"
    }
   ],
   "source": [
    "### 출력하기\n",
    "\" \".join(str(i) for i in list_temp)"
   ]
  },
  {
   "cell_type": "code",
   "execution_count": 10,
   "id": "80c583ba-5ca3-425f-bb5a-05c5921f3fca",
   "metadata": {},
   "outputs": [
    {
     "data": {
      "text/plain": [
       "[[0, 1, 2, 3, 4, 5, 6, 7, 8, 9], [10, 11, 12]]"
      ]
     },
     "execution_count": 10,
     "metadata": {},
     "output_type": "execute_result"
    }
   ],
   "source": [
    "### 2차원 List 만들기\n",
    "# List_2dim = [[0, 1, 2, 3, 4, 5, 6, 7, 8, 9], [10, 11, 12]]\n",
    "list_2dim = [list(range(10)), [10, 11, 12]]\n",
    "list_2dim"
   ]
  },
  {
   "cell_type": "code",
   "execution_count": 12,
   "id": "d894a329-7a15-4fa8-93ca-0422fd807650",
   "metadata": {},
   "outputs": [
    {
     "name": "stdout",
     "output_type": "stream",
     "text": [
      "0 1 2 3 4 5 6 7 8 9 10 11 12 "
     ]
    }
   ],
   "source": [
    "for list_data in list_2dim :\n",
    "    for j in list_data :\n",
    "        print(j, end = \" \")"
   ]
  },
  {
   "cell_type": "code",
   "execution_count": 14,
   "id": "aa9ae08f-852d-4e34-9014-0b3b3200b137",
   "metadata": {},
   "outputs": [
    {
     "data": {
      "text/plain": [
       "[0, 1, 2, 3, 4, 5, 6, 7, 8, 9, 10, 11, 12]"
      ]
     },
     "execution_count": 14,
     "metadata": {},
     "output_type": "execute_result"
    }
   ],
   "source": [
    "### 한줄 코딩으로 2차원 for문 수행\n",
    "# - 대괄호 또는 튜플 또는 딕셔너리 등등 안에서 수행\n",
    "[j for list_data in list_2dim for j in list_data]"
   ]
  },
  {
   "cell_type": "code",
   "execution_count": 15,
   "id": "127072c1-b968-4722-ac24-ca8f13bd3583",
   "metadata": {},
   "outputs": [
    {
     "data": {
      "text/plain": [
       "'0 1 2 3 4 5 6 7 8 9 10 11 12'"
      ]
     },
     "execution_count": 15,
     "metadata": {},
     "output_type": "execute_result"
    }
   ],
   "source": [
    "\" \".join(str(j)for list_data in list_2dim for j in list_data)"
   ]
  },
  {
   "cell_type": "code",
   "execution_count": 16,
   "id": "dae8d88f-cc06-4654-b121-cd47356e1d5b",
   "metadata": {},
   "outputs": [
    {
     "name": "stdout",
     "output_type": "stream",
     "text": [
      "참\n"
     ]
    }
   ],
   "source": [
    "### if 문 한줄 코딩\n",
    "v = 3\n",
    "if v < 5 : print(\"참\")\n",
    "else : print(\"거짓\")"
   ]
  },
  {
   "cell_type": "code",
   "execution_count": 19,
   "id": "6aaaa586-49c1-485d-9af6-fc904e67c23b",
   "metadata": {},
   "outputs": [
    {
     "name": "stdout",
     "output_type": "stream",
     "text": [
      "참\n"
     ]
    }
   ],
   "source": [
    "print(\"참\" if v < 5 else \"거짓\")"
   ]
  },
  {
   "cell_type": "code",
   "execution_count": 21,
   "id": "97611829-7640-4dc8-ab71-8c09b59c6487",
   "metadata": {},
   "outputs": [
    {
     "name": "stdout",
     "output_type": "stream",
     "text": [
      "중립\n"
     ]
    }
   ],
   "source": [
    "v = 6\n",
    "if v < 5 : print(\"참\")\n",
    "elif v < 10 : print(\"중립\")\n",
    "else : print(\"거짓\")"
   ]
  },
  {
   "cell_type": "code",
   "execution_count": 22,
   "id": "4eede1d3-a423-42f0-a4f1-e7ae451bbb54",
   "metadata": {},
   "outputs": [
    {
     "name": "stdout",
     "output_type": "stream",
     "text": [
      "중립\n"
     ]
    }
   ],
   "source": [
    "### 한줄 코딩\n",
    "print(\"참\" if v < 5 else \"중립\" if v < 10 else \"거짓\")"
   ]
  },
  {
   "cell_type": "code",
   "execution_count": null,
   "id": "c13e8b8e-5a49-48b3-ab98-e753e15e6fb0",
   "metadata": {},
   "outputs": [],
   "source": []
  },
  {
   "cell_type": "code",
   "execution_count": null,
   "id": "bffc830a-5f25-41d7-b9fa-77565f39adb4",
   "metadata": {},
   "outputs": [],
   "source": []
  },
  {
   "cell_type": "code",
   "execution_count": null,
   "id": "94e35d0c-3f94-478b-bdb2-e992cc9951d5",
   "metadata": {},
   "outputs": [],
   "source": []
  },
  {
   "cell_type": "code",
   "execution_count": null,
   "id": "901390ad-1cf6-4dd0-b26d-9d65a6036ea5",
   "metadata": {},
   "outputs": [],
   "source": []
  },
  {
   "cell_type": "code",
   "execution_count": null,
   "id": "e6a85873-d393-4cb4-bdb7-a3ee3850cc26",
   "metadata": {},
   "outputs": [],
   "source": []
  }
 ],
 "metadata": {
  "kernelspec": {
   "display_name": "pk_base_202503_kernel",
   "language": "python",
   "name": "pk_base_202503"
  },
  "language_info": {
   "codemirror_mode": {
    "name": "ipython",
    "version": 3
   },
   "file_extension": ".py",
   "mimetype": "text/x-python",
   "name": "python",
   "nbconvert_exporter": "python",
   "pygments_lexer": "ipython3",
   "version": "3.9.21"
  }
 },
 "nbformat": 4,
 "nbformat_minor": 5
}
