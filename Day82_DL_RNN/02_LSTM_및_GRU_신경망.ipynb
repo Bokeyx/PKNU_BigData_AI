{
 "cells": [
  {
   "cell_type": "code",
   "execution_count": null,
   "id": "ec4ab9ff",
   "metadata": {},
   "outputs": [],
   "source": [
    "\"\"\"\n",
    "<순환신경망 종류>\n",
    " * 심플 순환신경망(Simple RNN) 단점\n",
    "  - 긴 문장(단어의 갯수가 많은 경우)을 학습하기 어려움\n",
    "  - 문장이 길 수록(단어의 갯수가 많을수록) 초반의 정보(단어를 의미함)는 점진적으로 희석(소멸)됨\n",
    "  - 즉, 멀리 떨어져 있는 단어의 정보를 인식하는데 어려움이 있음\n",
    "    (문장의 앞뒤 문맥(단어를 의미함) 데이터의 기억이 단기기억으로 저장됨)\n",
    "  - 이러한 단점을 보완한 모델이 LSTM 임\n",
    " \n",
    " * 장기기억 순환신경망(Long Shot-Term Memory, LSTM)\n",
    "  - Simple RNN의 단점을 보완한 모델\n",
    "  - 단기기억을 오래 기억할 수 있도록 고안된 모델\n",
    "  - 많은 이전 단어들의 정보를 기억해야 하기 때문에 훈련 속도가 느림(단점)\n",
    "  - 시스템 저장 공간이 많이 필요함(단점)\n",
    " \n",
    " * 게이트웨이 반복 단위 순환신경망(Gated Recurrent Unit, GRU)\n",
    "  - LSTM의 장기기억 순환신경망의 개념을 그대로 적용하고, 단점을 보완한 모델\n",
    "  - 너무 오래된 기억은 서서히 소멸해 나가면서, 최근 기억을 지속적으로 유지하는 방식을 사용함\n",
    "  - 성능은 LSTM과 동일 (속도를 빠르게 하기 위한 모델임)\n",
    " \n",
    " *** RNN 순환신경망 모델들은 주로, RMSprop 옵티마이저를 사용함\n",
    "\"\"\""
   ]
  },
  {
   "cell_type": "markdown",
   "id": "99ace9e5",
   "metadata": {},
   "source": [
    "### 라이브러리 정의"
   ]
  },
  {
   "cell_type": "code",
   "execution_count": 9,
   "id": "f772b1ff",
   "metadata": {},
   "outputs": [],
   "source": [
    "import tensorflow as tf\n",
    "from tensorflow import keras\n",
    "from keras.layers import Input, Dense, Conv2D, MaxPool2D, Dropout, SimpleRNN, Embedding, LSTM\n",
    "from keras.models import Sequential\n",
    "from keras.callbacks import EarlyStopping, ModelCheckpoint\n",
    "import matplotlib.pyplot as plt\n",
    "import numpy as np\n",
    "from sklearn.model_selection import train_test_split\n",
    "\n",
    "### 텍스트 길이 정규화 라이브러리\n",
    "# - 텍스트의 길이가 긴 경우에는 자르고, 길이가 짧은 경우에는 채움\n",
    "from tensorflow.keras.preprocessing.sequence import pad_sequences\n",
    "\n",
    "\n",
    "tf.keras.utils.set_random_seed(42)\n",
    "\n",
    "### 사용할 데이터셋\n",
    "# - 영화 리뷰 감상평 데이터(긍정/부정)\n",
    "from keras.datasets import imdb"
   ]
  },
  {
   "cell_type": "code",
   "execution_count": 2,
   "id": "0bd07696",
   "metadata": {},
   "outputs": [
    {
     "name": "stdout",
     "output_type": "stream",
     "text": [
      "(25000,) (25000,)\n",
      "(25000,) (25000,)\n"
     ]
    }
   ],
   "source": [
    "### 데이터 수집\n",
    "(train_input, train_target), (test_input, test_target) = imdb.load_data(num_words=500)\n",
    "\n",
    "print(train_input.shape, train_target.shape)\n",
    "print(test_input.shape, test_target.shape)"
   ]
  },
  {
   "cell_type": "markdown",
   "id": "3c97b500",
   "metadata": {},
   "source": [
    "### 훈련 : 검증 = 8 : 2 로 분리하기"
   ]
  },
  {
   "cell_type": "code",
   "execution_count": 3,
   "id": "213923c6",
   "metadata": {},
   "outputs": [
    {
     "name": "stdout",
     "output_type": "stream",
     "text": [
      "(20000,) (20000,)\n",
      "(5000,) (5000,)\n",
      "(25000,) (25000,)\n"
     ]
    }
   ],
   "source": [
    "### 변수명 : train_input, train_target, val_input, val_target\n",
    "train_input, val_input, train_target, val_target = train_test_split(\n",
    "    train_input, train_target, test_size=0.2, random_state=42\n",
    ")\n",
    "\n",
    "print(train_input.shape, train_target.shape)\n",
    "print(val_input.shape, val_target.shape)\n",
    "print(test_input.shape, test_target.shape)"
   ]
  },
  {
   "cell_type": "code",
   "execution_count": 4,
   "id": "4f9c0baf",
   "metadata": {},
   "outputs": [
    {
     "name": "stdout",
     "output_type": "stream",
     "text": [
      "20000 259\n",
      "[259 520 290 ... 300  70  77]\n",
      "(20000,)\n"
     ]
    }
   ],
   "source": [
    "### 모든 데이터의 문장 길이를 확인하여 가장 많이 분포하는 위치를 기준으로 통일시키는 처리를 진행\n",
    "\n",
    "### 훈련 독립변수의 각 문장데이터들의 문장길이(단어의 갯수)를 확인하여,\n",
    "# - 하나의 배열에 저장하기\n",
    "# - 변수명 : lengths\n",
    "print(len(train_input), len(train_input[0]))\n",
    "\n",
    "lengths = np.array([ len(x) for x in train_input ])\n",
    "\n",
    "print(lengths)\n",
    "print(lengths.shape)"
   ]
  },
  {
   "cell_type": "code",
   "execution_count": 5,
   "id": "a9e95c2d",
   "metadata": {},
   "outputs": [
    {
     "name": "stdout",
     "output_type": "stream",
     "text": [
      "(20000, 100) (20000,)\n",
      "(5000, 100) (5000,)\n"
     ]
    }
   ],
   "source": [
    "### 훈련 데이터 스케일링\n",
    "train_seq = pad_sequences(train_input, maxlen=100)\n",
    "print(train_seq.shape, train_target.shape)\n",
    "\n",
    "### 검증 데이터 스케일링\n",
    "val_seq = pad_sequences(val_input, maxlen=100)\n",
    "print(val_seq.shape, val_target.shape)"
   ]
  },
  {
   "cell_type": "markdown",
   "id": "e9eb86f4",
   "metadata": {},
   "source": [
    "### 데이터 스케일링 하기(단어 길이 표준화하기)"
   ]
  },
  {
   "cell_type": "code",
   "execution_count": 6,
   "id": "e1724786",
   "metadata": {},
   "outputs": [
    {
     "name": "stdout",
     "output_type": "stream",
     "text": [
      "(20000, 100) (20000,)\n",
      "(5000, 100) (5000,)\n"
     ]
    }
   ],
   "source": [
    "### 텍스트 제거 또는 채우기 속성 추가\n",
    "\"\"\"\n",
    "<제거 및 채우기 속성>\n",
    " * truncating : maxlen보다 클 때 자르기 속성\n",
    "  - truncating = \"pre\" : 앞쪽 제거(기본값으로 사용됨, 생략가능)\n",
    "  - truncating = \"post\" : 뒤쪽 제거\n",
    "  \n",
    " * padding : maxlen보다 작을 때 채우기 속성\n",
    "  - padding = \"pre\" : 앞쪽을 0으로 채우기(기본값으로 사용됨, 생략가능)\n",
    "  - padding = \"post\" : 뒤쪽을 0으로 채우기\n",
    "\"\"\"\n",
    "\n",
    "### 훈련 데이터 스케일링\n",
    "train_seq = pad_sequences(train_input, maxlen=100, truncating=\"post\", padding=\"post\")\n",
    "print(train_seq.shape, train_target.shape)\n",
    "\n",
    "### 검증 데이터 스케일링\n",
    "val_seq = pad_sequences(val_input, maxlen=100, truncating=\"post\", padding=\"post\")\n",
    "print(val_seq.shape, val_target.shape)\n"
   ]
  },
  {
   "cell_type": "markdown",
   "id": "dfa2a65f",
   "metadata": {},
   "source": [
    "### LSTM 훈련 모델 생성하기"
   ]
  },
  {
   "cell_type": "code",
   "execution_count": 11,
   "id": "3732feff",
   "metadata": {},
   "outputs": [],
   "source": [
    "### 모델 생성하기\n",
    "model = Sequential([\n",
    "    # 입력계층 (입베딩 계층) 추가하기\n",
    "    Embedding(\n",
    "        input_dim = 500,\n",
    "        output_dim = 16,\n",
    "        input_length = 100\n",
    "    ),\n",
    "    # 은닉계층 (LSTM 계층) 추가하기 : RNN모델의 이름만 바꿔주면 됩니다.\n",
    "    LSTM(\n",
    "        units = 8\n",
    "    ),\n",
    "    \n",
    "    # 출력계층 추가하기\n",
    "    Dense(\n",
    "        units = 1,\n",
    "        activation = \"sigmoid\"\n",
    "    )\n",
    "])"
   ]
  },
  {
   "cell_type": "code",
   "execution_count": 12,
   "id": "8bc84a58",
   "metadata": {},
   "outputs": [
    {
     "name": "stdout",
     "output_type": "stream",
     "text": [
      "Model: \"sequential\"\n",
      "_________________________________________________________________\n",
      " Layer (type)                Output Shape              Param #   \n",
      "=================================================================\n",
      " embedding_2 (Embedding)     (None, 100, 16)           8000      \n",
      "                                                                 \n",
      " lstm (LSTM)                 (None, 8)                 800       \n",
      "                                                                 \n",
      " dense (Dense)               (None, 1)                 9         \n",
      "                                                                 \n",
      "=================================================================\n",
      "Total params: 8,809\n",
      "Trainable params: 8,809\n",
      "Non-trainable params: 0\n",
      "_________________________________________________________________\n"
     ]
    },
    {
     "data": {
      "text/plain": [
       "'\\n<Param 계산공식>\\n * embedding = 말뭉치갯수 * 출력갯수 = 500 * 16 = 8,000\\n \\n * LSTM = 가중치 세트 갯수 * (출력갯수 * (입력갯수 + 출력갯수 + 1))\\n        = 4 * (8 * (16 + 8 + 1)) = 800\\n        \\n<가중치 세트 설명>\\n  - 총 4개의 세트로 구성되어 있음(이떄 세트를 -> 게이트라고 칭하기도 합니다.)\\n  \\n * 셀상태관리\\n  - LSTM의 장기 기억을 담당\\n  - 셀 상태는 정보를 장기간 동안 유지할 수 있도록 관리됨\\n  - 입력/망각/출력 게이트를 통해서 셀 상태 정보가 업데이트 됩니다.\\n \\n * 입력게이트\\n  - 현재 시점의 입력 데이터가 셀 상태에 얼마나 반영될지를 결정\\n  - 새로운 정보를 얼마나 저장할지를 조절하는 역할을 수행\\n \\n * 망각게이트\\n  - 이전 셀 상태에서 얼마나 많은 정보를 잊어버릴지 결정\\n  - 이전 상태의 정보를 얼마나 제거할지를 조절하는 역할\\n \\n * 출력게이트\\n  - 셀 상태에서 어떤 정보를 출력할지 결정\\n  - 셀 상태를  현재 시점의 출력으로 변환하는 역할\\n \\n * 가중치 업데이트 : 위 4개의 가중치 세트가 동시에 작동하면서\\n                    출력에 가장 가까운 단어 조합을 만들어 냄...\\n'"
      ]
     },
     "execution_count": 12,
     "metadata": {},
     "output_type": "execute_result"
    }
   ],
   "source": [
    "model.summary()\n",
    "\n",
    "\"\"\"\n",
    "<Param 계산공식>\n",
    " * embedding = 말뭉치갯수 * 출력갯수 = 500 * 16 = 8,000\n",
    " \n",
    " * LSTM = 가중치 세트 갯수 * (출력갯수 * (입력갯수 + 출력갯수 + 1))\n",
    "        = 4 * (8 * (16 + 8 + 1)) = 800\n",
    "        \n",
    "<가중치 세트 설명>\n",
    "  - 총 4개의 세트로 구성되어 있음(이떄 세트를 -> 게이트라고 칭하기도 합니다.)\n",
    "  \n",
    " * 셀상태관리\n",
    "  - LSTM의 장기 기억을 담당\n",
    "  - 셀 상태는 정보를 장기간 동안 유지할 수 있도록 관리됨\n",
    "  - 입력/망각/출력 게이트를 통해서 셀 상태 정보가 업데이트 됩니다.\n",
    " \n",
    " * 입력게이트\n",
    "  - 현재 시점의 입력 데이터가 셀 상태에 얼마나 반영될지를 결정\n",
    "  - 새로운 정보를 얼마나 저장할지를 조절하는 역할을 수행\n",
    " \n",
    " * 망각게이트\n",
    "  - 이전 셀 상태에서 얼마나 많은 정보를 잊어버릴지 결정\n",
    "  - 이전 상태의 정보를 얼마나 제거할지를 조절하는 역할\n",
    " \n",
    " * 출력게이트\n",
    "  - 셀 상태에서 어떤 정보를 출력할지 결정\n",
    "  - 셀 상태를  현재 시점의 출력으로 변환하는 역할\n",
    " \n",
    " * 가중치 업데이트 : 위 4개의 가중치 세트가 동시에 작동하면서\n",
    "                    출력에 가장 가까운 단어 조합을 만들어 냄...\n",
    "\"\"\""
   ]
  },
  {
   "cell_type": "markdown",
   "id": "4b11d644",
   "metadata": {},
   "source": [
    "### 훈련모델 설정하기(compile)"
   ]
  },
  {
   "cell_type": "code",
   "execution_count": 13,
   "id": "afe65d18",
   "metadata": {},
   "outputs": [],
   "source": [
    "### RMSprop 사용, 학습율 0.0001 사용, 정확도 출력\n",
    "model.compile(\n",
    "    optimizer = keras.optimizers.RMSprop(learning_rate=0.0001),\n",
    "    loss = \"binary_crossentropy\",\n",
    "    metrics = [\"accuracy\"]\n",
    ")"
   ]
  },
  {
   "cell_type": "markdown",
   "id": "8b55f015",
   "metadata": {},
   "source": [
    "### 콜백함수 정의하기"
   ]
  },
  {
   "cell_type": "code",
   "execution_count": 14,
   "id": "41b10836",
   "metadata": {},
   "outputs": [],
   "source": [
    "mc = ModelCheckpoint(\n",
    "    \"./model/best_LSTM_model.keras\",\n",
    "    save_best_only = True\n",
    ")\n",
    "\n",
    "es = EarlyStopping(\n",
    "    patience = 3,\n",
    "    restore_best_weights = True\n",
    ")"
   ]
  },
  {
   "cell_type": "markdown",
   "id": "9f55cafb",
   "metadata": {},
   "source": [
    "### 모델 훈련시키기"
   ]
  },
  {
   "cell_type": "code",
   "execution_count": 15,
   "id": "cac0a796",
   "metadata": {},
   "outputs": [
    {
     "name": "stdout",
     "output_type": "stream",
     "text": [
      "Epoch 1/100\n",
      "313/313 [==============================] - 8s 12ms/step - loss: 0.6928 - accuracy: 0.5150 - val_loss: 0.6926 - val_accuracy: 0.5142\n",
      "Epoch 2/100\n",
      "313/313 [==============================] - 3s 11ms/step - loss: 0.6922 - accuracy: 0.5307 - val_loss: 0.6920 - val_accuracy: 0.5222\n",
      "Epoch 3/100\n",
      "313/313 [==============================] - 3s 10ms/step - loss: 0.6912 - accuracy: 0.5473 - val_loss: 0.6909 - val_accuracy: 0.5318\n",
      "Epoch 4/100\n",
      "313/313 [==============================] - 3s 10ms/step - loss: 0.6895 - accuracy: 0.5587 - val_loss: 0.6884 - val_accuracy: 0.5730\n",
      "Epoch 5/100\n",
      "313/313 [==============================] - 3s 11ms/step - loss: 0.6837 - accuracy: 0.6039 - val_loss: 0.6749 - val_accuracy: 0.6356\n",
      "Epoch 6/100\n",
      "313/313 [==============================] - 3s 10ms/step - loss: 0.6426 - accuracy: 0.6736 - val_loss: 0.6140 - val_accuracy: 0.7008\n",
      "Epoch 7/100\n",
      "313/313 [==============================] - 3s 10ms/step - loss: 0.6008 - accuracy: 0.7078 - val_loss: 0.5935 - val_accuracy: 0.7096\n",
      "Epoch 8/100\n",
      "313/313 [==============================] - 3s 11ms/step - loss: 0.5784 - accuracy: 0.7251 - val_loss: 0.5736 - val_accuracy: 0.7250\n",
      "Epoch 9/100\n",
      "313/313 [==============================] - 3s 10ms/step - loss: 0.5594 - accuracy: 0.7401 - val_loss: 0.5604 - val_accuracy: 0.7310\n",
      "Epoch 10/100\n",
      "313/313 [==============================] - 3s 10ms/step - loss: 0.5420 - accuracy: 0.7485 - val_loss: 0.5433 - val_accuracy: 0.7450\n",
      "Epoch 11/100\n",
      "313/313 [==============================] - 3s 10ms/step - loss: 0.5264 - accuracy: 0.7569 - val_loss: 0.5323 - val_accuracy: 0.7454\n",
      "Epoch 12/100\n",
      "313/313 [==============================] - 3s 10ms/step - loss: 0.5122 - accuracy: 0.7632 - val_loss: 0.5204 - val_accuracy: 0.7530\n",
      "Epoch 13/100\n",
      "313/313 [==============================] - 3s 10ms/step - loss: 0.5005 - accuracy: 0.7705 - val_loss: 0.5148 - val_accuracy: 0.7534\n",
      "Epoch 14/100\n",
      "313/313 [==============================] - 3s 10ms/step - loss: 0.4915 - accuracy: 0.7732 - val_loss: 0.5135 - val_accuracy: 0.7506\n",
      "Epoch 15/100\n",
      "313/313 [==============================] - 3s 10ms/step - loss: 0.4839 - accuracy: 0.7765 - val_loss: 0.5124 - val_accuracy: 0.7486\n",
      "Epoch 16/100\n",
      "313/313 [==============================] - 3s 10ms/step - loss: 0.4781 - accuracy: 0.7783 - val_loss: 0.5007 - val_accuracy: 0.7570\n",
      "Epoch 17/100\n",
      "313/313 [==============================] - 3s 10ms/step - loss: 0.4735 - accuracy: 0.7809 - val_loss: 0.5046 - val_accuracy: 0.7546\n",
      "Epoch 18/100\n",
      "313/313 [==============================] - 3s 11ms/step - loss: 0.4701 - accuracy: 0.7835 - val_loss: 0.4955 - val_accuracy: 0.7618\n",
      "Epoch 19/100\n",
      "313/313 [==============================] - 3s 10ms/step - loss: 0.4673 - accuracy: 0.7824 - val_loss: 0.4919 - val_accuracy: 0.7636\n",
      "Epoch 20/100\n",
      "313/313 [==============================] - 3s 10ms/step - loss: 0.4645 - accuracy: 0.7858 - val_loss: 0.4909 - val_accuracy: 0.7628\n",
      "Epoch 21/100\n",
      "313/313 [==============================] - 3s 10ms/step - loss: 0.4626 - accuracy: 0.7856 - val_loss: 0.4934 - val_accuracy: 0.7562\n",
      "Epoch 22/100\n",
      "313/313 [==============================] - 3s 10ms/step - loss: 0.4610 - accuracy: 0.7851 - val_loss: 0.4924 - val_accuracy: 0.7584\n",
      "Epoch 23/100\n",
      "313/313 [==============================] - 3s 10ms/step - loss: 0.4599 - accuracy: 0.7840 - val_loss: 0.4889 - val_accuracy: 0.7610\n",
      "Epoch 24/100\n",
      "313/313 [==============================] - 3s 10ms/step - loss: 0.4580 - accuracy: 0.7842 - val_loss: 0.4873 - val_accuracy: 0.7650\n",
      "Epoch 25/100\n",
      "313/313 [==============================] - 3s 10ms/step - loss: 0.4572 - accuracy: 0.7852 - val_loss: 0.4892 - val_accuracy: 0.7640\n",
      "Epoch 26/100\n",
      "313/313 [==============================] - 3s 10ms/step - loss: 0.4562 - accuracy: 0.7843 - val_loss: 0.4854 - val_accuracy: 0.7636\n",
      "Epoch 27/100\n",
      "313/313 [==============================] - 3s 10ms/step - loss: 0.4550 - accuracy: 0.7875 - val_loss: 0.4868 - val_accuracy: 0.7602\n",
      "Epoch 28/100\n",
      "313/313 [==============================] - 3s 10ms/step - loss: 0.4541 - accuracy: 0.7852 - val_loss: 0.4902 - val_accuracy: 0.7646\n",
      "Epoch 29/100\n",
      "313/313 [==============================] - 3s 10ms/step - loss: 0.4535 - accuracy: 0.7857 - val_loss: 0.4860 - val_accuracy: 0.7604\n"
     ]
    }
   ],
   "source": [
    "history = model.fit(train_seq,\n",
    "                    train_target,\n",
    "                    validation_data=(val_seq,\n",
    "                                    val_target),\n",
    "                    epochs=100,\n",
    "                    batch_size=64,\n",
    "                    callbacks=[mc, es]\n",
    "                    )"
   ]
  },
  {
   "cell_type": "markdown",
   "id": "8d80a4be",
   "metadata": {},
   "source": [
    "### 최적의 모델 읽어들여서 훈련 / 검증 / 테스트 성능 검증하기"
   ]
  },
  {
   "cell_type": "code",
   "execution_count": 20,
   "id": "87beaa08",
   "metadata": {},
   "outputs": [
    {
     "data": {
      "text/plain": [
       "(25000, 100)"
      ]
     },
     "execution_count": 20,
     "metadata": {},
     "output_type": "execute_result"
    }
   ],
   "source": [
    "test_seq = pad_sequences(test_input, maxlen=100, truncating=\"post\", padding=\"post\")\n",
    "test_seq.shape"
   ]
  },
  {
   "cell_type": "code",
   "execution_count": 26,
   "id": "daae5e10",
   "metadata": {},
   "outputs": [
    {
     "name": "stdout",
     "output_type": "stream",
     "text": [
      "625/625 [==============================] - 4s 5ms/step - loss: 0.4524 - accuracy: 0.7882\n",
      "157/157 [==============================] - 1s 5ms/step - loss: 0.4854 - accuracy: 0.7636\n",
      "782/782 [==============================] - 4s 5ms/step - loss: 0.4741 - accuracy: 0.7744\n",
      "훈련 데이터   | 손실율 : 0.4524226486682892, 정확도 : 0.7881500124931335\n",
      "검증 데이터   | 손실율 : 0.48544707894325256, 정확도 : 0.7635999917984009\n",
      "테스트 데이터 | 손실율 : 0.4740878939628601, 정확도 : 0.7743600010871887\n"
     ]
    }
   ],
   "source": [
    "best_model = keras.models.load_model(\"./model/best_LSTM_model.keras\")\n",
    "\n",
    "train_score = best_model.evaluate(train_seq, train_target)\n",
    "val_score = best_model.evaluate(val_seq, val_target)\n",
    "test_score = best_model.evaluate(test_seq, test_target)\n",
    "\n",
    "print(f\"훈련 데이터   | 손실율 : {train_score[0]}, 정확도 : {train_score[1]}\")\n",
    "print(f\"검증 데이터   | 손실율 : {val_score[0]}, 정확도 : {val_score[1]}\")\n",
    "print(f\"테스트 데이터 | 손실율 : {test_score[0]}, 정확도 : {test_score[1]}\")"
   ]
  },
  {
   "cell_type": "code",
   "execution_count": 27,
   "id": "7b243798",
   "metadata": {},
   "outputs": [],
   "source": [
    "### 모델 생성하기\n",
    "model = Sequential([\n",
    "    # 입력계층 (입베딩 계층) 추가하기\n",
    "    Embedding(\n",
    "        input_dim = 500,\n",
    "        output_dim = 16,\n",
    "        input_length = 100\n",
    "    ),\n",
    "    # 은닉계층 (LSTM 계층) 추가하기 : RNN모델의 이름만 바꿔주면 됩니다.\n",
    "    LSTM(\n",
    "        units = 8\n",
    "    ),\n",
    "    Dense(\n",
    "        units = 64,\n",
    "        activation = \"relu\"\n",
    "    ),\n",
    "    Dense(\n",
    "        units = 32,\n",
    "        activation = \"relu\"\n",
    "    ),\n",
    "    # 출력계층 추가하기\n",
    "    Dense(\n",
    "        units = 1,\n",
    "        activation = \"sigmoid\"\n",
    "    )\n",
    "])"
   ]
  },
  {
   "cell_type": "code",
   "execution_count": 29,
   "id": "03bb6a01",
   "metadata": {},
   "outputs": [],
   "source": [
    "model.compile(\n",
    "    optimizer = keras.optimizers.Adam(learning_rate=0.001),\n",
    "    loss = \"binary_crossentropy\",\n",
    "    metrics = [\"accuracy\"]\n",
    ")"
   ]
  },
  {
   "cell_type": "code",
   "execution_count": 30,
   "id": "78338dad",
   "metadata": {},
   "outputs": [],
   "source": [
    "mc = ModelCheckpoint(\n",
    "    \"./model/best_LSTM_model.keras\",\n",
    "    save_best_only = True\n",
    ")\n",
    "\n",
    "es = EarlyStopping(\n",
    "    patience = 5,\n",
    "    restore_best_weights = True\n",
    ")"
   ]
  },
  {
   "cell_type": "code",
   "execution_count": 31,
   "id": "cc935ec1",
   "metadata": {},
   "outputs": [
    {
     "name": "stdout",
     "output_type": "stream",
     "text": [
      "Epoch 1/100\n",
      "157/157 [==============================] - 3s 13ms/step - loss: 0.6749 - accuracy: 0.5621 - val_loss: 0.5738 - val_accuracy: 0.7036\n",
      "Epoch 2/100\n",
      "157/157 [==============================] - 2s 12ms/step - loss: 0.5173 - accuracy: 0.7509 - val_loss: 0.5145 - val_accuracy: 0.7502\n",
      "Epoch 3/100\n",
      "157/157 [==============================] - 2s 11ms/step - loss: 0.4795 - accuracy: 0.7746 - val_loss: 0.4900 - val_accuracy: 0.7610\n",
      "Epoch 4/100\n",
      "157/157 [==============================] - 2s 11ms/step - loss: 0.4707 - accuracy: 0.7754 - val_loss: 0.5043 - val_accuracy: 0.7548\n",
      "Epoch 5/100\n",
      "157/157 [==============================] - 2s 11ms/step - loss: 0.4638 - accuracy: 0.7796 - val_loss: 0.4827 - val_accuracy: 0.7630\n",
      "Epoch 6/100\n",
      "157/157 [==============================] - 2s 10ms/step - loss: 0.4587 - accuracy: 0.7783 - val_loss: 0.4827 - val_accuracy: 0.7640\n",
      "Epoch 7/100\n",
      "157/157 [==============================] - 2s 10ms/step - loss: 0.4566 - accuracy: 0.7800 - val_loss: 0.4812 - val_accuracy: 0.7638\n",
      "Epoch 8/100\n",
      "157/157 [==============================] - 2s 11ms/step - loss: 0.4523 - accuracy: 0.7807 - val_loss: 0.4904 - val_accuracy: 0.7574\n",
      "Epoch 9/100\n",
      "157/157 [==============================] - 2s 11ms/step - loss: 0.4509 - accuracy: 0.7790 - val_loss: 0.4822 - val_accuracy: 0.7634\n",
      "Epoch 10/100\n",
      "157/157 [==============================] - 2s 10ms/step - loss: 0.4477 - accuracy: 0.7831 - val_loss: 0.4902 - val_accuracy: 0.7610\n",
      "Epoch 11/100\n",
      "157/157 [==============================] - 2s 10ms/step - loss: 0.4454 - accuracy: 0.7818 - val_loss: 0.4840 - val_accuracy: 0.7590\n",
      "Epoch 12/100\n",
      "157/157 [==============================] - 2s 10ms/step - loss: 0.4432 - accuracy: 0.7836 - val_loss: 0.4918 - val_accuracy: 0.7634\n"
     ]
    }
   ],
   "source": [
    "history = model.fit(train_seq,\n",
    "                    train_target,\n",
    "                    validation_data=(val_seq,\n",
    "                                    val_target),\n",
    "                    epochs=100,\n",
    "                    batch_size=128,\n",
    "                    callbacks=[mc, es]\n",
    "                    )"
   ]
  },
  {
   "cell_type": "code",
   "execution_count": 32,
   "id": "d644db42",
   "metadata": {},
   "outputs": [
    {
     "name": "stdout",
     "output_type": "stream",
     "text": [
      "625/625 [==============================] - 3s 4ms/step - loss: 0.4451 - accuracy: 0.7864\n",
      "157/157 [==============================] - 1s 4ms/step - loss: 0.4812 - accuracy: 0.7638\n",
      "782/782 [==============================] - 3s 4ms/step - loss: 0.4692 - accuracy: 0.7734\n",
      "훈련 데이터   | 손실율 : 0.44511157274246216, 정확도 : 0.7863500118255615\n",
      "검증 데이터   | 손실율 : 0.4811630845069885, 정확도 : 0.7638000249862671\n",
      "테스트 데이터 | 손실율 : 0.4692428410053253, 정확도 : 0.7734400033950806\n"
     ]
    }
   ],
   "source": [
    "best_model = keras.models.load_model(\"./model/best_LSTM_model.keras\")\n",
    "\n",
    "train_score = best_model.evaluate(train_seq, train_target)\n",
    "val_score = best_model.evaluate(val_seq, val_target)\n",
    "test_score = best_model.evaluate(test_seq, test_target)\n",
    "\n",
    "print(f\"훈련 데이터   | 손실율 : {train_score[0]}, 정확도 : {train_score[1]}\")\n",
    "print(f\"검증 데이터   | 손실율 : {val_score[0]}, 정확도 : {val_score[1]}\")\n",
    "print(f\"테스트 데이터 | 손실율 : {test_score[0]}, 정확도 : {test_score[1]}\")"
   ]
  },
  {
   "cell_type": "code",
   "execution_count": null,
   "id": "5237e592",
   "metadata": {},
   "outputs": [],
   "source": []
  },
  {
   "cell_type": "code",
   "execution_count": null,
   "id": "ce9e5e39",
   "metadata": {},
   "outputs": [],
   "source": []
  },
  {
   "cell_type": "code",
   "execution_count": null,
   "id": "8887fe6c",
   "metadata": {},
   "outputs": [],
   "source": []
  },
  {
   "cell_type": "code",
   "execution_count": null,
   "id": "cad8c44b",
   "metadata": {},
   "outputs": [],
   "source": []
  },
  {
   "cell_type": "code",
   "execution_count": null,
   "id": "7a438597",
   "metadata": {},
   "outputs": [],
   "source": []
  },
  {
   "cell_type": "code",
   "execution_count": null,
   "id": "2ecdc9f2",
   "metadata": {},
   "outputs": [],
   "source": []
  },
  {
   "cell_type": "code",
   "execution_count": null,
   "id": "24dd8b8a",
   "metadata": {},
   "outputs": [],
   "source": []
  },
  {
   "cell_type": "code",
   "execution_count": null,
   "id": "8090e8cc",
   "metadata": {},
   "outputs": [],
   "source": []
  },
  {
   "cell_type": "code",
   "execution_count": null,
   "id": "4ad6a3f8",
   "metadata": {},
   "outputs": [],
   "source": []
  }
 ],
 "metadata": {
  "kernelspec": {
   "display_name": "pk_dl_gpu",
   "language": "python",
   "name": "python3"
  },
  "language_info": {
   "codemirror_mode": {
    "name": "ipython",
    "version": 3
   },
   "file_extension": ".py",
   "mimetype": "text/x-python",
   "name": "python",
   "nbconvert_exporter": "python",
   "pygments_lexer": "ipython3",
   "version": "3.9.21"
  }
 },
 "nbformat": 4,
 "nbformat_minor": 5
}
