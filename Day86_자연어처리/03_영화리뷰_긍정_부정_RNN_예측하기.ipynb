{
 "cells": [
  {
   "cell_type": "code",
   "execution_count": null,
   "id": "711dbb9d",
   "metadata": {},
   "outputs": [],
   "source": [
    "\"\"\"\n",
    "<영화리뷰 긍정/부정 예측하기>\n",
    " 1. 사용자로부터 영화리뷰 입력 받기\n",
    " 2. 함수를 이용하여 예측 기능 수행하기\n",
    " 3. 긍정/부정 출력하기\n",
    "  -> 출력 예시 : \"00% 확률의 [긍정 or 부정] 리뷰 입니다.\"\n",
    "  \n",
    " 4. 참고로, 훈련에서 사용된 말뭉치 tokenizer가 필요합니다.\n",
    "  - 훈련 시에 훈련에 적용된 tokenizer의 최종본을 파일로 저장해야 합니다.\n",
    "  - 저장 방법 : pickle 사용하여 저장\n",
    "\"\"\""
   ]
  },
  {
   "cell_type": "code",
   "execution_count": 1,
   "id": "86e3d319",
   "metadata": {},
   "outputs": [],
   "source": [
    "import tensorflow as tf\n",
    "from tensorflow import keras\n",
    "from keras.layers import Input, Dense, Conv2D, MaxPool2D, Dropout, SimpleRNN, Embedding, LSTM, GRU, RepeatVector, TimeDistributed\n",
    "from keras.models import Sequential\n",
    "from keras.callbacks import EarlyStopping, ModelCheckpoint\n",
    "import matplotlib.pyplot as plt\n",
    "import numpy as np\n",
    "from sklearn.model_selection import train_test_split\n",
    "tf.keras.utils.set_random_seed(42)\n",
    "\n",
    "### 텍스트 길이 정규화 라이브러리\n",
    "# - 텍스트의 길이가 긴 경우에는 자르고, 길이가 짧은 경우에는 채움\n",
    "from tensorflow.keras.preprocessing.sequence import pad_sequences\n",
    "\n",
    "\n",
    "### 말뭉치 사전 처리를 위한 라이브러리\n",
    "# - 텍스트 데이터를 수자(인덱스번호)로 변환하는 라이브러리\n",
    "from tensorflow.keras.preprocessing.text import Tokenizer"
   ]
  },
  {
   "cell_type": "code",
   "execution_count": 3,
   "id": "035ad418",
   "metadata": {},
   "outputs": [],
   "source": [
    "import pickle\n",
    "\n",
    "with open(\"./files/tokenizer.pkl\", \"rb\") as fr:\n",
    "    tokenizer = pickle.load(fr)"
   ]
  },
  {
   "cell_type": "code",
   "execution_count": 4,
   "id": "62d00634",
   "metadata": {},
   "outputs": [
    {
     "data": {
      "text/plain": [
       "<keras.preprocessing.text.Tokenizer at 0x1b43d73bfa0>"
      ]
     },
     "execution_count": 4,
     "metadata": {},
     "output_type": "execute_result"
    }
   ],
   "source": [
    "tokenizer"
   ]
  },
  {
   "cell_type": "code",
   "execution_count": 6,
   "id": "30b7db1d",
   "metadata": {},
   "outputs": [
    {
     "data": {
      "text/plain": [
       "<keras.engine.sequential.Sequential at 0x1b40777cbb0>"
      ]
     },
     "execution_count": 6,
     "metadata": {},
     "output_type": "execute_result"
    }
   ],
   "source": [
    "model = tf.keras.models.load_model(\"./model/best_LSTM_model.keras\")\n",
    "model"
   ]
  },
  {
   "cell_type": "code",
   "execution_count": 18,
   "id": "62973593",
   "metadata": {},
   "outputs": [],
   "source": [
    "### 형태소 분석\n",
    "from konlpy.tag import Okt\n",
    "\n",
    "### 불용어 정의하기\n",
    "STOPWORDS = [\n",
    "    \"아\", \"의\", \"가\", \"이\", \"은\", \"들\", \"는\", \"좀\", \"잘\", \"걍\",\n",
    "    \"과\", \"도\", \"를\", \"으로\", \"자\", \"에\", \"와\", \"한\", \"하다\", \"흠\",\n",
    "    \"ㅠㅠ\", \"ㅋ\", \"ㅋㅋ\", \"ㅎ\", \"ㅎㅎ\", \"전\",\n",
    "    \"그\", \"저\", \"더\", \"또\", \"에서\", \"에게\", \"때문에\", \"하지만\", \"그러나\", \"그리고\",\n",
    "    \"뭐\", \"왜\", \"어떻게\", \"어디\", \"누가\", \"뭔가\", \"그냥\", \"요\", \"제\", \"제발\",\n",
    "    \"응\", \"음\", \"아니\", \"맞아\", \"같이\", \"좀\", \"정말\", \"진짜\", \"이런\", \"저런\",\n",
    "    \"뭐지\", \"이건\", \"저건\", \"그건\", \"것\", \"거\", \"되게\", \"너무\", \"많이\", \"조금\",\n",
    "    \"완전\", \"약간\", \"그래도\", \"그렇게\", \"항상\", \"계속\", \"때\", \"이제\", \"또한\",\n",
    "    \"부터\", \"까지\", \"처럼\", \"만큼\", \"대해\", \"대한\", \"위해\"\n",
    "]\n"
   ]
  },
  {
   "cell_type": "code",
   "execution_count": 19,
   "id": "3fa3d863",
   "metadata": {},
   "outputs": [],
   "source": [
    "okt = Okt()"
   ]
  },
  {
   "cell_type": "code",
   "execution_count": 22,
   "id": "4e4ee8ff",
   "metadata": {},
   "outputs": [
    {
     "name": "stdout",
     "output_type": "stream",
     "text": [
      "사용자 : 인생에서 꼭 한 번 이상은 무조건 봐야 하는 걸작  왜 좋은 영화인지 2시간 이상 떠들 수 있음  이마루 취향 저격 200%\n",
      "99.31% 확률의 [긍정] 리뷰입니다.\n",
      "사용자 : 어디에 내놔도 부족하지 않은 수작 이상의 걸작  영화를 보고 느낄 수 있는 재미의 최고점 경험\n",
      "99.55% 확률의 [긍정] 리뷰입니다.\n",
      "사용자 : 영화적인 만족도가 상당히 높은 작품  기억에 오랫동안 남는 작품\n",
      "92.80% 확률의 [긍정] 리뷰입니다.\n",
      "사용자 :  완벽하진 못하지만 영화가 가진 힘이 분명한 작품\n",
      "93.73% 확률의 [긍정] 리뷰입니다.\n",
      "사용자 : 보고 나서 시간이 아깝지는 않은 영화  장점이 또렷하게 있지만 아쉬움도 남는 평범한 작품  상업 영화 기준 해당 별점 이상은 나름 추천은 하는 편\n",
      "67.47% 확률의 [긍정] 리뷰입니다.\n",
      "사용자 : 이 별점부터는 영화를 보고 나서 짜증이 나기도 함\n",
      "95.84% 확률의 [부정] 리뷰입니다.\n",
      "사용자 : 졸작, 어디 하나 잘 난 데 없는 질적으로 낮은 작품\n",
      "94.86% 확률의 [부정] 리뷰입니다.\n",
      "사용자 : 망작, 이 영화를 보는데 쓴 시간이 아까운 작품\n",
      "99.41% 확률의 [부정] 리뷰입니다.\n",
      "사용자 : 영화라는 분류도 붙는 게 과분한 영상 쓰레기\n",
      "97.81% 확률의 [부정] 리뷰입니다.\n",
      "서비스를 종료합니다.\n"
     ]
    }
   ],
   "source": [
    "def get_answer(user_input):\n",
    "    tokenized = okt.morphs(user_input)\n",
    "    filtered = [word for word in tokenized if word not in STOPWORDS]\n",
    "    input_user = tokenizer.texts_to_sequences([' '.join(filtered)])\n",
    "    padded_user = pad_sequences(input_user, maxlen=11, padding=\"post\", truncating=\"post\")\n",
    "    pred = model.predict(padded_user, verbose=0)\n",
    "    sentiment = \"긍정\" if pred >= 0.5 else \"부정\"\n",
    "    percent = float(pred.item() * 100) if pred.item() >= 0.5 else float((1 - pred.item()) * 100)\n",
    "    print(f\"{percent:.2f}% 확률의 [{sentiment}] 리뷰입니다.\")\n",
    "    return\n",
    "\n",
    "while True:\n",
    "    user_input = input(\"영화 리뷰를 작성해주세요. (종료는 'Q')\")\n",
    "    \n",
    "    if user_input == None:\n",
    "        print(\"입력된 리뷰가 없습니다.\")\n",
    "        \n",
    "    elif user_input.strip().upper() == 'Q':\n",
    "        print(\"서비스를 종료합니다.\")\n",
    "        break\n",
    "    \n",
    "    print(\"사용자 :\", user_input)\n",
    "    answer = get_answer(user_input)"
   ]
  },
  {
   "cell_type": "code",
   "execution_count": 23,
   "id": "5d1baa5d",
   "metadata": {},
   "outputs": [],
   "source": [
    "def preprocess_text(text):\n",
    "    tokens = okt.morphs(text)\n",
    "    print(\"형태소 분석 결과:\", tokens)  # 디버깅용 출력\n",
    "    filtered = [word for word in tokens if word not in STOPWORDS]\n",
    "    print(\"불용어 제거 후:\", filtered)  # 디버깅용 출력\n",
    "    return ' '.join(filtered)"
   ]
  },
  {
   "cell_type": "code",
   "execution_count": 24,
   "id": "8d229c46",
   "metadata": {},
   "outputs": [
    {
     "name": "stdout",
     "output_type": "stream",
     "text": [
      "원문 토큰: ['인생', '에서', '꼭', '한', '번', '이상은', '무조건', '봐야', '하는', '걸작', '왜', '좋은', '영화', '인지', '2시간', '이상', '떠들', '수', '있음', '이마루', '취향', '저격', '200%']\n",
      "불용어 제거 토큰: ['인생', '꼭', '번', '이상은', '무조건', '봐야', '하는', '걸작', '좋은', '영화', '인지', '2시간', '이상', '떠들', '수', '있음', '이마루', '취향', '저격', '200%']\n"
     ]
    }
   ],
   "source": [
    "test_sentence = \"인생에서 꼭 한 번 이상은 무조건 봐야 하는 걸작  왜 좋은 영화인지 2시간 이상 떠들 수 있음  이마루 취향 저격 200%\"\n",
    "tokens = okt.morphs(test_sentence)\n",
    "filtered = [word for word in tokens if word not in STOPWORDS]\n",
    "print(\"원문 토큰:\", tokens)\n",
    "print(\"불용어 제거 토큰:\", filtered)"
   ]
  },
  {
   "cell_type": "code",
   "execution_count": null,
   "id": "79d92915",
   "metadata": {},
   "outputs": [],
   "source": []
  },
  {
   "cell_type": "code",
   "execution_count": null,
   "id": "1622c96d",
   "metadata": {},
   "outputs": [],
   "source": []
  },
  {
   "cell_type": "code",
   "execution_count": null,
   "id": "5ace5714",
   "metadata": {},
   "outputs": [],
   "source": []
  },
  {
   "cell_type": "code",
   "execution_count": null,
   "id": "a31a1864",
   "metadata": {},
   "outputs": [],
   "source": []
  },
  {
   "cell_type": "code",
   "execution_count": null,
   "id": "fada6067",
   "metadata": {},
   "outputs": [],
   "source": []
  },
  {
   "cell_type": "code",
   "execution_count": null,
   "id": "e9828e36",
   "metadata": {},
   "outputs": [],
   "source": []
  },
  {
   "cell_type": "code",
   "execution_count": null,
   "id": "044da03c",
   "metadata": {},
   "outputs": [],
   "source": []
  },
  {
   "cell_type": "code",
   "execution_count": null,
   "id": "43be054d",
   "metadata": {},
   "outputs": [],
   "source": []
  },
  {
   "cell_type": "code",
   "execution_count": null,
   "id": "46d68ca0",
   "metadata": {},
   "outputs": [],
   "source": []
  },
  {
   "cell_type": "code",
   "execution_count": null,
   "id": "3e1a1d53",
   "metadata": {},
   "outputs": [],
   "source": []
  },
  {
   "cell_type": "code",
   "execution_count": null,
   "id": "f1884ef1",
   "metadata": {},
   "outputs": [],
   "source": []
  },
  {
   "cell_type": "code",
   "execution_count": null,
   "id": "b681e3f7",
   "metadata": {},
   "outputs": [],
   "source": []
  },
  {
   "cell_type": "code",
   "execution_count": null,
   "id": "5ba27371",
   "metadata": {},
   "outputs": [],
   "source": []
  },
  {
   "cell_type": "code",
   "execution_count": null,
   "id": "24f51f6b",
   "metadata": {},
   "outputs": [],
   "source": []
  },
  {
   "cell_type": "code",
   "execution_count": null,
   "id": "b61b1cc8",
   "metadata": {},
   "outputs": [],
   "source": []
  },
  {
   "cell_type": "code",
   "execution_count": null,
   "id": "fa2e2a46",
   "metadata": {},
   "outputs": [],
   "source": []
  },
  {
   "cell_type": "code",
   "execution_count": null,
   "id": "10168ffe",
   "metadata": {},
   "outputs": [],
   "source": []
  },
  {
   "cell_type": "code",
   "execution_count": null,
   "id": "51181b4a",
   "metadata": {},
   "outputs": [],
   "source": []
  },
  {
   "cell_type": "code",
   "execution_count": null,
   "id": "0d2d08f3",
   "metadata": {},
   "outputs": [],
   "source": []
  },
  {
   "cell_type": "code",
   "execution_count": null,
   "id": "dd7c3b5e",
   "metadata": {},
   "outputs": [],
   "source": []
  },
  {
   "cell_type": "code",
   "execution_count": null,
   "id": "ca0bd4d4",
   "metadata": {},
   "outputs": [],
   "source": []
  },
  {
   "cell_type": "code",
   "execution_count": null,
   "id": "1f45f1b6",
   "metadata": {},
   "outputs": [],
   "source": []
  },
  {
   "cell_type": "code",
   "execution_count": null,
   "id": "fccae6a5",
   "metadata": {},
   "outputs": [],
   "source": []
  },
  {
   "cell_type": "code",
   "execution_count": null,
   "id": "34b6b1b9",
   "metadata": {},
   "outputs": [],
   "source": []
  },
  {
   "cell_type": "code",
   "execution_count": null,
   "id": "667dfae2",
   "metadata": {},
   "outputs": [],
   "source": []
  },
  {
   "cell_type": "code",
   "execution_count": null,
   "id": "2be0371e",
   "metadata": {},
   "outputs": [],
   "source": []
  },
  {
   "cell_type": "code",
   "execution_count": null,
   "id": "25b5f610",
   "metadata": {},
   "outputs": [],
   "source": []
  }
 ],
 "metadata": {
  "kernelspec": {
   "display_name": "pk_dl_gpu",
   "language": "python",
   "name": "python3"
  },
  "language_info": {
   "codemirror_mode": {
    "name": "ipython",
    "version": 3
   },
   "file_extension": ".py",
   "mimetype": "text/x-python",
   "name": "python",
   "nbconvert_exporter": "python",
   "pygments_lexer": "ipython3",
   "version": "3.9.21"
  }
 },
 "nbformat": 4,
 "nbformat_minor": 5
}
