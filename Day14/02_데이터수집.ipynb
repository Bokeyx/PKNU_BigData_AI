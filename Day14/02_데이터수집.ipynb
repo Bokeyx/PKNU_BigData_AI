{
 "cells": [
  {
   "cell_type": "code",
   "execution_count": null,
   "id": "a58c9858-fbf5-47a5-9420-3fd30df8666a",
   "metadata": {},
   "outputs": [],
   "source": [
    "\"\"\"\n",
    "<Open-Api 방식>\n",
    " - 특정 기관에서 데이터를 제공하는 방식으로,\n",
    " - 웹URL을 이용해서 제공하는 방식(정확하게는 웹프로토콜을 이용해서 제공)\n",
    "  -> 프로토콜이라 함은 : 규약, 규칙이라는 의미입니다.\n",
    " - 데이터를 요청하는 사람(수집자)과 / 데이터를 제공하는 기관(제공자)이 있습니다.\n",
    " - 수집자는 제공자가 제공하는 URL을 사용해야 하며,\n",
    "  -> 제공자가 정의한 key : value의 값들을 받아와서 사용해야 합니다.\n",
    " - 제공자는 아무에게나 데이터를 제공하지 않으며, 승인된 수집자에게만 데이터를 제공합니다.\n",
    "  -> 승입여부 : 제공자가 발급한 API-Key를 수집자가 전달 받아서 요청 시 사용합니다.\n",
    "\n",
    " <중요 용어>\n",
    " - 수집자 == 요청자(클라이언트, client) == request\n",
    " - 제공자 == 응답자(서버, server) == response\n",
    "\"\"\""
   ]
  },
  {
   "cell_type": "code",
   "execution_count": null,
   "id": "560b55dc-b71f-4446-811c-7eec77779387",
   "metadata": {},
   "outputs": [],
   "source": [
    "\"\"\"\n",
    " - 공공데이터포털 접속 : www.data.go.kr\n",
    " - 회원가입 되어 있어야 합니다. (로그인 필요)\n",
    " - 검색어에 '한국공학공사 전국공항 주차장 혼잡도'로 검색\n",
    " - [활용신청] 버튼 클릭 \n",
    "     -> 활용 신청 시 활용목적을 작성할 때는 '학술/연구'로...\n",
    "\"\"\""
   ]
  },
  {
   "cell_type": "markdown",
   "id": "a7c6fee3-4d73-4023-98df-356a52e2c0c9",
   "metadata": {},
   "source": [
    "## 사용할 라이브러리 정의"
   ]
  },
  {
   "cell_type": "code",
   "execution_count": 1,
   "id": "efe03531-55f4-47d3-a6d5-8bd04bc9fc70",
   "metadata": {},
   "outputs": [],
   "source": [
    "### 데이터 처리\n",
    "import pandas as pd\n",
    "\n",
    "### 웹 프로토콜을 통해서 요청 URL을 전송하고 결과를 받아오는 라이브러리\n",
    "import requests\n",
    "\n",
    "### 전달받은 태그 코드의 데이터를 검색 추출하기 위한 라이브러리\n",
    "from bs4 import BeautifulSoup\n",
    "\n",
    "### 전달받은 태그 코드를 인식하지 못하는 경우를 대비해서 라이브러리 추가만 해놓기\n",
    "# - 설치 필요 : pip install lxml\n",
    "# - 설치 후 커널 재시작해야 합니다.\n",
    "from openpyxl.workbook import Workbook"
   ]
  },
  {
   "cell_type": "markdown",
   "id": "0d74e627-00aa-473e-9bf7-d16bf19dc996",
   "metadata": {},
   "source": [
    "## 요청 처리를 위한 변수 정의하기"
   ]
  },
  {
   "cell_type": "code",
   "execution_count": 2,
   "id": "792f4ef9-2aa3-4026-bf25-7b13a73b17aa",
   "metadata": {},
   "outputs": [],
   "source": [
    "### API 인증키 변수정의\n",
    "# api_key = '742HGd21WfbEf7CQo47sG4r%2B5bKm38NSkuyUQthDu1%2BjhyylvgAN0BgU7nB%2BNgp2l%2Bc27O4TxWRP3koINEP4%2Fw%3D%3D'\n",
    "api_key='PVdeh44WlF%2BHj6bGzfI2BXUldlea7Ggo%2FjjXvhbHCMNNFotchb2byGTopt4uAFS07RQzqmeU3M2Y8HcMmlYW9w%3D%3D'\n",
    "\n",
    "### 요청에 사용할 공항코드 변수 정의\n",
    "schAirportCode_list = ['GMP','PUS', 'CJU', 'TAE', 'KWJ',\n",
    "                       'RSU', 'USN', 'KUV', 'WJU', 'CJJ']\n",
    "\n",
    "### 한페이지 행의 수\n",
    "numOfRows = 10\n",
    "\n",
    "### 페이지 번호\n",
    "pageNo = 1"
   ]
  },
  {
   "cell_type": "code",
   "execution_count": 3,
   "id": "7e8f68b3-c5b9-4a4a-ad24-e50e28f53feb",
   "metadata": {},
   "outputs": [
    {
     "data": {
      "text/plain": [
       "'http://openapi.airport.co.kr/service/rest/AirportParkingCongestion/airportParkingCongestionRT?schAirportCode=GMP&serviceKey=PVdeh44WlF%2BHj6bGzfI2BXUldlea7Ggo%2FjjXvhbHCMNNFotchb2byGTopt4uAFS07RQzqmeU3M2Y8HcMmlYW9w%3D%3D&numOfRows=10&pageNo=1'"
      ]
     },
     "execution_count": 3,
     "metadata": {},
     "output_type": "execute_result"
    }
   ],
   "source": [
    "### 요청 URL 완성하기\n",
    "api_url = 'http://openapi.airport.co.kr/service/rest/AirportParkingCongestion/airportParkingCongestionRT'\n",
    "api_url += f'?schAirportCode={schAirportCode_list[0]}'\n",
    "api_url += f'&serviceKey={api_key}&numOfRows={numOfRows}&pageNo={pageNo}'\n",
    "api_url"
   ]
  },
  {
   "cell_type": "markdown",
   "id": "523c9433-502e-40fd-aff6-82045273d096",
   "metadata": {},
   "source": [
    "## 요청 및 응답 받아오기"
   ]
  },
  {
   "cell_type": "code",
   "execution_count": 4,
   "id": "21dab710-8fa2-4026-8b93-a0d326b018e5",
   "metadata": {},
   "outputs": [
    {
     "data": {
      "text/plain": [
       "<Response [200]>"
      ]
     },
     "execution_count": 4,
     "metadata": {},
     "output_type": "execute_result"
    }
   ],
   "source": [
    "### requests 라이브러리를 이용해서 서버로 url을 넘겨주기(요청)\n",
    "rs_data = requests.get(api_url)\n",
    "rs_data\n",
    "### Response [200] : Response 클래스 객체에 의해 잘 전송받았다는 코드\n",
    "# - API-Key 발급 후 즉시 데이터는 받아오지 못하는 경우 있음(인증에 시간 걸림)"
   ]
  },
  {
   "cell_type": "code",
   "execution_count": 5,
   "id": "403a1472-4816-4ccb-b244-49e131f7e253",
   "metadata": {},
   "outputs": [
    {
     "data": {
      "text/plain": [
       "'<?xml version=\"1.0\" encoding=\"UTF-8\" standalone=\"yes\"?><response><header><resultCode>00</resultCode><resultMsg>NORMAL SERVICE.</resultMsg></header><body><items><item><airportEng>GIMPO INTERNATIONAL AIRPORT</airportEng><airportKor>김포국제공항</airportKor><parkingAirportCodeName>국내선 제1주차장</parkingAirportCodeName><parkingCongestion>원활</parkingCongestion><parkingCongestionDegree>85.65%</parkingCongestionDegree><parkingOccupiedSpace>1952</parkingOccupiedSpace><parkingTotalSpace>2279</parkingTotalSpace><sysGetdate>2025-02-21</sysGetdate><sysGettime>08:58:03</sysGettime></item><item><airportEng>GIMPO INTERNATIONAL AIRPORT</airportEng><airportKor>김포국제공항</airportKor><parkingAirportCodeName>국내선 제2주차장</parkingAirportCodeName><parkingCongestion>원활</parkingCongestion><parkingCongestionDegree>50.14%</parkingCongestionDegree><parkingOccupiedSpace>869</parkingOccupiedSpace><parkingTotalSpace>1733</parkingTotalSpace><sysGetdate>2025-02-21</sysGetdate><sysGettime>08:58:03</sysGettime></item><item><airportEng>GIMPO INTERNATIONAL AIRPORT</airportEng><airportKor>김포국제공항</airportKor><parkingAirportCodeName>국제선 주차빌딩</parkingAirportCodeName><parkingCongestion>원활</parkingCongestion><parkingCongestionDegree>85.89%</parkingCongestionDegree><parkingOccupiedSpace>487</parkingOccupiedSpace><parkingTotalSpace>567</parkingTotalSpace><sysGetdate>2025-02-21</sysGetdate><sysGettime>08:58:03</sysGettime></item><item><airportEng>GIMPO INTERNATIONAL AIRPORT</airportEng><airportKor>김포국제공항</airportKor><parkingAirportCodeName>국제선 지하</parkingAirportCodeName><parkingCongestion>원활</parkingCongestion><parkingCongestionDegree>84.81%</parkingCongestionDegree><parkingOccupiedSpace>508</parkingOccupiedSpace><parkingTotalSpace>599</parkingTotalSpace><sysGetdate>2025-02-21</sysGetdate><sysGettime>08:58:03</sysGettime></item><item><airportEng>GIMPO INTERNATIONAL AIRPORT</airportEng><airportKor>김포국제공항</airportKor><parkingAirportCodeName>화물청사</parkingAirportCodeName><parkingCongestion>만차</parkingCongestion><parkingCongestionDegree>100%</parkingCongestionDegree><parkingOccupiedSpace>737</parkingOccupiedSpace><parkingTotalSpace>737</parkingTotalSpace><sysGetdate>2025-02-21</sysGetdate><sysGettime>08:58:03</sysGettime></item></items><numOfRows>10</numOfRows><pageNo>1</pageNo><totalCount>5</totalCount></body></response>'"
      ]
     },
     "execution_count": 5,
     "metadata": {},
     "output_type": "execute_result"
    }
   ],
   "source": [
    "### 응답 받은 데이터 확인하기\n",
    "rs_text = rs_data.text\n",
    "rs_text"
   ]
  },
  {
   "cell_type": "code",
   "execution_count": 6,
   "id": "41a85895-279b-43e2-b8bb-04f9a26c90eb",
   "metadata": {},
   "outputs": [
    {
     "data": {
      "text/plain": [
       "<?xml version=\"1.0\" encoding=\"utf-8\"?>\n",
       "<response><header><resultCode>00</resultCode><resultMsg>NORMAL SERVICE.</resultMsg></header><body><items><item><airportEng>GIMPO INTERNATIONAL AIRPORT</airportEng><airportKor>김포국제공항</airportKor><parkingAirportCodeName>국내선 제1주차장</parkingAirportCodeName><parkingCongestion>원활</parkingCongestion><parkingCongestionDegree>85.65%</parkingCongestionDegree><parkingOccupiedSpace>1952</parkingOccupiedSpace><parkingTotalSpace>2279</parkingTotalSpace><sysGetdate>2025-02-21</sysGetdate><sysGettime>08:58:03</sysGettime></item><item><airportEng>GIMPO INTERNATIONAL AIRPORT</airportEng><airportKor>김포국제공항</airportKor><parkingAirportCodeName>국내선 제2주차장</parkingAirportCodeName><parkingCongestion>원활</parkingCongestion><parkingCongestionDegree>50.14%</parkingCongestionDegree><parkingOccupiedSpace>869</parkingOccupiedSpace><parkingTotalSpace>1733</parkingTotalSpace><sysGetdate>2025-02-21</sysGetdate><sysGettime>08:58:03</sysGettime></item><item><airportEng>GIMPO INTERNATIONAL AIRPORT</airportEng><airportKor>김포국제공항</airportKor><parkingAirportCodeName>국제선 주차빌딩</parkingAirportCodeName><parkingCongestion>원활</parkingCongestion><parkingCongestionDegree>85.89%</parkingCongestionDegree><parkingOccupiedSpace>487</parkingOccupiedSpace><parkingTotalSpace>567</parkingTotalSpace><sysGetdate>2025-02-21</sysGetdate><sysGettime>08:58:03</sysGettime></item><item><airportEng>GIMPO INTERNATIONAL AIRPORT</airportEng><airportKor>김포국제공항</airportKor><parkingAirportCodeName>국제선 지하</parkingAirportCodeName><parkingCongestion>원활</parkingCongestion><parkingCongestionDegree>84.81%</parkingCongestionDegree><parkingOccupiedSpace>508</parkingOccupiedSpace><parkingTotalSpace>599</parkingTotalSpace><sysGetdate>2025-02-21</sysGetdate><sysGettime>08:58:03</sysGettime></item><item><airportEng>GIMPO INTERNATIONAL AIRPORT</airportEng><airportKor>김포국제공항</airportKor><parkingAirportCodeName>화물청사</parkingAirportCodeName><parkingCongestion>만차</parkingCongestion><parkingCongestionDegree>100%</parkingCongestionDegree><parkingOccupiedSpace>737</parkingOccupiedSpace><parkingTotalSpace>737</parkingTotalSpace><sysGetdate>2025-02-21</sysGetdate><sysGettime>08:58:03</sysGettime></item></items><numOfRows>10</numOfRows><pageNo>1</pageNo><totalCount>5</totalCount></body></response>"
      ]
     },
     "execution_count": 6,
     "metadata": {},
     "output_type": "execute_result"
    }
   ],
   "source": [
    "### 문자열 타입의 데이터에 -> 태그(xml) 포맷이라는 의미 부여시키기\n",
    "# - 의미 부여를 -> 파싱(변환, parsing) 처리라고 합니다.\n",
    "# - BeautifulSoup() 라이브러리를 사용합니다.\n",
    "rs_xml = BeautifulSoup(rs_text, 'xml')\n",
    "rs_xml"
   ]
  },
  {
   "cell_type": "code",
   "execution_count": 7,
   "id": "986551da-0bc8-4d9a-b060-a6f9430950e3",
   "metadata": {},
   "outputs": [
    {
     "data": {
      "text/plain": [
       "[<airportKor>김포국제공항</airportKor>,\n",
       " <airportKor>김포국제공항</airportKor>,\n",
       " <airportKor>김포국제공항</airportKor>,\n",
       " <airportKor>김포국제공항</airportKor>,\n",
       " <airportKor>김포국제공항</airportKor>]"
      ]
     },
     "execution_count": 7,
     "metadata": {},
     "output_type": "execute_result"
    }
   ],
   "source": [
    "### 태그 이름 : key\n",
    "### 태그와 태그 사이의 텍스트 : value\n",
    "# - find_all(찾고자하는 태그이름 - key) : 해당 태그이름이 있는 모든 태그를 리스트 타입으로 변환\n",
    "rs_xml.find_all('airportKor')"
   ]
  },
  {
   "cell_type": "code",
   "execution_count": 8,
   "id": "0f56d34e-4794-49fd-9153-e06afc1109af",
   "metadata": {},
   "outputs": [
    {
     "data": {
      "text/plain": [
       "<airportKor>김포국제공항</airportKor>"
      ]
     },
     "execution_count": 8,
     "metadata": {},
     "output_type": "execute_result"
    }
   ],
   "source": [
    "# - find(찾고자하는 태그이름 - key) : 해당 태그이름이 있는 모든 태그 중에서 첫번째 태그만 반환 (xml 타입)\n",
    "rs_xml.find('airportKor')"
   ]
  },
  {
   "cell_type": "code",
   "execution_count": 9,
   "id": "e7a9a734-42cb-4cc9-a832-393566b2b78c",
   "metadata": {},
   "outputs": [
    {
     "data": {
      "text/plain": [
       "'김포국제공항'"
      ]
     },
     "execution_count": 9,
     "metadata": {},
     "output_type": "execute_result"
    }
   ],
   "source": [
    "### 태그와 태그사잉의 값 추출하기\n",
    "# - xml 타입인 경우만 가능\n",
    "# - 문자열로 반환함\n",
    "rs_xml.find(\"airportKor\").text"
   ]
  },
  {
   "cell_type": "code",
   "execution_count": 10,
   "id": "b220cf1f-78ba-4faf-9598-53a0280045a8",
   "metadata": {},
   "outputs": [
    {
     "data": {
      "text/plain": [
       "'김포국제공항'"
      ]
     },
     "execution_count": 10,
     "metadata": {},
     "output_type": "execute_result"
    }
   ],
   "source": [
    "rs_xml.find_all(\"airportKor\")[0].text"
   ]
  },
  {
   "cell_type": "code",
   "execution_count": 11,
   "id": "2d5918f9-ac21-4b48-aa03-6952f9e0520a",
   "metadata": {},
   "outputs": [
    {
     "data": {
      "text/plain": [
       "'85.65%'"
      ]
     },
     "execution_count": 11,
     "metadata": {},
     "output_type": "execute_result"
    }
   ],
   "source": [
    "### 주차장 혼잡률에 대한 모든 태그 정보 가지고 오기...\n",
    "rs_xml.find_all('parkingCongestionDegree')[0].text"
   ]
  },
  {
   "cell_type": "code",
   "execution_count": 12,
   "id": "41ab4387-1df7-42c9-b8e0-1650569baecc",
   "metadata": {},
   "outputs": [
    {
     "name": "stdout",
     "output_type": "stream",
     "text": [
      "혼잡도 : 원활\n",
      "주차장이름 : 국내선 제1주차장\n",
      "총주차면수 : 2279\n",
      "입고된차량수 : 1952\n",
      "수집 기준년월일 : 2025-02-21\n",
      "주차 가능한 여유공간 수: 327\n"
     ]
    }
   ],
   "source": [
    "### 혼잡도\n",
    "print(f\"혼잡도 : {rs_xml.find_all('parkingCongestion')[0].text}\")\n",
    "### 주차장이름\n",
    "print(f\"주차장이름 : {rs_xml.find_all('parkingAirportCodeName')[0].text}\")\n",
    "### 총주차면수\n",
    "print(f\"총주차면수 : {rs_xml.find_all('parkingTotalSpace')[0].text}\")\n",
    "### 입고된차량수\n",
    "print(f\"입고된차량수 : {rs_xml.find_all('parkingOccupiedSpace')[0].text}\")\n",
    "### 수집 기준년월일\n",
    "print(f\"수집 기준년월일 : {rs_xml.find_all('sysGetdate')[0].text}\")\n",
    "### 수집 기준시간\n",
    "(f\"수집 기준시간 : {rs_xml.find_all('sysGettime')[0].text}\")\n",
    "### 주차 가능한 여유공간 수\n",
    "tot = int(rs_xml.find_all('parkingTotalSpace')[0].text)\n",
    "occ = int(rs_xml.find_all('parkingOccupiedSpace')[0].text)\n",
    "print(f\"주차 가능한 여유공간 수: {tot - occ}\")"
   ]
  },
  {
   "cell_type": "code",
   "execution_count": null,
   "id": "982d69b6-ea80-4664-adc8-90a9e742eedb",
   "metadata": {},
   "outputs": [],
   "source": [
    "\"\"\"\n",
    "김포 국제공항에 대한 전체 주차장 정보를 출력해 주세요..\n",
    "출력 결과는 아래와 같이..\n",
    "[공항명] : 김포국제공항\n",
    "[기준 년월일 시분초] : 0000-00-00 00:00:00\n",
    "--------------------------------------------\n",
    "[주차장명] : 국내선 제1주차장\n",
    " 총주차면수 : 111\n",
    " ...\n",
    " 주차장 정보 모두\n",
    " -------------------------------------------\n",
    "[주차장명] : 국내선 제2주차장\n",
    " 총주차면수 : 222\n",
    " ...\n",
    " 주차장 정보 모두\n",
    " --------------------------------------------\n",
    " \n",
    "\n",
    "\"\"\""
   ]
  },
  {
   "cell_type": "code",
   "execution_count": 13,
   "id": "da734718-c3d5-4280-8cc0-d8346731738f",
   "metadata": {},
   "outputs": [
    {
     "name": "stdout",
     "output_type": "stream",
     "text": [
      "[공항명] : 김포국제공항\n",
      "[기준 년월일 시분초] : 2025-02-21 08:58:03\n",
      "--------------------------------------------------\n",
      "[주차장명] : 국내선 제1주차장\n",
      " - 총주차면수 : 2279\n",
      " - 입고된차량수 : 1952\n",
      " - 주차 가능한 여유공간 수: 327\n"
     ]
    }
   ],
   "source": [
    "print(f\"[공항명] : {rs_xml.find_all('airportKor')[0].text}\")\n",
    "### 수집 기준년월일\n",
    "print(f\"[기준 년월일 시분초] : {rs_xml.find_all('sysGetdate')[0].text} {rs_xml.find_all('sysGettime')[0].text}\")\n",
    "print(\"--------------------------------------------------\")\n",
    "### 주차장이름\n",
    "print(f\"[주차장명] : {rs_xml.find_all('parkingAirportCodeName')[0].text}\")\n",
    "### 총주차면수\n",
    "print(f\" - 총주차면수 : {rs_xml.find_all('parkingTotalSpace')[0].text}\")\n",
    "### 입고된차량수\n",
    "print(f\" - 입고된차량수 : {rs_xml.find_all('parkingOccupiedSpace')[0].text}\")\n",
    "### 주차 가능한 여유공간 수\n",
    "tot = int(rs_xml.find_all('parkingTotalSpace')[0].text)\n",
    "occ = int(rs_xml.find_all('parkingOccupiedSpace')[0].text)\n",
    "print(f\" - 주차 가능한 여유공간 수: {tot - occ}\")"
   ]
  },
  {
   "cell_type": "code",
   "execution_count": 14,
   "id": "8d1fbd25-118a-4d2a-99c9-4dc3f95d8041",
   "metadata": {},
   "outputs": [
    {
     "name": "stdout",
     "output_type": "stream",
     "text": [
      "[공항명] : 김포국제공항\n",
      "[기준 년월일 시분초] : 2025-02-21 08:58:03\n",
      "------------------------------------------\n",
      "[주차장명] : 국내선 제1주차장\n",
      " - 총 주차면 수 : 2279\n",
      " - 입고된 차량 수 : 1952\n",
      " - 주차 가능한 여유공간 수: 327\n",
      "------------------------------------------\n",
      "\n",
      "[공항명] : 김포국제공항\n",
      "[기준 년월일 시분초] : 2025-02-21 08:58:03\n",
      "------------------------------------------\n",
      "[주차장명] : 국내선 제2주차장\n",
      " - 총 주차면 수 : 1733\n",
      " - 입고된 차량 수 : 869\n",
      " - 주차 가능한 여유공간 수: 864\n",
      "------------------------------------------\n",
      "\n",
      "[공항명] : 김포국제공항\n",
      "[기준 년월일 시분초] : 2025-02-21 08:58:03\n",
      "------------------------------------------\n",
      "[주차장명] : 국제선 주차빌딩\n",
      " - 총 주차면 수 : 567\n",
      " - 입고된 차량 수 : 487\n",
      " - 주차 가능한 여유공간 수: 80\n",
      "------------------------------------------\n",
      "\n",
      "[공항명] : 김포국제공항\n",
      "[기준 년월일 시분초] : 2025-02-21 08:58:03\n",
      "------------------------------------------\n",
      "[주차장명] : 국제선 지하\n",
      " - 총 주차면 수 : 599\n",
      " - 입고된 차량 수 : 508\n",
      " - 주차 가능한 여유공간 수: 91\n",
      "------------------------------------------\n",
      "\n",
      "[공항명] : 김포국제공항\n",
      "[기준 년월일 시분초] : 2025-02-21 08:58:03\n",
      "------------------------------------------\n",
      "[주차장명] : 화물청사\n",
      " - 총 주차면 수 : 737\n",
      " - 입고된 차량 수 : 737\n",
      " - 주차 가능한 여유공간 수: 0\n",
      "------------------------------------------\n",
      "\n"
     ]
    }
   ],
   "source": [
    "for i in range(len(rs_xml.find_all('airportKor'))):\n",
    "    print(f\"[공항명] : {rs_xml.find_all('airportKor')[i].text}\")\n",
    "    ### 수집 기준년월일\n",
    "    print(f\"[기준 년월일 시분초] : {rs_xml.find_all('sysGetdate')[i].text} {rs_xml.find_all('sysGettime')[i].text}\")\n",
    "    print(\"------------------------------------------\")\n",
    "    ### 주차장이름\n",
    "    print(f\"[주차장명] : {rs_xml.find_all('parkingAirportCodeName')[i].text}\")\n",
    "    ### 총주차면수\n",
    "    print(f\" - 총 주차면 수 : {rs_xml.find_all('parkingTotalSpace')[i].text}\")\n",
    "    ### 입고된차량수\n",
    "    print(f\" - 입고된 차량 수 : {rs_xml.find_all('parkingOccupiedSpace')[i].text}\")\n",
    "    ### 주차 가능한 여유공간 수\n",
    "    tot = int(rs_xml.find_all('parkingTotalSpace')[i].text)\n",
    "    occ = int(rs_xml.find_all('parkingOccupiedSpace')[i].text)\n",
    "    print(f\" - 주차 가능한 여유공간 수: {tot - occ}\")\n",
    "    print(\"------------------------------------------\")\n",
    "    print(\"\")"
   ]
  },
  {
   "cell_type": "code",
   "execution_count": null,
   "id": "e35be2bc-a613-4a01-8d1d-3b5d20196ada",
   "metadata": {},
   "outputs": [],
   "source": []
  },
  {
   "cell_type": "code",
   "execution_count": null,
   "id": "51e4f64c-8ba7-42f3-9622-5f4a272ed4a0",
   "metadata": {},
   "outputs": [],
   "source": []
  },
  {
   "cell_type": "code",
   "execution_count": null,
   "id": "88b421ea-682a-4559-9617-02651596a742",
   "metadata": {},
   "outputs": [],
   "source": []
  },
  {
   "cell_type": "code",
   "execution_count": null,
   "id": "ab768d04-53c3-4ca1-a419-f6b8ce8423ff",
   "metadata": {},
   "outputs": [],
   "source": []
  },
  {
   "cell_type": "code",
   "execution_count": null,
   "id": "92e6dd0b-86df-45d2-9107-928c55be093d",
   "metadata": {},
   "outputs": [],
   "source": []
  }
 ],
 "metadata": {
  "kernelspec": {
   "display_name": "pk_base_202503_kernel",
   "language": "python",
   "name": "pk_base_202503"
  },
  "language_info": {
   "codemirror_mode": {
    "name": "ipython",
    "version": 3
   },
   "file_extension": ".py",
   "mimetype": "text/x-python",
   "name": "python",
   "nbconvert_exporter": "python",
   "pygments_lexer": "ipython3",
   "version": "3.9.21"
  }
 },
 "nbformat": 4,
 "nbformat_minor": 5
}
