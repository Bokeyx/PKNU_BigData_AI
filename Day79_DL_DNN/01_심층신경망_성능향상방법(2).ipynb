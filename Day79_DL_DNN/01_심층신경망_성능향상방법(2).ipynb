{
 "cells": [
  {
   "cell_type": "code",
   "execution_count": null,
   "id": "24fc7c96",
   "metadata": {},
   "outputs": [],
   "source": [
    "\"\"\"\n",
    "1. 패션데이터셋 읽어들이기 : 변수는 기존과 동일\n",
    "2. 데이터 스케일링 : 변수는 기존과 동일\n",
    "3. 2차원 데이터로 변경\n",
    "4. 훈련 : 검증 = 8:2로 분리 : 변수는 기존과 동일\n",
    "5. 모델 생성 : 변수명 model\n",
    "6. 입력계층, 은닉계층, 출력계층 생성 및 모델에 추가하기\n",
    "7. 모델 환경설정\n",
    "8. 모델 훈련시키기\n",
    "\"\"\""
   ]
  },
  {
   "cell_type": "code",
   "execution_count": 1,
   "id": "8e827cba",
   "metadata": {},
   "outputs": [],
   "source": [
    "### 텐서플로우 프레임워크(패키지라고도 칭함)\n",
    "import tensorflow as tf\n",
    "\n",
    "### 케라스 라이브러리 불러들이기\n",
    "from tensorflow import keras\n",
    "\n",
    "from keras.layers import Input, Dense\n",
    "from keras.models import Sequential                  # 순차 모델 클래스\n",
    "from keras.layers import Dense, Dropout, Input       # 완전 연결층(Dense), 드롭아웃(Dropout) 레이어\n",
    "from keras.regularizers import l2                    # L2 정규화 함수\n",
    "from keras.callbacks import EarlyStopping, ModelCheckpoint           # 조기 종료 콜백 함수\n",
    "\n",
    "### 시각화 라이브러리 불러들이기\n",
    "import matplotlib.pyplot as plt\n",
    "\n",
    "### 넘파이\n",
    "import numpy as np\n",
    "\n",
    "### 훈련 및 테스트 데이터로 분류하는 라이브러리\n",
    "from sklearn.model_selection import train_test_split\n",
    "\n",
    "\n",
    "### 딥러닝 랜덤 규칙 정의하기\n",
    "# - 딥러닝에서의 랜덤 규칙은 항상 일정하게 유지되지는 않음\n",
    "# - 딥러닝 모델 내부에서 훈련을 위한 데이터를 임의로 추출하여 사용(사람이 관여 안함)\n",
    "tf.keras.utils.set_random_seed(42)"
   ]
  },
  {
   "cell_type": "code",
   "execution_count": 2,
   "id": "1cf3fdbd",
   "metadata": {},
   "outputs": [
    {
     "name": "stdout",
     "output_type": "stream",
     "text": [
      "(60000, 28, 28) (60000,)\n",
      "(10000, 28, 28) (10000,)\n"
     ]
    }
   ],
   "source": [
    "(train_input, train_target), (test_input, test_target) = keras.datasets.fashion_mnist.load_data()\n",
    "\n",
    "print(train_input.shape, train_target.shape)\n",
    "print(test_input.shape, test_target.shape)"
   ]
  },
  {
   "cell_type": "code",
   "execution_count": 3,
   "id": "24ea8a23",
   "metadata": {},
   "outputs": [
    {
     "name": "stdout",
     "output_type": "stream",
     "text": [
      "(60000, 28, 28) (60000,)\n",
      "(10000, 28, 28) (10000,)\n"
     ]
    }
   ],
   "source": [
    "train_scaled_255 = train_input / 255\n",
    "test_scaled_255 = test_input / 255\n",
    "\n",
    "print(train_scaled_255.shape, train_target.shape)\n",
    "print(test_scaled_255.shape, test_target.shape)"
   ]
  },
  {
   "cell_type": "code",
   "execution_count": 4,
   "id": "d657c5f6",
   "metadata": {},
   "outputs": [
    {
     "name": "stdout",
     "output_type": "stream",
     "text": [
      "(60000, 784) (60000,)\n",
      "(10000, 784) (10000,)\n"
     ]
    }
   ],
   "source": [
    "train_scaled_2d = train_scaled_255.reshape(-1, 28 * 28)\n",
    "test_scaled_2d = test_scaled_255.reshape(-1, 28 * 28)\n",
    "\n",
    "print(train_scaled_2d.shape, train_target.shape)\n",
    "print(test_scaled_2d.shape, test_target.shape)"
   ]
  },
  {
   "cell_type": "code",
   "execution_count": 5,
   "id": "7eae8509",
   "metadata": {},
   "outputs": [
    {
     "name": "stdout",
     "output_type": "stream",
     "text": [
      "(48000, 784) (48000,)\n",
      "(12000, 784) (12000,)\n"
     ]
    }
   ],
   "source": [
    "train_scaled, val_scaled, train_target, val_target = train_test_split(train_scaled_2d, train_target, test_size=0.2, random_state=42)\n",
    "\n",
    "print(train_scaled.shape, train_target.shape)\n",
    "print(val_scaled.shape, val_target.shape)"
   ]
  },
  {
   "cell_type": "code",
   "execution_count": 6,
   "id": "bcedab3b",
   "metadata": {},
   "outputs": [
    {
     "name": "stdout",
     "output_type": "stream",
     "text": [
      "Model: \"sequential\"\n",
      "_________________________________________________________________\n",
      " Layer (type)                Output Shape              Param #   \n",
      "=================================================================\n",
      " dense (Dense)               (None, 100)               78500     \n",
      "                                                                 \n",
      " dense_1 (Dense)             (None, 50)                5050      \n",
      "                                                                 \n",
      " dense_2 (Dense)             (None, 10)                510       \n",
      "                                                                 \n",
      "=================================================================\n",
      "Total params: 84,060\n",
      "Trainable params: 84,060\n",
      "Non-trainable params: 0\n",
      "_________________________________________________________________\n"
     ]
    }
   ],
   "source": [
    "model = Sequential([\n",
    "    Input(shape=(784, )),\n",
    "    Dense(units=100, activation=\"sigmoid\"),\n",
    "    Dense(units=50, activation=\"relu\"),\n",
    "    Dense(units=10, activation=\"softmax\")\n",
    "])\n",
    "\n",
    "model.summary()"
   ]
  },
  {
   "cell_type": "code",
   "execution_count": 7,
   "id": "e3379fce",
   "metadata": {},
   "outputs": [
    {
     "name": "stdout",
     "output_type": "stream",
     "text": [
      "Model: \"sequential\"\n",
      "_________________________________________________________________\n",
      " Layer (type)                Output Shape              Param #   \n",
      "=================================================================\n",
      " dense (Dense)               (None, 100)               78500     \n",
      "                                                                 \n",
      " dense_1 (Dense)             (None, 50)                5050      \n",
      "                                                                 \n",
      " dense_2 (Dense)             (None, 10)                510       \n",
      "                                                                 \n",
      "=================================================================\n",
      "Total params: 84,060\n",
      "Trainable params: 84,060\n",
      "Non-trainable params: 0\n",
      "_________________________________________________________________\n"
     ]
    }
   ],
   "source": [
    "sgd = keras.optimizers.SGD(\n",
    "    momentum=0.9,\n",
    "    nesterov=True, \n",
    "    learning_rate = 0.001\n",
    ")\n",
    "\n",
    "model.compile(\n",
    "    optimizer=sgd,\n",
    "    loss = \"sparse_categorical_crossentropy\",\n",
    "    metrics = \"accuracy\"\n",
    ")\n",
    "\n",
    "model.summary()"
   ]
  },
  {
   "cell_type": "code",
   "execution_count": 8,
   "id": "5252cfc3",
   "metadata": {},
   "outputs": [
    {
     "name": "stdout",
     "output_type": "stream",
     "text": [
      "Epoch 1/100\n",
      "375/375 [==============================] - 2s 2ms/step - loss: 2.0138 - accuracy: 0.4121 - val_loss: 1.7047 - val_accuracy: 0.6213\n",
      "Epoch 2/100\n",
      "375/375 [==============================] - 1s 2ms/step - loss: 1.4446 - accuracy: 0.6353 - val_loss: 1.2358 - val_accuracy: 0.6662\n",
      "Epoch 3/100\n",
      "375/375 [==============================] - 1s 2ms/step - loss: 1.0946 - accuracy: 0.6860 - val_loss: 0.9903 - val_accuracy: 0.7111\n",
      "Epoch 4/100\n",
      "375/375 [==============================] - 1s 2ms/step - loss: 0.9112 - accuracy: 0.7177 - val_loss: 0.8563 - val_accuracy: 0.7268\n",
      "Epoch 5/100\n",
      "375/375 [==============================] - 1s 3ms/step - loss: 0.8061 - accuracy: 0.7336 - val_loss: 0.7750 - val_accuracy: 0.7350\n",
      "Epoch 6/100\n",
      "375/375 [==============================] - 1s 2ms/step - loss: 0.7400 - accuracy: 0.7445 - val_loss: 0.7223 - val_accuracy: 0.7466\n",
      "Epoch 7/100\n",
      "375/375 [==============================] - 1s 2ms/step - loss: 0.6957 - accuracy: 0.7533 - val_loss: 0.6849 - val_accuracy: 0.7535\n",
      "Epoch 8/100\n",
      "375/375 [==============================] - 1s 3ms/step - loss: 0.6637 - accuracy: 0.7592 - val_loss: 0.6584 - val_accuracy: 0.7595\n",
      "Epoch 9/100\n",
      "375/375 [==============================] - 1s 2ms/step - loss: 0.6394 - accuracy: 0.7666 - val_loss: 0.6358 - val_accuracy: 0.7681\n",
      "Epoch 10/100\n",
      "375/375 [==============================] - 1s 2ms/step - loss: 0.6191 - accuracy: 0.7743 - val_loss: 0.6177 - val_accuracy: 0.7742\n",
      "Epoch 11/100\n",
      "375/375 [==============================] - 1s 2ms/step - loss: 0.6020 - accuracy: 0.7803 - val_loss: 0.6014 - val_accuracy: 0.7805\n",
      "Epoch 12/100\n",
      "375/375 [==============================] - 1s 2ms/step - loss: 0.5870 - accuracy: 0.7866 - val_loss: 0.5878 - val_accuracy: 0.7868\n",
      "Epoch 13/100\n",
      "375/375 [==============================] - 1s 2ms/step - loss: 0.5734 - accuracy: 0.7925 - val_loss: 0.5756 - val_accuracy: 0.7933\n",
      "Epoch 14/100\n",
      "375/375 [==============================] - 1s 2ms/step - loss: 0.5612 - accuracy: 0.7970 - val_loss: 0.5640 - val_accuracy: 0.7976\n",
      "Epoch 15/100\n",
      "375/375 [==============================] - 1s 2ms/step - loss: 0.5507 - accuracy: 0.8027 - val_loss: 0.5580 - val_accuracy: 0.7997\n",
      "Epoch 16/100\n",
      "375/375 [==============================] - 1s 2ms/step - loss: 0.5413 - accuracy: 0.8075 - val_loss: 0.5455 - val_accuracy: 0.8040\n",
      "Epoch 17/100\n",
      "375/375 [==============================] - 1s 2ms/step - loss: 0.5323 - accuracy: 0.8101 - val_loss: 0.5371 - val_accuracy: 0.8096\n",
      "Epoch 18/100\n",
      "375/375 [==============================] - 1s 2ms/step - loss: 0.5245 - accuracy: 0.8142 - val_loss: 0.5296 - val_accuracy: 0.8103\n",
      "Epoch 19/100\n",
      "375/375 [==============================] - 1s 2ms/step - loss: 0.5174 - accuracy: 0.8169 - val_loss: 0.5234 - val_accuracy: 0.8149\n",
      "Epoch 20/100\n",
      "375/375 [==============================] - 1s 2ms/step - loss: 0.5106 - accuracy: 0.8190 - val_loss: 0.5170 - val_accuracy: 0.8148\n",
      "Epoch 21/100\n",
      "375/375 [==============================] - 1s 2ms/step - loss: 0.5046 - accuracy: 0.8217 - val_loss: 0.5103 - val_accuracy: 0.8174\n",
      "Epoch 22/100\n",
      "375/375 [==============================] - 1s 2ms/step - loss: 0.4991 - accuracy: 0.8236 - val_loss: 0.5049 - val_accuracy: 0.8206\n",
      "Epoch 23/100\n",
      "375/375 [==============================] - 1s 2ms/step - loss: 0.4937 - accuracy: 0.8257 - val_loss: 0.5015 - val_accuracy: 0.8207\n",
      "Epoch 24/100\n",
      "375/375 [==============================] - 1s 2ms/step - loss: 0.4889 - accuracy: 0.8268 - val_loss: 0.4955 - val_accuracy: 0.8232\n",
      "Epoch 25/100\n",
      "375/375 [==============================] - 1s 2ms/step - loss: 0.4842 - accuracy: 0.8289 - val_loss: 0.4904 - val_accuracy: 0.8246\n",
      "Epoch 26/100\n",
      "375/375 [==============================] - 1s 2ms/step - loss: 0.4799 - accuracy: 0.8300 - val_loss: 0.4867 - val_accuracy: 0.8280\n",
      "Epoch 27/100\n",
      "375/375 [==============================] - 1s 2ms/step - loss: 0.4757 - accuracy: 0.8318 - val_loss: 0.4833 - val_accuracy: 0.8288\n",
      "Epoch 28/100\n",
      "375/375 [==============================] - 1s 2ms/step - loss: 0.4721 - accuracy: 0.8334 - val_loss: 0.4812 - val_accuracy: 0.8290\n",
      "Epoch 29/100\n",
      "375/375 [==============================] - 1s 2ms/step - loss: 0.4686 - accuracy: 0.8346 - val_loss: 0.4758 - val_accuracy: 0.8325\n",
      "Epoch 30/100\n",
      "375/375 [==============================] - 1s 2ms/step - loss: 0.4651 - accuracy: 0.8354 - val_loss: 0.4736 - val_accuracy: 0.8342\n",
      "Epoch 31/100\n",
      "375/375 [==============================] - 1s 2ms/step - loss: 0.4620 - accuracy: 0.8370 - val_loss: 0.4705 - val_accuracy: 0.8328\n",
      "Epoch 32/100\n",
      "375/375 [==============================] - 1s 2ms/step - loss: 0.4591 - accuracy: 0.8384 - val_loss: 0.4674 - val_accuracy: 0.8352\n",
      "Epoch 33/100\n",
      "375/375 [==============================] - 1s 2ms/step - loss: 0.4561 - accuracy: 0.8387 - val_loss: 0.4644 - val_accuracy: 0.8369\n",
      "Epoch 34/100\n",
      "375/375 [==============================] - 1s 2ms/step - loss: 0.4533 - accuracy: 0.8399 - val_loss: 0.4612 - val_accuracy: 0.8368\n",
      "Epoch 35/100\n",
      "375/375 [==============================] - 1s 2ms/step - loss: 0.4509 - accuracy: 0.8408 - val_loss: 0.4607 - val_accuracy: 0.8362\n",
      "Epoch 36/100\n",
      "375/375 [==============================] - 1s 2ms/step - loss: 0.4481 - accuracy: 0.8420 - val_loss: 0.4576 - val_accuracy: 0.8372\n",
      "Epoch 37/100\n",
      "375/375 [==============================] - 1s 2ms/step - loss: 0.4458 - accuracy: 0.8430 - val_loss: 0.4550 - val_accuracy: 0.8382\n",
      "Epoch 38/100\n",
      "375/375 [==============================] - 1s 2ms/step - loss: 0.4435 - accuracy: 0.8434 - val_loss: 0.4527 - val_accuracy: 0.8382\n",
      "Epoch 39/100\n",
      "375/375 [==============================] - 1s 2ms/step - loss: 0.4411 - accuracy: 0.8451 - val_loss: 0.4498 - val_accuracy: 0.8396\n",
      "Epoch 40/100\n",
      "375/375 [==============================] - 1s 2ms/step - loss: 0.4393 - accuracy: 0.8457 - val_loss: 0.4483 - val_accuracy: 0.8403\n",
      "Epoch 41/100\n",
      "375/375 [==============================] - 1s 2ms/step - loss: 0.4368 - accuracy: 0.8459 - val_loss: 0.4477 - val_accuracy: 0.8404\n",
      "Epoch 42/100\n",
      "375/375 [==============================] - 1s 2ms/step - loss: 0.4349 - accuracy: 0.8467 - val_loss: 0.4455 - val_accuracy: 0.8402\n",
      "Epoch 43/100\n",
      "375/375 [==============================] - 1s 2ms/step - loss: 0.4331 - accuracy: 0.8477 - val_loss: 0.4441 - val_accuracy: 0.8415\n",
      "Epoch 44/100\n",
      "375/375 [==============================] - 1s 2ms/step - loss: 0.4311 - accuracy: 0.8482 - val_loss: 0.4408 - val_accuracy: 0.8425\n",
      "Epoch 45/100\n",
      "375/375 [==============================] - 1s 2ms/step - loss: 0.4292 - accuracy: 0.8481 - val_loss: 0.4396 - val_accuracy: 0.8428\n",
      "Epoch 46/100\n",
      "375/375 [==============================] - 1s 2ms/step - loss: 0.4274 - accuracy: 0.8495 - val_loss: 0.4377 - val_accuracy: 0.8438\n",
      "Epoch 47/100\n",
      "375/375 [==============================] - 1s 2ms/step - loss: 0.4258 - accuracy: 0.8496 - val_loss: 0.4360 - val_accuracy: 0.8445\n",
      "Epoch 48/100\n",
      "375/375 [==============================] - 1s 2ms/step - loss: 0.4240 - accuracy: 0.8512 - val_loss: 0.4339 - val_accuracy: 0.8453\n",
      "Epoch 49/100\n",
      "375/375 [==============================] - 1s 2ms/step - loss: 0.4225 - accuracy: 0.8510 - val_loss: 0.4329 - val_accuracy: 0.8457\n",
      "Epoch 50/100\n",
      "375/375 [==============================] - 1s 2ms/step - loss: 0.4206 - accuracy: 0.8517 - val_loss: 0.4307 - val_accuracy: 0.8464\n",
      "Epoch 51/100\n",
      "375/375 [==============================] - 1s 3ms/step - loss: 0.4194 - accuracy: 0.8514 - val_loss: 0.4299 - val_accuracy: 0.8453\n",
      "Epoch 52/100\n",
      "375/375 [==============================] - 1s 2ms/step - loss: 0.4175 - accuracy: 0.8531 - val_loss: 0.4278 - val_accuracy: 0.8473\n",
      "Epoch 53/100\n",
      "375/375 [==============================] - 1s 2ms/step - loss: 0.4162 - accuracy: 0.8539 - val_loss: 0.4277 - val_accuracy: 0.8471\n",
      "Epoch 54/100\n",
      "375/375 [==============================] - 1s 2ms/step - loss: 0.4149 - accuracy: 0.8539 - val_loss: 0.4255 - val_accuracy: 0.8472\n",
      "Epoch 55/100\n",
      "375/375 [==============================] - 1s 2ms/step - loss: 0.4130 - accuracy: 0.8546 - val_loss: 0.4254 - val_accuracy: 0.8483\n",
      "Epoch 56/100\n",
      "375/375 [==============================] - 1s 2ms/step - loss: 0.4118 - accuracy: 0.8547 - val_loss: 0.4228 - val_accuracy: 0.8489\n",
      "Epoch 57/100\n",
      "375/375 [==============================] - 1s 2ms/step - loss: 0.4108 - accuracy: 0.8558 - val_loss: 0.4231 - val_accuracy: 0.8478\n",
      "Epoch 58/100\n",
      "375/375 [==============================] - 1s 2ms/step - loss: 0.4089 - accuracy: 0.8556 - val_loss: 0.4205 - val_accuracy: 0.8497\n",
      "Epoch 59/100\n",
      "375/375 [==============================] - 1s 2ms/step - loss: 0.4077 - accuracy: 0.8558 - val_loss: 0.4190 - val_accuracy: 0.8501\n",
      "Epoch 60/100\n",
      "375/375 [==============================] - 1s 2ms/step - loss: 0.4062 - accuracy: 0.8568 - val_loss: 0.4203 - val_accuracy: 0.8485\n",
      "Epoch 61/100\n",
      "375/375 [==============================] - 1s 3ms/step - loss: 0.4053 - accuracy: 0.8575 - val_loss: 0.4172 - val_accuracy: 0.8494\n",
      "Epoch 62/100\n",
      "375/375 [==============================] - 1s 3ms/step - loss: 0.4036 - accuracy: 0.8587 - val_loss: 0.4157 - val_accuracy: 0.8514\n",
      "Epoch 63/100\n",
      "375/375 [==============================] - 1s 3ms/step - loss: 0.4028 - accuracy: 0.8578 - val_loss: 0.4158 - val_accuracy: 0.8502\n",
      "Epoch 64/100\n",
      "375/375 [==============================] - 1s 2ms/step - loss: 0.4013 - accuracy: 0.8583 - val_loss: 0.4142 - val_accuracy: 0.8519\n",
      "Epoch 65/100\n",
      "375/375 [==============================] - 1s 2ms/step - loss: 0.4006 - accuracy: 0.8592 - val_loss: 0.4130 - val_accuracy: 0.8528\n",
      "Epoch 66/100\n",
      "375/375 [==============================] - 1s 2ms/step - loss: 0.3991 - accuracy: 0.8590 - val_loss: 0.4125 - val_accuracy: 0.8518\n",
      "Epoch 67/100\n",
      "375/375 [==============================] - 1s 2ms/step - loss: 0.3982 - accuracy: 0.8597 - val_loss: 0.4106 - val_accuracy: 0.8523\n",
      "Epoch 68/100\n",
      "375/375 [==============================] - 1s 2ms/step - loss: 0.3969 - accuracy: 0.8604 - val_loss: 0.4095 - val_accuracy: 0.8518\n",
      "Epoch 69/100\n",
      "375/375 [==============================] - 1s 2ms/step - loss: 0.3959 - accuracy: 0.8602 - val_loss: 0.4099 - val_accuracy: 0.8517\n",
      "Epoch 70/100\n",
      "375/375 [==============================] - 1s 2ms/step - loss: 0.3944 - accuracy: 0.8603 - val_loss: 0.4084 - val_accuracy: 0.8513\n",
      "Epoch 71/100\n",
      "375/375 [==============================] - 1s 2ms/step - loss: 0.3935 - accuracy: 0.8616 - val_loss: 0.4070 - val_accuracy: 0.8541\n",
      "Epoch 72/100\n",
      "375/375 [==============================] - 1s 2ms/step - loss: 0.3925 - accuracy: 0.8610 - val_loss: 0.4056 - val_accuracy: 0.8537\n",
      "Epoch 73/100\n",
      "375/375 [==============================] - 1s 3ms/step - loss: 0.3914 - accuracy: 0.8619 - val_loss: 0.4046 - val_accuracy: 0.8543\n",
      "Epoch 74/100\n",
      "375/375 [==============================] - 1s 2ms/step - loss: 0.3903 - accuracy: 0.8626 - val_loss: 0.4072 - val_accuracy: 0.8522\n",
      "Epoch 75/100\n",
      "375/375 [==============================] - 1s 2ms/step - loss: 0.3893 - accuracy: 0.8623 - val_loss: 0.4036 - val_accuracy: 0.8553\n",
      "Epoch 76/100\n",
      "375/375 [==============================] - 1s 2ms/step - loss: 0.3884 - accuracy: 0.8623 - val_loss: 0.4032 - val_accuracy: 0.8537\n",
      "Epoch 77/100\n",
      "375/375 [==============================] - 1s 2ms/step - loss: 0.3873 - accuracy: 0.8634 - val_loss: 0.4048 - val_accuracy: 0.8537\n",
      "Epoch 78/100\n",
      "375/375 [==============================] - 1s 2ms/step - loss: 0.3864 - accuracy: 0.8635 - val_loss: 0.4018 - val_accuracy: 0.8546\n",
      "Epoch 79/100\n",
      "375/375 [==============================] - 1s 2ms/step - loss: 0.3851 - accuracy: 0.8641 - val_loss: 0.4043 - val_accuracy: 0.8533\n",
      "Epoch 80/100\n",
      "375/375 [==============================] - 1s 2ms/step - loss: 0.3845 - accuracy: 0.8637 - val_loss: 0.4008 - val_accuracy: 0.8562\n",
      "Epoch 81/100\n",
      "375/375 [==============================] - 1s 2ms/step - loss: 0.3835 - accuracy: 0.8646 - val_loss: 0.3987 - val_accuracy: 0.8558\n",
      "Epoch 82/100\n",
      "375/375 [==============================] - 1s 2ms/step - loss: 0.3823 - accuracy: 0.8650 - val_loss: 0.3976 - val_accuracy: 0.8544\n",
      "Epoch 83/100\n",
      "375/375 [==============================] - 1s 2ms/step - loss: 0.3815 - accuracy: 0.8656 - val_loss: 0.3968 - val_accuracy: 0.8569\n",
      "Epoch 84/100\n",
      "375/375 [==============================] - 1s 2ms/step - loss: 0.3805 - accuracy: 0.8649 - val_loss: 0.3954 - val_accuracy: 0.8581\n",
      "Epoch 85/100\n",
      "375/375 [==============================] - 1s 3ms/step - loss: 0.3794 - accuracy: 0.8659 - val_loss: 0.3964 - val_accuracy: 0.8569\n",
      "Epoch 86/100\n",
      "375/375 [==============================] - 1s 3ms/step - loss: 0.3783 - accuracy: 0.8660 - val_loss: 0.3959 - val_accuracy: 0.8572\n",
      "Epoch 87/100\n",
      "375/375 [==============================] - 1s 3ms/step - loss: 0.3779 - accuracy: 0.8654 - val_loss: 0.3932 - val_accuracy: 0.8596\n",
      "Epoch 88/100\n",
      "375/375 [==============================] - 1s 2ms/step - loss: 0.3769 - accuracy: 0.8662 - val_loss: 0.3934 - val_accuracy: 0.8577\n",
      "Epoch 89/100\n",
      "375/375 [==============================] - 1s 3ms/step - loss: 0.3757 - accuracy: 0.8665 - val_loss: 0.3949 - val_accuracy: 0.8566\n",
      "Epoch 90/100\n",
      "375/375 [==============================] - 1s 3ms/step - loss: 0.3751 - accuracy: 0.8676 - val_loss: 0.3915 - val_accuracy: 0.8587\n",
      "Epoch 91/100\n",
      "375/375 [==============================] - 1s 2ms/step - loss: 0.3742 - accuracy: 0.8683 - val_loss: 0.3906 - val_accuracy: 0.8593\n",
      "Epoch 92/100\n",
      "375/375 [==============================] - 1s 2ms/step - loss: 0.3731 - accuracy: 0.8677 - val_loss: 0.3903 - val_accuracy: 0.8601\n",
      "Epoch 93/100\n",
      "375/375 [==============================] - 1s 2ms/step - loss: 0.3724 - accuracy: 0.8668 - val_loss: 0.3896 - val_accuracy: 0.8575\n",
      "Epoch 94/100\n",
      "375/375 [==============================] - 1s 3ms/step - loss: 0.3714 - accuracy: 0.8688 - val_loss: 0.3883 - val_accuracy: 0.8610\n",
      "Epoch 95/100\n",
      "375/375 [==============================] - 1s 3ms/step - loss: 0.3707 - accuracy: 0.8685 - val_loss: 0.3882 - val_accuracy: 0.8572\n",
      "Epoch 96/100\n",
      "375/375 [==============================] - 1s 2ms/step - loss: 0.3699 - accuracy: 0.8684 - val_loss: 0.3872 - val_accuracy: 0.8601\n",
      "Epoch 97/100\n",
      "375/375 [==============================] - 1s 2ms/step - loss: 0.3690 - accuracy: 0.8689 - val_loss: 0.3871 - val_accuracy: 0.8612\n",
      "Epoch 98/100\n",
      "375/375 [==============================] - 1s 2ms/step - loss: 0.3678 - accuracy: 0.8690 - val_loss: 0.3874 - val_accuracy: 0.8593\n",
      "Epoch 99/100\n",
      "375/375 [==============================] - 1s 2ms/step - loss: 0.3672 - accuracy: 0.8698 - val_loss: 0.3855 - val_accuracy: 0.8621\n",
      "Epoch 100/100\n",
      "375/375 [==============================] - 1s 2ms/step - loss: 0.3661 - accuracy: 0.8695 - val_loss: 0.3846 - val_accuracy: 0.8628\n",
      "\n",
      "--------------------------------------------------\n",
      "\n",
      "1500/1500 [==============================] - 2s 2ms/step - loss: 0.3646 - accuracy: 0.8699\n",
      "375/375 [==============================] - 1s 2ms/step - loss: 0.3846 - accuracy: 0.8628\n"
     ]
    }
   ],
   "source": [
    "history = model.fit(train_scaled, train_target, validation_data = (val_scaled, val_target), epochs=100, batch_size=128)\n",
    "\n",
    "print(\"\\n--------------------------------------------------\\n\")\n",
    "\n",
    "train_score = model.evaluate(train_scaled, train_target)\n",
    "val_score = model.evaluate(val_scaled, val_target)"
   ]
  },
  {
   "cell_type": "markdown",
   "id": "4353917e",
   "metadata": {},
   "source": [
    "### 모델 저장 방법"
   ]
  },
  {
   "cell_type": "code",
   "execution_count": null,
   "id": "a7875acd",
   "metadata": {},
   "outputs": [],
   "source": [
    "\"\"\"\n",
    "<모델 저장 방법>\n",
    "1. 일반적인 저장 : 모델 훈련(fit)이 완료된 결과를 기준으로 합니다.\n",
    "                 : 사람이 가장 좋은 시점을 튜닝에 의해 주로 판단함\n",
    "                 : 가중치만 저장, 모델 자체 저장\n",
    "                 \n",
    "2. 훈련 중 저장 : 모델 훈련(fit) 중에 가장 좋은 시점(일반화)에 모델을 저장 합니다.\n",
    "                : 사람이 개입하지 않음. 모델 훈련 중 자동으로 찾아냅니다.\n",
    "                : 이벤트 명령을 정의해 주어야 합니다.\n",
    "                  (이벤트를 -> 콜백 이라고하며, 이때 사용되는 기능을 \"콜백 함수\"라고 칭함)\n",
    "                : 모델 자체를 저장\n",
    "\"\"\""
   ]
  },
  {
   "cell_type": "markdown",
   "id": "79c2ff7d",
   "metadata": {},
   "source": [
    "### 1. 일반적인 저장 방법"
   ]
  },
  {
   "cell_type": "code",
   "execution_count": null,
   "id": "5aaa5d83",
   "metadata": {},
   "outputs": [],
   "source": [
    "\"\"\"\n",
    "<1. 가중치만 저장하는 방식>\n",
    " - 훈련 중 손실을 줄이기 위해 모델이 스스로 찾아낸 가중치(w) 값들을 저장하는 방식\n",
    " - 저장된 가중치를 사용하는 방법\n",
    "  - 모델 생성 > 저장된 가중치 읽어들이기 > 예측 진행\n",
    "   (fit은 하지 않습니다. 이미 훈련된 가중치이기 때문에...)\n",
    "   \n",
    "<2. 모델 자체를 저장하는 방식>\n",
    " - 훈련 최종 결과 모델 자체를 저장하는 방식\n",
    " - 가중치 및 설정들에 대한 모든 것을 저장함\n",
    " - 저장된 모델을 사용하는 방법\n",
    "  - 모델 읽어들이기 > 예측 진행\n",
    "    (별도의 모델 생성 및 fit은 하지 않습니다. 이미 모델자체를 사용하기 때문에)\n",
    "\"\"\""
   ]
  },
  {
   "cell_type": "markdown",
   "id": "526b0370",
   "metadata": {},
   "source": [
    "##### <가중치를 저장해서 사용하는 방식>"
   ]
  },
  {
   "cell_type": "code",
   "execution_count": 34,
   "id": "4b4cfdf4",
   "metadata": {},
   "outputs": [],
   "source": [
    "### 모델의 가중치만 저장하기\n",
    "# - 저장시 파일의 확장자는 보통 h5를 사용함\n",
    "model.save_weights(\"./model/model_weights.h5\")"
   ]
  },
  {
   "cell_type": "code",
   "execution_count": null,
   "id": "a6930147",
   "metadata": {},
   "outputs": [],
   "source": [
    "### 저장된 가중치를 불러들이기\n",
    "# - 모델 생성 > 가중치 불러들이기\n",
    "\n",
    "# 모델 생성\n",
    "model2 = Sequential([\n",
    "    Input(shape=(784, )),\n",
    "    Dense(units=100, activation=\"sigmoid\", name=\"Input_layer\"),\n",
    "    Dense(units=50, activation=\"relu\", name=\"Hidden_layer\"),\n",
    "    Dense(units=10, activation=\"softmax\", name=\"Output_layer\")\n",
    "])\n",
    "\n",
    "adam = keras.optimizers.Adam(\n",
    "    learning_rate = 0.001\n",
    ")\n",
    "\n",
    "model2.compile(\n",
    "    optimizer=adam,\n",
    "    loss = \"sparse_categorical_crossentropy\",\n",
    "    metrics = \"accuracy\"\n",
    ")\n",
    "\n",
    "### 모델 불러들이기\n",
    "model2.load_weights(\"./model/model_weights.h5\")\n",
    "\n",
    "### 이후부터는 예측으로 사용...\n"
   ]
  },
  {
   "cell_type": "markdown",
   "id": "d028adb2",
   "metadata": {},
   "source": [
    "##### <모델 자체 저장하는 방식>"
   ]
  },
  {
   "cell_type": "code",
   "execution_count": 11,
   "id": "8cfecfbd",
   "metadata": {},
   "outputs": [],
   "source": [
    "### 모델 자체 저장하기\n",
    "model.save(\"./model/model_all.h5\")"
   ]
  },
  {
   "cell_type": "code",
   "execution_count": 12,
   "id": "8f590a05",
   "metadata": {},
   "outputs": [
    {
     "name": "stdout",
     "output_type": "stream",
     "text": [
      "Model: \"sequential\"\n",
      "_________________________________________________________________\n",
      " Layer (type)                Output Shape              Param #   \n",
      "=================================================================\n",
      " dense (Dense)               (None, 100)               78500     \n",
      "                                                                 \n",
      " dense_1 (Dense)             (None, 50)                5050      \n",
      "                                                                 \n",
      " dense_2 (Dense)             (None, 10)                510       \n",
      "                                                                 \n",
      "=================================================================\n",
      "Total params: 84,060\n",
      "Trainable params: 84,060\n",
      "Non-trainable params: 0\n",
      "_________________________________________________________________\n"
     ]
    }
   ],
   "source": [
    "### 저장된 모델 불러들이기\n",
    "model_all = keras.models.load_model(\"./model/model_all.h5\")\n",
    "model_all.summary()"
   ]
  },
  {
   "cell_type": "code",
   "execution_count": 13,
   "id": "279c2030",
   "metadata": {},
   "outputs": [
    {
     "name": "stdout",
     "output_type": "stream",
     "text": [
      "313/313 [==============================] - 0s 1ms/step\n"
     ]
    }
   ],
   "source": [
    "### 예측(predict)하기\n",
    "test_pred = model_all.predict(test_scaled_2d)"
   ]
  },
  {
   "cell_type": "code",
   "execution_count": 14,
   "id": "ec233069",
   "metadata": {},
   "outputs": [
    {
     "data": {
      "text/plain": [
       "array([2.59314277e-07, 2.73447966e-08, 7.24521442e-07, 1.18061095e-07,\n",
       "       5.06180913e-06, 1.33823380e-01, 5.04131958e-06, 1.36282161e-01,\n",
       "       5.25726331e-03, 7.24625945e-01], dtype=float32)"
      ]
     },
     "execution_count": 14,
     "metadata": {},
     "output_type": "execute_result"
    }
   ],
   "source": [
    "### 0번째 예측결과만 추출해보기\n",
    "test_pred[0]"
   ]
  },
  {
   "cell_type": "code",
   "execution_count": 15,
   "id": "0ac56490",
   "metadata": {},
   "outputs": [
    {
     "data": {
      "text/plain": [
       "9"
      ]
     },
     "execution_count": 15,
     "metadata": {},
     "output_type": "execute_result"
    }
   ],
   "source": [
    "### 0번째 정답 출력하기\n",
    "test_target[0]"
   ]
  },
  {
   "cell_type": "code",
   "execution_count": 16,
   "id": "12c2cb74",
   "metadata": {},
   "outputs": [
    {
     "data": {
      "text/plain": [
       "(9, 9)"
      ]
     },
     "execution_count": 16,
     "metadata": {},
     "output_type": "execute_result"
    }
   ],
   "source": [
    "### 예측값과 정답 비교하기\n",
    "# 예측값 10개의 확률데이터 중에 가장 높은 값의 위치값을 반환함\n",
    "np.argmax(test_pred[0]), test_target[0]"
   ]
  },
  {
   "cell_type": "code",
   "execution_count": 17,
   "id": "21901013",
   "metadata": {},
   "outputs": [
    {
     "data": {
      "text/plain": [
       "(2, 2)"
      ]
     },
     "execution_count": 17,
     "metadata": {},
     "output_type": "execute_result"
    }
   ],
   "source": [
    "np.argmax(test_pred[1]), test_target[1]"
   ]
  },
  {
   "cell_type": "code",
   "execution_count": 18,
   "id": "98049d79",
   "metadata": {},
   "outputs": [
    {
     "name": "stdout",
     "output_type": "stream",
     "text": [
      "정답 갯수 : 8525\n",
      "정답률 : 85.25%\n",
      "오답 갯수 : 1475\n",
      "오답률 : 14.75&\n"
     ]
    }
   ],
   "source": [
    "\"\"\"\n",
    " - 정답갯수, 오답갯수, 정답률, 오답률 출력\n",
    "\"\"\"\n",
    "### 예측 결과의 모든 행에서 -> 가장 높은 값을 가지는 열의 위치값을 추출하기\n",
    "# - axis=1 : 열을 의미 (열 중에 가장 높은 값을 가지는 위치값 추출)\n",
    "pred_classes = np.argmax(test_pred, axis=1)\n",
    "\n",
    "### 정답갯수 확인하기\n",
    "correct = pred_classes == test_target\n",
    "correct_count = np.sum(correct)\n",
    "\n",
    "### 오답갯수 확인하기\n",
    "incorrect_count = len(test_pred) - correct_count\n",
    "\n",
    "### 정답률 확인하기\n",
    "correct_rate = correct_count / len(test_pred)\n",
    "\n",
    "### 오답률 확인하기\n",
    "incorrect_rate = incorrect_count / len(test_pred)\n",
    "\n",
    "print(f\"정답 갯수 : {correct_count}\")\n",
    "print(f\"정답률 : {correct_rate*100}%\")\n",
    "print(f\"오답 갯수 : {incorrect_count}\")\n",
    "print(f\"오답률 : {incorrect_rate*100}&\")"
   ]
  },
  {
   "cell_type": "code",
   "execution_count": 19,
   "id": "60d760d8",
   "metadata": {},
   "outputs": [
    {
     "name": "stdout",
     "output_type": "stream",
     "text": [
      "정답갯수 : 8525, 오답갯수 : 1475, 정답률 : 85.25%, 오답률 : 14.75%\n"
     ]
    }
   ],
   "source": [
    "Ocnt = 0\n",
    "Xcnt = 0\n",
    "for i in range(len(test_target)):\n",
    "    if np.argmax(test_pred[i]) == test_target[i]:\n",
    "       Ocnt = Ocnt + 1\n",
    "    \n",
    "    else:\n",
    "        Xcnt = Xcnt + 1\n",
    "       \n",
    "print(f\"정답갯수 : {Ocnt}, 오답갯수 : {Xcnt}, 정답률 : {Ocnt/len(test_target)*100}%, 오답률 : {Xcnt/len(test_target)*100}%\")"
   ]
  },
  {
   "cell_type": "markdown",
   "id": "553c7c88",
   "metadata": {},
   "source": [
    "### 성능향상 방법: <훈련(fit)중 최적화 시점의 모델 저장하기>"
   ]
  },
  {
   "cell_type": "code",
   "execution_count": null,
   "id": "db027600",
   "metadata": {},
   "outputs": [],
   "source": [
    "\"\"\"\n",
    "<최적화 시점의 모델 저장>\n",
    " - 훈련 반복(fit) 중 가장 좋은 시점(손실이 적거나, 더이상 손실이 낮아지지 않는 시점)의\n",
    "   모델을 저장해서 사용하는 방법을 의미합니다.\n",
    "   \n",
    "<콜백(Callback) 함수란?>\n",
    " - 모델 훈련 중에 특정 작업(함수)을 호출(call)하여 수행하고자 할 때 사용\n",
    " - 훈련 시에 fit 함수에 적용하여 사용합니다.\n",
    " - 훈련 중에 발생시키는 함수라는 의미로 -> \"이벤트(event) 함수\"라고도 칭합니다.\n",
    " - 별도의 계층은 아니며, fit함수의 속성(매개변수)로 사용됩니다.\n",
    "\n",
    "\n",
    "<최적화 시점의 모델 저장 및 훈련 종료를 위한 콜백(Callback) 함수 종류>\n",
    " 1. ModelCheckpoint() 함수 : 모델(model) 확인(check) 시점(point) 확인 함수\n",
    "  - epoch 마다 모델을 저장하는 기능을 수행하는 함수\n",
    "  - 단, 이전 epoch에서 실행된 훈련 성능보다 높아진 경우에만 저장됨\n",
    " \n",
    " 2. EarlyStopping() 함수 : 조기(earaly) 종료(stopping) 함수\n",
    "  - 훈련이 더 이상 좋와지지 않으면(loss 기준) 훈련을 종료시키는 함수\n",
    "  - \"일반적으로 ModelCheckpoint()와 함께 사용함\"\n",
    "\"\"\"\n",
    "\n"
   ]
  },
  {
   "cell_type": "code",
   "execution_count": 20,
   "id": "c8cf9edb",
   "metadata": {},
   "outputs": [],
   "source": [
    "model = Sequential([\n",
    "    Input(shape=(784, )),\n",
    "    Dense(units=100, activation=\"sigmoid\", name=\"Input_layer\"),\n",
    "    Dropout(0.5),\n",
    "    Dense(units=50, activation=\"relu\", name=\"Hidden_layer\"),\n",
    "    Dropout(0.5),\n",
    "    Dense(units=10, activation=\"softmax\", name=\"Output_layer\")\n",
    "])\n",
    "\n",
    "adam = keras.optimizers.Adam(\n",
    "    learning_rate = 0.001,\n",
    "    name=\"Output_layer\"\n",
    ")\n",
    "\n",
    "model.compile(\n",
    "    optimizer=adam,\n",
    "    loss = \"sparse_categorical_crossentropy\",\n",
    "    metrics = \"accuracy\"\n",
    ")"
   ]
  },
  {
   "cell_type": "code",
   "execution_count": 21,
   "id": "8c8f1fc2",
   "metadata": {},
   "outputs": [
    {
     "data": {
      "text/plain": [
       "<keras.callbacks.ModelCheckpoint at 0x2c2b9a899a0>"
      ]
     },
     "execution_count": 21,
     "metadata": {},
     "output_type": "execute_result"
    }
   ],
   "source": [
    "### 모델 저장시키는 콜백함수 정의하기\n",
    "# - 라이브러리 임포트 해도 됨\n",
    "modelcheckpoint = keras.callbacks.ModelCheckpoint(\n",
    "    # 저장할 위치 지정\n",
    "    \"./model/model_all.h5\",\n",
    "    \n",
    "    # epoch 마다 훈련 모델 자동 저장 여부 설정\n",
    "    # - save_best_only = True : 모델 성능이 좋아질 때만 자동 저장\n",
    "    # - svae_best_only = False : epoch 마다 저장\n",
    "    save_best_only = True\n",
    ")\n",
    "\n",
    "modelcheckpoint\n"
   ]
  },
  {
   "cell_type": "code",
   "execution_count": 22,
   "id": "0519583a",
   "metadata": {},
   "outputs": [
    {
     "name": "stdout",
     "output_type": "stream",
     "text": [
      "Epoch 1/10\n",
      "1500/1500 [==============================] - 4s 2ms/step - loss: 0.9550 - accuracy: 0.6508 - val_loss: 0.5317 - val_accuracy: 0.8133\n",
      "Epoch 2/10\n",
      "1500/1500 [==============================] - 3s 2ms/step - loss: 0.6273 - accuracy: 0.7792 - val_loss: 0.4529 - val_accuracy: 0.8328\n",
      "Epoch 3/10\n",
      "1500/1500 [==============================] - 3s 2ms/step - loss: 0.5702 - accuracy: 0.8029 - val_loss: 0.4363 - val_accuracy: 0.8370\n",
      "Epoch 4/10\n",
      "1500/1500 [==============================] - 3s 2ms/step - loss: 0.5363 - accuracy: 0.8141 - val_loss: 0.4163 - val_accuracy: 0.8428\n",
      "Epoch 5/10\n",
      "1500/1500 [==============================] - 3s 2ms/step - loss: 0.5101 - accuracy: 0.8242 - val_loss: 0.3994 - val_accuracy: 0.8514\n",
      "Epoch 6/10\n",
      "1500/1500 [==============================] - 3s 2ms/step - loss: 0.4959 - accuracy: 0.8272 - val_loss: 0.3847 - val_accuracy: 0.8562\n",
      "Epoch 7/10\n",
      "1500/1500 [==============================] - 3s 2ms/step - loss: 0.4832 - accuracy: 0.8326 - val_loss: 0.3762 - val_accuracy: 0.8612\n",
      "Epoch 8/10\n",
      "1500/1500 [==============================] - 4s 3ms/step - loss: 0.4671 - accuracy: 0.8368 - val_loss: 0.3801 - val_accuracy: 0.8602\n",
      "Epoch 9/10\n",
      "1500/1500 [==============================] - 3s 2ms/step - loss: 0.4580 - accuracy: 0.8395 - val_loss: 0.3680 - val_accuracy: 0.8630\n",
      "Epoch 10/10\n",
      "1500/1500 [==============================] - 4s 3ms/step - loss: 0.4547 - accuracy: 0.8407 - val_loss: 0.3681 - val_accuracy: 0.8626\n"
     ]
    },
    {
     "data": {
      "text/plain": [
       "<keras.callbacks.History at 0x2c2b9ab3dc0>"
      ]
     },
     "execution_count": 22,
     "metadata": {},
     "output_type": "execute_result"
    }
   ],
   "source": [
    "model.fit(\n",
    "    train_scaled,\n",
    "    train_target,\n",
    "    validation_data=(val_scaled, \n",
    "                     val_target),\n",
    "    epochs=10, \n",
    "    batch_size=32, \n",
    "    callbacks=[modelcheckpoint]\n",
    ")"
   ]
  },
  {
   "cell_type": "code",
   "execution_count": 23,
   "id": "bfab5ab3",
   "metadata": {},
   "outputs": [
    {
     "name": "stdout",
     "output_type": "stream",
     "text": [
      "313/313 [==============================] - 0s 1ms/step\n"
     ]
    },
    {
     "data": {
      "text/plain": [
       "array([[2.0749366e-07, 1.3891129e-09, 1.7133487e-11, ..., 1.1439994e-01,\n",
       "        6.5770648e-05, 8.5049367e-01],\n",
       "       [2.9224118e-05, 1.9466158e-09, 9.3810886e-01, ..., 3.6041575e-16,\n",
       "        5.4346202e-07, 1.0785182e-14],\n",
       "       [1.8249793e-08, 9.9999869e-01, 1.5553696e-09, ..., 1.1138210e-11,\n",
       "        1.2448782e-13, 6.3424613e-13],\n",
       "       ...,\n",
       "       [4.5441731e-04, 5.3567645e-10, 4.2980014e-06, ..., 1.3798378e-07,\n",
       "        9.9906534e-01, 5.1034743e-07],\n",
       "       [4.5118861e-07, 9.9989820e-01, 1.2621970e-08, ..., 1.7657127e-09,\n",
       "        8.0881777e-12, 4.1612502e-10],\n",
       "       [3.4095590e-10, 4.4213212e-13, 3.1637076e-13, ..., 5.1825601e-03,\n",
       "        3.5039620e-06, 8.7023400e-06]], dtype=float32)"
      ]
     },
     "execution_count": 23,
     "metadata": {},
     "output_type": "execute_result"
    }
   ],
   "source": [
    "### 저장된 베스트 모델 불러들여서 예측\n",
    "model_all = keras.models.load_model(\"./model/model_all.h5\")\n",
    "model_all.predict(test_scaled_2d)"
   ]
  },
  {
   "cell_type": "markdown",
   "id": "a37e0628",
   "metadata": {},
   "source": [
    "### 훈련 자동 종료 시키는 -> 콜백함수 사용하기"
   ]
  },
  {
   "cell_type": "code",
   "execution_count": null,
   "id": "e8b61ceb",
   "metadata": {},
   "outputs": [],
   "source": [
    "\"\"\"\n",
    " *** 최적의 모델 저장 및 훈련 자동 종료는 함께 사용됩니다. ***\n",
    "\"\"\""
   ]
  },
  {
   "cell_type": "code",
   "execution_count": 24,
   "id": "d86e7bef",
   "metadata": {},
   "outputs": [],
   "source": [
    "model = Sequential([\n",
    "    Input(shape=(784, )),\n",
    "    Dense(units=100, activation=\"sigmoid\", name=\"Input_layer\"),\n",
    "    Dense(units=50, activation=\"relu\", name=\"Hidden_layer\"),\n",
    "    Dense(units=10, activation=\"softmax\", name=\"Output_layer\")\n",
    "])\n",
    "\n",
    "adam = keras.optimizers.Adam(\n",
    "    learning_rate = 0.001,\n",
    "    name=\"Output_layer\"\n",
    ")\n",
    "\n",
    "model.compile(\n",
    "    optimizer=adam,\n",
    "    loss = \"sparse_categorical_crossentropy\",\n",
    "    metrics = \"accuracy\"\n",
    ")"
   ]
  },
  {
   "cell_type": "code",
   "execution_count": 25,
   "id": "02518886",
   "metadata": {},
   "outputs": [
    {
     "data": {
      "text/plain": [
       "<keras.callbacks.ModelCheckpoint at 0x2c2b8d89df0>"
      ]
     },
     "execution_count": 25,
     "metadata": {},
     "output_type": "execute_result"
    }
   ],
   "source": [
    "### 모델 저장시키는 콜백함수 정의하기\n",
    "# - 라이브러리 임포트 해도 됨\n",
    "modelcheckpoint = keras.callbacks.ModelCheckpoint(\n",
    "    # 저장할 위치 지정\n",
    "    \"./model/model_all.h5\",\n",
    "    \n",
    "    # epoch 마다 훈련 모델 자동 저장 여부 설정\n",
    "    # - save_best_only = True : 모델 성능이 좋아질 때만 자동 저장\n",
    "    # - svae_best_only = False : epoch 마다 저장\n",
    "    save_best_only = True\n",
    ")\n",
    "\n",
    "modelcheckpoint\n"
   ]
  },
  {
   "cell_type": "code",
   "execution_count": 26,
   "id": "0632ab9b",
   "metadata": {},
   "outputs": [
    {
     "data": {
      "text/plain": [
       "<keras.callbacks.EarlyStopping at 0x2c2b8d89eb0>"
      ]
     },
     "execution_count": 26,
     "metadata": {},
     "output_type": "execute_result"
    }
   ],
   "source": [
    "### 훈련 자동 종료 시키는 콜백함수 정의\n",
    "# - 라이브러리 임포트 해도 됨\n",
    "earlystopping = keras.callbacks.EarlyStopping(\n",
    "    # 더 이상 좋아지지 않는 epoch의 갯수 지정\n",
    "    # - 가장 좋은 시점의 epoch이후 2번 더 수행 후\n",
    "    #  - 그래도 좋아지지 않으면 종료시킨다\n",
    "    patience = 2,\n",
    "    \n",
    "    ### 종료 시점에 가장 낮은 검증 손실일 때의 하이퍼 파라미터로 모델 업데이트 시킴\n",
    "    # - 가중치 업데이트\n",
    "    restore_best_weights=True\n",
    ")\n",
    "\n",
    "earlystopping"
   ]
  },
  {
   "cell_type": "code",
   "execution_count": 27,
   "id": "ba82a9a4",
   "metadata": {},
   "outputs": [
    {
     "name": "stdout",
     "output_type": "stream",
     "text": [
      "Epoch 1/1000\n",
      "375/375 [==============================] - 2s 4ms/step - loss: 0.7302 - accuracy: 0.7591 - val_loss: 0.4779 - val_accuracy: 0.8284\n",
      "Epoch 2/1000\n",
      "375/375 [==============================] - 1s 3ms/step - loss: 0.4394 - accuracy: 0.8438 - val_loss: 0.4134 - val_accuracy: 0.8507\n",
      "Epoch 3/1000\n",
      "375/375 [==============================] - 1s 3ms/step - loss: 0.3936 - accuracy: 0.8599 - val_loss: 0.3895 - val_accuracy: 0.8573\n",
      "Epoch 4/1000\n",
      "375/375 [==============================] - 1s 3ms/step - loss: 0.3721 - accuracy: 0.8659 - val_loss: 0.3906 - val_accuracy: 0.8578\n",
      "Epoch 5/1000\n",
      "375/375 [==============================] - 1s 3ms/step - loss: 0.3520 - accuracy: 0.8726 - val_loss: 0.3575 - val_accuracy: 0.8683\n",
      "Epoch 6/1000\n",
      "375/375 [==============================] - 1s 2ms/step - loss: 0.3339 - accuracy: 0.8788 - val_loss: 0.3471 - val_accuracy: 0.8728\n",
      "Epoch 7/1000\n",
      "375/375 [==============================] - 1s 2ms/step - loss: 0.3227 - accuracy: 0.8819 - val_loss: 0.3495 - val_accuracy: 0.8725\n",
      "Epoch 8/1000\n",
      "375/375 [==============================] - 1s 2ms/step - loss: 0.3111 - accuracy: 0.8864 - val_loss: 0.3319 - val_accuracy: 0.8802\n",
      "Epoch 9/1000\n",
      "375/375 [==============================] - 1s 2ms/step - loss: 0.3022 - accuracy: 0.8892 - val_loss: 0.3331 - val_accuracy: 0.8773\n",
      "Epoch 10/1000\n",
      "375/375 [==============================] - 1s 3ms/step - loss: 0.2944 - accuracy: 0.8909 - val_loss: 0.3239 - val_accuracy: 0.8813\n",
      "Epoch 11/1000\n",
      "375/375 [==============================] - 1s 2ms/step - loss: 0.2854 - accuracy: 0.8943 - val_loss: 0.3224 - val_accuracy: 0.8829\n",
      "Epoch 12/1000\n",
      "375/375 [==============================] - 1s 2ms/step - loss: 0.2750 - accuracy: 0.8984 - val_loss: 0.3207 - val_accuracy: 0.8826\n",
      "Epoch 13/1000\n",
      "375/375 [==============================] - 1s 2ms/step - loss: 0.2707 - accuracy: 0.8996 - val_loss: 0.3150 - val_accuracy: 0.8848\n",
      "Epoch 14/1000\n",
      "375/375 [==============================] - 1s 2ms/step - loss: 0.2639 - accuracy: 0.9006 - val_loss: 0.3232 - val_accuracy: 0.8834\n",
      "Epoch 15/1000\n",
      "375/375 [==============================] - 1s 2ms/step - loss: 0.2547 - accuracy: 0.9050 - val_loss: 0.3223 - val_accuracy: 0.8833\n"
     ]
    }
   ],
   "source": [
    "history = model.fit(\n",
    "    train_scaled,\n",
    "    train_target,\n",
    "    validation_data=(val_scaled, \n",
    "                     val_target),\n",
    "    epochs=1000, \n",
    "    batch_size=128, \n",
    "    callbacks=[modelcheckpoint, earlystopping]\n",
    ")"
   ]
  },
  {
   "cell_type": "code",
   "execution_count": 28,
   "id": "2360cff7",
   "metadata": {},
   "outputs": [
    {
     "name": "stdout",
     "output_type": "stream",
     "text": [
      "1500/1500 [==============================] - 2s 1ms/step - loss: 0.2515 - accuracy: 0.9062\n",
      "375/375 [==============================] - 1s 1ms/step - loss: 0.3150 - accuracy: 0.8848\n",
      "훈련 : 0.2514786124229431 / 0.9061874747276306\n",
      "검증 : 0.31496286392211914 / 0.8847500085830688\n"
     ]
    }
   ],
   "source": [
    "\"\"\"\n",
    " - 최적의 모델 불러들이기\n",
    " - 훈련 성능 평가\n",
    " - 검증 성능 평가\n",
    "\"\"\"\n",
    "model_all = keras.models.load_model(\"./model/model_all.h5\")\n",
    "train_score = model_all.evaluate(train_scaled, train_target)\n",
    "val_score = model_all.evaluate(val_scaled, val_target)\n",
    "\n",
    "print(f\"훈련 : {train_score[0]} / {train_score[1]}\")\n",
    "print(f\"검증 : {val_score[0]} / {val_score[1]}\")"
   ]
  },
  {
   "cell_type": "markdown",
   "id": "5d050250",
   "metadata": {},
   "source": [
    "### 성능향상 : 성능규제(Dropout) 방법"
   ]
  },
  {
   "cell_type": "code",
   "execution_count": null,
   "id": "ae59a481",
   "metadata": {},
   "outputs": [],
   "source": [
    "\"\"\"\n",
    "<성능 규제>\n",
    " - 성능(과적합 여부 포함)을 높이기 위한 방법\n",
    " - 보통 \"전처리 계층\"을 사용하게 됩니다.\n",
    " - 전처리 계층은 훈련에 영향을 미치지 않습니다.\n",
    "\n",
    "\n",
    "<성능 규제 방법>\n",
    " * Dropout(드롭아웃) 방법을 사용함\n",
    "  - 훈련 과정 중에 일부 \"특성\"들을 랜덤하게 제외 시켜서 과대/과소 적합을 해소하는 방법\n",
    "  - 딥러닝에서 자주 사용되는 \"전처리 계층\"으로 성능 개선에 효율적으로 사용됨\n",
    "  - 주로 과대적합이 발생한 경우에 사용하면 일반화에 효과가 있음\n",
    "    (드롭아웃은 조금 멍청하게 만드는 개념입니다.)\n",
    " \n",
    " * Dropout 적용방법\n",
    "  - 은닉계층(Hidden Layer)으로 추가하여 주로 사용됨\n",
    "  - 제외시킬 값을 비율로 정의 합니다.\n",
    "\"\"\"\n"
   ]
  },
  {
   "cell_type": "code",
   "execution_count": 29,
   "id": "d491d62c",
   "metadata": {},
   "outputs": [],
   "source": [
    "model = Sequential([\n",
    "    ### 입력계층 생성 및 추가하기\n",
    "    Input(shape=(784, )),\n",
    "    Dense(units=100, activation=\"sigmoid\", name=\"Input_layer\"),\n",
    "    \n",
    "    ### 주로 입력 계층 다음에 성능규제(Dropout) 계층을 사용합니다\n",
    "    # - 전처리 계층\n",
    "    # - Dropout(0.5) : 0.5는 50%를 의미함\n",
    "    # - 사용되는 특성 중 랜덤하게 50%를 제거하고 다음 계층에 넘겨줌\n",
    "    # *** 단, 제거는 하되 넘겨줄때 출력 갯수는 입력 갯수와 동일한 사이즈로 넘겨 줌 ***\n",
    "    Dropout(0.5),\n",
    "    \n",
    "    ### 은닉계층 생성 및 추가하기\n",
    "    Dense(units=50, activation=\"relu\", name=\"Hidden_layer\"),\n",
    "    \n",
    "    Dropout(0.5),\n",
    "    \n",
    "    ### 출력계층 생성 및 추가하기\n",
    "    Dense(units=10, activation=\"softmax\", name=\"Output_layer\")\n",
    "])\n",
    "\n",
    "adam = keras.optimizers.Adam(\n",
    "    learning_rate = 0.001,\n",
    "    name=\"Output_layer\"\n",
    ")\n",
    "\n",
    "model.compile(\n",
    "    optimizer=adam,\n",
    "    loss = \"sparse_categorical_crossentropy\",\n",
    "    metrics = \"accuracy\"\n",
    ")"
   ]
  },
  {
   "cell_type": "code",
   "execution_count": 30,
   "id": "4ad0f3d7",
   "metadata": {},
   "outputs": [
    {
     "name": "stdout",
     "output_type": "stream",
     "text": [
      "Model: \"sequential_4\"\n",
      "_________________________________________________________________\n",
      " Layer (type)                Output Shape              Param #   \n",
      "=================================================================\n",
      " Input_layer (Dense)         (None, 100)               78500     \n",
      "                                                                 \n",
      " dropout_2 (Dropout)         (None, 100)               0         \n",
      "                                                                 \n",
      " Hidden_layer (Dense)        (None, 50)                5050      \n",
      "                                                                 \n",
      " dropout_3 (Dropout)         (None, 50)                0         \n",
      "                                                                 \n",
      " Output_layer (Dense)        (None, 10)                510       \n",
      "                                                                 \n",
      "=================================================================\n",
      "Total params: 84,060\n",
      "Trainable params: 84,060\n",
      "Non-trainable params: 0\n",
      "_________________________________________________________________\n"
     ]
    }
   ],
   "source": [
    "model.summary()"
   ]
  },
  {
   "cell_type": "code",
   "execution_count": 31,
   "id": "ffc7e7b8",
   "metadata": {},
   "outputs": [
    {
     "name": "stdout",
     "output_type": "stream",
     "text": [
      "Epoch 1/1000\n",
      "375/375 [==============================] - 1s 3ms/step - loss: 1.2288 - accuracy: 0.5495 - val_loss: 0.6203 - val_accuracy: 0.7745\n",
      "Epoch 2/1000\n",
      "375/375 [==============================] - 1s 2ms/step - loss: 0.7389 - accuracy: 0.7342 - val_loss: 0.5202 - val_accuracy: 0.8098\n",
      "Epoch 3/1000\n",
      "375/375 [==============================] - 1s 2ms/step - loss: 0.6414 - accuracy: 0.7717 - val_loss: 0.4827 - val_accuracy: 0.8227\n",
      "Epoch 4/1000\n",
      "375/375 [==============================] - 1s 2ms/step - loss: 0.5945 - accuracy: 0.7907 - val_loss: 0.4488 - val_accuracy: 0.8367\n",
      "Epoch 5/1000\n",
      "375/375 [==============================] - 1s 2ms/step - loss: 0.5640 - accuracy: 0.8042 - val_loss: 0.4338 - val_accuracy: 0.8416\n",
      "Epoch 6/1000\n",
      "375/375 [==============================] - 1s 2ms/step - loss: 0.5426 - accuracy: 0.8126 - val_loss: 0.4188 - val_accuracy: 0.8457\n",
      "Epoch 7/1000\n",
      "375/375 [==============================] - 1s 2ms/step - loss: 0.5256 - accuracy: 0.8184 - val_loss: 0.4089 - val_accuracy: 0.8477\n",
      "Epoch 8/1000\n",
      "375/375 [==============================] - 1s 2ms/step - loss: 0.5119 - accuracy: 0.8239 - val_loss: 0.3973 - val_accuracy: 0.8520\n",
      "Epoch 9/1000\n",
      "375/375 [==============================] - 1s 3ms/step - loss: 0.5023 - accuracy: 0.8256 - val_loss: 0.3899 - val_accuracy: 0.8579\n",
      "Epoch 10/1000\n",
      "375/375 [==============================] - 1s 2ms/step - loss: 0.4894 - accuracy: 0.8308 - val_loss: 0.3906 - val_accuracy: 0.8543\n",
      "Epoch 11/1000\n",
      "375/375 [==============================] - 1s 2ms/step - loss: 0.4833 - accuracy: 0.8343 - val_loss: 0.3767 - val_accuracy: 0.8602\n",
      "Epoch 12/1000\n",
      "375/375 [==============================] - 1s 2ms/step - loss: 0.4700 - accuracy: 0.8367 - val_loss: 0.3739 - val_accuracy: 0.8616\n",
      "Epoch 13/1000\n",
      "375/375 [==============================] - 1s 2ms/step - loss: 0.4657 - accuracy: 0.8383 - val_loss: 0.3727 - val_accuracy: 0.8603\n",
      "Epoch 14/1000\n",
      "375/375 [==============================] - 1s 3ms/step - loss: 0.4584 - accuracy: 0.8420 - val_loss: 0.3632 - val_accuracy: 0.8658\n",
      "Epoch 15/1000\n",
      "375/375 [==============================] - 1s 3ms/step - loss: 0.4512 - accuracy: 0.8430 - val_loss: 0.3695 - val_accuracy: 0.8647\n",
      "Epoch 16/1000\n",
      "375/375 [==============================] - 1s 3ms/step - loss: 0.4452 - accuracy: 0.8442 - val_loss: 0.3630 - val_accuracy: 0.8669\n",
      "Epoch 17/1000\n",
      "375/375 [==============================] - 1s 2ms/step - loss: 0.4409 - accuracy: 0.8457 - val_loss: 0.3596 - val_accuracy: 0.8663\n",
      "Epoch 18/1000\n",
      "375/375 [==============================] - 1s 2ms/step - loss: 0.4333 - accuracy: 0.8491 - val_loss: 0.3568 - val_accuracy: 0.8660\n",
      "Epoch 19/1000\n",
      "375/375 [==============================] - 1s 2ms/step - loss: 0.4352 - accuracy: 0.8487 - val_loss: 0.3569 - val_accuracy: 0.8673\n",
      "Epoch 20/1000\n",
      "375/375 [==============================] - 1s 3ms/step - loss: 0.4334 - accuracy: 0.8485 - val_loss: 0.3551 - val_accuracy: 0.8666\n",
      "Epoch 21/1000\n",
      "375/375 [==============================] - 1s 2ms/step - loss: 0.4246 - accuracy: 0.8515 - val_loss: 0.3494 - val_accuracy: 0.8722\n",
      "Epoch 22/1000\n",
      "375/375 [==============================] - 1s 2ms/step - loss: 0.4209 - accuracy: 0.8520 - val_loss: 0.3473 - val_accuracy: 0.8716\n",
      "Epoch 23/1000\n",
      "375/375 [==============================] - 1s 2ms/step - loss: 0.4176 - accuracy: 0.8534 - val_loss: 0.3503 - val_accuracy: 0.8691\n",
      "Epoch 24/1000\n",
      "375/375 [==============================] - 1s 2ms/step - loss: 0.4112 - accuracy: 0.8553 - val_loss: 0.3480 - val_accuracy: 0.8739\n"
     ]
    }
   ],
   "source": [
    "history = model.fit(\n",
    "    train_scaled,\n",
    "    train_target,\n",
    "    validation_data=(val_scaled, \n",
    "                     val_target),\n",
    "    epochs=1000, \n",
    "    batch_size=128, \n",
    "    callbacks=[modelcheckpoint, earlystopping]\n",
    ")"
   ]
  },
  {
   "cell_type": "code",
   "execution_count": 32,
   "id": "b3884090",
   "metadata": {},
   "outputs": [
    {
     "name": "stdout",
     "output_type": "stream",
     "text": [
      "1500/1500 [==============================] - 2s 1ms/step - loss: 0.2515 - accuracy: 0.9062\n",
      "375/375 [==============================] - 1s 2ms/step - loss: 0.3150 - accuracy: 0.8848\n",
      "훈련 : 0.2514786124229431 / 0.9061874747276306\n",
      "검증 : 0.31496286392211914 / 0.8847500085830688\n"
     ]
    }
   ],
   "source": [
    "\"\"\"\n",
    " - 최적의 모델 불러들이기\n",
    " - 훈련 성능 평가\n",
    " - 검증 성능 평가\n",
    "\"\"\"\n",
    "model_all = keras.models.load_model(\"./model/model_all.h5\")\n",
    "train_score = model_all.evaluate(train_scaled, train_target)\n",
    "val_score = model_all.evaluate(val_scaled, val_target)\n",
    "\n",
    "print(f\"훈련 : {train_score[0]} / {train_score[1]}\")\n",
    "print(f\"검증 : {val_score[0]} / {val_score[1]}\")"
   ]
  },
  {
   "cell_type": "code",
   "execution_count": null,
   "id": "5d069ea0",
   "metadata": {},
   "outputs": [],
   "source": []
  },
  {
   "cell_type": "code",
   "execution_count": null,
   "id": "7fad013c",
   "metadata": {},
   "outputs": [],
   "source": []
  },
  {
   "cell_type": "code",
   "execution_count": null,
   "id": "3e3d412e",
   "metadata": {},
   "outputs": [],
   "source": []
  },
  {
   "cell_type": "code",
   "execution_count": null,
   "id": "583fe024",
   "metadata": {},
   "outputs": [],
   "source": []
  },
  {
   "cell_type": "code",
   "execution_count": null,
   "id": "ddb7ea09",
   "metadata": {},
   "outputs": [],
   "source": []
  },
  {
   "cell_type": "code",
   "execution_count": null,
   "id": "a74fc641",
   "metadata": {},
   "outputs": [],
   "source": []
  },
  {
   "cell_type": "code",
   "execution_count": null,
   "id": "7d5d3053",
   "metadata": {},
   "outputs": [],
   "source": []
  },
  {
   "cell_type": "code",
   "execution_count": null,
   "id": "424163c5",
   "metadata": {},
   "outputs": [],
   "source": []
  },
  {
   "cell_type": "code",
   "execution_count": null,
   "id": "d00efc42",
   "metadata": {},
   "outputs": [],
   "source": []
  },
  {
   "cell_type": "code",
   "execution_count": null,
   "id": "9808a14e",
   "metadata": {},
   "outputs": [],
   "source": []
  },
  {
   "cell_type": "code",
   "execution_count": null,
   "id": "229e4dbd",
   "metadata": {},
   "outputs": [],
   "source": []
  },
  {
   "cell_type": "code",
   "execution_count": null,
   "id": "fbb9efcf",
   "metadata": {},
   "outputs": [],
   "source": []
  },
  {
   "cell_type": "code",
   "execution_count": null,
   "id": "b236bc52",
   "metadata": {},
   "outputs": [],
   "source": []
  },
  {
   "cell_type": "code",
   "execution_count": null,
   "id": "07f6ff8f",
   "metadata": {},
   "outputs": [],
   "source": []
  },
  {
   "cell_type": "code",
   "execution_count": null,
   "id": "c73956d3",
   "metadata": {},
   "outputs": [],
   "source": []
  },
  {
   "cell_type": "code",
   "execution_count": null,
   "id": "f709e4d3",
   "metadata": {},
   "outputs": [],
   "source": []
  },
  {
   "cell_type": "code",
   "execution_count": null,
   "id": "08307273",
   "metadata": {},
   "outputs": [],
   "source": [
    "# TensorFlow 및 Keras에서 필요한 모듈 임포트\n",
    "from tensorflow import keras\n",
    "from keras.models import Sequential                   # 순차 모델 클래스\n",
    "from keras.layers import Dense, Dropout              # 완전 연결층(Dense), 드롭아웃(Dropout) 레이어\n",
    "from keras.regularizers import l2                    # L2 정규화 함수\n",
    "from keras.callbacks import EarlyStopping            # 조기 종료 콜백 함수\n",
    "\n",
    "# 1. 모델 구조 정의\n",
    "model = Sequential([\n",
    "    Dense(128, activation='relu', input_shape=(784,), kernel_regularizer=l2(0.001)),  # 입력층 + 첫 번째 은닉층\n",
    "    Dropout(0.5),                                               # 첫 번째 드롭아웃 (50%)\n",
    "    Dense(64, activation='relu', kernel_regularizer=l2(0.001)), # 두 번째 은닉층\n",
    "    Dropout(0.5),                                               # 두 번째 드롭아웃 (50%)\n",
    "    Dense(10, activation='softmax')                             # 출력층: 클래스 수가 10개, 소프트맥스 활성화\n",
    "])\n",
    "\n",
    "# 2. 옵티마이저 설정: Adam\n",
    "adam = keras.optimizers.Adam(\n",
    "    learning_rate=0.001           # 낮은 학습률: 안정적인 학습을 위해\n",
    ")\n",
    "\n",
    "# 3. 모델 컴파일\n",
    "model.compile(\n",
    "    optimizer=adam,                          # Adam 옵티마이저 사용\n",
    "    loss='sparse_categorical_crossentropy',# 정수형 라벨을 위한 손실 함수\n",
    "    metrics=['accuracy']                   # 정확도를 평가 지표로 사용\n",
    ")\n",
    "\n",
    "# 4. 모델 구조 출력\n",
    "model.summary()                            # 모델 레이어 구조, 파라미터 수 등을 출력\n",
    "\n",
    "# 5. EarlyStopping 콜백 설정\n",
    "early_stop = EarlyStopping(\n",
    "    monitor='val_loss',        # 검증 손실을 기준으로 개선 여부 판단\n",
    "    patience=5,                # 5 epoch 동안 성능 향상이 없으면 학습 중단\n",
    "    restore_best_weights=True # 가장 성능 좋았던 가중치를 복원\n",
    ")\n",
    "\n",
    "\n",
    "# 6. 모델 학습\n",
    "history = model.fit(\n",
    "    train_scaled, train_target,                     # 훈련 데이터\n",
    "    validation_data=(val_scaled, val_target),      # 검증 데이터\n",
    "    epochs=100,                          # 최대 100 epoch 학습\n",
    "    batch_size=64,                       # 배치 사이즈 64로 학습\n",
    "    callbacks=[early_stop]               # 조기 종료 콜백 적용\n",
    ")\n"
   ]
  },
  {
   "cell_type": "code",
   "execution_count": null,
   "id": "153c78ed",
   "metadata": {},
   "outputs": [],
   "source": [
    "train_score = model.evaluate(train_scaled, train_target)\n",
    "val_score = model.evaluate(val_scaled, val_target)"
   ]
  }
 ],
 "metadata": {
  "kernelspec": {
   "display_name": "Python 3",
   "language": "python",
   "name": "python3"
  },
  "language_info": {
   "codemirror_mode": {
    "name": "ipython",
    "version": 3
   },
   "file_extension": ".py",
   "mimetype": "text/x-python",
   "name": "python",
   "nbconvert_exporter": "python",
   "pygments_lexer": "ipython3",
   "version": "3.9.21"
  }
 },
 "nbformat": 4,
 "nbformat_minor": 5
}
