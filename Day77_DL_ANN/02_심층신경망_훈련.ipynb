{
 "cells": [
  {
   "cell_type": "code",
   "execution_count": null,
   "id": "5c9bf75b",
   "metadata": {
    "id": "5c9bf75b",
    "outputId": "e43b767f-aa70-4912-b072-a43cbe9015be"
   },
   "outputs": [],
   "source": [
    "\"\"\"\n",
    "<심층 신경망(DNN)>\n",
    " - 입력계층과 출력계층 사이에 여러 계층이 포함된 경우\n",
    " - 중간에 포함된 계층을 -> 은닉계층(Hidden Layer)이라고 표현함\n",
    " - 은닉계층은 입력된 데이터를 다음 계층으로 넘겨주기 위한 활성화 함수가 필요함\n",
    "   (보통 relu를 주로 사용함)\n",
    "\"\"\""
   ]
  },
  {
   "cell_type": "code",
   "execution_count": null,
   "id": "11a9e0f1",
   "metadata": {
    "id": "11a9e0f1",
    "outputId": "a1cf6d0f-7c13-4fe2-d8d3-aff7917251a9"
   },
   "outputs": [],
   "source": [
    "\"\"\"\n",
    "1. 패션데이터셋 읽어들이기 : 변수는 기존과 동일\n",
    "2. 데이터 스케일링 : 변수는 기존과 동일\n",
    "3. 훈련 : 검증 = 8:2로 분리 : 변수는 기존과 동일\n",
    "\"\"\""
   ]
  },
  {
   "cell_type": "code",
   "execution_count": 1,
   "id": "6c08db93",
   "metadata": {
    "executionInfo": {
     "elapsed": 7463,
     "status": "ok",
     "timestamp": 1748333053024,
     "user": {
      "displayName": "dal ma",
      "userId": "14924289622934975830"
     },
     "user_tz": -540
    },
    "id": "6c08db93"
   },
   "outputs": [],
   "source": [
    "\"\"\"\n",
    "<텐서플로 프레임워크 사용>\n",
    " - 사용 라이브러리 : keras\n",
    "\"\"\"\n",
    "\n",
    "### 텐서플로우 프레임워크(패키지라고도 칭함)\n",
    "import tensorflow as tf\n",
    "\n",
    "### 케라스 라이브러리 불러들이기\n",
    "from tensorflow import keras\n",
    "\n",
    "### 시각화 라이브러리 불러들이기\n",
    "import matplotlib.pyplot as plt\n",
    "\n",
    "### 넘파이\n",
    "import numpy as np\n",
    "\n",
    "### 훈련 및 테스트 데이터로 분류하는 라이브러리\n",
    "from sklearn.model_selection import train_test_split\n",
    "\n",
    "import os\n",
    "os.environ[\"TF_DETERMINISTIC_OPS\"] = \"0\"\n",
    "\n",
    "\n",
    "### 딥러닝 랜덤 규칙 정의하기\n",
    "# - 딥러닝에서의 랜덤 규칙은 항상 일정하게 유지되지는 않음\n",
    "# - 딥러닝 모델 내부에서 훈련을 위한 데이터를 임의로 추출하여 사용(사람이 관여 안함)\n",
    "tf.keras.utils.set_random_seed(42)\n",
    "# tf.config.experimental.enable_op_determinism()"
   ]
  },
  {
   "cell_type": "code",
   "execution_count": 2,
   "id": "76a51388",
   "metadata": {
    "colab": {
     "base_uri": "https://localhost:8080/"
    },
    "executionInfo": {
     "elapsed": 4814,
     "status": "ok",
     "timestamp": 1748333061549,
     "user": {
      "displayName": "dal ma",
      "userId": "14924289622934975830"
     },
     "user_tz": -540
    },
    "id": "76a51388",
    "outputId": "574902f6-a29a-436a-8a9e-dce3438e22a9"
   },
   "outputs": [
    {
     "name": "stdout",
     "output_type": "stream",
     "text": [
      "(60000, 28, 28) (60000,)\n",
      "(10000, 28, 28) (10000,)\n"
     ]
    }
   ],
   "source": [
    "### keras에서 제공하는 데이터 라이브러리 : Fashion MNIST\n",
    "# - 이미지 데이터로 되어있음..\n",
    "\n",
    "### 데이터셋 읽어들이기\n",
    "# - 반환되는 데이터 : train(독립, 종속), test(독립, 종속) 총 4개 데이터 변수로 반환됨\n",
    "(train_input, train_target), (test_input, test_target) = keras.datasets.fashion_mnist.load_data()\n",
    "\n",
    "print(train_input.shape, train_target.shape)\n",
    "print(test_input.shape, test_target.shape)"
   ]
  },
  {
   "cell_type": "code",
   "execution_count": null,
   "id": "6289fb99",
   "metadata": {
    "executionInfo": {
     "elapsed": 169,
     "status": "ok",
     "timestamp": 1748333064946,
     "user": {
      "displayName": "dal ma",
      "userId": "14924289622934975830"
     },
     "user_tz": -540
    },
    "id": "6289fb99"
   },
   "outputs": [],
   "source": [
    "### 이미지 픽셀 데이터를 0~1사이의 값으로 변환하기\n",
    "# - 이미지 픽셀 데이터의 범위는 0~255의 범위값으로 구성되어 있음\n",
    "# - 따라서, 각 픽셀의 값을 255로 나눠주면, 0~1사이의 값으로 일반화가 가능함\n",
    "# - 훈련 및 테스트 독립변수의 데이터를 모두 255로 나누어서 전처리하기\n",
    "#   (255.0의 소숫점으로 나눠줍니다.)\n",
    "train_scaled_255 = train_input / 255.0\n",
    "test_scaled_255  = test_input / 255.0"
   ]
  },
  {
   "cell_type": "code",
   "execution_count": null,
   "id": "6f60a612",
   "metadata": {
    "colab": {
     "base_uri": "https://localhost:8080/"
    },
    "executionInfo": {
     "elapsed": 147,
     "status": "ok",
     "timestamp": 1748333067559,
     "user": {
      "displayName": "dal ma",
      "userId": "14924289622934975830"
     },
     "user_tz": -540
    },
    "id": "6f60a612",
    "outputId": "cf95d71a-1c8f-45e3-a885-2e181997f0ef"
   },
   "outputs": [],
   "source": [
    "### 훈련(train_scaled, train_target)\n",
    "### 검증(val_scaled, val_target)\n",
    "train_scaled, val_scaled, train_target, val_target = train_test_split(\n",
    "    train_scaled_255, train_target, test_size=0.2, random_state=42\n",
    ")\n",
    "\n",
    "print(train_scaled.shape,   train_target.shape)\n",
    "print(val_scaled.shape,     val_target.shape)\n",
    "print(test_scaled_255.shape, test_target.shape)"
   ]
  },
  {
   "cell_type": "markdown",
   "id": "9110a0b5",
   "metadata": {
    "id": "9110a0b5"
   },
   "source": [
    "### 심층신경망(Deep Neural Network, DNN)"
   ]
  },
  {
   "cell_type": "code",
   "execution_count": null,
   "id": "3f630c23",
   "metadata": {
    "colab": {
     "base_uri": "https://localhost:8080/",
     "height": 54
    },
    "executionInfo": {
     "elapsed": 6,
     "status": "ok",
     "timestamp": 1748333068370,
     "user": {
      "displayName": "dal ma",
      "userId": "14924289622934975830"
     },
     "user_tz": -540
    },
    "id": "3f630c23",
    "outputId": "38bc1169-55d8-48f3-9b51-b8c1b0b09886"
   },
   "outputs": [],
   "source": [
    "\"\"\"\n",
    "<인공신경망(Artificial Neural Network, ANN)>\n",
    " - 은닉계층(Hidden Layer)이 없는 모델\n",
    " - 입력계층 + 출력계층 or 입/출력 계층만 존재하는 모델\n",
    "\n",
    "<심층신경망(Deep Neural Network, DNN)>\n",
    " - 은닉계층(Hidden Layer)이 있는 모델\n",
    " - 입력계층 + 은닉계층....n개 + 출력계층\n",
    "\"\"\""
   ]
  },
  {
   "cell_type": "code",
   "execution_count": null,
   "id": "e16d24cd",
   "metadata": {
    "colab": {
     "base_uri": "https://localhost:8080/"
    },
    "executionInfo": {
     "elapsed": 6,
     "status": "ok",
     "timestamp": 1748333068552,
     "user": {
      "displayName": "dal ma",
      "userId": "14924289622934975830"
     },
     "user_tz": -540
    },
    "id": "e16d24cd",
    "outputId": "5791bef9-382b-40b8-9103-8d403ea92c12"
   },
   "outputs": [],
   "source": [
    "### 1 모델 생성하기 : 변수명  model\n",
    "model = keras.Sequential()\n",
    "model"
   ]
  },
  {
   "cell_type": "code",
   "execution_count": null,
   "id": "54cfb18d",
   "metadata": {
    "colab": {
     "base_uri": "https://localhost:8080/"
    },
    "executionInfo": {
     "elapsed": 11,
     "status": "ok",
     "timestamp": 1748333068760,
     "user": {
      "displayName": "dal ma",
      "userId": "14924289622934975830"
     },
     "user_tz": -540
    },
    "id": "54cfb18d",
    "outputId": "faced2e1-9c13-4ebf-b875-cf92dee3530c"
   },
   "outputs": [],
   "source": [
    "### 2. 입력계층 생성하겨 모델에 추가하기\n",
    "# - 차원을 변환하는 전처리 계층을 입력계층으로 사용\n",
    "#   -> 모델에 사용되는 데이터는 2차원을 사용해야함\n",
    "#   -> (축, 행, 열) => (행, 열)로 변환\n",
    "#                      --> 축이 행이됨, (행*열)을 열로 통합\n",
    "# - Flatten : 차원변경 전처리 계층\n",
    "#           : 전처리 계층은 훈련에 사용되지 않는 계층임(데이터 전처리만 수행함)\n",
    "#           : 보통 입력된 데이터의 갯수가 출력으로 사용됨\n",
    "#\n",
    "# - input_shape을 사용하여 입력 계층의 역할도 함께 수행함\n",
    "dense1 = keras.layers.Flatten(input_shape=(28, 28))\n",
    "\n",
    "### 모델에 계층 추가하기\n",
    "model.add(dense1)\n",
    "model"
   ]
  },
  {
   "cell_type": "code",
   "execution_count": null,
   "id": "2d67a7fd",
   "metadata": {
    "executionInfo": {
     "elapsed": 1608,
     "status": "ok",
     "timestamp": 1748333071631,
     "user": {
      "displayName": "dal ma",
      "userId": "14924289622934975830"
     },
     "user_tz": -540
    },
    "id": "2d67a7fd"
   },
   "outputs": [],
   "source": [
    "### 은닉계층(Hidden Layer) 생성 및 모델에 추가하기\n",
    "# - 입력으로 받아올 데이터 갯수 :\n",
    "# - 다음계층으로 넘겨줄 데이터 갯수 : 100개(출력 갯수)\n",
    "# - 훈련 중 분류에 사용할 활성화함수 activation :\n",
    "hidden_layer = keras.layers.Dense(units=100, activation=\"relu\")\n",
    "\n",
    "### 모델에 추가하기\n",
    "model.add(hidden_layer)"
   ]
  },
  {
   "cell_type": "code",
   "execution_count": null,
   "id": "2f1bb551",
   "metadata": {
    "executionInfo": {
     "elapsed": 14,
     "status": "ok",
     "timestamp": 1748333071648,
     "user": {
      "displayName": "dal ma",
      "userId": "14924289622934975830"
     },
     "user_tz": -540
    },
    "id": "2f1bb551"
   },
   "outputs": [],
   "source": [
    "### 출력계층 생성 및 모델에 추가하기\n",
    "# - 출력 데이터 갯수 : 종속변수의 범주 갯수를 정의함\n",
    "output_layer = keras.layers.Dense(units=10, activation=\"softmax\")\n",
    "\n",
    "model.add(output_layer)"
   ]
  },
  {
   "cell_type": "code",
   "execution_count": null,
   "id": "d525a5cd",
   "metadata": {
    "colab": {
     "base_uri": "https://localhost:8080/",
     "height": 238
    },
    "executionInfo": {
     "elapsed": 26,
     "status": "ok",
     "timestamp": 1748333071675,
     "user": {
      "displayName": "dal ma",
      "userId": "14924289622934975830"
     },
     "user_tz": -540
    },
    "id": "d525a5cd",
    "outputId": "11ee1ff8-8bb5-493c-d249-a4e0a1d19588"
   },
   "outputs": [],
   "source": [
    "model.summary()"
   ]
  },
  {
   "cell_type": "markdown",
   "id": "b02bed6f",
   "metadata": {
    "id": "b02bed6f"
   },
   "source": [
    "### 모델 생성하는 함수 정의하기"
   ]
  },
  {
   "cell_type": "code",
   "execution_count": null,
   "id": "4ebc1ef3",
   "metadata": {
    "id": "4ebc1ef3",
    "outputId": "9a4bbfed-085f-4f96-9f3f-ab33c5b09461"
   },
   "outputs": [],
   "source": [
    "\"\"\"\n",
    "<함수 프로세스>\n",
    " - 함수 이름 : model_fn\n",
    " - 매개변수 : add_layer (은닉계층이 있으면 모델 중간에 추가, 없으면 추가 안함)\n",
    " - 모델 변수명 : model\n",
    " - 입력계층 모델에 추가 : 1차원 전처리 계층 사용\n",
    " - 은닉계층 추가 조건 : 여러개의 은니계층이 넘어 올 수 있음\n",
    "   -- add_layer의 값이 None이 아니면, 은닉계층을 모델에 추가\n",
    "   --                  None이면, 추가하지 않기\n",
    " - 출력계층 모델에 추가\n",
    " - 모델을 반환(리턴)\n",
    "\n",
    " -> 함수 호출 시 인자값으로 사용할 -> 테스트를 위한 은닉계층-1\n",
    "    : 출력 100개, 활성화함수 relu 사용\n",
    "    : 단, 여러개의 은닉계층을 인자값으로 넘길 수 있도록 처리\n",
    "\n",
    "    : 은닉계층 2개를 사용하는 경우 추가 은닉계층-2\n",
    "      -> 출력 50개, 활성화함수 relu 사용\n",
    "\n",
    "\"\"\""
   ]
  },
  {
   "cell_type": "code",
   "execution_count": null,
   "id": "1fd1baa2",
   "metadata": {
    "executionInfo": {
     "elapsed": 4,
     "status": "ok",
     "timestamp": 1748333075630,
     "user": {
      "displayName": "dal ma",
      "userId": "14924289622934975830"
     },
     "user_tz": -540
    },
    "id": "1fd1baa2"
   },
   "outputs": [],
   "source": [
    "def model_fn(add_layer = None) :\n",
    "    ### 모델 생성하기\n",
    "    model = keras.Sequential()\n",
    "\n",
    "    ### 입력계층(차원축소 전처리 계층)  생성 및 모델에 추가하기\n",
    "    model.add(keras.layers.Flatten(input_shape=(28, 28)))\n",
    "\n",
    "    ### 은닉계층 추가여부 확인하기\n",
    "    if add_layer != None :\n",
    "        ### 은닉계층 여러개를 리스트 타입으로 받아서 처리할 예정\n",
    "        for layer in add_layer :\n",
    "            model.add(layer)\n",
    "\n",
    "    ### 출력계층\n",
    "    model.add(keras.layers.Dense(units=10, activation=\"softmax\"))\n",
    "\n",
    "    ### 모델 반환하기\n",
    "    return model\n"
   ]
  },
  {
   "cell_type": "code",
   "execution_count": null,
   "id": "29becfdd",
   "metadata": {
    "colab": {
     "base_uri": "https://localhost:8080/",
     "height": 204
    },
    "executionInfo": {
     "elapsed": 37,
     "status": "ok",
     "timestamp": 1748333076930,
     "user": {
      "displayName": "dal ma",
      "userId": "14924289622934975830"
     },
     "user_tz": -540
    },
    "id": "29becfdd",
    "outputId": "2087c8aa-246f-46b2-f54c-fb5da275879e"
   },
   "outputs": [],
   "source": [
    "### 함수 호출하여 모델 생성하기\n",
    "# - 은닉계층 없이 생성\n",
    "model_temp = model_fn()\n",
    "model_temp.summary()"
   ]
  },
  {
   "cell_type": "code",
   "execution_count": null,
   "id": "9fc14e77",
   "metadata": {
    "colab": {
     "base_uri": "https://localhost:8080/",
     "height": 238
    },
    "executionInfo": {
     "elapsed": 36,
     "status": "ok",
     "timestamp": 1748333077931,
     "user": {
      "displayName": "dal ma",
      "userId": "14924289622934975830"
     },
     "user_tz": -540
    },
    "id": "9fc14e77",
    "outputId": "e83afd85-ce5f-41c0-f733-73557ece7011"
   },
   "outputs": [],
   "source": [
    "### 함수 호출하여 모델 생성하기\n",
    "# - 은닉계층 추가\n",
    "hidden_layer1 = keras.layers.Dense(units=100, activation=\"relu\")\n",
    "\n",
    "model_temp = model_fn([hidden_layer1])\n",
    "model_temp.summary()"
   ]
  },
  {
   "cell_type": "code",
   "execution_count": null,
   "id": "4fac6b27",
   "metadata": {
    "colab": {
     "base_uri": "https://localhost:8080/",
     "height": 272
    },
    "executionInfo": {
     "elapsed": 49,
     "status": "ok",
     "timestamp": 1748333078681,
     "user": {
      "displayName": "dal ma",
      "userId": "14924289622934975830"
     },
     "user_tz": -540
    },
    "id": "4fac6b27",
    "outputId": "daef67be-6ba9-4131-8e52-f2110eab8f23"
   },
   "outputs": [],
   "source": [
    "### 함수 호출하여 모델 생성하기\n",
    "# - 은닉계층 추가\n",
    "hidden_layer1 = keras.layers.Dense(units=100, activation=\"relu\")\n",
    "hidden_layer2 = keras.layers.Dense(units=50, activation=\"relu\")\n",
    "\n",
    "model_temp = model_fn([hidden_layer1, hidden_layer2])\n",
    "model_temp.summary()"
   ]
  },
  {
   "cell_type": "markdown",
   "id": "83f24473",
   "metadata": {
    "id": "83f24473"
   },
   "source": [
    "### 모델 환경설정하기(역전파: 손실을 줄이기 위한 평가 등을 진행)"
   ]
  },
  {
   "cell_type": "code",
   "execution_count": null,
   "id": "317ca1d0",
   "metadata": {
    "colab": {
     "base_uri": "https://localhost:8080/",
     "height": 373
    },
    "executionInfo": {
     "elapsed": 242,
     "status": "error",
     "timestamp": 1748333079965,
     "user": {
      "displayName": "dal ma",
      "userId": "14924289622934975830"
     },
     "user_tz": -540
    },
    "id": "317ca1d0",
    "outputId": "e6392329-a868-4d43-f964-85230f30bbf6"
   },
   "outputs": [],
   "source": [
    "### 다중분류를 진행하며, 종속변수의 값 형태는 0, 1, 2,....\n",
    "# - 평가 결과는 손실율과 정확도까지 출력...\n",
    "model_temp.compile(\n",
    "    loss = \"sparse_categorical_crossentropy\",\n",
    "    metrics = \"accuracy\"\n",
    ")"
   ]
  },
  {
   "cell_type": "markdown",
   "id": "f21475ca",
   "metadata": {
    "id": "f21475ca"
   },
   "source": [
    "### 심층신경망 훈련 시키기"
   ]
  },
  {
   "cell_type": "code",
   "execution_count": null,
   "id": "2251e486",
   "metadata": {},
   "outputs": [],
   "source": [
    "# 이후 모델 정의 및 fit 실행\n",
    "model_temp.compile(\n",
    "    loss = \"sparse_categorical_crossentropy\",\n",
    "    metrics = \"accuracy\"\n",
    ")\n",
    "model_temp.fit(train_scaled, train_target, epochs=50)\n"
   ]
  },
  {
   "cell_type": "code",
   "execution_count": null,
   "id": "51b9d39c",
   "metadata": {},
   "outputs": [],
   "source": [
    "from tensorflow.keras.utils import to_categorical\n",
    "train_target_oh = to_categorical(train_target)\n",
    "\n",
    "model_temp.compile(\n",
    "    loss = \"categorical_crossentropy\",\n",
    "    metrics = \"accuracy\"\n",
    ")\n",
    "model_temp.fit(train_scaled, train_target_oh, epochs=50)\n"
   ]
  },
  {
   "cell_type": "code",
   "execution_count": null,
   "id": "fdd79b50",
   "metadata": {},
   "outputs": [],
   "source": [
    "import os\n",
    "os.environ[\"TF_DETERMINISTIC_OPS\"] = \"0\"\n",
    "\n",
    "# 그 다음!\n",
    "import tensorflow as tf\n",
    "from tensorflow import keras\n",
    "from tensorflow.keras import layers\n",
    "\n",
    "# 모델 정의 예시\n",
    "model_temp = keras.Sequential([\n",
    "    layers.Dense(64, activation='relu', input_shape=(train_scaled.shape[1],)),\n",
    "    layers.Dense(3, activation='softmax')\n",
    "])\n",
    "\n",
    "model_temp.compile(\n",
    "    optimizer='adam',\n",
    "    loss='sparse_categorical_crossentropy',\n",
    "    metrics=['accuracy']\n",
    ")\n",
    "\n",
    "# 훈련\n",
    "model_temp.fit(train_scaled, train_target, epochs=50)"
   ]
  },
  {
   "cell_type": "code",
   "execution_count": null,
   "id": "fa273aa5",
   "metadata": {
    "id": "fa273aa5",
    "outputId": "cfe10641-c3aa-4147-e61a-8cc0404d465e"
   },
   "outputs": [],
   "source": [
    "\"\"\"\n",
    " - 훈련 횟수 50회\n",
    "\"\"\"\n",
    "\n",
    "model_temp.fit(train_scaled, train_target, epochs=50)"
   ]
  },
  {
   "cell_type": "code",
   "execution_count": null,
   "id": "6565e0e1",
   "metadata": {
    "id": "6565e0e1",
    "outputId": "91a11c9f-2b2b-49a1-f476-99cf98a98e07"
   },
   "outputs": [],
   "source": [
    "### 훈련 결과에 대한 히스토리 정보 받아오기\n",
    "with tf.device(\"/CPU:0\") :\n",
    "    history = model_temp.fit(train_scaled, train_target, epochs=50)"
   ]
  },
  {
   "cell_type": "code",
   "execution_count": null,
   "id": "fe91aaa5",
   "metadata": {
    "id": "fe91aaa5",
    "outputId": "8190fb0b-d7c0-4471-a5ff-3bdcba512e3d"
   },
   "outputs": [],
   "source": [
    "history"
   ]
  },
  {
   "cell_type": "code",
   "execution_count": null,
   "id": "4c7d56d8",
   "metadata": {
    "id": "4c7d56d8",
    "outputId": "e900ca49-c2ad-49ca-d30a-9b92c230ded4"
   },
   "outputs": [],
   "source": [
    "### 반복횟수 데이터 추출하기\n",
    "print(history.epoch)"
   ]
  },
  {
   "cell_type": "code",
   "execution_count": null,
   "id": "a9f3279a",
   "metadata": {
    "id": "a9f3279a",
    "outputId": "30699d0f-f5d4-4ffa-ef9c-4c0aae59c85e"
   },
   "outputs": [],
   "source": [
    "### 손실율과 정확도에 대한 훈련 결과데이터 추출하기\n",
    "history.history"
   ]
  },
  {
   "cell_type": "markdown",
   "id": "aa519caf",
   "metadata": {
    "id": "aa519caf"
   },
   "source": [
    "### 훈련 중 발생한 손실율을 이용하여 손실곡선 시각화 하기"
   ]
  },
  {
   "cell_type": "code",
   "execution_count": null,
   "id": "d6b37a3b",
   "metadata": {
    "id": "d6b37a3b",
    "outputId": "b32e9b1c-f0ed-4ec2-d25b-713fa65f9de4"
   },
   "outputs": [],
   "source": [
    "### 손실곡선 : 선그래프로 그리기\n",
    "# - x축은 반복횟수\n",
    "# - y축은 손실율\n",
    "\n",
    "# - 그래프는 saveFig 폴더에 png 확장자를 가지는 이미지로 저장하기\n",
    "\n",
    "plt.title(\"model_epoch_loss_01\")\n",
    "plt.plot(history.epoch, history.history[\"loss\"])\n",
    "\n",
    "plt.xlabel(\"Epoch\")\n",
    "plt.ylabel(\"Loss\")\n",
    "\n",
    "plt.grid()\n",
    "\n",
    "### 이미지 저장\n",
    "plt.savefig(\"./saveFig/model_epoch_loss_01.png\")\n",
    "\n",
    "plt.show()\n"
   ]
  },
  {
   "cell_type": "markdown",
   "id": "81df18de",
   "metadata": {
    "id": "81df18de"
   },
   "source": [
    "### 훈련결과에 대한 정확도 곡선 시각화하기"
   ]
  },
  {
   "cell_type": "code",
   "execution_count": null,
   "id": "6ef1f8e0",
   "metadata": {
    "id": "6ef1f8e0",
    "outputId": "d70665d9-42d8-4c79-f310-8ec6a65a5c38"
   },
   "outputs": [],
   "source": [
    "### 정확도 곡선 : 선그래프로 그리기\n",
    "# - x축은 반복횟수\n",
    "# - y축은 정확도\n",
    "plt.title(\"model_epoch_accuracy_01\")\n",
    "plt.plot(history.epoch, history.history[\"accuracy\"])\n",
    "\n",
    "plt.xlabel(\"Epoch\")\n",
    "plt.ylabel(\"accuracy\")\n",
    "\n",
    "plt.grid()\n",
    "\n",
    "### 이미지 저장\n",
    "plt.savefig(\"./saveFig/model_epoch_accuracy_01.png\")\n",
    "\n",
    "plt.show()"
   ]
  },
  {
   "cell_type": "code",
   "execution_count": null,
   "id": "3c028e4c",
   "metadata": {
    "id": "3c028e4c",
    "outputId": "5fb5ed4c-f2bf-43a4-aaa1-2b674e5d7d22"
   },
   "outputs": [],
   "source": [
    "\"\"\"\n",
    " - 신규모델 생성하여 훈련하기\n",
    " - 은닉계층은 출력 100개로 한개 계층 추가\n",
    " - 반복횟수는 50회\n",
    " - 손실곡선 및 정확도 곡선 그리기..\n",
    "\"\"\"\n",
    "hidden_layer = keras.layers.Dense(units=100, activation=\"relu\")\n",
    "\n",
    "model = model_fn([hidden_layer])\n",
    "\n",
    "model.compile(\n",
    "    loss = \"sparse_categorical_crossentropy\",\n",
    "    metrics = \"accuracy\"\n",
    ")\n",
    "\n",
    "with tf.device(\"/CPU:0\") :\n",
    "    history = model.fit(train_scaled, train_target, epochs=50)"
   ]
  },
  {
   "cell_type": "code",
   "execution_count": null,
   "id": "9064aaea",
   "metadata": {
    "id": "9064aaea",
    "outputId": "6f5d1b60-3240-40f8-e62b-11aeb7fc7bfa"
   },
   "outputs": [],
   "source": [
    "### 손실곡선 : 선그래프로 그리기\n",
    "# - x축은 반복횟수\n",
    "# - y축은 손실율\n",
    "\n",
    "# - 그래프는 saveFig 폴더에 png 확장자를 가지는 이미지로 저장하기\n",
    "\n",
    "plt.title(\"model_epoch_loss_02\")\n",
    "plt.plot(history.epoch, history.history[\"loss\"])\n",
    "\n",
    "plt.xlabel(\"Epoch\")\n",
    "plt.ylabel(\"Loss\")\n",
    "\n",
    "plt.grid()\n",
    "\n",
    "### 이미지 저장\n",
    "plt.savefig(\"./saveFig/model_epoch_loss_02.png\")\n",
    "\n",
    "plt.show()\n"
   ]
  },
  {
   "cell_type": "code",
   "execution_count": null,
   "id": "a90e1f61",
   "metadata": {
    "id": "a90e1f61",
    "outputId": "5d84e2ec-acd5-4c05-b5fe-3fdf3f17deff"
   },
   "outputs": [],
   "source": [
    "### 정확도 곡선 : 선그래프로 그리기\n",
    "# - x축은 반복횟수\n",
    "# - y축은 정확도\n",
    "plt.title(\"model_epoch_accuracy_02\")\n",
    "plt.plot(history.epoch, history.history[\"accuracy\"])\n",
    "\n",
    "plt.xlabel(\"Epoch\")\n",
    "plt.ylabel(\"accuracy\")\n",
    "\n",
    "plt.grid()\n",
    "\n",
    "### 이미지 저장\n",
    "plt.savefig(\"./saveFig/model_epoch_accuracy_02.png\")\n",
    "\n",
    "plt.show()"
   ]
  },
  {
   "cell_type": "code",
   "execution_count": null,
   "id": "86daf3ed",
   "metadata": {
    "id": "86daf3ed",
    "outputId": "663c8632-f104-4615-bc43-418fbcd3c4e1"
   },
   "outputs": [],
   "source": [
    "### 손실과 정확도 곡선 : 선그래프로 그리기\n",
    "# - x축은 반복횟수\n",
    "# - y축은 손실율 및 정확도\n",
    "\n",
    "# - 그래프는 saveFig 폴더에 png 확장자를 가지는 이미지로 저장하기\n",
    "\n",
    "plt.title(\"model_epoch_loss_and_accuracy_03\")\n",
    "plt.plot(history.epoch, history.history[\"loss\"])\n",
    "plt.plot(history.epoch, history.history[\"accuracy\"])\n",
    "\n",
    "plt.xlabel(\"Epoch\")\n",
    "plt.ylabel(\"Loss and Accuracy\")\n",
    "\n",
    "plt.legend([\"loss\", \"accuracy\"])\n",
    "\n",
    "plt.grid()\n",
    "\n",
    "### 이미지 저장\n",
    "plt.savefig(\"./saveFig/model_epoch_loss_and_accuracy_03.png\")\n",
    "\n",
    "plt.show()\n"
   ]
  },
  {
   "cell_type": "markdown",
   "id": "22174765",
   "metadata": {
    "id": "22174765"
   },
   "source": [
    "### 훈련 및 검증 데이터를 모두 사용하여 훈련 시키기"
   ]
  },
  {
   "cell_type": "code",
   "execution_count": null,
   "id": "a58f97db",
   "metadata": {
    "id": "a58f97db",
    "outputId": "392b83e9-6236-4cd9-b702-4b2fc8acd6c9"
   },
   "outputs": [],
   "source": [
    "### 은닉계층\n",
    "hidden_layer = keras.layers.Dense(units=100, activation=\"relu\")\n",
    "\n",
    "### 모델 생성 함수 호출\n",
    "model = model_fn([hidden_layer])\n",
    "\n",
    "### 모델 설정하기\n",
    "model.compile(\n",
    "    loss = \"sparse_categorical_crossentropy\",\n",
    "    metrics = \"accuracy\"\n",
    ")\n",
    "\n",
    "### 훈련 및 검증 데이터를 이용하여 훈련 시키기\n",
    "# - 훈련시 훈련에 대한 손실/정확도, 검증에 대한 손실/정확도를 모두 출력해줍니다.\n",
    "with tf.device(\"/CPU:0\") :\n",
    "    history = model.fit(train_scaled, train_target, epochs=50,\n",
    "                        validation_data = (val_scaled, val_target))"
   ]
  },
  {
   "cell_type": "code",
   "execution_count": null,
   "id": "ae1eabab",
   "metadata": {
    "id": "ae1eabab",
    "outputId": "8901e951-c4b3-42b1-d33b-784c7b9ca0dd"
   },
   "outputs": [],
   "source": [
    "### 훈련 및 검증 손실 곡선 시각화\n",
    "\n",
    "plt.title(\"model_epoch_train_and_val_loss_04\")\n",
    "plt.plot(history.epoch, history.history[\"loss\"])\n",
    "plt.plot(history.epoch, history.history[\"val_loss\"])\n",
    "\n",
    "plt.xlabel(\"Epoch\")\n",
    "plt.ylabel(\"Loss\")\n",
    "\n",
    "plt.legend([\"train_loss\", \"val_loss\"])\n",
    "\n",
    "plt.grid()\n",
    "\n",
    "### 이미지 저장\n",
    "plt.savefig(\"./saveFig/model_epoch_train_and_val_loss_04.png\")\n",
    "\n",
    "plt.show()"
   ]
  },
  {
   "cell_type": "code",
   "execution_count": null,
   "id": "b5dcdc83",
   "metadata": {
    "id": "b5dcdc83",
    "outputId": "8e51fa84-3898-4322-fb11-14fcdac59d9f"
   },
   "outputs": [],
   "source": [
    "### 훈련 및 검증 정확도 곡선 시각화\n",
    "\n",
    "plt.title(\"model_epoch_train_and_val_accuracy_05\")\n",
    "plt.plot(history.epoch, history.history[\"accuracy\"])\n",
    "plt.plot(history.epoch, history.history[\"val_accuracy\"])\n",
    "\n",
    "plt.xlabel(\"Epoch\")\n",
    "plt.ylabel(\"accuracy\")\n",
    "\n",
    "plt.legend([\"train_accuracy\", \"val_accuracy\"])\n",
    "\n",
    "plt.grid()\n",
    "\n",
    "### 이미지 저장\n",
    "plt.savefig(\"./saveFig/model_epoch_train_and_val_accuracy_05.png\")\n",
    "\n",
    "plt.show()"
   ]
  },
  {
   "cell_type": "code",
   "execution_count": null,
   "id": "c6f09bcc",
   "metadata": {
    "id": "c6f09bcc"
   },
   "outputs": [],
   "source": []
  },
  {
   "cell_type": "code",
   "execution_count": null,
   "id": "8e24b745",
   "metadata": {
    "id": "8e24b745"
   },
   "outputs": [],
   "source": []
  },
  {
   "cell_type": "code",
   "execution_count": null,
   "id": "28cc3aff",
   "metadata": {
    "id": "28cc3aff"
   },
   "outputs": [],
   "source": []
  },
  {
   "cell_type": "code",
   "execution_count": null,
   "id": "ec320efe",
   "metadata": {
    "id": "ec320efe"
   },
   "outputs": [],
   "source": []
  },
  {
   "cell_type": "code",
   "execution_count": null,
   "id": "c8f30968",
   "metadata": {
    "id": "c8f30968"
   },
   "outputs": [],
   "source": []
  },
  {
   "cell_type": "code",
   "execution_count": null,
   "id": "bf6ea3f1",
   "metadata": {
    "id": "bf6ea3f1"
   },
   "outputs": [],
   "source": []
  },
  {
   "cell_type": "code",
   "execution_count": null,
   "id": "e69def18",
   "metadata": {
    "id": "e69def18"
   },
   "outputs": [],
   "source": []
  },
  {
   "cell_type": "code",
   "execution_count": null,
   "id": "aa42e6c4",
   "metadata": {
    "id": "aa42e6c4"
   },
   "outputs": [],
   "source": []
  },
  {
   "cell_type": "code",
   "execution_count": null,
   "id": "6f6b4922",
   "metadata": {
    "id": "6f6b4922"
   },
   "outputs": [],
   "source": []
  },
  {
   "cell_type": "code",
   "execution_count": null,
   "id": "34075ccb",
   "metadata": {
    "id": "34075ccb"
   },
   "outputs": [],
   "source": []
  },
  {
   "cell_type": "code",
   "execution_count": null,
   "id": "b9f67e66",
   "metadata": {
    "id": "b9f67e66"
   },
   "outputs": [],
   "source": []
  },
  {
   "cell_type": "code",
   "execution_count": null,
   "id": "ccf52773",
   "metadata": {
    "id": "ccf52773"
   },
   "outputs": [],
   "source": []
  },
  {
   "cell_type": "code",
   "execution_count": null,
   "id": "37892a10",
   "metadata": {
    "id": "37892a10"
   },
   "outputs": [],
   "source": []
  },
  {
   "cell_type": "code",
   "execution_count": null,
   "id": "4624e711",
   "metadata": {
    "id": "4624e711"
   },
   "outputs": [],
   "source": []
  },
  {
   "cell_type": "code",
   "execution_count": null,
   "id": "21e9cc36",
   "metadata": {
    "id": "21e9cc36"
   },
   "outputs": [],
   "source": []
  }
 ],
 "metadata": {
  "accelerator": "GPU",
  "colab": {
   "gpuType": "T4",
   "provenance": []
  },
  "kernelspec": {
   "display_name": "Python 3",
   "language": "python",
   "name": "python3"
  },
  "language_info": {
   "codemirror_mode": {
    "name": "ipython",
    "version": 3
   },
   "file_extension": ".py",
   "mimetype": "text/x-python",
   "name": "python",
   "nbconvert_exporter": "python",
   "pygments_lexer": "ipython3",
   "version": "3.9.21"
  }
 },
 "nbformat": 4,
 "nbformat_minor": 5
}
