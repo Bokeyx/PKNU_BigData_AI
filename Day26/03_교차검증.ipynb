{
 "cells": [
  {
   "cell_type": "code",
   "execution_count": 10,
   "metadata": {},
   "outputs": [],
   "source": [
    "### Machine Running library install\n",
    "from sklearn.neighbors import KNeighborsClassifier\n",
    "\n",
    "\n",
    "from sklearn.linear_model import LogisticRegression\n",
    "\n",
    "### 선형, 다중, 다항 회귀모델 라이브러리 정의\n",
    "from sklearn.linear_model import LinearRegression\n",
    "from sklearn.linear_model import Ridge\n",
    "from sklearn.linear_model import Lasso\n",
    "\n",
    "### 앙상블 모델\n",
    "from sklearn.ensemble import RandomForestRegressor\n",
    "from sklearn.ensemble import ExtraTreesRegressor\n",
    "\n",
    "from sklearn.ensemble import GradientBoostingRegressor\n",
    "from sklearn.ensemble import HistGradientBoostingRegressor\n",
    "from xgboost import XGBRegressor\n",
    "\n",
    "### visualization library\n",
    "import matplotlib.pyplot as plt\n",
    "\n",
    "# Definition of the NumPy library\n",
    "import numpy as np\n",
    "\n",
    "### Definition of Library (Preprocessing Library)\n",
    "from sklearn.model_selection import train_test_split\n",
    "\n",
    "### 평가 라이브러리 정의\n",
    "# 평균절대오차(MAE)\n",
    "from sklearn.metrics import mean_absolute_error\n",
    "# 평균제곱오차(MSE)\n",
    "from sklearn.metrics import mean_squared_error\n",
    "# 결정계수(R2-score)\n",
    "from sklearn.metrics import r2_score\n",
    "\n",
    "### 오차행렬 및 오차행렬도 라이브러리 정의하기\n",
    "from sklearn.metrics import confusion_matrix\n",
    "from sklearn.metrics import ConfusionMatrixDisplay\n",
    "\n",
    "# - 변환기 모델(클래스) 라이브러리 정의하기\n",
    "from sklearn.preprocessing import PolynomialFeatures\n",
    "from sklearn.preprocessing import StandardScaler\n",
    "from sklearn.preprocessing import MinMaxScaler\n",
    "from sklearn.preprocessing import RobustScaler\n",
    "\n",
    "# 정확도\n",
    "from sklearn.metrics import accuracy_score\n",
    "# 정밀도\n",
    "from sklearn.metrics import precision_score\n",
    "# 재현율\n",
    "from sklearn.metrics import recall_score\n",
    "# f1-score\n",
    "from sklearn.metrics import f1_score\n",
    "\n",
    "\n",
    "# - 결정트리 모델(클래스) 라이브러리 정의\n",
    "from sklearn.tree import DecisionTreeClassifier\n",
    "from sklearn.tree import plot_tree\n",
    "\n",
    "import pandas as pd \n",
    "\n",
    "import seaborn as sns\n",
    "\n",
    "\n",
    "### 라이브러리 정의\n",
    "from scipy.stats import spearmanr\n",
    "\n",
    "### 라이브러리 정의\n",
    "from scipy.stats import pearsonr\n",
    "\n",
    "### 하이퍼파라미터 튜닝 모델(클래스) 정의하기\n",
    "from sklearn.model_selection import GridSearchCV\n",
    "\n",
    "plt.rc(\"font\", family=\"Malgun Gothic\")\n",
    "\n",
    "plt.rcParams[\"axes.unicode_minus\"] = False\n",
    "\n",
    "### 경고 메시지 없애기\n",
    "# - 사이킷런 버전에 따라 오류가 아니니 안내(경고)메시지가 자주 나타남\n",
    "# - 안내(경고) 메시지 없이 실행할 수 있도록 처리\n",
    "from sklearn import set_config\n",
    "set_config(display=\"text\")\n"
   ]
  },
  {
   "cell_type": "code",
   "execution_count": 11,
   "metadata": {},
   "outputs": [
    {
     "name": "stdout",
     "output_type": "stream",
     "text": [
      "<class 'pandas.core.frame.DataFrame'>\n",
      "RangeIndex: 6497 entries, 0 to 6496\n",
      "Data columns (total 4 columns):\n",
      " #   Column   Non-Null Count  Dtype  \n",
      "---  ------   --------------  -----  \n",
      " 0   alcohol  6497 non-null   float64\n",
      " 1   sugar    6497 non-null   float64\n",
      " 2   pH       6497 non-null   float64\n",
      " 3   class    6497 non-null   float64\n",
      "dtypes: float64(4)\n",
      "memory usage: 203.2 KB\n",
      "None\n",
      "           alcohol        sugar           pH        class\n",
      "count  6497.000000  6497.000000  6497.000000  6497.000000\n",
      "mean     10.491801     5.443235     3.218501     0.753886\n",
      "std       1.192712     4.757804     0.160787     0.430779\n",
      "min       8.000000     0.600000     2.720000     0.000000\n",
      "25%       9.500000     1.800000     3.110000     1.000000\n",
      "50%      10.300000     3.000000     3.210000     1.000000\n",
      "75%      11.300000     8.100000     3.320000     1.000000\n",
      "max      14.900000    65.800000     4.010000     1.000000\n",
      "   alcohol  sugar    pH  class\n",
      "0      9.4    1.9  3.51    0.0\n",
      "1      9.8    2.6  3.20    0.0\n"
     ]
    }
   ],
   "source": [
    "\"\"\"\n",
    " 1. wine.csv 데이터 읽어들이기: 변수명 wine\n",
    " 2. 독립/훈련 데이터 분리: 변수명 data, target\n",
    " 3. 훈련/검증/테스트 데이터로 분리: 분리비율 6:2:2, 변수명: **_input, **_target\n",
    "\"\"\"\n",
    "\n",
    "file_path = \"./data/08_wine.csv\"\n",
    "wine = pd.read_csv(file_path)\n",
    "print(wine.info())\n",
    "print(wine.describe())\n",
    "print(wine.head(2))\n"
   ]
  },
  {
   "cell_type": "code",
   "execution_count": 12,
   "metadata": {},
   "outputs": [
    {
     "name": "stdout",
     "output_type": "stream",
     "text": [
      "      alcohol  sugar    pH\n",
      "0         9.4    1.9  3.51\n",
      "1         9.8    2.6  3.20\n",
      "2         9.8    2.3  3.26\n",
      "3         9.8    1.9  3.16\n",
      "4         9.4    1.9  3.51\n",
      "...       ...    ...   ...\n",
      "6492     11.2    1.6  3.27\n",
      "6493      9.6    8.0  3.15\n",
      "6494      9.4    1.2  2.99\n",
      "6495     12.8    1.1  3.34\n",
      "6496     11.8    0.8  3.26\n",
      "\n",
      "[6497 rows x 3 columns]\n",
      "0       0.0\n",
      "1       0.0\n",
      "2       0.0\n",
      "3       0.0\n",
      "4       0.0\n",
      "       ... \n",
      "6492    1.0\n",
      "6493    1.0\n",
      "6494    1.0\n",
      "6495    1.0\n",
      "6496    1.0\n",
      "Name: class, Length: 6497, dtype: float64\n"
     ]
    }
   ],
   "source": [
    "data = wine.iloc[:, :-1]\n",
    "target = wine[\"class\"]\n",
    "\n",
    "print(data)\n",
    "print(target)"
   ]
  },
  {
   "cell_type": "code",
   "execution_count": 13,
   "metadata": {},
   "outputs": [
    {
     "name": "stdout",
     "output_type": "stream",
     "text": [
      "(3898, 3) (3898,)\n",
      "(1299, 3) (1299,)\n",
      "(1300, 3) (1300,)\n"
     ]
    }
   ],
   "source": [
    "### 변수명: **_input, **_target\n",
    "### stratify=target: 분리 비율이 안맞는 경우 오류 발생 -> 이경우 속성 제외하고 진행\n",
    "\n",
    "train_input, val_input, train_target, val_target = train_test_split(data, target, test_size=0.4, random_state=42, stratify=target)\n",
    "val_input, test_input, val_target, test_target = train_test_split(val_input, val_target, test_size=0.5, random_state=42, stratify=val_target)\n",
    "\n",
    "print(train_input.shape, train_target.shape)\n",
    "print(val_input.shape, val_target.shape)\n",
    "print(test_input.shape, test_target.shape)\n"
   ]
  },
  {
   "cell_type": "markdown",
   "metadata": {},
   "source": [
    "### 결정트리(의사결정나무), DT모델로 과적합 여부 확인"
   ]
  },
  {
   "cell_type": "code",
   "execution_count": 14,
   "metadata": {},
   "outputs": [
    {
     "name": "stdout",
     "output_type": "stream",
     "text": [
      "훈련 정확도: 0.9486916367367881, 검증 정확도: 0.8629715165511932, 테스트 정확도: 0.8569230769230769, 과적합 여부: 0.08572012018559494\n"
     ]
    }
   ],
   "source": [
    "###  하이퍼파라미터 없이, 랜덤규칙만 넣어서 진행\n",
    "# - 훈련/검증/테스트 정확도 모두 확인\n",
    "dt = DecisionTreeClassifier(max_depth=11, random_state=42)\n",
    "dt.fit(train_input, train_target)\n",
    "\n",
    "train_score = dt.score(train_input, train_target)\n",
    "val_score = dt.score(val_input, val_target)\n",
    "test_score = dt.score(test_input, test_target)\n",
    "\n",
    "print(f\"훈련 정확도: {train_score}, 검증 정확도: {val_score}, 테스트 정확도: {test_score}, 과적합 여부: {train_score - val_score}\")"
   ]
  },
  {
   "cell_type": "markdown",
   "metadata": {},
   "source": [
    "### 교차검증"
   ]
  },
  {
   "cell_type": "code",
   "execution_count": 15,
   "metadata": {},
   "outputs": [
    {
     "data": {
      "text/plain": [
       "'\\n<교차검증을 수행하는 경우>\\n- 데이터의 양이 적은 경우에는 훈련/검증/테스트로 분리하기 어려움\\n  (훈련 데이터가 부족한 경우 정확도가 낮아짐)\\n- 훈련과 테스트 데이터로 분리 후 훈련 데이터를 이용해서 수행할 때 성능을 높이는 방법으로 사용\\n\\n<교차검증 작동 방식>\\n- 훈련모델 내부에서 훈련 데이터를 훈련/검증 데이터로 분리하여 사용하게됨\\n- 정의된 Fold의 갯수를 이용하여 훈련 데이터를 분리하여 사용\\n- 훈련(fit) 중에 모델이 Fold의 갯수에 따라 자유롭게 분리하여 훈련을 수행\\n\\n<교차검증 주요 키워드>\\n - n폴드-교차검증: 훈련데이터를 n폴드 갯수만큼 구간을 나우어서 훈련 수행\\n - 구간마다 훈련과 검증데이터를 분리시킴\\n - n폴드-교차검증은 보통 3폴드, 5폴드, 10폴드로 정의하여 교차검증 진행\\n - 교차검증을 위해서는 훈련과 테스트 데이터 분리비율을 보통 8:2로 하는 것이 일반적임\\n \\n<3폴드-교차검증 예시>\\n - 3폴드에서 사용되는 훈련데이터 분리: 데이터(1) : 데이터(2) : 데이터(3)\\n (1폴드) 훈련데이터(데이터1 + 데이터2) / 검증데이터(데이터3) -> 결과롤 1폴드 훈련정확도\\n (2폴드) 훈련데이터(데이터1 + 데이터3) / 검증데이터(데이터2) -> 결과롤 2폴드 훈련정확도\\n (1폴드) 훈련데이터(데이터2 + 데이터3) / 검증데이터(데이터1) -> 결과롤 3폴드 훈련정확도\\n \\n<최종 훈련 정확도>\\n - 각 폴드의 훈련정확도의 \"평균값\"이 \"최종 훈련 정확도\"가 됩니다.\\n \\n<교차검증 수행 순서>\\n - 사용할 모델 생성\\n - 교차검증 함수 정의: 교차검증 함수에 사용할 모델, 훈련 독립, 종속변수 넣기, 폴드 정의\\n                     : 폴드는 정의하지 않으면 기본값 5가 사용됨\\n - 교차검증은 훈려에 대한 정확도를 높이는 방법을 제시하는 개념일 뿐\\n   교차검증의 결과로 훈련 이후 예측으로 사용되지는 않습니다.\\n   -> 폴드를 이용한 교차검증을 적용한 모델을 사용해야함(CV가 포함된 모델)\\n \\n<교차검증 라이브러리>\\n - 사용 패키지: sklearn.model_selection\\n - 사용함수: cross_validate\\n \\n<폴드 라이브러리>\\n - 사용 패키지: sklearn.model_selection\\n - 사용 클래스: StratifiedKFold\\n'"
      ]
     },
     "execution_count": 15,
     "metadata": {},
     "output_type": "execute_result"
    }
   ],
   "source": [
    "\"\"\"\n",
    "<교차검증을 수행하는 경우>\n",
    "- 데이터의 양이 적은 경우에는 훈련/검증/테스트로 분리하기 어려움\n",
    "  (훈련 데이터가 부족한 경우 정확도가 낮아짐)\n",
    "- 훈련과 테스트 데이터로 분리 후 훈련 데이터를 이용해서 수행할 때 성능을 높이는 방법으로 사용\n",
    "\n",
    "<교차검증 작동 방식>\n",
    "- 훈련모델 내부에서 훈련 데이터를 훈련/검증 데이터로 분리하여 사용하게됨\n",
    "- 정의된 Fold의 갯수를 이용하여 훈련 데이터를 분리하여 사용\n",
    "- 훈련(fit) 중에 모델이 Fold의 갯수에 따라 자유롭게 분리하여 훈련을 수행\n",
    "\n",
    "<교차검증 주요 키워드>\n",
    " - n폴드-교차검증: 훈련데이터를 n폴드 갯수만큼 구간을 나우어서 훈련 수행\n",
    " - 구간마다 훈련과 검증데이터를 분리시킴\n",
    " - n폴드-교차검증은 보통 3폴드, 5폴드, 10폴드로 정의하여 교차검증 진행\n",
    " - 교차검증을 위해서는 훈련과 테스트 데이터 분리비율을 보통 8:2로 하는 것이 일반적임\n",
    " \n",
    "<3폴드-교차검증 예시>\n",
    " - 3폴드에서 사용되는 훈련데이터 분리: 데이터(1) : 데이터(2) : 데이터(3)\n",
    " (1폴드) 훈련데이터(데이터1 + 데이터2) / 검증데이터(데이터3) -> 결과롤 1폴드 훈련정확도\n",
    " (2폴드) 훈련데이터(데이터1 + 데이터3) / 검증데이터(데이터2) -> 결과롤 2폴드 훈련정확도\n",
    " (1폴드) 훈련데이터(데이터2 + 데이터3) / 검증데이터(데이터1) -> 결과롤 3폴드 훈련정확도\n",
    " \n",
    "<최종 훈련 정확도>\n",
    " - 각 폴드의 훈련정확도의 \"평균값\"이 \"최종 훈련 정확도\"가 됩니다.\n",
    " \n",
    "<교차검증 수행 순서>\n",
    " - 사용할 모델 생성\n",
    " - 교차검증 함수 정의: 교차검증 함수에 사용할 모델, 훈련 독립, 종속변수 넣기, 폴드 정의\n",
    "                     : 폴드는 정의하지 않으면 기본값 5가 사용됨\n",
    " - 교차검증은 훈려에 대한 정확도를 높이는 방법을 제시하는 개념일 뿐\n",
    "   교차검증의 결과로 훈련 이후 예측으로 사용되지는 않습니다.\n",
    "   -> 폴드를 이용한 교차검증을 적용한 모델을 사용해야함(CV가 포함된 모델)\n",
    " \n",
    "<교차검증 라이브러리>\n",
    " - 사용 패키지: sklearn.model_selection\n",
    " - 사용함수: cross_validate\n",
    " \n",
    "<폴드 라이브러리>\n",
    " - 사용 패키지: sklearn.model_selection\n",
    " - 사용 클래스: StratifiedKFold\n",
    "\"\"\""
   ]
  },
  {
   "cell_type": "code",
   "execution_count": 16,
   "metadata": {},
   "outputs": [],
   "source": [
    "### 교차검증 및 폴드 사용을 위한 라이브러리 정의\n",
    "from sklearn.model_selection import cross_validate\n",
    "from sklearn.model_selection import StratifiedKFold"
   ]
  },
  {
   "cell_type": "code",
   "execution_count": 26,
   "metadata": {},
   "outputs": [
    {
     "data": {
      "text/plain": [
       "{'fit_time': array([0.00340176, 0.        , 0.01279259, 0.00213456, 0.        ]),\n",
       " 'score_time': array([0.        , 0.        , 0.00201273, 0.        , 0.        ]),\n",
       " 'test_score': array([0.8474359 , 0.83846154, 0.85      , 0.84467266, 0.84852375])}"
      ]
     },
     "execution_count": 26,
     "metadata": {},
     "output_type": "execute_result"
    }
   ],
   "source": [
    "### 결정트리 모델을 이용하여 교차검증 수행해 보기\n",
    "### 1. 교차검증을 위해서는 모델 생성만 합니다.\n",
    "\n",
    "dt = DecisionTreeClassifier(random_state=42)\n",
    "\n",
    "### 2. 교차검증 수행\n",
    "# - 폴드: 기본값 5 사용(폴드 정의 생략 가능)\n",
    "# - 교차검증은 자체적으로 훈련모델을 이용해서 훈련(fit)을 수행합니다.\n",
    "# - 기본값 5폴드의 갯수로 훈련데이터를 5개로 분리\n",
    "# - 각 폴드별로 데이터를 조합하여 훈련 진행\n",
    "# - 각 폴드마다 정확도, 수행시간을 출력해 줍니다.\n",
    "# - 5폴드를 사용했기에 -> 5개의 데이터가 나옵니다\n",
    "scores = cross_validate(dt, train_input, train_target)\n",
    "scores"
   ]
  },
  {
   "cell_type": "code",
   "execution_count": 27,
   "metadata": {},
   "outputs": [
    {
     "data": {
      "text/plain": [
       "0.8458187683091406"
      ]
     },
     "execution_count": 27,
     "metadata": {},
     "output_type": "execute_result"
    }
   ],
   "source": [
    "### 최종 정확도 확인하기\n",
    "# - 최종 정확도 = 각 폴드의 정확도 평균\n",
    "(scores[\"test_score\"]).mean()"
   ]
  },
  {
   "cell_type": "markdown",
   "metadata": {},
   "source": [
    "### 폴드(Fold)갯수 정의하기"
   ]
  },
  {
   "cell_type": "code",
   "execution_count": null,
   "metadata": {},
   "outputs": [],
   "source": [
    "\"\"\"\n",
    "* 폴드(Fold)의 갯수는 훈련의 성능에 영향을 미치는 하이퍼파라미터\n",
    "* 사용되는 라이브러리 클래스: StratifiedKFold\n",
    "* 용어정의: KFold라고 칭함\n",
    "\"\"\""
   ]
  },
  {
   "cell_type": "code",
   "execution_count": 29,
   "metadata": {},
   "outputs": [
    {
     "data": {
      "text/plain": [
       "StratifiedKFold(n_splits=10, random_state=42, shuffle=True)"
      ]
     },
     "execution_count": 29,
     "metadata": {},
     "output_type": "execute_result"
    }
   ],
   "source": [
    "### KFold 정의\n",
    "cv = StratifiedKFold(\n",
    "    # 폴드(Fold)의 갯수(기본값 5)\n",
    "    n_splits=10,\n",
    "    # 데이터 섞기(기본값=False)\n",
    "    shuffle=True,\n",
    "    # 랜던규칙 정의\n",
    "    random_state=42\n",
    ")\n",
    "cv"
   ]
  },
  {
   "cell_type": "code",
   "execution_count": 31,
   "metadata": {},
   "outputs": [
    {
     "data": {
      "text/plain": [
       "0.8589011930657175"
      ]
     },
     "execution_count": 31,
     "metadata": {},
     "output_type": "execute_result"
    }
   ],
   "source": [
    "### 교차검증 수행하기\n",
    "# - 사용할 모델 생성하기\n",
    "dt = DecisionTreeClassifier(random_state=42)\n",
    "\n",
    "# - 교차검증 수행\n",
    "# - cv: 교차검증 분할기라고 칭하며, 보통 폴드 갯수라고 \n",
    "scores = cross_validate(dt, train_input, train_target, cv=cv)\n",
    "scores\n",
    "\n",
    "### 최종 score 평균값 계산\n",
    "(scores[\"test_score\"]).mean()\n"
   ]
  },
  {
   "cell_type": "markdown",
   "metadata": {},
   "source": [
    "### AutoML(교차검증 + 하이퍼파라미터 튜닝 + 최적의 모델 찾기)"
   ]
  },
  {
   "cell_type": "code",
   "execution_count": null,
   "metadata": {},
   "outputs": [],
   "source": []
  },
  {
   "cell_type": "code",
   "execution_count": null,
   "metadata": {},
   "outputs": [],
   "source": []
  },
  {
   "cell_type": "code",
   "execution_count": null,
   "metadata": {},
   "outputs": [],
   "source": []
  },
  {
   "cell_type": "code",
   "execution_count": null,
   "metadata": {},
   "outputs": [],
   "source": []
  },
  {
   "cell_type": "code",
   "execution_count": null,
   "metadata": {},
   "outputs": [],
   "source": []
  },
  {
   "cell_type": "code",
   "execution_count": null,
   "metadata": {},
   "outputs": [],
   "source": []
  },
  {
   "cell_type": "code",
   "execution_count": null,
   "metadata": {},
   "outputs": [],
   "source": []
  },
  {
   "cell_type": "code",
   "execution_count": null,
   "metadata": {},
   "outputs": [],
   "source": []
  },
  {
   "cell_type": "code",
   "execution_count": null,
   "metadata": {},
   "outputs": [],
   "source": []
  },
  {
   "cell_type": "code",
   "execution_count": null,
   "metadata": {},
   "outputs": [],
   "source": []
  },
  {
   "cell_type": "code",
   "execution_count": null,
   "metadata": {},
   "outputs": [],
   "source": []
  },
  {
   "cell_type": "code",
   "execution_count": null,
   "metadata": {},
   "outputs": [],
   "source": []
  },
  {
   "cell_type": "code",
   "execution_count": null,
   "metadata": {},
   "outputs": [],
   "source": []
  },
  {
   "cell_type": "code",
   "execution_count": null,
   "metadata": {},
   "outputs": [],
   "source": []
  },
  {
   "cell_type": "code",
   "execution_count": null,
   "metadata": {},
   "outputs": [],
   "source": []
  },
  {
   "cell_type": "code",
   "execution_count": null,
   "metadata": {},
   "outputs": [],
   "source": []
  },
  {
   "cell_type": "code",
   "execution_count": null,
   "metadata": {},
   "outputs": [],
   "source": []
  },
  {
   "cell_type": "code",
   "execution_count": null,
   "metadata": {},
   "outputs": [],
   "source": []
  },
  {
   "cell_type": "code",
   "execution_count": null,
   "metadata": {},
   "outputs": [],
   "source": []
  },
  {
   "cell_type": "code",
   "execution_count": null,
   "metadata": {},
   "outputs": [],
   "source": []
  }
 ],
 "metadata": {
  "kernelspec": {
   "display_name": "pk_dl_202503_kernel",
   "language": "python",
   "name": "pk_dl_202503"
  },
  "language_info": {
   "codemirror_mode": {
    "name": "ipython",
    "version": 3
   },
   "file_extension": ".py",
   "mimetype": "text/x-python",
   "name": "python",
   "nbconvert_exporter": "python",
   "pygments_lexer": "ipython3",
   "version": "3.9.21"
  }
 },
 "nbformat": 4,
 "nbformat_minor": 2
}
