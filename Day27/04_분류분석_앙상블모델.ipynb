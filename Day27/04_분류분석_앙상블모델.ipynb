{
 "cells": [
  {
   "cell_type": "code",
   "execution_count": 42,
   "metadata": {},
   "outputs": [],
   "source": [
    "### Machine Running library install\n",
    "from sklearn.neighbors import KNeighborsClassifier\n",
    "\n",
    "\n",
    "from sklearn.linear_model import LogisticRegression\n",
    "\n",
    "### 선형, 다중, 다항 회귀모델 라이브러리 정의\n",
    "from sklearn.linear_model import LinearRegression\n",
    "from sklearn.linear_model import Ridge\n",
    "from sklearn.linear_model import Lasso\n",
    "\n",
    "### 앙상블 모델\n",
    "from sklearn.ensemble import RandomForestRegressor\n",
    "from sklearn.ensemble import ExtraTreesRegressor\n",
    "from sklearn.ensemble import RandomForestClassifier\n",
    "from sklearn.ensemble import GradientBoostingRegressor\n",
    "from sklearn.ensemble import HistGradientBoostingRegressor\n",
    "from xgboost import XGBRegressor\n",
    "\n",
    "### visualization library\n",
    "import matplotlib.pyplot as plt\n",
    "\n",
    "# Definition of the NumPy library\n",
    "import numpy as np\n",
    "\n",
    "### Definition of Library (Preprocessing Library)\n",
    "from sklearn.model_selection import train_test_split\n",
    "\n",
    "### 평가 라이브러리 정의\n",
    "# 평균절대오차(MAE)\n",
    "from sklearn.metrics import mean_absolute_error\n",
    "# 평균제곱오차(MSE)\n",
    "from sklearn.metrics import mean_squared_error\n",
    "# 결정계수(R2-score)\n",
    "from sklearn.metrics import r2_score\n",
    "\n",
    "### 오차행렬 및 오차행렬도 라이브러리 정의하기\n",
    "from sklearn.metrics import confusion_matrix\n",
    "from sklearn.metrics import ConfusionMatrixDisplay\n",
    "\n",
    "# - 변환기 모델(클래스) 라이브러리 정의하기\n",
    "from sklearn.preprocessing import PolynomialFeatures\n",
    "from sklearn.preprocessing import StandardScaler\n",
    "from sklearn.preprocessing import MinMaxScaler\n",
    "from sklearn.preprocessing import RobustScaler\n",
    "\n",
    "# 정확도\n",
    "from sklearn.metrics import accuracy_score\n",
    "# 정밀도\n",
    "from sklearn.metrics import precision_score\n",
    "# 재현율\n",
    "from sklearn.metrics import recall_score\n",
    "# f1-score\n",
    "from sklearn.metrics import f1_score\n",
    "\n",
    "\n",
    "# - 결정트리 모델(클래스) 라이브러리 정의\n",
    "from sklearn.tree import DecisionTreeClassifier\n",
    "from sklearn.tree import plot_tree\n",
    "\n",
    "import pandas as pd \n",
    "\n",
    "import seaborn as sns\n",
    "\n",
    "\n",
    "### 라이브러리 정의\n",
    "from scipy.stats import spearmanr\n",
    "\n",
    "### 라이브러리 정의\n",
    "from scipy.stats import pearsonr\n",
    "\n",
    "### 라이브러리 정의\n",
    "from scipy.stats import randint, uniform\n",
    "\n",
    "\n",
    "### 하이퍼파라미터 튜닝 모델(클래스) 정의하기\n",
    "from sklearn.model_selection import GridSearchCV\n",
    "from sklearn.model_selection import RandomizedSearchCV\n",
    "\n",
    "plt.rc(\"font\", family=\"Malgun Gothic\")\n",
    "\n",
    "plt.rcParams[\"axes.unicode_minus\"] = False\n",
    "\n",
    "### 경고 메시지 없애기\n",
    "# - 사이킷런 버전에 따라 오류가 아니니 안내(경고)메시지가 자주 나타남\n",
    "# - 안내(경고) 메시지 없이 실행할 수 있도록 처리\n",
    "from sklearn import set_config\n",
    "set_config(display=\"text\")\n"
   ]
  },
  {
   "cell_type": "code",
   "execution_count": null,
   "metadata": {},
   "outputs": [],
   "source": [
    "\"\"\"\n",
    "<앙상블 모델>\n",
    " - 회귀분석 및 분류분석에 모두 사용가능한 모델로 , 매우 성능 좋은 모델임\n",
    " - DT 모델을 기반으로 만들어진 모델임(Tree 구조를 가지는 모델임)\n",
    " - DT 모델 여러개를 하나의 모델로 묶어서 만든 모델이 앙상블 모델임\n",
    " - 앙상블 모델: RandomForestRegressor < ExtraTreesRegressor < GradientBoostingRegressor < HistGradientBoostingRegressor < XGBRegressor, 등등....\n",
    " \n",
    " <앙상블 모델 분류>\n",
    "  - 배깅(Bagging)과 부스트(Boost) 방식으로 분류함\n",
    "  - 분류 기준은 배깅 또는 부스트 모델이 내부적으로 데이터를 어떻게 사용하는지에 따라 분류\n",
    "  - 배깅(Bagging) 모델: RandomForestRegressor, ExtraTreesRegressor\n",
    "                      : 내부적으로 사용되는 트리 모델들이 사용하는 데이터는 서로 \"독접적\"임\n",
    "                      : 훈련데이터에서 각 트리 모델에 데이터를 랜덤하게 적용 후 반환받음\n",
    "                      : 다른 트리 모델에서 다시 훈련데이터에서 랜덤하게 적용 후 훈련 반복.\n",
    "                      : 중복된 데이터는 훈련에 사용될 수 있음\n",
    "                      \n",
    "  - 부스트(Boost) 모델: GradientBoostingRegressor, HistGradientBoostingRegressor, XGBRegressor\n",
    "                      : 내부적으로 사용되는 각 트리 모델들이 사용하는 데이터는 서로 \"연관성\"을 가짐\n",
    "                      : 훈련데이터를 사용하는 방식은 배깅(Bagging) 방식과 동일하지만,\n",
    "                      : 차이점은, 이전 트리 모델에서 발생한 오차 데이터에 가중치를 부여하여,\n",
    "                                  다음 트리모델에 전달하는 방식으로 사용하게됨(성능을 높이는 방식)\n",
    "                      \n",
    "  - 부스트(Boost) 모델이 배깅(Bagging) 모델보다 성능이 다소 높은 편임\n",
    "\"\"\""
   ]
  },
  {
   "cell_type": "markdown",
   "metadata": {},
   "source": [
    "### 데이터 읽어들이기"
   ]
  },
  {
   "cell_type": "code",
   "execution_count": 4,
   "metadata": {},
   "outputs": [
    {
     "name": "stdout",
     "output_type": "stream",
     "text": [
      "<class 'pandas.core.frame.DataFrame'>\n",
      "RangeIndex: 6497 entries, 0 to 6496\n",
      "Data columns (total 4 columns):\n",
      " #   Column   Non-Null Count  Dtype  \n",
      "---  ------   --------------  -----  \n",
      " 0   alcohol  6497 non-null   float64\n",
      " 1   sugar    6497 non-null   float64\n",
      " 2   pH       6497 non-null   float64\n",
      " 3   class    6497 non-null   float64\n",
      "dtypes: float64(4)\n",
      "memory usage: 203.2 KB\n"
     ]
    },
    {
     "data": {
      "text/html": [
       "<div>\n",
       "<style scoped>\n",
       "    .dataframe tbody tr th:only-of-type {\n",
       "        vertical-align: middle;\n",
       "    }\n",
       "\n",
       "    .dataframe tbody tr th {\n",
       "        vertical-align: top;\n",
       "    }\n",
       "\n",
       "    .dataframe thead th {\n",
       "        text-align: right;\n",
       "    }\n",
       "</style>\n",
       "<table border=\"1\" class=\"dataframe\">\n",
       "  <thead>\n",
       "    <tr style=\"text-align: right;\">\n",
       "      <th></th>\n",
       "      <th>alcohol</th>\n",
       "      <th>sugar</th>\n",
       "      <th>pH</th>\n",
       "      <th>class</th>\n",
       "    </tr>\n",
       "  </thead>\n",
       "  <tbody>\n",
       "    <tr>\n",
       "      <th>0</th>\n",
       "      <td>9.4</td>\n",
       "      <td>1.9</td>\n",
       "      <td>3.51</td>\n",
       "      <td>0.0</td>\n",
       "    </tr>\n",
       "    <tr>\n",
       "      <th>1</th>\n",
       "      <td>9.8</td>\n",
       "      <td>2.6</td>\n",
       "      <td>3.20</td>\n",
       "      <td>0.0</td>\n",
       "    </tr>\n",
       "  </tbody>\n",
       "</table>\n",
       "</div>"
      ],
      "text/plain": [
       "   alcohol  sugar    pH  class\n",
       "0      9.4    1.9  3.51    0.0\n",
       "1      9.8    2.6  3.20    0.0"
      ]
     },
     "execution_count": 4,
     "metadata": {},
     "output_type": "execute_result"
    }
   ],
   "source": [
    "### 08_wine.csv 데이터셋 읽어들이기\n",
    "# - 변수명: wine\n",
    "wine = pd.read_csv(\"./data/08_wine.csv\")\n",
    "wine.info()\n",
    "wine.head(2)"
   ]
  },
  {
   "cell_type": "code",
   "execution_count": 5,
   "metadata": {},
   "outputs": [
    {
     "name": "stdout",
     "output_type": "stream",
     "text": [
      "      alcohol  sugar    pH\n",
      "0         9.4    1.9  3.51\n",
      "1         9.8    2.6  3.20\n",
      "2         9.8    2.3  3.26\n",
      "3         9.8    1.9  3.16\n",
      "4         9.4    1.9  3.51\n",
      "...       ...    ...   ...\n",
      "6492     11.2    1.6  3.27\n",
      "6493      9.6    8.0  3.15\n",
      "6494      9.4    1.2  2.99\n",
      "6495     12.8    1.1  3.34\n",
      "6496     11.8    0.8  3.26\n",
      "\n",
      "[6497 rows x 3 columns]\n",
      "0       0.0\n",
      "1       0.0\n",
      "2       0.0\n",
      "3       0.0\n",
      "4       0.0\n",
      "       ... \n",
      "6492    1.0\n",
      "6493    1.0\n",
      "6494    1.0\n",
      "6495    1.0\n",
      "6496    1.0\n",
      "Name: class, Length: 6497, dtype: float64\n"
     ]
    }
   ],
   "source": [
    "### 독립변수 및 종속변수로 분리하기\n",
    "# 독립변수명: data\n",
    "data = wine.iloc[:, :-1]\n",
    "# 종속변수명: target\n",
    "target = wine[\"class\"]\n",
    "\n",
    "print(data)\n",
    "print(target)"
   ]
  },
  {
   "cell_type": "code",
   "execution_count": 8,
   "metadata": {},
   "outputs": [
    {
     "name": "stdout",
     "output_type": "stream",
     "text": [
      "(5197, 3) (5197,)\n",
      "(1300, 3) (1300,)\n"
     ]
    }
   ],
   "source": [
    "### 훈련:테스트 = 8:2로 분리하기\n",
    "# - 변수명: **_input, **_target\n",
    "\n",
    "train_input, test_input, train_target, test_target = train_test_split(data, target, test_size=0.2, random_state=42)\n",
    "\n",
    "print(train_input.shape, train_target.shape)\n",
    "print(test_input.shape, test_target.shape)\n"
   ]
  },
  {
   "cell_type": "markdown",
   "metadata": {},
   "source": [
    "### 데이터 스케일링"
   ]
  },
  {
   "cell_type": "code",
   "execution_count": null,
   "metadata": {},
   "outputs": [],
   "source": [
    "\"\"\"\n",
    "Standar, MinMax, Robust 스케일링 모두 수행\n",
    " - 변수명: ss, mm ,rb 사용 \n",
    "\"\"\""
   ]
  },
  {
   "cell_type": "code",
   "execution_count": 11,
   "metadata": {},
   "outputs": [
    {
     "name": "stdout",
     "output_type": "stream",
     "text": [
      "(5197, 3) (1300, 3)\n",
      "(5197, 3) (1300, 3)\n",
      "(5197, 3) (1300, 3)\n"
     ]
    }
   ],
   "source": [
    "ss = StandardScaler()\n",
    "ss.fit(train_input)\n",
    "train_scaled_ss = ss.transform(train_input)\n",
    "test_scaled_ss = ss.transform(test_input)\n",
    "print(train_scaled_ss.shape, test_scaled_ss.shape)\n",
    "\n",
    "mm = MinMaxScaler()\n",
    "mm.fit(train_input)\n",
    "train_scaled_mm = mm.transform(train_input)\n",
    "test_scaled_mm = mm.transform(test_input)\n",
    "print(train_scaled_mm.shape, test_scaled_mm.shape)\n",
    "\n",
    "rb = RobustScaler()\n",
    "rb.fit(train_input)\n",
    "train_scaled_rb = rb.transform(train_input)\n",
    "test_scaled_rb = rb.transform(test_input)\n",
    "print(train_scaled_rb.shape, test_scaled_rb.shape)\n"
   ]
  },
  {
   "cell_type": "code",
   "execution_count": 28,
   "metadata": {},
   "outputs": [],
   "source": [
    "### 스케일링 함수 만들기\n",
    "# - 함수명: getScaler(스케일클래스, 훈련독립변수, 테스트독립변수)\n",
    "# - 반환값: 훈련독립변수 스케일데이터, 테스트독립변수 스케일데이터\n",
    "def getScaler(scaler, train, test):\n",
    "    scaler.fit(train)\n",
    "\n",
    "    train_scaled = scaler.transform(train)\n",
    "    test_scaled = scaler.transform(test)   \n",
    "\n",
    "    return train_scaled, test_scaled"
   ]
  },
  {
   "cell_type": "code",
   "execution_count": 32,
   "metadata": {},
   "outputs": [
    {
     "data": {
      "text/plain": [
       "(array([[ 0.01376574,  0.4646116 , -0.16888369],\n",
       "        [ 1.60871671, -0.70299854,  0.26967864],\n",
       "        [ 1.10504798, -0.70299854,  1.20945505],\n",
       "        ...,\n",
       "        [-0.82568214,  0.0267578 ,  0.14437512],\n",
       "        [-0.82568214,  0.52716215, -0.23153545],\n",
       "        [-0.82568214, -0.57789745,  1.83597265]]),\n",
       " array([[ 1.44082714,  1.52797084,  0.26967864],\n",
       "        [-0.48990299, -0.68214836,  0.3323304 ],\n",
       "        [ 1.27293756,  0.40206106, -0.23153545],\n",
       "        ...,\n",
       "        [ 1.60871671, -0.76554908, -0.16888369],\n",
       "        [-0.90962693,  0.88161523,  0.52028568],\n",
       "        [-1.49724045,  2.09092573, -1.98578474]]))"
      ]
     },
     "execution_count": 32,
     "metadata": {},
     "output_type": "execute_result"
    }
   ],
   "source": [
    "getScaler(StandardScaler(), train=train_input, test=test_input)"
   ]
  },
  {
   "cell_type": "code",
   "execution_count": null,
   "metadata": {},
   "outputs": [],
   "source": [
    "\"\"\" \n",
    "- 각 스케일링 크래스 이름을 기준으로 스케일링 결과(훈련/테스트 독립변수)를 딕셔너리로 만들기\n",
    "- {\"Standard스케일링클래스이름1\" : (훈련독립스케일링, 테스트독립스케일링),\n",
    "   \"MinMax스케일링클래스이름2\"   : (훈련독립스케일링, 테스트독립스케일링)\n",
    "   \"Robust스케일링클래스이름3\"   : (훈련독립스케일링, 테스트독립스케일링)}\n",
    "\"\"\""
   ]
  },
  {
   "cell_type": "code",
   "execution_count": 48,
   "metadata": {},
   "outputs": [
    {
     "data": {
      "text/plain": [
       "{'StandardScaler': (array([[ 0.01376574,  0.4646116 , -0.16888369],\n",
       "         [ 1.60871671, -0.70299854,  0.26967864],\n",
       "         [ 1.10504798, -0.70299854,  1.20945505],\n",
       "         ...,\n",
       "         [-0.82568214,  0.0267578 ,  0.14437512],\n",
       "         [-0.82568214,  0.52716215, -0.23153545],\n",
       "         [-0.82568214, -0.57789745,  1.83597265]]),\n",
       "  array([[ 1.44082714,  1.52797084,  0.26967864],\n",
       "         [-0.48990299, -0.68214836,  0.3323304 ],\n",
       "         [ 1.27293756,  0.40206106, -0.23153545],\n",
       "         ...,\n",
       "         [ 1.60871671, -0.76554908, -0.16888369],\n",
       "         [-0.90962693,  0.88161523,  0.52028568],\n",
       "         [-1.49724045,  2.09092573, -1.98578474]])),\n",
       " 'MinMaxScaler': (array([[0.40322581, 0.10889571, 0.35433071],\n",
       "         [0.70967742, 0.02300613, 0.40944882],\n",
       "         [0.61290323, 0.02300613, 0.52755906],\n",
       "         ...,\n",
       "         [0.24193548, 0.07668712, 0.39370079],\n",
       "         [0.24193548, 0.11349693, 0.34645669],\n",
       "         [0.24193548, 0.03220859, 0.60629921]]),\n",
       "  array([[0.67741935, 0.18711656, 0.40944882],\n",
       "         [0.30645161, 0.02453988, 0.41732283],\n",
       "         [0.64516129, 0.10429448, 0.34645669],\n",
       "         ...,\n",
       "         [0.70967742, 0.01840491, 0.35433071],\n",
       "         [0.22580645, 0.13957055, 0.44094488],\n",
       "         [0.11290323, 0.22852761, 0.12598425]])),\n",
       " 'RobustScaler': (array([[ 0.11111111,  0.734375  , -0.0952381 ],\n",
       "         [ 1.16666667, -0.140625  ,  0.23809524],\n",
       "         [ 0.83333333, -0.140625  ,  0.95238095],\n",
       "         ...,\n",
       "         [-0.44444444,  0.40625   ,  0.14285714],\n",
       "         [-0.44444444,  0.78125   , -0.14285714],\n",
       "         [-0.44444444, -0.046875  ,  1.42857143]]),\n",
       "  array([[ 1.05555556,  1.53125   ,  0.23809524],\n",
       "         [-0.22222222, -0.125     ,  0.28571429],\n",
       "         [ 0.94444444,  0.6875    , -0.14285714],\n",
       "         ...,\n",
       "         [ 1.16666667, -0.1875    , -0.0952381 ],\n",
       "         [-0.5       ,  1.046875  ,  0.42857143],\n",
       "         [-0.88888889,  1.953125  , -1.47619048]]))}"
      ]
     },
     "execution_count": 48,
     "metadata": {},
     "output_type": "execute_result"
    }
   ],
   "source": [
    "# 스케일링 딕셔너리로 저장\n",
    "scalers = [StandardScaler(), MinMaxScaler(), RobustScaler()]\n",
    "dict_scalers = {\n",
    "    s.__class__.__name__ : getScaler(s, train_input, test_input) for s in scalers\n",
    "}\n",
    "\n",
    "dict_scalers"
   ]
  },
  {
   "cell_type": "code",
   "execution_count": null,
   "metadata": {},
   "outputs": [],
   "source": [
    "\"\"\" \n",
    "- 랜덤포레스트 모델 생성: 하이퍼파라미터 없이 랜덤 규칙만 적용\n",
    "- 모든 스케일링 데이터로 각각 훈련정확도, 테스트정확도, 과적합여부 확인하기\n",
    "- 출력결과: 스케일러이름, 훈련 후 각각의 훈련 모델을 딕셔너리에 저장하기\n",
    "- 각 스케일링 데이터로 훈련 후 각각의 훈련모델을 딕셔너리에 저장하기\n",
    "  dict_models = {\"스케일러이름\" : rf모델,...\"}\n",
    "\"\"\""
   ]
  },
  {
   "cell_type": "code",
   "execution_count": 66,
   "metadata": {},
   "outputs": [
    {
     "name": "stdout",
     "output_type": "stream",
     "text": [
      "StandardScaler 적용 - 훈련정확도: 0.996921300750433, 테스트정확도: 0.8892307692307693, 과적합여부: 0.10769053151966368\n",
      "MinMaxScaler 적용 - 훈련정확도: 0.996921300750433, 테스트정확도: 0.8876923076923077, 과적합여부: 0.10922899305812528\n",
      "RobustScaler 적용 - 훈련정확도: 0.996921300750433, 테스트정확도: 0.8876923076923077, 과적합여부: 0.10922899305812528\n"
     ]
    }
   ],
   "source": [
    "dict_model = {}\n",
    "\n",
    "for scaler_class, (train_scaled, test_scaled) in dict_scalers.items():\n",
    "    rc = RandomForestClassifier(random_state=42)\n",
    "    rc.fit(train_scaled, train_target)\n",
    "    \n",
    "    train_score = rc.score(train_scaled, train_target)\n",
    "    test_score = rc.score(test_scaled, test_target)\n",
    "    \n",
    "    print(f\"{scaler_class} 적용 - 훈련정확도: {train_score}, 테스트정확도: {test_score}, 과적합여부: {train_score - test_score}\")\n",
    "     \n",
    "    dict_model[scaler_class] = rc"
   ]
  },
  {
   "cell_type": "code",
   "execution_count": 67,
   "metadata": {},
   "outputs": [
    {
     "data": {
      "text/plain": [
       "{'StandardScaler': RandomForestClassifier(random_state=42),\n",
       " 'MinMaxScaler': RandomForestClassifier(random_state=42),\n",
       " 'RobustScaler': RandomForestClassifier(random_state=42)}"
      ]
     },
     "execution_count": 67,
     "metadata": {},
     "output_type": "execute_result"
    }
   ],
   "source": [
    "dict_model"
   ]
  },
  {
   "cell_type": "code",
   "execution_count": 68,
   "metadata": {},
   "outputs": [
    {
     "data": {
      "text/plain": [
       "RandomForestClassifier(random_state=42)"
      ]
     },
     "execution_count": 68,
     "metadata": {},
     "output_type": "execute_result"
    }
   ],
   "source": [
    "### 3개의 스케일링 데이터로 훈련한 결과 Standard 데이터로 훈련한 모델이 가장 좋음\n",
    "# - 해당 모델을 추출하여 예측 및 평가에 사용\n",
    "model = dict_model[\"StandardScaler\"]\n",
    "model"
   ]
  },
  {
   "cell_type": "markdown",
   "metadata": {},
   "source": [
    "### 선정된 모델로 예측 및 평가하기"
   ]
  },
  {
   "cell_type": "code",
   "execution_count": null,
   "metadata": {},
   "outputs": [],
   "source": [
    "\"\"\"\n",
    " - 1. 선정된 모델을 이용하여 예측하기: 선정된 모델이 사용한 스케일링 테스트 데이터 사용\n",
    " - 2. 오차행렬(혼동행렬) 매트릭스 출력\n",
    " - 3. 오차행렬도(혼동행렬도) 시각화\n",
    " - 4. 분류모델 평가하기(정확도, 정밀도, 재현율, f1-score)\n",
    " - 5. 해석하기\n",
    "\"\"\""
   ]
  },
  {
   "cell_type": "code",
   "execution_count": null,
   "metadata": {},
   "outputs": [
    {
     "name": "stdout",
     "output_type": "stream",
     "text": [
      "RandomForestClassifier(random_state=42) 적용 - 훈련정확도: 0.996921300750433, 테스트정확도: 0.8892307692307693, 과적합여부: 0.10769053151966368\n",
      "과대적합으로 판단됩니다.\n",
      "예측에 실패한 인덱스: [5, 14, 33, 44, 45, 50, 51, 52, 56, 70, 80, 81, 84, 87, 98, 116, 118, 129, 131, 133, 158, 166, 169, 189, 191, 201, 202, 209, 210, 233, 234, 239, 256, 257, 262, 270, 272, 274, 279, 280, 281, 286, 292, 311, 313, 328, 334, 339, 341, 359, 365, 368, 380, 398, 407, 408, 411, 416, 419, 421, 427, 432, 440, 442, 443, 473, 484, 497, 509, 516, 522, 535, 542, 550, 555, 557, 561, 578, 580, 601, 609, 613, 615, 616, 626, 637, 641, 645, 674, 716, 719, 724, 733, 748, 750, 766, 767, 774, 780, 784, 792, 803, 805, 807, 812, 815, 857, 859, 865, 881, 884, 887, 891, 895, 905, 913, 916, 919, 933, 951, 969, 982, 985, 1001, 1002, 1033, 1054, 1061, 1096, 1108, 1112, 1122, 1157, 1178, 1188, 1215, 1221, 1252, 1256, 1265, 1269, 1286, 1293, 1295]\n",
      "예측결과: [1. 0. 1. ... 1. 1. 1.]\n",
      "실제정답: [1. 0. 1. ... 1. 1. 1.]\n",
      "정확도:0.8892, 정밀도:0.9223, 재현율:0.9281, f1-score:0.9252\n"
     ]
    },
    {
     "data": {
      "image/png": "[encoded data removed]",
      "text/plain": [
       "<Figure size 640x480 with 2 Axes>"
      ]
     },
     "metadata": {},
     "output_type": "display_data"
    },
    {
     "name": "stdout",
     "output_type": "stream",
     "text": [
      "\n"
     ]
    }
   ],
   "source": [
    "model.fit(train_input, train_target)\n",
    "train_score = model.score(train_input, train_target)\n",
    "test_score = model.score(test_input, test_target)\n",
    "\n",
    "print(f\"{model} 적용 - 훈련정확도: {train_score}, 테스트정확도: {test_score}, 과적합여부: {train_score - test_score}\")\n",
    "\n",
    "if train_score - test_score > 0.1:\n",
    "    print(\"과대적합으로 판단됩니다.\")\n",
    "    \n",
    "elif train_score - test_score < 0:\n",
    "    print(\"과소적합이 발생하였습니다.\")\n",
    "        \n",
    "else:\n",
    "    print(\"사용가능한 과적합 상태입니다.\")\n",
    "\n",
    "test_pred = model.predict(test_input)\n",
    "\n",
    "correct_prediction = test_pred == test_target  \n",
    "if correct_prediction.all():\n",
    "    print(\"모든 예측이 정확합니다.\")\n",
    "    \n",
    "else:\n",
    "    correct_indices = [i for i in range(len(test_pred)) if not correct_prediction.iloc[i]]\n",
    "    print(f\"예측에 실패한 인덱스: {correct_indices}\")\n",
    "    \n",
    "print(f\"예측결과: {test_pred}\")\n",
    "print(f\"실제정답: {test_target.values}\")\n",
    "\n",
    "### 정확도\n",
    "acc = accuracy_score(test_target, test_pred)\n",
    "\n",
    "### 정밀도\n",
    "pre = precision_score(test_target, test_pred)\n",
    "\n",
    "### 재현율\n",
    "rec = recall_score(test_target, test_pred)\n",
    "\n",
    "### f1-score\n",
    "f1 = f1_score(test_target, test_pred)\n",
    "\n",
    "print(f\"정확도:{acc:.4f}, 정밀도:{pre:.4f}, 재현율:{rec:.4f}, f1-score:{f1:.4f}\")\n",
    "\n",
    "cm = confusion_matrix(test_target, test_pred, labels=model.classes_)\n",
    "dist = ConfusionMatrixDisplay(confusion_matrix=cm, display_labels=model.classes_)\n",
    "dist.plot()\n",
    "plt.show()\n",
    "print(\"\")\n",
    "\n",
    "### (해석)\n",
    "# - 랜덤포레스트의 훈련정확도는 높은 편이나, 테스트 정확도는 다소 낮게 나왔음\n",
    "# - 또한 과대적합을 보이고 있음, 따라서 튜닝을 통한 성능 향상이 필요함\n",
    "# - 다만, 해당 모델로 평가한 결과\n",
    "#   정밀도, 재현율, f1-score의 지표는 매우 높게 나왔기에\n",
    "#   지표만으로 판단할 경우 해당 모델을 선정하는데 문제가 없음\n",
    "#   그러나, 과대적합이 다소 보이기에 튜닝 이후 다시 한번 비교 평가가 필요함\n",
    "\n",
    "### 오차행렬도 해석\n",
    "# - 긍정오류는 75건, 부정오류는 69건으로\n",
    "# - 정밀도는 0.923로 긍정적 오류에 대한 지표결과는 매우 좋으며,\n",
    "# - 재현율 또한 0.928로 부정적 오류에 대한 지표결과 또한 매우 좋음\n",
    "#- 긍정 및 부정 오류에 대한 전체 평가지표인 f1-score는 0.925로 전체 평가지표는 매우 좋음"
   ]
  },
  {
   "cell_type": "code",
   "execution_count": null,
   "metadata": {},
   "outputs": [],
   "source": []
  },
  {
   "cell_type": "code",
   "execution_count": null,
   "metadata": {},
   "outputs": [],
   "source": []
  },
  {
   "cell_type": "code",
   "execution_count": null,
   "metadata": {},
   "outputs": [],
   "source": []
  },
  {
   "cell_type": "code",
   "execution_count": null,
   "metadata": {},
   "outputs": [],
   "source": []
  },
  {
   "cell_type": "code",
   "execution_count": null,
   "metadata": {},
   "outputs": [],
   "source": []
  },
  {
   "cell_type": "code",
   "execution_count": null,
   "metadata": {},
   "outputs": [],
   "source": []
  },
  {
   "cell_type": "code",
   "execution_count": null,
   "metadata": {},
   "outputs": [],
   "source": []
  },
  {
   "cell_type": "code",
   "execution_count": null,
   "metadata": {},
   "outputs": [],
   "source": []
  },
  {
   "cell_type": "code",
   "execution_count": null,
   "metadata": {},
   "outputs": [],
   "source": []
  },
  {
   "cell_type": "code",
   "execution_count": null,
   "metadata": {},
   "outputs": [],
   "source": []
  },
  {
   "cell_type": "code",
   "execution_count": null,
   "metadata": {},
   "outputs": [],
   "source": []
  },
  {
   "cell_type": "code",
   "execution_count": null,
   "metadata": {},
   "outputs": [],
   "source": []
  },
  {
   "cell_type": "code",
   "execution_count": null,
   "metadata": {},
   "outputs": [],
   "source": []
  },
  {
   "cell_type": "code",
   "execution_count": null,
   "metadata": {},
   "outputs": [],
   "source": []
  },
  {
   "cell_type": "code",
   "execution_count": null,
   "metadata": {},
   "outputs": [],
   "source": []
  },
  {
   "cell_type": "code",
   "execution_count": null,
   "metadata": {},
   "outputs": [],
   "source": []
  },
  {
   "cell_type": "code",
   "execution_count": null,
   "metadata": {},
   "outputs": [],
   "source": []
  },
  {
   "cell_type": "code",
   "execution_count": null,
   "metadata": {},
   "outputs": [],
   "source": []
  }
 ],
 "metadata": {
  "kernelspec": {
   "display_name": "pk_dl_202503_kernel",
   "language": "python",
   "name": "pk_dl_202503"
  },
  "language_info": {
   "codemirror_mode": {
    "name": "ipython",
    "version": 3
   },
   "file_extension": ".py",
   "mimetype": "text/x-python",
   "name": "python",
   "nbconvert_exporter": "python",
   "pygments_lexer": "ipython3",
   "version": "3.9.21"
  }
 },
 "nbformat": 4,
 "nbformat_minor": 2
}
