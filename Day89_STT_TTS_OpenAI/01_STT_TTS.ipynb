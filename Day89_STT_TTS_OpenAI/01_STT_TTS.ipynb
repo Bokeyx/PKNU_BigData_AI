{
 "cells": [
  {
   "cell_type": "code",
   "execution_count": null,
   "id": "dacf89a8",
   "metadata": {},
   "outputs": [],
   "source": [
    "\"\"\"\n",
    "<STT>\n",
    " - 음성을 텍스트로 변환하는 기능\n",
    " - SpeechRecognition 음성인식 라이브러리 사용(무료)\n",
    " \n",
    "<TTS>\n",
    " - 텍스트를 음성으로 변환하는 기능\n",
    " - gTTS or pyttsx3 라이브러리 사용(무료)\n",
    "\"\"\""
   ]
  },
  {
   "cell_type": "markdown",
   "id": "981f434c",
   "metadata": {},
   "source": [
    "### TTS - 텍스트를 음성으로 변환"
   ]
  },
  {
   "cell_type": "markdown",
   "id": "44b9edf8",
   "metadata": {},
   "source": [
    "##### gTTS 라이브러리 사용(음원 파일로 저장하는 방식)"
   ]
  },
  {
   "cell_type": "code",
   "execution_count": 1,
   "id": "e8e5819a",
   "metadata": {},
   "outputs": [],
   "source": [
    "### 라이브러리 정의\n",
    "# - 설치 필요: pip install gTTS\n",
    "\n",
    "from gtts import gTTS\n",
    "import os"
   ]
  },
  {
   "cell_type": "code",
   "execution_count": 2,
   "id": "c2afe5b6",
   "metadata": {},
   "outputs": [
    {
     "data": {
      "text/plain": [
       "'안녕하세요. 파이썬으로 텍스트를 음성으로 생성합니다.'"
      ]
     },
     "execution_count": 2,
     "metadata": {},
     "output_type": "execute_result"
    }
   ],
   "source": [
    "### 음성으로 편현할 임의 텍스트 정의하기\n",
    "kor_text = \"안녕하세요. 파이썬으로 텍스트를 음성으로 생성합니다.\"\n",
    "kor_text"
   ]
  },
  {
   "cell_type": "code",
   "execution_count": 3,
   "id": "b089684b",
   "metadata": {},
   "outputs": [
    {
     "data": {
      "text/plain": [
       "<gtts.tts.gTTS at 0x17aa7eeb250>"
      ]
     },
     "execution_count": 3,
     "metadata": {},
     "output_type": "execute_result"
    }
   ],
   "source": [
    "### gTTS 클래스 호출하기\n",
    "# - 텍스트를 음성으로 변환하여 -> 음성으로 바로 말해주지는 않음\n",
    "# - 음성 파일(mp3)로 저장하는 역활을 하는 라이브러리 입니다.\n",
    "speech = gTTS(text=kor_text, lang='ko')\n",
    "speech"
   ]
  },
  {
   "cell_type": "code",
   "execution_count": 4,
   "id": "ed2816bf",
   "metadata": {},
   "outputs": [],
   "source": [
    "### 생성한 gTTS의 음원을 mp3 파일로 저장시키기\n",
    "\n",
    "### mp3폴더가 존재하지 않으면 -> mp3 폴더를 생성합니다\n",
    "if not os.path.exists('mp3') :\n",
    "    os.makedirs('mp3')\n",
    "    \n",
    "### 음원 파일 생성하기\n",
    "mp3_path = './mp3/text_to_speech.mp3'\n",
    "speech.save(mp3_path)"
   ]
  },
  {
   "cell_type": "code",
   "execution_count": 6,
   "id": "4e664335",
   "metadata": {},
   "outputs": [
    {
     "data": {
      "text/plain": [
       "0"
      ]
     },
     "execution_count": 6,
     "metadata": {},
     "output_type": "execute_result"
    }
   ],
   "source": [
    "### 음원 파일 재생시키기\n",
    "\n",
    "# windows OS에서 실행명령\n",
    "os.system(f\"start {mp3_path}\")\n",
    "\n",
    "# # macOS에서 실행명령\n",
    "# os.system(f\"afplay {mp3_path}\")\n",
    "\n",
    "# # Linux OS에서 실행명령\n",
    "# os.system(f\"mpg321 {mp3_path}\")"
   ]
  },
  {
   "cell_type": "code",
   "execution_count": 8,
   "id": "31deac1e",
   "metadata": {},
   "outputs": [],
   "source": [
    "### 음원 파일 삭제하기\n",
    "os.remove(mp3_path)"
   ]
  },
  {
   "cell_type": "markdown",
   "id": "9d8a3c6c",
   "metadata": {},
   "source": [
    "### pyttsx3 라이브러리 사용(텍스트를 음성으로 직접 말하기)"
   ]
  },
  {
   "cell_type": "code",
   "execution_count": 9,
   "id": "076cd78b",
   "metadata": {},
   "outputs": [],
   "source": [
    "### 라이브러리 정의\n",
    "# - 설치 필요: pip install pyttsx3\n",
    "\n",
    "import pyttsx3"
   ]
  },
  {
   "cell_type": "code",
   "execution_count": 10,
   "id": "ef5e9520",
   "metadata": {},
   "outputs": [
    {
     "data": {
      "text/plain": [
       "'파이 티 티 에스 엑스 쓰리 입니다'"
      ]
     },
     "execution_count": 10,
     "metadata": {},
     "output_type": "execute_result"
    }
   ],
   "source": [
    "### 사용할 텍스트\n",
    "kor_text = \"파이 티 티 에스 엑스 쓰리 입니다\"\n",
    "kor_text"
   ]
  },
  {
   "cell_type": "code",
   "execution_count": 11,
   "id": "b6386a91",
   "metadata": {},
   "outputs": [
    {
     "data": {
      "text/plain": [
       "<pyttsx3.engine.Engine at 0x17aa837a700>"
      ]
     },
     "execution_count": 11,
     "metadata": {},
     "output_type": "execute_result"
    }
   ],
   "source": [
    "### pyttsx3 엔진 초기화(객체 생성과 동일)\n",
    "engine = pyttsx3.init()\n",
    "engine"
   ]
  },
  {
   "cell_type": "code",
   "execution_count": null,
   "id": "b80ab1f0",
   "metadata": {},
   "outputs": [
    {
     "name": "stdout",
     "output_type": "stream",
     "text": [
      "[<pyttsx3.voice.Voice object at 0x0000017AA83AB880>, <pyttsx3.voice.Voice object at 0x0000017AA877C0A0>]\n"
     ]
    },
    {
     "data": {
      "text/plain": [
       "<pyttsx3.voice.Voice at 0x17aa83ab880>"
      ]
     },
     "execution_count": 13,
     "metadata": {},
     "output_type": "execute_result"
    }
   ],
   "source": [
    "### pyttsx3 기본 설정하기(1)\n",
    "\n",
    "# 음성 엔진(목소리) 설정하기 위한 설정값 가지고 오기\n",
    "voices = engine.getProperty('voices')\n",
    "print(voices)\n",
    "\n",
    "# 음성 엔진 목소리 선택하기\n",
    "selected_voice = voices[0]\n",
    "selected_voice"
   ]
  },
  {
   "cell_type": "code",
   "execution_count": 14,
   "id": "e600c9fd",
   "metadata": {},
   "outputs": [],
   "source": [
    "### pyttsx3 기본 설정하기(2)\n",
    "### 음성 읽기 속도 정의하기\n",
    "# - 100: 텍스트를 일반적인 읽기 속도로 읽기(기본값)\n",
    "# - 100 초과: 텍스트를 더 빠른 속도로 읽음\n",
    "# - 100 미만: 텍스트를 더 느린 속도로 읽음\n",
    "rate_value = 130\n",
    "engine.setProperty('rate', rate_value)"
   ]
  },
  {
   "cell_type": "code",
   "execution_count": 15,
   "id": "b9c6d9e3",
   "metadata": {},
   "outputs": [],
   "source": [
    "### pyttsx3 엔진 내에서 -> 텍스트를 음성으로 변환시켜 놓기\n",
    "engine.say(kor_text)"
   ]
  },
  {
   "cell_type": "code",
   "execution_count": 16,
   "id": "bb2f7ae3",
   "metadata": {},
   "outputs": [],
   "source": [
    "### 변환된 음성 재생하기\n",
    "engine.runAndWait()"
   ]
  },
  {
   "cell_type": "markdown",
   "id": "99441664",
   "metadata": {},
   "source": [
    "### STT - 음성을 입력으로 받아서 -> 텍스트로 변환하기"
   ]
  },
  {
   "cell_type": "code",
   "execution_count": 19,
   "id": "007546ad",
   "metadata": {},
   "outputs": [],
   "source": [
    "### 음성 인식 라이브러리 정의\n",
    "# - 설치 필요: pip install SpeechRecognition\n",
    "\n",
    "import speech_recognition as sr\n",
    "\n",
    "### 마이크에서 음성 추출 라이브러리\n",
    "# - 설치 필요: pip install pyaudio\n",
    "import pyaudio"
   ]
  },
  {
   "cell_type": "code",
   "execution_count": 18,
   "id": "bd538bcd",
   "metadata": {},
   "outputs": [
    {
     "data": {
      "text/plain": [
       "<speech_recognition.Recognizer at 0x17aa8cdecd0>"
      ]
     },
     "execution_count": 18,
     "metadata": {},
     "output_type": "execute_result"
    }
   ],
   "source": [
    "### 음성 인식기 클래스 생성하기\n",
    "recognizer = sr.Recognizer()\n",
    "recognizer"
   ]
  },
  {
   "cell_type": "code",
   "execution_count": null,
   "id": "1e274e5e",
   "metadata": {},
   "outputs": [],
   "source": [
    "### 음성 입력 받기\n",
    "with sr.Microphone() as source :\n",
    "    print(\"(말하기) 음성을 입력해 주세요 : \")\n",
    "    audio = recognizer.listen(source)\n",
    "    \n",
    "### 입력 받은 음성을 -> 텍스트로 변환하기\n",
    "# - 예외 처리를 해야 합니다.\n",
    "try :\n",
    "    ### 음성을 텍스트로 변환하기\n",
    "    recoginzed_text = recognizer.recognizer_google(audio, language='ko-kr')\n",
    "    \n",
    "    ### 음성 인식 결과 출력\n",
    "    print(f\"음성 인식 결과: {recoginzed_text}\")\n",
    "    \n",
    "except sr.UnknownValueError :\n",
    "    print ('음성을 인식할 수 없습니다')\n",
    "    \n",
    "except sr.RequestError as e :\n",
    "    print(f\"오류 발생: {e}\")"
   ]
  },
  {
   "cell_type": "markdown",
   "id": "60e08cc1",
   "metadata": {},
   "source": [
    "### STT -> TTS: 음성을 입력으로 받아서 -> 텍스트로 변환 후 -> 다시 음성으로 출력ㅡ"
   ]
  },
  {
   "cell_type": "code",
   "execution_count": null,
   "id": "3d96ce86",
   "metadata": {},
   "outputs": [],
   "source": [
    "################### STT 영역 ###################\n",
    "### 음성 인식기 클래스 생성하기\n",
    "recognizer = sr.Recognizer()\n",
    "\n",
    "### 음성 입력 받기\n",
    "with sr.Microphone() as source :\n",
    "    print(\"(말하기) 음성을 입력해 주세요 : \")\n",
    "    audio = recognizer.listen(source)\n",
    "    \n",
    "### 입력 받은 음성을 -> 텍스트로 변환하기\n",
    "# - 예외 처리를 해야 합니다.\n",
    "try :\n",
    "    ### 음성을 텍스트로 변환하기\n",
    "    recoginzed_text = recognizer.recognizer_google(audio, language='ko-kr')\n",
    "    \n",
    "    ### 음성 인식 결과 출력\n",
    "    print(f\"음성 인식 결과: {recoginzed_text}\")\n",
    "    \n",
    "except sr.UnknownValueError :\n",
    "    print ('음성을 인식할 수 없습니다')\n",
    "    \n",
    "except sr.RequestError as e :\n",
    "    print(f\"오류 발생: {e}\")\n",
    "    \n",
    "\n",
    "################### TTS 영역 ###################\n",
    "### pyttsx3 엔진 초기화(객체 생성과 동일)\n",
    "engine = pyttsx3.init()\n",
    "\n",
    "### pyttsx3 기본 설정하기(1)\n",
    "\n",
    "# 음성 엔진(목소리) 설정하기 위한 설정값 가지고 오기\n",
    "voices = engine.getProperty('voices')\n",
    "\n",
    "# 음성 엔진 목소리 선택하기\n",
    "selected_voice = voices[0]\n",
    "\n",
    "### pyttsx3 기본 설정하기(2)\n",
    "### 음성 읽기 속도 정의하기\n",
    "# - 100: 텍스트를 일반적인 읽기 속도로 읽기(기본값)\n",
    "# - 100 초과: 텍스트를 더 빠른 속도로 읽음\n",
    "# - 100 미만: 텍스트를 더 느린 속도로 읽음\n",
    "rate_value = 130\n",
    "engine.setProperty('rate', rate_value)\n",
    "\n",
    "### pyttsx3 엔진 내에서 -> 텍스트를 음성으로 변환시켜 놓기\n",
    "engine.say(recoginzed_text)\n",
    "\n",
    "### 변환된 음성 재생하기\n",
    "engine.runAndWait()"
   ]
  },
  {
   "cell_type": "markdown",
   "id": "bfc3631c",
   "metadata": {},
   "source": [
    "### 함수로 정의하기"
   ]
  },
  {
   "cell_type": "code",
   "execution_count": null,
   "id": "8c23e672",
   "metadata": {},
   "outputs": [],
   "source": [
    "\"\"\"\n",
    " - STT 처리 함수명: getSpeechToText()\n",
    " - TTS 처리 함수명: getTextToSpeech()\n",
    "\"\"\""
   ]
  },
  {
   "cell_type": "code",
   "execution_count": 26,
   "id": "a1457adf",
   "metadata": {},
   "outputs": [],
   "source": [
    "def getSpeechToText() :\n",
    "    recognizer = sr.Recognizer()\n",
    "\n",
    "    ### 음성 입력 받기\n",
    "    with sr.Microphone() as source :\n",
    "        print(\"(말하기) 음성을 입력해 주세요 : \")\n",
    "        audio = recognizer.listen(source)\n",
    "        \n",
    "    ### 입력 받은 음성을 -> 텍스트로 변환하기\n",
    "    # - 예외 처리를 해야 합니다.\n",
    "    try :\n",
    "        ### 음성을 텍스트로 변환하기\n",
    "        recoginzed_text = recognizer.recognizer_google(audio, language='ko-kr')\n",
    "        \n",
    "        ### 음성 인식 결과 출력\n",
    "        print(f\"음성 인식 결과: {recoginzed_text}\")\n",
    "        \n",
    "    except sr.UnknownValueError :\n",
    "        print ('음성을 인식할 수 없습니다')\n",
    "        \n",
    "    except sr.RequestError as e :\n",
    "        print(f\"오류 발생: {e}\")\n",
    "    return    \n",
    "    \n",
    "        \n",
    "def getTextToSpeech() :\n",
    "    ################### TTS 영역 ###################\n",
    "    ### pyttsx3 엔진 초기화(객체 생성과 동일)\n",
    "    engine = pyttsx3.init()\n",
    "\n",
    "    ### pyttsx3 기본 설정하기(1)\n",
    "\n",
    "    # 음성 엔진(목소리) 설정하기 위한 설정값 가지고 오기\n",
    "    voices = engine.getProperty('voices')\n",
    "\n",
    "    # 음성 엔진 목소리 선택하기\n",
    "    selected_voice = voices[0]\n",
    "\n",
    "    ### pyttsx3 기본 설정하기(2)\n",
    "    ### 음성 읽기 속도 정의하기\n",
    "    # - 100: 텍스트를 일반적인 읽기 속도로 읽기(기본값)\n",
    "    # - 100 초과: 텍스트를 더 빠른 속도로 읽음\n",
    "    # - 100 미만: 텍스트를 더 느린 속도로 읽음\n",
    "    rate_value = 130\n",
    "    engine.setProperty('rate', rate_value)\n",
    "\n",
    "    ### pyttsx3 엔진 내에서 -> 텍스트를 음성으로 변환시켜 놓기\n",
    "    engine.say(recoginzed_text)\n",
    "\n",
    "    ### 변환된 음성 재생하기\n",
    "    engine.runAndWait()\n",
    "    return"
   ]
  },
  {
   "cell_type": "code",
   "execution_count": null,
   "id": "15845a62",
   "metadata": {},
   "outputs": [],
   "source": [
    "getSpeechToText()\n",
    "getTextToSpeech()"
   ]
  },
  {
   "cell_type": "code",
   "execution_count": null,
   "id": "31d592b4",
   "metadata": {},
   "outputs": [],
   "source": [
    "import speech_recognition as sr\n",
    "import pyttsx3\n",
    "\n",
    "class SpeechProcessor:\n",
    "    def __init__(self):\n",
    "        # STT용 Recognizer 객체 생성\n",
    "        self.recognizer = sr.Recognizer()\n",
    "\n",
    "        # TTS용 pyttsx3 엔진 초기화\n",
    "        self.engine = pyttsx3.init()\n",
    "\n",
    "        # TTS 기본 설정\n",
    "        self._configure_tts()\n",
    "\n",
    "    def _configure_tts(self):\n",
    "        # 목소리 설정\n",
    "        voices = self.engine.getProperty('voices')\n",
    "        self.engine.setProperty('voice', voices[0].id)  # 첫 번째 목소리 사용\n",
    "\n",
    "        # 읽기 속도 설정\n",
    "        self.engine.setProperty('rate', 130)  # 말하기 속도 조정\n",
    "\n",
    "    def getSpeechToText(self):\n",
    "        \"\"\"STT 처리: 마이크로부터 음성을 입력받아 텍스트로 변환\"\"\"\n",
    "        with sr.Microphone() as source:\n",
    "            print(\"(말하기) 음성을 입력해 주세요: \")\n",
    "            audio = self.recognizer.listen(source)\n",
    "\n",
    "        try:\n",
    "            # Google STT API 사용 (한국어)\n",
    "            recognized_text = self.recognizer.recognize_google(audio, language='ko-KR')\n",
    "            print(f\"음성 인식 결과: {recognized_text}\")\n",
    "            return recognized_text\n",
    "\n",
    "        except sr.UnknownValueError:\n",
    "            print(\"음성을 인식할 수 없습니다.\")\n",
    "            return None\n",
    "\n",
    "        except sr.RequestError as e:\n",
    "            print(f\"STT 서비스 오류 발생: {e}\")\n",
    "            return None\n",
    "\n",
    "    def getTextToSpeech(self, text):\n",
    "        \"\"\"TTS 처리: 텍스트를 음성으로 변환하고 출력\"\"\"\n",
    "        if text:\n",
    "            self.engine.say(text)\n",
    "            self.engine.runAndWait()\n",
    "        else:\n",
    "            print(\"TTS 출력할 텍스트가 없습니다.\")\n",
    "\n",
    "\n",
    "# # 사용 예시\n",
    "# if __name__ == \"__main__\":\n",
    "#     processor = SpeechProcessor()\n",
    "\n",
    "#     text = processor.getSpeechToText()\n",
    "#     processor.getTextToSpeech(text)\n"
   ]
  }
 ],
 "metadata": {
  "kernelspec": {
   "display_name": "pk_dl_gpu",
   "language": "python",
   "name": "python3"
  },
  "language_info": {
   "codemirror_mode": {
    "name": "ipython",
    "version": 3
   },
   "file_extension": ".py",
   "mimetype": "text/x-python",
   "name": "python",
   "nbconvert_exporter": "python",
   "pygments_lexer": "ipython3",
   "version": "3.9.21"
  }
 },
 "nbformat": 4,
 "nbformat_minor": 5
}
