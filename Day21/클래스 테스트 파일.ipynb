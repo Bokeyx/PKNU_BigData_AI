{
 "cells": [
  {
   "cell_type": "code",
   "execution_count": 1,
   "id": "e3cf892d-e117-46e2-9f6d-77296168d970",
   "metadata": {},
   "outputs": [],
   "source": [
    "from Model_Utility import Model_Util\n",
    "\n",
    "### Machine Running library install\n",
    "from sklearn.neighbors import KNeighborsRegressor\n",
    "\n",
    "### 선형회귀모델 라이브러리 정의\n",
    "from sklearn.linear_model import LinearRegression\n",
    "\n",
    "### visualization library\n",
    "import matplotlib.pyplot as plt\n",
    "\n",
    "# Definition of the NumPy library\n",
    "import numpy as np\n",
    "\n",
    "### Definition of Library (Preprocessing Library)\n",
    "from sklearn.model_selection import train_test_split\n",
    "\n",
    "# - Defining the MAE Library\n",
    "from sklearn.metrics import mean_absolute_error\n",
    "\n",
    "# - 변환기 모델(클래스) 라이브러리 정의하기\n",
    "from sklearn.preprocessing import PolynomialFeatures\n",
    "from sklearn.preprocessing import StandardScaler\n",
    "from sklearn.preprocessing import MinMaxScaler\n",
    "from sklearn.preprocessing import RobustScaler\n",
    "\n",
    "\n",
    "import pandas as pd \n",
    "\n",
    "plt.rc(\"font\", family=\"Malgun Gothic\")\n",
    "\n",
    "plt.rcParams[\"axes.unicode_minus\"] = False"
   ]
  },
  {
   "cell_type": "code",
   "execution_count": 2,
   "id": "c064c1e4-5567-4e94-bac6-6c6b6c08081c",
   "metadata": {},
   "outputs": [
    {
     "name": "stdout",
     "output_type": "stream",
     "text": [
      "<class 'pandas.core.frame.DataFrame'>\n",
      "RangeIndex: 56 entries, 0 to 55\n",
      "Data columns (total 3 columns):\n",
      " #   Column  Non-Null Count  Dtype  \n",
      "---  ------  --------------  -----  \n",
      " 0   length  56 non-null     float64\n",
      " 1   height  56 non-null     float64\n",
      " 2   width   56 non-null     float64\n",
      "dtypes: float64(3)\n",
      "memory usage: 1.4 KB\n"
     ]
    },
    {
     "data": {
      "text/html": [
       "<div>\n",
       "<style scoped>\n",
       "    .dataframe tbody tr th:only-of-type {\n",
       "        vertical-align: middle;\n",
       "    }\n",
       "\n",
       "    .dataframe tbody tr th {\n",
       "        vertical-align: top;\n",
       "    }\n",
       "\n",
       "    .dataframe thead th {\n",
       "        text-align: right;\n",
       "    }\n",
       "</style>\n",
       "<table border=\"1\" class=\"dataframe\">\n",
       "  <thead>\n",
       "    <tr style=\"text-align: right;\">\n",
       "      <th></th>\n",
       "      <th>length</th>\n",
       "      <th>height</th>\n",
       "      <th>width</th>\n",
       "    </tr>\n",
       "  </thead>\n",
       "  <tbody>\n",
       "    <tr>\n",
       "      <th>0</th>\n",
       "      <td>8.4</td>\n",
       "      <td>2.11</td>\n",
       "      <td>1.41</td>\n",
       "    </tr>\n",
       "  </tbody>\n",
       "</table>\n",
       "</div>"
      ],
      "text/plain": [
       "   length  height  width\n",
       "0     8.4    2.11   1.41"
      ]
     },
     "execution_count": 2,
     "metadata": {},
     "output_type": "execute_result"
    }
   ],
   "source": [
    "### 데이터 읽어들이기\n",
    "# 변수명: df\n",
    "file_path = \"./data/03_농어의_길이_높이_두께_데이터.csv\"\n",
    "df = pd.read_csv(file_path)\n",
    "df.info()\n",
    "df.head(1)"
   ]
  },
  {
   "cell_type": "code",
   "execution_count": 3,
   "id": "6145fe11-4f5f-4d73-a935-95a374ad61a0",
   "metadata": {},
   "outputs": [
    {
     "name": "stdout",
     "output_type": "stream",
     "text": [
      "(56, 3)\n"
     ]
    }
   ],
   "source": [
    "### 독립변수 데이터 만들기\n",
    "# - 데이터프레임의 데이터를 numpy의 배열(array) 형태로 변화하면 됩니다.\n",
    "# - 변수명: perch_full\n",
    "# - shape 명령으로 차원 확인하기\n",
    "perch_full = df.to_numpy()\n",
    "print(perch_full.shape)"
   ]
  },
  {
   "cell_type": "code",
   "execution_count": 4,
   "id": "ea43e4c6-09ab-498f-8261-005a9d8ac749",
   "metadata": {},
   "outputs": [],
   "source": [
    "### 종속변수 생성하기\n",
    "### 농어의 무게\n",
    "perch_weight = np.array(\n",
    "    [5.9, 32.0, 40.0, 51.5, 70.0, 100.0, 78.0, 80.0, 85.0, 85.0, \n",
    "     110.0, 115.0, 125.0, 130.0, 120.0, 120.0, 130.0, 135.0, 110.0, \n",
    "     130.0, 150.0, 145.0, 150.0, 170.0, 225.0, 145.0, 188.0, 180.0, \n",
    "     197.0, 218.0, 300.0, 260.0, 265.0, 250.0, 250.0, 300.0, 320.0, \n",
    "     514.0, 556.0, 840.0, 685.0, 700.0, 700.0, 690.0, 900.0, 650.0, \n",
    "     820.0, 850.0, 900.0, 1015.0, 820.0, 1100.0, 1000.0, 1100.0, \n",
    "     1000.0, 1000.0]\n",
    "     )"
   ]
  },
  {
   "cell_type": "code",
   "execution_count": 5,
   "id": "2c931deb-7707-4fc0-b8ab-afd0ab2b214b",
   "metadata": {},
   "outputs": [
    {
     "data": {
      "text/plain": [
       "((56, 3), (56,))"
      ]
     },
     "execution_count": 5,
     "metadata": {},
     "output_type": "execute_result"
    }
   ],
   "source": [
    "### 현재 기준 최종 독립변수와 종속변수 데이터\n",
    "perch_full.shape, perch_weight.shape"
   ]
  },
  {
   "cell_type": "code",
   "execution_count": 6,
   "id": "5b7c8bc9-a6a2-43d1-b3aa-621f915b7977",
   "metadata": {},
   "outputs": [
    {
     "name": "stdout",
     "output_type": "stream",
     "text": [
      "(39, 3) (39,)\n",
      "(17, 3) (17,)\n"
     ]
    }
   ],
   "source": [
    "mu = Model_Util(perch_full, perch_weight, test_size=0.3)\n",
    "\n",
    "print(mu.train_input.shape, mu.train_target.shape)\n",
    "print(mu.test_input.shape, mu.test_target.shape)"
   ]
  },
  {
   "cell_type": "code",
   "execution_count": 7,
   "id": "33bd86d7-4d99-4621-9e46-73c1086811bf",
   "metadata": {},
   "outputs": [
    {
     "name": "stdout",
     "output_type": "stream",
     "text": [
      "훈련: 0.9537065271284176 \n",
      "테스트: 0.886342083634778 \n",
      "과적합여부: 0.06736444349363968\n",
      "과적합이 발생하지 않았습니다.\n",
      "예측결과: [-328.54944233   48.99648009  328.530777    168.01071374  147.28466932\n",
      "  790.89418753  383.33837613  247.89949679  814.06695812  123.2000108\n",
      "  981.8543067   -37.63667416  356.2229673   419.56345249   48.15564696\n",
      "  140.06819759   46.70641917]\n",
      "평균 절대 오차 (MAE): 68.56651514640546\n"
     ]
    },
    {
     "data": {
      "text/plain": [
       "68.56651514640546"
      ]
     },
     "execution_count": 7,
     "metadata": {},
     "output_type": "execute_result"
    }
   ],
   "source": [
    "mu.train_lr()\n",
    "mu.evaluate_model()\n",
    "mu.predict_and_evaluate(mu.test_input)"
   ]
  },
  {
   "cell_type": "code",
   "execution_count": 8,
   "id": "df8ad09d-1dfe-4e5b-8520-2945e18128a6",
   "metadata": {},
   "outputs": [
    {
     "name": "stdout",
     "output_type": "stream",
     "text": [
      "훈련: 0.9898271546307026 \n",
      "테스트: 0.9713771600629656 \n",
      "과적합여부: 0.018449994567736994\n",
      "과적합이 발생하지 않았습니다.\n",
      "예측결과: [  22.92877835   31.10777487  250.98436388  111.59208216  128.85787135\n",
      "  779.24558158  304.72417951  176.31471164  916.8961555    98.7200446\n",
      " 1180.23592257   34.86148711  288.45880297  272.52503942   85.71366627\n",
      "  120.24574045   59.93605383]\n",
      "평균 절대 오차 (MAE): 30.216889590342735\n"
     ]
    },
    {
     "data": {
      "text/plain": [
       "30.216889590342735"
      ]
     },
     "execution_count": 8,
     "metadata": {},
     "output_type": "execute_result"
    }
   ],
   "source": [
    "train_poly, test_poly = mu.train_polynomial(degree=2)\n",
    "\n",
    "mu.evaluate_polynomial(train_poly, test_poly)\n",
    "\n",
    "mu.predict_and_evaluate(test_scaled = test_poly)"
   ]
  },
  {
   "cell_type": "code",
   "execution_count": 9,
   "id": "559eb825-e7c4-47ff-bee6-d656f5d61c1c",
   "metadata": {},
   "outputs": [
    {
     "name": "stdout",
     "output_type": "stream",
     "text": [
      "예측결과: [  22.92877835   31.10777487  250.98436388  111.59208216  128.85787135\n",
      "  779.24558158  304.72417951  176.31471164  916.8961555    98.7200446\n",
      " 1180.23592257   34.86148711  288.45880297  272.52503942   85.71366627\n",
      "  120.24574045   59.93605383]\n",
      "평균 절대 오차 (MAE): 30.216889590344675\n"
     ]
    },
    {
     "data": {
      "text/plain": [
       "30.216889590344675"
      ]
     },
     "execution_count": 9,
     "metadata": {},
     "output_type": "execute_result"
    }
   ],
   "source": [
    "train_scaled, test_scaled= mu.train_standard_scaler()\n",
    "mu.predict_and_evaluate(test_scaled)"
   ]
  },
  {
   "cell_type": "code",
   "execution_count": 10,
   "id": "ba7592e0-9595-4a16-98fc-68b25ee928e0",
   "metadata": {},
   "outputs": [
    {
     "name": "stdout",
     "output_type": "stream",
     "text": [
      "예측결과: [  22.92877835   31.10777487  250.98436388  111.59208216  128.85787135\n",
      "  779.24558158  304.72417951  176.31471164  916.8961555    98.7200446\n",
      " 1180.23592257   34.86148711  288.45880297  272.52503942   85.71366627\n",
      "  120.24574045   59.93605383]\n",
      "평균 절대 오차 (MAE): 30.216889590344127\n"
     ]
    },
    {
     "data": {
      "text/plain": [
       "30.216889590344127"
      ]
     },
     "execution_count": 10,
     "metadata": {},
     "output_type": "execute_result"
    }
   ],
   "source": [
    "train_scaled, test_scaled= mu.train_minmax_scaler()\n",
    "mu.predict_and_evaluate(test_scaled)"
   ]
  },
  {
   "cell_type": "code",
   "execution_count": 11,
   "id": "bcbf6be5-1363-4c66-9370-445fd359cafc",
   "metadata": {},
   "outputs": [
    {
     "name": "stdout",
     "output_type": "stream",
     "text": [
      "예측결과: [  22.92877835   31.10777487  250.98436388  111.59208216  128.85787135\n",
      "  779.24558158  304.72417951  176.31471164  916.8961555    98.7200446\n",
      " 1180.23592257   34.86148711  288.45880297  272.52503942   85.71366627\n",
      "  120.24574045   59.93605383]\n",
      "평균 절대 오차 (MAE): 30.216889590346174\n"
     ]
    },
    {
     "data": {
      "text/plain": [
       "30.216889590346174"
      ]
     },
     "execution_count": 11,
     "metadata": {},
     "output_type": "execute_result"
    }
   ],
   "source": [
    "train_scaled, test_scaled= mu.train_robust_scaler()\n",
    "mu.predict_and_evaluate(test_scaled)"
   ]
  },
  {
   "cell_type": "code",
   "execution_count": 12,
   "id": "b849ee86-0dc9-441b-a49f-a5b44b694378",
   "metadata": {},
   "outputs": [
    {
     "data": {
      "text/plain": [
       "((56,), (56,))"
      ]
     },
     "execution_count": 12,
     "metadata": {},
     "output_type": "execute_result"
    }
   ],
   "source": [
    "### 앞에서 사용한 농어의 길이와 무게 사용\n",
    "perch_length = np.array(\n",
    "    [8.4, 13.7, 15.0, 16.2, 17.4, 18.0, 18.7, 19.0, 19.6, 20.0, \n",
    "     21.0, 21.0, 21.0, 21.3, 22.0, 22.0, 22.0, 22.0, 22.0, 22.5, \n",
    "     22.5, 22.7, 23.0, 23.5, 24.0, 24.0, 24.6, 25.0, 25.6, 26.5, \n",
    "     27.3, 27.5, 27.5, 27.5, 28.0, 28.7, 30.0, 32.8, 34.5, 35.0, \n",
    "     36.5, 36.0, 37.0, 37.0, 39.0, 39.0, 39.0, 40.0, 40.0, 40.0, \n",
    "     40.0, 42.0, 43.0, 43.0, 43.5, 44.0]\n",
    "     )\n",
    "perch_weight = np.array(\n",
    "    [5.9, 32.0, 40.0, 51.5, 70.0, 100.0, 78.0, 80.0, 85.0, 85.0, \n",
    "     110.0, 115.0, 125.0, 130.0, 120.0, 120.0, 130.0, 135.0, 110.0, \n",
    "     130.0, 150.0, 145.0, 150.0, 170.0, 225.0, 145.0, 188.0, 180.0, \n",
    "     197.0, 218.0, 300.0, 260.0, 265.0, 250.0, 250.0, 300.0, 320.0, \n",
    "     514.0, 556.0, 840.0, 685.0, 700.0, 700.0, 690.0, 900.0, 650.0, \n",
    "     820.0, 850.0, 900.0, 1015.0, 820.0, 1100.0, 1000.0, 1100.0, \n",
    "     1000.0, 1000.0]\n",
    "     )\n",
    "\n",
    "perch_length.shape, perch_weight.shape"
   ]
  },
  {
   "cell_type": "code",
   "execution_count": 13,
   "id": "55668f20-df6a-465a-99a2-43d3a3ff2319",
   "metadata": {},
   "outputs": [
    {
     "name": "stdout",
     "output_type": "stream",
     "text": [
      "(42,) (42,)\n",
      "(14,) (14,)\n"
     ]
    }
   ],
   "source": [
    "mu = Model_Util(perch_length, perch_weight, test_size=0.25)\n",
    "\n",
    "print(mu.train_input.shape, mu.train_target.shape)\n",
    "print(mu.test_input.shape, mu.test_target.shape)"
   ]
  },
  {
   "cell_type": "code",
   "execution_count": 14,
   "id": "c5029528-d772-4814-a364-54aff9616f7b",
   "metadata": {},
   "outputs": [
    {
     "name": "stdout",
     "output_type": "stream",
     "text": [
      "(42, 1) (42,)\n",
      "(14, 1) (14,)\n"
     ]
    }
   ],
   "source": [
    "train_input, test_input = mu.change_to_2dim(mu.train_input, mu.test_input)\n",
    "\n",
    "print(mu.train_input.shape, mu.train_target.shape)\n",
    "print(mu.test_input.shape, mu.test_target.shape)"
   ]
  },
  {
   "cell_type": "code",
   "execution_count": 15,
   "id": "bc24dca5-f588-4b43-b462-8385e65bd4f2",
   "metadata": {},
   "outputs": [
    {
     "name": "stdout",
     "output_type": "stream",
     "text": [
      "훈련: 0.9398463339976041 \n",
      "테스트: 0.824750312331356 \n",
      "과적합여부: 0.1150960216662481\n",
      "과적합여부 결과 0.115로 과적합이 발생할 수도 있습니다\n"
     ]
    }
   ],
   "source": [
    "mu.train_lr()\n",
    "\n",
    "mu.evaluate_model()"
   ]
  },
  {
   "cell_type": "code",
   "execution_count": 16,
   "id": "db89e650-24d7-44b7-b827-c4583f606cd1",
   "metadata": {},
   "outputs": [
    {
     "name": "stdout",
     "output_type": "stream",
     "text": [
      "기울기 a = [39.01714496]\n",
      "y절편 b = -709.0186449535474\n"
     ]
    },
    {
     "data": {
      "image/png": "[encoded data removed]",
      "text/plain": [
       "<Figure size 640x480 with 1 Axes>"
      ]
     },
     "metadata": {},
     "output_type": "display_data"
    }
   ],
   "source": [
    "pred = mu.predict_value(50)\n",
    "\n",
    "mu.coef_intercept()\n",
    "\n",
    "mu.plot_trendline(pred=pred)"
   ]
  },
  {
   "cell_type": "code",
   "execution_count": 17,
   "id": "b7ddbe3c-4771-493d-9817-a9ddc5c1e5ab",
   "metadata": {},
   "outputs": [
    {
     "name": "stdout",
     "output_type": "stream",
     "text": [
      "훈련: 0.9706807451768623 \n",
      "테스트: 0.9775935108325122 \n",
      "과적합여부: -0.006912765655649911\n",
      "과적합이 발생하지 않았습니다.\n"
     ]
    }
   ],
   "source": [
    "train_poly, test_poly = mu.add_square()\n",
    "# print(train_poly.shape, test_poly.shape)\n",
    "mu.train_mlr()\n",
    "mu.mlr_evaluate_model()"
   ]
  },
  {
   "cell_type": "code",
   "execution_count": 18,
   "id": "2b6e96a6-0aae-4de6-8ffd-780613edd6f7",
   "metadata": {},
   "outputs": [
    {
     "name": "stdout",
     "output_type": "stream",
     "text": [
      "예측값[1573.98423528]\n",
      "기울기 a = 1.0143321093767301\n",
      "기울기 b = -21.557924978837352\n",
      "y절편 b = -21.557924978837352\n"
     ]
    },
    {
     "data": {
      "image/png": "[encoded data removed]",
      "text/plain": [
       "<Figure size 640x480 with 1 Axes>"
      ]
     },
     "metadata": {},
     "output_type": "display_data"
    }
   ],
   "source": [
    "pred = mu.mlr_predict_value(50)\n",
    "pred\n",
    "\n",
    "mu.mlr_coef_intercept()\n",
    "\n",
    "mu.mlr_plot_trendline(pred=pred)"
   ]
  },
  {
   "cell_type": "code",
   "execution_count": null,
   "id": "84ceaa57-d95e-426f-8eab-954d6c9455a1",
   "metadata": {},
   "outputs": [],
   "source": []
  },
  {
   "cell_type": "code",
   "execution_count": null,
   "id": "6be980a2-09a6-411f-9a18-e7b3173738ab",
   "metadata": {},
   "outputs": [],
   "source": []
  },
  {
   "cell_type": "code",
   "execution_count": null,
   "id": "584b9525-e08d-4be5-a784-10e59090a604",
   "metadata": {},
   "outputs": [],
   "source": []
  },
  {
   "cell_type": "code",
   "execution_count": null,
   "id": "4a4533c7-6bea-41eb-825e-fc8d8e45af2a",
   "metadata": {},
   "outputs": [],
   "source": []
  },
  {
   "cell_type": "code",
   "execution_count": null,
   "id": "c3d6c900-429b-4fcb-b92f-9a3c9e8ada67",
   "metadata": {},
   "outputs": [],
   "source": []
  },
  {
   "cell_type": "code",
   "execution_count": null,
   "id": "cfb4fcfb-3d10-4413-8729-41d766ef392c",
   "metadata": {},
   "outputs": [],
   "source": []
  },
  {
   "cell_type": "code",
   "execution_count": null,
   "id": "580cca5f-ddfd-4165-948a-158bd957dd11",
   "metadata": {},
   "outputs": [],
   "source": []
  }
 ],
 "metadata": {
  "kernelspec": {
   "display_name": "pk_dl_202503_kernel",
   "language": "python",
   "name": "pk_dl_202503"
  },
  "language_info": {
   "codemirror_mode": {
    "name": "ipython",
    "version": 3
   },
   "file_extension": ".py",
   "mimetype": "text/x-python",
   "name": "python",
   "nbconvert_exporter": "python",
   "pygments_lexer": "ipython3",
   "version": "3.9.21"
  }
 },
 "nbformat": 4,
 "nbformat_minor": 5
}
