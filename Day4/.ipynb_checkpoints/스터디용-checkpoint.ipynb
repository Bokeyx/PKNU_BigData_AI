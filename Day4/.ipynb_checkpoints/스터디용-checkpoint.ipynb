{
 "cells": [
  {
   "cell_type": "code",
   "execution_count": null,
   "id": "61bf0947-3994-4487-b947-b064e41f929e",
   "metadata": {},
   "outputs": [],
   "source": [
    "\"\"\"\n",
    "* 이름, 나이, 지역 데이터 관리하기\n",
    "    - 이름, 나이, 주소는 디셔너리 타입 사용\n",
    "    - 각각의 리스트 변수 : list_name, list_age, list_area\n",
    "    - 데이터를 관리하는 대표 변수는 딕셔너리로 관리\n",
    "        -- 변수명 : dict all\n",
    "            -> list_name에는 이름이 추가될 때 마다 : [\"홍길동\", \"이순신\", ....] 이런 형태로\n",
    "            -> list_age에는 이름이 추가될 때 마다 : [11, 22, ....] 이런 형태로\n",
    "            -> list_area에는 이름이 추가될 때 마다 : [\"부산\", \"서울\", ....] 이런 형태로\n",
    "        \n",
    "            -> 데이터 구조\n",
    "                {name:[\"홍길동\", \"이순신\", ....],\n",
    "                 age : [11, 22, ....], \n",
    "                 area: [\"부산\", \"서울\", ....]}\n",
    "\n",
    "* 리스트 변수명 : data_list\n",
    "* [{name:이름, age:나이, area:지역}]\n",
    "   {name:이름, age:나이, area:지역}]\n",
    "   {name:이름, age:나이, area:지역}\n",
    "   ...]\n",
    "\"\"\""
   ]
  },
  {
   "cell_type": "code",
   "execution_count": 3,
   "id": "1ef481fa-268b-4891-8053-cb4a911e07cc",
   "metadata": {},
   "outputs": [],
   "source": [
    "## 임의의 값 입력 받기 위한 안내 메시지\n",
    "msg = \"\"\"아래 번호 중에 하나를 선택하여 주세요(번호로 입력)\n",
    "0. 종료\n",
    "1. 값 추가\n",
    "2. 전체 검색\n",
    "3. 검색\n",
    "4. 삭제\n",
    "5. 수정\n",
    "\"\"\"\n",
    "dict_all ={}\n",
    "list_name = []\n",
    "list_age = []\n",
    "list_area = []"
   ]
  },
  {
   "cell_type": "code",
   "execution_count": 5,
   "id": "14b4ed3d-07bc-40a0-a71b-9b965f35a57a",
   "metadata": {},
   "outputs": [
    {
     "name": "stdin",
     "output_type": "stream",
     "text": [
      "아래 번호 중에 하나를 선택하여 주세요(번호로 입력)\n",
      "0. 종료\n",
      "1. 값 추가\n",
      "2. 전체 검색\n",
      "3. 검색\n",
      "4. 삭제\n",
      "5. 수정\n",
      " 0\n"
     ]
    },
    {
     "name": "stdout",
     "output_type": "stream",
     "text": [
      "종료합니다.\n"
     ]
    }
   ],
   "source": [
    "while True :\n",
    "    choice = int(input(msg))\n",
    "\n",
    "    ### 0번 : 종료\n",
    "    if choice == 0 :\n",
    "        print(\"종료합니다.\")\n",
    "        break\n",
    "\n",
    "    \n",
    "    "
   ]
  },
  {
   "cell_type": "code",
   "execution_count": null,
   "id": "0750e17a-8c73-4666-bbb5-8d01a8d5254e",
   "metadata": {},
   "outputs": [],
   "source": []
  }
 ],
 "metadata": {
  "kernelspec": {
   "display_name": "pk_base_202503_kernel",
   "language": "python",
   "name": "pk_base_202503"
  },
  "language_info": {
   "codemirror_mode": {
    "name": "ipython",
    "version": 3
   },
   "file_extension": ".py",
   "mimetype": "text/x-python",
   "name": "python",
   "nbconvert_exporter": "python",
   "pygments_lexer": "ipython3",
   "version": "3.9.21"
  }
 },
 "nbformat": 4,
 "nbformat_minor": 5
}
