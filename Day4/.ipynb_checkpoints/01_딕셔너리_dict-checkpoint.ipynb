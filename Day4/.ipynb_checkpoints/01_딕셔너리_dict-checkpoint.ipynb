{
 "cells": [
  {
   "cell_type": "code",
   "execution_count": null,
   "id": "ca6d2d2a-6cf3-4db8-8756-b833cce52eb4",
   "metadata": {},
   "outputs": [],
   "source": [
    "\"\"\"\n",
    "<딕셔너리(dict)>\n",
    "    - 리스트(list)와 동일하게 여러개의 값을 가지고 다니는 타입 중의 한가지\n",
    "    - 리스트(list)와 차이점 : 리스트 메모리는 인덱스가 순서적으로 만들어지지만, 딕셔너리는 순서 없음\n",
    "    - 딕셔너리는 key와 value의 한쌍으로 한개의 데이터가 만들어짐\n",
    "    - key는 고유한 값만 사용가능하며, key를 이용해서 value의 값을 추출할 수 있음\n",
    "    - 리스트는 대괄호[]를 사용했다면, 딕셔너리는 중괄호{}를 사용하여 데이터를 정의함\n",
    "    - 딕셔너리에 데이터(value의 값)를 추출하고자 할 때는 \"딕셔너리 변수명[key]\" 형태로 작성\n",
    "    - 딕셔너리 값(value) 수정 => 딕셔너리 변수명[존재하는 key] = \"수정할 값\"\n",
    "    - 딕셔너리 값 추가 => \"딕셔너리 변수명[추가할 key] = \n",
    "\"\"\""
   ]
  },
  {
   "cell_type": "code",
   "execution_count": 13,
   "id": "f8e9af7f-8446-4198-80ef-cdb8049b3cb4",
   "metadata": {},
   "outputs": [
    {
     "name": "stdout",
     "output_type": "stream",
     "text": [
      "{'name': '홍길동', 'age': 22, 'area': '부산'}\n"
     ]
    }
   ],
   "source": [
    "### 딕셔너리 변수 생성\n",
    "data = {}\n",
    "data = {\"name\" : \"홍길동\",\n",
    "        \"age\" : 22,\n",
    "        \"area\" : \"부산\"}\n",
    "print(data)"
   ]
  },
  {
   "cell_type": "code",
   "execution_count": 14,
   "id": "991952f8-3ec6-4555-b2a9-d6d54af937df",
   "metadata": {},
   "outputs": [
    {
     "data": {
      "text/plain": [
       "('홍길동', 22, '부산')"
      ]
     },
     "execution_count": 14,
     "metadata": {},
     "output_type": "execute_result"
    }
   ],
   "source": [
    "### key를 이용하여 값(value) 추출하기\n",
    "data[\"name\"], data[\"age\"], data[\"area\"]"
   ]
  },
  {
   "cell_type": "code",
   "execution_count": 15,
   "id": "fdf178ed-2626-4b93-bc46-e041b84ef1cf",
   "metadata": {},
   "outputs": [
    {
     "data": {
      "text/plain": [
       "{'name': '이순신', 'age': 50, 'area': '서울'}"
      ]
     },
     "execution_count": 15,
     "metadata": {},
     "output_type": "execute_result"
    }
   ],
   "source": [
    "### 값 수정하기\n",
    "data[\"name\"] = \"이순신\"\n",
    "data[\"age\"] = 50\n",
    "data[\"area\"] = \"서울\"\n",
    "data"
   ]
  },
  {
   "cell_type": "code",
   "execution_count": 16,
   "id": "5526cea4-52b2-4cfe-a62f-4e3b6c0a49fa",
   "metadata": {},
   "outputs": [
    {
     "data": {
      "text/plain": [
       "{'name': '이순신', 'age': 50, 'area': '서울', 'phone': '010-1234-5678'}"
      ]
     },
     "execution_count": 16,
     "metadata": {},
     "output_type": "execute_result"
    }
   ],
   "source": [
    "### 데이터(값) 추가하기\n",
    "data[\"phone\"] = \"010-1234-5678\"\n",
    "data"
   ]
  },
  {
   "cell_type": "code",
   "execution_count": 17,
   "id": "641c08f4-7ecc-4a43-92e1-2453799af923",
   "metadata": {},
   "outputs": [
    {
     "name": "stdout",
     "output_type": "stream",
     "text": [
      "['이순신', '홍길동', '김유신'] [22, 33, 44] ['부산', '서울', '대전']\n"
     ]
    }
   ],
   "source": [
    "list_name = [\"이순신\", \"홍길동\", \"김유신\"]\n",
    "list_age = [22, 33, 44]\n",
    "list_area = [\"부산\", \"서울\", \"대전\"]\n",
    "\n",
    "print(list_name, list_age, list_area)"
   ]
  },
  {
   "cell_type": "code",
   "execution_count": 18,
   "id": "e22b8630-c4c3-4bad-aa62-ba08e7ded568",
   "metadata": {},
   "outputs": [
    {
     "data": {
      "text/plain": [
       "{'name': ['이순신', '홍길동', '김유신'],\n",
       " 'age': [22, 33, 44],\n",
       " 'area': ['부산', '서울', '대전']}"
      ]
     },
     "execution_count": 18,
     "metadata": {},
     "output_type": "execute_result"
    }
   ],
   "source": [
    "dict_data = {\"name\" : list_name,\n",
    "             \"age\" : list_age,\n",
    "             \"area\" : list_area}\n",
    "dict_data"
   ]
  },
  {
   "cell_type": "code",
   "execution_count": 19,
   "id": "2b767261-9b8c-41da-a61e-c0c9716904a4",
   "metadata": {},
   "outputs": [
    {
     "data": {
      "text/plain": [
       "(['이순신', '홍길동', '김유신'], ['이순신', '홍길동', '김유신'])"
      ]
     },
     "execution_count": 19,
     "metadata": {},
     "output_type": "execute_result"
    }
   ],
   "source": [
    "### get() 함수를 이용해서 데이터 추출하기\n",
    "dict_data[\"name\"], dict_data.get(\"name\")"
   ]
  },
  {
   "cell_type": "code",
   "execution_count": 20,
   "id": "31f35f6b-a485-44fd-abd6-3b8390a9c2a8",
   "metadata": {},
   "outputs": [
    {
     "ename": "KeyError",
     "evalue": "'name1'",
     "output_type": "error",
     "traceback": [
      "\u001b[1;31m---------------------------------------------------------------------------\u001b[0m",
      "\u001b[1;31mKeyError\u001b[0m                                  Traceback (most recent call last)",
      "Cell \u001b[1;32mIn[20], line 1\u001b[0m\n\u001b[1;32m----> 1\u001b[0m \u001b[43mdict_data\u001b[49m\u001b[43m[\u001b[49m\u001b[38;5;124;43m\"\u001b[39;49m\u001b[38;5;124;43mname1\u001b[39;49m\u001b[38;5;124;43m\"\u001b[39;49m\u001b[43m]\u001b[49m\n",
      "\u001b[1;31mKeyError\u001b[0m: 'name1'"
     ]
    }
   ],
   "source": [
    "### 딕셔너리 내에 key가 존재하지 않으면 오류를 발생합니다\n",
    "dict_data[\"name1\"]"
   ]
  },
  {
   "cell_type": "code",
   "execution_count": 22,
   "id": "b1466b21-ac00-4630-834a-5a4497c233f2",
   "metadata": {},
   "outputs": [
    {
     "data": {
      "text/plain": [
       "'no'"
      ]
     },
     "execution_count": 22,
     "metadata": {},
     "output_type": "execute_result"
    }
   ],
   "source": [
    "### 딕셔너리 내에 해당 key가 존재하지 않더라도 오류 발생하지 않음\n",
    "# - key가 없는 경우를 대처할 수 있음(두번째 값으로 대체)\n",
    "dict_data.get(\"name1\", \"no\")"
   ]
  },
  {
   "cell_type": "code",
   "execution_count": 24,
   "id": "ea8e088e-c602-4ac8-b502-bd1a2cad53e7",
   "metadata": {},
   "outputs": [],
   "source": [
    "### 삭제하기\n",
    "del data[\"name\"]"
   ]
  },
  {
   "cell_type": "code",
   "execution_count": 25,
   "id": "56c24ac9-517e-43ff-a709-6ee7a7d59b6f",
   "metadata": {},
   "outputs": [
    {
     "data": {
      "text/plain": [
       "{'age': 50, 'area': '서울', 'phone': '010-1234-5678'}"
      ]
     },
     "execution_count": 25,
     "metadata": {},
     "output_type": "execute_result"
    }
   ],
   "source": [
    "data"
   ]
  },
  {
   "cell_type": "code",
   "execution_count": 27,
   "id": "8b6ce133-d184-4a11-b780-fa8136077fbe",
   "metadata": {},
   "outputs": [
    {
     "data": {
      "text/plain": [
       "(False, True)"
      ]
     },
     "execution_count": 27,
     "metadata": {},
     "output_type": "execute_result"
    }
   ],
   "source": [
    "### key 존재여부 확인하기 : in 사용 (리스트와 동일)\n",
    "# - 리스트에서 값이 있는지 없는지 확인했다면,\n",
    "# - 딕셔너리에서는 key가 있는지 없는지 확인합니다.\n",
    "\"name\" in data, \"age\" in data"
   ]
  },
  {
   "cell_type": "code",
   "execution_count": 37,
   "id": "52df0a0d-78c1-48f9-a124-e150fbf7ad47",
   "metadata": {},
   "outputs": [
    {
     "data": {
      "text/plain": [
       "True"
      ]
     },
     "execution_count": 37,
     "metadata": {},
     "output_type": "execute_result"
    }
   ],
   "source": [
    "### 이름 중에 홍길동이 있는지 확인하기\n",
    "\"홍길동\" in dict_data[\"name\"]"
   ]
  },
  {
   "cell_type": "code",
   "execution_count": 38,
   "id": "bbe5046b-24b9-4c18-9aeb-c73463ed9c1e",
   "metadata": {},
   "outputs": [],
   "source": [
    "dict2 = {1 : \"홍길동\", 2 : \"홍길동2\"}\n",
    "dict2 = {\"name1\" : \"홍길동1\", \"name2\" : \"홍길동2\"}"
   ]
  },
  {
   "cell_type": "code",
   "execution_count": 109,
   "id": "cae34608-174d-4998-89b4-fb762f809150",
   "metadata": {},
   "outputs": [
    {
     "name": "stdout",
     "output_type": "stream",
     "text": [
      "{'name1': '홍길동1', 'name2': '홍길동2', 'name3': '홍길동3', 'name4': '홍길동4', 'name5': '홍길동5', 'name6': '홍길동6', 'name7': '홍길동7', 'name8': '홍길동8', 'name9': '홍길동9', 'name10': '홍길동10', 'name11': '홍길동11', 'name12': '홍길동12', 'name13': '홍길동13', 'name14': '홍길동14', 'name15': '홍길동15', 'name16': '홍길동16', 'name17': '홍길동17', 'name18': '홍길동18', 'name19': '홍길동19', 'name20': '홍길동20', 'name21': '홍길동21', 'name22': '홍길동22', 'name23': '홍길동23', 'name24': '홍길동24', 'name25': '홍길동25', 'name26': '홍길동26', 'name27': '홍길동27', 'name28': '홍길동28', 'name29': '홍길동29', 'name30': '홍길동30', 'name31': '홍길동31', 'name32': '홍길동32', 'name33': '홍길동33', 'name34': '홍길동34', 'name35': '홍길동35', 'name36': '홍길동36', 'name37': '홍길동37', 'name38': '홍길동38', 'name39': '홍길동39', 'name40': '홍길동40', 'name41': '홍길동41', 'name42': '홍길동42', 'name43': '홍길동43', 'name44': '홍길동44', 'name45': '홍길동45', 'name46': '홍길동46', 'name47': '홍길동47', 'name48': '홍길동48', 'name49': '홍길동49', 'name50': '홍길동50', 'name51': '홍길동51', 'name52': '홍길동52', 'name53': '홍길동53', 'name54': '홍길동54', 'name55': '홍길동55', 'name56': '홍길동56', 'name57': '홍길동57', 'name58': '홍길동58', 'name59': '홍길동59', 'name60': '홍길동60', 'name61': '홍길동61', 'name62': '홍길동62', 'name63': '홍길동63', 'name64': '홍길동64', 'name65': '홍길동65', 'name66': '홍길동66', 'name67': '홍길동67', 'name68': '홍길동68', 'name69': '홍길동69', 'name70': '홍길동70', 'name71': '홍길동71', 'name72': '홍길동72', 'name73': '홍길동73', 'name74': '홍길동74', 'name75': '홍길동75', 'name76': '홍길동76', 'name77': '홍길동77', 'name78': '홍길동78', 'name79': '홍길동79', 'name80': '홍길동80', 'name81': '홍길동81', 'name82': '홍길동82', 'name83': '홍길동83', 'name84': '홍길동84', 'name85': '홍길동85', 'name86': '홍길동86', 'name87': '홍길동87', 'name88': '홍길동88', 'name89': '홍길동89', 'name90': '홍길동90', 'name91': '홍길동91', 'name92': '홍길동92', 'name93': '홍길동93', 'name94': '홍길동94', 'name95': '홍길동95', 'name96': '홍길동96', 'name97': '홍길동97', 'name98': '홍길동98', 'name99': '홍길동99', 'name100': '홍길동100'}\n"
     ]
    }
   ],
   "source": [
    "### 딕셔너리 변수생성 : dict3\n",
    "# - key값은 name1 ~ name100\n",
    "# - value값은 홍길동1 ~ 홍길동100\n",
    "dict3 = {}\n",
    "\n",
    "for i in range(1, 101, 1) :\n",
    "    dict3[f\"name{i}\"] = f\"홍길동{i}\"\n",
    "\n",
    "print(dict3)"
   ]
  },
  {
   "cell_type": "code",
   "execution_count": 110,
   "id": "5132fa2b-f096-4a74-8e02-e90ac110969a",
   "metadata": {},
   "outputs": [
    {
     "data": {
      "text/plain": [
       "dict_keys(['name1', 'name2', 'name3', 'name4', 'name5', 'name6', 'name7', 'name8', 'name9', 'name10', 'name11', 'name12', 'name13', 'name14', 'name15', 'name16', 'name17', 'name18', 'name19', 'name20', 'name21', 'name22', 'name23', 'name24', 'name25', 'name26', 'name27', 'name28', 'name29', 'name30', 'name31', 'name32', 'name33', 'name34', 'name35', 'name36', 'name37', 'name38', 'name39', 'name40', 'name41', 'name42', 'name43', 'name44', 'name45', 'name46', 'name47', 'name48', 'name49', 'name50', 'name51', 'name52', 'name53', 'name54', 'name55', 'name56', 'name57', 'name58', 'name59', 'name60', 'name61', 'name62', 'name63', 'name64', 'name65', 'name66', 'name67', 'name68', 'name69', 'name70', 'name71', 'name72', 'name73', 'name74', 'name75', 'name76', 'name77', 'name78', 'name79', 'name80', 'name81', 'name82', 'name83', 'name84', 'name85', 'name86', 'name87', 'name88', 'name89', 'name90', 'name91', 'name92', 'name93', 'name94', 'name95', 'name96', 'name97', 'name98', 'name99', 'name100'])"
      ]
     },
     "execution_count": 110,
     "metadata": {},
     "output_type": "execute_result"
    }
   ],
   "source": [
    "### 딕셔너리에서 key만 추출하기\n",
    "# - key() : key값 모두 리스트 타입으로 변환\n",
    "dict3.keys()"
   ]
  },
  {
   "cell_type": "code",
   "execution_count": 111,
   "id": "1438c353-bd6f-4b2f-ad2e-89c6f74b5bbb",
   "metadata": {},
   "outputs": [
    {
     "data": {
      "text/plain": [
       "dict_values(['홍길동1', '홍길동2', '홍길동3', '홍길동4', '홍길동5', '홍길동6', '홍길동7', '홍길동8', '홍길동9', '홍길동10', '홍길동11', '홍길동12', '홍길동13', '홍길동14', '홍길동15', '홍길동16', '홍길동17', '홍길동18', '홍길동19', '홍길동20', '홍길동21', '홍길동22', '홍길동23', '홍길동24', '홍길동25', '홍길동26', '홍길동27', '홍길동28', '홍길동29', '홍길동30', '홍길동31', '홍길동32', '홍길동33', '홍길동34', '홍길동35', '홍길동36', '홍길동37', '홍길동38', '홍길동39', '홍길동40', '홍길동41', '홍길동42', '홍길동43', '홍길동44', '홍길동45', '홍길동46', '홍길동47', '홍길동48', '홍길동49', '홍길동50', '홍길동51', '홍길동52', '홍길동53', '홍길동54', '홍길동55', '홍길동56', '홍길동57', '홍길동58', '홍길동59', '홍길동60', '홍길동61', '홍길동62', '홍길동63', '홍길동64', '홍길동65', '홍길동66', '홍길동67', '홍길동68', '홍길동69', '홍길동70', '홍길동71', '홍길동72', '홍길동73', '홍길동74', '홍길동75', '홍길동76', '홍길동77', '홍길동78', '홍길동79', '홍길동80', '홍길동81', '홍길동82', '홍길동83', '홍길동84', '홍길동85', '홍길동86', '홍길동87', '홍길동88', '홍길동89', '홍길동90', '홍길동91', '홍길동92', '홍길동93', '홍길동94', '홍길동95', '홍길동96', '홍길동97', '홍길동98', '홍길동99', '홍길동100'])"
      ]
     },
     "execution_count": 111,
     "metadata": {},
     "output_type": "execute_result"
    }
   ],
   "source": [
    "### 딕셔너리에서 value값들 모드 추출하기\n",
    "# - values() : 모든 값들을 리스트 타입으로 변환\n",
    "dict3.values()"
   ]
  },
  {
   "cell_type": "code",
   "execution_count": 112,
   "id": "53e82316-74c5-495a-bbf5-c22b0c3761e2",
   "metadata": {},
   "outputs": [
    {
     "data": {
      "text/plain": [
       "dict_items([('name1', '홍길동1'), ('name2', '홍길동2'), ('name3', '홍길동3'), ('name4', '홍길동4'), ('name5', '홍길동5'), ('name6', '홍길동6'), ('name7', '홍길동7'), ('name8', '홍길동8'), ('name9', '홍길동9'), ('name10', '홍길동10'), ('name11', '홍길동11'), ('name12', '홍길동12'), ('name13', '홍길동13'), ('name14', '홍길동14'), ('name15', '홍길동15'), ('name16', '홍길동16'), ('name17', '홍길동17'), ('name18', '홍길동18'), ('name19', '홍길동19'), ('name20', '홍길동20'), ('name21', '홍길동21'), ('name22', '홍길동22'), ('name23', '홍길동23'), ('name24', '홍길동24'), ('name25', '홍길동25'), ('name26', '홍길동26'), ('name27', '홍길동27'), ('name28', '홍길동28'), ('name29', '홍길동29'), ('name30', '홍길동30'), ('name31', '홍길동31'), ('name32', '홍길동32'), ('name33', '홍길동33'), ('name34', '홍길동34'), ('name35', '홍길동35'), ('name36', '홍길동36'), ('name37', '홍길동37'), ('name38', '홍길동38'), ('name39', '홍길동39'), ('name40', '홍길동40'), ('name41', '홍길동41'), ('name42', '홍길동42'), ('name43', '홍길동43'), ('name44', '홍길동44'), ('name45', '홍길동45'), ('name46', '홍길동46'), ('name47', '홍길동47'), ('name48', '홍길동48'), ('name49', '홍길동49'), ('name50', '홍길동50'), ('name51', '홍길동51'), ('name52', '홍길동52'), ('name53', '홍길동53'), ('name54', '홍길동54'), ('name55', '홍길동55'), ('name56', '홍길동56'), ('name57', '홍길동57'), ('name58', '홍길동58'), ('name59', '홍길동59'), ('name60', '홍길동60'), ('name61', '홍길동61'), ('name62', '홍길동62'), ('name63', '홍길동63'), ('name64', '홍길동64'), ('name65', '홍길동65'), ('name66', '홍길동66'), ('name67', '홍길동67'), ('name68', '홍길동68'), ('name69', '홍길동69'), ('name70', '홍길동70'), ('name71', '홍길동71'), ('name72', '홍길동72'), ('name73', '홍길동73'), ('name74', '홍길동74'), ('name75', '홍길동75'), ('name76', '홍길동76'), ('name77', '홍길동77'), ('name78', '홍길동78'), ('name79', '홍길동79'), ('name80', '홍길동80'), ('name81', '홍길동81'), ('name82', '홍길동82'), ('name83', '홍길동83'), ('name84', '홍길동84'), ('name85', '홍길동85'), ('name86', '홍길동86'), ('name87', '홍길동87'), ('name88', '홍길동88'), ('name89', '홍길동89'), ('name90', '홍길동90'), ('name91', '홍길동91'), ('name92', '홍길동92'), ('name93', '홍길동93'), ('name94', '홍길동94'), ('name95', '홍길동95'), ('name96', '홍길동96'), ('name97', '홍길동97'), ('name98', '홍길동98'), ('name99', '홍길동99'), ('name100', '홍길동100')])"
      ]
     },
     "execution_count": 112,
     "metadata": {},
     "output_type": "execute_result"
    }
   ],
   "source": [
    "### 딕셔너리 내에 key와 value의 모든 값들을 셋트로 추출하기\n",
    "# items() : 각 key와 value의 모든 값들을 리스트 타입으로 변환\n",
    "#         : 각 key와 value의 값들은 소괄호()로 묶어서 나옴 \n",
    "#         : 소괄호() -> 파이썬에서는 소괄호() 타입을 튜플 타입이라고 합니다.\n",
    "#         : 튜플 : 리스트와 기호만 다르고 동일하게 사용되는 형태\n",
    "dict3.items()"
   ]
  },
  {
   "cell_type": "code",
   "execution_count": 113,
   "id": "75a010c0-0265-49da-9a8a-3d3c12d2b65e",
   "metadata": {},
   "outputs": [],
   "source": [
    "# print(dict3)\n",
    "### keys() 함수를 결과를 이용해서 반복하기..\n",
    "# - 아래와 같이 출력하기\n",
    "#   key : name1, value :홍길동1 입니다.\n",
    "#   ...\n",
    "#   key : name100, value :홍길동100 입니다."
   ]
  },
  {
   "cell_type": "code",
   "execution_count": 115,
   "id": "6fa4a15b-fd91-4f87-b7f7-a09d2a39f42f",
   "metadata": {
    "scrolled": true
   },
   "outputs": [
    {
     "name": "stdout",
     "output_type": "stream",
     "text": [
      "key : name1, value : 홍길동1 입니다\n",
      "key : name2, value : 홍길동2 입니다\n",
      "key : name3, value : 홍길동3 입니다\n",
      "key : name4, value : 홍길동4 입니다\n",
      "key : name5, value : 홍길동5 입니다\n",
      "key : name6, value : 홍길동6 입니다\n",
      "key : name7, value : 홍길동7 입니다\n",
      "key : name8, value : 홍길동8 입니다\n",
      "key : name9, value : 홍길동9 입니다\n",
      "key : name10, value : 홍길동10 입니다\n",
      "key : name11, value : 홍길동11 입니다\n",
      "key : name12, value : 홍길동12 입니다\n",
      "key : name13, value : 홍길동13 입니다\n",
      "key : name14, value : 홍길동14 입니다\n",
      "key : name15, value : 홍길동15 입니다\n",
      "key : name16, value : 홍길동16 입니다\n",
      "key : name17, value : 홍길동17 입니다\n",
      "key : name18, value : 홍길동18 입니다\n",
      "key : name19, value : 홍길동19 입니다\n",
      "key : name20, value : 홍길동20 입니다\n",
      "key : name21, value : 홍길동21 입니다\n",
      "key : name22, value : 홍길동22 입니다\n",
      "key : name23, value : 홍길동23 입니다\n",
      "key : name24, value : 홍길동24 입니다\n",
      "key : name25, value : 홍길동25 입니다\n",
      "key : name26, value : 홍길동26 입니다\n",
      "key : name27, value : 홍길동27 입니다\n",
      "key : name28, value : 홍길동28 입니다\n",
      "key : name29, value : 홍길동29 입니다\n",
      "key : name30, value : 홍길동30 입니다\n",
      "key : name31, value : 홍길동31 입니다\n",
      "key : name32, value : 홍길동32 입니다\n",
      "key : name33, value : 홍길동33 입니다\n",
      "key : name34, value : 홍길동34 입니다\n",
      "key : name35, value : 홍길동35 입니다\n",
      "key : name36, value : 홍길동36 입니다\n",
      "key : name37, value : 홍길동37 입니다\n",
      "key : name38, value : 홍길동38 입니다\n",
      "key : name39, value : 홍길동39 입니다\n",
      "key : name40, value : 홍길동40 입니다\n",
      "key : name41, value : 홍길동41 입니다\n",
      "key : name42, value : 홍길동42 입니다\n",
      "key : name43, value : 홍길동43 입니다\n",
      "key : name44, value : 홍길동44 입니다\n",
      "key : name45, value : 홍길동45 입니다\n",
      "key : name46, value : 홍길동46 입니다\n",
      "key : name47, value : 홍길동47 입니다\n",
      "key : name48, value : 홍길동48 입니다\n",
      "key : name49, value : 홍길동49 입니다\n",
      "key : name50, value : 홍길동50 입니다\n",
      "key : name51, value : 홍길동51 입니다\n",
      "key : name52, value : 홍길동52 입니다\n",
      "key : name53, value : 홍길동53 입니다\n",
      "key : name54, value : 홍길동54 입니다\n",
      "key : name55, value : 홍길동55 입니다\n",
      "key : name56, value : 홍길동56 입니다\n",
      "key : name57, value : 홍길동57 입니다\n",
      "key : name58, value : 홍길동58 입니다\n",
      "key : name59, value : 홍길동59 입니다\n",
      "key : name60, value : 홍길동60 입니다\n",
      "key : name61, value : 홍길동61 입니다\n",
      "key : name62, value : 홍길동62 입니다\n",
      "key : name63, value : 홍길동63 입니다\n",
      "key : name64, value : 홍길동64 입니다\n",
      "key : name65, value : 홍길동65 입니다\n",
      "key : name66, value : 홍길동66 입니다\n",
      "key : name67, value : 홍길동67 입니다\n",
      "key : name68, value : 홍길동68 입니다\n",
      "key : name69, value : 홍길동69 입니다\n",
      "key : name70, value : 홍길동70 입니다\n",
      "key : name71, value : 홍길동71 입니다\n",
      "key : name72, value : 홍길동72 입니다\n",
      "key : name73, value : 홍길동73 입니다\n",
      "key : name74, value : 홍길동74 입니다\n",
      "key : name75, value : 홍길동75 입니다\n",
      "key : name76, value : 홍길동76 입니다\n",
      "key : name77, value : 홍길동77 입니다\n",
      "key : name78, value : 홍길동78 입니다\n",
      "key : name79, value : 홍길동79 입니다\n",
      "key : name80, value : 홍길동80 입니다\n",
      "key : name81, value : 홍길동81 입니다\n",
      "key : name82, value : 홍길동82 입니다\n",
      "key : name83, value : 홍길동83 입니다\n",
      "key : name84, value : 홍길동84 입니다\n",
      "key : name85, value : 홍길동85 입니다\n",
      "key : name86, value : 홍길동86 입니다\n",
      "key : name87, value : 홍길동87 입니다\n",
      "key : name88, value : 홍길동88 입니다\n",
      "key : name89, value : 홍길동89 입니다\n",
      "key : name90, value : 홍길동90 입니다\n",
      "key : name91, value : 홍길동91 입니다\n",
      "key : name92, value : 홍길동92 입니다\n",
      "key : name93, value : 홍길동93 입니다\n",
      "key : name94, value : 홍길동94 입니다\n",
      "key : name95, value : 홍길동95 입니다\n",
      "key : name96, value : 홍길동96 입니다\n",
      "key : name97, value : 홍길동97 입니다\n",
      "key : name98, value : 홍길동98 입니다\n",
      "key : name99, value : 홍길동99 입니다\n",
      "key : name100, value : 홍길동100 입니다\n"
     ]
    }
   ],
   "source": [
    "for i in dict3.keys() :\n",
    "    print(f\"key : {i}, value : {dict3[i]} 입니다\")"
   ]
  },
  {
   "cell_type": "code",
   "execution_count": 121,
   "id": "0c374288-ca60-4f3d-9903-1f6d6e14ba86",
   "metadata": {},
   "outputs": [
    {
     "data": {
      "text/plain": [
       "('name1', '홍길도1')"
      ]
     },
     "execution_count": 121,
     "metadata": {},
     "output_type": "execute_result"
    }
   ],
   "source": [
    "a = 1\n",
    "b = 2\n",
    "a, b\n",
    "\n",
    "a, b = (10, 50)\n",
    "a, b\n",
    "\n",
    "c, d = 10, 50\n",
    "c, d\n",
    "\n",
    "c, _ = (50, 60)\n",
    "c\n",
    "\n",
    "_, h = (50, 60)\n",
    "h\n",
    "\n",
    "k, v = ('name1', '홍길도1')\n",
    "k, v"
   ]
  },
  {
   "cell_type": "code",
   "execution_count": 124,
   "id": "074cf0fb-9f57-4e25-b129-df8da2e32d8f",
   "metadata": {},
   "outputs": [
    {
     "data": {
      "text/plain": [
       "dict_items([('name1', '홍길동1'), ('name2', '홍길동2'), ('name3', '홍길동3'), ('name4', '홍길동4'), ('name5', '홍길동5'), ('name6', '홍길동6'), ('name7', '홍길동7'), ('name8', '홍길동8'), ('name9', '홍길동9'), ('name10', '홍길동10'), ('name11', '홍길동11'), ('name12', '홍길동12'), ('name13', '홍길동13'), ('name14', '홍길동14'), ('name15', '홍길동15'), ('name16', '홍길동16'), ('name17', '홍길동17'), ('name18', '홍길동18'), ('name19', '홍길동19'), ('name20', '홍길동20'), ('name21', '홍길동21'), ('name22', '홍길동22'), ('name23', '홍길동23'), ('name24', '홍길동24'), ('name25', '홍길동25'), ('name26', '홍길동26'), ('name27', '홍길동27'), ('name28', '홍길동28'), ('name29', '홍길동29'), ('name30', '홍길동30'), ('name31', '홍길동31'), ('name32', '홍길동32'), ('name33', '홍길동33'), ('name34', '홍길동34'), ('name35', '홍길동35'), ('name36', '홍길동36'), ('name37', '홍길동37'), ('name38', '홍길동38'), ('name39', '홍길동39'), ('name40', '홍길동40'), ('name41', '홍길동41'), ('name42', '홍길동42'), ('name43', '홍길동43'), ('name44', '홍길동44'), ('name45', '홍길동45'), ('name46', '홍길동46'), ('name47', '홍길동47'), ('name48', '홍길동48'), ('name49', '홍길동49'), ('name50', '홍길동50'), ('name51', '홍길동51'), ('name52', '홍길동52'), ('name53', '홍길동53'), ('name54', '홍길동54'), ('name55', '홍길동55'), ('name56', '홍길동56'), ('name57', '홍길동57'), ('name58', '홍길동58'), ('name59', '홍길동59'), ('name60', '홍길동60'), ('name61', '홍길동61'), ('name62', '홍길동62'), ('name63', '홍길동63'), ('name64', '홍길동64'), ('name65', '홍길동65'), ('name66', '홍길동66'), ('name67', '홍길동67'), ('name68', '홍길동68'), ('name69', '홍길동69'), ('name70', '홍길동70'), ('name71', '홍길동71'), ('name72', '홍길동72'), ('name73', '홍길동73'), ('name74', '홍길동74'), ('name75', '홍길동75'), ('name76', '홍길동76'), ('name77', '홍길동77'), ('name78', '홍길동78'), ('name79', '홍길동79'), ('name80', '홍길동80'), ('name81', '홍길동81'), ('name82', '홍길동82'), ('name83', '홍길동83'), ('name84', '홍길동84'), ('name85', '홍길동85'), ('name86', '홍길동86'), ('name87', '홍길동87'), ('name88', '홍길동88'), ('name89', '홍길동89'), ('name90', '홍길동90'), ('name91', '홍길동91'), ('name92', '홍길동92'), ('name93', '홍길동93'), ('name94', '홍길동94'), ('name95', '홍길동95'), ('name96', '홍길동96'), ('name97', '홍길동97'), ('name98', '홍길동98'), ('name99', '홍길동99'), ('name100', '홍길동100')])"
      ]
     },
     "execution_count": 124,
     "metadata": {},
     "output_type": "execute_result"
    }
   ],
   "source": [
    "dict3.items()"
   ]
  },
  {
   "cell_type": "code",
   "execution_count": null,
   "id": "9bdaa82f-ad3d-44f1-bdcd-ca9f51593ddf",
   "metadata": {},
   "outputs": [],
   "source": [
    "# print(dict3)\n",
    "### itmes() 함수를 결과를 이용해서 반복하기..\n",
    "# - 아래와 같이 출력하기\n",
    "#   key : name1, value :홍길동1 입니다.\n",
    "#   ...\n",
    "#   key : name100, value :홍길동100 입니다."
   ]
  },
  {
   "cell_type": "code",
   "execution_count": 125,
   "id": "29572322-ab17-4b4a-8238-dadc1e24b674",
   "metadata": {
    "scrolled": true
   },
   "outputs": [
    {
     "name": "stdout",
     "output_type": "stream",
     "text": [
      "key : name1, value : 홍길동1 입니다.\n",
      "key : name2, value : 홍길동2 입니다.\n",
      "key : name3, value : 홍길동3 입니다.\n",
      "key : name4, value : 홍길동4 입니다.\n",
      "key : name5, value : 홍길동5 입니다.\n",
      "key : name6, value : 홍길동6 입니다.\n",
      "key : name7, value : 홍길동7 입니다.\n",
      "key : name8, value : 홍길동8 입니다.\n",
      "key : name9, value : 홍길동9 입니다.\n",
      "key : name10, value : 홍길동10 입니다.\n",
      "key : name11, value : 홍길동11 입니다.\n",
      "key : name12, value : 홍길동12 입니다.\n",
      "key : name13, value : 홍길동13 입니다.\n",
      "key : name14, value : 홍길동14 입니다.\n",
      "key : name15, value : 홍길동15 입니다.\n",
      "key : name16, value : 홍길동16 입니다.\n",
      "key : name17, value : 홍길동17 입니다.\n",
      "key : name18, value : 홍길동18 입니다.\n",
      "key : name19, value : 홍길동19 입니다.\n",
      "key : name20, value : 홍길동20 입니다.\n",
      "key : name21, value : 홍길동21 입니다.\n",
      "key : name22, value : 홍길동22 입니다.\n",
      "key : name23, value : 홍길동23 입니다.\n",
      "key : name24, value : 홍길동24 입니다.\n",
      "key : name25, value : 홍길동25 입니다.\n",
      "key : name26, value : 홍길동26 입니다.\n",
      "key : name27, value : 홍길동27 입니다.\n",
      "key : name28, value : 홍길동28 입니다.\n",
      "key : name29, value : 홍길동29 입니다.\n",
      "key : name30, value : 홍길동30 입니다.\n",
      "key : name31, value : 홍길동31 입니다.\n",
      "key : name32, value : 홍길동32 입니다.\n",
      "key : name33, value : 홍길동33 입니다.\n",
      "key : name34, value : 홍길동34 입니다.\n",
      "key : name35, value : 홍길동35 입니다.\n",
      "key : name36, value : 홍길동36 입니다.\n",
      "key : name37, value : 홍길동37 입니다.\n",
      "key : name38, value : 홍길동38 입니다.\n",
      "key : name39, value : 홍길동39 입니다.\n",
      "key : name40, value : 홍길동40 입니다.\n",
      "key : name41, value : 홍길동41 입니다.\n",
      "key : name42, value : 홍길동42 입니다.\n",
      "key : name43, value : 홍길동43 입니다.\n",
      "key : name44, value : 홍길동44 입니다.\n",
      "key : name45, value : 홍길동45 입니다.\n",
      "key : name46, value : 홍길동46 입니다.\n",
      "key : name47, value : 홍길동47 입니다.\n",
      "key : name48, value : 홍길동48 입니다.\n",
      "key : name49, value : 홍길동49 입니다.\n",
      "key : name50, value : 홍길동50 입니다.\n",
      "key : name51, value : 홍길동51 입니다.\n",
      "key : name52, value : 홍길동52 입니다.\n",
      "key : name53, value : 홍길동53 입니다.\n",
      "key : name54, value : 홍길동54 입니다.\n",
      "key : name55, value : 홍길동55 입니다.\n",
      "key : name56, value : 홍길동56 입니다.\n",
      "key : name57, value : 홍길동57 입니다.\n",
      "key : name58, value : 홍길동58 입니다.\n",
      "key : name59, value : 홍길동59 입니다.\n",
      "key : name60, value : 홍길동60 입니다.\n",
      "key : name61, value : 홍길동61 입니다.\n",
      "key : name62, value : 홍길동62 입니다.\n",
      "key : name63, value : 홍길동63 입니다.\n",
      "key : name64, value : 홍길동64 입니다.\n",
      "key : name65, value : 홍길동65 입니다.\n",
      "key : name66, value : 홍길동66 입니다.\n",
      "key : name67, value : 홍길동67 입니다.\n",
      "key : name68, value : 홍길동68 입니다.\n",
      "key : name69, value : 홍길동69 입니다.\n",
      "key : name70, value : 홍길동70 입니다.\n",
      "key : name71, value : 홍길동71 입니다.\n",
      "key : name72, value : 홍길동72 입니다.\n",
      "key : name73, value : 홍길동73 입니다.\n",
      "key : name74, value : 홍길동74 입니다.\n",
      "key : name75, value : 홍길동75 입니다.\n",
      "key : name76, value : 홍길동76 입니다.\n",
      "key : name77, value : 홍길동77 입니다.\n",
      "key : name78, value : 홍길동78 입니다.\n",
      "key : name79, value : 홍길동79 입니다.\n",
      "key : name80, value : 홍길동80 입니다.\n",
      "key : name81, value : 홍길동81 입니다.\n",
      "key : name82, value : 홍길동82 입니다.\n",
      "key : name83, value : 홍길동83 입니다.\n",
      "key : name84, value : 홍길동84 입니다.\n",
      "key : name85, value : 홍길동85 입니다.\n",
      "key : name86, value : 홍길동86 입니다.\n",
      "key : name87, value : 홍길동87 입니다.\n",
      "key : name88, value : 홍길동88 입니다.\n",
      "key : name89, value : 홍길동89 입니다.\n",
      "key : name90, value : 홍길동90 입니다.\n",
      "key : name91, value : 홍길동91 입니다.\n",
      "key : name92, value : 홍길동92 입니다.\n",
      "key : name93, value : 홍길동93 입니다.\n",
      "key : name94, value : 홍길동94 입니다.\n",
      "key : name95, value : 홍길동95 입니다.\n",
      "key : name96, value : 홍길동96 입니다.\n",
      "key : name97, value : 홍길동97 입니다.\n",
      "key : name98, value : 홍길동98 입니다.\n",
      "key : name99, value : 홍길동99 입니다.\n",
      "key : name100, value : 홍길동100 입니다.\n"
     ]
    }
   ],
   "source": [
    "for k, v in dict3.items() :\n",
    "    print(f\"key : {k}, value : {v} 입니다.\")"
   ]
  },
  {
   "cell_type": "code",
   "execution_count": 171,
   "id": "c8f07f0a-7729-4b03-aa58-2df748c81619",
   "metadata": {},
   "outputs": [
    {
     "name": "stdout",
     "output_type": "stream",
     "text": [
      "짝수 리스트 : ['홍길동2', '홍길동4', '홍길동6', '홍길동8', '홍길동10', '홍길동12', '홍길동14', '홍길동16', '홍길동18', '홍길동20', '홍길동22', '홍길동24', '홍길동26', '홍길동28', '홍길동30', '홍길동32', '홍길동34', '홍길동36', '홍길동38', '홍길동40', '홍길동42', '홍길동44', '홍길동46', '홍길동48', '홍길동50', '홍길동52', '홍길동54', '홍길동56', '홍길동58', '홍길동60', '홍길동62', '홍길동64', '홍길동66', '홍길동68', '홍길동70', '홍길동72', '홍길동74', '홍길동76', '홍길동78', '홍길동80', '홍길동82', '홍길동84', '홍길동86', '홍길동88', '홍길동90', '홍길동92', '홍길동94', '홍길동96', '홍길동98', '홍길동100']\n",
      "\n",
      "홀수 리스트 : ['홍길동1', '홍길동3', '홍길동5', '홍길동7', '홍길동9', '홍길동11', '홍길동13', '홍길동15', '홍길동17', '홍길동19', '홍길동21', '홍길동23', '홍길동25', '홍길동27', '홍길동29', '홍길동31', '홍길동33', '홍길동35', '홍길동37', '홍길동39', '홍길동41', '홍길동43', '홍길동45', '홍길동47', '홍길동49', '홍길동51', '홍길동53', '홍길동55', '홍길동57', '홍길동59', '홍길동61', '홍길동63', '홍길동65', '홍길동67', '홍길동69', '홍길동71', '홍길동73', '홍길동75', '홍길동77', '홍길동79', '홍길동81', '홍길동83', '홍길동85', '홍길동87', '홍길동89', '홍길동91', '홍길동93', '홍길동95', '홍길동97', '홍길동99']\n"
     ]
    }
   ],
   "source": [
    "### 짝수 및 홀스 리스트 깨끗한 변수 2개 생성\n",
    "# - 리스트 변수명 : 짝수 리스트명(list_even), 홀스 리스트명(list_odd)\n",
    "# - 딕셔너리 데이터의 key 또는 value의 값 뒷에 숫자가 짝수이면 list1에 추가\n",
    "#                                                    홀수이면 list2에 추가\n",
    "# - 최종 결과 확인 : list1, list2 각각 확인...\n",
    "list_even = []\n",
    "list_odd = []\n",
    "\n",
    "for k, v in dict3.items() :\n",
    "    n = int(k[4:])\n",
    "\n",
    "    if n % 2 == 0 :\n",
    "        list_even.append(v)\n",
    "    else :\n",
    "        list_odd.append(v)\n",
    "\n",
    "print(f\"짝수 리스트 : {list_even}\\n\")\n",
    "print(f\"홀수 리스트 : {list_odd}\")\n",
    "        "
   ]
  },
  {
   "cell_type": "code",
   "execution_count": 176,
   "id": "72503980-d259-4ac7-891e-855e4f23a99d",
   "metadata": {},
   "outputs": [
    {
     "name": "stdout",
     "output_type": "stream",
     "text": [
      "짝수 리스트 : ['홍길동2', '홍길동4', '홍길동6', '홍길동8', '홍길동10', '홍길동12', '홍길동14', '홍길동16', '홍길동18', '홍길동20', '홍길동22', '홍길동24', '홍길동26', '홍길동28', '홍길동30', '홍길동32', '홍길동34', '홍길동36', '홍길동38', '홍길동40', '홍길동42', '홍길동44', '홍길동46', '홍길동48', '홍길동50', '홍길동52', '홍길동54', '홍길동56', '홍길동58', '홍길동60', '홍길동62', '홍길동64', '홍길동66', '홍길동68', '홍길동70', '홍길동72', '홍길동74', '홍길동76', '홍길동78', '홍길동80', '홍길동82', '홍길동84', '홍길동86', '홍길동88', '홍길동90', '홍길동92', '홍길동94', '홍길동96', '홍길동98', '홍길동100']\n",
      "\n",
      "홀수 리스트 : ['홍길동1', '홍길동3', '홍길동5', '홍길동7', '홍길동9', '홍길동11', '홍길동13', '홍길동15', '홍길동17', '홍길동19', '홍길동21', '홍길동23', '홍길동25', '홍길동27', '홍길동29', '홍길동31', '홍길동33', '홍길동35', '홍길동37', '홍길동39', '홍길동41', '홍길동43', '홍길동45', '홍길동47', '홍길동49', '홍길동51', '홍길동53', '홍길동55', '홍길동57', '홍길동59', '홍길동61', '홍길동63', '홍길동65', '홍길동67', '홍길동69', '홍길동71', '홍길동73', '홍길동75', '홍길동77', '홍길동79', '홍길동81', '홍길동83', '홍길동85', '홍길동87', '홍길동89', '홍길동91', '홍길동93', '홍길동95', '홍길동97', '홍길동99']\n"
     ]
    }
   ],
   "source": [
    "list_e= []\n",
    "list_o = []\n",
    "\n",
    "for val in dict3.values() :\n",
    "    ### 짝수인 경우\n",
    "    if int(val[-1]) % 2 == 0 :\n",
    "        list_e.append(val)\n",
    "    else :\n",
    "        list_o.append(val)\n",
    "\n",
    "print(f\"짝수 리스트 : {list_e}\" \"\\n\\n\" f\"홀수 리스트 : {list_o}\")\n",
    "\n",
    "        "
   ]
  },
  {
   "cell_type": "markdown",
   "id": "047681c2-8c56-40ee-b29d-c3e270778c5e",
   "metadata": {},
   "source": [
    "## 실습"
   ]
  },
  {
   "cell_type": "code",
   "execution_count": null,
   "id": "d00ebf99-78db-489a-a4d2-8914253b92d4",
   "metadata": {},
   "outputs": [],
   "source": [
    "\"\"\"\n",
    "* 이름, 나이, 지역 데이터 관리하기\n",
    "    - 이름, 나이, 주소는 디셔너리 타입 사용\n",
    "    - 데이터 추가시 {name:이름, age:나이, area:지역} 딕셔너리 형태를 리스트에 추가하여 관리\n",
    "\n",
    "* 리스트 변수명 : data_list\n",
    "* [{name:이름, age:나이, area:지역}]\n",
    "   {name:이름, age:나이, area:지역}]\n",
    "   {name:이름, age:나이, area:지역}\n",
    "   ...]\n",
    "\"\"\""
   ]
  },
  {
   "cell_type": "code",
   "execution_count": 34,
   "id": "047db056-ec68-4f48-a7d8-6880e573d85a",
   "metadata": {},
   "outputs": [
    {
     "name": "stdin",
     "output_type": "stream",
     "text": [
      "아래 번호 중에 하나를 선택하여 주세요(번호로 입력)\n",
      "0. 종료\n",
      "1. 값 추가\n",
      "2. 전체 검색\n",
      "3. 검색\n",
      "4. 삭제\n",
      "5. 수정\n",
      " 1\n",
      "이름을 입력해 주세요. 보경\n",
      "나이를 입력해 주세요. 25\n",
      "지역을 입력해 주세요. 부산\n"
     ]
    },
    {
     "name": "stdout",
     "output_type": "stream",
     "text": [
      "보경님의 정보가 저장 되었습니다.\n",
      "\n"
     ]
    },
    {
     "name": "stdin",
     "output_type": "stream",
     "text": [
      "아래 번호 중에 하나를 선택하여 주세요(번호로 입력)\n",
      "0. 종료\n",
      "1. 값 추가\n",
      "2. 전체 검색\n",
      "3. 검색\n",
      "4. 삭제\n",
      "5. 수정\n",
      " 3\n"
     ]
    },
    {
     "name": "stdout",
     "output_type": "stream",
     "text": [
      "\n"
     ]
    },
    {
     "name": "stdin",
     "output_type": "stream",
     "text": [
      "아래 번호 중에 하나를 선택하여 주세요(번호로 입력)\n",
      "0. 종료\n",
      "1. 값 추가\n",
      "2. 전체 검색\n",
      "3. 검색\n",
      "4. 삭제\n",
      "5. 수정\n",
      " 0\n"
     ]
    },
    {
     "name": "stdout",
     "output_type": "stream",
     "text": [
      "종료합니다.\n"
     ]
    }
   ],
   "source": [
    "## 임의의 값 입력 받기 위한 안내 메시지\n",
    "msg = \"\"\"아래 번호 중에 하나를 선택하여 주세요(번호로 입력)\n",
    "0. 종료\n",
    "1. 값 추가\n",
    "2. 전체 검색\n",
    "3. 검색\n",
    "4. 삭제\n",
    "5. 수정\n",
    "\"\"\"\n",
    "\n",
    "#리스트 변수명 & 딕셔너리\n",
    "data_list = {}\n",
    "\n",
    "while True :\n",
    "    choose = int(input(msg))\n",
    "\n",
    "    ### 0번 : 종료\n",
    "    if choose == 0 :\n",
    "        print(\"종료합니다.\")\n",
    "        break\n",
    "        \n",
    "    ### 1번 : 값 추가\n",
    "    elif choose == 1 :\n",
    "        name = input(\"이름을 입력해 주세요.\")\n",
    "        if name in data_list :\n",
    "            print(\"이미 등록된 정보입니다.\")\n",
    "            continue \n",
    "             \n",
    "        age = int(input(\"나이를 입력해 주세요.\"))\n",
    "        area = input(\"지역을 입력해 주세요.\")\n",
    "\n",
    "        ### 데이터(값) 추가하기\n",
    "        # {\"이순신\" : {{\"이름\" : \"홍길동\", \"나이\" : age, \"지역\" : area}}}\n",
    "        data_list[name] = {\"나이\" : age, \"지역\" : area}\n",
    "        print(f\"{name}님의 정보가 저장 되었습니다.\")\n",
    "\n",
    "    ### 2번 : 전체 검색\n",
    "    elif choose == 2 :\n",
    "        if not data_list :\n",
    "            print(\"저장된 정보가 없습니다\")\n",
    "        else :\n",
    "            print(\"전체 정보\")\n",
    "            for name, info in data_list.items() :\n",
    "                print(f\"이름 : {name}, 나이 : {info['나이']}, 지역 : {info['지역']}\")\n",
    "\n",
    "    ### 3번 : 검색\n",
    "    elif choose == 3 :\n",
    "        s_name = input(\"검색할 정보의 이름을 입력해 주세요.\")\n",
    "        if not data_list :\n",
    "            print(\"저장된 정보가 없습니다.\")\n",
    "        \n",
    "        elif s_name in data_list :\n",
    "            print(\"검색하신 정보입니다.\") \n",
    "            print(f\"이름 : {name}, 나이 : {info['나이']}, 지역 : {info['지역']}\")\n",
    "\n",
    "        else :\n",
    "            print(\"등록되지 않은 정보입니다\")\n",
    "\n",
    "    ### 4번 : 삭제\n",
    "    elif choose == 4 :        \n",
    "        s_name = input(\"삭제할 정보의 이름을 입력해 주세요.\")\n",
    "        if not data_list :\n",
    "            print(\"삭제할 정보가 없습니다.\")\n",
    "            \n",
    "        elif s_name in data_list :\n",
    "            del data_list[s_name]\n",
    "            print(f\"{name}님의 정보가 정상적으로 삭제 처리 되었습니다.\")\n",
    "\n",
    "        else :\n",
    "            print(\"등록되지 않은 정보입니다\")\n",
    "\n",
    "    ### 5번 : 수정\n",
    "    elif choose == 5 :\n",
    "        s_name = input(\"수정할 정보의 이름을 입력해 주세요.\")\n",
    "\n",
    "        if not data_list : (\"수정할 정보가 없습니다\")\n",
    "\n",
    "        elif s_name in data_list:\n",
    "                \n",
    "                while True :\n",
    "                    print(\"수정할 항목을 선택해 주세요\")\n",
    "                    print(\"1. 이름 수정\")\n",
    "                    print(\"2. 나이 수정\")\n",
    "                    print(\"3. 지역 수정\")\n",
    "                    print(\"4. 수정 종료\")\n",
    "    \n",
    "                    choose2 = int(input(\"번호를 선택 해 주세요\"))\n",
    "    \n",
    "                    if choose2 == 1 :\n",
    "                        n_name = input(\"수정할 이름을 작성해주세요\")\n",
    "                        \n",
    "                        if n_name in data_list :\n",
    "                            print(\"이미 존재하는 이름입니다. 다시 입력해 주세요.\")\n",
    "                            continue\n",
    "\n",
    "                        data_list[n_name] = data_list.pop(s_name)\n",
    "                        s_name = n_name\n",
    "                        print(\"이름이 수정되었습니다.\")\n",
    "    \n",
    "                    elif choose2 == 2 :\n",
    "                        data_list[s_name]['나이'] = input(\"수정할 나이을 작성해주세요\")\n",
    "                        print(\"이름이 수정되었습니다\")\n",
    "    \n",
    "                    elif choose2 == 3 :\n",
    "                        data_list[s_name]['지역'] = input(\"수정할 지역을 작성해주세요\")\n",
    "                        print(\"이름이 수정되었습니다\")\n",
    "    \n",
    "                    elif choose2 == 4 :\n",
    "                        print(\"수정을 종료합니다.\")\n",
    "                        break\n",
    "\n",
    "\n",
    "    else :\n",
    "        print(\"올바른 정보를 입력해 주세요.\")\n",
    "\n",
    "                    \n",
    "    print()"
   ]
  },
  {
   "cell_type": "code",
   "execution_count": 23,
   "id": "68adcf26-058b-42b6-a2b8-4317737cdd62",
   "metadata": {},
   "outputs": [],
   "source": [
    "msg = \"\"\"아래 번호 중에 하나를 선택하여 주세요(번호로 입력)\n",
    "0. 종료\n",
    "1. 값 추가\n",
    "2. 전체 검색\n",
    "3. 검색\n",
    "4. 삭제\n",
    "5. 수정\n",
    "\"\"\"\n",
    "\n",
    "#리스트 변수명 & 딕셔너리\n",
    "data_list = []"
   ]
  },
  {
   "cell_type": "code",
   "execution_count": 24,
   "id": "330498b4-989d-402a-906f-3335752a23e9",
   "metadata": {},
   "outputs": [
    {
     "name": "stdout",
     "output_type": "stream",
     "text": [
      "아래 번호 중에 하나를 선택하여 주세요(번호로 입력)\n",
      "0. 종료\n",
      "1. 값 추가\n",
      "2. 전체 검색\n",
      "3. 검색\n",
      "4. 삭제\n",
      "5. 수정\n",
      "\n",
      " \n"
     ]
    },
    {
     "name": "stdin",
     "output_type": "stream",
     "text": [
      "번호로 메뉴 선택 :  1\n"
     ]
    },
    {
     "name": "stdout",
     "output_type": "stream",
     "text": [
      " -- *** -- \n",
      "신규 등록을 위해 정보를 입력하세요.\n",
      " \n",
      "이름을 입력하세요\n"
     ]
    },
    {
     "name": "stdin",
     "output_type": "stream",
     "text": [
      "이름 :  보경\n"
     ]
    },
    {
     "name": "stdout",
     "output_type": "stream",
     "text": [
      "나이를 입력하세요.\n"
     ]
    },
    {
     "name": "stdin",
     "output_type": "stream",
     "text": [
      "나이 :  25\n"
     ]
    },
    {
     "name": "stdout",
     "output_type": "stream",
     "text": [
      "지역을 입력하세요.\n",
      " \n"
     ]
    },
    {
     "name": "stdin",
     "output_type": "stream",
     "text": [
      "지역 :  부산\n"
     ]
    },
    {
     "name": "stdout",
     "output_type": "stream",
     "text": [
      "보경님의 정보가 추가되었습니다.\n",
      " \n",
      "안내 : 메뉴로 이동합니다.\n",
      " -- *** -- \n",
      "아래 번호 중에 하나를 선택하여 주세요(번호로 입력)\n",
      "0. 종료\n",
      "1. 값 추가\n",
      "2. 전체 검색\n",
      "3. 검색\n",
      "4. 삭제\n",
      "5. 수정\n",
      "\n",
      " \n"
     ]
    },
    {
     "name": "stdin",
     "output_type": "stream",
     "text": [
      "번호로 메뉴 선택 :  2\n"
     ]
    },
    {
     "name": "stdout",
     "output_type": "stream",
     "text": [
      " -- *** -- \n",
      "저장된 정보 목록입니다.\n",
      " \n",
      "이름: 보경, 나이: 25, 지역: 부산\n",
      " \n",
      "안내 : 메뉴로 이동합니다.\n",
      " -- *** -- \n",
      "아래 번호 중에 하나를 선택하여 주세요(번호로 입력)\n",
      "0. 종료\n",
      "1. 값 추가\n",
      "2. 전체 검색\n",
      "3. 검색\n",
      "4. 삭제\n",
      "5. 수정\n",
      "\n",
      " \n"
     ]
    },
    {
     "name": "stdin",
     "output_type": "stream",
     "text": [
      "번호로 메뉴 선택 :  5\n"
     ]
    },
    {
     "name": "stdout",
     "output_type": "stream",
     "text": [
      "검색할 이름을 입력하세요\n"
     ]
    },
    {
     "name": "stdin",
     "output_type": "stream",
     "text": [
      "이름 :  보경\n"
     ]
    },
    {
     "name": "stdout",
     "output_type": "stream",
     "text": [
      "'보경'님의 정보를 수정합니다.\n",
      " \n",
      "어떤 항목을 수정하시겠습니까?\n",
      "1. 이름\n",
      "2. 나이\n",
      "3. 지역\n",
      "4. 전부 수정\n",
      " \n"
     ]
    },
    {
     "name": "stdin",
     "output_type": "stream",
     "text": [
      "수정할 항목 번호를 입력하세요 :  3\n"
     ]
    },
    {
     "name": "stdout",
     "output_type": "stream",
     "text": [
      " \n"
     ]
    },
    {
     "name": "stdin",
     "output_type": "stream",
     "text": [
      "새로운 지역을 입력하세요 :  서울\n"
     ]
    },
    {
     "name": "stdout",
     "output_type": "stream",
     "text": [
      "지역이 '서울'으로 수정되었습니다.\n",
      " \n",
      "수정이 완료되었습니다.\n",
      "안내 : 메뉴로 이동합니다.\n",
      " -- *** -- \n",
      "아래 번호 중에 하나를 선택하여 주세요(번호로 입력)\n",
      "0. 종료\n",
      "1. 값 추가\n",
      "2. 전체 검색\n",
      "3. 검색\n",
      "4. 삭제\n",
      "5. 수정\n",
      "\n",
      " \n"
     ]
    },
    {
     "name": "stdin",
     "output_type": "stream",
     "text": [
      "번호로 메뉴 선택 :  0\n"
     ]
    },
    {
     "name": "stdout",
     "output_type": "stream",
     "text": [
      "입력이 종료 되었습니다.\n"
     ]
    }
   ],
   "source": [
    "\n",
    "while True:\n",
    "    print(msg)\n",
    "    print(\" \")\n",
    "    menw = int(input(\"번호로 메뉴 선택 : \"))\n",
    "\n",
    "    # 종료 메뉴 선택\n",
    "    if menw == 0:\n",
    "        print(\"입력이 종료 되었습니다.\")\n",
    "        break\n",
    "    \n",
    "    # 정보 입력 선택\n",
    "    elif menw == 1:\n",
    "        print(\" -- *** -- \")\n",
    "        print('신규 등록을 위해 정보를 입력하세요.')\n",
    "        print(' ')\n",
    "        print(\"이름을 입력하세요\")\n",
    "        p_name = input(\"이름 : \")\n",
    "\n",
    "        s_name = False # 이름 중복이 아닌 경우 \n",
    "\n",
    "        # 이름 중복 확인\n",
    "        for person in data_list:\n",
    "            if person['name'] == p_name :\n",
    "                print(f\"'{p_name}'님은 이미 등록된 이름입니다. 다른 이름을 입력해주세요.\")\n",
    "                s_name = True # 중복일 때 True로\n",
    "\n",
    "        if s_name == False :\n",
    "            # 이름 중복이 없을 때\n",
    "            # 이름이 중복되지 않으면 나이와 지역 입력\n",
    "            print(\"나이를 입력하세요.\")\n",
    "            p_age = input(\"나이 : \")\n",
    "\n",
    "            print(\"지역을 입력하세요.\")\n",
    "            print(' ')\n",
    "            p_area = input(\"지역 : \")\n",
    "\n",
    "            # 입력값을 딕셔너리로 만들어 리스트에 추가\n",
    "            person = {'name' : p_name, 'age' : p_age, 'area' : p_area}\n",
    "            data_list.append(person)\n",
    "\n",
    "            print(f\"{p_name}님의 정보가 추가되었습니다.\")\n",
    "            print(' ')\n",
    "            print(\"안내 : 메뉴로 이동합니다.\")\n",
    "            print(\" -- *** -- \")\n",
    "\n",
    "    # 정보 확인 선택\n",
    "    elif menw == 2:\n",
    "        print(\" -- *** -- \")\n",
    "        print(\"저장된 정보 목록입니다.\")\n",
    "        print(' ')\n",
    "\n",
    "        if not data_list:\n",
    "            print(\"등록된 정보가 없습니다.\")\n",
    "        else:\n",
    "            for person in data_list:\n",
    "                print(f\"이름: {person['name']}, 나이: {person['age']}, 지역: {person['area']}\")\n",
    "\n",
    "        print(' ')\n",
    "        print(\"안내 : 메뉴로 이동합니다.\")\n",
    "        print(\" -- *** -- \")\n",
    "\n",
    "    # 정보 검색 선택\n",
    "    elif menw == 3 :\n",
    "        print(\"검색 할 이름을 입력하세요.\")\n",
    "        s_name = input(\"이름 입력 : \")\n",
    "        print(\" \")\n",
    "\n",
    "        # 리스트 내 이름 검색 후 해당 값 출력\n",
    "        for person in data_list:\n",
    "            if person['name'] == s_name :\n",
    "                print(f\"'{s_name}'님의 정보 확인.\")\n",
    "                print(f\"이름: {person['name']}, 나이: {person['age']}, 지역: {person['area']}\")\n",
    "                print(' ')\n",
    "                print(\"안내 : 메뉴로 이동합니다.\")\n",
    "                print(\" -- *** -- \")\n",
    "                break\n",
    "            else :\n",
    "                print(\"등록된 정보가 존재하지 않습니다.\")\n",
    "                print(' ')\n",
    "                print(\"안내 : 메뉴로 이동합니다.\")\n",
    "                print(\" -- *** -- \")\n",
    "                break\n",
    "\n",
    "    # 정보 삭제 선택\n",
    "    elif menw == 4 :\n",
    "        print(\"삭제할 이름을 입력하세요\")\n",
    "        p_name = input(\"이름 : \")\n",
    "\n",
    "        s_name = True  # 검색한 이름이 정보에 있을 경우\n",
    "\n",
    "        # 이름 중복 확인\n",
    "        for person in data_list :\n",
    "            if person['name'] == p_name:\n",
    "                print(f\"'{p_name}'님의 정보를 삭제하시겠습니까?\")\n",
    "                ans = input(\"삭제하시겠습니까? (y / n) : \")\n",
    "                print(' ')\n",
    "\n",
    "                if ans.lower() == 'y' :\n",
    "                    data_list.remove(person)  # 이름과 일치하는 정보 삭제\n",
    "                    s_name = False  # 삭제 후 False로\n",
    "                    print(f\"'{p_name}'님의 정보가 정상적으로 삭제되었습니다.\")\n",
    "                    print(\"안내 : 메뉴로 이동합니다.\")\n",
    "                    print(\" -- *** -- \")\n",
    "                    break  # 삭제 후 루프를 종료\n",
    "\n",
    "        if s_name :  # 정보가 없을 경우\n",
    "            print('등록된 정보가 존재하지 않습니다.')\n",
    "            print(' ')\n",
    "            print(\"안내 : 메뉴로 이동합니다.\")\n",
    "            print(\" -- *** -- \")\n",
    "\n",
    "    # 정보 수정 선택\n",
    "    elif menw == 5 :\n",
    "        print(\"검색할 이름을 입력하세요\")\n",
    "        p_name = input(\"이름 : \")\n",
    "\n",
    "        s_name = True  # 이름 중복인 경우\n",
    "\n",
    "        # 이름 중복 확인\n",
    "        for person in data_list :\n",
    "            if person['name'] == p_name :\n",
    "                s_name = False  # 이름이 존재하는 경우\n",
    "\n",
    "                print(f\"'{p_name}'님의 정보를 수정합니다.\")\n",
    "                print(' ')\n",
    "                print(\"어떤 항목을 수정하시겠습니까?\")\n",
    "                print(\"1. 이름\")\n",
    "                print(\"2. 나이\")\n",
    "                print(\"3. 지역\")\n",
    "                print(\"4. 전부 수정\")\n",
    "                print(' ')\n",
    "                choice = input(\"수정할 항목 번호를 입력하세요 : \")\n",
    "                print(' ')\n",
    "\n",
    "                if choice == '1' :\n",
    "                    new_name = input(\"새로운 이름을 입력하세요 : \")\n",
    "                    person['name'] = new_name\n",
    "                    print(f\"이름이 '{new_name}'로 수정되었습니다.\")\n",
    "                    print(' ')\n",
    "\n",
    "                elif choice == '2' :\n",
    "                    new_age = input(\"새로운 나이를 입력하세요 : \")\n",
    "                    person['age'] = new_age\n",
    "                    print(f\"나이가 '{new_age}'로 수정되었습니다.\")\n",
    "                    print(' ')\n",
    "\n",
    "                elif choice == '3' :\n",
    "                    new_region = input(\"새로운 지역을 입력하세요 : \")\n",
    "                    person['region'] = new_region\n",
    "                    print(f\"지역이 '{new_region}'으로 수정되었습니다.\")\n",
    "                    print(' ')\n",
    "\n",
    "                elif choice == '4' :\n",
    "                    new_name = input(\"새로운 이름을 입력하세요 : \")\n",
    "                    new_age = input(\"새로운 나이를 입력하세요 : \")\n",
    "                    new_region = input(\"새로운 지역을 입력하세요 : \")\n",
    "                    print(' ')\n",
    "\n",
    "                    person['name'] = new_name\n",
    "                    person['age'] = new_age\n",
    "                    person['region'] = new_region\n",
    "                    print(f\"수정되었습니다 : 이름 : {new_name}, 나이 : {new_age}, 지역 : {new_region}\")\n",
    "                    print(' ')\n",
    "\n",
    "                else:\n",
    "                    print(\"잘못된 번호를 입력하셨습니다.\")\n",
    "                    print(' ')\n",
    "\n",
    "                print(\"수정이 완료되었습니다.\")\n",
    "                print(\"안내 : 메뉴로 이동합니다.\")\n",
    "                print(\" -- *** -- \")\n",
    "                break  # 수정 후 루프 종료\n",
    "\n",
    "        if s_name :  # 이름이 존재하지 않으면\n",
    "            print('등록된 정보가 존재하지 않습니다.')\n",
    "            print(' ')\n",
    "            print(\"안내 : 메뉴로 이동합니다.\")\n",
    "            print(\" -- *** -- \")\n",
    "\n",
    "    else :\n",
    "        print(\"입력 번호를 확인해주세요.\")\n",
    "        print(\"메뉴로 이동합니다.\")\n",
    "        print(\" -- *** -- \")\n",
    "        continue\n"
   ]
  },
  {
   "cell_type": "code",
   "execution_count": null,
   "id": "4edce741-08ae-4b7b-bfc2-06acb800716b",
   "metadata": {},
   "outputs": [],
   "source": [
    "\n",
    "\n",
    "\n",
    "\n",
    "data_list = []\n",
    "\n",
    "\n",
    "\n",
    "\n",
    "msg = \"\"\" 아래 번호중에 하나를 선택해 주세요(번호로 입력) :\n",
    "          0 : 종료\n",
    "          1 : 값 추가\n",
    "          2 : 전체 검색\n",
    "          3 : 이름으로 검색하기\n",
    "          4 : 이름으로 삭제하기\n",
    "          5 : 수정하기 (이름을 입력하시오.)\n",
    "\"\"\"\n",
    "\n",
    "while True :\n",
    "    \n",
    "    num = int(input(msg))\n",
    "    \n",
    "    if num == 0 :\n",
    "        break\n",
    "\n",
    "    elif num == 1 :\n",
    "        name = input(\"이름을 입력해주세요 :\")\n",
    "        \n",
    "        age = int(input(\"나이 입력해주세요 :\"))\n",
    "              \n",
    "        area = input(\"지역을 입력해주세요 :\")\n",
    "\n",
    "        dict_data = {'name' : name, 'age' : age, 'area' : area}\n",
    "        data_list.append(dict_data)\n",
    "\n",
    "        print(\"\\n\" f\"{name}님의 나이({age})와 지역({area})이 저장되었습니다 !!\")\n",
    "        print(\"\\n\")\n",
    "\n",
    "    elif num == 2 :\n",
    "\n",
    "       for i in data_list :\n",
    "           \n",
    "\n",
    "           print(i)\n",
    "\n",
    "    elif num == 3 :\n",
    "\n",
    "        name_search = input(\"검색할 분의 성함을 입력해주세요 :\")\n",
    "\n",
    "        for dict_data in data_list :\n",
    "            if dict_data['name'] == name_search :\n",
    "\n",
    "                \n",
    "                #print(data_list[idx])\n",
    "\n",
    "                \n",
    "                print(\"\\n\" f\"이름 : {dict_data['name']} 나이 : {dict_data['age']}  지역 : {dict_data['area']}\")\n",
    "\n",
    "    elif num == 4 :\n",
    "\n",
    "        name_del = input(\"삭제 할 분의 성함을 입력해주세요 :\")\n",
    "\n",
    "        for dict_data in data_list :\n",
    "            if dict_data['name'] == name_del :\n",
    "\n",
    "                data_list.remove(dict_data)\n",
    "\n",
    "                      \n",
    "\n",
    "                print(f\"''<<{name_del}>>'님의 정보가 삭제되었습니다.\")\n",
    "\n",
    "            else :\n",
    "                print(\"등록된 정보가 없습니다.\")\n",
    "\n",
    "\n",
    "    elif num == 5 :\n",
    "\n",
    "        rvs_name = input(\"수정하실분의 이름을 입력해주세요 :\")\n",
    "\n",
    "        for dict_data in data_list :\n",
    "            if dict_data['name'] == rvs_name:\n",
    "            \n",
    "                cansle = input(\"이름, 나이, 주소 중 어느 데이터를 변경 하시겠습니까?\")\n",
    "\n",
    "                if cansle == \"이름\" :\n",
    "                    re_name = input(\"수정할 이름을 입력하시오 :\")\n",
    "                    dict_data['name'] = re_name\n",
    "\n",
    "                    print(\"\\n\" f\"이름 : {dict_data['name']} 나이 : {dict_data['age']}  지역 : {dict_data['area']} 수정되었습니다 !!\")\n",
    "\n",
    "                if cansle == \"나이\" :\n",
    "                    re_age = int(input(\"수정할 이름을 입력하시오 :\"))\n",
    "                    dict_data['age'] = re_age\n",
    "\n",
    "                    print(\"\\n\" f\"이름 : {dict_data['name']} 나이 : {dict_data['age']}  지역 : {dict_data['area']} 수정되었습니다 !!\")\n",
    "\n",
    "                if cansle == \"지역\" :\n",
    "                    re_area = int(input(\"수정할 지역을 입력하시오 :\"))\n",
    "                    dict_data['area'] = re_area\n",
    "\n",
    "                    print(\"\\n\" f\"이름 : {dict_data['name']} 나이 : {dict_data['age']}  지역 : {dict_data['area']} 수정되었습니다 !!\")\n",
    "        \n",
    "                    \n",
    "\n",
    "                #if cansle == \"나이\" :\n",
    "\n",
    "                #if cansle == \"주소\" :\n",
    "\n",
    "        \n",
    "        \n",
    "\n",
    "            \n",
    "        \n",
    "\n",
    "        \n"
   ]
  },
  {
   "cell_type": "code",
   "execution_count": null,
   "id": "a378bd53-9d91-421d-af02-c9cd1bd8c57c",
   "metadata": {},
   "outputs": [],
   "source": []
  },
  {
   "cell_type": "code",
   "execution_count": 1,
   "id": "b9d878dd-b0f1-4196-9804-2978624dc52f",
   "metadata": {},
   "outputs": [
    {
     "name": "stdin",
     "output_type": "stream",
     "text": [
      "아래 번호 중에 하나를 선택하여 주세요(번호로 입력)\n",
      "0. 종료\n",
      "1. 값 추가\n",
      "2. 전체 검색\n",
      "3. 검색\n",
      "4. 삭제\n",
      "5. 수정\n",
      " 1\n",
      "이름을 입력해 주세요. 보경\n",
      "나이를 입력해 주세요. 25\n",
      "지역을 입력해 주세요. 부산\n"
     ]
    },
    {
     "name": "stdout",
     "output_type": "stream",
     "text": [
      "보경님의 정보가 저장 되었습니다.\n",
      "\n"
     ]
    },
    {
     "name": "stdin",
     "output_type": "stream",
     "text": [
      "아래 번호 중에 하나를 선택하여 주세요(번호로 입력)\n",
      "0. 종료\n",
      "1. 값 추가\n",
      "2. 전체 검색\n",
      "3. 검색\n",
      "4. 삭제\n",
      "5. 수정\n",
      " 4\n",
      "삭제할 정보의 이름을 입력해 주세요. 보경\n"
     ]
    },
    {
     "name": "stdout",
     "output_type": "stream",
     "text": [
      "보경님의 정보가 정상적으로 삭제 처리 되었습니다.\n",
      "\n"
     ]
    },
    {
     "name": "stdin",
     "output_type": "stream",
     "text": [
      "아래 번호 중에 하나를 선택하여 주세요(번호로 입력)\n",
      "0. 종료\n",
      "1. 값 추가\n",
      "2. 전체 검색\n",
      "3. 검색\n",
      "4. 삭제\n",
      "5. 수정\n",
      " 0\n"
     ]
    },
    {
     "name": "stdout",
     "output_type": "stream",
     "text": [
      "종료합니다.\n"
     ]
    }
   ],
   "source": [
    "## 임의의 값 입력 받기 위한 안내 메시지\n",
    "msg = \"\"\"아래 번호 중에 하나를 선택하여 주세요(번호로 입력)\n",
    "0. 종료\n",
    "1. 값 추가\n",
    "2. 전체 검색\n",
    "3. 검색\n",
    "4. 삭제\n",
    "5. 수정\n",
    "\"\"\"\n",
    "\n",
    "#리스트 변수명 & 딕셔너리\n",
    "data_list = {}\n",
    "\n",
    "while True :\n",
    "    choose = int(input(msg))\n",
    "\n",
    "    ### 0번 : 종료\n",
    "    if choose == 0 :\n",
    "        print(\"종료합니다.\")\n",
    "        break\n",
    "        \n",
    "    ### 1번 : 값 추가\n",
    "    elif choose == 1 :\n",
    "        name = input(\"이름을 입력해 주세요.\")\n",
    "        if name in data_list :\n",
    "            print(\"이미 등록된 정보입니다.\")\n",
    "            continue \n",
    "             \n",
    "        age = int(input(\"나이를 입력해 주세요.\"))\n",
    "        area = input(\"지역을 입력해 주세요.\")\n",
    "    \n",
    "        ### 데이터(값) 추가하기\n",
    "        # {\"이순신\" : {{\"이름\" : \"홍길동\", \"나이\" : age, \"지역\" : area}}}\n",
    "        data_list[name] = {\"나이\" : age, \"지역\" : area}\n",
    "        print(f\"{name}님의 정보가 저장 되었습니다.\")\n",
    "\n",
    "    ### 2번 : 전체 검색\n",
    "    elif choose == 2 :\n",
    "        if not data_list :\n",
    "            print(\"저장된 정보가 없습니다\")\n",
    "        else :\n",
    "            print(\"전체 정보\")\n",
    "            for name, info in data_list.items() :\n",
    "                print(f\"이름 : {name}, 나이 : {info['나이']}, 지역 : {info['지역']}\")\n",
    "\n",
    "    ### 3번 : 검색\n",
    "    elif choose == 3 :\n",
    "        s_name = input(\"검색할 정보의 이름을 입력해 주세요.\")\n",
    "        if not data_list :\n",
    "            print(\"저장된 정보가 없습니다.\")\n",
    "        \n",
    "        elif s_name in data_list :\n",
    "            print(\"검색하신 정보입니다.\") \n",
    "            print(f\"이름 : {name}, 나이 : {info['나이']}, 지역 : {info['지역']}\")\n",
    "\n",
    "        else :\n",
    "            print(\"등록되지 않은 정보입니다\")\n",
    "\n",
    "    ### 4번 : 삭제\n",
    "    elif choose == 4 :        \n",
    "        s_name = input(\"삭제할 정보의 이름을 입력해 주세요.\")\n",
    "        if not data_list :\n",
    "            print(\"삭제할 정보가 없습니다.\")\n",
    "            \n",
    "        elif s_name in data_list :\n",
    "            del data_list[s_name]\n",
    "            print(f\"{name}님의 정보가 정상적으로 삭제 처리 되었습니다.\")\n",
    "\n",
    "        else :\n",
    "            print(\"등록되지 않은 정보입니다\")\n",
    "\n",
    "    ### 5번 : 수정\n",
    "    elif choose == 5 :\n",
    "        s_name = input(\"수정할 정보의 이름을 입력해 주세요.\")\n",
    "\n",
    "        if not data_list : (\"수정할 정보가 없습니다\")\n",
    "\n",
    "        elif s_name in data_list:\n",
    "                \n",
    "                while True :\n",
    "                    print(\"수정할 항목을 선택해 주세요\")\n",
    "                    print(\"1. 이름 수정\")\n",
    "                    print(\"2. 나이 수정\")\n",
    "                    print(\"3. 지역 수정\")\n",
    "                    print(\"4. 수정 종료\")\n",
    "    \n",
    "                    choose2 = int(input(\"번호를 선택 해 주세요\"))\n",
    "    \n",
    "                    if choose2 == 1 :\n",
    "                        n_name = input(\"수정할 이름을 작성해주세요\")\n",
    "                        \n",
    "                        if n_name in data_list :\n",
    "                            print(\"이미 존재하는 이름입니다. 다시 입력해 주세요.\")\n",
    "                            continue\n",
    "\n",
    "                        data_list[n_name] = data_list.pop(s_name)\n",
    "                        s_name = n_name\n",
    "                        print(\"이름이 수정되었습니다.\")\n",
    "    \n",
    "                    elif choose2 == 2 :\n",
    "                        data_list[s_name]['나이'] = input(\"수정할 나이을 작성해주세요\")\n",
    "                        print(\"이름이 수정되었습니다\")\n",
    "    \n",
    "                    elif choose2 == 3 :\n",
    "                        data_list[s_name]['지역'] = input(\"수정할 지역을 작성해주세요\")\n",
    "                        print(\"이름이 수정되었습니다\")\n",
    "    \n",
    "                    elif choose2 == 4 :\n",
    "                        print(\"수정을 종료합니다.\")\n",
    "                        break\n",
    "\n",
    "\n",
    "    else :\n",
    "        print(\"올바른 정보를 입력해 주세요.\")\n",
    "\n",
    "                    \n",
    "    print()"
   ]
  },
  {
   "cell_type": "code",
   "execution_count": null,
   "id": "4f88cd93-9497-40e8-983b-f2144000b8c3",
   "metadata": {},
   "outputs": [],
   "source": []
  },
  {
   "cell_type": "code",
   "execution_count": null,
   "id": "3c7981c8-148d-4895-8ab0-99bf9d1ea139",
   "metadata": {},
   "outputs": [
    {
     "name": "stdin",
     "output_type": "stream",
     "text": [
      "아래 번호 중에 하나를 선택하여 주세요(번호로 입력)\n",
      "0. 종료\n",
      "1. 값 추가\n",
      "2. 전체 검색\n",
      "3. 검색\n",
      "4. 삭제\n",
      "5. 수정\n",
      " 1\n",
      "귀하의 이름을 입력하십시오. :  김보경\n",
      "귀하의 나이를 입력하십시오. :  25\n",
      "귀하의 거주 지역을 입력하십시오. :  부산\n",
      "\n",
      " 이름:김보경, 나이:25, 거주 지역:부산. \n",
      "\n",
      " 위 정보를 리스트에 추가하시겠습니까? (네/아니오) \n",
      " 네\n"
     ]
    },
    {
     "name": "stdout",
     "output_type": "stream",
     "text": [
      "\n",
      "귀하의 정보가 성공적으로 입력되었습니다.\n"
     ]
    }
   ],
   "source": [
    "msg = \"\"\"아래 번호 중에 하나를 선택하여 주세요(번호로 입력)\n",
    "0. 종료\n",
    "1. 값 추가\n",
    "2. 전체 검색\n",
    "3. 검색\n",
    "4. 삭제\n",
    "5. 수정\n",
    "\"\"\"\n",
    "\n",
    "data_list = []\n",
    "\n",
    "while True:\n",
    "    option = int(input(msg))\n",
    "    \n",
    "    if option == 0:\n",
    "        # 종료\n",
    "        print(\"\\n프로그램을 종료합니다.\")\n",
    "        break\n",
    "\n",
    "    elif option == 1:\n",
    "        # 리스트에 값 추가\n",
    "        p_name = input('귀하의 이름을 입력하십시오. : ')\n",
    "        p_age = int(input('귀하의 나이를 입력하십시오. : '))\n",
    "        p_area = input('귀하의 거주 지역을 입력하십시오. : ')\n",
    "        temp_dict = {\"name\":p_name, \"age\":p_age, \"area\":p_area}\n",
    "\n",
    "        # 입력한 값을 리스트에 넣을지 확인하기\n",
    "        check = input(f\"\\n 이름:{p_name}, 나이:{p_age}, 거주 지역:{p_area}. \\n\\n 위 정보를 리스트에 추가하시겠습니까? (네/아니오) \\n\")\n",
    "        \n",
    "        if check == '네':\n",
    "            data_list.append(temp_dict)\n",
    "            print(\"\\n귀하의 정보가 성공적으로 입력되었습니다.\")\n",
    "            \n",
    "        else:\n",
    "            print('\\n리스트 추가를 취소합니다.')\n",
    "\n",
    "    elif option == 2:\n",
    "        # 전체 조회\n",
    "        print()\n",
    "        \n",
    "        for info in data_list:\n",
    "            print(f\"{info['name']}님의 나이는 {info['age']}이고 거주 지역은 {info['area']}입니다.\")\n",
    "\n",
    "    elif option == 3:\n",
    "        # 검색하기(이름 검색)\n",
    "        target = input('\\n검색할 이름을 입력하십시오. : ')\n",
    "        # 각 딕셔너리에서 이름값만 추출한 새로운 리스트 생성\n",
    "        # data_list 리스트의 각 항목을 info라 징하며 그 중 key가 'name'인 값들을 리스트에 저장, 그 후 name_list라는 변수에 저장\n",
    "        name_list = [info['name'] for info in data_list]\n",
    "        \n",
    "        if target in name_list:\n",
    "            # 검색할 이름이 위치한 인덱스 번호 저장\n",
    "            idx = name_list.index(target)\n",
    "            print(f\"\\n{data_list[idx]['name']}님의 나이는 {data_list[idx]['age']}이고 거주 지역은 {data_list[idx]['area']}입니다.\")\n",
    "            \n",
    "        else:\n",
    "            print('\\n찾는 이름이 목록에 없습니다.')\n",
    "\n",
    "    elif option == 4:\n",
    "        # 삭제하기(특정 이름)\n",
    "        target = input('\\n삭제할 이름을 입력하십시오. : ')\n",
    "        name_list = [info['name'] for info in data_list]\n",
    "        \n",
    "        if target in name_list:\n",
    "            idx = name_list.index(target)\n",
    "            del data_list[idx]\n",
    "            print(f'\\n{target}님의 정보를 성공적으로 제거하였습니다.')\n",
    "            \n",
    "        else:\n",
    "            print('\\n찾는 이름이 목록에 없습니다.')\n",
    "\n",
    "    elif option == 5:\n",
    "        # 수정하기\n",
    "        target = input('\\n수정을 원하시는 인물의 이름을 입력하십시오. : ')\n",
    "        name_list = [info['name'] for info in data_list]\n",
    "\n",
    "        if target in name_list:\n",
    "            idx = name_list.index(target)\n",
    "            attri = input('\\n변경하고자 하는 속성을 입력하십시오.(이름/나이/지역)')\n",
    "            # 이름/나이/지역에 대응하는 딕셔너리의 key값을 지정하기 위해 새로운 딕셔너리 생성\n",
    "            rule = {\"이름\":'name', \"나이\":'age', \"지역\":'area'}\n",
    "\n",
    "            # 이름/나이/지역에 해당하지 않는 속성을 입력할 시\n",
    "            if attri not in rule.keys():\n",
    "                print('\\n속성을 잘못 입력하였습니다. 초기 화면으로 돌아갑니다.')\n",
    "                \n",
    "            else:\n",
    "                modi = input('\\n바꾸실 내용을 입력하십시오.')\n",
    "                # 변경 값이 이름/지역일 떄와 나이일 때의 경우를 나누어서 실행\n",
    "                # 문자열의 값이 숫자일 때 True 반환\n",
    "                if modi.isdigit():\n",
    "                    # 리스트의 idx번째 항목(딕셔너리 타입)의 attri에 대응되는 key의 value를 modi로 바꾸기\n",
    "                    data_list[idx][rule[attri]] = int(modi)\n",
    "                    \n",
    "                else:\n",
    "                    data_list[idx][rule[attri]] = modi\n",
    "                print('\\n내용을 성공적으로 수정하였습니다.')\n",
    "                \n",
    "        else:\n",
    "            print('\\n찾는 이름이 목록에 없습니다.')\n",
    "               \n",
    "    else:\n",
    "        print(\"\\n잘못된 입력입니다.\")    "
   ]
  },
  {
   "cell_type": "code",
   "execution_count": null,
   "id": "0100bd08-09b4-409c-b581-07ba26e7edd7",
   "metadata": {},
   "outputs": [],
   "source": []
  },
  {
   "cell_type": "code",
   "execution_count": null,
   "id": "a8bee0d0-af6f-4be0-ad58-9cc5d2279b97",
   "metadata": {},
   "outputs": [],
   "source": []
  },
  {
   "cell_type": "code",
   "execution_count": null,
   "id": "7b7651d1-93b1-47f2-969f-6bbf93585e1a",
   "metadata": {},
   "outputs": [],
   "source": []
  },
  {
   "cell_type": "code",
   "execution_count": null,
   "id": "67a8cbfb-7cad-4fa2-afe1-2348aad2d1a1",
   "metadata": {},
   "outputs": [],
   "source": []
  },
  {
   "cell_type": "code",
   "execution_count": null,
   "id": "f0e68e24-ae53-4c4e-bb1a-a6386fa122a0",
   "metadata": {},
   "outputs": [],
   "source": []
  },
  {
   "cell_type": "code",
   "execution_count": null,
   "id": "4b374fc1-05f8-4e40-bac0-f64af694b1c0",
   "metadata": {},
   "outputs": [],
   "source": []
  },
  {
   "cell_type": "code",
   "execution_count": null,
   "id": "728632e9-142d-4849-b0d7-c1bd1c9aecd5",
   "metadata": {},
   "outputs": [],
   "source": []
  },
  {
   "cell_type": "code",
   "execution_count": null,
   "id": "826409a8-796c-45f8-b611-aba17a5ab6a5",
   "metadata": {},
   "outputs": [],
   "source": []
  },
  {
   "cell_type": "code",
   "execution_count": null,
   "id": "243d2870-cda5-46f2-8449-860c8883ff7b",
   "metadata": {},
   "outputs": [],
   "source": []
  },
  {
   "cell_type": "code",
   "execution_count": null,
   "id": "4c6b1939-1330-4296-8188-8238fa2839c3",
   "metadata": {},
   "outputs": [],
   "source": []
  },
  {
   "cell_type": "code",
   "execution_count": null,
   "id": "0ade5073-88e7-4655-8595-fc73dfc43992",
   "metadata": {},
   "outputs": [],
   "source": []
  },
  {
   "cell_type": "code",
   "execution_count": null,
   "id": "0e8acdc2-438a-436d-aeb7-da967daf5f40",
   "metadata": {},
   "outputs": [],
   "source": []
  },
  {
   "cell_type": "code",
   "execution_count": null,
   "id": "909473de-2722-4998-aee7-e2c12c327772",
   "metadata": {},
   "outputs": [],
   "source": []
  },
  {
   "cell_type": "code",
   "execution_count": null,
   "id": "790d36e8-28e5-4584-ade7-a65aefd10697",
   "metadata": {},
   "outputs": [],
   "source": []
  },
  {
   "cell_type": "code",
   "execution_count": null,
   "id": "653f4f01-c78d-4157-958d-e66f444c2f50",
   "metadata": {},
   "outputs": [],
   "source": []
  },
  {
   "cell_type": "code",
   "execution_count": null,
   "id": "4e199371-8d2e-4e10-83c1-0069df309d1c",
   "metadata": {},
   "outputs": [],
   "source": []
  },
  {
   "cell_type": "code",
   "execution_count": null,
   "id": "c94f7856-f7dd-475b-af33-f23984589837",
   "metadata": {},
   "outputs": [],
   "source": []
  },
  {
   "cell_type": "code",
   "execution_count": null,
   "id": "48067475-10cb-4c9c-a4b2-0ed26f8be1e8",
   "metadata": {},
   "outputs": [],
   "source": []
  },
  {
   "cell_type": "code",
   "execution_count": null,
   "id": "44187b99-3193-4642-8b68-6df255f8a488",
   "metadata": {},
   "outputs": [],
   "source": []
  }
 ],
 "metadata": {
  "kernelspec": {
   "display_name": "pk_base_202503_kernel",
   "language": "python",
   "name": "pk_base_202503"
  },
  "language_info": {
   "codemirror_mode": {
    "name": "ipython",
    "version": 3
   },
   "file_extension": ".py",
   "mimetype": "text/x-python",
   "name": "python",
   "nbconvert_exporter": "python",
   "pygments_lexer": "ipython3",
   "version": "3.9.21"
  }
 },
 "nbformat": 4,
 "nbformat_minor": 5
}
