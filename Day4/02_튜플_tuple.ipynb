{
 "cells": [
  {
   "cell_type": "code",
   "execution_count": null,
   "id": "2928ab86-17c2-4db4-8e84-b9359b9d5003",
   "metadata": {},
   "outputs": [],
   "source": [
    "\"\"\"\n",
    "<튜플(tuple)>\n",
    "    - 튜플은 소괄호() 기호를 사용합니다.\n",
    "    - 출력 결과값이 소괄호로() 묶여 있는 경우에는 대부분 튜플 타입이라고 생각하시면 됩니다\n",
    "    - *** 튜플은 리스트(list)와 구조 및 사용법이 모두 동일 합니다. 기호만 다릅니다.\n",
    "    - *** 리스트와의 차이점 : 수정 및 삭제만 안됩니다. 한번 정의된 값들 수정 불가, 수정 및 삭제 하려면 삭제 후 다시 정의하여 생성해야 합니다.\n",
    "    - 보통 직접 튜플을 생성하여 사용하는 경우는 많지 않으며, 특정 함수의 결과 또는 처리 결과를 튜플 타입으로 제공을 해줍니다.\n",
    "    - 튜플을 생성할 때 한개의 값만 정의해서 생성할 경우에는 한개의 값 뒤에 콤마(,)를 넣으셔야 합니다\n",
    "\"\"\""
   ]
  },
  {
   "cell_type": "code",
   "execution_count": 2,
   "id": "b06a0b10-e60a-416d-b4b5-3367edcaa25b",
   "metadata": {},
   "outputs": [
    {
     "data": {
      "text/plain": [
       "(1,)"
      ]
     },
     "execution_count": 2,
     "metadata": {},
     "output_type": "execute_result"
    }
   ],
   "source": [
    "### 튜플 생성하기\n",
    "# 깨끗한 튜플\n",
    "tuple1 = ()\n",
    "tuple1\n",
    "\n",
    "### 2개 이상의 값을 정의하여 생성\n",
    "tuple2 = (1, 2, 3)\n",
    "tuple2\n",
    "\n",
    "### 1개 값만 정의할 때\n",
    "tuple3 = (1,)\n",
    "tuple3"
   ]
  },
  {
   "cell_type": "code",
   "execution_count": 3,
   "id": "bced4dcc-3230-4c98-bc03-760bd44be5ab",
   "metadata": {},
   "outputs": [
    {
     "data": {
      "text/plain": [
       "(2, 3)"
      ]
     },
     "execution_count": 3,
     "metadata": {},
     "output_type": "execute_result"
    }
   ],
   "source": [
    "tuple2[0]\n",
    "tuple2[1:]"
   ]
  },
  {
   "cell_type": "code",
   "execution_count": 4,
   "id": "efcfef5d-cdf2-4159-9555-b9ee922fa7e5",
   "metadata": {},
   "outputs": [
    {
     "name": "stdout",
     "output_type": "stream",
     "text": [
      "1\n",
      "2\n",
      "3\n"
     ]
    }
   ],
   "source": [
    "### 리스트와 동일하게 인덱스 번호를 이용해서 반복 가능\n",
    "for i in range(0, len(tuple2), 1) :\n",
    "    print(tuple2[i])"
   ]
  },
  {
   "cell_type": "code",
   "execution_count": 5,
   "id": "ce44d860-884e-49cf-b970-c1b72298e762",
   "metadata": {},
   "outputs": [
    {
     "name": "stdout",
     "output_type": "stream",
     "text": [
      "1\n",
      "2\n",
      "3\n"
     ]
    }
   ],
   "source": [
    "### 리스트와 동일하게 값을 이용해서 반복 가능\n",
    "for val in tuple2 :\n",
    "    print(val)"
   ]
  },
  {
   "cell_type": "code",
   "execution_count": 6,
   "id": "cd472917-c4ee-4438-b6ef-025ba55dd0aa",
   "metadata": {},
   "outputs": [
    {
     "data": {
      "text/plain": [
       "(1, '홍길동', {'name': '이순신'})"
      ]
     },
     "execution_count": 6,
     "metadata": {},
     "output_type": "execute_result"
    }
   ],
   "source": [
    "tuple2 = (1, \"홍길동\", {\"name\" : \"이순신\"})\n",
    "tuple2"
   ]
  },
  {
   "cell_type": "code",
   "execution_count": 7,
   "id": "e5e41a11-9de9-44fa-9136-43f65b39d0ef",
   "metadata": {},
   "outputs": [
    {
     "data": {
      "text/plain": [
       "(1, 2, 3)"
      ]
     },
     "execution_count": 7,
     "metadata": {},
     "output_type": "execute_result"
    }
   ],
   "source": [
    "a = 1\n",
    "b = 2\n",
    "c = 3\n",
    "\n",
    "a, b, c"
   ]
  },
  {
   "cell_type": "code",
   "execution_count": 8,
   "id": "d368d3b2-ea30-4985-9a53-f0fb745ddb1d",
   "metadata": {},
   "outputs": [
    {
     "ename": "TypeError",
     "evalue": "'tuple' object does not support item assignment",
     "output_type": "error",
     "traceback": [
      "\u001b[1;31m---------------------------------------------------------------------------\u001b[0m",
      "\u001b[1;31mTypeError\u001b[0m                                 Traceback (most recent call last)",
      "Cell \u001b[1;32mIn[8], line 1\u001b[0m\n\u001b[1;32m----> 1\u001b[0m \u001b[43mtuple2\u001b[49m\u001b[43m[\u001b[49m\u001b[38;5;241;43m0\u001b[39;49m\u001b[43m]\u001b[49m \u001b[38;5;241m=\u001b[39m \u001b[38;5;241m66\u001b[39m\n\u001b[0;32m      2\u001b[0m tuple2\n",
      "\u001b[1;31mTypeError\u001b[0m: 'tuple' object does not support item assignment"
     ]
    }
   ],
   "source": [
    "tuple2[0] = 66\n",
    "tuple2"
   ]
  },
  {
   "cell_type": "code",
   "execution_count": null,
   "id": "b4f898c7-1879-4299-96ca-a9f6d6418b03",
   "metadata": {},
   "outputs": [],
   "source": []
  },
  {
   "cell_type": "code",
   "execution_count": null,
   "id": "c606ab95-be80-4407-a889-75f063e3730e",
   "metadata": {},
   "outputs": [],
   "source": []
  },
  {
   "cell_type": "code",
   "execution_count": null,
   "id": "484f216f-f04f-49f1-8f54-cd9f547732dd",
   "metadata": {},
   "outputs": [],
   "source": []
  },
  {
   "cell_type": "code",
   "execution_count": null,
   "id": "623c5ee2-75e1-4381-b916-341b032e464e",
   "metadata": {},
   "outputs": [],
   "source": []
  },
  {
   "cell_type": "code",
   "execution_count": null,
   "id": "f32ca3f2-c3e9-4f8a-a10e-94d1a0cfe633",
   "metadata": {},
   "outputs": [],
   "source": []
  },
  {
   "cell_type": "code",
   "execution_count": null,
   "id": "49278e7b-a8df-4d1c-babf-8577ea1fe831",
   "metadata": {},
   "outputs": [],
   "source": []
  },
  {
   "cell_type": "code",
   "execution_count": null,
   "id": "71d0c766-3c45-4732-9694-e0d566fef177",
   "metadata": {},
   "outputs": [],
   "source": []
  },
  {
   "cell_type": "code",
   "execution_count": null,
   "id": "c4c60a2f-1410-4a08-b7f0-8155fc31ea8d",
   "metadata": {},
   "outputs": [],
   "source": []
  },
  {
   "cell_type": "code",
   "execution_count": null,
   "id": "361419f4-5839-4fea-9249-4c4e2b521a8c",
   "metadata": {},
   "outputs": [],
   "source": []
  },
  {
   "cell_type": "code",
   "execution_count": null,
   "id": "6c91d06c-f0c3-427a-bd4e-7a38759e8cf0",
   "metadata": {},
   "outputs": [],
   "source": []
  },
  {
   "cell_type": "code",
   "execution_count": null,
   "id": "4f9612d8-c450-4e19-b256-b11933464d33",
   "metadata": {},
   "outputs": [],
   "source": []
  },
  {
   "cell_type": "code",
   "execution_count": null,
   "id": "e3f0aae8-5b73-4a84-b87e-130950dbf14b",
   "metadata": {},
   "outputs": [],
   "source": []
  },
  {
   "cell_type": "code",
   "execution_count": null,
   "id": "8e34fec2-aafe-4374-a1e8-13f4e35e006d",
   "metadata": {},
   "outputs": [],
   "source": []
  },
  {
   "cell_type": "code",
   "execution_count": null,
   "id": "ff1f3ce4-b997-4d1d-8643-bcd93cdad1d8",
   "metadata": {},
   "outputs": [],
   "source": []
  },
  {
   "cell_type": "code",
   "execution_count": null,
   "id": "04bb0a44-ec7d-4921-94bf-78f6d5d7fe1d",
   "metadata": {},
   "outputs": [],
   "source": []
  },
  {
   "cell_type": "code",
   "execution_count": null,
   "id": "854bad43-7244-4867-8d45-8aae32780a3c",
   "metadata": {},
   "outputs": [],
   "source": []
  },
  {
   "cell_type": "code",
   "execution_count": null,
   "id": "962d2160-a14f-4ddf-997d-0770a9039d23",
   "metadata": {},
   "outputs": [],
   "source": []
  },
  {
   "cell_type": "code",
   "execution_count": null,
   "id": "516a8bcf-e806-4aa7-bca4-b008419c4aee",
   "metadata": {},
   "outputs": [],
   "source": []
  },
  {
   "cell_type": "code",
   "execution_count": null,
   "id": "b2d8ead7-e8ad-45b2-9b54-cbf9e4192f28",
   "metadata": {},
   "outputs": [],
   "source": []
  },
  {
   "cell_type": "code",
   "execution_count": null,
   "id": "b3655352-3c6a-45f1-afbc-d9d99dade52f",
   "metadata": {},
   "outputs": [],
   "source": []
  },
  {
   "cell_type": "code",
   "execution_count": null,
   "id": "53ed13b4-2adc-4a8d-83e3-7af69dc94e80",
   "metadata": {},
   "outputs": [],
   "source": []
  },
  {
   "cell_type": "code",
   "execution_count": null,
   "id": "6236b827-6861-4fda-ae5f-ff257e066b8d",
   "metadata": {},
   "outputs": [],
   "source": []
  },
  {
   "cell_type": "code",
   "execution_count": null,
   "id": "bd355149-9526-407a-b206-6491a9beb832",
   "metadata": {},
   "outputs": [],
   "source": []
  },
  {
   "cell_type": "code",
   "execution_count": null,
   "id": "08b7ca06-8da8-41d7-b956-094a392a2369",
   "metadata": {},
   "outputs": [],
   "source": []
  },
  {
   "cell_type": "code",
   "execution_count": null,
   "id": "aa385414-072b-4c84-b17e-c764c60d1b53",
   "metadata": {},
   "outputs": [],
   "source": []
  },
  {
   "cell_type": "code",
   "execution_count": null,
   "id": "9726242f-eeb1-4092-8430-fa4c4ed59e55",
   "metadata": {},
   "outputs": [],
   "source": []
  },
  {
   "cell_type": "code",
   "execution_count": null,
   "id": "829d37f1-672c-49e5-b778-a0d95c24ef3d",
   "metadata": {},
   "outputs": [],
   "source": []
  },
  {
   "cell_type": "code",
   "execution_count": null,
   "id": "1ae468e4-bcb1-4ea9-8f19-bd869970ecf1",
   "metadata": {},
   "outputs": [],
   "source": []
  },
  {
   "cell_type": "code",
   "execution_count": null,
   "id": "703aee13-c174-4d5d-b2b8-f86c11288057",
   "metadata": {},
   "outputs": [],
   "source": []
  },
  {
   "cell_type": "code",
   "execution_count": null,
   "id": "621b147e-95e5-4093-a151-cccd8bd73f59",
   "metadata": {},
   "outputs": [],
   "source": []
  },
  {
   "cell_type": "code",
   "execution_count": null,
   "id": "c41defe8-8de1-45d6-9270-863e1f568b68",
   "metadata": {},
   "outputs": [],
   "source": []
  },
  {
   "cell_type": "code",
   "execution_count": null,
   "id": "bf196628-2103-4064-a9a9-d98e363f82c3",
   "metadata": {},
   "outputs": [],
   "source": []
  },
  {
   "cell_type": "code",
   "execution_count": null,
   "id": "d961c42d-9ffc-4ed0-b931-5dbee3ff88d9",
   "metadata": {},
   "outputs": [],
   "source": []
  },
  {
   "cell_type": "code",
   "execution_count": null,
   "id": "1b32e849-ca98-48be-b050-959854980d23",
   "metadata": {},
   "outputs": [],
   "source": []
  },
  {
   "cell_type": "code",
   "execution_count": null,
   "id": "64459c7f-feee-4357-9016-aa9229238255",
   "metadata": {},
   "outputs": [],
   "source": []
  },
  {
   "cell_type": "code",
   "execution_count": null,
   "id": "5a27d1c8-1b23-46fe-acfd-d51113175da7",
   "metadata": {},
   "outputs": [],
   "source": []
  },
  {
   "cell_type": "code",
   "execution_count": null,
   "id": "e12cac5c-628f-4889-b698-97165a46f2d7",
   "metadata": {},
   "outputs": [],
   "source": []
  },
  {
   "cell_type": "code",
   "execution_count": null,
   "id": "1dcd05f7-626e-4f3f-9165-9a6cd1d93d37",
   "metadata": {},
   "outputs": [],
   "source": []
  },
  {
   "cell_type": "code",
   "execution_count": null,
   "id": "f87e9446-1545-4476-ad5f-a452bc296b1d",
   "metadata": {},
   "outputs": [],
   "source": []
  },
  {
   "cell_type": "code",
   "execution_count": null,
   "id": "c7f92b6a-f6cb-4e00-9a39-fd2e286bb47d",
   "metadata": {},
   "outputs": [],
   "source": []
  },
  {
   "cell_type": "code",
   "execution_count": null,
   "id": "c67594cc-fac4-4567-adb8-68f0892753b0",
   "metadata": {},
   "outputs": [],
   "source": []
  },
  {
   "cell_type": "code",
   "execution_count": null,
   "id": "1c7a3076-6d45-47e3-a8ad-c11628ec7178",
   "metadata": {},
   "outputs": [],
   "source": []
  },
  {
   "cell_type": "code",
   "execution_count": null,
   "id": "72d0c099-c2b3-4f31-8181-797cc32f90b4",
   "metadata": {},
   "outputs": [],
   "source": []
  },
  {
   "cell_type": "code",
   "execution_count": null,
   "id": "2d29f546-98ef-47bc-9d02-4a58d4d6bf75",
   "metadata": {},
   "outputs": [],
   "source": []
  }
 ],
 "metadata": {
  "kernelspec": {
   "display_name": "pk_base_202503_kernel",
   "language": "python",
   "name": "pk_base_202503"
  },
  "language_info": {
   "codemirror_mode": {
    "name": "ipython",
    "version": 3
   },
   "file_extension": ".py",
   "mimetype": "text/x-python",
   "name": "python",
   "nbconvert_exporter": "python",
   "pygments_lexer": "ipython3",
   "version": "3.9.21"
  }
 },
 "nbformat": 4,
 "nbformat_minor": 5
}
