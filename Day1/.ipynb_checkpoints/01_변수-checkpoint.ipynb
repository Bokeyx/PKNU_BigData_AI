{
 "cells": [
  {
   "cell_type": "code",
   "execution_count": 3,
   "id": "b381372b-da81-4ab0-857c-9bf6e71e72f8",
   "metadata": {},
   "outputs": [
    {
     "name": "stdout",
     "output_type": "stream",
     "text": [
      "파이썬 프로그램 시작 합니다.....\n"
     ]
    }
   ],
   "source": [
    "### 문장를 출력하는 프로그램 처리\n",
    "print(\"파이썬 프로그램 시작 합니다.....\")\n",
    "\n",
    "### 실행방법\n",
    "# - [Shift + Enter] : 가장 많이 사용하는 실행 단축키\n",
    "# - [Alt + Enter] : 중간에 cell박스 생성하고자 할 때 (실행 + cell 박스 생성)\n",
    "# - [Ctrl + Enter] : 현재 cell박스에서만 실행 (별도의 cell 박스 생성 안함)\n",
    "\n",
    "\n",
    "### Cell박스 삭제 : DD\n",
    "\n",
    "### 한줄 또는 여러 줄 위/아래로 복사\n",
    "# - [Shift + Alt + 화살표(위 또르 아래)"
   ]
  },
  {
   "cell_type": "code",
   "execution_count": null,
   "id": "27ac11da-a1ff-4008-aff9-0602f44bca68",
   "metadata": {},
   "outputs": [],
   "source": []
  },
  {
   "cell_type": "code",
   "execution_count": 15,
   "id": "dfa86795-f61c-48e4-a346-f8cdc8a948f4",
   "metadata": {},
   "outputs": [
    {
     "data": {
      "text/plain": [
       "'\\n문장\\n문장\\n'"
      ]
     },
     "execution_count": 15,
     "metadata": {},
     "output_type": "execute_result"
    }
   ],
   "source": [
    "### 주석 : 사람이 설명을 달아 놓는 내용\n",
    "# 주석 : 샵(#)을 이용합니다. 여러 개 사용 가능\n",
    "### 문장 단위 주석 : 따옴표 3개씩 앞뒤로 사용 \"\"\"문장\"\"\" or '''문장'''\n",
    "\"\"\"\n",
    "문장\n",
    "문장\n",
    "\"\"\"\n",
    "\n",
    "'''\n",
    "문장\n",
    "문장\n",
    "'''"
   ]
  },
  {
   "cell_type": "markdown",
   "id": "98aabb8e-18d2-4c54-90ff-1492b2808f0c",
   "metadata": {},
   "source": [
    "# 제목 넣기\n",
    "## 제목 넣기\n",
    "### 제목 넣기\n",
    "#### 제목 넣기\n",
    "##### 제목 넣기\n",
    "###### 제목 넣기\n",
    "####### 제목 넣기"
   ]
  },
  {
   "cell_type": "code",
   "execution_count": null,
   "id": "20e29b77-9c49-4efd-bbb1-1929181d6e1c",
   "metadata": {},
   "outputs": [],
   "source": [
    "\"\"\"\n",
    "<프로그램을 하는 이유>\n",
    "    - 컴퓨터에게 명령을 내려서 무엇인가를 실행하도록 처리하기 위해\n",
    "    \n",
    "<프로그래밍 실행 순서>\n",
    "    1. 사람이 알고 있는 언어로 작성합니다.\n",
    "        - 작성하는 곳 : 누군가가 편하게 만들어 놓은 에디터(메모장, VSCode, Jupyter Notebook 등등..)\n",
    "        - 작성하는 언어 : 프로그램 언어라고 합니다.(Java, C, Python 등등..)\n",
    "\n",
    "    ** 1번과 2번을 커널(Kernel)을 통해서 연결해 놓음(Anaconda 및 Python 환경 모두 동일)\n",
    "        - 커널(Kernel) : 통로라는 의미, 내가 사용할 가상공간을 지정\n",
    "\n",
    "    2. 작성한 언어를 해석기(컴파일러)를 통해서 해석 시킵니다.\n",
    "        - 사람이 알고 있는 언어를 -> 컴퓨터가 알 수 있는 언어로 변환하는 과정을 거칩니다.\n",
    "        - 이 과정을 컴파일 과정이라고 합니다.\n",
    "        - 컴파일러(python.exe, jdk.exe, vs.exe) => 라이브러리 포함\n",
    "        - Python, Anaconda 환경에서는 base 가상공간에 python.exe 라이브러리가 설치되어 관리됨\n",
    "          (새로운 가상공간을 만들경우, 각 가상공간마다 python.exe가 존재함)\n",
    "\n",
    "    3. 컴퓨터의 물리적 위치에 결과를 저장 또는 보여줍니다.\n",
    "        - 컴퓨터 언어를 -> 사람이 이해하는 언어로 변환 시켜서 보여줍니다.\n",
    "        - 저장 위치 : 물리적 저장장치(RAM, HDD, SSD, USB 등등..)\n",
    "        - 보여주는 위치 : 모니터(터미널, 에디터 내에 출력)\n",
    "\"\"\""
   ]
  },
  {
   "cell_type": "markdown",
   "id": "60296795-3662-4726-994c-8dbec90e5638",
   "metadata": {},
   "source": [
    "# 기본 문법\n",
    "\n",
    "## 변수"
   ]
  },
  {
   "cell_type": "code",
   "execution_count": null,
   "id": "ba5afb2a-935e-49fb-83ee-ac55069d8575",
   "metadata": {},
   "outputs": [],
   "source": [
    "### 다양한 타입의 값들을 저장해 놓은 곳\n",
    "# - 저장된 곳 : 컴퓨터의 메모리\n",
    "# - 사람이 알고 있는 건 변수명\n",
    "# - 컴퓨터가 알고 있는 건 주소값\n",
    "# - 변수명은 주소값을 가집니다.\n",
    "# - 값이 저장된 공간마다 임의 주소가 만들어집니다.(사람은 관여하지 않습니다. PC가 알아서...)\n",
    "# - (중요) 파이썬에서는 모든 순서는 0부터 시작합니다."
   ]
  },
  {
   "cell_type": "code",
   "execution_count": 4,
   "id": "fba29f0f-3702-4aea-9238-9ccfeacf6925",
   "metadata": {},
   "outputs": [],
   "source": [
    "# a라는 변수명에 정수값 100을 담습니다\n",
    "# a의 변수 타입 : 정수(int) 타입\n",
    "a = 100"
   ]
  },
  {
   "cell_type": "code",
   "execution_count": 5,
   "id": "a20bf827-9e2a-448f-ae62-263c68980e7b",
   "metadata": {},
   "outputs": [
    {
     "name": "stdout",
     "output_type": "stream",
     "text": [
      "100\n"
     ]
    }
   ],
   "source": [
    "print(a)"
   ]
  },
  {
   "cell_type": "code",
   "execution_count": null,
   "id": "b63dcac4-a2ac-468f-b3f6-6339e9759ee7",
   "metadata": {},
   "outputs": [],
   "source": [
    "# a의 변수 타입 : 실수(float) 타입\n",
    "a = 1.1"
   ]
  },
  {
   "cell_type": "code",
   "execution_count": null,
   "id": "9c9211d2-0309-4d95-9392-8c17a985a614",
   "metadata": {},
   "outputs": [],
   "source": [
    "# a의 변수 타입 : 문자열(str) 타입\n",
    "a = \"파이썬\""
   ]
  },
  {
   "cell_type": "code",
   "execution_count": null,
   "id": "dd10080e-9c6a-4b99-933c-43cec7936fc3",
   "metadata": {},
   "outputs": [],
   "source": [
    "# a의 변수 타입 : 참/거짓(bool) 타입"
   ]
  },
  {
   "cell_type": "code",
   "execution_count": null,
   "id": "7fcedddb-435f-4b15-9812-ac08157778dc",
   "metadata": {},
   "outputs": [],
   "source": [
    "### c 또는 java 프로그램에서는 위에 처럼 자유롭지 못함\n",
    "# int a = 1\n",
    "# a = 1.1 (c 또는 java에서는 이렇게 안되고 오류 발생. 타입이 맞지 않다는 오류)"
   ]
  },
  {
   "cell_type": "markdown",
   "id": "6f13ca90-05cc-4de8-a3ef-a7aa3811e452",
   "metadata": {},
   "source": [
    "## 연산자"
   ]
  },
  {
   "cell_type": "code",
   "execution_count": null,
   "id": "1534f089-91b0-432b-af38-c17d0d0d8186",
   "metadata": {},
   "outputs": [],
   "source": [
    "\"\"\"\n",
    "<연산자의 종류>\n",
    "    - 산술연산자 : +, -, *, /, ++, --\n",
    "    - 조건(관계)연산자 : >, <, >=, <=, ==, !=\n",
    "        (조건의 기준은 왼쪽 값을 기준으로 크기 비교합니다)\n",
    "    - 논리연산자 : \n",
    "        (조건1) and (조건2), \n",
    "        (조건1) or (조건2),\n",
    "        not(조건1)\n",
    "\"\"\""
   ]
  },
  {
   "cell_type": "code",
   "execution_count": 9,
   "id": "25fe60b7-3be5-4649-912c-635321424d84",
   "metadata": {},
   "outputs": [
    {
     "name": "stdout",
     "output_type": "stream",
     "text": [
      "1\n"
     ]
    }
   ],
   "source": [
    "1\n",
    "print(1)"
   ]
  },
  {
   "cell_type": "code",
   "execution_count": 17,
   "id": "022b0d18-fc2a-4c74-a7e9-eced5ccb14a7",
   "metadata": {},
   "outputs": [],
   "source": [
    "a = 2"
   ]
  },
  {
   "cell_type": "code",
   "execution_count": 18,
   "id": "38522d94-0428-4bcc-801c-bc7f266ad2df",
   "metadata": {},
   "outputs": [
    {
     "name": "stdout",
     "output_type": "stream",
     "text": [
      "2\n"
     ]
    }
   ],
   "source": [
    "print(a)"
   ]
  },
  {
   "cell_type": "code",
   "execution_count": 21,
   "id": "2311d973-b189-4591-bea9-0f09a22f899f",
   "metadata": {},
   "outputs": [],
   "source": [
    "a = 1\n",
    "b = 1.1\n",
    "c = \"파이썬\"\n",
    "d = True"
   ]
  },
  {
   "cell_type": "code",
   "execution_count": 22,
   "id": "fc41d823-5a31-4bf6-a81d-41b2b2c17205",
   "metadata": {},
   "outputs": [
    {
     "data": {
      "text/plain": [
       "2.1"
      ]
     },
     "execution_count": 22,
     "metadata": {},
     "output_type": "execute_result"
    }
   ],
   "source": [
    "a + b"
   ]
  },
  {
   "cell_type": "code",
   "execution_count": 23,
   "id": "6c18e13c-3fce-4fa1-a094-488be693f982",
   "metadata": {},
   "outputs": [
    {
     "ename": "TypeError",
     "evalue": "unsupported operand type(s) for +: 'int' and 'str'",
     "output_type": "error",
     "traceback": [
      "\u001b[1;31m---------------------------------------------------------------------------\u001b[0m",
      "\u001b[1;31mTypeError\u001b[0m                                 Traceback (most recent call last)",
      "Cell \u001b[1;32mIn[23], line 1\u001b[0m\n\u001b[1;32m----> 1\u001b[0m \u001b[43ma\u001b[49m\u001b[43m \u001b[49m\u001b[38;5;241;43m+\u001b[39;49m\u001b[43m \u001b[49m\u001b[43mc\u001b[49m\n",
      "\u001b[1;31mTypeError\u001b[0m: unsupported operand type(s) for +: 'int' and 'str'"
     ]
    }
   ],
   "source": [
    "a + c"
   ]
  },
  {
   "cell_type": "code",
   "execution_count": 24,
   "id": "ced71a5f-5533-4c20-a4c6-c8b9f08150f1",
   "metadata": {},
   "outputs": [
    {
     "data": {
      "text/plain": [
       "2"
      ]
     },
     "execution_count": 24,
     "metadata": {},
     "output_type": "execute_result"
    }
   ],
   "source": [
    "a + d"
   ]
  },
  {
   "cell_type": "code",
   "execution_count": 26,
   "id": "1ba82c90-b296-4834-8841-e2dfe678a132",
   "metadata": {},
   "outputs": [
    {
     "data": {
      "text/plain": [
       "'파이썬파이썬'"
      ]
     },
     "execution_count": 26,
     "metadata": {},
     "output_type": "execute_result"
    }
   ],
   "source": [
    "# 문자열 산술연산자는 +만 사용 가능합니다.\n",
    "# 단, 문자와 문자간의 + 연산만 가능합니다.\n",
    "c + c"
   ]
  },
  {
   "cell_type": "code",
   "execution_count": 41,
   "id": "be180255-c5ec-4623-93df-921847dcfba5",
   "metadata": {},
   "outputs": [
    {
     "data": {
      "text/plain": [
       "False"
      ]
     },
     "execution_count": 41,
     "metadata": {},
     "output_type": "execute_result"
    }
   ],
   "source": [
    "### 조건 연산자의 결과는 bool 타입(True or False)로 결과를 반환해 줍니다.\n",
    "a > b"
   ]
  },
  {
   "cell_type": "code",
   "execution_count": 43,
   "id": "fbd22d32-bf27-41c8-b442-a41f47acfc3b",
   "metadata": {},
   "outputs": [
    {
     "data": {
      "text/plain": [
       "False"
      ]
     },
     "execution_count": 43,
     "metadata": {},
     "output_type": "execute_result"
    }
   ],
   "source": [
    "### a가 b보다 크고, a가 d와 같은지 확인해 주세요.\n",
    "(a > b) and (a == d)"
   ]
  },
  {
   "cell_type": "code",
   "execution_count": 44,
   "id": "8150d78c-c1b3-4d1f-af74-553dcb8d7f1a",
   "metadata": {},
   "outputs": [
    {
     "data": {
      "text/plain": [
       "True"
      ]
     },
     "execution_count": 44,
     "metadata": {},
     "output_type": "execute_result"
    }
   ],
   "source": [
    "### a가 b보다 크거나, a가 d와 같다면.. 결과 확인\n",
    "(a > b) or (a == d)"
   ]
  },
  {
   "cell_type": "markdown",
   "id": "c02cc33f-47f4-4824-a000-ead41c80465e",
   "metadata": {},
   "source": [
    "## 조건문(if 문)"
   ]
  },
  {
   "cell_type": "code",
   "execution_count": null,
   "id": "42ae3e3e-24c5-4bcd-be71-e93f23a4bd0f",
   "metadata": {},
   "outputs": [],
   "source": [
    "\"\"\"\n",
    "- 조건연산 또는 논리연산자를 이용해서\n",
    "  해당 조건이 참일 때 또는 거짓 일 때\n",
    "  처리하고자는 방법을 달리하고자 할 때 사용됩니다.\n",
    "\n",
    "- 문법\n",
    "if (조건연산 or 논리연산) :\n",
    "    처리 프로그램\n",
    "elif (조건연산 or 논리연산) :\n",
    "    처리 프로그램\n",
    "elif (조건연산 or 논리연산) :\n",
    "    처리 프로그램\n",
    "else :\n",
    "    처리 프로그램\n",
    "\n",
    "- 문법의 필수사항 : if는 필수, 나머지는 필요시 사용\n",
    "\"\"\""
   ]
  },
  {
   "cell_type": "code",
   "execution_count": 46,
   "id": "50ea6bc2-f8af-4c00-b4d0-06db4f5d22df",
   "metadata": {},
   "outputs": [
    {
     "name": "stdout",
     "output_type": "stream",
     "text": [
      "a가 b보다 작습니다\n"
     ]
    }
   ],
   "source": [
    "### a가 b보다 작다면 : \"a가 b보다 작습니다\"를 출력\n",
    "### a가 b보다 크다면 : \"a가 b보다 큽니다.\"를 출력\n",
    "### a와 b가 같다면 : \"a와 b는 같습니다.\"를 출력\n",
    "# 위 3가지 조건을 만족하는 조건문(if문)을 완성해 주세요\n",
    "if a < b :\n",
    "    print(\"a가 b보다 작습니다\")\n",
    "elif a > b :\n",
    "    print(\"a가 b보다 큽니다\")\n",
    "elif a == b :\n",
    "    print(\"a와 b는 같습니다\")"
   ]
  },
  {
   "cell_type": "code",
   "execution_count": 49,
   "id": "33d09bd4-23fd-4f2e-8e91-7754fe985f8b",
   "metadata": {},
   "outputs": [
    {
     "name": "stdout",
     "output_type": "stream",
     "text": [
      "a가 b보다 작습니다\n",
      "a와 d가 같습니다.\n"
     ]
    }
   ],
   "source": [
    "### 위에 문제에 추가해서\n",
    "# a가 b보다 작은 경우에는 \n",
    "#  -> a와 d가 같은지 같지 않은지 확인한 후,\n",
    "#  -> a와 d가 같다면 : \"a와 d가 같습니다.\" 출력\n",
    "#  -> a와 d가 같지 않다면 : \"a와 d는 같지 않습니다.\" 출력\n",
    "if a < b :\n",
    "    print(\"a가 b보다 작습니다\")\n",
    "    \n",
    "    if a == d :\n",
    "        print(\"a와 d가 같습니다.\")\n",
    "        \n",
    "    else :\n",
    "        ### else : 위 조건에 만족하는 것이 없다면, 무조건 수행하게 됨\n",
    "        print(\"a와 d는 같지 않습니다.\")\n",
    "        \n",
    "elif a > b :\n",
    "    print(\"a가 b보다 큽니다\")\n",
    "elif a == b :\n",
    "    print(\"a와 b는 같습니다\")"
   ]
  },
  {
   "cell_type": "code",
   "execution_count": null,
   "id": "c18b0e2a-15f2-4978-a7d8-750a9f4d525b",
   "metadata": {},
   "outputs": [],
   "source": []
  },
  {
   "cell_type": "code",
   "execution_count": null,
   "id": "372aa1de-49cf-4c42-91e9-8f6b9234af99",
   "metadata": {},
   "outputs": [],
   "source": []
  },
  {
   "cell_type": "code",
   "execution_count": null,
   "id": "f31f490b-a36f-40d3-9d9e-cafcf3494b1a",
   "metadata": {},
   "outputs": [],
   "source": []
  },
  {
   "cell_type": "code",
   "execution_count": null,
   "id": "fbc0339c-c36c-4212-a73d-a4a95d73eb98",
   "metadata": {},
   "outputs": [],
   "source": []
  }
 ],
 "metadata": {
  "kernelspec": {
   "display_name": "pk_base_202503_kernel",
   "language": "python",
   "name": "pk_base_202503"
  },
  "language_info": {
   "codemirror_mode": {
    "name": "ipython",
    "version": 3
   },
   "file_extension": ".py",
   "mimetype": "text/x-python",
   "name": "python",
   "nbconvert_exporter": "python",
   "pygments_lexer": "ipython3",
   "version": "3.9.21"
  }
 },
 "nbformat": 4,
 "nbformat_minor": 5
}
