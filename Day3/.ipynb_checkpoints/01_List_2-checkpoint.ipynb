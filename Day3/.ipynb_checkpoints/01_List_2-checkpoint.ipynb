{
 "cells": [
  {
   "cell_type": "code",
   "execution_count": 13,
   "id": "04e4ec3d-15f5-42a6-8420-f7c1add4f6f0",
   "metadata": {},
   "outputs": [
    {
     "name": "stdout",
     "output_type": "stream",
     "text": [
      "[2, 4, 6, 8, 10, 12, 14, 16, 18, 20, 22, 24, 26, 28, 30, 32, 34, 36, 38, 40, 42, 44, 46, 48, 50, 52, 54, 56, 58, 60, 62, 64, 66, 68, 70, 72, 74, 76, 78, 80, 82, 84, 86, 88, 90, 92, 94, 96, 98, 100]\n",
      "6\n",
      "12\n",
      "18\n",
      "24\n",
      "30\n",
      "36\n",
      "42\n",
      "48\n",
      "54\n",
      "60\n",
      "66\n",
      "72\n",
      "78\n",
      "84\n",
      "90\n",
      "96\n",
      "6\n",
      "12\n",
      "18\n",
      "24\n",
      "30\n",
      "36\n",
      "42\n",
      "48\n",
      "54\n",
      "60\n",
      "66\n",
      "72\n",
      "78\n",
      "84\n",
      "90\n",
      "96\n"
     ]
    }
   ],
   "source": [
    "### 1부터 100까지의 범위 중에 짝수의 값들로 정의하여 리스트 변수 생성하기\n",
    "# 변수명 : list8\n",
    "list8 = list(range(2, 101, 2))\n",
    "print(list8)\n",
    "\n",
    "### list8에 들어 있는 값들 중에 3의 배수들만 출력해주세요.\n",
    "# 인덱스번호를 이용하는 방식과, 값을 이용하는 방식 2가지 for문 방식으로 모두 해주세요.\n",
    "# (인덱스 번호 사용)\n",
    "for idx in range(0, len(list8), 1) :\n",
    "    if list8[idx] % 3 == 0 :\n",
    "        print(list8[idx])\n",
    "\n",
    "# (값 사용)\n",
    "for val in list8 :\n",
    "    if val % 3 == 0 :\n",
    "        print(val)"
   ]
  },
  {
   "cell_type": "code",
   "execution_count": 10,
   "id": "9a7be20f-c990-43f9-a3e0-33fb78b1a331",
   "metadata": {},
   "outputs": [
    {
     "data": {
      "text/plain": [
       "[2,\n",
       " 4,\n",
       " 6,\n",
       " 8,\n",
       " 10,\n",
       " 12,\n",
       " 14,\n",
       " 16,\n",
       " 18,\n",
       " 20,\n",
       " 22,\n",
       " 24,\n",
       " 26,\n",
       " 28,\n",
       " 30,\n",
       " 32,\n",
       " 34,\n",
       " 36,\n",
       " 38,\n",
       " 40,\n",
       " 42,\n",
       " 44,\n",
       " 46,\n",
       " 48,\n",
       " 50,\n",
       " 52,\n",
       " 54,\n",
       " 56,\n",
       " 58,\n",
       " 60,\n",
       " 62,\n",
       " 64,\n",
       " 66,\n",
       " 68,\n",
       " 70,\n",
       " 72,\n",
       " 74,\n",
       " 76,\n",
       " 78,\n",
       " 80,\n",
       " 82,\n",
       " 84,\n",
       " 86,\n",
       " 88,\n",
       " 90,\n",
       " 92,\n",
       " 94,\n",
       " 96,\n",
       " 98,\n",
       " 100]"
      ]
     },
     "execution_count": 10,
     "metadata": {},
     "output_type": "execute_result"
    }
   ],
   "source": [
    "list8"
   ]
  },
  {
   "cell_type": "code",
   "execution_count": 14,
   "id": "69927c04-c459-4e22-821c-80b981ea812b",
   "metadata": {},
   "outputs": [
    {
     "name": "stdout",
     "output_type": "stream",
     "text": [
      "12\n",
      "12\n"
     ]
    }
   ],
   "source": [
    "### list8 데이터 중에 8의 배수의 갯수를 출력해주세요.\n",
    "tot = 0\n",
    "\n",
    "list8 = list(range(2, 101, 2))\n",
    "\n",
    "for i in range(0, len(list8), 1) :\n",
    "    if list8[i] % 8 == 0 :\n",
    "        tot += 1\n",
    "\n",
    "print(tot)\n",
    "\n",
    "# - 리스트의 인덱스 번호를 이용하여 반복패턴 만들기\n",
    "# list[0]\n",
    "cnt = 0\n",
    "for idx in range(0, len(list8), 1) :\n",
    "    ### idx의 값을 리스트 내에 작은 메모리에 접근하는 인데스 번호로 사용\n",
    "    if list8[idx] % 8 == 0 :\n",
    "        ### count 하기\n",
    "        cnt += 1\n",
    "\n",
    "print(cnt)"
   ]
  },
  {
   "cell_type": "code",
   "execution_count": 15,
   "id": "e5cf5e3c-f0d5-4c73-8810-1272e07f7ffe",
   "metadata": {},
   "outputs": [
    {
     "name": "stdout",
     "output_type": "stream",
     "text": [
      "[2, 4, 6, 8, 10, 12, 14, 16, 18, 20, 22, 24, 26, 28, 30, 32, 34, 36, 38, 40, 42, 44, 46, 48, 50, 52, 54, 56, 58, 60, 62, 64, 66, 68, 70, 72, 74, 76, 78, 80, 82, 84, 86, 88, 90, 92, 94, 96, 98, 100]\n"
     ]
    }
   ],
   "source": [
    "print(list8)"
   ]
  },
  {
   "cell_type": "code",
   "execution_count": 16,
   "id": "d3f00119-3477-460c-9afd-6130d2b0849b",
   "metadata": {},
   "outputs": [
    {
     "name": "stdout",
     "output_type": "stream",
     "text": [
      "12\n"
     ]
    }
   ],
   "source": [
    "### list의 값 자체를 이용해서 반복 패턴 만들기\n",
    "# (값1, 값2, ...) = (2, 4, 6, ...) \n",
    "cnt = 0\n",
    "for val in [2, 4, 6, 8, 10, 12, 14, 16, 18, 20, 22, 24, 26, 28, 30, 32, 34, 36, 38, 40, 42, 44, 46, 48, 50, 52, 54, 56, 58, 60, 62, 64, 66, 68, 70, 72, 74, 76, 78, 80, 82, 84, 86, 88, 90, 92, 94, 96, 98, 100] :\n",
    "    ### idx의 값을 리스트 내에 작은 메모리에 접근하는 인데스 번호로 사용\n",
    "    if val % 8 == 0 :\n",
    "        ### count 하기\n",
    "        cnt += 1\n",
    "\n",
    "print(cnt)"
   ]
  },
  {
   "cell_type": "code",
   "execution_count": 17,
   "id": "a24a4ee5-2629-4e1b-943b-b6c3750a9393",
   "metadata": {},
   "outputs": [
    {
     "name": "stdout",
     "output_type": "stream",
     "text": [
      "12\n"
     ]
    }
   ],
   "source": [
    "### list의 값 자체를 이용해서 반복 패턴 만들기\n",
    "# (값1, 값2, ...) = (2, 4, 6, ...) \n",
    "cnt = 0\n",
    "for val in list8 :\n",
    "    if val % 8 == 0 :\n",
    "        ### count 하기\n",
    "        cnt += 1\n",
    "\n",
    "print(cnt)"
   ]
  },
  {
   "cell_type": "markdown",
   "id": "24c56041-0fdd-48d3-bfa6-ca2173c477e3",
   "metadata": {},
   "source": [
    "## 슬라이싱"
   ]
  },
  {
   "cell_type": "code",
   "execution_count": 18,
   "id": "57668643-2839-49f8-b42a-944973c76d1d",
   "metadata": {},
   "outputs": [
    {
     "name": "stdout",
     "output_type": "stream",
     "text": [
      "2\n",
      "100\n",
      "100\n",
      "[2, 4, 6, 8, 10, 12, 14, 16, 18, 20, 22, 24, 26, 28, 30, 32, 34, 36, 38, 40, 42, 44, 46, 48, 50, 52, 54, 56, 58, 60, 62, 64, 66, 68, 70, 72, 74, 76, 78, 80, 82, 84, 86, 88, 90, 92, 94, 96, 98, 100]\n",
      "[2, 4, 6, 8, 10]\n",
      "[96, 98, 100]\n"
     ]
    }
   ],
   "source": [
    "print(list8[0])\n",
    "\n",
    "#마지막 값\n",
    "print(list8[len(list8)-1])\n",
    "print(list8[-1])\n",
    "\n",
    "### 슬라이스 사용\n",
    "# - 슬라이스는 범위를 의미하며, 범위를 지정하는 기호는 콜론(:) 사용\n",
    "# - 범위를 지정하여 리스트 내 값을 추출할 떄 사용함\n",
    "\n",
    "### 리스트 내에 전체 데이터 추출하기\n",
    "print(list8[:])\n",
    "\n",
    "### 시작 인덱스 번호 0부터 5보다 하나 작은 인데스 번호까지의 범위 지정\n",
    "print(list8[0:5])\n",
    "\n",
    "### 뒤에서 3번째 값부터 뒤에서 전체 값을 추출하고 싶어요...\n",
    "print(list8[-3:])"
   ]
  },
  {
   "cell_type": "markdown",
   "id": "407a00ed-a4fe-4742-9f2d-de3cf290e001",
   "metadata": {},
   "source": [
    "## 문자열 데이터도 리스트 메모리 구조와 동일하게 정장되고 처리됨"
   ]
  },
  {
   "cell_type": "code",
   "execution_count": 19,
   "id": "091bba7a-23cb-439d-bbb5-2dd427a9cea0",
   "metadata": {},
   "outputs": [
    {
     "data": {
      "text/plain": [
       "('안녕하세요. 파이썬 재미있어요!!', str)"
      ]
     },
     "execution_count": 19,
     "metadata": {},
     "output_type": "execute_result"
    }
   ],
   "source": [
    "str1 = \"안녕하세요. 파이썬 재미있어요!!\"\n",
    "str1, type(str1)"
   ]
  },
  {
   "cell_type": "code",
   "execution_count": 20,
   "id": "cbe84ca2-4375-49cf-b04c-e5c22eacbd63",
   "metadata": {},
   "outputs": [
    {
     "name": "stdout",
     "output_type": "stream",
     "text": [
      "안\n",
      "녕\n",
      "하\n",
      "세\n",
      "요\n",
      ".\n",
      " \n",
      "파\n",
      "이\n",
      "썬\n",
      " \n",
      "재\n",
      "미\n",
      "있\n",
      "어\n",
      "요\n",
      "!\n",
      "!\n",
      "안\n",
      "녕\n",
      "하\n",
      "세\n",
      "요\n",
      ".\n",
      " \n",
      "파\n",
      "이\n",
      "썬\n",
      " \n",
      "재\n",
      "미\n",
      "있\n",
      "어\n",
      "요\n",
      "!\n",
      "!\n"
     ]
    }
   ],
   "source": [
    "### 인덱스 번호 및 값을 이용해서 문자열 내에 각 단어들을 출력해주세요.\n",
    "# for문 사용... 위 2가지 방법 모두 사용\n",
    "for idx in range(0, len(str1), 1) :\n",
    "    print(str1[idx])\n",
    "\n",
    "for val in str1 :\n",
    "    print(val)"
   ]
  },
  {
   "cell_type": "markdown",
   "id": "7cdaedad-a25e-47e0-8fde-1817a9fd46e8",
   "metadata": {},
   "source": [
    "## 리스트에 값 추가하기"
   ]
  },
  {
   "cell_type": "code",
   "execution_count": 21,
   "id": "fe48d303-b835-4bfb-ab29-7792bde2cb5d",
   "metadata": {},
   "outputs": [
    {
     "data": {
      "text/plain": [
       "[]"
      ]
     },
     "execution_count": 21,
     "metadata": {},
     "output_type": "execute_result"
    }
   ],
   "source": [
    "### 깨끗한 리스트 생성\n",
    "list_temp = []\n",
    "list_temp"
   ]
  },
  {
   "cell_type": "code",
   "execution_count": 22,
   "id": "431379c4-1f28-4a22-9255-ac78e7f3b6b2",
   "metadata": {},
   "outputs": [],
   "source": [
    "### 새로운 값 1개 추가하기\n",
    "# 리스트에 값을 추가하는 함수 : append()\n",
    "list_temp.append(\"홍길동\")"
   ]
  },
  {
   "cell_type": "code",
   "execution_count": 23,
   "id": "dd786c40-d924-4051-a442-5f504247e6bc",
   "metadata": {},
   "outputs": [
    {
     "name": "stdout",
     "output_type": "stream",
     "text": [
      "['홍길동']\n"
     ]
    }
   ],
   "source": [
    "print(list_temp)"
   ]
  },
  {
   "cell_type": "code",
   "execution_count": 24,
   "id": "cf6f1f36-e644-4537-9644-eec6f862e892",
   "metadata": {},
   "outputs": [
    {
     "name": "stdout",
     "output_type": "stream",
     "text": [
      "['홍길동', '이순신']\n"
     ]
    }
   ],
   "source": [
    "list_temp.append(\"이순신\")\n",
    "print(list_temp)"
   ]
  },
  {
   "cell_type": "code",
   "execution_count": 25,
   "id": "d52214f8-fe05-44bd-b1c7-582935537da1",
   "metadata": {},
   "outputs": [
    {
     "name": "stdout",
     "output_type": "stream",
     "text": [
      "['홍길동', '이순신', [2, 4, 6, 8, 10, 12, 14, 16, 18, 20, 22, 24, 26, 28, 30, 32, 34, 36, 38, 40, 42, 44, 46, 48, 50, 52, 54, 56, 58, 60, 62, 64, 66, 68, 70, 72, 74, 76, 78, 80, 82, 84, 86, 88, 90, 92, 94, 96, 98, 100]]\n"
     ]
    }
   ],
   "source": [
    "list_temp.append(list8)\n",
    "print(list_temp)"
   ]
  },
  {
   "cell_type": "code",
   "execution_count": 26,
   "id": "9b49e05e-ac8c-45ec-950d-f01ccb653020",
   "metadata": {},
   "outputs": [
    {
     "name": "stdout",
     "output_type": "stream",
     "text": [
      "['홍길동', '이순신', [2, 4, 6, 8, 10, 12, 14, 16, 18, 20, 22, 24, 26, 28, 30, 32, 34, 36, 38, 40, 42, 44, 46, 48, 50, 52, 54, 56, 58, 60, 62, 64, 66, 68, 70, 72, 74, 76, 78, 80, 82, 84, 86, 88, 90, 92, 94, 96, 98, 100], [...]]\n"
     ]
    }
   ],
   "source": [
    "list_temp.append(list_temp)\n",
    "print(list_temp)"
   ]
  },
  {
   "cell_type": "code",
   "execution_count": 27,
   "id": "6bb47320-be60-4078-9a45-4357f1112067",
   "metadata": {},
   "outputs": [
    {
     "name": "stdout",
     "output_type": "stream",
     "text": [
      "['홍길동', '이순신', [2, 4, 6, 8, 10, 12, 14, 16, 18, 20, 22, 24, 26, 28, 30, 32, 34, 36, 38, 40, 42, 44, 46, 48, 50, 52, 54, 56, 58, 60, 62, 64, 66, 68, 70, 72, 74, 76, 78, 80, 82, 84, 86, 88, 90, 92, 94, 96, 98, 100], [...], 100]\n"
     ]
    }
   ],
   "source": [
    "list_temp.append(100)\n",
    "print(list_temp)"
   ]
  },
  {
   "cell_type": "code",
   "execution_count": 28,
   "id": "92e75ee4-9bab-49fd-8f26-7e83147618f8",
   "metadata": {},
   "outputs": [
    {
     "name": "stdout",
     "output_type": "stream",
     "text": [
      "2\n",
      "4\n",
      "6\n",
      "8\n",
      "10\n",
      "12\n",
      "14\n",
      "16\n",
      "18\n",
      "20\n",
      "22\n",
      "24\n",
      "26\n",
      "28\n",
      "30\n",
      "32\n",
      "34\n",
      "36\n",
      "38\n",
      "40\n",
      "42\n",
      "44\n",
      "46\n",
      "48\n",
      "50\n",
      "52\n",
      "54\n",
      "56\n",
      "58\n",
      "60\n",
      "62\n",
      "64\n",
      "66\n",
      "68\n",
      "70\n",
      "72\n",
      "74\n",
      "76\n",
      "78\n",
      "80\n",
      "82\n",
      "84\n",
      "86\n",
      "88\n",
      "90\n",
      "92\n",
      "94\n",
      "96\n",
      "98\n",
      "100\n"
     ]
    }
   ],
   "source": [
    "### list_temp 데이터 중에 2번째 인덱스의 값들을 모두(각각) 출력해주세요..\n",
    "for val in list_temp[2] :\n",
    "    print(val)"
   ]
  },
  {
   "cell_type": "code",
   "execution_count": 29,
   "id": "dd93090d-2b6d-42ca-9481-11798b5e1df1",
   "metadata": {},
   "outputs": [
    {
     "name": "stdout",
     "output_type": "stream",
     "text": [
      "홍길동\n",
      "이순신\n",
      "[2, 4, 6, 8, 10, 12, 14, 16, 18, 20, 22, 24, 26, 28, 30, 32, 34, 36, 38, 40, 42, 44, 46, 48, 50, 52, 54, 56, 58, 60, 62, 64, 66, 68, 70, 72, 74, 76, 78, 80, 82, 84, 86, 88, 90, 92, 94, 96, 98, 100]\n",
      "['홍길동', '이순신', [2, 4, 6, 8, 10, 12, 14, 16, 18, 20, 22, 24, 26, 28, 30, 32, 34, 36, 38, 40, 42, 44, 46, 48, 50, 52, 54, 56, 58, 60, 62, 64, 66, 68, 70, 72, 74, 76, 78, 80, 82, 84, 86, 88, 90, 92, 94, 96, 98, 100], [...], 100]\n",
      "100\n"
     ]
    }
   ],
   "source": [
    "### list_temp 데이터 중에 3번째 인덱스의 값들을 모두(각각) 출력해주세요..\n",
    "for val in list_temp[3] :\n",
    "    print(val)"
   ]
  },
  {
   "cell_type": "code",
   "execution_count": 45,
   "id": "112dd0af-f587-4fd0-9bfc-1a31850518a0",
   "metadata": {},
   "outputs": [
    {
     "name": "stdout",
     "output_type": "stream",
     "text": [
      "홍길동\n",
      "이순신\n",
      "[2, 4, 6, 8, 10, 12, 14, 16, 18, 20, 22, 24, 26, 28, 30, 32, 34, 36, 38, 40, 42, 44, 46, 48, 50, 52, 54, 56, 58, 60, 62, 64, 66, 68, 70, 72, 74, 76, 78, 80, 82, 84, 86, 88, 90, 92, 94, 96, 98, 100]\n",
      "['홍길동', '이순신', [2, 4, 6, 8, 10, 12, 14, 16, 18, 20, 22, 24, 26, 28, 30, 32, 34, 36, 38, 40, 42, 44, 46, 48, 50, 52, 54, 56, 58, 60, 62, 64, 66, 68, 70, 72, 74, 76, 78, 80, 82, 84, 86, 88, 90, 92, 94, 96, 98, 100], [...], 100, '마지막에 추가1', '마지막에 추가2']\n",
      "100\n",
      "마지막에 추가1\n",
      "마지막에 추가2\n"
     ]
    }
   ],
   "source": [
    "### list_temp 데이터 중에 2번째 인덱스의 값들을 모두(각각) 출력해주세요..\n",
    "list_temp.append(\"마지막에 추가1\")\n",
    "list_temp.append(\"마지막에 추가2\")\n",
    "\n",
    "for val in list_temp[3] :\n",
    "    print(val)"
   ]
  },
  {
   "cell_type": "code",
   "execution_count": 46,
   "id": "736b307c-07e9-4897-a574-5e9d2c47e9e3",
   "metadata": {},
   "outputs": [
    {
     "name": "stdout",
     "output_type": "stream",
     "text": [
      "['홍길동', '이순신', [2, 4, 6, 8, 10, 12, 14, 16, 18, 20, 22, 24, 26, 28, 30, 32, 34, 36, 38, 40, 42, 44, 46, 48, 50, 52, 54, 56, 58, 60, 62, 64, 66, 68, 70, 72, 74, 76, 78, 80, 82, 84, 86, 88, 90, 92, 94, 96, 98, 100], [...], 100, '마지막에 추가1', '마지막에 추가2']\n"
     ]
    }
   ],
   "source": [
    "print(list_temp)"
   ]
  },
  {
   "cell_type": "code",
   "execution_count": 48,
   "id": "db66ca2d-979f-4b9c-8a5c-a5bcd1098659",
   "metadata": {},
   "outputs": [
    {
     "name": "stdout",
     "output_type": "stream",
     "text": [
      "[1, '이순신', [1, 2, 3], '부산', [4, 5, 6]]\n"
     ]
    }
   ],
   "source": [
    "### 리스트 변수 깨끗한 것 생성\n",
    "list_temp2 = [1, \"이순신\", [1, 2, 3], \"부산\", [4, 5, 6]]\n",
    "print(list_temp2)"
   ]
  },
  {
   "cell_type": "code",
   "execution_count": 49,
   "id": "0f001e53-f90d-4192-8145-cd43eebf8f60",
   "metadata": {},
   "outputs": [
    {
     "data": {
      "text/plain": [
       "(list, int, str, list, str)"
      ]
     },
     "execution_count": 49,
     "metadata": {},
     "output_type": "execute_result"
    }
   ],
   "source": [
    "### type 확인\n",
    "type(list_temp2), type(list_temp2[0]), type(list_temp2[1]), type(list_temp2[2]), type(list_temp2[3])"
   ]
  },
  {
   "cell_type": "code",
   "execution_count": 51,
   "id": "1b005f93-63b0-4bd5-a4af-da45602ff978",
   "metadata": {},
   "outputs": [
    {
     "name": "stdout",
     "output_type": "stream",
     "text": [
      "[1, '이순신', [1, 2, 3], '부산', [4, 5, 6]]\n"
     ]
    }
   ],
   "source": [
    "### list_temp2 데이터 중에 타입이 list인 경우에,\n",
    "# - 해당 리스트 내에 데이터를 각각 출력해 주세요...\n",
    "# - 단, 타입이 list인 인덱스 위치는 모른다고 가정하겠습니다.\n",
    "print(list_temp2)"
   ]
  },
  {
   "cell_type": "code",
   "execution_count": 70,
   "id": "fd1c6645-5577-49a4-a47f-91f593c36997",
   "metadata": {},
   "outputs": [
    {
     "name": "stdout",
     "output_type": "stream",
     "text": [
      "1\n",
      "2\n",
      "3\n",
      "4\n",
      "5\n",
      "6\n"
     ]
    }
   ],
   "source": [
    "for i in list_temp2 :\n",
    "    if type(i) == list :\n",
    "        for val in i :\n",
    "            print(val)"
   ]
  },
  {
   "cell_type": "code",
   "execution_count": 72,
   "id": "42ffd4ec-9ac5-4dfb-9d76-314f52a6a7ab",
   "metadata": {},
   "outputs": [
    {
     "name": "stdout",
     "output_type": "stream",
     "text": [
      "1\n",
      "2\n",
      "3\n",
      "4\n",
      "5\n",
      "6\n"
     ]
    }
   ],
   "source": [
    "for i in list_temp2 :\n",
    "    if isinstance(i, list) :\n",
    "        for val in i :\n",
    "            print(val)"
   ]
  },
  {
   "cell_type": "markdown",
   "id": "dd180e3a-c885-485e-b123-26dea58212cd",
   "metadata": {},
   "source": [
    "## 리스트 연산(+, x)"
   ]
  },
  {
   "cell_type": "code",
   "execution_count": 115,
   "id": "1a4058aa-3020-49af-808e-69a6d8e14cc2",
   "metadata": {},
   "outputs": [],
   "source": [
    "list1 = [1, 2, 3]\n",
    "list2 = [4, 5, 6]"
   ]
  },
  {
   "cell_type": "code",
   "execution_count": 116,
   "id": "3fa8544b-93d6-48b1-970a-a58609a4773f",
   "metadata": {},
   "outputs": [
    {
     "name": "stdout",
     "output_type": "stream",
     "text": [
      "[1, 2, 3, 4, 5, 6]\n"
     ]
    }
   ],
   "source": [
    "### 리스트 더하기 연산 : 여러개의 리스트가 하나의 리스트로 합쳐집니다.\n",
    "list3 = list1 + list2\n",
    "print(list3)"
   ]
  },
  {
   "cell_type": "code",
   "execution_count": 117,
   "id": "84e9ea07-79f7-4ff7-b6d4-85bc05fb933a",
   "metadata": {},
   "outputs": [
    {
     "data": {
      "text/plain": [
       "[1, 2, 3, 1, 2, 3]"
      ]
     },
     "execution_count": 117,
     "metadata": {},
     "output_type": "execute_result"
    }
   ],
   "source": [
    "### 리스트 곱하기 연산 : 하나의 리스트 내에 동일한 값을 여러개 추가하고자 할 때 사용\n",
    "# - 추가하고자하는 갯수를 곱하면 됩니다.\n",
    "list1 * 2"
   ]
  },
  {
   "cell_type": "code",
   "execution_count": 118,
   "id": "719ab9b7-1f6b-4f36-b682-c8317c43cb4a",
   "metadata": {},
   "outputs": [
    {
     "data": {
      "text/plain": [
       "['홍길도',\n",
       " '홍길도',\n",
       " '홍길도',\n",
       " '홍길도',\n",
       " '홍길도',\n",
       " '홍길도',\n",
       " '홍길도',\n",
       " '홍길도',\n",
       " '홍길도',\n",
       " '홍길도',\n",
       " '이순신',\n",
       " '이순신',\n",
       " '이순신',\n",
       " '이순신',\n",
       " '이순신']"
      ]
     },
     "execution_count": 118,
     "metadata": {},
     "output_type": "execute_result"
    }
   ],
   "source": [
    "[\"홍길도\"] * 10 + [\"이순신\"] * 5"
   ]
  },
  {
   "cell_type": "code",
   "execution_count": 119,
   "id": "885abff5-1715-4224-af73-9454af61def4",
   "metadata": {},
   "outputs": [
    {
     "name": "stdout",
     "output_type": "stream",
     "text": [
      "[1, 2, 3, 4, 5, 6]\n"
     ]
    }
   ],
   "source": [
    "print(list3)"
   ]
  },
  {
   "cell_type": "markdown",
   "id": "521219d7-63c2-4955-baf4-dbb4834ce145",
   "metadata": {},
   "source": [
    "### 리스트 내 특정 인덱스 데이터 삭제하기"
   ]
  },
  {
   "cell_type": "code",
   "execution_count": 120,
   "id": "bb2d9f5d-082e-4c43-9aaa-fb73ed42b5e5",
   "metadata": {},
   "outputs": [],
   "source": [
    "### list3 데이터 중 1번째 인덱스 값 삭제하기\n",
    "## 삭제 명령 : del 사용\n",
    "del list3[1]"
   ]
  },
  {
   "cell_type": "code",
   "execution_count": 121,
   "id": "eac7e35f-5630-49cd-b72b-cfef7fb86a5b",
   "metadata": {},
   "outputs": [
    {
     "name": "stdout",
     "output_type": "stream",
     "text": [
      "[1, 3, 4, 5, 6]\n"
     ]
    }
   ],
   "source": [
    "print(list3)"
   ]
  },
  {
   "cell_type": "code",
   "execution_count": 122,
   "id": "b0a36a61-c0d6-4e17-8ff1-495f15010016",
   "metadata": {},
   "outputs": [],
   "source": [
    "### del 명령은 리스트의 인덱스 번호를 사용해서 삭제할 때 사용합니다.\n",
    "del list3[4]"
   ]
  },
  {
   "cell_type": "code",
   "execution_count": 123,
   "id": "3d1a5c5f-1827-404a-86b1-23e18225937e",
   "metadata": {},
   "outputs": [
    {
     "name": "stdout",
     "output_type": "stream",
     "text": [
      "[1, 3, 4, 5]\n"
     ]
    }
   ],
   "source": [
    "print(list3)"
   ]
  },
  {
   "cell_type": "code",
   "execution_count": 125,
   "id": "3fe9aea6-1b7a-4bfa-a9ec-f0fe50a13a34",
   "metadata": {},
   "outputs": [
    {
     "name": "stdout",
     "output_type": "stream",
     "text": [
      "[1, 4, 5]\n"
     ]
    }
   ],
   "source": [
    "### remove() 함수를 이용하여 값을 이용하여 삭제할 떄 사용합니다.\n",
    "list3.remove(2)\n",
    "print(list3)"
   ]
  },
  {
   "cell_type": "code",
   "execution_count": 126,
   "id": "d4847d9f-3af2-4e84-81a2-5f64afcf14f4",
   "metadata": {},
   "outputs": [
    {
     "name": "stdout",
     "output_type": "stream",
     "text": [
      "[1, 4, 5, 3, 3]\n"
     ]
    }
   ],
   "source": [
    "list3.append(3)\n",
    "list3.append(3)\n",
    "print(list3)"
   ]
  },
  {
   "cell_type": "code",
   "execution_count": 127,
   "id": "67e88493-6ea3-40bd-955d-cecd38c189ce",
   "metadata": {},
   "outputs": [
    {
     "name": "stdout",
     "output_type": "stream",
     "text": [
      "[1, 4, 5, 3]\n"
     ]
    }
   ],
   "source": [
    "list3.remove(3)\n",
    "print(list3)"
   ]
  },
  {
   "cell_type": "code",
   "execution_count": 129,
   "id": "236017f2-a008-43ee-baa6-c2faeb2c7d54",
   "metadata": {},
   "outputs": [
    {
     "name": "stdout",
     "output_type": "stream",
     "text": [
      "[1, 3, 5, 3]\n",
      "[1, 5, 3]\n"
     ]
    }
   ],
   "source": [
    "list3[1] = 3\n",
    "print(list3)\n",
    "\n",
    "### 같은 값이 존재할 경우, 가장 첫번째 나오는 값을 삭제합니다.\n",
    "list3.remove(3)\n",
    "print(list3)"
   ]
  },
  {
   "cell_type": "markdown",
   "id": "87a463c1-e93e-48dc-a31b-a514cebcf334",
   "metadata": {},
   "source": [
    "## 리스트 내 특정 인덱스 위치의 값 수정하기"
   ]
  },
  {
   "cell_type": "code",
   "execution_count": 124,
   "id": "aec549fe-bd44-423a-adeb-f07c0c2c0844",
   "metadata": {},
   "outputs": [
    {
     "name": "stdout",
     "output_type": "stream",
     "text": [
      "[1, 2, 4, 5]\n"
     ]
    }
   ],
   "source": [
    "list3[1] = 2\n",
    "print(list3)"
   ]
  },
  {
   "cell_type": "markdown",
   "id": "ecc89a9b-0324-444b-809c-fac7367c5781",
   "metadata": {},
   "source": [
    "## 값 입력 받기"
   ]
  },
  {
   "cell_type": "code",
   "execution_count": 132,
   "id": "ad77cf10-7af5-4d8a-93cf-4ee772b27be9",
   "metadata": {},
   "outputs": [
    {
     "name": "stdin",
     "output_type": "stream",
     "text": [
      "(안내 메시지)이름을 입력해 주세요 홍길동\n"
     ]
    }
   ],
   "source": [
    "### input() : 키보드로부터 임의 값을 입력 받아서 사용하고자 할 때\n",
    "# - input()을 통해 반환받은 값의 타입 : 무조건 문자열(str)타입 입니다.\n",
    "p_name = input(\"(안내 메시지)이름을 입력해 주세요\")"
   ]
  },
  {
   "cell_type": "code",
   "execution_count": 135,
   "id": "4d8abeab-39c9-4e6c-96e0-8750ecdb6c3c",
   "metadata": {},
   "outputs": [
    {
     "name": "stdin",
     "output_type": "stream",
     "text": [
      "[나이]을 입력해 주세요 20\n"
     ]
    }
   ],
   "source": [
    "p_age = int(input(\"[나이]을 입력해 주세요\"))"
   ]
  },
  {
   "cell_type": "code",
   "execution_count": 136,
   "id": "4fdeb3fd-16fa-4d28-9937-8c6a89cadb14",
   "metadata": {},
   "outputs": [
    {
     "data": {
      "text/plain": [
       "('홍길동', 20)"
      ]
     },
     "execution_count": 136,
     "metadata": {},
     "output_type": "execute_result"
    }
   ],
   "source": [
    "p_name, p_age"
   ]
  },
  {
   "cell_type": "markdown",
   "id": "0c1821a4-b973-4022-b88d-465c737561d3",
   "metadata": {},
   "source": [
    "## 예제"
   ]
  },
  {
   "cell_type": "code",
   "execution_count": null,
   "id": "bd9edb23-c22b-4b36-8fc7-e5012b937a65",
   "metadata": {},
   "outputs": [],
   "source": [
    "\"\"\"\n",
    "1. 리스트 변수 생성 : 이름, 나이, 주소 각각의 깨끗한 리스트 변수 생성\n",
    "    - 리스트 변수명 : name, age, address\n",
    "\n",
    "2. 데이터 추가\n",
    "    - 추가할 데이터 : \"홍길동\", 10, \"부산\"\n",
    "    - 추가할 데이터 : \"이순신\", 20, \"대전\"\n",
    "    - 몇 개 더 계속 추가\n",
    "\n",
    "3. 처리 방법\n",
    "    - 무한 반복 하기\n",
    "    - 임의 번호를 입력 받기\n",
    "    - 입력 받은 번호가 1이면 데이터 추가를 수행 합니다\n",
    "        --> 데이터 추가 시 이름, 나이, 지역을 각각 입력 받습니다.\n",
    "        --> 입력 받은 각각의 이름, 나이, 지역의 값을 각 리스트에 추가 합니다.\n",
    "    - 한번 입력이 끝나면, 다시 임의 번호를 입력 받기\n",
    "    - 더이상 입력을 하지 않을 경우 임의 번호 0번을 입력하면 무한 반복을 종료 합니다.\n",
    "    \n",
    "4. 안내 메시지\n",
    "    - 임의 번호를 입력 받기 : \"아래 번호 중에 하나를 선택해 주세요(번호를 입력) : \"\n",
    "    - 이외 데이터 추가 시 입력 값에 대한 안내는 직접 해보십니다.\n",
    "\"\"\""
   ]
  },
  {
   "cell_type": "code",
   "execution_count": 199,
   "id": "c8f4eb4d-8333-4eae-a690-eca3184d1386",
   "metadata": {},
   "outputs": [
    {
     "name": "stdin",
     "output_type": "stream",
     "text": [
      "아래 번호 중에 하나를 선택하여 주세요(번호로 입력)\n",
      "    0. 종료\n",
      "    1. 리스트에 값 추가\n",
      "     1\n",
      "이름를 입력하시오 홍길동\n",
      "나이를 입력하시오 10\n",
      "주소를 입력하시오 부산\n",
      "아래 번호 중에 하나를 선택하여 주세요(번호로 입력)\n",
      "    0. 종료\n",
      "    1. 리스트에 값 추가\n",
      "     1\n",
      "이름를 입력하시오 이순신\n",
      "나이를 입력하시오 20\n",
      "주소를 입력하시오 대전\n",
      "아래 번호 중에 하나를 선택하여 주세요(번호로 입력)\n",
      "    0. 종료\n",
      "    1. 리스트에 값 추가\n",
      "     0\n"
     ]
    },
    {
     "name": "stdout",
     "output_type": "stream",
     "text": [
      "종료합니다.\n"
     ]
    }
   ],
   "source": [
    "name = []\n",
    "age = []\n",
    "area = []\n",
    "\n",
    "while True :\n",
    "    msg = \"\"\"아래 번호 중에 하나를 선택하여 주세요(번호로 입력)\n",
    "    0. 종료\n",
    "    1. 리스트에 값 추가\n",
    "    \"\"\"\n",
    "    message = input(msg)\n",
    "\n",
    "    if int(message) == 1 :\n",
    "        n = input(\"이름를 입력하시오\")\n",
    "        a = int(input(\"나이를 입력하시오\"))\n",
    "        are = input(\"주소를 입력하시오\")\n",
    "        name.append(n)\n",
    "        age.append(a)\n",
    "        area.append(are)\n",
    "\n",
    "         print(f\"{n}님의 나이({a})와 지역({are})을 정상적으로 추가하였습니다.\")\n",
    "\n",
    "    if int(message) == 1 :\n",
    "        continue\n",
    "    elif int(message) == 0 :\n",
    "        print(\"종료합니다.\")\n",
    "        break"
   ]
  },
  {
   "cell_type": "code",
   "execution_count": 200,
   "id": "4b4b4330-8040-4965-b974-723ebebb3af1",
   "metadata": {},
   "outputs": [
    {
     "name": "stdout",
     "output_type": "stream",
     "text": [
      "\n",
      " 입력된 데이터 목록\n",
      "['홍길동', '이순신']\n",
      "['10', '20']\n",
      "['부산', '대전']\n"
     ]
    }
   ],
   "source": [
    "print(\"\\n 입력된 데이터 목록\")\n",
    "for z in (name, age, area) :\n",
    "    print(z)"
   ]
  },
  {
   "cell_type": "code",
   "execution_count": 204,
   "id": "aeacb929-3f09-41fe-afd1-b2bfe353abe4",
   "metadata": {},
   "outputs": [
    {
     "name": "stdin",
     "output_type": "stream",
     "text": [
      "아래 번호 중에 하나를 선택하여 주세요(번호로 입력)\n",
      "0. 종료\n",
      "1. 리스트에 값 추가\n",
      " 1\n",
      "이름를 입력해 주세요 :  홍길동\n",
      "나이를 입력해 주세요 :  50\n",
      "지역를 입력해 주세요 :  부산\n"
     ]
    },
    {
     "name": "stdout",
     "output_type": "stream",
     "text": [
      "홍길동님의 나이(50)와 지역(부산)을 정상적으로 추가하였습니다.\n",
      "\n"
     ]
    },
    {
     "name": "stdin",
     "output_type": "stream",
     "text": [
      "아래 번호 중에 하나를 선택하여 주세요(번호로 입력)\n",
      "0. 종료\n",
      "1. 리스트에 값 추가\n",
      " 1\n",
      "이름를 입력해 주세요 :  이순신\n",
      "나이를 입력해 주세요 :  100\n",
      "지역를 입력해 주세요 :  전남\n"
     ]
    },
    {
     "name": "stdout",
     "output_type": "stream",
     "text": [
      "이순신님의 나이(100)와 지역(전남)을 정상적으로 추가하였습니다.\n",
      "\n"
     ]
    },
    {
     "name": "stdin",
     "output_type": "stream",
     "text": [
      "아래 번호 중에 하나를 선택하여 주세요(번호로 입력)\n",
      "0. 종료\n",
      "1. 리스트에 값 추가\n",
      " 0\n"
     ]
    },
    {
     "name": "stdout",
     "output_type": "stream",
     "text": [
      "종료합니다.\n"
     ]
    }
   ],
   "source": [
    "### 임의의 값 입력 받기 위한 안내 메시지\n",
    "msg = \"\"\"아래 번호 중에 하나를 선택하여 주세요(번호로 입력)\n",
    "0. 종료\n",
    "1. 리스트에 값 추가\n",
    "\"\"\"\n",
    "### 리스트 변수\n",
    "name = []\n",
    "age = []\n",
    "area = []\n",
    "\n",
    "while True :\n",
    "    mode = int(input(msg))\n",
    "\n",
    "    ### 0번 : 종료 처리하기\n",
    "    if mode  == 0 :\n",
    "        print(\"종료합니다.\")\n",
    "        break\n",
    "        \n",
    "    ### 1번 : 이름, 나이, 지역 입력 받기 처리\n",
    "    elif mode == 1 :\n",
    "        p_name = input(\"이름를 입력해 주세요 : \")\n",
    "        p_age = int(input(\"나이를 입력해 주세요 : \"))\n",
    "        p_area = input(\"지역를 입력해 주세요 : \")\n",
    "\n",
    "        # 리스트에 추가하기\n",
    "        name.append(p_name)\n",
    "        age.append(p_age)\n",
    "        area.append(p_area)\n",
    "\n",
    "        print(f\"{p_name}님의 나이({p_age})와 지역({p_area})을 정상적으로 추가하였습니다.\")\n",
    "\n",
    "    print()"
   ]
  },
  {
   "cell_type": "code",
   "execution_count": 205,
   "id": "7a229cc1-00ad-46c6-be05-0b8cf808860f",
   "metadata": {},
   "outputs": [
    {
     "name": "stdout",
     "output_type": "stream",
     "text": [
      "\n",
      " 입력된 데이터 목록\n",
      "['홍길동', '이순신']\n",
      "[50, 100]\n",
      "['부산', '전남']\n"
     ]
    }
   ],
   "source": [
    "print(\"\\n 입력된 데이터 목록\")\n",
    "for z in (name, age, area) :\n",
    "    print(z)"
   ]
  },
  {
   "cell_type": "code",
   "execution_count": 211,
   "id": "66fa9838-209a-4ee4-a3aa-cccd88328b2f",
   "metadata": {},
   "outputs": [
    {
     "name": "stdout",
     "output_type": "stream",
     "text": [
      "['홍길동', '이순신', '김유신']\n",
      "이순신이 등록된 이름입니다.\n",
      "이순신은 등록된 이름입니다.\n"
     ]
    }
   ],
   "source": [
    "### 특정 값이 리스트 내에 포함되어 있는지 확인하기\n",
    "list2 = [\"홍길동\", \"이순신\", \"김유신\"]\n",
    "print(list2)\n",
    "\n",
    "name = \"이순신\"\n",
    "### 이순신이라는 값이 리스트 내에 포함되어 있는지 확인\n",
    "# - 리스트 앞쪽에 in을 붙이면 왼쪽의 값이 오른쪽 리스트 내에 포함되어 있는지 확인함\n",
    "# - 포함되어 있으면 True, 없으면 False의 값을 반환하는 조건연산을 수행함\n",
    "# in : 포함관계 여부를 나타내는 조건연산\n",
    "if name in list2 :\n",
    "    print(f\"{name}이 등록된 이름입니다.\")\n",
    "else :\n",
    "    print(f\"{name}은 미등록 이름입니다.\")\n",
    "\n",
    "### 포함이 안된 경우를 조건처리할 경우에는 : not in 사용\n",
    "if name not in list2 :\n",
    "    print(f\"{name}이 미등록 이름입니다.\")\n",
    "else :\n",
    "    print(f\"{name}은 등록된 이름입니다.\") \n"
   ]
  },
  {
   "cell_type": "code",
   "execution_count": null,
   "id": "31c58d71-decd-4799-9c3c-ae48654d8bf8",
   "metadata": {},
   "outputs": [],
   "source": [
    "### 위 실습 예제에 추가하여\n",
    "# - 리스트에 데이터 추가 시에\n",
    "#    --> 추가하고자 하는 이름이 존재하지 않는 경우에만 추가하고,\n",
    "#    -->                       존재하는 경우에는 \"이미 등록된 사용자 입니다.\" 라고 보여준 후\n",
    "#    --> 다시 처음 임의 번호 입력 받는 위치로 이동"
   ]
  },
  {
   "cell_type": "code",
   "execution_count": 18,
   "id": "6e2469f5-2950-4b70-b278-a718a2011ccc",
   "metadata": {},
   "outputs": [
    {
     "name": "stdin",
     "output_type": "stream",
     "text": [
      "아래 번호 중에 하나를 선택하여 주세요(번호로 입력)\n",
      "0. 종료\n",
      "1. 리스트에 값 추가\n",
      " 1\n",
      "이름를 입력해 주세요 :  홍길동\n",
      "나이를 입력해 주세요 :  25\n",
      "지역를 입력해 주세요 :  부산\n"
     ]
    },
    {
     "name": "stdout",
     "output_type": "stream",
     "text": [
      "홍길동님의 나이(25)와 지역(부산)을 정상적으로 추가하였습니다.\n",
      "\n"
     ]
    },
    {
     "name": "stdin",
     "output_type": "stream",
     "text": [
      "아래 번호 중에 하나를 선택하여 주세요(번호로 입력)\n",
      "0. 종료\n",
      "1. 리스트에 값 추가\n",
      " 1\n",
      "이름를 입력해 주세요 :  홍길동\n"
     ]
    },
    {
     "name": "stdout",
     "output_type": "stream",
     "text": [
      "홍길동이 정보가 이미 존재합니다.\n"
     ]
    },
    {
     "name": "stdin",
     "output_type": "stream",
     "text": [
      "아래 번호 중에 하나를 선택하여 주세요(번호로 입력)\n",
      "0. 종료\n",
      "1. 리스트에 값 추가\n",
      " 0\n"
     ]
    },
    {
     "name": "stdout",
     "output_type": "stream",
     "text": [
      "종료합니다.\n"
     ]
    }
   ],
   "source": [
    "### 임의의 값 입력 받기 위한 안내 메시지\n",
    "msg = \"\"\"아래 번호 중에 하나를 선택하여 주세요(번호로 입력)\n",
    "0. 종료\n",
    "1. 리스트에 값 추가\n",
    "\"\"\"\n",
    "### 리스트 변수\n",
    "name = []\n",
    "age = []\n",
    "area = []\n",
    "\n",
    "while True :\n",
    "    mode = int(input(msg))\n",
    "\n",
    "    ### 0번 : 종료 처리하기\n",
    "    if mode  == 0 :\n",
    "        print(\"종료합니다.\")\n",
    "        break\n",
    "        \n",
    "    ### 1번 : 이름, 나이, 지역 입력 받기 처리\n",
    "    elif mode == 1 :\n",
    "        p_name = input(\"이름를 입력해 주세요 : \")\n",
    "        \n",
    "        if p_name in name :\n",
    "            print(f\"{p_name}이 정보가 이미 존재합니다.\")\n",
    "            continue\n",
    "            \n",
    "        p_age = int(input(\"나이를 입력해 주세요 : \"))\n",
    "        p_area = input(\"지역를 입력해 주세요 : \")\n",
    "\n",
    "        # 리스트에 추가하기\n",
    "        name.append(p_name)\n",
    "        age.append(p_age)\n",
    "        area.append(p_area)\n",
    "        \n",
    "        print(f\"{p_name}님의 나이({p_age})와 지역({p_area})을 정상적으로 추가하였습니다.\")\n",
    "\n",
    "    print()"
   ]
  },
  {
   "cell_type": "code",
   "execution_count": null,
   "id": "5b4b19ad-b024-4b72-a11c-8318f3c59a3e",
   "metadata": {},
   "outputs": [],
   "source": [
    "print(\"\\n 입력된 데이터 목록\")\n",
    "for z in (name, age, area) :\n",
    "    print(z)"
   ]
  },
  {
   "cell_type": "code",
   "execution_count": 17,
   "id": "8c1b49d1-ba73-4044-9f8f-bd0595cd3234",
   "metadata": {},
   "outputs": [
    {
     "name": "stdin",
     "output_type": "stream",
     "text": [
      "아래 번호 중에 하나를 선택하여 주세요(번호로 입력)\n",
      "0. 종료\n",
      "1. 리스트에 값 추가\n",
      " 1\n",
      "이름를 입력해 주세요 :  보경\n",
      "나이를 입력해 주세요 :  25\n",
      "지역를 입력해 주세요 :  부산\n"
     ]
    },
    {
     "name": "stdout",
     "output_type": "stream",
     "text": [
      "보경님의 나이(25)와 지역(부산)을 정상적으로 추가하였습니다.\n",
      "\n"
     ]
    },
    {
     "name": "stdin",
     "output_type": "stream",
     "text": [
      "아래 번호 중에 하나를 선택하여 주세요(번호로 입력)\n",
      "0. 종료\n",
      "1. 리스트에 값 추가\n",
      " 1\n",
      "이름를 입력해 주세요 :  홍길동\n",
      "나이를 입력해 주세요 :  33\n",
      "지역를 입력해 주세요 :  대전\n"
     ]
    },
    {
     "name": "stdout",
     "output_type": "stream",
     "text": [
      "홍길동님의 나이(33)와 지역(대전)을 정상적으로 추가하였습니다.\n",
      "\n"
     ]
    },
    {
     "name": "stdin",
     "output_type": "stream",
     "text": [
      "아래 번호 중에 하나를 선택하여 주세요(번호로 입력)\n",
      "0. 종료\n",
      "1. 리스트에 값 추가\n",
      " 1\n",
      "이름를 입력해 주세요 :  홍길동\n",
      "나이를 입력해 주세요 :  40\n",
      "지역를 입력해 주세요 :  대전\n"
     ]
    },
    {
     "name": "stdout",
     "output_type": "stream",
     "text": [
      "홍길동님의 정보가 이미 존재합니다.\n",
      "\n"
     ]
    },
    {
     "name": "stdin",
     "output_type": "stream",
     "text": [
      "아래 번호 중에 하나를 선택하여 주세요(번호로 입력)\n",
      "0. 종료\n",
      "1. 리스트에 값 추가\n",
      " 0\n"
     ]
    },
    {
     "name": "stdout",
     "output_type": "stream",
     "text": [
      "종료합니다.\n"
     ]
    }
   ],
   "source": [
    "### 임의의 값 입력 받기 위한 안내 메시지\n",
    "msg = \"\"\"아래 번호 중에 하나를 선택하여 주세요(번호로 입력)\n",
    "0. 종료\n",
    "1. 리스트에 값 추가\n",
    "\"\"\"\n",
    "### 리스트 변수\n",
    "name = []\n",
    "age = []\n",
    "area = []\n",
    "\n",
    "while True :\n",
    "    mode = int(input(msg))\n",
    "\n",
    "    ### 0번 : 종료 처리하기\n",
    "    if mode  == 0 :\n",
    "        print(\"종료합니다.\")\n",
    "        break\n",
    "        \n",
    "    ### 1번 : 이름, 나이, 지역 입력 받기 처리\n",
    "    elif mode == 1 :\n",
    "        p_name = input(\"이름를 입력해 주세요 : \")\n",
    "        p_age = int(input(\"나이를 입력해 주세요 : \"))\n",
    "        p_area = input(\"지역를 입력해 주세요 : \")\n",
    "\n",
    "        # 리스트에 추가하기\n",
    "        if p_name not in name :\n",
    "            name.append(p_name)\n",
    "            age.append(p_age)\n",
    "            area.append(p_area)\n",
    "        \n",
    "            print(f\"{p_name}님의 나이({p_age})와 지역({p_area})을 정상적으로 추가하였습니다.\")\n",
    "            \n",
    "        else :\n",
    "            print(f\"{p_name}님의 정보가 이미 존재합니다.\")\n",
    "\n",
    "    print()"
   ]
  },
  {
   "cell_type": "code",
   "execution_count": null,
   "id": "0e01f7d1-bf81-442e-bfb6-1f156d759799",
   "metadata": {},
   "outputs": [],
   "source": [
    "### 위 실습 예제에 이어서... 계속 합니다\n",
    "# - 안내 메시지에 \"2. 전체 검색\" 추가..\n",
    "# - 임의 번호 2번을 입력 받으면,\n",
    "#    --> 각 리스트 내에 있는 데이터를 모두 출력하기\n",
    "#    --> 출력 예시 : \"홍길동님의 나이는 22살이고 부산에 거주하고 있습니다.\"\n",
    "#                  : \"이순신님의 나이는 55살이고 대전에 거주하고 있습니다.\"\n",
    "#                  : ..."
   ]
  },
  {
   "cell_type": "code",
   "execution_count": 34,
   "id": "cc299bd3-1854-4d75-b9a1-cb61c11c169d",
   "metadata": {},
   "outputs": [
    {
     "name": "stdin",
     "output_type": "stream",
     "text": [
      "아래 번호 중에 하나를 선택하여 주세요(번호로 입력)\n",
      "0. 종료\n",
      "1. 리스트에 값 추가\n",
      "2. 전체 검색\n",
      " 2\n"
     ]
    },
    {
     "name": "stdout",
     "output_type": "stream",
     "text": [
      "등록된 데이터가 존재하지 않습니다!!\n",
      "\n"
     ]
    },
    {
     "name": "stdin",
     "output_type": "stream",
     "text": [
      "아래 번호 중에 하나를 선택하여 주세요(번호로 입력)\n",
      "0. 종료\n",
      "1. 리스트에 값 추가\n",
      "2. 전체 검색\n",
      " 0\n"
     ]
    },
    {
     "name": "stdout",
     "output_type": "stream",
     "text": [
      "종료합니다.\n"
     ]
    }
   ],
   "source": [
    "### 임의의 값 입력 받기 위한 안내 메시지\n",
    "msg = \"\"\"아래 번호 중에 하나를 선택하여 주세요(번호로 입력)\n",
    "0. 종료\n",
    "1. 리스트에 값 추가\n",
    "2. 전체 검색\n",
    "\"\"\"\n",
    "### 리스트 변수\n",
    "name = []\n",
    "age = []\n",
    "area = []\n",
    "\n",
    "while True :\n",
    "    mode = int(input(msg))\n",
    "\n",
    "    ### 0번 : 종료 처리하기\n",
    "    if mode  == 0 :\n",
    "        print(\"종료합니다.\")\n",
    "        break\n",
    "        \n",
    "    ### 1번 : 이름, 나이, 지역 입력 받기 처리\n",
    "    elif mode == 1 :\n",
    "        p_name = input(\"이름를 입력해 주세요 : \")\n",
    "        \n",
    "        if p_name in name :\n",
    "            print(f\"{p_name}이 정보가 이미 존재합니다.\")\n",
    "            continue\n",
    "            \n",
    "        p_age = int(input(\"나이를 입력해 주세요 : \"))\n",
    "        p_area = input(\"지역를 입력해 주세요 : \")\n",
    "\n",
    "        # 리스트에 추가하기\n",
    "        name.append(p_name)\n",
    "        age.append(p_age)\n",
    "        area.append(p_area)\n",
    "        \n",
    "        print(f\"{p_name}님의 나이({p_age})와 지역({p_area})을 정상적으로 추가하였습니다.\")\n",
    "\n",
    "    ### 2번 : 전체 검색\n",
    "    elif mode == 2 :\n",
    "        if len(name) == 0 : \n",
    "            print(\"등록된 데이터가 존재하지 않습니다!!\")\n",
    "            \n",
    "        else :\n",
    "            for i in range(0, len(name)) :\n",
    "                print(f\"{name[i]}님의 나이{age[i]}살이고 {area[i]}에 거주하고 있습니다.\")\n",
    "            \n",
    "\n",
    "    print()"
   ]
  },
  {
   "cell_type": "code",
   "execution_count": null,
   "id": "28b54c82-7589-406f-9abc-26821d549927",
   "metadata": {},
   "outputs": [],
   "source": [
    "### 위 실습 결과에 이어서\n",
    "# - 안내메시지 \"3. 검색하기(이름 검색)\"\n",
    "#    -- 3번을 선택하면\n",
    "#        --- 검색 할 이름을 입력 받습니다\n",
    "#        --- 입력받은 이름이 존재한다며...\n",
    "#            -> 해당 이름에 대한 데이터 출력하기\n",
    "#               (출력 예시 : \"홍길동님의 나이는 22살이고 부산에 거주하고 있습니다.\") \n",
    "#        --- 입력 받은 이름이 존재하지 않는다면..\n",
    "#            -> \"등록된 정보가 없습니다.\" 출력 후 초기 화면으로..."
   ]
  },
  {
   "cell_type": "code",
   "execution_count": 53,
   "id": "9f078fb3-ee68-454c-ab0d-9920d7e2a683",
   "metadata": {},
   "outputs": [
    {
     "name": "stdin",
     "output_type": "stream",
     "text": [
      "아래 번호 중에 하나를 선택하여 주세요(번호로 입력)\n",
      "0. 종료\n",
      "1. 리스트에 값 추가\n",
      "2. 전체 검색\n",
      "3. 검색\n",
      " 1\n",
      "이름를 입력해 주세요 :  보리\n",
      "나이를 입력해 주세요 :  22\n",
      "지역를 입력해 주세요 :  부산\n"
     ]
    },
    {
     "name": "stdout",
     "output_type": "stream",
     "text": [
      "보리님의 나이(22)와 지역(부산)을 정상적으로 추가하였습니다.\n",
      "\n"
     ]
    },
    {
     "name": "stdin",
     "output_type": "stream",
     "text": [
      "아래 번호 중에 하나를 선택하여 주세요(번호로 입력)\n",
      "0. 종료\n",
      "1. 리스트에 값 추가\n",
      "2. 전체 검색\n",
      "3. 검색\n",
      " 3\n",
      "이름을 검색해 주세요 보리\n"
     ]
    },
    {
     "name": "stdout",
     "output_type": "stream",
     "text": [
      "보리님의 나이22살이고 부산에 거주하고 있습니다.\n",
      "\n"
     ]
    },
    {
     "name": "stdin",
     "output_type": "stream",
     "text": [
      "아래 번호 중에 하나를 선택하여 주세요(번호로 입력)\n",
      "0. 종료\n",
      "1. 리스트에 값 추가\n",
      "2. 전체 검색\n",
      "3. 검색\n",
      " 1\n",
      "이름를 입력해 주세요 :  강정\n",
      "나이를 입력해 주세요 :  33\n",
      "지역를 입력해 주세요 :  서울\n"
     ]
    },
    {
     "name": "stdout",
     "output_type": "stream",
     "text": [
      "강정님의 나이(33)와 지역(서울)을 정상적으로 추가하였습니다.\n",
      "\n"
     ]
    },
    {
     "name": "stdin",
     "output_type": "stream",
     "text": [
      "아래 번호 중에 하나를 선택하여 주세요(번호로 입력)\n",
      "0. 종료\n",
      "1. 리스트에 값 추가\n",
      "2. 전체 검색\n",
      "3. 검색\n",
      " 3\n",
      "이름을 검색해 주세요 강정\n"
     ]
    },
    {
     "name": "stdout",
     "output_type": "stream",
     "text": [
      "강정님의 나이33살이고 서울에 거주하고 있습니다.\n",
      "\n"
     ]
    },
    {
     "name": "stdin",
     "output_type": "stream",
     "text": [
      "아래 번호 중에 하나를 선택하여 주세요(번호로 입력)\n",
      "0. 종료\n",
      "1. 리스트에 값 추가\n",
      "2. 전체 검색\n",
      "3. 검색\n",
      " 0\n"
     ]
    },
    {
     "name": "stdout",
     "output_type": "stream",
     "text": [
      "종료합니다.\n"
     ]
    }
   ],
   "source": [
    "### 임의의 값 입력 받기 위한 안내 메시지\n",
    "msg = \"\"\"아래 번호 중에 하나를 선택하여 주세요(번호로 입력)\n",
    "0. 종료\n",
    "1. 리스트에 값 추가\n",
    "2. 전체 검색\n",
    "3. 검색\n",
    "\"\"\"\n",
    "### 리스트 변수\n",
    "name = []\n",
    "age = []\n",
    "area = []\n",
    "\n",
    "while True :\n",
    "    mode = int(input(msg))\n",
    "\n",
    "    ### 0번 : 종료 처리하기\n",
    "    if mode  == 0 :\n",
    "        print(\"종료합니다.\")\n",
    "        break\n",
    "        \n",
    "    ### 1번 : 이름, 나이, 지역 입력 받기 처리\n",
    "    elif mode == 1 :\n",
    "        p_name = input(\"이름를 입력해 주세요 : \")\n",
    "        \n",
    "        if p_name in name :\n",
    "            print(f\"{p_name}이 정보가 이미 존재합니다.\")\n",
    "            continue\n",
    "            \n",
    "        p_age = int(input(\"나이를 입력해 주세요 : \"))\n",
    "        p_area = input(\"지역를 입력해 주세요 : \")\n",
    "\n",
    "        # 리스트에 추가하기\n",
    "        name.append(p_name)\n",
    "        age.append(p_age)\n",
    "        area.append(p_area)\n",
    "        \n",
    "        print(f\"{p_name}님의 나이({p_age})와 지역({p_area})을 정상적으로 추가하였습니다.\")\n",
    "\n",
    "    ### 2번 : 전체 검색\n",
    "    elif mode == 2 :\n",
    "        if len(name) == 0 : \n",
    "            print(\"등록된 데이터가 존재하지 않습니다!!\")\n",
    "            \n",
    "        else :\n",
    "            for i in range(0, len(name)) :\n",
    "                print(f\"{name[i]}님의 나이{age[i]}살이고 {area[i]}에 거주하고 있습니다.\")\n",
    "                \n",
    "    ### 3번 : 검색\n",
    "    elif mode == 3 :\n",
    "        ### 검색 할 이름 입력 받기\n",
    "        s_name = input(\"이름을 검색해 주세요\")\n",
    "        ### 검색 할 이름이 name 리스트 내에 존재(포함)하는지 확인\n",
    "        if s_name in name :\n",
    "            for i in range(0, len(name), 1) :\n",
    "                if name[i] == s_name :\n",
    "                    print(f\"{name[i]}님의 나이{age[i]}살이고 {area[i]}에 거주하고 있습니다.\")\n",
    "\n",
    "        else :\n",
    "            print(\"검색하고자 하는 이름이 존재하지 않습니다.\")\n",
    "\n",
    "            \n",
    "    print()"
   ]
  },
  {
   "cell_type": "code",
   "execution_count": 56,
   "id": "a5d9ca11-f382-4ccf-90c6-3350db79a4d1",
   "metadata": {},
   "outputs": [
    {
     "name": "stdin",
     "output_type": "stream",
     "text": [
      "아래 번호 중에 하나를 선택하여 주세요(번호로 입력)\n",
      "0. 종료\n",
      "1. 리스트에 값 추가\n",
      "2. 전체 검색\n",
      "3. 검색\n",
      " 6\n"
     ]
    },
    {
     "name": "stdout",
     "output_type": "stream",
     "text": [
      "잘못된 번호 입니다. 다시 입력해 주세요.\n",
      "\n"
     ]
    },
    {
     "name": "stdin",
     "output_type": "stream",
     "text": [
      "아래 번호 중에 하나를 선택하여 주세요(번호로 입력)\n",
      "0. 종료\n",
      "1. 리스트에 값 추가\n",
      "2. 전체 검색\n",
      "3. 검색\n",
      " 0\n"
     ]
    },
    {
     "name": "stdout",
     "output_type": "stream",
     "text": [
      "종료합니다.\n"
     ]
    }
   ],
   "source": [
    "### 임의의 값 입력 받기 위한 안내 메시지\n",
    "msg = \"\"\"아래 번호 중에 하나를 선택하여 주세요(번호로 입력)\n",
    "0. 종료\n",
    "1. 리스트에 값 추가\n",
    "2. 전체 검색\n",
    "3. 검색\n",
    "\"\"\"\n",
    "### 리스트 변수\n",
    "name = []\n",
    "age = []\n",
    "area = []\n",
    "\n",
    "while True :\n",
    "    mode = int(input(msg))\n",
    "\n",
    "    ### 0번 : 종료 처리하기\n",
    "    if mode  == 0 :\n",
    "        print(\"종료합니다.\")\n",
    "        break\n",
    "        \n",
    "    ### 1번 : 이름, 나이, 지역 입력 받기 처리\n",
    "    elif mode == 1 :\n",
    "        p_name = input(\"이름를 입력해 주세요 : \")\n",
    "        \n",
    "        if p_name in name :\n",
    "            print(f\"{p_name}이 정보가 이미 존재합니다.\")\n",
    "            continue\n",
    "            \n",
    "        p_age = int(input(\"나이를 입력해 주세요 : \"))\n",
    "        p_area = input(\"지역를 입력해 주세요 : \")\n",
    "\n",
    "        # 리스트에 추가하기\n",
    "        name.append(p_name)\n",
    "        age.append(p_age)\n",
    "        area.append(p_area)\n",
    "        \n",
    "        print(f\"{p_name}님의 나이({p_age})와 지역({p_area})을 정상적으로 추가하였습니다.\")\n",
    "\n",
    "    ### 2번 : 전체 검색\n",
    "    elif mode == 2 :\n",
    "        if len(name) == 0 : \n",
    "            print(\"등록된 데이터가 존재하지 않습니다.\")\n",
    "            \n",
    "        else :\n",
    "            for i in range(0, len(name)) :\n",
    "                print(f\"{name[i]}님의 나이{age[i]}살이고 {area[i]}에 거주하고 있습니다.\")\n",
    "                \n",
    "    ### 3번 : 검색\n",
    "    elif mode == 3 :\n",
    "        ### 검색 할 이름 입력 받기\n",
    "        s_name = input(\"이름을 검색해 주세요\")\n",
    "        ### 검색 할 이름이 name 리스트 내에 존재(포함)하는지 확인\n",
    "        if s_name in name :\n",
    "            ### 리스트 내에서 검색 할 이름의 위치(인덱스 번호) 찾기\n",
    "            i = name.index(s_name)\n",
    "            print(f\"{name[i]}님의 나이{age[i]}살이고 {area[i]}에 거주하고 있습니다.\")\n",
    "\n",
    "        else :\n",
    "            print(\"검색하고자 하는 이름이 존재하지 않습니다.\")\n",
    "\n",
    "            \n",
    "    ### 해당하는 번호가 없을 때 처리\n",
    "    else :\n",
    "        print(\"잘못된 번호 입니다. 다시 입력해 주세요.\")\n",
    "        \n",
    "    print()"
   ]
  },
  {
   "cell_type": "code",
   "execution_count": null,
   "id": "daf21f0b-10d4-4b6e-aef0-55745ba9dc20",
   "metadata": {},
   "outputs": [],
   "source": [
    "### 위 실습 결과에 이어서.....\n",
    "# - 안내 메시지에 \"4. 삭제하기(특정 이름)\" 추가\n",
    "# - 4번이 선택된 경우에...\n",
    "#    -- \"삭제하고자 하는 이름을 입력하세요!\" 입력으로 받기\n",
    "#    -- 삭제 할 이름이 존재하는지 확인\n",
    "#        --- 존재하지 않으면 : \"삭제하고자 하는 이름이 존재하지 않습니다.\" 출력 후 처음 화면으로\n",
    "#        --- 존재한다면\n",
    "#            --> 해당 이름에 해당하는 리스트 위치의 이름, 나이, 지역 삭제하기\n",
    "#            --> 삭제 완료 후  \"정상적으로 삭제 되었습니다!\" 출력 후 처음 화면으로\n",
    "# - 삭제 확인 : 2반 전체 검색으로 확인"
   ]
  },
  {
   "cell_type": "code",
   "execution_count": 62,
   "id": "25b9aac1-cfc4-46aa-8870-3ddf2c6aa326",
   "metadata": {},
   "outputs": [
    {
     "name": "stdin",
     "output_type": "stream",
     "text": [
      "아래 번호 중에 하나를 선택하여 주세요(번호로 입력)\n",
      "0. 종료\n",
      "1. 리스트에 값 추가\n",
      "2. 전체 검색\n",
      "3. 검색\n",
      "4. 삭제\n",
      " 0\n"
     ]
    },
    {
     "name": "stdout",
     "output_type": "stream",
     "text": [
      "종료합니다.\n"
     ]
    }
   ],
   "source": [
    "### 임의의 값 입력 받기 위한 안내 메시지\n",
    "msg = \"\"\"아래 번호 중에 하나를 선택하여 주세요(번호로 입력)\n",
    "0. 종료\n",
    "1. 리스트에 값 추가\n",
    "2. 전체 검색\n",
    "3. 검색\n",
    "4. 삭제\n",
    "\"\"\"\n",
    "### 리스트 변수\n",
    "name = []\n",
    "age = []\n",
    "area = []\n",
    "\n",
    "while True :\n",
    "    mode = int(input(msg))\n",
    "\n",
    "    ### 0번 : 종료 처리하기\n",
    "    if mode  == 0 :\n",
    "        print(\"종료합니다.\")\n",
    "        break\n",
    "        \n",
    "    ### 1번 : 이름, 나이, 지역 입력 받기 처리\n",
    "    elif mode == 1 :\n",
    "        p_name = input(\"이름를 입력해 주세요 : \")\n",
    "        \n",
    "        if p_name in name :\n",
    "            print(f\"{p_name}이 정보가 이미 존재합니다.\")\n",
    "            continue\n",
    "            \n",
    "        p_age = int(input(\"나이를 입력해 주세요 : \"))\n",
    "        p_area = input(\"지역를 입력해 주세요 : \")\n",
    "\n",
    "        # 리스트에 추가하기\n",
    "        name.append(p_name)\n",
    "        age.append(p_age)\n",
    "        area.append(p_area)\n",
    "        \n",
    "        print(f\"{p_name}님의 나이({p_age})와 지역({p_area})을 정상적으로 추가하였습니다.\")\n",
    "\n",
    "    ### 2번 : 전체 검색\n",
    "    elif mode == 2 :\n",
    "        if len(name) == 0 : \n",
    "            print(\"등록된 데이터가 존재하지 않습니다.\")\n",
    "            \n",
    "        else :\n",
    "            for i in range(0, len(name)) :\n",
    "                print(f\"{name[i]}님의 나이{age[i]}살이고 {area[i]}에 거주하고 있습니다.\")\n",
    "                \n",
    "    ### 3번 : 검색\n",
    "    elif mode == 3 :\n",
    "        ### 검색 할 이름 입력 받기\n",
    "        s_name = input(\"이름을 검색해 주세요\")\n",
    "        ### 검색 할 이름이 name 리스트 내에 존재(포함)하는지 확인\n",
    "        if s_name in name :\n",
    "            ### 리스트 내에서 검색 할 이름의 위치(인덱스 번호) 찾기\n",
    "            i = name.index(s_name)\n",
    "            print(f\"{name[i]}님의 나이{age[i]}살이고 {area[i]}에 거주하고 있습니다.\")\n",
    "\n",
    "        else :\n",
    "            print(\"검색하고자 하는 이름이 존재하지 않습니다.\")\n",
    "\n",
    "    ### 4번 : 삭제\n",
    "    elif mode == 4 :\n",
    "        ### 삭제 할 이름 입력 받기\n",
    "        s_name = input(\"삭제 할 이름을 입력해 주세요\")\n",
    "        ### 삭제 할 이름이 name 리스트 내에 존재(포함)하는지 확인\n",
    "        if s_name in name :\n",
    "            ### 리스트 내에서 검색 할 이름의 위치(인덱스 번호) 찾기\n",
    "            i = name.index(s_name)\n",
    "            ### 삭제처리\n",
    "            del name[i], age[i], area[i]\n",
    "            print(\"정상적으로 삭제 되었습니다!\")\n",
    "\n",
    "        else :\n",
    "            print(\"삭제하고자 하는 이름이 존재하지 않습니다.\")\n",
    "\n",
    "            \n",
    "    ### 해당하는 번호가 없을 때 처리\n",
    "    else :\n",
    "        print(\"잘못된 번호 입니다. 다시 입력해 주세요.\")\n",
    "        \n",
    "    print()"
   ]
  },
  {
   "cell_type": "code",
   "execution_count": null,
   "id": "11f05315-fc48-4ca9-bfdc-ea6df2c2aae2",
   "metadata": {},
   "outputs": [],
   "source": [
    "### 위 코드에 이어서...\n",
    "# - 안내 메시지에 \"5. 수정하기\" 추가\n",
    "# - 5번이 선택되면...\n",
    "#   (조별로, 시나리오를 만들어서 처리해 보세요.)\n",
    "#    -- 수정할 대상 입력 받기(이름 입력 받기)\n",
    "#    -- 수정할 대상이 있는지 확인\n",
    "#        --- 수정할 대상이 있다면.\n",
    "#            ---- 수정할 항목 선택하기\n",
    "#                -> 안매메시지 \"1. 이름 수정, 2. 나이 수정, 3. 지역 수정\"\n",
    "#            ---- 1번이 선택되면 : 수정할 이름 입력 받아서 수정\n",
    "#            ---- 2번이 선택되면 : 수정할 나이를 입력 받아서 수정\n",
    "#            ---- 3번이 선택되면 : 수정할 지역을 입력받아서 수정\n",
    "#    -- 수정할 대상이 없다면 : \"해당 이름에 대한 정보가 존재하지 않습니다.\" 출력 후 처음 화면으로"
   ]
  },
  {
   "cell_type": "code",
   "execution_count": 67,
   "id": "38802c4e-7b8a-4cce-a389-7ce7c65ccfe0",
   "metadata": {},
   "outputs": [
    {
     "name": "stdin",
     "output_type": "stream",
     "text": [
      "아래 번호 중에 하나를 선택하여 주세요(번호로 입력)\n",
      "0. 종료\n",
      "1. 리스트에 값 추가\n",
      "2. 전체 검색\n",
      "3. 검색\n",
      "4. 삭제\n",
      "5. 수정\n",
      " 0\n"
     ]
    },
    {
     "name": "stdout",
     "output_type": "stream",
     "text": [
      "종료합니다.\n"
     ]
    }
   ],
   "source": [
    "## 임의의 값 입력 받기 위한 안내 메시지\n",
    "msg = \"\"\"아래 번호 중에 하나를 선택하여 주세요(번호로 입력)\n",
    "0. 종료\n",
    "1. 리스트에 값 추가\n",
    "2. 전체 검색\n",
    "3. 검색\n",
    "4. 삭제\n",
    "5. 수정\n",
    "\"\"\"\n",
    "### 리스트 변수\n",
    "name = []\n",
    "age = []\n",
    "area = []\n",
    "\n",
    "while True :\n",
    "    mode = int(input(msg))\n",
    "\n",
    "    ### 0번 : 종료 처리하기\n",
    "    if mode  == 0 :\n",
    "        print(\"종료합니다.\")\n",
    "        break\n",
    "        \n",
    "    ### 1번 : 이름, 나이, 지역 입력 받기 처리\n",
    "    elif mode == 1 :\n",
    "        p_name = input(\"이름를 입력해 주세요 : \")\n",
    "        \n",
    "        if p_name in name :\n",
    "            print(f\"{p_name}이 정보가 이미 존재합니다.\")\n",
    "            continue\n",
    "            \n",
    "        p_age = int(input(\"나이를 입력해 주세요 : \"))\n",
    "        p_area = input(\"지역를 입력해 주세요 : \")\n",
    "\n",
    "        # 리스트에 추가하기\n",
    "        name.append(p_name)\n",
    "        age.append(p_age)\n",
    "        area.append(p_area)\n",
    "        \n",
    "        print(f\"{p_name}님의 나이({p_age})와 지역({p_area})을 정상적으로 추가하였습니다.\")\n",
    "\n",
    "    ### 2번 : 전체 검색\n",
    "    elif mode == 2 :\n",
    "        if len(name) == 0 : \n",
    "            print(\"등록된 데이터가 존재하지 않습니다.\")\n",
    "            \n",
    "        else :\n",
    "            for i in range(0, len(name)) :\n",
    "                print(f\"{name[i]}님의 나이{age[i]}살이고 {area[i]}에 거주하고 있습니다.\")\n",
    "                \n",
    "    ### 3번 : 검색\n",
    "    elif mode == 3 :\n",
    "        ### 검색 할 이름 입력 받기\n",
    "        s_name = input(\"이름을 검색해 주세요\")\n",
    "        ### 검색 할 이름이 name 리스트 내에 존재(포함)하는지 확인\n",
    "        if s_name in name :\n",
    "            ### 리스트 내에서 검색 할 이름의 위치(인덱스 번호) 찾기\n",
    "            i = name.index(s_name)\n",
    "            print(f\"{name[i]}님의 나이{age[i]}살이고 {area[i]}에 거주하고 있습니다.\")\n",
    "\n",
    "        else :\n",
    "            print(\"검색하고자 하는 이름이 존재하지 않습니다.\")\n",
    "\n",
    "    ### 4번 : 삭제\n",
    "    elif mode == 4 :\n",
    "        ### 삭제 할 이름 입력 받기\n",
    "        s_name = input(\"삭제 할 이름을 입력해 주세요\")\n",
    "        ### 삭제 할 이름이 name 리스트 내에 존재(포함)하는지 확인\n",
    "        if s_name in name :\n",
    "            ### 리스트 내에서 검색 할 이름의 위치(인덱스 번호) 찾기\n",
    "            i = name.index(s_name)\n",
    "            ### 삭제처리\n",
    "            del name[i], age[i], area[i]\n",
    "            print(\"정상적으로 삭제 되었습니다!\")\n",
    "\n",
    "        else :\n",
    "            print(\"삭제하고자 하는 이름이 존재하지 않습니다.\")\n",
    "            \n",
    "    ### 5번 : 수정\n",
    "    elif mode == 5 :\n",
    "        s_name = input(\"수정 할 이름을 검색해 주세요\")\n",
    "        ### 검색 할 이름이 name 리스트 내에 존재(포함)하는지 확인\n",
    "        if s_name in name :\n",
    "            ### 리스트 내에서 검색 할 이름의 위치(인덱스 번호) 찾기\n",
    "            i = name.index(s_name)\n",
    "            \n",
    "            name[i] = input(\"수정 할 이름를 입력해 주세요 : \")\n",
    "            age[i] = int(input(\"수정 할 나이를 입력해 주세요 : \"))\n",
    "            area[i] = input(\"수정 할 지역를 입력해 주세요 : \")\n",
    "\n",
    "            print(\"수정이 완료되었습니다.\")\n",
    "\n",
    "        else :\n",
    "            print(\"수정하고자 하는 이름이 존재하지 않습니다.\")\n",
    "\n",
    "            \n",
    "    ### 해당하는 번호가 없을 때 처리\n",
    "    else :\n",
    "        print(\"잘못된 번호 입니다. 다시 입력해 주세요.\")\n",
    "        \n",
    "    print()"
   ]
  },
  {
   "cell_type": "code",
   "execution_count": 5,
   "id": "ceb53c8c-4024-4eb2-8474-938b75f7e35b",
   "metadata": {},
   "outputs": [
    {
     "name": "stdin",
     "output_type": "stream",
     "text": [
      "아래 번호 중에 하나를 선택하여 주세요(번호로 입력)\n",
      "0. 종료\n",
      "1. 리스트에 값 추가\n",
      "2. 전체 검색\n",
      "3. 검색\n",
      "4. 삭제\n",
      "5. 수정\n",
      " 0\n"
     ]
    },
    {
     "name": "stdout",
     "output_type": "stream",
     "text": [
      "종료합니다.\n"
     ]
    }
   ],
   "source": [
    "## 임의의 값 입력 받기 위한 안내 메시지\n",
    "msg = \"\"\"아래 번호 중에 하나를 선택하여 주세요(번호로 입력)\n",
    "0. 종료\n",
    "1. 리스트에 값 추가\n",
    "2. 전체 검색\n",
    "3. 검색\n",
    "4. 삭제\n",
    "5. 수정\n",
    "\"\"\"\n",
    "### 리스트 변수\n",
    "name = []\n",
    "age = []\n",
    "area = []\n",
    "\n",
    "while True :\n",
    "    mode = int(input(msg))\n",
    "\n",
    "    ### 0번 : 종료 처리하기\n",
    "    if mode  == 0 :\n",
    "        print(\"종료합니다.\")\n",
    "        break\n",
    "        \n",
    "    ### 1번 : 이름, 나이, 지역 입력 받기 처리\n",
    "    elif mode == 1 :\n",
    "        p_name = input(\"이름를 입력해 주세요 : \")\n",
    "        \n",
    "        if p_name in name :\n",
    "            print(f\"{p_name}이 정보가 이미 존재합니다.\")\n",
    "            continue\n",
    "            \n",
    "        p_age = int(input(\"나이를 입력해 주세요 : \"))\n",
    "        p_area = input(\"지역를 입력해 주세요 : \")\n",
    "\n",
    "        # 리스트에 추가하기\n",
    "        name.append(p_name)\n",
    "        age.append(p_age)\n",
    "        area.append(p_area)\n",
    "        \n",
    "        print(f\"{p_name}님의 나이({p_age})와 지역({p_area})을 정상적으로 추가하였습니다.\")\n",
    "\n",
    "    ### 2번 : 전체 검색\n",
    "    elif mode == 2 :\n",
    "        if len(name) == 0 : \n",
    "            print(\"등록된 데이터가 존재하지 않습니다.\")\n",
    "            \n",
    "        else :\n",
    "            for i in range(0, len(name)) :\n",
    "                print(f\"{name[i]}님의 나이{age[i]}살이고 {area[i]}에 거주하고 있습니다.\")\n",
    "                \n",
    "    ### 3번 : 검색\n",
    "    elif mode == 3 :\n",
    "        ### 검색 할 이름 입력 받기\n",
    "        s_name = input(\"이름을 검색해 주세요\")\n",
    "        ### 검색 할 이름이 name 리스트 내에 존재(포함)하는지 확인\n",
    "        if s_name in name :\n",
    "            ### 리스트 내에서 검색 할 이름의 위치(인덱스 번호) 찾기\n",
    "            i = name.index(s_name)\n",
    "            print(f\"{name[i]}님의 나이{age[i]}살이고 {area[i]}에 거주하고 있습니다.\")\n",
    "\n",
    "        else :\n",
    "            print(\"검색하고자 하는 이름이 존재하지 않습니다.\")\n",
    "\n",
    "    ### 4번 : 삭제\n",
    "    elif mode == 4 :\n",
    "        ### 삭제 할 이름 입력 받기\n",
    "        s_name = input(\"삭제 할 이름을 입력해 주세요\")\n",
    "        ### 삭제 할 이름이 name 리스트 내에 존재(포함)하는지 확인\n",
    "        if s_name in name :\n",
    "            ### 리스트 내에서 검색 할 이름의 위치(인덱스 번호) 찾기\n",
    "            i = name.index(s_name)\n",
    "            ### 삭제처리\n",
    "            del name[i], age[i], area[i]\n",
    "            print(\"정상적으로 삭제 되었습니다!\")\n",
    "\n",
    "        else :\n",
    "            print(\"삭제하고자 하는 이름이 존재하지 않습니다.\")\n",
    "            \n",
    "    ### 5번 : 수정\n",
    "    elif mode == 5 :\n",
    "        s_name = input(\"수정할 이름을 검색해 주세요\")\n",
    "        ### 검색 할 이름이 name 리스트 내에 존재(포함)하는지 확인\n",
    "        if s_name in name :\n",
    "            ### 리스트 내에서 검색 할 이름의 위치(인덱스 번호) 찾기\n",
    "            i = name.index(s_name)\n",
    "\n",
    "            while True :\n",
    "                print(\"수정할 항목을 선택해 주세요\")\n",
    "                print(\"1. 이름 수정\")\n",
    "                print(\"2. 나이 수정\")\n",
    "                print(\"3. 지역 수정\")\n",
    "                print(\"4. 수정 종료\")\n",
    "\n",
    "                choice = input(\"번호를 선택 해 주세요\")\n",
    "\n",
    "                if choice == \"1\" :\n",
    "                    name[i] = input(\"수정할 이름을 작성해주세요\")\n",
    "                    print(\"이름이 수정되었습니다\")\n",
    "                elif choice == \"2\" :\n",
    "                    age[i] = input(\"수정할 나이을 작성해주세요\")\n",
    "                    print(\"이름이 수정되었습니다\")\n",
    "                elif choice == \"3\" :\n",
    "                    area[i] = input(\"수정할 지역을 작성해주세요\")\n",
    "                    print(\"이름이 수정되었습니다\")\n",
    "                elif choice == \"4\" :\n",
    "                    print(\"홈으로 돌아갑니다\")\n",
    "                    break\n",
    "\n",
    "            print(\"수정이 완료되었습니다.\")\n",
    "\n",
    "        else :\n",
    "            print(\"수정하고자 하는 이름이 존재하지 않습니다.\")\n",
    "\n",
    "            \n",
    "    ### 해당하는 번호가 없을 때 처리\n",
    "    else :\n",
    "        print(\"잘못된 번호 입니다. 다시 입력해 주세요.\")\n",
    "        \n",
    "    print()"
   ]
  },
  {
   "cell_type": "code",
   "execution_count": 7,
   "id": "5197a2d4-2eea-4fc3-a78f-a881f21fb4ae",
   "metadata": {},
   "outputs": [
    {
     "name": "stdin",
     "output_type": "stream",
     "text": [
      "아래 번호 중에 하나를 선택하여 주세요(번호로 입력)\n",
      "0. 종료\n",
      "1. 리스트에 값 추가\n",
      "2. 전체 검색\n",
      "3. 검색\n",
      "4. 삭제\n",
      "5. 수정\n",
      " 0\n"
     ]
    },
    {
     "name": "stdout",
     "output_type": "stream",
     "text": [
      "종료합니다.\n"
     ]
    }
   ],
   "source": [
    "### 임의의 값 입력 받기 위한 안내 메시지\n",
    "msg = \"\"\"아래 번호 중에 하나를 선택하여 주세요(번호로 입력)\n",
    "0. 종료\n",
    "1. 리스트에 값 추가\n",
    "2. 전체 검색\n",
    "3. 검색\n",
    "4. 삭제\n",
    "5. 수정\n",
    "\"\"\"\n",
    "### 리스트 변수\n",
    "name = []\n",
    "age = []\n",
    "area = []\n",
    "\n",
    "while True :\n",
    "    mode = int(input(msg))\n",
    "\n",
    "    ### 0번 : 종료 처리하기\n",
    "    if mode  == 0 :\n",
    "        print(\"종료합니다.\")\n",
    "        break\n",
    "        \n",
    "    ### 1번 : 이름, 나이, 지역 입력 받기 처리\n",
    "    elif mode == 1 :\n",
    "        p_name = input(\"이름를 입력해 주세요 : \")\n",
    "        \n",
    "        if p_name in name :\n",
    "            print(f\"{p_name}이 정보가 이미 존재합니다.\")\n",
    "            continue\n",
    "            \n",
    "        p_age = int(input(\"나이를 입력해 주세요 : \"))\n",
    "        p_area = input(\"지역를 입력해 주세요 : \")\n",
    "\n",
    "        # 리스트에 추가하기\n",
    "        name.append(p_name)\n",
    "        age.append(p_age)\n",
    "        area.append(p_area)\n",
    "        \n",
    "        print(f\"{p_name}님의 나이({p_age})와 지역({p_area})을 정상적으로 추가하였습니다.\")\n",
    "\n",
    "    ### 2번 : 전체 검색\n",
    "    elif mode == 2 :\n",
    "        if len(name) == 0 : \n",
    "            print(\"등록된 데이터가 존재하지 않습니다.\")\n",
    "            \n",
    "        else :\n",
    "            for i in range(0, len(name)) :\n",
    "                print(f\"{name[i]}님의 나이{age[i]}살이고 {area[i]}에 거주하고 있습니다.\")\n",
    "                \n",
    "    ### 3번 : 검색\n",
    "    elif mode == 3 :\n",
    "        ### 검색 할 이름 입력 받기\n",
    "        s_name = input(\"이름을 검색해 주세요\")\n",
    "        ### 검색 할 이름이 name 리스트 내에 존재(포함)하는지 확인\n",
    "        if s_name in name :\n",
    "            ### 리스트 내에서 검색 할 이름의 위치(인덱스 번호) 찾기\n",
    "            i = name.index(s_name)\n",
    "            print(f\"{name[i]}님의 나이{age[i]}살이고 {area[i]}에 거주하고 있습니다.\")\n",
    "\n",
    "        else :\n",
    "            print(\"검색하고자 하는 이름이 존재하지 않습니다.\")\n",
    "\n",
    "    ### 4번 : 삭제\n",
    "    elif mode == 4 :\n",
    "        ### 삭제할 이름 입력 받기\n",
    "        s_name = input(\"삭제할 이름을 입력해 주세요\")\n",
    "        ### 삭제할 이름이 name 리스트 내에 존재(포함)하는지 확인\n",
    "        if s_name in name :\n",
    "            ### 리스트 내에서 검색할 이름의 위치(인덱스 번호) 찾기\n",
    "            i = name.index(s_name)\n",
    "            ### 삭제처리\n",
    "            del name[i], age[i], area[i]\n",
    "            print(\"정상적으로 삭제 되었습니다!\")\n",
    "\n",
    "        else :\n",
    "            print(\"삭제하고자 하는 이름이 존재하지 않습니다.\")\n",
    "\n",
    "    ### 5번 : 수정\n",
    "    elif mode == 5 :\n",
    "        ### 수정할 대상(이름) 입력 받기\n",
    "        u_name = input(\"수정하고자 하는 대상(이름)을 입력하세요! : \")\n",
    "\n",
    "        ### 수정할 대상이 리스트에 존재하는지 확인하기\n",
    "        if u_name in name :\n",
    "            ### 수정할  대상의 인데스 위치 찾기\n",
    "            i = name.index(u_name)\n",
    "            \n",
    "            ### 수정할 항목 선택 처리\n",
    "            u_msg = \"\"\"이름, 나이, 주소 중에 수정할 번호를 선택하세요!\n",
    "            1. 이름\n",
    "            2. 나이\n",
    "            3. 지역\n",
    "            \"\"\"\n",
    "            u_mode = int(input(u_msg))\n",
    "\n",
    "            ### 1. 이름 수정 처리\n",
    "            if u_mode == 1 :\n",
    "                ### 수정하고자 하는 이름 입력 받기\n",
    "                u_name = input(\"수정하고자 하는 이름을 입력 하세요 : \")\n",
    "\n",
    "                ### 이름 수정하기\n",
    "                name[i] = u_name\n",
    "                \n",
    "            ### 2. 나이 수정 처리\n",
    "            elif u_mode == 2 :\n",
    "                u_age = int(input(\"수정하고자 하는 나이을 입력 하세요 : \"))\n",
    "\n",
    "                ### 나이 수정하기\n",
    "                age[i] = u_age\n",
    "\n",
    "            ### 3. 지역 수정 처리\n",
    "            elif u_mode == 3 :\n",
    "                u_area = input(\"수정하고자 하는 지역을 입력 하세요 : \")\n",
    "\n",
    "                ### 지역 수정하기\n",
    "                area[i] = u_area\n",
    "\n",
    "            print(\"정상적으로 수정되었습니다.\")\n",
    "\n",
    "        else :\n",
    "            print(\"수정하고자 하는 이름이 존재하지 않습니다.\")\n",
    "\n",
    "            \n",
    "    ### 해당하는 번호가 없을 때 처리\n",
    "    else :\n",
    "        print(\"잘못된 번호 입니다. 다시 입력해 주세요.\")\n",
    "        \n",
    "    print()"
   ]
  },
  {
   "cell_type": "code",
   "execution_count": null,
   "id": "3daa996c-aaa3-44ac-8dad-528060aebc57",
   "metadata": {},
   "outputs": [],
   "source": []
  },
  {
   "cell_type": "code",
   "execution_count": null,
   "id": "93c6f18e-4114-45dd-b6aa-d72691ca07c8",
   "metadata": {},
   "outputs": [],
   "source": []
  },
  {
   "cell_type": "code",
   "execution_count": null,
   "id": "3fd41aa9-e517-48d8-bc37-740af7ec0e50",
   "metadata": {},
   "outputs": [],
   "source": []
  },
  {
   "cell_type": "code",
   "execution_count": null,
   "id": "0a08de9b-0152-418d-a331-5cdaac717c47",
   "metadata": {},
   "outputs": [],
   "source": []
  },
  {
   "cell_type": "code",
   "execution_count": null,
   "id": "64ccbbfa-dd29-4946-bee3-06cd5f83f088",
   "metadata": {},
   "outputs": [],
   "source": []
  },
  {
   "cell_type": "code",
   "execution_count": null,
   "id": "4bb6634b-c31d-420d-879f-80a84b52368a",
   "metadata": {},
   "outputs": [],
   "source": []
  },
  {
   "cell_type": "code",
   "execution_count": null,
   "id": "bc256cad-a89e-4e0a-96f2-6c8c656287b2",
   "metadata": {},
   "outputs": [],
   "source": []
  },
  {
   "cell_type": "code",
   "execution_count": null,
   "id": "33e1e6f5-c5f8-46b6-bfc1-1e8ef53a9d56",
   "metadata": {},
   "outputs": [],
   "source": []
  },
  {
   "cell_type": "code",
   "execution_count": null,
   "id": "362abb4d-7ac9-49f2-bf83-78839c41d99a",
   "metadata": {},
   "outputs": [],
   "source": []
  },
  {
   "cell_type": "code",
   "execution_count": null,
   "id": "5074ccac-1a4f-42c3-b948-3fac2aab691e",
   "metadata": {},
   "outputs": [],
   "source": []
  }
 ],
 "metadata": {
  "kernelspec": {
   "display_name": "pk_base_202503_kernel",
   "language": "python",
   "name": "pk_base_202503"
  },
  "language_info": {
   "codemirror_mode": {
    "name": "ipython",
    "version": 3
   },
   "file_extension": ".py",
   "mimetype": "text/x-python",
   "name": "python",
   "nbconvert_exporter": "python",
   "pygments_lexer": "ipython3",
   "version": "3.9.21"
  }
 },
 "nbformat": 4,
 "nbformat_minor": 5
}
