{
 "cells": [
  {
   "cell_type": "code",
   "execution_count": 20,
   "id": "527d9cbd-623e-46e3-8beb-ba36f5580802",
   "metadata": {},
   "outputs": [],
   "source": [
    "### 데이터 처리(조작) 라이브러리\n",
    "import pandas as pd\n",
    "import numpy as np\n",
    "\n",
    "import matplotlib.pyplot as plt\n",
    "\n",
    "import seaborn as sns\n",
    "\n",
    "plt.rc(\"font\", family=\"Malgun Gothic\")\n",
    "\n",
    "plt.rcParams[\"axes.unicode_minus\"] = False"
   ]
  },
  {
   "cell_type": "code",
   "execution_count": 2,
   "id": "812e5aef-05f4-42c0-8edf-2e907294d8b2",
   "metadata": {},
   "outputs": [
    {
     "data": {
      "text/html": [
       "<div>\n",
       "<style scoped>\n",
       "    .dataframe tbody tr th:only-of-type {\n",
       "        vertical-align: middle;\n",
       "    }\n",
       "\n",
       "    .dataframe tbody tr th {\n",
       "        vertical-align: top;\n",
       "    }\n",
       "\n",
       "    .dataframe thead th {\n",
       "        text-align: right;\n",
       "    }\n",
       "</style>\n",
       "<table border=\"1\" class=\"dataframe\">\n",
       "  <thead>\n",
       "    <tr style=\"text-align: right;\">\n",
       "      <th></th>\n",
       "      <th>key</th>\n",
       "      <th>SICK_SNO</th>\n",
       "      <th>SICK_DGSBJT_CD</th>\n",
       "      <th>DMD_SICK_SYM</th>\n",
       "      <th>DMD_DGSBJT_CD</th>\n",
       "    </tr>\n",
       "  </thead>\n",
       "  <tbody>\n",
       "    <tr>\n",
       "      <th>0</th>\n",
       "      <td>1</td>\n",
       "      <td>3</td>\n",
       "      <td>01</td>\n",
       "      <td>K599</td>\n",
       "      <td>1</td>\n",
       "    </tr>\n",
       "    <tr>\n",
       "      <th>1</th>\n",
       "      <td>1</td>\n",
       "      <td>2</td>\n",
       "      <td>01</td>\n",
       "      <td>R100</td>\n",
       "      <td>1</td>\n",
       "    </tr>\n",
       "    <tr>\n",
       "      <th>2</th>\n",
       "      <td>1</td>\n",
       "      <td>1</td>\n",
       "      <td>01</td>\n",
       "      <td>A090</td>\n",
       "      <td>1</td>\n",
       "    </tr>\n",
       "    <tr>\n",
       "      <th>3</th>\n",
       "      <td>1</td>\n",
       "      <td>4</td>\n",
       "      <td>01</td>\n",
       "      <td>K291</td>\n",
       "      <td>1</td>\n",
       "    </tr>\n",
       "    <tr>\n",
       "      <th>4</th>\n",
       "      <td>2</td>\n",
       "      <td>1</td>\n",
       "      <td>01</td>\n",
       "      <td>I109</td>\n",
       "      <td>1</td>\n",
       "    </tr>\n",
       "  </tbody>\n",
       "</table>\n",
       "</div>"
      ],
      "text/plain": [
       "   key  SICK_SNO SICK_DGSBJT_CD DMD_SICK_SYM  DMD_DGSBJT_CD\n",
       "0    1         3             01         K599              1\n",
       "1    1         2             01         R100              1\n",
       "2    1         1             01         A090              1\n",
       "3    1         4             01         K291              1\n",
       "4    2         1             01         I109              1"
      ]
     },
     "execution_count": 2,
     "metadata": {},
     "output_type": "execute_result"
    }
   ],
   "source": [
    "file_path = \"./files_org/SAMPLE_DB_40TABLE_2013.txt\"\n",
    "\n",
    "df4 = pd.read_csv(file_path)\n",
    "df4.head()"
   ]
  },
  {
   "cell_type": "code",
   "execution_count": 3,
   "id": "a1eca0d0-348f-4cfd-8766-519746781e9f",
   "metadata": {},
   "outputs": [
    {
     "data": {
      "text/plain": [
       "0       20130108\n",
       "1       20130212\n",
       "2       20130222\n",
       "3       20130608\n",
       "4       20131128\n",
       "          ...   \n",
       "5626    20131001\n",
       "5627    20130423\n",
       "5628    20130112\n",
       "5629    20130401\n",
       "5630    20130503\n",
       "Name: RECU_FR_DD, Length: 5631, dtype: int64"
      ]
     },
     "execution_count": 3,
     "metadata": {},
     "output_type": "execute_result"
    }
   ],
   "source": [
    "file_path = \"./files_org/SAMPLE_DB_20TABLE_2013.txt\"\n",
    "\n",
    "df2 = pd.read_csv(file_path)\n",
    "df2[\"RECU_FR_DD\"]"
   ]
  },
  {
   "cell_type": "code",
   "execution_count": 29,
   "id": "ae89c073-fed6-48b7-9e76-9b9d8cfe51f8",
   "metadata": {},
   "outputs": [
    {
     "name": "stdout",
     "output_type": "stream",
     "text": [
      "<class 'pandas.core.frame.DataFrame'>\n",
      "RangeIndex: 5 entries, 0 to 4\n",
      "Data columns (total 6 columns):\n",
      " #   Column      Non-Null Count  Dtype  \n",
      "---  ------      --------------  -----  \n",
      " 0   변수명         5 non-null      object \n",
      " 1   형식          5 non-null      object \n",
      " 2   길이          5 non-null      int64  \n",
      " 3   표준한글컬럼명     5 non-null      object \n",
      " 4   Unnamed: 4  0 non-null      float64\n",
      " 5   컬럼설명        5 non-null      object \n",
      "dtypes: float64(1), int64(1), object(4)\n",
      "memory usage: 368.0+ bytes\n"
     ]
    }
   ],
   "source": [
    "file_path = \"./files_org/표본자료 변수 테이블(2012-2013).xlsx\"\n",
    "\n",
    "df4_table = pd.read_excel(file_path, sheet_name=\"40table_상병\")\n",
    "df4_table.head()\n",
    "\n",
    "df4_table.info()"
   ]
  },
  {
   "cell_type": "code",
   "execution_count": 32,
   "id": "d83c496c-2f2d-4c15-ab5a-96b2e681a70d",
   "metadata": {},
   "outputs": [],
   "source": [
    "df4_name = df4_table[[\"변수명\", \"표준한글컬럼명\"]]"
   ]
  },
  {
   "cell_type": "code",
   "execution_count": 5,
   "id": "28f4affb-d419-435c-8723-a1b0e854d76c",
   "metadata": {},
   "outputs": [],
   "source": [
    "file_path= \"./files_org/상병기호.csv\"\n",
    "\n",
    "df4_number = pd.read_csv(file_path, encoding=\"ansi\")\n",
    "df4_number.head()\n",
    "\n",
    "df4_num = df4_number[[\"상병기호\",\"한글명\"]]"
   ]
  },
  {
   "cell_type": "code",
   "execution_count": 26,
   "id": "912ec460-c7df-4d5c-9aa0-a342389240a4",
   "metadata": {},
   "outputs": [
    {
     "data": {
      "text/html": [
       "<div>\n",
       "<style scoped>\n",
       "    .dataframe tbody tr th:only-of-type {\n",
       "        vertical-align: middle;\n",
       "    }\n",
       "\n",
       "    .dataframe tbody tr th {\n",
       "        vertical-align: top;\n",
       "    }\n",
       "\n",
       "    .dataframe thead th {\n",
       "        text-align: right;\n",
       "    }\n",
       "</style>\n",
       "<table border=\"1\" class=\"dataframe\">\n",
       "  <thead>\n",
       "    <tr style=\"text-align: right;\">\n",
       "      <th></th>\n",
       "      <th>상병기호</th>\n",
       "      <th>한글명</th>\n",
       "      <th>영문명</th>\n",
       "      <th>완전코드구분</th>\n",
       "      <th>주상병사용구분</th>\n",
       "      <th>법정감염병구분</th>\n",
       "      <th>성별구분</th>\n",
       "      <th>상한연령</th>\n",
       "      <th>하한연령</th>\n",
       "      <th>양한방구분</th>\n",
       "    </tr>\n",
       "  </thead>\n",
       "  <tbody>\n",
       "    <tr>\n",
       "      <th>0</th>\n",
       "      <td>A00</td>\n",
       "      <td>콜레라</td>\n",
       "      <td>Cholera</td>\n",
       "      <td>N</td>\n",
       "      <td>NaN</td>\n",
       "      <td>제2급</td>\n",
       "      <td>NaN</td>\n",
       "      <td>NaN</td>\n",
       "      <td>NaN</td>\n",
       "      <td>양·한방 공통</td>\n",
       "    </tr>\n",
       "    <tr>\n",
       "      <th>1</th>\n",
       "      <td>A000</td>\n",
       "      <td>비브리오 콜레라 01 콜레라형균에 의한 콜레라</td>\n",
       "      <td>Cholera due to Vibrio cholerae 01, biovar chol...</td>\n",
       "      <td>NaN</td>\n",
       "      <td>NaN</td>\n",
       "      <td>제2급</td>\n",
       "      <td>NaN</td>\n",
       "      <td>NaN</td>\n",
       "      <td>NaN</td>\n",
       "      <td>양·한방 공통</td>\n",
       "    </tr>\n",
       "    <tr>\n",
       "      <th>2</th>\n",
       "      <td>A000</td>\n",
       "      <td>고전적 콜레라</td>\n",
       "      <td>Classical cholera</td>\n",
       "      <td>NaN</td>\n",
       "      <td>NaN</td>\n",
       "      <td>NaN</td>\n",
       "      <td>NaN</td>\n",
       "      <td>NaN</td>\n",
       "      <td>NaN</td>\n",
       "      <td>양·한방 공통</td>\n",
       "    </tr>\n",
       "    <tr>\n",
       "      <th>3</th>\n",
       "      <td>A001</td>\n",
       "      <td>비브리오 콜레라 01 엘토르형균에 의한 콜레라</td>\n",
       "      <td>Cholera due to Vibrio cholerae 01, biovar eltor</td>\n",
       "      <td>NaN</td>\n",
       "      <td>NaN</td>\n",
       "      <td>제2급</td>\n",
       "      <td>NaN</td>\n",
       "      <td>NaN</td>\n",
       "      <td>NaN</td>\n",
       "      <td>양·한방 공통</td>\n",
       "    </tr>\n",
       "    <tr>\n",
       "      <th>4</th>\n",
       "      <td>A001</td>\n",
       "      <td>엘토르 콜레라</td>\n",
       "      <td>Cholera eltor</td>\n",
       "      <td>NaN</td>\n",
       "      <td>NaN</td>\n",
       "      <td>NaN</td>\n",
       "      <td>NaN</td>\n",
       "      <td>NaN</td>\n",
       "      <td>NaN</td>\n",
       "      <td>양·한방 공통</td>\n",
       "    </tr>\n",
       "  </tbody>\n",
       "</table>\n",
       "</div>"
      ],
      "text/plain": [
       "   상병기호                        한글명  \\\n",
       "0   A00                        콜레라   \n",
       "1  A000  비브리오 콜레라 01 콜레라형균에 의한 콜레라   \n",
       "2  A000                    고전적 콜레라   \n",
       "3  A001  비브리오 콜레라 01 엘토르형균에 의한 콜레라   \n",
       "4  A001                    엘토르 콜레라   \n",
       "\n",
       "                                                 영문명 완전코드구분 주상병사용구분 법정감염병구분  \\\n",
       "0                                            Cholera      N     NaN     제2급   \n",
       "1  Cholera due to Vibrio cholerae 01, biovar chol...    NaN     NaN     제2급   \n",
       "2                                  Classical cholera    NaN     NaN     NaN   \n",
       "3    Cholera due to Vibrio cholerae 01, biovar eltor    NaN     NaN     제2급   \n",
       "4                                      Cholera eltor    NaN     NaN     NaN   \n",
       "\n",
       "  성별구분  상한연령  하한연령    양한방구분  \n",
       "0  NaN   NaN   NaN  양·한방 공통  \n",
       "1  NaN   NaN   NaN  양·한방 공통  \n",
       "2  NaN   NaN   NaN  양·한방 공통  \n",
       "3  NaN   NaN   NaN  양·한방 공통  \n",
       "4  NaN   NaN   NaN  양·한방 공통  "
      ]
     },
     "execution_count": 26,
     "metadata": {},
     "output_type": "execute_result"
    }
   ],
   "source": [
    "df4_number.head()"
   ]
  },
  {
   "cell_type": "code",
   "execution_count": 14,
   "id": "c9525ba3-c56a-4828-8310-83b9ff4f16b4",
   "metadata": {},
   "outputs": [
    {
     "data": {
      "text/plain": [
       "0     A00\n",
       "1    A000\n",
       "2    A000\n",
       "3    A001\n",
       "4    A001\n",
       "Name: 상병기호, dtype: object"
      ]
     },
     "execution_count": 14,
     "metadata": {},
     "output_type": "execute_result"
    }
   ],
   "source": [
    "df4_num[\"상병기호\"].head()\n"
   ]
  },
  {
   "cell_type": "code",
   "execution_count": null,
   "id": "53682f94-ffa8-44f7-b484-52a93bd782d0",
   "metadata": {},
   "outputs": [],
   "source": []
  },
  {
   "cell_type": "code",
   "execution_count": 33,
   "id": "2d5f04ca-17f5-42eb-adac-90e08dbff24d",
   "metadata": {},
   "outputs": [
    {
     "data": {
      "text/plain": [
       "{'key': '명세서 연결코드',\n",
       " 'SICK_SNO': '상병일련번호',\n",
       " 'SICK_DGSBJT_CD': '상병진료과목코드',\n",
       " 'DMD_SICK_SYM': '청구상병기호',\n",
       " 'DMD_DGSBJT_CD': '청구진료과목코드'}"
      ]
     },
     "execution_count": 33,
     "metadata": {},
     "output_type": "execute_result"
    }
   ],
   "source": [
    "df4_table_dict = dict(df4_name.to_numpy())\n",
    "df4_table_dict"
   ]
  },
  {
   "cell_type": "code",
   "execution_count": 34,
   "id": "62e0fdf4-24da-438e-ad77-ac825acbf06f",
   "metadata": {},
   "outputs": [],
   "source": [
    "df4_kor = df4.rename(columns = df4_table_dict)"
   ]
  },
  {
   "cell_type": "code",
   "execution_count": 35,
   "id": "2b308708-e00c-4bbc-9b42-ae309808e5ae",
   "metadata": {},
   "outputs": [
    {
     "data": {
      "text/html": [
       "<div>\n",
       "<style scoped>\n",
       "    .dataframe tbody tr th:only-of-type {\n",
       "        vertical-align: middle;\n",
       "    }\n",
       "\n",
       "    .dataframe tbody tr th {\n",
       "        vertical-align: top;\n",
       "    }\n",
       "\n",
       "    .dataframe thead th {\n",
       "        text-align: right;\n",
       "    }\n",
       "</style>\n",
       "<table border=\"1\" class=\"dataframe\">\n",
       "  <thead>\n",
       "    <tr style=\"text-align: right;\">\n",
       "      <th></th>\n",
       "      <th>명세서 연결코드</th>\n",
       "      <th>상병일련번호</th>\n",
       "      <th>상병진료과목코드</th>\n",
       "      <th>청구상병기호</th>\n",
       "      <th>청구진료과목코드</th>\n",
       "    </tr>\n",
       "  </thead>\n",
       "  <tbody>\n",
       "    <tr>\n",
       "      <th>0</th>\n",
       "      <td>1</td>\n",
       "      <td>3</td>\n",
       "      <td>01</td>\n",
       "      <td>K599</td>\n",
       "      <td>1</td>\n",
       "    </tr>\n",
       "    <tr>\n",
       "      <th>1</th>\n",
       "      <td>1</td>\n",
       "      <td>2</td>\n",
       "      <td>01</td>\n",
       "      <td>R100</td>\n",
       "      <td>1</td>\n",
       "    </tr>\n",
       "    <tr>\n",
       "      <th>2</th>\n",
       "      <td>1</td>\n",
       "      <td>1</td>\n",
       "      <td>01</td>\n",
       "      <td>A090</td>\n",
       "      <td>1</td>\n",
       "    </tr>\n",
       "    <tr>\n",
       "      <th>3</th>\n",
       "      <td>1</td>\n",
       "      <td>4</td>\n",
       "      <td>01</td>\n",
       "      <td>K291</td>\n",
       "      <td>1</td>\n",
       "    </tr>\n",
       "    <tr>\n",
       "      <th>4</th>\n",
       "      <td>2</td>\n",
       "      <td>1</td>\n",
       "      <td>01</td>\n",
       "      <td>I109</td>\n",
       "      <td>1</td>\n",
       "    </tr>\n",
       "    <tr>\n",
       "      <th>...</th>\n",
       "      <td>...</td>\n",
       "      <td>...</td>\n",
       "      <td>...</td>\n",
       "      <td>...</td>\n",
       "      <td>...</td>\n",
       "    </tr>\n",
       "    <tr>\n",
       "      <th>15592</th>\n",
       "      <td>5630</td>\n",
       "      <td>2</td>\n",
       "      <td>01</td>\n",
       "      <td>J209</td>\n",
       "      <td>1</td>\n",
       "    </tr>\n",
       "    <tr>\n",
       "      <th>15593</th>\n",
       "      <td>5630</td>\n",
       "      <td>1</td>\n",
       "      <td>05</td>\n",
       "      <td>M7954</td>\n",
       "      <td>5</td>\n",
       "    </tr>\n",
       "    <tr>\n",
       "      <th>15594</th>\n",
       "      <td>5630</td>\n",
       "      <td>4</td>\n",
       "      <td>05</td>\n",
       "      <td>M159</td>\n",
       "      <td>5</td>\n",
       "    </tr>\n",
       "    <tr>\n",
       "      <th>15595</th>\n",
       "      <td>5630</td>\n",
       "      <td>3</td>\n",
       "      <td>01</td>\n",
       "      <td>J0390</td>\n",
       "      <td>1</td>\n",
       "    </tr>\n",
       "    <tr>\n",
       "      <th>15596</th>\n",
       "      <td>5631</td>\n",
       "      <td>1</td>\n",
       "      <td>13</td>\n",
       "      <td>I889</td>\n",
       "      <td>13</td>\n",
       "    </tr>\n",
       "  </tbody>\n",
       "</table>\n",
       "<p>15597 rows × 5 columns</p>\n",
       "</div>"
      ],
      "text/plain": [
       "       명세서 연결코드  상병일련번호 상병진료과목코드 청구상병기호  청구진료과목코드\n",
       "0             1       3       01   K599         1\n",
       "1             1       2       01   R100         1\n",
       "2             1       1       01   A090         1\n",
       "3             1       4       01   K291         1\n",
       "4             2       1       01   I109         1\n",
       "...         ...     ...      ...    ...       ...\n",
       "15592      5630       2       01   J209         1\n",
       "15593      5630       1       05  M7954         5\n",
       "15594      5630       4       05   M159         5\n",
       "15595      5630       3       01  J0390         1\n",
       "15596      5631       1       13   I889        13\n",
       "\n",
       "[15597 rows x 5 columns]"
      ]
     },
     "execution_count": 35,
     "metadata": {},
     "output_type": "execute_result"
    }
   ],
   "source": [
    "df4_kor"
   ]
  },
  {
   "cell_type": "code",
   "execution_count": 36,
   "id": "d163fc69-b870-4632-a562-76cfd4d73515",
   "metadata": {},
   "outputs": [
    {
     "name": "stdout",
     "output_type": "stream",
     "text": [
      "<class 'pandas.core.frame.DataFrame'>\n",
      "RangeIndex: 15597 entries, 0 to 15596\n",
      "Data columns (total 5 columns):\n",
      " #   Column    Non-Null Count  Dtype \n",
      "---  ------    --------------  ----- \n",
      " 0   명세서 연결코드  15597 non-null  int64 \n",
      " 1   상병일련번호    15597 non-null  int64 \n",
      " 2   상병진료과목코드  15597 non-null  object\n",
      " 3   청구상병기호    15597 non-null  object\n",
      " 4   청구진료과목코드  15597 non-null  int64 \n",
      "dtypes: int64(3), object(2)\n",
      "memory usage: 609.4+ KB\n"
     ]
    }
   ],
   "source": [
    "df4_kor.info() \n",
    "# 결측데이터 없음"
   ]
  },
  {
   "cell_type": "code",
   "execution_count": 37,
   "id": "cf1e0eba-d459-462e-b1dc-5505bee5f10f",
   "metadata": {},
   "outputs": [
    {
     "data": {
      "text/plain": [
       "명세서 연결코드    0\n",
       "상병일련번호      0\n",
       "상병진료과목코드    0\n",
       "청구상병기호      0\n",
       "청구진료과목코드    0\n",
       "dtype: int64"
      ]
     },
     "execution_count": 37,
     "metadata": {},
     "output_type": "execute_result"
    }
   ],
   "source": [
    "df4_kor.isnull().sum() \n",
    "# 결측데이터 없음"
   ]
  },
  {
   "cell_type": "code",
   "execution_count": 38,
   "id": "995dff70-d81b-46ef-a389-17509d032c24",
   "metadata": {},
   "outputs": [
    {
     "data": {
      "text/html": [
       "<div>\n",
       "<style scoped>\n",
       "    .dataframe tbody tr th:only-of-type {\n",
       "        vertical-align: middle;\n",
       "    }\n",
       "\n",
       "    .dataframe tbody tr th {\n",
       "        vertical-align: top;\n",
       "    }\n",
       "\n",
       "    .dataframe thead th {\n",
       "        text-align: right;\n",
       "    }\n",
       "</style>\n",
       "<table border=\"1\" class=\"dataframe\">\n",
       "  <thead>\n",
       "    <tr style=\"text-align: right;\">\n",
       "      <th></th>\n",
       "      <th>명세서 연결코드</th>\n",
       "      <th>상병일련번호</th>\n",
       "      <th>청구진료과목코드</th>\n",
       "    </tr>\n",
       "  </thead>\n",
       "  <tbody>\n",
       "    <tr>\n",
       "      <th>count</th>\n",
       "      <td>15597.000000</td>\n",
       "      <td>15597.000000</td>\n",
       "      <td>15597.000000</td>\n",
       "    </tr>\n",
       "    <tr>\n",
       "      <th>mean</th>\n",
       "      <td>2827.448099</td>\n",
       "      <td>2.689171</td>\n",
       "      <td>7.704751</td>\n",
       "    </tr>\n",
       "    <tr>\n",
       "      <th>std</th>\n",
       "      <td>1631.440044</td>\n",
       "      <td>2.476707</td>\n",
       "      <td>10.299277</td>\n",
       "    </tr>\n",
       "    <tr>\n",
       "      <th>min</th>\n",
       "      <td>1.000000</td>\n",
       "      <td>1.000000</td>\n",
       "      <td>0.000000</td>\n",
       "    </tr>\n",
       "    <tr>\n",
       "      <th>25%</th>\n",
       "      <td>1420.000000</td>\n",
       "      <td>1.000000</td>\n",
       "      <td>1.000000</td>\n",
       "    </tr>\n",
       "    <tr>\n",
       "      <th>50%</th>\n",
       "      <td>2816.000000</td>\n",
       "      <td>2.000000</td>\n",
       "      <td>5.000000</td>\n",
       "    </tr>\n",
       "    <tr>\n",
       "      <th>75%</th>\n",
       "      <td>4262.000000</td>\n",
       "      <td>3.000000</td>\n",
       "      <td>12.000000</td>\n",
       "    </tr>\n",
       "    <tr>\n",
       "      <th>max</th>\n",
       "      <td>5631.000000</td>\n",
       "      <td>24.000000</td>\n",
       "      <td>56.000000</td>\n",
       "    </tr>\n",
       "  </tbody>\n",
       "</table>\n",
       "</div>"
      ],
      "text/plain": [
       "           명세서 연결코드        상병일련번호      청구진료과목코드\n",
       "count  15597.000000  15597.000000  15597.000000\n",
       "mean    2827.448099      2.689171      7.704751\n",
       "std     1631.440044      2.476707     10.299277\n",
       "min        1.000000      1.000000      0.000000\n",
       "25%     1420.000000      1.000000      1.000000\n",
       "50%     2816.000000      2.000000      5.000000\n",
       "75%     4262.000000      3.000000     12.000000\n",
       "max     5631.000000     24.000000     56.000000"
      ]
     },
     "execution_count": 38,
     "metadata": {},
     "output_type": "execute_result"
    }
   ],
   "source": [
    "df4_kor.describe()"
   ]
  },
  {
   "cell_type": "code",
   "execution_count": 39,
   "id": "c185854f-e82b-4095-9164-8530439f3d77",
   "metadata": {},
   "outputs": [
    {
     "data": {
      "text/plain": [
       "False    15597\n",
       "Name: count, dtype: int64"
      ]
     },
     "execution_count": 39,
     "metadata": {},
     "output_type": "execute_result"
    }
   ],
   "source": [
    "df4_kor.duplicated().value_counts()\n",
    "# 중복 데이터 없음"
   ]
  },
  {
   "cell_type": "code",
   "execution_count": 40,
   "id": "5e946ca0-c10f-499e-b5a5-d78e316422d1",
   "metadata": {},
   "outputs": [
    {
     "data": {
      "text/plain": [
       "{'whiskers': [<matplotlib.lines.Line2D at 0x2cab9640e20>,\n",
       "  <matplotlib.lines.Line2D at 0x2cab96450d0>],\n",
       " 'caps': [<matplotlib.lines.Line2D at 0x2cab9645370>,\n",
       "  <matplotlib.lines.Line2D at 0x2cab9645610>],\n",
       " 'boxes': [<matplotlib.lines.Line2D at 0x2cab9640b20>],\n",
       " 'medians': [<matplotlib.lines.Line2D at 0x2cab96458b0>],\n",
       " 'fliers': [<matplotlib.lines.Line2D at 0x2cab9645b50>],\n",
       " 'means': []}"
      ]
     },
     "execution_count": 40,
     "metadata": {},
     "output_type": "execute_result"
    },
    {
     "data": {
      "image/png": "[encoded data removed]",
      "text/plain": [
       "<Figure size 640x480 with 1 Axes>"
      ]
     },
     "metadata": {},
     "output_type": "display_data"
    }
   ],
   "source": [
    "# 이상치 확인해 보기\n",
    "# 현재 컬럼의 값들이 일련번호, 과목코드이기 때문에 이상치를 예측해볼수 있는 데이터가 없음\n",
    "\n",
    "plt.boxplot(df4_kor[\"상병일련번호\"])"
   ]
  },
  {
   "cell_type": "code",
   "execution_count": 46,
   "id": "38640901-3303-401a-babc-b5ca727a5f4f",
   "metadata": {},
   "outputs": [
    {
     "data": {
      "text/html": [
       "<div>\n",
       "<style scoped>\n",
       "    .dataframe tbody tr th:only-of-type {\n",
       "        vertical-align: middle;\n",
       "    }\n",
       "\n",
       "    .dataframe tbody tr th {\n",
       "        vertical-align: top;\n",
       "    }\n",
       "\n",
       "    .dataframe thead th {\n",
       "        text-align: right;\n",
       "    }\n",
       "</style>\n",
       "<table border=\"1\" class=\"dataframe\">\n",
       "  <thead>\n",
       "    <tr style=\"text-align: right;\">\n",
       "      <th></th>\n",
       "      <th>명세서 연결코드</th>\n",
       "      <th>상병일련번호</th>\n",
       "      <th>상병진료과목코드</th>\n",
       "      <th>청구상병기호</th>\n",
       "      <th>청구진료과목코드</th>\n",
       "    </tr>\n",
       "  </thead>\n",
       "  <tbody>\n",
       "    <tr>\n",
       "      <th>122</th>\n",
       "      <td>42</td>\n",
       "      <td>1</td>\n",
       "      <td>01</td>\n",
       "      <td>N185</td>\n",
       "      <td>1</td>\n",
       "    </tr>\n",
       "    <tr>\n",
       "      <th>201</th>\n",
       "      <td>74</td>\n",
       "      <td>1</td>\n",
       "      <td>01</td>\n",
       "      <td>N185</td>\n",
       "      <td>1</td>\n",
       "    </tr>\n",
       "    <tr>\n",
       "      <th>223</th>\n",
       "      <td>81</td>\n",
       "      <td>1</td>\n",
       "      <td>01</td>\n",
       "      <td>N185</td>\n",
       "      <td>1</td>\n",
       "    </tr>\n",
       "    <tr>\n",
       "      <th>233</th>\n",
       "      <td>84</td>\n",
       "      <td>1</td>\n",
       "      <td>01</td>\n",
       "      <td>N185</td>\n",
       "      <td>1</td>\n",
       "    </tr>\n",
       "    <tr>\n",
       "      <th>539</th>\n",
       "      <td>195</td>\n",
       "      <td>1</td>\n",
       "      <td>01</td>\n",
       "      <td>N185</td>\n",
       "      <td>1</td>\n",
       "    </tr>\n",
       "    <tr>\n",
       "      <th>...</th>\n",
       "      <td>...</td>\n",
       "      <td>...</td>\n",
       "      <td>...</td>\n",
       "      <td>...</td>\n",
       "      <td>...</td>\n",
       "    </tr>\n",
       "    <tr>\n",
       "      <th>15033</th>\n",
       "      <td>5427</td>\n",
       "      <td>1</td>\n",
       "      <td>01</td>\n",
       "      <td>N185</td>\n",
       "      <td>1</td>\n",
       "    </tr>\n",
       "    <tr>\n",
       "      <th>15092</th>\n",
       "      <td>5450</td>\n",
       "      <td>1</td>\n",
       "      <td>01</td>\n",
       "      <td>N185</td>\n",
       "      <td>1</td>\n",
       "    </tr>\n",
       "    <tr>\n",
       "      <th>15357</th>\n",
       "      <td>5539</td>\n",
       "      <td>1</td>\n",
       "      <td>01</td>\n",
       "      <td>N185</td>\n",
       "      <td>1</td>\n",
       "    </tr>\n",
       "    <tr>\n",
       "      <th>15443</th>\n",
       "      <td>5574</td>\n",
       "      <td>1</td>\n",
       "      <td>01</td>\n",
       "      <td>N185</td>\n",
       "      <td>1</td>\n",
       "    </tr>\n",
       "    <tr>\n",
       "      <th>15508</th>\n",
       "      <td>5598</td>\n",
       "      <td>1</td>\n",
       "      <td>01</td>\n",
       "      <td>N185</td>\n",
       "      <td>1</td>\n",
       "    </tr>\n",
       "  </tbody>\n",
       "</table>\n",
       "<p>177 rows × 5 columns</p>\n",
       "</div>"
      ],
      "text/plain": [
       "       명세서 연결코드  상병일련번호 상병진료과목코드 청구상병기호  청구진료과목코드\n",
       "122          42       1       01   N185         1\n",
       "201          74       1       01   N185         1\n",
       "223          81       1       01   N185         1\n",
       "233          84       1       01   N185         1\n",
       "539         195       1       01   N185         1\n",
       "...         ...     ...      ...    ...       ...\n",
       "15033      5427       1       01   N185         1\n",
       "15092      5450       1       01   N185         1\n",
       "15357      5539       1       01   N185         1\n",
       "15443      5574       1       01   N185         1\n",
       "15508      5598       1       01   N185         1\n",
       "\n",
       "[177 rows x 5 columns]"
      ]
     },
     "execution_count": 46,
     "metadata": {},
     "output_type": "execute_result"
    }
   ],
   "source": [
    "a = df4_kor[\"청구상병기호\"] == \"N185\"\n",
    "df4_kor[a == True]"
   ]
  },
  {
   "cell_type": "code",
   "execution_count": 47,
   "id": "ee9046e9-c622-40b6-a244-086be4bd2346",
   "metadata": {},
   "outputs": [
    {
     "name": "stdout",
     "output_type": "stream",
     "text": [
      "<class 'pandas.core.frame.DataFrame'>\n",
      "Index: 21299 entries, 0 to 47797\n",
      "Data columns (total 2 columns):\n",
      " #   Column  Non-Null Count  Dtype \n",
      "---  ------  --------------  ----- \n",
      " 0   상병기호    21299 non-null  object\n",
      " 1   한글명     21299 non-null  object\n",
      "dtypes: object(2)\n",
      "memory usage: 499.2+ KB\n"
     ]
    }
   ],
   "source": [
    "# 상병기호.csv 파일에 한개의 상병기호로 여러 병명들이 정의되어 있어서 제일 위에꺼를 기준으로 제거함\n",
    "drop_df4_num = df4_num.drop_duplicates([\"상병기호\"],keep=\"first\")\n",
    "drop_df4_num.info()"
   ]
  },
  {
   "cell_type": "code",
   "execution_count": 190,
   "id": "f86e1a05-617e-44c1-bc66-4e5909804946",
   "metadata": {},
   "outputs": [],
   "source": [
    "# 상병 코드를 알수 없는 데이터는 삭제 시킴\n",
    "\n",
    "df4_kor_merge = pd.merge(\n",
    "                        left=df4_kor,\n",
    "                        right=drop_df4_num,\n",
    "                        how=\"inner\",\n",
    "                        left_on=\"청구상병기호\",\n",
    "                        right_on=\"상병기호\")"
   ]
  },
  {
   "cell_type": "code",
   "execution_count": 191,
   "id": "9d7e6999-0bfd-4921-9446-cf56a2bb4a8f",
   "metadata": {},
   "outputs": [
    {
     "name": "stdout",
     "output_type": "stream",
     "text": [
      "<class 'pandas.core.frame.DataFrame'>\n",
      "RangeIndex: 15156 entries, 0 to 15155\n",
      "Data columns (total 7 columns):\n",
      " #   Column    Non-Null Count  Dtype \n",
      "---  ------    --------------  ----- \n",
      " 0   명세서 연결코드  15156 non-null  int64 \n",
      " 1   상병일련번호    15156 non-null  int64 \n",
      " 2   상병진료과목코드  15156 non-null  object\n",
      " 3   청구상병기호    15156 non-null  object\n",
      " 4   청구진료과목코드  15156 non-null  int64 \n",
      " 5   상병기호      15156 non-null  object\n",
      " 6   한글명       15156 non-null  object\n",
      "dtypes: int64(3), object(4)\n",
      "memory usage: 829.0+ KB\n"
     ]
    }
   ],
   "source": [
    "df4_kor_merge.info()"
   ]
  },
  {
   "cell_type": "code",
   "execution_count": 192,
   "id": "053970a4-1300-48cb-8ec2-bfcb0df6a07d",
   "metadata": {},
   "outputs": [
    {
     "data": {
      "text/plain": [
       "명세서 연결코드    0\n",
       "상병일련번호      0\n",
       "상병진료과목코드    0\n",
       "청구상병기호      0\n",
       "청구진료과목코드    0\n",
       "상병기호        0\n",
       "한글명         0\n",
       "dtype: int64"
      ]
     },
     "execution_count": 192,
     "metadata": {},
     "output_type": "execute_result"
    }
   ],
   "source": [
    "df4_kor_merge.isnull().sum()"
   ]
  },
  {
   "cell_type": "code",
   "execution_count": 194,
   "id": "5acdc884-ec61-41d6-98ed-264c10eeccf7",
   "metadata": {},
   "outputs": [
    {
     "data": {
      "text/html": [
       "<div>\n",
       "<style scoped>\n",
       "    .dataframe tbody tr th:only-of-type {\n",
       "        vertical-align: middle;\n",
       "    }\n",
       "\n",
       "    .dataframe tbody tr th {\n",
       "        vertical-align: top;\n",
       "    }\n",
       "\n",
       "    .dataframe thead th {\n",
       "        text-align: right;\n",
       "    }\n",
       "</style>\n",
       "<table border=\"1\" class=\"dataframe\">\n",
       "  <thead>\n",
       "    <tr style=\"text-align: right;\">\n",
       "      <th></th>\n",
       "      <th>명세서 연결코드</th>\n",
       "      <th>상병일련번호</th>\n",
       "      <th>상병진료과목코드</th>\n",
       "      <th>청구상병기호</th>\n",
       "      <th>청구진료과목코드</th>\n",
       "      <th>상병기호</th>\n",
       "      <th>한글명</th>\n",
       "    </tr>\n",
       "  </thead>\n",
       "  <tbody>\n",
       "    <tr>\n",
       "      <th>0</th>\n",
       "      <td>1</td>\n",
       "      <td>3</td>\n",
       "      <td>01</td>\n",
       "      <td>K599</td>\n",
       "      <td>1</td>\n",
       "      <td>K599</td>\n",
       "      <td>상세불명의 기능성 장장애</td>\n",
       "    </tr>\n",
       "    <tr>\n",
       "      <th>1</th>\n",
       "      <td>1</td>\n",
       "      <td>2</td>\n",
       "      <td>01</td>\n",
       "      <td>R100</td>\n",
       "      <td>1</td>\n",
       "      <td>R100</td>\n",
       "      <td>급성 복증</td>\n",
       "    </tr>\n",
       "    <tr>\n",
       "      <th>2</th>\n",
       "      <td>1</td>\n",
       "      <td>1</td>\n",
       "      <td>01</td>\n",
       "      <td>A090</td>\n",
       "      <td>1</td>\n",
       "      <td>A090</td>\n",
       "      <td>감염성 기원의 기타 및 상세불명의 위장염 및 결장염</td>\n",
       "    </tr>\n",
       "    <tr>\n",
       "      <th>3</th>\n",
       "      <td>1</td>\n",
       "      <td>4</td>\n",
       "      <td>01</td>\n",
       "      <td>K291</td>\n",
       "      <td>1</td>\n",
       "      <td>K291</td>\n",
       "      <td>기타 급성 위염</td>\n",
       "    </tr>\n",
       "    <tr>\n",
       "      <th>4</th>\n",
       "      <td>2</td>\n",
       "      <td>1</td>\n",
       "      <td>01</td>\n",
       "      <td>I109</td>\n",
       "      <td>1</td>\n",
       "      <td>I109</td>\n",
       "      <td>기타 및 상세불명의 원발성 고혈압</td>\n",
       "    </tr>\n",
       "  </tbody>\n",
       "</table>\n",
       "</div>"
      ],
      "text/plain": [
       "   명세서 연결코드  상병일련번호 상병진료과목코드 청구상병기호  청구진료과목코드  상병기호  \\\n",
       "0         1       3       01   K599         1  K599   \n",
       "1         1       2       01   R100         1  R100   \n",
       "2         1       1       01   A090         1  A090   \n",
       "3         1       4       01   K291         1  K291   \n",
       "4         2       1       01   I109         1  I109   \n",
       "\n",
       "                            한글명  \n",
       "0                 상세불명의 기능성 장장애  \n",
       "1                         급성 복증  \n",
       "2  감염성 기원의 기타 및 상세불명의 위장염 및 결장염  \n",
       "3                      기타 급성 위염  \n",
       "4            기타 및 상세불명의 원발성 고혈압  "
      ]
     },
     "execution_count": 194,
     "metadata": {},
     "output_type": "execute_result"
    }
   ],
   "source": [
    "df4_kor_merge.head()"
   ]
  },
  {
   "cell_type": "code",
   "execution_count": 195,
   "id": "88ada397-cf1c-4f23-a4e7-cb4747677d3e",
   "metadata": {},
   "outputs": [
    {
     "data": {
      "text/html": [
       "<div>\n",
       "<style scoped>\n",
       "    .dataframe tbody tr th:only-of-type {\n",
       "        vertical-align: middle;\n",
       "    }\n",
       "\n",
       "    .dataframe tbody tr th {\n",
       "        vertical-align: top;\n",
       "    }\n",
       "\n",
       "    .dataframe thead th {\n",
       "        text-align: right;\n",
       "    }\n",
       "</style>\n",
       "<table border=\"1\" class=\"dataframe\">\n",
       "  <thead>\n",
       "    <tr style=\"text-align: right;\">\n",
       "      <th></th>\n",
       "      <th>명세서 연결코드</th>\n",
       "      <th>상병일련번호</th>\n",
       "      <th>상병진료과목코드</th>\n",
       "      <th>청구상병기호</th>\n",
       "      <th>청구진료과목코드</th>\n",
       "      <th>상병기호</th>\n",
       "      <th>한글명</th>\n",
       "      <th>기호 해석</th>\n",
       "    </tr>\n",
       "  </thead>\n",
       "  <tbody>\n",
       "    <tr>\n",
       "      <th>0</th>\n",
       "      <td>1</td>\n",
       "      <td>3</td>\n",
       "      <td>01</td>\n",
       "      <td>K599</td>\n",
       "      <td>1</td>\n",
       "      <td>K599</td>\n",
       "      <td>상세불명의 기능성 장장애</td>\n",
       "      <td>K599 : 상세불명의 기능성 장장애</td>\n",
       "    </tr>\n",
       "    <tr>\n",
       "      <th>1</th>\n",
       "      <td>1</td>\n",
       "      <td>2</td>\n",
       "      <td>01</td>\n",
       "      <td>R100</td>\n",
       "      <td>1</td>\n",
       "      <td>R100</td>\n",
       "      <td>급성 복증</td>\n",
       "      <td>R100 : 급성 복증</td>\n",
       "    </tr>\n",
       "    <tr>\n",
       "      <th>2</th>\n",
       "      <td>1</td>\n",
       "      <td>1</td>\n",
       "      <td>01</td>\n",
       "      <td>A090</td>\n",
       "      <td>1</td>\n",
       "      <td>A090</td>\n",
       "      <td>감염성 기원의 기타 및 상세불명의 위장염 및 결장염</td>\n",
       "      <td>A090 : 감염성 기원의 기타 및 상세불명의 위장염 및 결장염</td>\n",
       "    </tr>\n",
       "    <tr>\n",
       "      <th>3</th>\n",
       "      <td>1</td>\n",
       "      <td>4</td>\n",
       "      <td>01</td>\n",
       "      <td>K291</td>\n",
       "      <td>1</td>\n",
       "      <td>K291</td>\n",
       "      <td>기타 급성 위염</td>\n",
       "      <td>K291 : 기타 급성 위염</td>\n",
       "    </tr>\n",
       "    <tr>\n",
       "      <th>4</th>\n",
       "      <td>2</td>\n",
       "      <td>1</td>\n",
       "      <td>01</td>\n",
       "      <td>I109</td>\n",
       "      <td>1</td>\n",
       "      <td>I109</td>\n",
       "      <td>기타 및 상세불명의 원발성 고혈압</td>\n",
       "      <td>I109 : 기타 및 상세불명의 원발성 고혈압</td>\n",
       "    </tr>\n",
       "  </tbody>\n",
       "</table>\n",
       "</div>"
      ],
      "text/plain": [
       "   명세서 연결코드  상병일련번호 상병진료과목코드 청구상병기호  청구진료과목코드  상병기호  \\\n",
       "0         1       3       01   K599         1  K599   \n",
       "1         1       2       01   R100         1  R100   \n",
       "2         1       1       01   A090         1  A090   \n",
       "3         1       4       01   K291         1  K291   \n",
       "4         2       1       01   I109         1  I109   \n",
       "\n",
       "                            한글명                                기호 해석  \n",
       "0                 상세불명의 기능성 장장애                 K599 : 상세불명의 기능성 장장애  \n",
       "1                         급성 복증                         R100 : 급성 복증  \n",
       "2  감염성 기원의 기타 및 상세불명의 위장염 및 결장염  A090 : 감염성 기원의 기타 및 상세불명의 위장염 및 결장염  \n",
       "3                      기타 급성 위염                      K291 : 기타 급성 위염  \n",
       "4            기타 및 상세불명의 원발성 고혈압            I109 : 기타 및 상세불명의 원발성 고혈압  "
      ]
     },
     "execution_count": 195,
     "metadata": {},
     "output_type": "execute_result"
    }
   ],
   "source": [
    "df4_kor_merge[\"기호 해석\"] = df4_kor_merge[\"청구상병기호\"] + ' : ' + df4_kor_merge[\"한글명\"]\n",
    "df4_kor_merge.head()"
   ]
  },
  {
   "cell_type": "code",
   "execution_count": 196,
   "id": "dfa424eb-f248-4d7f-ab6e-a4c942fc907e",
   "metadata": {},
   "outputs": [
    {
     "data": {
      "text/plain": [
       "기호 해석\n",
       "J209 : 상세불명의 급성 기관지염          681\n",
       "I109 : 기타 및 상세불명의 원발성 고혈압     634\n",
       "K297 : 상세불명의 위염               469\n",
       "J304 : 상세불명의 알레르기비염           442\n",
       "J303 : 기타 알레르기비염              269\n",
       "                             ... \n",
       "N179 : 상세불명의 급성 신부전             1\n",
       "Z034 : 의심되는 심근경색증의 관찰, 배제된      1\n",
       "K035 : 치아의 강직증                  1\n",
       "Z305 : (자궁내)피임장치의 감시            1\n",
       "L301 : 발한이상[한포(汗疱)]             1\n",
       "Name: count, Length: 1133, dtype: int64"
      ]
     },
     "execution_count": 196,
     "metadata": {},
     "output_type": "execute_result"
    }
   ],
   "source": [
    "df4_kor_merge[\"기호 해석\"].value_counts()"
   ]
  },
  {
   "cell_type": "code",
   "execution_count": 197,
   "id": "526b86ec-f951-497b-9b05-0efb2280fe04",
   "metadata": {},
   "outputs": [],
   "source": [
    "number_counts_df = pd.DataFrame(df4_kor_merge[\"기호 해석\"].value_counts()).reset_index()\n",
    "\n",
    "number_counts_df.columns = ['상병명', '청구 빈도']"
   ]
  },
  {
   "cell_type": "code",
   "execution_count": 200,
   "id": "96bf5afd-8b47-498e-8e12-86651f11a1b5",
   "metadata": {},
   "outputs": [],
   "source": [
    "top10 = number_counts_df.head(10)"
   ]
  },
  {
   "cell_type": "code",
   "execution_count": 201,
   "id": "df02faae-b6db-441a-998f-b7a96f443550",
   "metadata": {},
   "outputs": [
    {
     "data": {
      "text/html": [
       "<div>\n",
       "<style scoped>\n",
       "    .dataframe tbody tr th:only-of-type {\n",
       "        vertical-align: middle;\n",
       "    }\n",
       "\n",
       "    .dataframe tbody tr th {\n",
       "        vertical-align: top;\n",
       "    }\n",
       "\n",
       "    .dataframe thead th {\n",
       "        text-align: right;\n",
       "    }\n",
       "</style>\n",
       "<table border=\"1\" class=\"dataframe\">\n",
       "  <thead>\n",
       "    <tr style=\"text-align: right;\">\n",
       "      <th></th>\n",
       "      <th>상병명</th>\n",
       "      <th>청구 빈도</th>\n",
       "    </tr>\n",
       "  </thead>\n",
       "  <tbody>\n",
       "    <tr>\n",
       "      <th>0</th>\n",
       "      <td>J209 : 상세불명의 급성 기관지염</td>\n",
       "      <td>681</td>\n",
       "    </tr>\n",
       "    <tr>\n",
       "      <th>1</th>\n",
       "      <td>I109 : 기타 및 상세불명의 원발성 고혈압</td>\n",
       "      <td>634</td>\n",
       "    </tr>\n",
       "    <tr>\n",
       "      <th>2</th>\n",
       "      <td>K297 : 상세불명의 위염</td>\n",
       "      <td>469</td>\n",
       "    </tr>\n",
       "    <tr>\n",
       "      <th>3</th>\n",
       "      <td>J304 : 상세불명의 알레르기비염</td>\n",
       "      <td>442</td>\n",
       "    </tr>\n",
       "    <tr>\n",
       "      <th>4</th>\n",
       "      <td>J303 : 기타 알레르기비염</td>\n",
       "      <td>269</td>\n",
       "    </tr>\n",
       "    <tr>\n",
       "      <th>5</th>\n",
       "      <td>K291 : 기타 급성 위염</td>\n",
       "      <td>240</td>\n",
       "    </tr>\n",
       "    <tr>\n",
       "      <th>6</th>\n",
       "      <td>K30 : 기능성 소화불량</td>\n",
       "      <td>222</td>\n",
       "    </tr>\n",
       "    <tr>\n",
       "      <th>7</th>\n",
       "      <td>E119 : 합병증을 동반하지 않은 2형 당뇨병</td>\n",
       "      <td>202</td>\n",
       "    </tr>\n",
       "    <tr>\n",
       "      <th>8</th>\n",
       "      <td>J00 : 급성 비인두염[감기]</td>\n",
       "      <td>182</td>\n",
       "    </tr>\n",
       "    <tr>\n",
       "      <th>9</th>\n",
       "      <td>K210 : 식도염을 동반한 위-식도역류병</td>\n",
       "      <td>179</td>\n",
       "    </tr>\n",
       "  </tbody>\n",
       "</table>\n",
       "</div>"
      ],
      "text/plain": [
       "                          상병명  청구 빈도\n",
       "0        J209 : 상세불명의 급성 기관지염    681\n",
       "1   I109 : 기타 및 상세불명의 원발성 고혈압    634\n",
       "2             K297 : 상세불명의 위염    469\n",
       "3         J304 : 상세불명의 알레르기비염    442\n",
       "4            J303 : 기타 알레르기비염    269\n",
       "5             K291 : 기타 급성 위염    240\n",
       "6              K30 : 기능성 소화불량    222\n",
       "7  E119 : 합병증을 동반하지 않은 2형 당뇨병    202\n",
       "8           J00 : 급성 비인두염[감기]    182\n",
       "9     K210 : 식도염을 동반한 위-식도역류병    179"
      ]
     },
     "execution_count": 201,
     "metadata": {},
     "output_type": "execute_result"
    }
   ],
   "source": [
    "top10"
   ]
  },
  {
   "cell_type": "code",
   "execution_count": 215,
   "id": "2762c87b-4f70-4055-995a-d3c8a8b6fab4",
   "metadata": {},
   "outputs": [
    {
     "data": {
      "image/png": "[encoded data removed]",
      "text/plain": [
       "<Figure size 640x480 with 1 Axes>"
      ]
     },
     "metadata": {},
     "output_type": "display_data"
    }
   ],
   "source": [
    "plt.title(\"상병명 청구 빈도\")\n",
    "\n",
    "plt.bar(top10[\"상병명\"], top10[\"청구 빈도\"], edgecolor=\"blue\", alpha = 0.3, color=\"green\")\n",
    "plt.xticks(rotation=80)\n",
    "\n",
    "for idx ,x_v in enumerate(top10[\"상병명\"]) :\n",
    "\n",
    "    if top10[\"청구 빈도\"][idx] == max(top10[\"청구 빈도\"]) :\n",
    "        color2 = \"red\"\n",
    "    else :\n",
    "        color2 = \"blue\"\n",
    "\n",
    "    # 각 막대에 y축의 값 표시하기\n",
    "    plt.text(\n",
    "        # 텍스트가 위치할 x축 위치 값 정의(x 좌표)\n",
    "        x_v,\n",
    "        \n",
    "        # 텍스트가 위치할 y축 위치 값 정의(y 좌표)\n",
    "        top10[\"청구 빈도\"][idx],\n",
    "       \n",
    "        # 텍스트로 표시할 값 정의\n",
    "        top10[\"청구 빈도\"][idx],\n",
    "\n",
    "        color = color2,\n",
    "\n",
    "\n",
    "        # 텍스트 수평정렬하기 left,center,right\n",
    "        horizontalalignment = \"center\",\n",
    "\n",
    "        #텍스트 수직정렬 하기\n",
    "        verticalalignment = \"bottom\"\n",
    "        \n",
    "    )\n",
    "\n",
    "\n",
    "plt.show()"
   ]
  },
  {
   "cell_type": "code",
   "execution_count": null,
   "id": "73a041c1-0065-4f5f-97b9-12a22fedb45e",
   "metadata": {},
   "outputs": [],
   "source": [
    "\"\"\"\n",
    "(해석)\n",
    "1. 청구 빈도수가 가장높은 10개를 추출하여 막대그래프로 작성하였다.\n",
    "2. 신장병 다음으로 급성 기관지염,고혈압의 청구빈도가 높았다.\n",
    "3. 그다음으론 위염과 알르레기성비염의 청구빈도가 비슷하게 높았다.\n",
    "4. 남은 6개의 데이터는 모두 빈도수가 비슷했다. (비염,위염,소화불량,당뇨병,비인두염,역류성식도염)\n",
    "\n",
    "\"\"\"\n"
   ]
  }
 ],
 "metadata": {
  "kernelspec": {
   "display_name": "pk_base_202503_kernel",
   "language": "python",
   "name": "pk_base_202503"
  },
  "language_info": {
   "codemirror_mode": {
    "name": "ipython",
    "version": 3
   },
   "file_extension": ".py",
   "mimetype": "text/x-python",
   "name": "python",
   "nbconvert_exporter": "python",
   "pygments_lexer": "ipython3",
   "version": "3.9.21"
  }
 },
 "nbformat": 4,
 "nbformat_minor": 5
}
