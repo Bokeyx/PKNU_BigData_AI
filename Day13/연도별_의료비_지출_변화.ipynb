{
 "cells": [
  {
   "cell_type": "markdown",
   "id": "336db8f9-4dad-49eb-834d-57f3a287d787",
   "metadata": {},
   "source": [
    "### 연도별 의료비 지출 변화"
   ]
  },
  {
   "cell_type": "code",
   "execution_count": 1,
   "id": "30a77de3-54af-40bd-91c3-09dafe52b764",
   "metadata": {},
   "outputs": [],
   "source": [
    "### 데이터 처리(조작) 라이브러리\n",
    "import pandas as pd\n",
    "import numpy as np\n",
    "\n",
    "import matplotlib.pyplot as plt\n",
    "\n",
    "import seaborn as sns\n",
    "\n",
    "plt.rc(\"font\", family=\"Malgun Gothic\")\n",
    "\n",
    "plt.rcParams[\"axes.unicode_minus\"] = False"
   ]
  },
  {
   "cell_type": "code",
   "execution_count": 2,
   "id": "ea3ba95e-9572-4e15-ae54-689dd5aae892",
   "metadata": {},
   "outputs": [
    {
     "data": {
      "text/html": [
       "<div>\n",
       "<style scoped>\n",
       "    .dataframe tbody tr th:only-of-type {\n",
       "        vertical-align: middle;\n",
       "    }\n",
       "\n",
       "    .dataframe tbody tr th {\n",
       "        vertical-align: top;\n",
       "    }\n",
       "\n",
       "    .dataframe thead th {\n",
       "        text-align: right;\n",
       "    }\n",
       "</style>\n",
       "<table border=\"1\" class=\"dataframe\">\n",
       "  <thead>\n",
       "    <tr style=\"text-align: right;\">\n",
       "      <th></th>\n",
       "      <th>key</th>\n",
       "      <th>no</th>\n",
       "      <th>DMD_FRM_CD</th>\n",
       "      <th>DMD_TP_CD</th>\n",
       "      <th>FOM_CD</th>\n",
       "      <th>AGG</th>\n",
       "      <th>SelectionProb</th>\n",
       "      <th>SamplingWeight</th>\n",
       "      <th>PAT_AGE</th>\n",
       "      <th>SEX_TP_CD</th>\n",
       "      <th>...</th>\n",
       "      <th>VST_DDCNT</th>\n",
       "      <th>RVD_RPE_TAMT_AMT</th>\n",
       "      <th>RVD_SLF_BRDN_AMT</th>\n",
       "      <th>RVD_INSUP_BRDN_AMT</th>\n",
       "      <th>SOPR_YN</th>\n",
       "      <th>PRCL_SYM_TP_CD</th>\n",
       "      <th>MAIDCL_CD</th>\n",
       "      <th>RADT_DIAG_YN</th>\n",
       "      <th>RADT_TRET_YN</th>\n",
       "      <th>yno</th>\n",
       "    </tr>\n",
       "  </thead>\n",
       "  <tbody>\n",
       "    <tr>\n",
       "      <th>0</th>\n",
       "      <td>1</td>\n",
       "      <td>169</td>\n",
       "      <td>3</td>\n",
       "      <td>0</td>\n",
       "      <td>3</td>\n",
       "      <td>13</td>\n",
       "      <td>0.030001</td>\n",
       "      <td>33.332599</td>\n",
       "      <td>62.0</td>\n",
       "      <td>1</td>\n",
       "      <td>...</td>\n",
       "      <td>1</td>\n",
       "      <td>9430</td>\n",
       "      <td>2800</td>\n",
       "      <td>6630</td>\n",
       "      <td>0</td>\n",
       "      <td>$</td>\n",
       "      <td>$</td>\n",
       "      <td>$</td>\n",
       "      <td>$</td>\n",
       "      <td>30796</td>\n",
       "    </tr>\n",
       "  </tbody>\n",
       "</table>\n",
       "<p>1 rows × 32 columns</p>\n",
       "</div>"
      ],
      "text/plain": [
       "   key   no  DMD_FRM_CD  DMD_TP_CD  FOM_CD  AGG  SelectionProb  \\\n",
       "0    1  169           3          0       3   13       0.030001   \n",
       "\n",
       "   SamplingWeight  PAT_AGE  SEX_TP_CD  ...  VST_DDCNT RVD_RPE_TAMT_AMT  \\\n",
       "0       33.332599     62.0          1  ...          1             9430   \n",
       "\n",
       "  RVD_SLF_BRDN_AMT  RVD_INSUP_BRDN_AMT  SOPR_YN  PRCL_SYM_TP_CD  MAIDCL_CD  \\\n",
       "0             2800                6630        0               $          $   \n",
       "\n",
       "  RADT_DIAG_YN  RADT_TRET_YN    yno  \n",
       "0            $             $  30796  \n",
       "\n",
       "[1 rows x 32 columns]"
      ]
     },
     "execution_count": 2,
     "metadata": {},
     "output_type": "execute_result"
    }
   ],
   "source": [
    "file_path = \"./files_org/SAMPLE_DB_20TABLE_2013.txt\"\n",
    "### sep=\",\" : 데이터 구분자 정의 (기본값은 콤마, 생략가능)\n",
    "files_org = pd.read_csv(file_path, sep=\",\")\n",
    "files_org.head(1)"
   ]
  },
  {
   "cell_type": "code",
   "execution_count": 3,
   "id": "087825ad-27fb-44c9-bc4b-f0f5e67a8b8a",
   "metadata": {},
   "outputs": [
    {
     "name": "stdout",
     "output_type": "stream",
     "text": [
      "<class 'pandas.core.frame.DataFrame'>\n",
      "RangeIndex: 32 entries, 0 to 31\n",
      "Data columns (total 2 columns):\n",
      " #   Column   Non-Null Count  Dtype \n",
      "---  ------   --------------  ----- \n",
      " 0   변수명      32 non-null     object\n",
      " 1   표준한글컬럼명  32 non-null     object\n",
      "dtypes: object(2)\n",
      "memory usage: 640.0+ bytes\n"
     ]
    },
    {
     "data": {
      "text/html": [
       "<div>\n",
       "<style scoped>\n",
       "    .dataframe tbody tr th:only-of-type {\n",
       "        vertical-align: middle;\n",
       "    }\n",
       "\n",
       "    .dataframe tbody tr th {\n",
       "        vertical-align: top;\n",
       "    }\n",
       "\n",
       "    .dataframe thead th {\n",
       "        text-align: right;\n",
       "    }\n",
       "</style>\n",
       "<table border=\"1\" class=\"dataframe\">\n",
       "  <thead>\n",
       "    <tr style=\"text-align: right;\">\n",
       "      <th></th>\n",
       "      <th>변수명</th>\n",
       "      <th>표준한글컬럼명</th>\n",
       "    </tr>\n",
       "  </thead>\n",
       "  <tbody>\n",
       "    <tr>\n",
       "      <th>0</th>\n",
       "      <td>key</td>\n",
       "      <td>명세서 연결코드</td>\n",
       "    </tr>\n",
       "  </tbody>\n",
       "</table>\n",
       "</div>"
      ],
      "text/plain": [
       "   변수명   표준한글컬럼명\n",
       "0  key  명세서 연결코드"
      ]
     },
     "execution_count": 3,
     "metadata": {},
     "output_type": "execute_result"
    }
   ],
   "source": [
    "file_path = \"./files_org/표본자료 변수 테이블(2012-2013).xlsx\"\n",
    "files_trans_org = pd.read_excel(file_path, usecols=\"A,D\")\n",
    "files_trans_org\n",
    "\n",
    "files_trans_org.info()\n",
    "files_trans_org.head(1)"
   ]
  },
  {
   "cell_type": "code",
   "execution_count": 4,
   "id": "b8d9dd13-5e72-4171-a514-da50d97598fd",
   "metadata": {},
   "outputs": [],
   "source": [
    "files_org_dict = dict(files_trans_org.to_numpy())"
   ]
  },
  {
   "cell_type": "code",
   "execution_count": 5,
   "id": "541d25dd-7a79-4be7-ba71-1d9bb3da7651",
   "metadata": {},
   "outputs": [
    {
     "data": {
      "text/html": [
       "<div>\n",
       "<style scoped>\n",
       "    .dataframe tbody tr th:only-of-type {\n",
       "        vertical-align: middle;\n",
       "    }\n",
       "\n",
       "    .dataframe tbody tr th {\n",
       "        vertical-align: top;\n",
       "    }\n",
       "\n",
       "    .dataframe thead th {\n",
       "        text-align: right;\n",
       "    }\n",
       "</style>\n",
       "<table border=\"1\" class=\"dataframe\">\n",
       "  <thead>\n",
       "    <tr style=\"text-align: right;\">\n",
       "      <th></th>\n",
       "      <th>명세서 연결코드</th>\n",
       "      <th>수진자고유번호</th>\n",
       "      <th>청구형태코드</th>\n",
       "      <th>청구구분코드</th>\n",
       "      <th>서식코드</th>\n",
       "      <th>연령군</th>\n",
       "      <th>추출확률</th>\n",
       "      <th>샘플가중치</th>\n",
       "      <th>수진자연령</th>\n",
       "      <th>성별구분코드</th>\n",
       "      <th>...</th>\n",
       "      <th>내원일수</th>\n",
       "      <th>심결요양급여비용총액</th>\n",
       "      <th>심결본인부담금</th>\n",
       "      <th>심결보험자부담금</th>\n",
       "      <th>수술여부</th>\n",
       "      <th>특정기호구분코드</th>\n",
       "      <th>의료급여종별코드</th>\n",
       "      <th>방사선진단여부</th>\n",
       "      <th>방사선치료여부</th>\n",
       "      <th>요양기관 고유번호</th>\n",
       "    </tr>\n",
       "  </thead>\n",
       "  <tbody>\n",
       "    <tr>\n",
       "      <th>0</th>\n",
       "      <td>1</td>\n",
       "      <td>169</td>\n",
       "      <td>3</td>\n",
       "      <td>0</td>\n",
       "      <td>3</td>\n",
       "      <td>13</td>\n",
       "      <td>0.030001</td>\n",
       "      <td>33.332599</td>\n",
       "      <td>62.0</td>\n",
       "      <td>1</td>\n",
       "      <td>...</td>\n",
       "      <td>1</td>\n",
       "      <td>9430</td>\n",
       "      <td>2800</td>\n",
       "      <td>6630</td>\n",
       "      <td>0</td>\n",
       "      <td>$</td>\n",
       "      <td>$</td>\n",
       "      <td>$</td>\n",
       "      <td>$</td>\n",
       "      <td>30796</td>\n",
       "    </tr>\n",
       "    <tr>\n",
       "      <th>1</th>\n",
       "      <td>2</td>\n",
       "      <td>183</td>\n",
       "      <td>3</td>\n",
       "      <td>0</td>\n",
       "      <td>8</td>\n",
       "      <td>15</td>\n",
       "      <td>0.030000</td>\n",
       "      <td>33.332882</td>\n",
       "      <td>74.0</td>\n",
       "      <td>2</td>\n",
       "      <td>...</td>\n",
       "      <td>1</td>\n",
       "      <td>4380</td>\n",
       "      <td>500</td>\n",
       "      <td>3880</td>\n",
       "      <td>0</td>\n",
       "      <td>$</td>\n",
       "      <td>$</td>\n",
       "      <td>$</td>\n",
       "      <td>$</td>\n",
       "      <td>9795</td>\n",
       "    </tr>\n",
       "    <tr>\n",
       "      <th>2</th>\n",
       "      <td>3</td>\n",
       "      <td>23</td>\n",
       "      <td>3</td>\n",
       "      <td>0</td>\n",
       "      <td>3</td>\n",
       "      <td>3</td>\n",
       "      <td>0.030000</td>\n",
       "      <td>33.332920</td>\n",
       "      <td>14.0</td>\n",
       "      <td>1</td>\n",
       "      <td>...</td>\n",
       "      <td>1</td>\n",
       "      <td>3310</td>\n",
       "      <td>1300</td>\n",
       "      <td>2010</td>\n",
       "      <td>0</td>\n",
       "      <td>$</td>\n",
       "      <td>$</td>\n",
       "      <td>$</td>\n",
       "      <td>$</td>\n",
       "      <td>34835</td>\n",
       "    </tr>\n",
       "  </tbody>\n",
       "</table>\n",
       "<p>3 rows × 32 columns</p>\n",
       "</div>"
      ],
      "text/plain": [
       "   명세서 연결코드  수진자고유번호  청구형태코드  청구구분코드  서식코드  연령군      추출확률      샘플가중치  수진자연령  \\\n",
       "0         1      169       3       0     3   13  0.030001  33.332599   62.0   \n",
       "1         2      183       3       0     8   15  0.030000  33.332882   74.0   \n",
       "2         3       23       3       0     3    3  0.030000  33.332920   14.0   \n",
       "\n",
       "   성별구분코드  ...  내원일수 심결요양급여비용총액 심결본인부담금  심결보험자부담금  수술여부  특정기호구분코드  의료급여종별코드  \\\n",
       "0       1  ...     1       9430    2800      6630     0         $         $   \n",
       "1       2  ...     1       4380     500      3880     0         $         $   \n",
       "2       1  ...     1       3310    1300      2010     0         $         $   \n",
       "\n",
       "  방사선진단여부  방사선치료여부 요양기관 고유번호  \n",
       "0       $        $     30796  \n",
       "1       $        $      9795  \n",
       "2       $        $     34835  \n",
       "\n",
       "[3 rows x 32 columns]"
      ]
     },
     "execution_count": 5,
     "metadata": {},
     "output_type": "execute_result"
    }
   ],
   "source": [
    "files_org_kr = files_org.rename(columns=files_org_dict)\n",
    "files_org_kr.head(3)"
   ]
  },
  {
   "cell_type": "code",
   "execution_count": 6,
   "id": "d60625b8-0515-40c8-90f3-7e35c2b0130c",
   "metadata": {},
   "outputs": [
    {
     "name": "stdout",
     "output_type": "stream",
     "text": [
      "<class 'pandas.core.frame.DataFrame'>\n",
      "RangeIndex: 5631 entries, 0 to 5630\n",
      "Data columns (total 32 columns):\n",
      " #   Column      Non-Null Count  Dtype  \n",
      "---  ------      --------------  -----  \n",
      " 0   명세서 연결코드    5631 non-null   int64  \n",
      " 1   수진자고유번호     5631 non-null   int64  \n",
      " 2   청구형태코드      5631 non-null   int64  \n",
      " 3   청구구분코드      5631 non-null   int64  \n",
      " 4   서식코드        5631 non-null   int64  \n",
      " 5   연령군         5631 non-null   int64  \n",
      " 6   추출확률        5631 non-null   float64\n",
      " 7   샘플가중치       5631 non-null   float64\n",
      " 8   수진자연령       5631 non-null   float64\n",
      " 9   성별구분코드      5631 non-null   int64  \n",
      " 10  보험자코드       5631 non-null   int64  \n",
      " 11  주상병코드       5631 non-null   object \n",
      " 12  부상병코드       5631 non-null   object \n",
      " 13  요양개시일자      5631 non-null   int64  \n",
      " 14  요양만료일자      5527 non-null   float64\n",
      " 15  진료결과구분코드    5631 non-null   int64  \n",
      " 16  진료과목코드      5631 non-null   int64  \n",
      " 17  청구DRG번호     5631 non-null   object \n",
      " 18  최초입원일자      64 non-null     float64\n",
      " 19  입원도착경로구분코드  5631 non-null   object \n",
      " 20  공상구분코드      5631 non-null   object \n",
      " 21  요양일수        5631 non-null   int64  \n",
      " 22  내원일수        5631 non-null   int64  \n",
      " 23  심결요양급여비용총액  5631 non-null   int64  \n",
      " 24  심결본인부담금     5631 non-null   int64  \n",
      " 25  심결보험자부담금    5631 non-null   int64  \n",
      " 26  수술여부        5631 non-null   int64  \n",
      " 27  특정기호구분코드    5631 non-null   object \n",
      " 28  의료급여종별코드    5631 non-null   object \n",
      " 29  방사선진단여부     5631 non-null   object \n",
      " 30  방사선치료여부     5631 non-null   object \n",
      " 31  요양기관 고유번호   5631 non-null   int64  \n",
      "dtypes: float64(5), int64(18), object(9)\n",
      "memory usage: 1.4+ MB\n"
     ]
    }
   ],
   "source": [
    "files_org_kr.info()"
   ]
  },
  {
   "cell_type": "code",
   "execution_count": 7,
   "id": "6744a01a-4496-4aeb-9dce-846a1708f829",
   "metadata": {},
   "outputs": [
    {
     "data": {
      "text/plain": [
       "명세서 연결코드         0\n",
       "수진자고유번호          0\n",
       "청구형태코드           0\n",
       "청구구분코드           0\n",
       "서식코드             0\n",
       "연령군              0\n",
       "추출확률             0\n",
       "샘플가중치            0\n",
       "수진자연령            0\n",
       "성별구분코드           0\n",
       "보험자코드            0\n",
       "주상병코드            0\n",
       "부상병코드            0\n",
       "요양개시일자           0\n",
       "요양만료일자         104\n",
       "진료결과구분코드         0\n",
       "진료과목코드           0\n",
       "청구DRG번호          0\n",
       "최초입원일자        5567\n",
       "입원도착경로구분코드       0\n",
       "공상구분코드           0\n",
       "요양일수             0\n",
       "내원일수             0\n",
       "심결요양급여비용총액       0\n",
       "심결본인부담금          0\n",
       "심결보험자부담금         0\n",
       "수술여부             0\n",
       "특정기호구분코드         0\n",
       "의료급여종별코드         0\n",
       "방사선진단여부          0\n",
       "방사선치료여부          0\n",
       "요양기관 고유번호        0\n",
       "dtype: int64"
      ]
     },
     "execution_count": 7,
     "metadata": {},
     "output_type": "execute_result"
    }
   ],
   "source": [
    "files_org_kr.isnull().sum(axis=0)"
   ]
  },
  {
   "cell_type": "code",
   "execution_count": 8,
   "id": "3a75c059-407e-4c99-97cf-589085a3aa75",
   "metadata": {},
   "outputs": [],
   "source": [
    "files_org_kr[\"최초입원일자\"] = files_org_kr[\"최초입원일자\"].fillna(0)\n",
    "files_org_kr[\"요양만료일자\"] = files_org_kr[\"요양만료일자\"].fillna(0)"
   ]
  },
  {
   "cell_type": "code",
   "execution_count": 9,
   "id": "7e1bb755-b0a6-4c06-a4b5-9e3cf5a7e6b3",
   "metadata": {},
   "outputs": [
    {
     "data": {
      "text/plain": [
       "명세서 연결코드      0\n",
       "수진자고유번호       0\n",
       "청구형태코드        0\n",
       "청구구분코드        0\n",
       "서식코드          0\n",
       "연령군           0\n",
       "추출확률          0\n",
       "샘플가중치         0\n",
       "수진자연령         0\n",
       "성별구분코드        0\n",
       "보험자코드         0\n",
       "주상병코드         0\n",
       "부상병코드         0\n",
       "요양개시일자        0\n",
       "요양만료일자        0\n",
       "진료결과구분코드      0\n",
       "진료과목코드        0\n",
       "청구DRG번호       0\n",
       "최초입원일자        0\n",
       "입원도착경로구분코드    0\n",
       "공상구분코드        0\n",
       "요양일수          0\n",
       "내원일수          0\n",
       "심결요양급여비용총액    0\n",
       "심결본인부담금       0\n",
       "심결보험자부담금      0\n",
       "수술여부          0\n",
       "특정기호구분코드      0\n",
       "의료급여종별코드      0\n",
       "방사선진단여부       0\n",
       "방사선치료여부       0\n",
       "요양기관 고유번호     0\n",
       "dtype: int64"
      ]
     },
     "execution_count": 9,
     "metadata": {},
     "output_type": "execute_result"
    }
   ],
   "source": [
    "files_org_kr.isnull().sum(axis=0)"
   ]
  },
  {
   "cell_type": "code",
   "execution_count": 11,
   "id": "9a5e8c47-5005-4ebd-b27b-5f12953470a5",
   "metadata": {},
   "outputs": [],
   "source": [
    "# '요양개시일자' 컬럼을 날짜 형식으로 변환 (연도와 월 추출을 위해)\n",
    "files_org_kr['요양개시일자'] = pd.to_datetime(files_org_kr['요양개시일자'], format='%Y%m%d')"
   ]
  },
  {
   "cell_type": "code",
   "execution_count": 12,
   "id": "76332e29-83c4-4e86-ad5b-82776a0cff4a",
   "metadata": {},
   "outputs": [],
   "source": [
    "# '연도'와 '월'을 추출하여 새로운 컬럼 추가\n",
    "files_org_kr['연도'] = files_org_kr['요양개시일자'].dt.year\n",
    "files_org_kr['월'] = files_org_kr['요양개시일자'].dt.month"
   ]
  },
  {
   "cell_type": "code",
   "execution_count": 13,
   "id": "e424f07b-5733-4ac9-9607-bda3aafd580d",
   "metadata": {},
   "outputs": [],
   "source": [
    "# 월별로 '심결요양급여비용총액', '심결본인부담금', '심결보험자부담금' 합산\n",
    "m_epi_fil = files_org_kr.groupby(['연도', '월'])[['심결요양급여비용총액', '심결본인부담금', '심결보험자부담금']].sum().reset_index()"
   ]
  },
  {
   "cell_type": "code",
   "execution_count": 14,
   "id": "d0d1201b-62e2-4720-b90b-a60c6711f03a",
   "metadata": {},
   "outputs": [],
   "source": [
    "# 연도별 증감 분석 (각 연도의 월별 지출 변화)\n",
    "y_diff = m_epi_fil.pivot(index='월', columns='연도', values=['심결요양급여비용총액', '심결본인부담금', '심결보험자부담금'])"
   ]
  },
  {
   "cell_type": "code",
   "execution_count": 37,
   "id": "a62e7fde-a6a6-4ece-961c-bf0a0d7286fa",
   "metadata": {},
   "outputs": [
    {
     "data": {
      "image/png": "[encoded data removed]",
      "text/plain": [
       "<Figure size 1000x600 with 1 Axes>"
      ]
     },
     "metadata": {},
     "output_type": "display_data"
    },
    {
     "data": {
      "text/plain": [
       "'\\n<해석>\\n - 심결요양급여비용총액과 심결보험자부담금의 그래프 상향은 매우 유사합니다.\\n - 12개월 중 전반기는 지출이 낮은 거으로 나타나면 후반기로 갈수록 지출이 늘어납니다.\\n - 13년도 10월은 총액은 2번째로 높지만 심결본인부담금은 최대로 나타납니다.\\n - 13년도 12월은 심결요양급여비용총액은 가장 높지만 심결보험자 부담금이 하락합니다.\\n'"
      ]
     },
     "execution_count": 37,
     "metadata": {},
     "output_type": "execute_result"
    }
   ],
   "source": [
    "# 시각화\n",
    "plt.figure(figsize=(10, 6))\n",
    "\n",
    "# 심결요양급여비용총액 시각화\n",
    "plt.plot(y_diff.index, y_diff['심결요양급여비용총액'], label='심결요양급여비용총액', marker='o')\n",
    "\n",
    "# 심결본인부담금 시각화\n",
    "plt.plot(y_diff.index, y_diff['심결본인부담금'], label='심결본인부담금', marker='s')\n",
    "\n",
    "# 심결보험자부담금 시각화\n",
    "plt.plot(y_diff.index, y_diff['심결보험자부담금'], label='심결보험자부담금', marker='^')\n",
    "\n",
    "plt.title('2013년도 월별 의료비 지출 변화', fontsize=14)\n",
    "plt.xlabel('월', fontsize=12)\n",
    "plt.ylabel('총 지출액', fontsize=12)\n",
    "plt.xticks(y_diff.index)  # 월별로 x축 레이블\n",
    "plt.legend(title='연도 및 항목')\n",
    "plt.grid(linestyle=\"--\")\n",
    "plt.tight_layout()\n",
    "plt.show()\n",
    "\n",
    "\"\"\"\n",
    "<해석>\n",
    " - 심결요양급여비용총액과 심결보험자부담금의 그래프 상향은 매우 유사합니다.\n",
    " - 12개월 중 전반기는 지출이 낮은 거으로 나타나면 후반기로 갈수록 지출이 늘어납니다.\n",
    " - 13년도 10월은 총액은 2번째로 높지만 심결본인부담금은 최대로 나타납니다.\n",
    " - 13년도 12월은 심결요양급여비용총액은 가장 높지만 심결보험자 부담금이 하락합니다.\n",
    "\"\"\""
   ]
  },
  {
   "cell_type": "code",
   "execution_count": 16,
   "id": "9361aaa9-f5f8-4ec0-a478-1070cefff1d8",
   "metadata": {},
   "outputs": [
    {
     "name": "stdout",
     "output_type": "stream",
     "text": [
      "Empty DataFrame\n",
      "Columns: [명세서 연결코드, 수진자고유번호, 청구형태코드, 청구구분코드, 서식코드, 연령군, 추출확률, 샘플가중치, 수진자연령, 성별구분코드, 보험자코드, 주상병코드, 부상병코드, 요양개시일자, 요양만료일자, 진료결과구분코드, 진료과목코드, 청구DRG번호, 최초입원일자, 입원도착경로구분코드, 공상구분코드, 요양일수, 내원일수, 심결요양급여비용총액, 심결본인부담금, 심결보험자부담금, 수술여부, 특정기호구분코드, 의료급여종별코드, 방사선진단여부, 방사선치료여부, 요양기관 고유번호, 연도, 월]\n",
      "Index: []\n",
      "\n",
      "[0 rows x 34 columns]\n",
      "(0, 34)\n"
     ]
    }
   ],
   "source": [
    "# 2012년 데이터가 있는지 확인\n",
    "files_org_kr_2012 = files_org_kr[files_org_kr['연도'] == 2012]\n",
    "print(files_org_kr_2012.head())  # 2012년 데이터가 있는지 확인\n",
    "print(files_org_kr_2012.shape)  # 2012년 데이터가 몇 건인지 확인"
   ]
  },
  {
   "cell_type": "code",
   "execution_count": 36,
   "id": "d9e76457-2587-43d5-90c9-ea8f298a9797",
   "metadata": {},
   "outputs": [],
   "source": [
    "# # 첫 번째 히스토그램\n",
    "# sns.histplot(y_diff['심결요양급여비용총액'], kde=True, color=\"blue\", bins=25, multiple=\"dodge\")\n",
    "\n",
    "# # 두 번째 히스토그램\n",
    "# sns.histplot(y_diff['심결본인부담금'], kde=True, color=\"green\", bins=25, multiple=\"dodge\")\n",
    "\n",
    "# # 세 번째 히스토그램\n",
    "# sns.histplot(y_diff['심결보험자부담금'], kde=True, color=\"red\", bins=25, multiple=\"dodge\")\n",
    "\n",
    "# # 결과를 화면에 표시\n",
    "# plt.show()"
   ]
  },
  {
   "cell_type": "code",
   "execution_count": null,
   "id": "eadbba14-fbbe-49f1-97e1-1933a6a521ce",
   "metadata": {},
   "outputs": [],
   "source": []
  },
  {
   "cell_type": "code",
   "execution_count": null,
   "id": "a8df1e76-f7c6-4798-94ab-f1a5333d4571",
   "metadata": {},
   "outputs": [],
   "source": []
  },
  {
   "cell_type": "code",
   "execution_count": null,
   "id": "c731a7d1-56eb-4110-bf00-80f6f9b5ee34",
   "metadata": {},
   "outputs": [],
   "source": []
  },
  {
   "cell_type": "code",
   "execution_count": null,
   "id": "fc909f64-6482-481e-a016-32ccfb8cabee",
   "metadata": {},
   "outputs": [],
   "source": []
  },
  {
   "cell_type": "code",
   "execution_count": null,
   "id": "015084e6-2fcb-47d3-b1ed-8461b01d16f9",
   "metadata": {},
   "outputs": [],
   "source": []
  },
  {
   "cell_type": "code",
   "execution_count": null,
   "id": "fda3eb1a-925d-44b0-b707-630cce5a6e53",
   "metadata": {},
   "outputs": [],
   "source": []
  },
  {
   "cell_type": "code",
   "execution_count": null,
   "id": "717e7ba7-8468-4fc5-9fc7-4ce9e1888854",
   "metadata": {},
   "outputs": [],
   "source": []
  },
  {
   "cell_type": "code",
   "execution_count": null,
   "id": "56e3d55d-25f9-432b-9234-fa72e2c5db50",
   "metadata": {},
   "outputs": [],
   "source": []
  },
  {
   "cell_type": "code",
   "execution_count": null,
   "id": "1178ad51-91f2-4eb9-89bf-a8743624c1a8",
   "metadata": {},
   "outputs": [],
   "source": []
  },
  {
   "cell_type": "code",
   "execution_count": null,
   "id": "9e94825c-510e-41d4-9ffd-83e51bb81fed",
   "metadata": {},
   "outputs": [],
   "source": []
  },
  {
   "cell_type": "code",
   "execution_count": null,
   "id": "c49f6b3b-06ab-4e83-bf6a-b72b2663a7b8",
   "metadata": {},
   "outputs": [],
   "source": []
  },
  {
   "cell_type": "code",
   "execution_count": null,
   "id": "d8c28bef-75e1-477c-aedc-4fa45b8493df",
   "metadata": {},
   "outputs": [],
   "source": []
  },
  {
   "cell_type": "code",
   "execution_count": null,
   "id": "7a8ef288-3b4f-475c-a745-94bb586b1503",
   "metadata": {},
   "outputs": [],
   "source": []
  },
  {
   "cell_type": "code",
   "execution_count": null,
   "id": "b31bfdf7-0850-4aa3-bc00-41fe1501eb08",
   "metadata": {},
   "outputs": [],
   "source": []
  },
  {
   "cell_type": "code",
   "execution_count": null,
   "id": "62c3eb60-58e0-4adc-8e64-6ddc3998574f",
   "metadata": {},
   "outputs": [],
   "source": []
  },
  {
   "cell_type": "code",
   "execution_count": null,
   "id": "792197ae-4ded-46df-9f36-37f1f288ecd5",
   "metadata": {},
   "outputs": [],
   "source": []
  },
  {
   "cell_type": "code",
   "execution_count": null,
   "id": "f770d418-977c-4bfc-a6b2-c90e12b9d28a",
   "metadata": {},
   "outputs": [],
   "source": []
  },
  {
   "cell_type": "code",
   "execution_count": null,
   "id": "53a0a27f-2052-4422-87d3-dc13ae7341ac",
   "metadata": {},
   "outputs": [],
   "source": []
  },
  {
   "cell_type": "code",
   "execution_count": null,
   "id": "c3caa8df-4d9a-4eb9-952d-b13ec7074bb0",
   "metadata": {},
   "outputs": [],
   "source": []
  },
  {
   "cell_type": "code",
   "execution_count": null,
   "id": "7b41caaf-d77f-4287-860b-70f743dadf26",
   "metadata": {},
   "outputs": [],
   "source": []
  },
  {
   "cell_type": "code",
   "execution_count": null,
   "id": "c3085782-63b4-4ed5-873b-5b3b3ac3b91f",
   "metadata": {},
   "outputs": [],
   "source": []
  },
  {
   "cell_type": "code",
   "execution_count": null,
   "id": "0f060f48-f28d-42fb-a8f4-975269b87dee",
   "metadata": {},
   "outputs": [],
   "source": []
  },
  {
   "cell_type": "code",
   "execution_count": null,
   "id": "bb4b0902-c3cf-4cec-8729-63a4230de2d7",
   "metadata": {},
   "outputs": [],
   "source": []
  },
  {
   "cell_type": "code",
   "execution_count": null,
   "id": "ecdd4ceb-ff06-431a-960d-276f0d5e915c",
   "metadata": {},
   "outputs": [],
   "source": []
  },
  {
   "cell_type": "code",
   "execution_count": null,
   "id": "b4fdaddd-ce1d-4e17-acdd-46592f949e65",
   "metadata": {},
   "outputs": [],
   "source": []
  }
 ],
 "metadata": {
  "kernelspec": {
   "display_name": "pk_base_202503_kernel",
   "language": "python",
   "name": "pk_base_202503"
  },
  "language_info": {
   "codemirror_mode": {
    "name": "ipython",
    "version": 3
   },
   "file_extension": ".py",
   "mimetype": "text/x-python",
   "name": "python",
   "nbconvert_exporter": "python",
   "pygments_lexer": "ipython3",
   "version": "3.9.21"
  }
 },
 "nbformat": 4,
 "nbformat_minor": 5
}
