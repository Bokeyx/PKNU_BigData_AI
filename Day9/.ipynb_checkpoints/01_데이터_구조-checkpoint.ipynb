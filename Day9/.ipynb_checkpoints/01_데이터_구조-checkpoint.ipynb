{
 "cells": [
  {
   "cell_type": "code",
   "execution_count": 1,
   "id": "9d968fa8-3b8c-49bb-a07a-b30f514fea39",
   "metadata": {},
   "outputs": [],
   "source": [
    "### 데이터 처리 라이브러리\n",
    "import pandas as pd"
   ]
  },
  {
   "cell_type": "markdown",
   "id": "d9871aee-fad7-4606-a2b4-ac0cac2edee5",
   "metadata": {},
   "source": [
    "## 시리즈(Series)"
   ]
  },
  {
   "cell_type": "code",
   "execution_count": 2,
   "id": "885ebac4-7307-4369-bb22-b5eab2afeb3f",
   "metadata": {},
   "outputs": [
    {
     "data": {
      "text/plain": [
       "0    강아지\n",
       "1    고양이\n",
       "2    호랑이\n",
       "3     사자\n",
       "4    원숭이\n",
       "dtype: object"
      ]
     },
     "execution_count": 2,
     "metadata": {},
     "output_type": "execute_result"
    }
   ],
   "source": [
    "### 시리즈 : 한 컬럼의 열데이터를 담당하는 타입\n",
    "# - 리스트의 구조와 유사함(인덱스 번호 또는 값으로 유지됨)\n",
    "# - 리스트와 사용방법이 유사함\n",
    "data = [\"강아지\", \"고양이\", \"호랑이\", \"사자\", \"원숭이\"]\n",
    "idx = [\"0\", \"1\", \"2\", \"3\", \"4\"]\n",
    "\n",
    "# - 시리즈 타입으로 정의하기\n",
    "pd.Series(data = data, index = idx)"
   ]
  },
  {
   "cell_type": "markdown",
   "id": "2d92feb3-667f-4671-896f-19674364ed67",
   "metadata": {},
   "source": [
    "## 딕셔너리 데이터를 -> 시리즈로 변환하기"
   ]
  },
  {
   "cell_type": "code",
   "execution_count": 3,
   "id": "c1f7b7e1-3d76-4baf-b2ff-c70ea0d2c72d",
   "metadata": {},
   "outputs": [
    {
     "data": {
      "text/plain": [
       "a    1\n",
       "b    2\n",
       "c    3\n",
       "dtype: int64"
      ]
     },
     "execution_count": 3,
     "metadata": {},
     "output_type": "execute_result"
    }
   ],
   "source": [
    "dict_data = {\"a\" : 1, \"b\" : 2, \"c\" : 3}\n",
    "# 딕셔너리의 key는 index값으로 사용된다.\n",
    "#           values는 시리즈 값으로 사용된다.\n",
    "pd.Series(dict_data)"
   ]
  },
  {
   "cell_type": "markdown",
   "id": "75621f94-9daf-4571-a363-e3cc54f1ffa4",
   "metadata": {},
   "source": [
    "## 리스트를 -> 시리즈로 변환하기"
   ]
  },
  {
   "cell_type": "code",
   "execution_count": 4,
   "id": "71d4b72a-9abc-4956-bd90-1f8280cc0be5",
   "metadata": {},
   "outputs": [
    {
     "data": {
      "text/plain": [
       "0    강아지\n",
       "1    고양이\n",
       "2    호랑이\n",
       "3     사자\n",
       "4    원숭이\n",
       "dtype: object"
      ]
     },
     "execution_count": 4,
     "metadata": {},
     "output_type": "execute_result"
    }
   ],
   "source": [
    "### 시리즈 : 한 컬럼의 열데이터를 담당하는 타입\n",
    "# - 리스트의 구조와 유사함(인덱스 번호 또는 값으로 유지됨)\n",
    "# - 리스트와 사용방법이 유사함\n",
    "list_data = [\"강아지\", \"고양이\", \"호랑이\", \"사자\", \"원숭이\"]\n",
    "# - 리스트의 index 번호를 -> 시리즈의 인덱스 값으로\n",
    "#           데이터 값을 -> 시리즈 값으로\n",
    "pd.Series(data = data, index = idx)"
   ]
  },
  {
   "cell_type": "markdown",
   "id": "ef75e4c3-0f5e-405f-9a95-1f00a014d46e",
   "metadata": {},
   "source": [
    "### 튜플 -> 시리즈로 변환하기"
   ]
  },
  {
   "cell_type": "code",
   "execution_count": 5,
   "id": "cf9965c3-bbab-4c29-aaeb-01088eda69d7",
   "metadata": {},
   "outputs": [
    {
     "data": {
      "text/plain": [
       "0    강아지\n",
       "1    고양이\n",
       "2    호랑이\n",
       "3     사자\n",
       "4    원숭이\n",
       "dtype: object"
      ]
     },
     "execution_count": 5,
     "metadata": {},
     "output_type": "execute_result"
    }
   ],
   "source": [
    "tuple_data = (\"강아지\", \"고양이\", \"호랑이\", \"사자\", \"원숭이\")\n",
    "# - 리스트의 index 번호를 -> 시리즈의 인덱스 값으로\n",
    "#           데이터 값을 -> 시리즈 값으로\n",
    "pd.Series(tuple_data)"
   ]
  },
  {
   "cell_type": "markdown",
   "id": "6ed4881a-f2c9-4e75-b3f5-45efa01d4c33",
   "metadata": {},
   "source": [
    "## 시리즈의 인덱스 값을 수정하기"
   ]
  },
  {
   "cell_type": "code",
   "execution_count": 6,
   "id": "66db9580-9063-403c-9e8d-b9a0425c26a9",
   "metadata": {},
   "outputs": [
    {
     "data": {
      "text/plain": [
       "a    강아지\n",
       "b    고양이\n",
       "c    호랑이\n",
       "d     사자\n",
       "e    원숭이\n",
       "dtype: object"
      ]
     },
     "execution_count": 6,
     "metadata": {},
     "output_type": "execute_result"
    }
   ],
   "source": [
    "pd.Series(tuple_data, index=[\"a\", \"b\", \"c\", \"d\", \"e\"])"
   ]
  },
  {
   "cell_type": "markdown",
   "id": "a7787b0b-1210-447f-8d5a-2a5454053961",
   "metadata": {},
   "source": [
    "## DataFrame 생성 방법"
   ]
  },
  {
   "cell_type": "markdown",
   "id": "d001bde7-f519-4c7c-9634-e8d066a2b48f",
   "metadata": {},
   "source": [
    "#### 딕셔너리 데이터를 이용해서 -> DataFrame 생성하기"
   ]
  },
  {
   "cell_type": "code",
   "execution_count": 7,
   "id": "c5a6267b-c22f-49db-8c57-efc348d566d5",
   "metadata": {},
   "outputs": [
    {
     "data": {
      "text/html": [
       "<div>\n",
       "<style scoped>\n",
       "    .dataframe tbody tr th:only-of-type {\n",
       "        vertical-align: middle;\n",
       "    }\n",
       "\n",
       "    .dataframe tbody tr th {\n",
       "        vertical-align: top;\n",
       "    }\n",
       "\n",
       "    .dataframe thead th {\n",
       "        text-align: right;\n",
       "    }\n",
       "</style>\n",
       "<table border=\"1\" class=\"dataframe\">\n",
       "  <thead>\n",
       "    <tr style=\"text-align: right;\">\n",
       "      <th></th>\n",
       "      <th>동물</th>\n",
       "      <th>나이</th>\n",
       "    </tr>\n",
       "  </thead>\n",
       "  <tbody>\n",
       "    <tr>\n",
       "      <th>0</th>\n",
       "      <td>강아지</td>\n",
       "      <td>5</td>\n",
       "    </tr>\n",
       "    <tr>\n",
       "      <th>1</th>\n",
       "      <td>고양이</td>\n",
       "      <td>9</td>\n",
       "    </tr>\n",
       "    <tr>\n",
       "      <th>2</th>\n",
       "      <td>호랑이</td>\n",
       "      <td>7</td>\n",
       "    </tr>\n",
       "    <tr>\n",
       "      <th>3</th>\n",
       "      <td>사자</td>\n",
       "      <td>3</td>\n",
       "    </tr>\n",
       "    <tr>\n",
       "      <th>4</th>\n",
       "      <td>원숭이</td>\n",
       "      <td>1</td>\n",
       "    </tr>\n",
       "  </tbody>\n",
       "</table>\n",
       "</div>"
      ],
      "text/plain": [
       "    동물  나이\n",
       "0  강아지   5\n",
       "1  고양이   9\n",
       "2  호랑이   7\n",
       "3   사자   3\n",
       "4  원숭이   1"
      ]
     },
     "execution_count": 7,
     "metadata": {},
     "output_type": "execute_result"
    }
   ],
   "source": [
    "### DataFrame에 적용하기 위한 딕셔너리 형태\n",
    "dict_data = {\"동물\" : [\"강아지\", \"고양이\", \"호랑이\", \"사자\", \"원숭이\"], \"나이\" : [5, 9, 7, 3, 1]}\n",
    "pd.DataFrame(dict_data)"
   ]
  },
  {
   "cell_type": "markdown",
   "id": "696e02af-945d-4596-b113-a603948fce49",
   "metadata": {},
   "source": [
    "#### 리스트 데이터를 이용해서 -> DataFrame 생성하기"
   ]
  },
  {
   "cell_type": "code",
   "execution_count": 8,
   "id": "a4c184ac-a84b-4f77-a54f-75de6b83bac4",
   "metadata": {},
   "outputs": [
    {
     "data": {
      "text/html": [
       "<div>\n",
       "<style scoped>\n",
       "    .dataframe tbody tr th:only-of-type {\n",
       "        vertical-align: middle;\n",
       "    }\n",
       "\n",
       "    .dataframe tbody tr th {\n",
       "        vertical-align: top;\n",
       "    }\n",
       "\n",
       "    .dataframe thead th {\n",
       "        text-align: right;\n",
       "    }\n",
       "</style>\n",
       "<table border=\"1\" class=\"dataframe\">\n",
       "  <thead>\n",
       "    <tr style=\"text-align: right;\">\n",
       "      <th></th>\n",
       "      <th>동물</th>\n",
       "      <th>나이</th>\n",
       "    </tr>\n",
       "  </thead>\n",
       "  <tbody>\n",
       "    <tr>\n",
       "      <th>0</th>\n",
       "      <td>강아지</td>\n",
       "      <td>5</td>\n",
       "    </tr>\n",
       "    <tr>\n",
       "      <th>1</th>\n",
       "      <td>고양이</td>\n",
       "      <td>9</td>\n",
       "    </tr>\n",
       "    <tr>\n",
       "      <th>2</th>\n",
       "      <td>호랑이</td>\n",
       "      <td>7</td>\n",
       "    </tr>\n",
       "    <tr>\n",
       "      <th>3</th>\n",
       "      <td>사자</td>\n",
       "      <td>3</td>\n",
       "    </tr>\n",
       "    <tr>\n",
       "      <th>4</th>\n",
       "      <td>원숭이</td>\n",
       "      <td>1</td>\n",
       "    </tr>\n",
       "  </tbody>\n",
       "</table>\n",
       "</div>"
      ],
      "text/plain": [
       "    동물  나이\n",
       "0  강아지   5\n",
       "1  고양이   9\n",
       "2  호랑이   7\n",
       "3   사자   3\n",
       "4  원숭이   1"
      ]
     },
     "execution_count": 8,
     "metadata": {},
     "output_type": "execute_result"
    }
   ],
   "source": [
    "list_data = [[\"강아지\", 5], [\"고양이\", 9], [\"호랑이\", 7], [\"사자\", 3], [\"원숭이\", 1]]\n",
    "pd.DataFrame(list_data, columns=[\"동물\", \"나이\"])"
   ]
  },
  {
   "cell_type": "markdown",
   "id": "9dc2ea1e-cd3e-4bdb-bc49-619bb2d95ea7",
   "metadata": {},
   "source": [
    "## 깨끗한(비어 있는) DataFrame 생성하기"
   ]
  },
  {
   "cell_type": "code",
   "execution_count": 9,
   "id": "ebb88aeb-e344-47a6-b921-186b5dde50e5",
   "metadata": {},
   "outputs": [
    {
     "data": {
      "text/html": [
       "<div>\n",
       "<style scoped>\n",
       "    .dataframe tbody tr th:only-of-type {\n",
       "        vertical-align: middle;\n",
       "    }\n",
       "\n",
       "    .dataframe tbody tr th {\n",
       "        vertical-align: top;\n",
       "    }\n",
       "\n",
       "    .dataframe thead th {\n",
       "        text-align: right;\n",
       "    }\n",
       "</style>\n",
       "<table border=\"1\" class=\"dataframe\">\n",
       "  <thead>\n",
       "    <tr style=\"text-align: right;\">\n",
       "      <th></th>\n",
       "    </tr>\n",
       "  </thead>\n",
       "  <tbody>\n",
       "  </tbody>\n",
       "</table>\n",
       "</div>"
      ],
      "text/plain": [
       "Empty DataFrame\n",
       "Columns: []\n",
       "Index: []"
      ]
     },
     "execution_count": 9,
     "metadata": {},
     "output_type": "execute_result"
    }
   ],
   "source": [
    "df = pd.DataFrame()\n",
    "df"
   ]
  },
  {
   "cell_type": "code",
   "execution_count": 10,
   "id": "f49825d2-b9a4-419c-877e-a0a0d9cb4cde",
   "metadata": {},
   "outputs": [
    {
     "data": {
      "text/html": [
       "<div>\n",
       "<style scoped>\n",
       "    .dataframe tbody tr th:only-of-type {\n",
       "        vertical-align: middle;\n",
       "    }\n",
       "\n",
       "    .dataframe tbody tr th {\n",
       "        vertical-align: top;\n",
       "    }\n",
       "\n",
       "    .dataframe thead th {\n",
       "        text-align: right;\n",
       "    }\n",
       "</style>\n",
       "<table border=\"1\" class=\"dataframe\">\n",
       "  <thead>\n",
       "    <tr style=\"text-align: right;\">\n",
       "      <th></th>\n",
       "      <th>동물</th>\n",
       "      <th>나이</th>\n",
       "    </tr>\n",
       "  </thead>\n",
       "  <tbody>\n",
       "    <tr>\n",
       "      <th>0</th>\n",
       "      <td>강아지</td>\n",
       "      <td>5</td>\n",
       "    </tr>\n",
       "    <tr>\n",
       "      <th>1</th>\n",
       "      <td>고양이</td>\n",
       "      <td>9</td>\n",
       "    </tr>\n",
       "    <tr>\n",
       "      <th>2</th>\n",
       "      <td>호랑이</td>\n",
       "      <td>7</td>\n",
       "    </tr>\n",
       "    <tr>\n",
       "      <th>3</th>\n",
       "      <td>사자</td>\n",
       "      <td>3</td>\n",
       "    </tr>\n",
       "    <tr>\n",
       "      <th>4</th>\n",
       "      <td>원숭이</td>\n",
       "      <td>1</td>\n",
       "    </tr>\n",
       "  </tbody>\n",
       "</table>\n",
       "</div>"
      ],
      "text/plain": [
       "    동물  나이\n",
       "0  강아지   5\n",
       "1  고양이   9\n",
       "2  호랑이   7\n",
       "3   사자   3\n",
       "4  원숭이   1"
      ]
     },
     "execution_count": 10,
     "metadata": {},
     "output_type": "execute_result"
    }
   ],
   "source": [
    "### 깨끗한 데이터 프레임에 데이터 넣기...\n",
    "# - 딕셔너리의 개념을 따름 : key(컬럼명)가 있으면 데이터 수정\n",
    "#                                       없으면 컬럼 및 데이터 생성\n",
    "df[\"동물\"] = [\"강아지\", \"고양이\", \"호랑이\", \"사자\", \"원숭이\"]\n",
    "df[\"나이\"] = [5, 9, 7, 3, 1]\n",
    "df"
   ]
  },
  {
   "cell_type": "code",
   "execution_count": 17,
   "id": "6596aa2f-378d-4213-a873-4a6204768e5a",
   "metadata": {},
   "outputs": [
    {
     "data": {
      "text/html": [
       "<div>\n",
       "<style scoped>\n",
       "    .dataframe tbody tr th:only-of-type {\n",
       "        vertical-align: middle;\n",
       "    }\n",
       "\n",
       "    .dataframe tbody tr th {\n",
       "        vertical-align: top;\n",
       "    }\n",
       "\n",
       "    .dataframe thead th {\n",
       "        text-align: right;\n",
       "    }\n",
       "</style>\n",
       "<table border=\"1\" class=\"dataframe\">\n",
       "  <thead>\n",
       "    <tr style=\"text-align: right;\">\n",
       "      <th></th>\n",
       "      <th>동물</th>\n",
       "      <th>나이</th>\n",
       "    </tr>\n",
       "  </thead>\n",
       "  <tbody>\n",
       "    <tr>\n",
       "      <th>0</th>\n",
       "      <td>[강아지, 고양이, 호랑이, 사자, 원숭이]</td>\n",
       "      <td>[5, 9, 7, 3, 1]</td>\n",
       "    </tr>\n",
       "  </tbody>\n",
       "</table>\n",
       "</div>"
      ],
      "text/plain": [
       "                         동물               나이\n",
       "0  [강아지, 고양이, 호랑이, 사자, 원숭이]  [5, 9, 7, 3, 1]"
      ]
     },
     "execution_count": 17,
     "metadata": {},
     "output_type": "execute_result"
    }
   ],
   "source": [
    "df1 = pd.DataFrame()\n",
    "df1[\"동물\"] = [[\"강아지\", \"고양이\", \"호랑이\", \"사자\", \"원숭이\"]]\n",
    "df1[\"나이\"] = [[5, 9, 7, 3, 1]]\n",
    "df1"
   ]
  },
  {
   "cell_type": "code",
   "execution_count": 22,
   "id": "11255332-e271-4734-bdea-ac00092fdbd1",
   "metadata": {},
   "outputs": [
    {
     "data": {
      "text/html": [
       "<div>\n",
       "<style scoped>\n",
       "    .dataframe tbody tr th:only-of-type {\n",
       "        vertical-align: middle;\n",
       "    }\n",
       "\n",
       "    .dataframe tbody tr th {\n",
       "        vertical-align: top;\n",
       "    }\n",
       "\n",
       "    .dataframe thead th {\n",
       "        text-align: right;\n",
       "    }\n",
       "</style>\n",
       "<table border=\"1\" class=\"dataframe\">\n",
       "  <thead>\n",
       "    <tr style=\"text-align: right;\">\n",
       "      <th></th>\n",
       "      <th>동물</th>\n",
       "      <th>나이</th>\n",
       "      <th>데이터프레임</th>\n",
       "    </tr>\n",
       "  </thead>\n",
       "  <tbody>\n",
       "    <tr>\n",
       "      <th>0</th>\n",
       "      <td>{'a': '호랑이'}</td>\n",
       "      <td>[5, 9, 7, 3, 1]</td>\n",
       "      <td>동물               나이\n",
       "0...</td>\n",
       "    </tr>\n",
       "  </tbody>\n",
       "</table>\n",
       "</div>"
      ],
      "text/plain": [
       "             동물               나이  \\\n",
       "0  {'a': '호랑이'}  [5, 9, 7, 3, 1]   \n",
       "\n",
       "                                              데이터프레임  \n",
       "0                           동물               나이\n",
       "0...  "
      ]
     },
     "execution_count": 22,
     "metadata": {},
     "output_type": "execute_result"
    }
   ],
   "source": [
    "df = pd.DataFrame()\n",
    "df[\"동물\"] = [{\"a\" : \"호랑이\"}]\n",
    "df[\"나이\"] = [[5, 9, 7, 3, 1]]\n",
    "df[\"데이터프레임\"] = [df1]\n",
    "df\n"
   ]
  },
  {
   "cell_type": "code",
   "execution_count": 20,
   "id": "4de3be30-073e-48b2-a14b-c0ab7daee075",
   "metadata": {},
   "outputs": [
    {
     "data": {
      "text/plain": [
       "True"
      ]
     },
     "execution_count": 20,
     "metadata": {},
     "output_type": "execute_result"
    }
   ],
   "source": [
    "type(df[\"동물\"][0]) == dict\n",
    "type(df[\"나이\"][0]) == list"
   ]
  },
  {
   "cell_type": "markdown",
   "id": "2f989f01-8b8a-45e7-b665-431ccb2039d1",
   "metadata": {},
   "source": [
    "## 데이터프레임의 컬럼명 확인하기"
   ]
  },
  {
   "cell_type": "code",
   "execution_count": 15,
   "id": "9f902be0-fa9d-46df-9e66-45ccefc4cbdf",
   "metadata": {},
   "outputs": [
    {
     "data": {
      "text/plain": [
       "Index(['동물', '나이'], dtype='object')"
      ]
     },
     "execution_count": 15,
     "metadata": {},
     "output_type": "execute_result"
    }
   ],
   "source": [
    "list_data = [[\"강아지\", 5], [\"고양이\", 9], [\"호랑이\", 7], [\"사자\", 3], [\"원숭이\", 1]]\n",
    "df_temp = pd.DataFrame(list_data, columns=[\"동물\", \"나이\"])\n",
    "\n",
    "## 컬럼명 확인\n",
    "df_temp.columns"
   ]
  },
  {
   "cell_type": "code",
   "execution_count": null,
   "id": "4e036862-f37b-4c81-b56a-2a5077874e42",
   "metadata": {},
   "outputs": [],
   "source": []
  },
  {
   "cell_type": "code",
   "execution_count": null,
   "id": "c6017a2d-d0ee-4427-b50f-cebdd61eaec8",
   "metadata": {},
   "outputs": [],
   "source": []
  },
  {
   "cell_type": "code",
   "execution_count": null,
   "id": "8b20d2a2-d57d-4af5-8f16-e878bc76ae3a",
   "metadata": {},
   "outputs": [],
   "source": []
  },
  {
   "cell_type": "code",
   "execution_count": null,
   "id": "fcee0b40-5244-4800-a5e5-ce08966192b8",
   "metadata": {},
   "outputs": [],
   "source": []
  },
  {
   "cell_type": "code",
   "execution_count": null,
   "id": "25ec7916-81ac-4921-b151-da98c94636df",
   "metadata": {},
   "outputs": [],
   "source": []
  },
  {
   "cell_type": "code",
   "execution_count": null,
   "id": "398bbc0d-6550-40a6-9489-fa8b030eb271",
   "metadata": {},
   "outputs": [],
   "source": []
  },
  {
   "cell_type": "code",
   "execution_count": null,
   "id": "dc9fb80b-eef4-4c0c-8fb0-cc2e20be1816",
   "metadata": {},
   "outputs": [],
   "source": []
  },
  {
   "cell_type": "code",
   "execution_count": null,
   "id": "db1fbba3-29f8-44d9-a6ec-e8f45c560ba0",
   "metadata": {},
   "outputs": [],
   "source": []
  },
  {
   "cell_type": "code",
   "execution_count": null,
   "id": "c555146d-2e47-4a3b-85da-7f92363e462a",
   "metadata": {},
   "outputs": [],
   "source": []
  },
  {
   "cell_type": "code",
   "execution_count": null,
   "id": "bba082cb-e82c-4c61-a21f-50c5c0338ed6",
   "metadata": {},
   "outputs": [],
   "source": []
  },
  {
   "cell_type": "code",
   "execution_count": null,
   "id": "9aec76fa-aaef-4af8-bc3c-c089b25843e6",
   "metadata": {},
   "outputs": [],
   "source": []
  },
  {
   "cell_type": "code",
   "execution_count": null,
   "id": "ccc1a76e-1404-422c-80ed-54ef22a94913",
   "metadata": {},
   "outputs": [],
   "source": []
  },
  {
   "cell_type": "code",
   "execution_count": null,
   "id": "721c8121-1aec-415c-8958-85e1884f629c",
   "metadata": {},
   "outputs": [],
   "source": []
  },
  {
   "cell_type": "code",
   "execution_count": null,
   "id": "86af70ad-8e4d-446e-bad0-ccd2e1b341fc",
   "metadata": {},
   "outputs": [],
   "source": []
  },
  {
   "cell_type": "code",
   "execution_count": null,
   "id": "4f7c2f7d-c04e-49e9-811d-d6361825feba",
   "metadata": {},
   "outputs": [],
   "source": []
  },
  {
   "cell_type": "code",
   "execution_count": null,
   "id": "e54272d0-2779-46dc-8a5c-71ebb7c7f3a5",
   "metadata": {},
   "outputs": [],
   "source": []
  },
  {
   "cell_type": "code",
   "execution_count": null,
   "id": "c261d5da-bcb8-4e14-b9e5-2b4d6b2276ec",
   "metadata": {},
   "outputs": [],
   "source": []
  },
  {
   "cell_type": "code",
   "execution_count": null,
   "id": "109ffe02-3d28-4afe-9fcb-dba2517ae252",
   "metadata": {},
   "outputs": [],
   "source": []
  },
  {
   "cell_type": "code",
   "execution_count": null,
   "id": "9bfa5078-f57b-4e3c-b3f5-bf5c1da95772",
   "metadata": {},
   "outputs": [],
   "source": []
  },
  {
   "cell_type": "code",
   "execution_count": null,
   "id": "a4d16346-441e-4c70-8c52-fa3023b216b2",
   "metadata": {},
   "outputs": [],
   "source": []
  },
  {
   "cell_type": "code",
   "execution_count": null,
   "id": "51d135f5-1d32-42f2-8f2b-cf2dc8c4e7c4",
   "metadata": {},
   "outputs": [],
   "source": []
  },
  {
   "cell_type": "code",
   "execution_count": null,
   "id": "792657be-8136-497f-b5ae-72c621d8ec89",
   "metadata": {},
   "outputs": [],
   "source": []
  },
  {
   "cell_type": "code",
   "execution_count": null,
   "id": "fca32207-e6fd-4f80-8852-f07f0bd3e352",
   "metadata": {},
   "outputs": [],
   "source": []
  },
  {
   "cell_type": "code",
   "execution_count": null,
   "id": "202fb568-6c90-4a59-b1a5-0b12080e8f64",
   "metadata": {},
   "outputs": [],
   "source": []
  },
  {
   "cell_type": "code",
   "execution_count": null,
   "id": "5dc26bde-3ca9-4944-8528-a0ba50b61f94",
   "metadata": {},
   "outputs": [],
   "source": []
  },
  {
   "cell_type": "code",
   "execution_count": null,
   "id": "bf36910d-1113-403c-8d24-ae749a69007e",
   "metadata": {},
   "outputs": [],
   "source": []
  },
  {
   "cell_type": "code",
   "execution_count": null,
   "id": "3d20624d-403e-456c-9e7a-0fac5483c260",
   "metadata": {},
   "outputs": [],
   "source": []
  },
  {
   "cell_type": "code",
   "execution_count": null,
   "id": "453fa1c5-ab59-4f5c-97ee-358e88af3d6d",
   "metadata": {},
   "outputs": [],
   "source": []
  },
  {
   "cell_type": "code",
   "execution_count": null,
   "id": "4212ecb7-60a7-4ce3-9b14-008fb720ed92",
   "metadata": {},
   "outputs": [],
   "source": []
  },
  {
   "cell_type": "code",
   "execution_count": null,
   "id": "fa77935e-adde-4c54-91bb-7862a2a3101c",
   "metadata": {},
   "outputs": [],
   "source": []
  },
  {
   "cell_type": "code",
   "execution_count": null,
   "id": "683607f5-4a24-4985-99b9-fbaeaab67029",
   "metadata": {},
   "outputs": [],
   "source": []
  },
  {
   "cell_type": "code",
   "execution_count": null,
   "id": "f87b4e3d-68b6-44a7-af94-568029f1162e",
   "metadata": {},
   "outputs": [],
   "source": []
  },
  {
   "cell_type": "code",
   "execution_count": null,
   "id": "d41efeee-4af2-4acd-a21b-93f61da4fe83",
   "metadata": {},
   "outputs": [],
   "source": []
  },
  {
   "cell_type": "code",
   "execution_count": null,
   "id": "f573a5a3-df24-4203-a5cf-dbbb499106e9",
   "metadata": {},
   "outputs": [],
   "source": []
  },
  {
   "cell_type": "code",
   "execution_count": null,
   "id": "c293bc12-fc15-40b8-85a3-7152b22b845c",
   "metadata": {},
   "outputs": [],
   "source": []
  },
  {
   "cell_type": "code",
   "execution_count": null,
   "id": "3561e870-0fec-4862-9bd8-5e631f21c8fa",
   "metadata": {},
   "outputs": [],
   "source": []
  }
 ],
 "metadata": {
  "kernelspec": {
   "display_name": "pk_base_202503_kernel",
   "language": "python",
   "name": "pk_base_202503"
  },
  "language_info": {
   "codemirror_mode": {
    "name": "ipython",
    "version": 3
   },
   "file_extension": ".py",
   "mimetype": "text/x-python",
   "name": "python",
   "nbconvert_exporter": "python",
   "pygments_lexer": "ipython3",
   "version": "3.9.21"
  }
 },
 "nbformat": 4,
 "nbformat_minor": 5
}
