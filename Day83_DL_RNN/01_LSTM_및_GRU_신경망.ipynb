{
 "cells": [
  {
   "cell_type": "code",
   "execution_count": null,
   "id": "ec4ab9ff",
   "metadata": {},
   "outputs": [],
   "source": [
    "\"\"\"\n",
    "<순환신경망 종류>\n",
    " * 심플 순환신경망(Simple RNN) 단점\n",
    "  - 긴 문장(단어의 갯수가 많은 경우)을 학습하기 어려움\n",
    "  - 문장이 길 수록(단어의 갯수가 많을수록) 초반의 정보(단어를 의미함)는 점진적으로 희석(소멸)됨\n",
    "  - 즉, 멀리 떨어져 있는 단어의 정보를 인식하는데 어려움이 있음\n",
    "    (문장의 앞뒤 문맥(단어를 의미함) 데이터의 기억이 단기기억으로 저장됨)\n",
    "  - 이러한 단점을 보완한 모델이 LSTM 임\n",
    " \n",
    " * 장기기억 순환신경망(Long Shot-Term Memory, LSTM)\n",
    "  - Simple RNN의 단점을 보완한 모델\n",
    "  - 단기기억을 오래 기억할 수 있도록 고안된 모델\n",
    "  - 많은 이전 단어들의 정보를 기억해야 하기 때문에 훈련 속도가 느림(단점)\n",
    "  - 시스템 저장 공간이 많이 필요함(단점)\n",
    " \n",
    " * 게이트웨이 반복 단위 순환신경망(Gated Recurrent Unit, GRU)\n",
    "  - LSTM의 장기기억 순환신경망의 개념을 그대로 적용하고, 단점을 보완한 모델\n",
    "  - 너무 오래된 기억은 서서히 소멸해 나가면서, 최근 기억을 지속적으로 유지하는 방식을 사용함\n",
    "  - 성능은 LSTM과 동일 (속도를 빠르게 하기 위한 모델임)\n",
    " \n",
    " *** RNN 순환신경망 모델들은 주로, RMSprop 옵티마이저를 사용함\n",
    "\"\"\""
   ]
  },
  {
   "cell_type": "markdown",
   "id": "99ace9e5",
   "metadata": {},
   "source": [
    "### 라이브러리 정의"
   ]
  },
  {
   "cell_type": "code",
   "execution_count": 61,
   "id": "f772b1ff",
   "metadata": {},
   "outputs": [],
   "source": [
    "import tensorflow as tf\n",
    "from tensorflow import keras\n",
    "from keras.layers import Input, Dense, Conv2D, MaxPool2D, Dropout, SimpleRNN, Embedding, LSTM, GRU\n",
    "from keras.models import Sequential\n",
    "from keras.callbacks import EarlyStopping, ModelCheckpoint\n",
    "import matplotlib.pyplot as plt\n",
    "import numpy as np\n",
    "from sklearn.model_selection import train_test_split\n",
    "\n",
    "### 텍스트 길이 정규화 라이브러리\n",
    "# - 텍스트의 길이가 긴 경우에는 자르고, 길이가 짧은 경우에는 채움\n",
    "from tensorflow.keras.preprocessing.sequence import pad_sequences\n",
    "\n",
    "\n",
    "tf.keras.utils.set_random_seed(42)\n",
    "\n",
    "### 사용할 데이터셋\n",
    "# - 영화 리뷰 감상평 데이터(긍정/부정)\n",
    "from keras.datasets import imdb"
   ]
  },
  {
   "cell_type": "code",
   "execution_count": 2,
   "id": "0bd07696",
   "metadata": {},
   "outputs": [
    {
     "name": "stdout",
     "output_type": "stream",
     "text": [
      "(25000,) (25000,)\n",
      "(25000,) (25000,)\n"
     ]
    }
   ],
   "source": [
    "### 데이터 수집\n",
    "(train_input, train_target), (test_input, test_target) = imdb.load_data(num_words=500)\n",
    "\n",
    "print(train_input.shape, train_target.shape)\n",
    "print(test_input.shape, test_target.shape)"
   ]
  },
  {
   "cell_type": "markdown",
   "id": "3c97b500",
   "metadata": {},
   "source": [
    "### 훈련 : 검증 = 8 : 2 로 분리하기"
   ]
  },
  {
   "cell_type": "code",
   "execution_count": 3,
   "id": "213923c6",
   "metadata": {},
   "outputs": [
    {
     "name": "stdout",
     "output_type": "stream",
     "text": [
      "(20000,) (20000,)\n",
      "(5000,) (5000,)\n",
      "(25000,) (25000,)\n"
     ]
    }
   ],
   "source": [
    "### 변수명 : train_input, train_target, val_input, val_target\n",
    "train_input, val_input, train_target, val_target = train_test_split(\n",
    "    train_input, train_target, test_size=0.2, random_state=42\n",
    ")\n",
    "\n",
    "print(train_input.shape, train_target.shape)\n",
    "print(val_input.shape, val_target.shape)\n",
    "print(test_input.shape, test_target.shape)"
   ]
  },
  {
   "cell_type": "code",
   "execution_count": 4,
   "id": "4f9c0baf",
   "metadata": {},
   "outputs": [
    {
     "name": "stdout",
     "output_type": "stream",
     "text": [
      "20000 259\n",
      "[259 520 290 ... 300  70  77]\n",
      "(20000,)\n"
     ]
    }
   ],
   "source": [
    "### 모든 데이터의 문장 길이를 확인하여 가장 많이 분포하는 위치를 기준으로 통일시키는 처리를 진행\n",
    "\n",
    "### 훈련 독립변수의 각 문장데이터들의 문장길이(단어의 갯수)를 확인하여,\n",
    "# - 하나의 배열에 저장하기\n",
    "# - 변수명 : lengths\n",
    "print(len(train_input), len(train_input[0]))\n",
    "\n",
    "lengths = np.array([ len(x) for x in train_input ])\n",
    "\n",
    "print(lengths)\n",
    "print(lengths.shape)"
   ]
  },
  {
   "cell_type": "code",
   "execution_count": 5,
   "id": "a9e95c2d",
   "metadata": {},
   "outputs": [
    {
     "name": "stdout",
     "output_type": "stream",
     "text": [
      "(20000, 100) (20000,)\n",
      "(5000, 100) (5000,)\n"
     ]
    }
   ],
   "source": [
    "### 훈련 데이터 스케일링\n",
    "train_seq = pad_sequences(train_input, maxlen=100)\n",
    "print(train_seq.shape, train_target.shape)\n",
    "\n",
    "### 검증 데이터 스케일링\n",
    "val_seq = pad_sequences(val_input, maxlen=100)\n",
    "print(val_seq.shape, val_target.shape)"
   ]
  },
  {
   "cell_type": "markdown",
   "id": "e9eb86f4",
   "metadata": {},
   "source": [
    "### 데이터 스케일링 하기(단어 길이 표준화하기)"
   ]
  },
  {
   "cell_type": "code",
   "execution_count": 6,
   "id": "e1724786",
   "metadata": {},
   "outputs": [
    {
     "name": "stdout",
     "output_type": "stream",
     "text": [
      "(20000, 100) (20000,)\n",
      "(5000, 100) (5000,)\n"
     ]
    }
   ],
   "source": [
    "### 텍스트 제거 또는 채우기 속성 추가\n",
    "\"\"\"\n",
    "<제거 및 채우기 속성>\n",
    " * truncating : maxlen보다 클 때 자르기 속성\n",
    "  - truncating = \"pre\" : 앞쪽 제거(기본값으로 사용됨, 생략가능)\n",
    "  - truncating = \"post\" : 뒤쪽 제거\n",
    "  \n",
    " * padding : maxlen보다 작을 때 채우기 속성\n",
    "  - padding = \"pre\" : 앞쪽을 0으로 채우기(기본값으로 사용됨, 생략가능)\n",
    "  - padding = \"post\" : 뒤쪽을 0으로 채우기\n",
    "\"\"\"\n",
    "\n",
    "### 훈련 데이터 스케일링\n",
    "train_seq = pad_sequences(train_input, maxlen=100, truncating=\"post\", padding=\"post\")\n",
    "print(train_seq.shape, train_target.shape)\n",
    "\n",
    "### 검증 데이터 스케일링\n",
    "val_seq = pad_sequences(val_input, maxlen=100, truncating=\"post\", padding=\"post\")\n",
    "print(val_seq.shape, val_target.shape)\n"
   ]
  },
  {
   "cell_type": "markdown",
   "id": "dfa2a65f",
   "metadata": {},
   "source": [
    "### LSTM 훈련 모델 생성하기"
   ]
  },
  {
   "cell_type": "code",
   "execution_count": null,
   "id": "3732feff",
   "metadata": {},
   "outputs": [],
   "source": [
    "### 모델 생성하기\n",
    "model = Sequential([\n",
    "    # 입력계층 (입베딩 계층) 추가하기\n",
    "    Embedding(\n",
    "        input_dim = 500,            # 말뭉치 값\n",
    "        output_dim = 16,            # 주요 몇개 뽑을건지\n",
    "        input_length = 100          # \n",
    "    ),\n",
    "    # 은닉계층 (LSTM 계층) 추가하기 : RNN모델의 이름만 바꿔주면 됩니다.\n",
    "    LSTM(\n",
    "        units = 8\n",
    "    ),\n",
    "    \n",
    "    # 출력계층 추가하기\n",
    "    Dense(\n",
    "        units = 1,\n",
    "        activation = \"sigmoid\"\n",
    "    )\n",
    "])"
   ]
  },
  {
   "cell_type": "code",
   "execution_count": 12,
   "id": "8bc84a58",
   "metadata": {},
   "outputs": [
    {
     "name": "stdout",
     "output_type": "stream",
     "text": [
      "Model: \"sequential\"\n",
      "_________________________________________________________________\n",
      " Layer (type)                Output Shape              Param #   \n",
      "=================================================================\n",
      " embedding_2 (Embedding)     (None, 100, 16)           8000      \n",
      "                                                                 \n",
      " lstm (LSTM)                 (None, 8)                 800       \n",
      "                                                                 \n",
      " dense (Dense)               (None, 1)                 9         \n",
      "                                                                 \n",
      "=================================================================\n",
      "Total params: 8,809\n",
      "Trainable params: 8,809\n",
      "Non-trainable params: 0\n",
      "_________________________________________________________________\n"
     ]
    },
    {
     "data": {
      "text/plain": [
       "'\\n<Param 계산공식>\\n * embedding = 말뭉치갯수 * 출력갯수 = 500 * 16 = 8,000\\n \\n * LSTM = 가중치 세트 갯수 * (출력갯수 * (입력갯수 + 출력갯수 + 1))\\n        = 4 * (8 * (16 + 8 + 1)) = 800\\n        \\n<가중치 세트 설명>\\n  - 총 4개의 세트로 구성되어 있음(이떄 세트를 -> 게이트라고 칭하기도 합니다.)\\n  \\n * 셀상태관리\\n  - LSTM의 장기 기억을 담당\\n  - 셀 상태는 정보를 장기간 동안 유지할 수 있도록 관리됨\\n  - 입력/망각/출력 게이트를 통해서 셀 상태 정보가 업데이트 됩니다.\\n \\n * 입력게이트\\n  - 현재 시점의 입력 데이터가 셀 상태에 얼마나 반영될지를 결정\\n  - 새로운 정보를 얼마나 저장할지를 조절하는 역할을 수행\\n \\n * 망각게이트\\n  - 이전 셀 상태에서 얼마나 많은 정보를 잊어버릴지 결정\\n  - 이전 상태의 정보를 얼마나 제거할지를 조절하는 역할\\n \\n * 출력게이트\\n  - 셀 상태에서 어떤 정보를 출력할지 결정\\n  - 셀 상태를  현재 시점의 출력으로 변환하는 역할\\n \\n * 가중치 업데이트 : 위 4개의 가중치 세트가 동시에 작동하면서\\n                    출력에 가장 가까운 단어 조합을 만들어 냄...\\n'"
      ]
     },
     "execution_count": 12,
     "metadata": {},
     "output_type": "execute_result"
    }
   ],
   "source": [
    "model.summary()\n",
    "\n",
    "\"\"\"\n",
    "<Param 계산공식>\n",
    " * embedding = 말뭉치갯수 * 출력갯수 = 500 * 16 = 8,000\n",
    " \n",
    " * LSTM = 가중치 세트 갯수 * (출력갯수 * (입력갯수 + 출력갯수 + 1))\n",
    "        = 4 * (8 * (16 + 8 + 1)) = 800\n",
    "        \n",
    "<가중치 세트 설명>\n",
    "  - 총 4개의 세트로 구성되어 있음(이떄 세트를 -> 게이트라고 칭하기도 합니다.)\n",
    "  \n",
    " * 셀상태관리\n",
    "  - LSTM의 장기 기억을 담당\n",
    "  - 셀 상태는 정보를 장기간 동안 유지할 수 있도록 관리됨\n",
    "  - 입력/망각/출력 게이트를 통해서 셀 상태 정보가 업데이트 됩니다.\n",
    " \n",
    " * 입력게이트\n",
    "  - 현재 시점의 입력 데이터가 셀 상태에 얼마나 반영될지를 결정\n",
    "  - 새로운 정보를 얼마나 저장할지를 조절하는 역할을 수행\n",
    " \n",
    " * 망각게이트\n",
    "  - 이전 셀 상태에서 얼마나 많은 정보를 잊어버릴지 결정\n",
    "  - 이전 상태의 정보를 얼마나 제거할지를 조절하는 역할\n",
    " \n",
    " * 출력게이트\n",
    "  - 셀 상태에서 어떤 정보를 출력할지 결정\n",
    "  - 셀 상태를  현재 시점의 출력으로 변환하는 역할\n",
    " \n",
    " * 가중치 업데이트 : 위 4개의 가중치 세트가 동시에 작동하면서\n",
    "                    출력에 가장 가까운 단어 조합을 만들어 냄...\n",
    "\"\"\""
   ]
  },
  {
   "cell_type": "markdown",
   "id": "4b11d644",
   "metadata": {},
   "source": [
    "### 훈련모델 설정하기(compile)"
   ]
  },
  {
   "cell_type": "code",
   "execution_count": 8,
   "id": "afe65d18",
   "metadata": {},
   "outputs": [],
   "source": [
    "### RMSprop 사용, 학습율 0.0001 사용, 정확도 출력\n",
    "model.compile(\n",
    "    optimizer = keras.optimizers.RMSprop(learning_rate=0.0001),\n",
    "    loss = \"binary_crossentropy\",\n",
    "    metrics = [\"accuracy\"]\n",
    ")"
   ]
  },
  {
   "cell_type": "markdown",
   "id": "8b55f015",
   "metadata": {},
   "source": [
    "### 콜백함수 정의하기"
   ]
  },
  {
   "cell_type": "code",
   "execution_count": 9,
   "id": "41b10836",
   "metadata": {},
   "outputs": [],
   "source": [
    "mc = ModelCheckpoint(\n",
    "    \"./model/best_LSTM_model.keras\",\n",
    "    save_best_only = True\n",
    ")\n",
    "\n",
    "es = EarlyStopping(\n",
    "    patience = 3,\n",
    "    restore_best_weights = True\n",
    ")"
   ]
  },
  {
   "cell_type": "markdown",
   "id": "9f55cafb",
   "metadata": {},
   "source": [
    "### 모델 훈련시키기"
   ]
  },
  {
   "cell_type": "code",
   "execution_count": 10,
   "id": "cac0a796",
   "metadata": {},
   "outputs": [
    {
     "name": "stdout",
     "output_type": "stream",
     "text": [
      "Epoch 1/100\n",
      "313/313 [==============================] - 7s 11ms/step - loss: 0.6928 - accuracy: 0.5150 - val_loss: 0.6926 - val_accuracy: 0.5142\n",
      "Epoch 2/100\n",
      "313/313 [==============================] - 3s 10ms/step - loss: 0.6922 - accuracy: 0.5307 - val_loss: 0.6920 - val_accuracy: 0.5222\n",
      "Epoch 3/100\n",
      "313/313 [==============================] - 3s 10ms/step - loss: 0.6912 - accuracy: 0.5473 - val_loss: 0.6909 - val_accuracy: 0.5318\n",
      "Epoch 4/100\n",
      "313/313 [==============================] - 3s 10ms/step - loss: 0.6895 - accuracy: 0.5587 - val_loss: 0.6884 - val_accuracy: 0.5730\n",
      "Epoch 5/100\n",
      "313/313 [==============================] - 3s 10ms/step - loss: 0.6837 - accuracy: 0.6039 - val_loss: 0.6749 - val_accuracy: 0.6356\n",
      "Epoch 6/100\n",
      "313/313 [==============================] - 3s 10ms/step - loss: 0.6426 - accuracy: 0.6736 - val_loss: 0.6140 - val_accuracy: 0.7008\n",
      "Epoch 7/100\n",
      "313/313 [==============================] - 3s 10ms/step - loss: 0.6008 - accuracy: 0.7078 - val_loss: 0.5935 - val_accuracy: 0.7096\n",
      "Epoch 8/100\n",
      "313/313 [==============================] - 3s 10ms/step - loss: 0.5784 - accuracy: 0.7251 - val_loss: 0.5736 - val_accuracy: 0.7250\n",
      "Epoch 9/100\n",
      "313/313 [==============================] - 3s 11ms/step - loss: 0.5594 - accuracy: 0.7401 - val_loss: 0.5604 - val_accuracy: 0.7310\n",
      "Epoch 10/100\n",
      "313/313 [==============================] - 3s 10ms/step - loss: 0.5420 - accuracy: 0.7485 - val_loss: 0.5433 - val_accuracy: 0.7450\n",
      "Epoch 11/100\n",
      "313/313 [==============================] - 3s 10ms/step - loss: 0.5264 - accuracy: 0.7569 - val_loss: 0.5323 - val_accuracy: 0.7454\n",
      "Epoch 12/100\n",
      "313/313 [==============================] - 3s 10ms/step - loss: 0.5122 - accuracy: 0.7632 - val_loss: 0.5204 - val_accuracy: 0.7530\n",
      "Epoch 13/100\n",
      "313/313 [==============================] - 3s 10ms/step - loss: 0.5005 - accuracy: 0.7705 - val_loss: 0.5148 - val_accuracy: 0.7534\n",
      "Epoch 14/100\n",
      "313/313 [==============================] - 3s 11ms/step - loss: 0.4915 - accuracy: 0.7732 - val_loss: 0.5135 - val_accuracy: 0.7504\n",
      "Epoch 15/100\n",
      "313/313 [==============================] - 3s 10ms/step - loss: 0.4839 - accuracy: 0.7765 - val_loss: 0.5124 - val_accuracy: 0.7486\n",
      "Epoch 16/100\n",
      "313/313 [==============================] - 3s 10ms/step - loss: 0.4781 - accuracy: 0.7783 - val_loss: 0.5007 - val_accuracy: 0.7570\n",
      "Epoch 17/100\n",
      "313/313 [==============================] - 3s 10ms/step - loss: 0.4735 - accuracy: 0.7808 - val_loss: 0.5046 - val_accuracy: 0.7546\n",
      "Epoch 18/100\n",
      "313/313 [==============================] - 3s 10ms/step - loss: 0.4701 - accuracy: 0.7835 - val_loss: 0.4955 - val_accuracy: 0.7618\n",
      "Epoch 19/100\n",
      "313/313 [==============================] - 3s 10ms/step - loss: 0.4673 - accuracy: 0.7824 - val_loss: 0.4919 - val_accuracy: 0.7638\n",
      "Epoch 20/100\n",
      "313/313 [==============================] - 3s 10ms/step - loss: 0.4645 - accuracy: 0.7858 - val_loss: 0.4909 - val_accuracy: 0.7628\n",
      "Epoch 21/100\n",
      "313/313 [==============================] - 3s 10ms/step - loss: 0.4626 - accuracy: 0.7856 - val_loss: 0.4934 - val_accuracy: 0.7562\n",
      "Epoch 22/100\n",
      "313/313 [==============================] - 3s 11ms/step - loss: 0.4610 - accuracy: 0.7851 - val_loss: 0.4924 - val_accuracy: 0.7584\n",
      "Epoch 23/100\n",
      "313/313 [==============================] - 3s 10ms/step - loss: 0.4599 - accuracy: 0.7840 - val_loss: 0.4889 - val_accuracy: 0.7610\n",
      "Epoch 24/100\n",
      "313/313 [==============================] - 4s 12ms/step - loss: 0.4580 - accuracy: 0.7842 - val_loss: 0.4873 - val_accuracy: 0.7650\n",
      "Epoch 25/100\n",
      "313/313 [==============================] - 3s 11ms/step - loss: 0.4572 - accuracy: 0.7852 - val_loss: 0.4892 - val_accuracy: 0.7642\n",
      "Epoch 26/100\n",
      "313/313 [==============================] - 3s 10ms/step - loss: 0.4562 - accuracy: 0.7843 - val_loss: 0.4854 - val_accuracy: 0.7636\n",
      "Epoch 27/100\n",
      "313/313 [==============================] - 3s 10ms/step - loss: 0.4550 - accuracy: 0.7875 - val_loss: 0.4868 - val_accuracy: 0.7602\n",
      "Epoch 28/100\n",
      "313/313 [==============================] - 3s 10ms/step - loss: 0.4541 - accuracy: 0.7852 - val_loss: 0.4902 - val_accuracy: 0.7646\n",
      "Epoch 29/100\n",
      "313/313 [==============================] - 3s 10ms/step - loss: 0.4535 - accuracy: 0.7857 - val_loss: 0.4860 - val_accuracy: 0.7604\n"
     ]
    }
   ],
   "source": [
    "history = model.fit(train_seq,\n",
    "                    train_target,\n",
    "                    validation_data=(val_seq,\n",
    "                                    val_target),\n",
    "                    epochs=100,\n",
    "                    batch_size=64,\n",
    "                    callbacks=[mc, es]\n",
    "                    )"
   ]
  },
  {
   "cell_type": "markdown",
   "id": "8d80a4be",
   "metadata": {},
   "source": [
    "### 최적의 모델 읽어들여서 훈련 / 검증 / 테스트 성능 검증하기"
   ]
  },
  {
   "cell_type": "code",
   "execution_count": 11,
   "id": "87beaa08",
   "metadata": {},
   "outputs": [
    {
     "data": {
      "text/plain": [
       "(25000, 100)"
      ]
     },
     "execution_count": 11,
     "metadata": {},
     "output_type": "execute_result"
    }
   ],
   "source": [
    "test_seq = pad_sequences(test_input, maxlen=100, truncating=\"post\", padding=\"post\")\n",
    "test_seq.shape"
   ]
  },
  {
   "cell_type": "code",
   "execution_count": 12,
   "id": "daae5e10",
   "metadata": {},
   "outputs": [
    {
     "name": "stdout",
     "output_type": "stream",
     "text": [
      "625/625 [==============================] - 2s 4ms/step - loss: 0.4524 - accuracy: 0.7881\n",
      "157/157 [==============================] - 1s 4ms/step - loss: 0.4854 - accuracy: 0.7636\n",
      "782/782 [==============================] - 3s 4ms/step - loss: 0.4741 - accuracy: 0.7744\n",
      "훈련 데이터   | 손실율 : 0.45242300629615784, 정확도 : 0.788100004196167\n",
      "검증 데이터   | 손실율 : 0.48544761538505554, 정확도 : 0.7635999917984009\n",
      "테스트 데이터 | 손실율 : 0.47408875823020935, 정확도 : 0.7743600010871887\n"
     ]
    }
   ],
   "source": [
    "best_model = keras.models.load_model(\"./model/best_LSTM_model.keras\")\n",
    "\n",
    "train_score = best_model.evaluate(train_seq, train_target)\n",
    "val_score = best_model.evaluate(val_seq, val_target)\n",
    "test_score = best_model.evaluate(test_seq, test_target)\n",
    "\n",
    "print(f\"훈련 데이터   | 손실율 : {train_score[0]}, 정확도 : {train_score[1]}\")\n",
    "print(f\"검증 데이터   | 손실율 : {val_score[0]}, 정확도 : {val_score[1]}\")\n",
    "print(f\"테스트 데이터 | 손실율 : {test_score[0]}, 정확도 : {test_score[1]}\")"
   ]
  },
  {
   "cell_type": "code",
   "execution_count": 13,
   "id": "7b243798",
   "metadata": {},
   "outputs": [],
   "source": [
    "### 모델 생성하기\n",
    "model = Sequential([\n",
    "    # 입력계층 (입베딩 계층) 추가하기\n",
    "    Embedding(\n",
    "        input_dim = 500,\n",
    "        output_dim = 16,\n",
    "        input_length = 100\n",
    "    ),\n",
    "    # 은닉계층 (LSTM 계층) 추가하기 : RNN모델의 이름만 바꿔주면 됩니다.\n",
    "    LSTM(\n",
    "        units = 8\n",
    "    ),\n",
    "    Dense(\n",
    "        units = 64,\n",
    "        activation = \"relu\"\n",
    "    ),\n",
    "    Dense(\n",
    "        units = 32,\n",
    "        activation = \"relu\"\n",
    "    ),\n",
    "    # 출력계층 추가하기\n",
    "    Dense(\n",
    "        units = 1,\n",
    "        activation = \"sigmoid\"\n",
    "    )\n",
    "])"
   ]
  },
  {
   "cell_type": "code",
   "execution_count": 14,
   "id": "03bb6a01",
   "metadata": {},
   "outputs": [],
   "source": [
    "model.compile(\n",
    "    optimizer = keras.optimizers.Adam(learning_rate=0.001),\n",
    "    loss = \"binary_crossentropy\",\n",
    "    metrics = [\"accuracy\"]\n",
    ")"
   ]
  },
  {
   "cell_type": "code",
   "execution_count": 15,
   "id": "78338dad",
   "metadata": {},
   "outputs": [],
   "source": [
    "mc = ModelCheckpoint(\n",
    "    \"./model/best_LSTM_model.keras\",\n",
    "    save_best_only = True\n",
    ")\n",
    "\n",
    "es = EarlyStopping(\n",
    "    patience = 5,\n",
    "    restore_best_weights = True\n",
    ")"
   ]
  },
  {
   "cell_type": "code",
   "execution_count": 16,
   "id": "cc935ec1",
   "metadata": {},
   "outputs": [
    {
     "name": "stdout",
     "output_type": "stream",
     "text": [
      "Epoch 1/100\n",
      "157/157 [==============================] - 3s 14ms/step - loss: 0.6616 - accuracy: 0.5868 - val_loss: 0.5952 - val_accuracy: 0.7010\n",
      "Epoch 2/100\n",
      "157/157 [==============================] - 2s 10ms/step - loss: 0.5065 - accuracy: 0.7563 - val_loss: 0.5064 - val_accuracy: 0.7540\n",
      "Epoch 3/100\n",
      "157/157 [==============================] - 2s 10ms/step - loss: 0.4755 - accuracy: 0.7734 - val_loss: 0.4884 - val_accuracy: 0.7624\n",
      "Epoch 4/100\n",
      "157/157 [==============================] - 2s 10ms/step - loss: 0.4674 - accuracy: 0.7778 - val_loss: 0.4927 - val_accuracy: 0.7576\n",
      "Epoch 5/100\n",
      "157/157 [==============================] - 2s 11ms/step - loss: 0.4564 - accuracy: 0.7822 - val_loss: 0.4820 - val_accuracy: 0.7634\n",
      "Epoch 6/100\n",
      "157/157 [==============================] - 2s 11ms/step - loss: 0.4490 - accuracy: 0.7840 - val_loss: 0.4833 - val_accuracy: 0.7652\n",
      "Epoch 7/100\n",
      "157/157 [==============================] - 2s 10ms/step - loss: 0.4445 - accuracy: 0.7885 - val_loss: 0.4814 - val_accuracy: 0.7646\n",
      "Epoch 8/100\n",
      "157/157 [==============================] - 2s 10ms/step - loss: 0.4382 - accuracy: 0.7865 - val_loss: 0.4942 - val_accuracy: 0.7532\n",
      "Epoch 9/100\n",
      "157/157 [==============================] - 2s 10ms/step - loss: 0.4363 - accuracy: 0.7909 - val_loss: 0.4893 - val_accuracy: 0.7598\n",
      "Epoch 10/100\n",
      "157/157 [==============================] - 2s 10ms/step - loss: 0.4320 - accuracy: 0.7908 - val_loss: 0.5022 - val_accuracy: 0.7538\n",
      "Epoch 11/100\n",
      "157/157 [==============================] - 2s 10ms/step - loss: 0.4298 - accuracy: 0.7921 - val_loss: 0.4946 - val_accuracy: 0.7602\n",
      "Epoch 12/100\n",
      "157/157 [==============================] - 2s 10ms/step - loss: 0.4259 - accuracy: 0.7934 - val_loss: 0.5034 - val_accuracy: 0.7598\n"
     ]
    }
   ],
   "source": [
    "history = model.fit(train_seq,\n",
    "                    train_target,\n",
    "                    validation_data=(val_seq,\n",
    "                                    val_target),\n",
    "                    epochs=100,\n",
    "                    batch_size=128,\n",
    "                    callbacks=[mc, es]\n",
    "                    )"
   ]
  },
  {
   "cell_type": "code",
   "execution_count": 17,
   "id": "d644db42",
   "metadata": {},
   "outputs": [
    {
     "name": "stdout",
     "output_type": "stream",
     "text": [
      "625/625 [==============================] - 3s 4ms/step - loss: 0.4289 - accuracy: 0.7956\n",
      "157/157 [==============================] - 1s 4ms/step - loss: 0.4814 - accuracy: 0.7650\n",
      "782/782 [==============================] - 3s 4ms/step - loss: 0.4669 - accuracy: 0.7726\n",
      "훈련 데이터   | 손실율 : 0.42892977595329285, 정확도 : 0.7955999970436096\n",
      "검증 데이터   | 손실율 : 0.4813593327999115, 정확도 : 0.7649999856948853\n",
      "테스트 데이터 | 손실율 : 0.46692124009132385, 정확도 : 0.7726399898529053\n"
     ]
    }
   ],
   "source": [
    "best_model = keras.models.load_model(\"./model/best_LSTM_model.keras\")\n",
    "\n",
    "train_score = best_model.evaluate(train_seq, train_target)\n",
    "val_score = best_model.evaluate(val_seq, val_target)\n",
    "test_score = best_model.evaluate(test_seq, test_target)\n",
    "\n",
    "print(f\"훈련 데이터   | 손실율 : {train_score[0]}, 정확도 : {train_score[1]}\")\n",
    "print(f\"검증 데이터   | 손실율 : {val_score[0]}, 정확도 : {val_score[1]}\")\n",
    "print(f\"테스트 데이터 | 손실율 : {test_score[0]}, 정확도 : {test_score[1]}\")"
   ]
  },
  {
   "cell_type": "markdown",
   "id": "5237e592",
   "metadata": {},
   "source": [
    "### LSTM 계층 자체에 Dropout 속성 적용하기"
   ]
  },
  {
   "cell_type": "code",
   "execution_count": null,
   "id": "ce9e5e39",
   "metadata": {},
   "outputs": [],
   "source": [
    "### RNN 계층은 자체적으로 Dropout을 사용할 수 있음\n",
    "# - 속성명 : dropout(소문자) = 소수점값(제외할 비율)\n",
    "# - 사용 방법 : RNN계층 정의시 속성으로 넣어주면 됩니다.\n",
    "\"\"\"\n",
    "* 모델명 : model\n",
    "* 계층 구조\n",
    " - 입력 계층 : 단어임베딩계층 사용, 출력크기는 16\n",
    " - LSTM 계층 : 출력크기 8, 드롭아웃 속성 적용(30% 제외)\n",
    " - 출력 계층\n",
    "* 모델 환경설정 : rmsprop 사용, 학습률(0.0001사용)\n",
    "* 콜백함수 정의 : 저장 모델 파일명 : best_LSTM_model_dropout.keras\n",
    "* 훈련시키기 : 반복횟수(100회), 배치사이즈(64)\n",
    "\"\"\""
   ]
  },
  {
   "cell_type": "code",
   "execution_count": 33,
   "id": "8887fe6c",
   "metadata": {},
   "outputs": [],
   "source": [
    "model = Sequential([\n",
    "    Embedding(\n",
    "        input_dim = 500,\n",
    "        output_dim = 16,\n",
    "        input_length = 100\n",
    "    ),\n",
    "    LSTM(\n",
    "        units=8,\n",
    "        dropout=0.2\n",
    "    ),\n",
    "    Dense(\n",
    "        units=1,\n",
    "        activation=\"sigmoid\"\n",
    "    )\n",
    "])"
   ]
  },
  {
   "cell_type": "code",
   "execution_count": 34,
   "id": "cad8c44b",
   "metadata": {},
   "outputs": [],
   "source": [
    "model.compile(\n",
    "    optimizer = keras.optimizers.RMSprop(learning_rate=0.0001),\n",
    "    loss = \"binary_crossentropy\",\n",
    "    metrics=[\"accuracy\"]\n",
    ")"
   ]
  },
  {
   "cell_type": "code",
   "execution_count": 35,
   "id": "7a438597",
   "metadata": {},
   "outputs": [],
   "source": [
    "mc = ModelCheckpoint(\n",
    "    \"./model/best_LSTM_model_dropout.keras\",\n",
    "    save_best_only=True\n",
    ")\n",
    "\n",
    "es = EarlyStopping(\n",
    "    patience=5,\n",
    "    restore_best_weights=True\n",
    ")"
   ]
  },
  {
   "cell_type": "code",
   "execution_count": 36,
   "id": "2ecdc9f2",
   "metadata": {},
   "outputs": [
    {
     "name": "stdout",
     "output_type": "stream",
     "text": [
      "Epoch 1/100\n",
      "313/313 [==============================] - 5s 11ms/step - loss: 0.6929 - accuracy: 0.5153 - val_loss: 0.6927 - val_accuracy: 0.5358\n",
      "Epoch 2/100\n",
      "313/313 [==============================] - 3s 10ms/step - loss: 0.6921 - accuracy: 0.5429 - val_loss: 0.6918 - val_accuracy: 0.5454\n",
      "Epoch 3/100\n",
      "313/313 [==============================] - 3s 10ms/step - loss: 0.6908 - accuracy: 0.5594 - val_loss: 0.6902 - val_accuracy: 0.5592\n",
      "Epoch 4/100\n",
      "313/313 [==============================] - 3s 10ms/step - loss: 0.6880 - accuracy: 0.5778 - val_loss: 0.6853 - val_accuracy: 0.5894\n",
      "Epoch 5/100\n",
      "313/313 [==============================] - 3s 10ms/step - loss: 0.6741 - accuracy: 0.6190 - val_loss: 0.6523 - val_accuracy: 0.6598\n",
      "Epoch 6/100\n",
      "313/313 [==============================] - 3s 11ms/step - loss: 0.6309 - accuracy: 0.6652 - val_loss: 0.6119 - val_accuracy: 0.6946\n",
      "Epoch 7/100\n",
      "313/313 [==============================] - 3s 10ms/step - loss: 0.6009 - accuracy: 0.6995 - val_loss: 0.5902 - val_accuracy: 0.7110\n",
      "Epoch 8/100\n",
      "313/313 [==============================] - 3s 10ms/step - loss: 0.5777 - accuracy: 0.7185 - val_loss: 0.5726 - val_accuracy: 0.7220\n",
      "Epoch 9/100\n",
      "313/313 [==============================] - 3s 10ms/step - loss: 0.5605 - accuracy: 0.7319 - val_loss: 0.5626 - val_accuracy: 0.7304\n",
      "Epoch 10/100\n",
      "313/313 [==============================] - 3s 10ms/step - loss: 0.5444 - accuracy: 0.7441 - val_loss: 0.5472 - val_accuracy: 0.7388\n",
      "Epoch 11/100\n",
      "313/313 [==============================] - 3s 10ms/step - loss: 0.5308 - accuracy: 0.7510 - val_loss: 0.5372 - val_accuracy: 0.7424\n",
      "Epoch 12/100\n",
      "313/313 [==============================] - 3s 10ms/step - loss: 0.5186 - accuracy: 0.7597 - val_loss: 0.5265 - val_accuracy: 0.7484\n",
      "Epoch 13/100\n",
      "313/313 [==============================] - 3s 10ms/step - loss: 0.5079 - accuracy: 0.7661 - val_loss: 0.5228 - val_accuracy: 0.7472\n",
      "Epoch 14/100\n",
      "313/313 [==============================] - 3s 10ms/step - loss: 0.4994 - accuracy: 0.7688 - val_loss: 0.5142 - val_accuracy: 0.7532\n",
      "Epoch 15/100\n",
      "313/313 [==============================] - 3s 10ms/step - loss: 0.4911 - accuracy: 0.7722 - val_loss: 0.5114 - val_accuracy: 0.7564\n",
      "Epoch 16/100\n",
      "313/313 [==============================] - 3s 11ms/step - loss: 0.4854 - accuracy: 0.7743 - val_loss: 0.5044 - val_accuracy: 0.7594\n",
      "Epoch 17/100\n",
      "313/313 [==============================] - 3s 10ms/step - loss: 0.4811 - accuracy: 0.7750 - val_loss: 0.5051 - val_accuracy: 0.7572\n",
      "Epoch 18/100\n",
      "313/313 [==============================] - 3s 10ms/step - loss: 0.4768 - accuracy: 0.7790 - val_loss: 0.4995 - val_accuracy: 0.7590\n",
      "Epoch 19/100\n",
      "313/313 [==============================] - 3s 10ms/step - loss: 0.4756 - accuracy: 0.7796 - val_loss: 0.4944 - val_accuracy: 0.7584\n",
      "Epoch 20/100\n",
      "313/313 [==============================] - 3s 10ms/step - loss: 0.4695 - accuracy: 0.7820 - val_loss: 0.4932 - val_accuracy: 0.7596\n",
      "Epoch 21/100\n",
      "313/313 [==============================] - 3s 10ms/step - loss: 0.4697 - accuracy: 0.7814 - val_loss: 0.4942 - val_accuracy: 0.7616\n",
      "Epoch 22/100\n",
      "313/313 [==============================] - 3s 10ms/step - loss: 0.4665 - accuracy: 0.7810 - val_loss: 0.4922 - val_accuracy: 0.7610\n",
      "Epoch 23/100\n",
      "313/313 [==============================] - 3s 10ms/step - loss: 0.4672 - accuracy: 0.7815 - val_loss: 0.4887 - val_accuracy: 0.7614\n",
      "Epoch 24/100\n",
      "313/313 [==============================] - 3s 10ms/step - loss: 0.4641 - accuracy: 0.7822 - val_loss: 0.4872 - val_accuracy: 0.7628\n",
      "Epoch 25/100\n",
      "313/313 [==============================] - 3s 10ms/step - loss: 0.4636 - accuracy: 0.7825 - val_loss: 0.4898 - val_accuracy: 0.7608\n",
      "Epoch 26/100\n",
      "313/313 [==============================] - 3s 10ms/step - loss: 0.4639 - accuracy: 0.7817 - val_loss: 0.4851 - val_accuracy: 0.7604\n",
      "Epoch 27/100\n",
      "313/313 [==============================] - 3s 10ms/step - loss: 0.4614 - accuracy: 0.7815 - val_loss: 0.4882 - val_accuracy: 0.7630\n",
      "Epoch 28/100\n",
      "313/313 [==============================] - 3s 10ms/step - loss: 0.4630 - accuracy: 0.7814 - val_loss: 0.4895 - val_accuracy: 0.7622\n",
      "Epoch 29/100\n",
      "313/313 [==============================] - 3s 10ms/step - loss: 0.4600 - accuracy: 0.7819 - val_loss: 0.4859 - val_accuracy: 0.7626\n",
      "Epoch 30/100\n",
      "313/313 [==============================] - 3s 9ms/step - loss: 0.4588 - accuracy: 0.7824 - val_loss: 0.4862 - val_accuracy: 0.7602\n",
      "Epoch 31/100\n",
      "313/313 [==============================] - 3s 10ms/step - loss: 0.4579 - accuracy: 0.7836 - val_loss: 0.4827 - val_accuracy: 0.7622\n",
      "Epoch 32/100\n",
      "313/313 [==============================] - 3s 10ms/step - loss: 0.4576 - accuracy: 0.7842 - val_loss: 0.4825 - val_accuracy: 0.7622\n",
      "Epoch 33/100\n",
      "313/313 [==============================] - 3s 10ms/step - loss: 0.4574 - accuracy: 0.7820 - val_loss: 0.4861 - val_accuracy: 0.7630\n",
      "Epoch 34/100\n",
      "313/313 [==============================] - 3s 10ms/step - loss: 0.4567 - accuracy: 0.7825 - val_loss: 0.4834 - val_accuracy: 0.7618\n",
      "Epoch 35/100\n",
      "313/313 [==============================] - 3s 9ms/step - loss: 0.4564 - accuracy: 0.7837 - val_loss: 0.4827 - val_accuracy: 0.7620\n",
      "Epoch 36/100\n",
      "313/313 [==============================] - 3s 10ms/step - loss: 0.4537 - accuracy: 0.7850 - val_loss: 0.4834 - val_accuracy: 0.7602\n",
      "Epoch 37/100\n",
      "313/313 [==============================] - 3s 10ms/step - loss: 0.4545 - accuracy: 0.7834 - val_loss: 0.4858 - val_accuracy: 0.7636\n"
     ]
    }
   ],
   "source": [
    "history = model.fit(train_seq,\n",
    "                    train_target,\n",
    "                    validation_data=(val_seq,\n",
    "                                    val_target),\n",
    "                    epochs=100,\n",
    "                    batch_size=64,\n",
    "                    callbacks=[mc, es])"
   ]
  },
  {
   "cell_type": "code",
   "execution_count": 37,
   "id": "24dd8b8a",
   "metadata": {},
   "outputs": [
    {
     "name": "stdout",
     "output_type": "stream",
     "text": [
      "625/625 [==============================] - 3s 4ms/step - loss: 0.4501 - accuracy: 0.7860\n",
      "157/157 [==============================] - 1s 4ms/step - loss: 0.4825 - accuracy: 0.7622\n",
      "782/782 [==============================] - 3s 4ms/step - loss: 0.4721 - accuracy: 0.7739\n",
      "훈련 데이터   | 손실율 : 0.4501275420188904, 정확도 : 0.7860000133514404\n",
      "검증 데이터   | 손실율 : 0.4825238287448883, 정확도 : 0.7621999979019165\n",
      "테스트 데이터 | 손실율 : 0.47205984592437744, 정확도 : 0.7739199995994568\n"
     ]
    }
   ],
   "source": [
    "### 최적의 모델 읽어들여서, 훈련/검증/테스트 데이터로 성능 검증하기\n",
    "best_model = keras.models.load_model(\"./model/best_LSTM_model_dropout.keras\")\n",
    "\n",
    "train_score = best_model.evaluate(train_seq, train_target)\n",
    "val_score = best_model.evaluate(val_seq, val_target)\n",
    "test_score = best_model.evaluate(test_seq, test_target)\n",
    "\n",
    "print(f\"훈련 데이터   | 손실율 : {train_score[0]}, 정확도 : {train_score[1]}\")\n",
    "print(f\"검증 데이터   | 손실율 : {val_score[0]}, 정확도 : {val_score[1]}\")\n",
    "print(f\"테스트 데이터 | 손실율 : {test_score[0]}, 정확도 : {test_score[1]}\")\n",
    "\n",
    "# 훈련 데이터   | 손실율 : 0.44466498494148254, 정확도 : 0.7884500026702881\n",
    "# 검증 데이터   | 손실율 : 0.4794435501098633, 정확도 : 0.7634000182151794\n",
    "# 테스트 데이터 | 손실율 : 0.4679268002510071, 정확도 : 0.7738800048828125\n"
   ]
  },
  {
   "cell_type": "markdown",
   "id": "8090e8cc",
   "metadata": {},
   "source": [
    "### 성능향상 - LSTM 계층을 연속하여 사용하기"
   ]
  },
  {
   "cell_type": "code",
   "execution_count": 41,
   "id": "4ad6a3f8",
   "metadata": {},
   "outputs": [],
   "source": [
    "model = Sequential([\n",
    "    Embedding(\n",
    "        input_dim = 500,\n",
    "        output_dim = 16,\n",
    "        input_length = 100\n",
    "    ),\n",
    "    \n",
    "    ### return_sequences=True : 단어단위 훈련결과의 시퀀스를 다음 LSTM으로 넘겨서 계속훈련\n",
    "    #                         : LSTM 계층을 연속하여 사용할 경우에 사용\n",
    "    LSTM(\n",
    "        units=8,\n",
    "        dropout=0.3,\n",
    "        return_sequences=True\n",
    "    ),\n",
    "    \n",
    "    LSTM(\n",
    "        units=8\n",
    "    ),\n",
    "    \n",
    "    Dense(\n",
    "        units=1,\n",
    "        activation=\"sigmoid\"\n",
    "    )\n",
    "])\n",
    "\n",
    "model.compile(\n",
    "    optimizer = keras.optimizers.RMSprop(learning_rate=0.0001),\n",
    "    loss = \"binary_crossentropy\",\n",
    "    metrics=[\"accuracy\"]\n",
    ")\n",
    "\n",
    "mc = ModelCheckpoint(\n",
    "    \"./model/best_LSTM_model_dropout.keras\",\n",
    "    save_best_only=True\n",
    ")\n",
    "\n",
    "es = EarlyStopping(\n",
    "    patience=5,\n",
    "    restore_best_weights=True\n",
    ")"
   ]
  },
  {
   "cell_type": "code",
   "execution_count": 42,
   "id": "c52eca74",
   "metadata": {},
   "outputs": [
    {
     "name": "stdout",
     "output_type": "stream",
     "text": [
      "Epoch 1/100\n",
      "313/313 [==============================] - 8s 19ms/step - loss: 0.6929 - accuracy: 0.5088 - val_loss: 0.6926 - val_accuracy: 0.5184\n",
      "Epoch 2/100\n",
      "313/313 [==============================] - 5s 17ms/step - loss: 0.6918 - accuracy: 0.5504 - val_loss: 0.6907 - val_accuracy: 0.5400\n",
      "Epoch 3/100\n",
      "313/313 [==============================] - 5s 16ms/step - loss: 0.6868 - accuracy: 0.6072 - val_loss: 0.6773 - val_accuracy: 0.6550\n",
      "Epoch 4/100\n",
      "313/313 [==============================] - 5s 17ms/step - loss: 0.6459 - accuracy: 0.6661 - val_loss: 0.6214 - val_accuracy: 0.6798\n",
      "Epoch 5/100\n",
      "313/313 [==============================] - 5s 17ms/step - loss: 0.6118 - accuracy: 0.6935 - val_loss: 0.6043 - val_accuracy: 0.6986\n",
      "Epoch 6/100\n",
      "313/313 [==============================] - 5s 16ms/step - loss: 0.5964 - accuracy: 0.7061 - val_loss: 0.5838 - val_accuracy: 0.7216\n",
      "Epoch 7/100\n",
      "313/313 [==============================] - 5s 16ms/step - loss: 0.5830 - accuracy: 0.7163 - val_loss: 0.5719 - val_accuracy: 0.7284\n",
      "Epoch 8/100\n",
      "313/313 [==============================] - 5s 17ms/step - loss: 0.5688 - accuracy: 0.7287 - val_loss: 0.5634 - val_accuracy: 0.7310\n",
      "Epoch 9/100\n",
      "313/313 [==============================] - 5s 16ms/step - loss: 0.5534 - accuracy: 0.7401 - val_loss: 0.5537 - val_accuracy: 0.7348\n",
      "Epoch 10/100\n",
      "313/313 [==============================] - 5s 17ms/step - loss: 0.5420 - accuracy: 0.7455 - val_loss: 0.5414 - val_accuracy: 0.7420\n",
      "Epoch 11/100\n",
      "313/313 [==============================] - 5s 16ms/step - loss: 0.5337 - accuracy: 0.7492 - val_loss: 0.5336 - val_accuracy: 0.7470\n",
      "Epoch 12/100\n",
      "313/313 [==============================] - 5s 17ms/step - loss: 0.5222 - accuracy: 0.7551 - val_loss: 0.5227 - val_accuracy: 0.7530\n",
      "Epoch 13/100\n",
      "313/313 [==============================] - 5s 16ms/step - loss: 0.5109 - accuracy: 0.7601 - val_loss: 0.5172 - val_accuracy: 0.7514\n",
      "Epoch 14/100\n",
      "313/313 [==============================] - 5s 16ms/step - loss: 0.5037 - accuracy: 0.7645 - val_loss: 0.5187 - val_accuracy: 0.7508\n",
      "Epoch 15/100\n",
      "313/313 [==============================] - 5s 17ms/step - loss: 0.4969 - accuracy: 0.7702 - val_loss: 0.5167 - val_accuracy: 0.7460\n",
      "Epoch 16/100\n",
      "313/313 [==============================] - 5s 16ms/step - loss: 0.4899 - accuracy: 0.7711 - val_loss: 0.5018 - val_accuracy: 0.7580\n",
      "Epoch 17/100\n",
      "313/313 [==============================] - 5s 17ms/step - loss: 0.4872 - accuracy: 0.7728 - val_loss: 0.5083 - val_accuracy: 0.7542\n",
      "Epoch 18/100\n",
      "313/313 [==============================] - 5s 16ms/step - loss: 0.4820 - accuracy: 0.7758 - val_loss: 0.4970 - val_accuracy: 0.7594\n",
      "Epoch 19/100\n",
      "313/313 [==============================] - 5s 17ms/step - loss: 0.4801 - accuracy: 0.7736 - val_loss: 0.4948 - val_accuracy: 0.7606\n",
      "Epoch 20/100\n",
      "313/313 [==============================] - 5s 16ms/step - loss: 0.4775 - accuracy: 0.7771 - val_loss: 0.4902 - val_accuracy: 0.7616\n",
      "Epoch 21/100\n",
      "313/313 [==============================] - 5s 16ms/step - loss: 0.4771 - accuracy: 0.7751 - val_loss: 0.4947 - val_accuracy: 0.7592\n",
      "Epoch 22/100\n",
      "313/313 [==============================] - 5s 17ms/step - loss: 0.4752 - accuracy: 0.7774 - val_loss: 0.4906 - val_accuracy: 0.7584\n",
      "Epoch 23/100\n",
      "313/313 [==============================] - 5s 16ms/step - loss: 0.4737 - accuracy: 0.7762 - val_loss: 0.4876 - val_accuracy: 0.7602\n",
      "Epoch 24/100\n",
      "313/313 [==============================] - 5s 16ms/step - loss: 0.4699 - accuracy: 0.7777 - val_loss: 0.4873 - val_accuracy: 0.7662\n",
      "Epoch 25/100\n",
      "313/313 [==============================] - 5s 16ms/step - loss: 0.4688 - accuracy: 0.7793 - val_loss: 0.4896 - val_accuracy: 0.7624\n",
      "Epoch 26/100\n",
      "313/313 [==============================] - 5s 16ms/step - loss: 0.4688 - accuracy: 0.7768 - val_loss: 0.4876 - val_accuracy: 0.7608\n",
      "Epoch 27/100\n",
      "313/313 [==============================] - 5s 16ms/step - loss: 0.4694 - accuracy: 0.7779 - val_loss: 0.4862 - val_accuracy: 0.7650\n",
      "Epoch 28/100\n",
      "313/313 [==============================] - 5s 16ms/step - loss: 0.4695 - accuracy: 0.7766 - val_loss: 0.4970 - val_accuracy: 0.7564\n",
      "Epoch 29/100\n",
      "313/313 [==============================] - 5s 17ms/step - loss: 0.4686 - accuracy: 0.7770 - val_loss: 0.4916 - val_accuracy: 0.7580\n",
      "Epoch 30/100\n",
      "313/313 [==============================] - 5s 17ms/step - loss: 0.4664 - accuracy: 0.7782 - val_loss: 0.4871 - val_accuracy: 0.7644\n",
      "Epoch 31/100\n",
      "313/313 [==============================] - 5s 16ms/step - loss: 0.4630 - accuracy: 0.7828 - val_loss: 0.4848 - val_accuracy: 0.7630\n",
      "Epoch 32/100\n",
      "313/313 [==============================] - 5s 17ms/step - loss: 0.4637 - accuracy: 0.7801 - val_loss: 0.4835 - val_accuracy: 0.7650\n",
      "Epoch 33/100\n",
      "313/313 [==============================] - 5s 16ms/step - loss: 0.4649 - accuracy: 0.7794 - val_loss: 0.4904 - val_accuracy: 0.7586\n",
      "Epoch 34/100\n",
      "313/313 [==============================] - 5s 17ms/step - loss: 0.4625 - accuracy: 0.7812 - val_loss: 0.4865 - val_accuracy: 0.7602\n",
      "Epoch 35/100\n",
      "313/313 [==============================] - 5s 16ms/step - loss: 0.4644 - accuracy: 0.7786 - val_loss: 0.4834 - val_accuracy: 0.7640\n",
      "Epoch 36/100\n",
      "313/313 [==============================] - 5s 17ms/step - loss: 0.4621 - accuracy: 0.7801 - val_loss: 0.4848 - val_accuracy: 0.7638\n",
      "Epoch 37/100\n",
      "313/313 [==============================] - 5s 16ms/step - loss: 0.4621 - accuracy: 0.7806 - val_loss: 0.4868 - val_accuracy: 0.7620\n",
      "Epoch 38/100\n",
      "313/313 [==============================] - 5s 16ms/step - loss: 0.4614 - accuracy: 0.7800 - val_loss: 0.4842 - val_accuracy: 0.7630\n",
      "Epoch 39/100\n",
      "313/313 [==============================] - 5s 16ms/step - loss: 0.4620 - accuracy: 0.7778 - val_loss: 0.4855 - val_accuracy: 0.7618\n",
      "Epoch 40/100\n",
      "313/313 [==============================] - 5s 16ms/step - loss: 0.4604 - accuracy: 0.7825 - val_loss: 0.4976 - val_accuracy: 0.7612\n"
     ]
    }
   ],
   "source": [
    "history = model.fit(train_seq,\n",
    "                    train_target,\n",
    "                    validation_data=(val_seq,\n",
    "                                    val_target),\n",
    "                    epochs=100,\n",
    "                    batch_size=64,\n",
    "                    callbacks=[mc, es])"
   ]
  },
  {
   "cell_type": "code",
   "execution_count": 43,
   "id": "0e3b167a",
   "metadata": {},
   "outputs": [
    {
     "name": "stdout",
     "output_type": "stream",
     "text": [
      "625/625 [==============================] - 4s 6ms/step - loss: 0.4525 - accuracy: 0.7848\n",
      "157/157 [==============================] - 1s 6ms/step - loss: 0.4834 - accuracy: 0.7640\n",
      "782/782 [==============================] - 5s 6ms/step - loss: 0.4727 - accuracy: 0.7727\n",
      "훈련 데이터   | 손실율 : 0.45251473784446716, 정확도 : 0.7847999930381775\n",
      "검증 데이터   | 손실율 : 0.4834038019180298, 정확도 : 0.7639999985694885\n",
      "테스트 데이터 | 손실율 : 0.4727137088775635, 정확도 : 0.7726799845695496\n"
     ]
    }
   ],
   "source": [
    "### 최적의 모델 읽어들여서, 훈련/검증/테스트 데이터로 성능 검증하기\n",
    "best_model = keras.models.load_model(\"./model/best_LSTM_model_dropout.keras\")\n",
    "\n",
    "train_score = best_model.evaluate(train_seq, train_target)\n",
    "val_score = best_model.evaluate(val_seq, val_target)\n",
    "test_score = best_model.evaluate(test_seq, test_target)\n",
    "\n",
    "print(f\"훈련 데이터   | 손실율 : {train_score[0]}, 정확도 : {train_score[1]}\")\n",
    "print(f\"검증 데이터   | 손실율 : {val_score[0]}, 정확도 : {val_score[1]}\")\n",
    "print(f\"테스트 데이터 | 손실율 : {test_score[0]}, 정확도 : {test_score[1]}\")\n",
    "\n",
    "\n",
    "# 훈련 데이터   | 손실율 : 0.451508492231369, 정확도 : 0.7891499996185303\n",
    "# 검증 데이터   | 손실율 : 0.483624130487442, 정확도 : 0.7634000182151794\n",
    "# 테스트 데이터 | 손실율 : 0.47211700677871704, 정확도 : 0.7716799974441528\n"
   ]
  },
  {
   "cell_type": "code",
   "execution_count": 58,
   "id": "077c0863",
   "metadata": {},
   "outputs": [],
   "source": [
    "model = Sequential([\n",
    "    Embedding(\n",
    "        input_dim = 500,\n",
    "        output_dim = 16,\n",
    "        input_length = 100\n",
    "    ),\n",
    "    \n",
    "    ### return_sequences=True : 단어단위 훈련결과의 시퀀스를 다음 LSTM으로 넘겨서 계속훈련\n",
    "    #                         : LSTM 계층을 연속하여 사용할 경우에 사용\n",
    "    LSTM(\n",
    "        units=8\n",
    "    ),\n",
    "    \n",
    "    \n",
    "    Dense(\n",
    "        units=1,\n",
    "        activation=\"sigmoid\"\n",
    "    )\n",
    "])\n",
    "\n",
    "model.compile(\n",
    "    optimizer = keras.optimizers.Adam(learning_rate=0.01),\n",
    "    loss = \"binary_crossentropy\",\n",
    "    metrics=[\"accuracy\"]\n",
    ")\n",
    "\n",
    "mc = ModelCheckpoint(\n",
    "    \"./model/best_LSTM_model_dropout.keras\",\n",
    "    save_best_only=True\n",
    ")\n"
   ]
  },
  {
   "cell_type": "code",
   "execution_count": 60,
   "id": "70b6af61",
   "metadata": {},
   "outputs": [
    {
     "name": "stdout",
     "output_type": "stream",
     "text": [
      "Epoch 1/100\n",
      "625/625 [==============================] - 6s 10ms/step - loss: 0.6433 - accuracy: 0.6302 - val_loss: 0.5612 - val_accuracy: 0.7330\n",
      "Epoch 2/100\n",
      "625/625 [==============================] - 6s 9ms/step - loss: 0.4978 - accuracy: 0.7597 - val_loss: 0.5040 - val_accuracy: 0.7512\n",
      "Epoch 3/100\n",
      "625/625 [==============================] - 6s 9ms/step - loss: 0.4674 - accuracy: 0.7773 - val_loss: 0.4796 - val_accuracy: 0.7696\n",
      "Epoch 4/100\n",
      "625/625 [==============================] - 6s 9ms/step - loss: 0.4517 - accuracy: 0.7893 - val_loss: 0.4844 - val_accuracy: 0.7684\n",
      "Epoch 5/100\n",
      "625/625 [==============================] - 6s 9ms/step - loss: 0.4396 - accuracy: 0.7952 - val_loss: 0.4846 - val_accuracy: 0.7704\n",
      "Epoch 6/100\n",
      "625/625 [==============================] - 6s 10ms/step - loss: 0.4315 - accuracy: 0.7991 - val_loss: 0.4942 - val_accuracy: 0.7672\n",
      "Epoch 7/100\n",
      "625/625 [==============================] - 6s 9ms/step - loss: 0.4207 - accuracy: 0.8029 - val_loss: 0.4929 - val_accuracy: 0.7678\n",
      "Epoch 8/100\n",
      "625/625 [==============================] - 6s 9ms/step - loss: 0.4143 - accuracy: 0.8080 - val_loss: 0.5103 - val_accuracy: 0.7592\n",
      "Epoch 9/100\n",
      "625/625 [==============================] - 6s 9ms/step - loss: 0.4076 - accuracy: 0.8128 - val_loss: 0.4950 - val_accuracy: 0.7584\n",
      "Epoch 10/100\n",
      "625/625 [==============================] - 6s 10ms/step - loss: 0.3998 - accuracy: 0.8160 - val_loss: 0.5008 - val_accuracy: 0.7596\n",
      "Epoch 11/100\n",
      "625/625 [==============================] - 6s 10ms/step - loss: 0.3973 - accuracy: 0.8201 - val_loss: 0.5260 - val_accuracy: 0.7562\n",
      "Epoch 12/100\n",
      "625/625 [==============================] - 6s 9ms/step - loss: 0.3879 - accuracy: 0.8221 - val_loss: 0.5306 - val_accuracy: 0.7494\n",
      "Epoch 13/100\n",
      "625/625 [==============================] - 6s 9ms/step - loss: 0.3831 - accuracy: 0.8253 - val_loss: 0.5288 - val_accuracy: 0.7470\n",
      "Epoch 14/100\n",
      "625/625 [==============================] - 5s 9ms/step - loss: 0.3809 - accuracy: 0.8259 - val_loss: 0.5406 - val_accuracy: 0.7492\n",
      "Epoch 15/100\n",
      "625/625 [==============================] - 6s 9ms/step - loss: 0.3778 - accuracy: 0.8281 - val_loss: 0.5607 - val_accuracy: 0.7490\n",
      "Epoch 16/100\n",
      "625/625 [==============================] - 6s 10ms/step - loss: 0.3749 - accuracy: 0.8296 - val_loss: 0.5524 - val_accuracy: 0.7548\n",
      "Epoch 17/100\n",
      "625/625 [==============================] - 6s 9ms/step - loss: 0.3647 - accuracy: 0.8333 - val_loss: 0.5699 - val_accuracy: 0.7414\n",
      "Epoch 18/100\n",
      "625/625 [==============================] - 7s 10ms/step - loss: 0.3619 - accuracy: 0.8349 - val_loss: 0.5670 - val_accuracy: 0.7412\n",
      "Epoch 19/100\n",
      "625/625 [==============================] - 6s 9ms/step - loss: 0.3603 - accuracy: 0.8355 - val_loss: 0.5665 - val_accuracy: 0.7370\n",
      "Epoch 20/100\n",
      "625/625 [==============================] - 6s 9ms/step - loss: 0.3551 - accuracy: 0.8392 - val_loss: 0.5848 - val_accuracy: 0.7414\n",
      "Epoch 21/100\n",
      "625/625 [==============================] - 6s 10ms/step - loss: 0.3522 - accuracy: 0.8383 - val_loss: 0.5883 - val_accuracy: 0.7422\n",
      "Epoch 22/100\n",
      "625/625 [==============================] - 6s 10ms/step - loss: 0.3559 - accuracy: 0.8407 - val_loss: 0.5873 - val_accuracy: 0.7340\n",
      "Epoch 23/100\n",
      "625/625 [==============================] - 6s 9ms/step - loss: 0.3567 - accuracy: 0.8398 - val_loss: 0.5794 - val_accuracy: 0.7320\n",
      "Epoch 24/100\n",
      "625/625 [==============================] - 6s 10ms/step - loss: 0.3444 - accuracy: 0.8457 - val_loss: 0.6006 - val_accuracy: 0.7248\n",
      "Epoch 25/100\n",
      "625/625 [==============================] - 6s 10ms/step - loss: 0.3431 - accuracy: 0.8447 - val_loss: 0.6079 - val_accuracy: 0.7334\n",
      "Epoch 26/100\n",
      "625/625 [==============================] - 6s 9ms/step - loss: 0.3404 - accuracy: 0.8471 - val_loss: 0.6073 - val_accuracy: 0.7402\n",
      "Epoch 27/100\n",
      "625/625 [==============================] - 6s 9ms/step - loss: 0.3403 - accuracy: 0.8472 - val_loss: 0.6326 - val_accuracy: 0.7268\n",
      "Epoch 28/100\n",
      "625/625 [==============================] - 6s 10ms/step - loss: 0.3380 - accuracy: 0.8483 - val_loss: 0.6252 - val_accuracy: 0.7328\n",
      "Epoch 29/100\n",
      "625/625 [==============================] - 6s 9ms/step - loss: 0.3336 - accuracy: 0.8531 - val_loss: 0.6219 - val_accuracy: 0.7358\n",
      "Epoch 30/100\n",
      "625/625 [==============================] - 6s 9ms/step - loss: 0.3284 - accuracy: 0.8533 - val_loss: 0.6066 - val_accuracy: 0.7336\n",
      "Epoch 31/100\n",
      "625/625 [==============================] - 6s 9ms/step - loss: 0.3331 - accuracy: 0.8508 - val_loss: 0.6215 - val_accuracy: 0.7342\n",
      "Epoch 32/100\n",
      "625/625 [==============================] - 6s 9ms/step - loss: 0.3259 - accuracy: 0.8549 - val_loss: 0.6293 - val_accuracy: 0.7298\n",
      "Epoch 33/100\n",
      "625/625 [==============================] - 6s 9ms/step - loss: 0.3227 - accuracy: 0.8584 - val_loss: 0.6485 - val_accuracy: 0.7230\n",
      "Epoch 34/100\n",
      "625/625 [==============================] - 6s 9ms/step - loss: 0.3291 - accuracy: 0.8531 - val_loss: 0.6190 - val_accuracy: 0.7242\n",
      "Epoch 35/100\n",
      "625/625 [==============================] - 6s 10ms/step - loss: 0.3271 - accuracy: 0.8561 - val_loss: 0.6341 - val_accuracy: 0.7344\n",
      "Epoch 36/100\n",
      "625/625 [==============================] - 7s 11ms/step - loss: 0.3326 - accuracy: 0.8526 - val_loss: 0.6285 - val_accuracy: 0.7324\n",
      "Epoch 37/100\n",
      "625/625 [==============================] - 6s 10ms/step - loss: 0.3274 - accuracy: 0.8554 - val_loss: 0.6363 - val_accuracy: 0.7382\n",
      "Epoch 38/100\n",
      "625/625 [==============================] - 6s 9ms/step - loss: 0.3272 - accuracy: 0.8547 - val_loss: 0.6536 - val_accuracy: 0.7390\n",
      "Epoch 39/100\n",
      "625/625 [==============================] - 5s 9ms/step - loss: 0.3261 - accuracy: 0.8556 - val_loss: 0.6496 - val_accuracy: 0.7302\n",
      "Epoch 40/100\n",
      "625/625 [==============================] - 6s 9ms/step - loss: 0.3271 - accuracy: 0.8543 - val_loss: 0.6578 - val_accuracy: 0.7284\n",
      "Epoch 41/100\n",
      "625/625 [==============================] - 6s 9ms/step - loss: 0.3225 - accuracy: 0.8573 - val_loss: 0.6372 - val_accuracy: 0.7354\n",
      "Epoch 42/100\n",
      "625/625 [==============================] - 6s 9ms/step - loss: 0.3221 - accuracy: 0.8566 - val_loss: 0.6378 - val_accuracy: 0.7300\n",
      "Epoch 43/100\n",
      "625/625 [==============================] - 6s 9ms/step - loss: 0.3196 - accuracy: 0.8570 - val_loss: 0.6244 - val_accuracy: 0.7320\n",
      "Epoch 44/100\n",
      "625/625 [==============================] - 6s 10ms/step - loss: 0.3177 - accuracy: 0.8602 - val_loss: 0.6531 - val_accuracy: 0.7316\n",
      "Epoch 45/100\n",
      "625/625 [==============================] - 6s 9ms/step - loss: 0.3196 - accuracy: 0.8576 - val_loss: 0.6573 - val_accuracy: 0.7296\n",
      "Epoch 46/100\n",
      "625/625 [==============================] - 6s 10ms/step - loss: 0.3174 - accuracy: 0.8593 - val_loss: 0.6721 - val_accuracy: 0.7272\n",
      "Epoch 47/100\n",
      "625/625 [==============================] - 6s 9ms/step - loss: 0.3208 - accuracy: 0.8587 - val_loss: 0.6492 - val_accuracy: 0.7250\n",
      "Epoch 48/100\n",
      "625/625 [==============================] - 6s 9ms/step - loss: 0.3272 - accuracy: 0.8555 - val_loss: 0.6339 - val_accuracy: 0.7292\n",
      "Epoch 49/100\n",
      "625/625 [==============================] - 6s 9ms/step - loss: 0.3211 - accuracy: 0.8576 - val_loss: 0.6244 - val_accuracy: 0.7250\n",
      "Epoch 50/100\n",
      "625/625 [==============================] - 6s 9ms/step - loss: 0.3225 - accuracy: 0.8588 - val_loss: 0.6398 - val_accuracy: 0.7290\n",
      "Epoch 51/100\n",
      "625/625 [==============================] - 6s 10ms/step - loss: 0.3172 - accuracy: 0.8604 - val_loss: 0.6732 - val_accuracy: 0.7344\n",
      "Epoch 52/100\n",
      "625/625 [==============================] - 5s 9ms/step - loss: 0.3194 - accuracy: 0.8613 - val_loss: 0.6376 - val_accuracy: 0.7318\n",
      "Epoch 53/100\n",
      "625/625 [==============================] - 5s 9ms/step - loss: 0.3260 - accuracy: 0.8544 - val_loss: 0.6514 - val_accuracy: 0.7234\n",
      "Epoch 54/100\n",
      "625/625 [==============================] - 6s 9ms/step - loss: 0.3153 - accuracy: 0.8608 - val_loss: 0.6480 - val_accuracy: 0.7204\n",
      "Epoch 55/100\n",
      "625/625 [==============================] - 6s 9ms/step - loss: 0.3305 - accuracy: 0.8548 - val_loss: 0.6509 - val_accuracy: 0.7206\n",
      "Epoch 56/100\n",
      "625/625 [==============================] - 5s 8ms/step - loss: 0.3213 - accuracy: 0.8581 - val_loss: 0.6441 - val_accuracy: 0.7348\n",
      "Epoch 57/100\n",
      "625/625 [==============================] - 5s 9ms/step - loss: 0.3286 - accuracy: 0.8544 - val_loss: 0.6208 - val_accuracy: 0.7318\n",
      "Epoch 58/100\n",
      "625/625 [==============================] - 6s 9ms/step - loss: 0.3206 - accuracy: 0.8597 - val_loss: 0.6647 - val_accuracy: 0.7362\n",
      "Epoch 59/100\n",
      "625/625 [==============================] - 6s 9ms/step - loss: 0.3160 - accuracy: 0.8603 - val_loss: 0.6389 - val_accuracy: 0.7374\n",
      "Epoch 60/100\n",
      "625/625 [==============================] - 6s 9ms/step - loss: 0.3109 - accuracy: 0.8620 - val_loss: 0.6656 - val_accuracy: 0.7306\n",
      "Epoch 61/100\n",
      "625/625 [==============================] - 6s 10ms/step - loss: 0.3186 - accuracy: 0.8608 - val_loss: 0.6519 - val_accuracy: 0.7308\n",
      "Epoch 62/100\n",
      "625/625 [==============================] - 6s 10ms/step - loss: 0.3243 - accuracy: 0.8553 - val_loss: 0.6653 - val_accuracy: 0.7318\n",
      "Epoch 63/100\n",
      "625/625 [==============================] - 6s 10ms/step - loss: 0.3203 - accuracy: 0.8579 - val_loss: 0.6500 - val_accuracy: 0.7230\n",
      "Epoch 64/100\n",
      "625/625 [==============================] - 6s 10ms/step - loss: 0.3275 - accuracy: 0.8555 - val_loss: 0.6546 - val_accuracy: 0.7306\n",
      "Epoch 65/100\n",
      "625/625 [==============================] - 6s 9ms/step - loss: 0.3235 - accuracy: 0.8569 - val_loss: 0.6466 - val_accuracy: 0.7286\n",
      "Epoch 66/100\n",
      "625/625 [==============================] - 7s 11ms/step - loss: 0.3335 - accuracy: 0.8499 - val_loss: 0.6388 - val_accuracy: 0.7296\n",
      "Epoch 67/100\n",
      "625/625 [==============================] - 7s 11ms/step - loss: 0.3277 - accuracy: 0.8554 - val_loss: 0.6352 - val_accuracy: 0.7270\n",
      "Epoch 68/100\n",
      "625/625 [==============================] - 6s 10ms/step - loss: 0.3266 - accuracy: 0.8545 - val_loss: 0.6409 - val_accuracy: 0.7234\n",
      "Epoch 69/100\n",
      "625/625 [==============================] - 6s 10ms/step - loss: 0.3298 - accuracy: 0.8541 - val_loss: 0.6384 - val_accuracy: 0.7252\n",
      "Epoch 70/100\n",
      "625/625 [==============================] - 6s 9ms/step - loss: 0.3382 - accuracy: 0.8468 - val_loss: 0.6264 - val_accuracy: 0.7182\n",
      "Epoch 71/100\n",
      "625/625 [==============================] - 6s 9ms/step - loss: 0.3342 - accuracy: 0.8522 - val_loss: 0.6305 - val_accuracy: 0.7248\n",
      "Epoch 72/100\n",
      "625/625 [==============================] - 6s 9ms/step - loss: 0.3258 - accuracy: 0.8564 - val_loss: 0.6403 - val_accuracy: 0.7304\n",
      "Epoch 73/100\n",
      "625/625 [==============================] - 6s 9ms/step - loss: 0.3268 - accuracy: 0.8577 - val_loss: 0.6283 - val_accuracy: 0.7276\n",
      "Epoch 74/100\n",
      "625/625 [==============================] - 6s 10ms/step - loss: 0.3301 - accuracy: 0.8543 - val_loss: 0.6493 - val_accuracy: 0.7242\n",
      "Epoch 75/100\n",
      "625/625 [==============================] - 6s 10ms/step - loss: 0.3307 - accuracy: 0.8541 - val_loss: 0.6341 - val_accuracy: 0.7244\n",
      "Epoch 76/100\n",
      "625/625 [==============================] - 6s 10ms/step - loss: 0.3230 - accuracy: 0.8551 - val_loss: 0.6433 - val_accuracy: 0.7326\n",
      "Epoch 77/100\n",
      "625/625 [==============================] - 6s 10ms/step - loss: 0.3425 - accuracy: 0.8459 - val_loss: 0.6416 - val_accuracy: 0.7160\n",
      "Epoch 78/100\n",
      "625/625 [==============================] - 6s 9ms/step - loss: 0.3279 - accuracy: 0.8565 - val_loss: 0.6492 - val_accuracy: 0.7252\n",
      "Epoch 79/100\n",
      "625/625 [==============================] - 6s 10ms/step - loss: 0.3421 - accuracy: 0.8462 - val_loss: 0.6142 - val_accuracy: 0.7320\n",
      "Epoch 80/100\n",
      "625/625 [==============================] - 6s 10ms/step - loss: 0.3235 - accuracy: 0.8575 - val_loss: 0.6558 - val_accuracy: 0.7220\n",
      "Epoch 81/100\n",
      "625/625 [==============================] - 6s 9ms/step - loss: 0.3221 - accuracy: 0.8597 - val_loss: 0.6253 - val_accuracy: 0.7208\n",
      "Epoch 82/100\n",
      "625/625 [==============================] - 6s 10ms/step - loss: 0.3199 - accuracy: 0.8591 - val_loss: 0.6390 - val_accuracy: 0.7232\n",
      "Epoch 83/100\n",
      "625/625 [==============================] - 6s 10ms/step - loss: 0.3275 - accuracy: 0.8560 - val_loss: 0.6436 - val_accuracy: 0.7264\n",
      "Epoch 84/100\n",
      "625/625 [==============================] - 6s 10ms/step - loss: 0.3425 - accuracy: 0.8482 - val_loss: 0.6156 - val_accuracy: 0.7210\n",
      "Epoch 85/100\n",
      "625/625 [==============================] - 6s 9ms/step - loss: 0.3388 - accuracy: 0.8496 - val_loss: 0.6238 - val_accuracy: 0.7288\n",
      "Epoch 86/100\n",
      "625/625 [==============================] - 5s 9ms/step - loss: 0.3271 - accuracy: 0.8545 - val_loss: 0.6579 - val_accuracy: 0.7306\n",
      "Epoch 87/100\n",
      "625/625 [==============================] - 6s 9ms/step - loss: 0.3293 - accuracy: 0.8552 - val_loss: 0.6367 - val_accuracy: 0.7354\n",
      "Epoch 88/100\n",
      "625/625 [==============================] - 6s 9ms/step - loss: 0.3416 - accuracy: 0.8498 - val_loss: 0.6249 - val_accuracy: 0.7206\n",
      "Epoch 89/100\n",
      "625/625 [==============================] - 6s 9ms/step - loss: 0.3332 - accuracy: 0.8529 - val_loss: 0.6354 - val_accuracy: 0.7304\n",
      "Epoch 90/100\n",
      "625/625 [==============================] - 6s 9ms/step - loss: 0.3241 - accuracy: 0.8575 - val_loss: 0.6542 - val_accuracy: 0.7314\n",
      "Epoch 91/100\n",
      "625/625 [==============================] - 6s 9ms/step - loss: 0.3218 - accuracy: 0.8597 - val_loss: 0.6487 - val_accuracy: 0.7256\n",
      "Epoch 92/100\n",
      "625/625 [==============================] - 6s 9ms/step - loss: 0.3219 - accuracy: 0.8601 - val_loss: 0.6532 - val_accuracy: 0.7220\n",
      "Epoch 93/100\n",
      "625/625 [==============================] - 6s 9ms/step - loss: 0.3272 - accuracy: 0.8565 - val_loss: 0.6388 - val_accuracy: 0.7258\n",
      "Epoch 94/100\n",
      "625/625 [==============================] - 6s 9ms/step - loss: 0.3289 - accuracy: 0.8545 - val_loss: 0.6229 - val_accuracy: 0.7192\n",
      "Epoch 95/100\n",
      "625/625 [==============================] - 6s 10ms/step - loss: 0.3273 - accuracy: 0.8545 - val_loss: 0.6485 - val_accuracy: 0.7256\n",
      "Epoch 96/100\n",
      "625/625 [==============================] - 6s 9ms/step - loss: 0.3617 - accuracy: 0.8380 - val_loss: 0.6130 - val_accuracy: 0.7290\n",
      "Epoch 97/100\n",
      "625/625 [==============================] - 6s 9ms/step - loss: 0.3312 - accuracy: 0.8530 - val_loss: 0.6364 - val_accuracy: 0.7326\n",
      "Epoch 98/100\n",
      "625/625 [==============================] - 6s 9ms/step - loss: 0.3345 - accuracy: 0.8522 - val_loss: 0.6269 - val_accuracy: 0.7328\n",
      "Epoch 99/100\n",
      "625/625 [==============================] - 6s 10ms/step - loss: 0.3253 - accuracy: 0.8584 - val_loss: 0.6592 - val_accuracy: 0.7294\n",
      "Epoch 100/100\n",
      "625/625 [==============================] - 6s 10ms/step - loss: 0.3242 - accuracy: 0.8559 - val_loss: 0.6497 - val_accuracy: 0.7246\n"
     ]
    }
   ],
   "source": [
    "history = model.fit(train_seq,\n",
    "                    train_target,\n",
    "                    validation_data=(val_seq,\n",
    "                                    val_target),\n",
    "                    epochs=100,\n",
    "                    batch_size=32,\n",
    "                    callbacks=[mc])"
   ]
  },
  {
   "cell_type": "code",
   "execution_count": 62,
   "id": "c835aa8d",
   "metadata": {},
   "outputs": [
    {
     "name": "stdout",
     "output_type": "stream",
     "text": [
      "625/625 [==============================] - 3s 4ms/step - loss: 0.4355 - accuracy: 0.7995\n",
      "157/157 [==============================] - 1s 4ms/step - loss: 0.4796 - accuracy: 0.7696\n",
      "782/782 [==============================] - 3s 4ms/step - loss: 0.4708 - accuracy: 0.7722\n",
      "훈련 데이터   | 손실율 : 0.4354783296585083, 정확도 : 0.7994999885559082\n",
      "검증 데이터   | 손실율 : 0.479566365480423, 정확도 : 0.769599974155426\n",
      "테스트 데이터 | 손실율 : 0.4707776606082916, 정확도 : 0.7722399830818176\n"
     ]
    }
   ],
   "source": [
    "### 최적의 모델 읽어들여서, 훈련/검증/테스트 데이터로 성능 검증하기\n",
    "best_model = keras.models.load_model(\"./model/best_LSTM_model_dropout.keras\")\n",
    "\n",
    "train_score = best_model.evaluate(train_seq, train_target)\n",
    "val_score = best_model.evaluate(val_seq, val_target)\n",
    "test_score = best_model.evaluate(test_seq, test_target)\n",
    "\n",
    "print(f\"훈련 데이터   | 손실율 : {train_score[0]}, 정확도 : {train_score[1]}\")\n",
    "print(f\"검증 데이터   | 손실율 : {val_score[0]}, 정확도 : {val_score[1]}\")\n",
    "print(f\"테스트 데이터 | 손실율 : {test_score[0]}, 정확도 : {test_score[1]}\")\n"
   ]
  },
  {
   "cell_type": "code",
   "execution_count": 64,
   "id": "58407c70",
   "metadata": {},
   "outputs": [
    {
     "data": {
      "image/png": "[encoded data removed]",
      "text/plain": [
       "<Figure size 640x480 with 1 Axes>"
      ]
     },
     "metadata": {},
     "output_type": "display_data"
    }
   ],
   "source": [
    "### 손실 곡선\n",
    "plt.title(\"LSTM train | val Loss\")\n",
    "plt.plot(history.epoch, history.history[\"loss\"])\n",
    "plt.plot(history.epoch, history.history[\"val_loss\"])\n",
    "plt.legend([\"train\", \"val\"])\n",
    "plt.xlabel(\"epoch\")\n",
    "plt.ylabel(\"loss\")\n",
    "plt.grid(linestyle=\"--\")\n",
    "plt.show()"
   ]
  },
  {
   "cell_type": "code",
   "execution_count": 65,
   "id": "050716e7",
   "metadata": {},
   "outputs": [
    {
     "data": {
      "image/png": "[encoded data removed]",
      "text/plain": [
       "<Figure size 640x480 with 1 Axes>"
      ]
     },
     "metadata": {},
     "output_type": "display_data"
    }
   ],
   "source": [
    "### 정확도 곡선\n",
    "plt.title(\"LSTM train | val Accuracy\")\n",
    "plt.plot(history.epoch, history.history[\"accuracy\"])\n",
    "plt.plot(history.epoch, history.history[\"val_accuracy\"])\n",
    "plt.legend([\"train\", \"val\"])\n",
    "plt.xlabel(\"epoch\")\n",
    "plt.ylabel(\"accuracy\")\n",
    "plt.grid(linestyle=\"--\")\n",
    "plt.show()"
   ]
  },
  {
   "cell_type": "markdown",
   "id": "bba028d3",
   "metadata": {},
   "source": [
    "### GRU 계층하기"
   ]
  },
  {
   "cell_type": "code",
   "execution_count": null,
   "id": "06fcb4ec",
   "metadata": {},
   "outputs": [],
   "source": [
    "\"\"\"\n",
    "<GRU(Gated Recurrent Unit, 게이트 반복 단위) 모델>\n",
    "- LSTM의 4단계 게이트를 3단계로 줄여서 속도를 향상시킨 모델\n",
    "- 성능은 LSTM과 유사함\n",
    "\"\"\""
   ]
  },
  {
   "cell_type": "code",
   "execution_count": 66,
   "id": "7016229d",
   "metadata": {},
   "outputs": [],
   "source": [
    "model = Sequential([\n",
    "    Embedding(\n",
    "        input_dim = 500,\n",
    "        output_dim = 16,\n",
    "        input_length = 100\n",
    "    ),\n",
    "    \n",
    "    ### return_sequences=True : 단어단위 훈련결과의 시퀀스를 다음 LSTM으로 넘겨서 계속훈련\n",
    "    #                         : LSTM 계층을 연속하여 사용할 경우에 사용\n",
    "    GRU(\n",
    "        units=8\n",
    "    ),\n",
    "    \n",
    "    \n",
    "    Dense(\n",
    "        units=1,\n",
    "        activation=\"sigmoid\"\n",
    "    )\n",
    "])\n",
    "\n",
    "model.compile(\n",
    "    optimizer = keras.optimizers.Adam(learning_rate=0.01),\n",
    "    loss = \"binary_crossentropy\",\n",
    "    metrics=[\"accuracy\"]\n",
    ")\n",
    "\n",
    "mc = ModelCheckpoint(\n",
    "    \"./model/best_GRU_model_dropout.keras\",\n",
    "    save_best_only=True\n",
    ")\n",
    "\n",
    "es = EarlyStopping(\n",
    "    patience=5,\n",
    "    restore_best_weights=True\n",
    ")\n"
   ]
  },
  {
   "cell_type": "code",
   "execution_count": 70,
   "id": "130dfc4c",
   "metadata": {},
   "outputs": [
    {
     "name": "stdout",
     "output_type": "stream",
     "text": [
      "Epoch 1/100\n",
      "625/625 [==============================] - 6s 10ms/step - loss: 0.4251 - accuracy: 0.7973 - val_loss: 0.4801 - val_accuracy: 0.7700\n",
      "Epoch 2/100\n",
      "625/625 [==============================] - 6s 10ms/step - loss: 0.4168 - accuracy: 0.8014 - val_loss: 0.4967 - val_accuracy: 0.7516\n",
      "Epoch 3/100\n",
      "625/625 [==============================] - 7s 11ms/step - loss: 0.4099 - accuracy: 0.8069 - val_loss: 0.4817 - val_accuracy: 0.7664\n",
      "Epoch 4/100\n",
      "625/625 [==============================] - 6s 9ms/step - loss: 0.4003 - accuracy: 0.8146 - val_loss: 0.5043 - val_accuracy: 0.7656\n",
      "Epoch 5/100\n",
      "625/625 [==============================] - 6s 9ms/step - loss: 0.3926 - accuracy: 0.8164 - val_loss: 0.4845 - val_accuracy: 0.7662\n",
      "Epoch 6/100\n",
      "625/625 [==============================] - 7s 12ms/step - loss: 0.3896 - accuracy: 0.8148 - val_loss: 0.5136 - val_accuracy: 0.7602\n"
     ]
    }
   ],
   "source": [
    "history = model.fit(train_seq,\n",
    "                    train_target,\n",
    "                    validation_data=(val_seq,\n",
    "                                    val_target),\n",
    "                    epochs=100,\n",
    "                    batch_size=32,\n",
    "                    callbacks=[mc, es])"
   ]
  },
  {
   "cell_type": "code",
   "execution_count": 71,
   "id": "d33c763b",
   "metadata": {},
   "outputs": [
    {
     "name": "stdout",
     "output_type": "stream",
     "text": [
      "625/625 [==============================] - 3s 4ms/step - loss: 0.4014 - accuracy: 0.8148\n",
      "157/157 [==============================] - 1s 4ms/step - loss: 0.4772 - accuracy: 0.7688\n",
      "782/782 [==============================] - 3s 4ms/step - loss: 0.4650 - accuracy: 0.7730\n",
      "훈련 데이터   | 손실율 : 0.4014440178871155, 정확도 : 0.8147500157356262\n",
      "검증 데이터   | 손실율 : 0.47724780440330505, 정확도 : 0.7688000202178955\n",
      "테스트 데이터 | 손실율 : 0.4649605453014374, 정확도 : 0.7729600071907043\n"
     ]
    }
   ],
   "source": [
    "### 최적의 모델 읽어들여서, 훈련/검증/테스트 데이터로 성능 검증하기\n",
    "best_model = keras.models.load_model(\"./model/best_GRU_model_dropout.keras\")\n",
    "\n",
    "train_score = best_model.evaluate(train_seq, train_target)\n",
    "val_score = best_model.evaluate(val_seq, val_target)\n",
    "test_score = best_model.evaluate(test_seq, test_target)\n",
    "\n",
    "print(f\"훈련 데이터   | 손실율 : {train_score[0]}, 정확도 : {train_score[1]}\")\n",
    "print(f\"검증 데이터   | 손실율 : {val_score[0]}, 정확도 : {val_score[1]}\")\n",
    "print(f\"테스트 데이터 | 손실율 : {test_score[0]}, 정확도 : {test_score[1]}\")\n",
    "\n",
    "### 배치사이즈 : 64\n",
    "# 625/625 [==============================] - 3s 4ms/step - loss: 0.4014 - accuracy: 0.8148\n",
    "# 157/157 [==============================] - 1s 4ms/step - loss: 0.4772 - accuracy: 0.7688\n",
    "# 782/782 [==============================] - 3s 4ms/step - loss: 0.4650 - accuracy: 0.7730\n",
    "# 훈련 데이터   | 손실율 : 0.4014440178871155, 정확도 : 0.8147500157356262\n",
    "# 검증 데이터   | 손실율 : 0.47724780440330505, 정확도 : 0.7688000202178955\n",
    "# 테스트 데이터 | 손실율 : 0.4649605453014374, 정확도 : 0.7729600071907043"
   ]
  },
  {
   "cell_type": "code",
   "execution_count": 72,
   "id": "f5722b1e",
   "metadata": {},
   "outputs": [
    {
     "data": {
      "image/png": "[encoded data removed]",
      "text/plain": [
       "<Figure size 640x480 with 1 Axes>"
      ]
     },
     "metadata": {},
     "output_type": "display_data"
    }
   ],
   "source": [
    "### 손실 곡선\n",
    "plt.title(\"LSTM train | val Loss\")\n",
    "plt.plot(history.epoch, history.history[\"loss\"])\n",
    "plt.plot(history.epoch, history.history[\"val_loss\"])\n",
    "plt.legend([\"train\", \"val\"])\n",
    "plt.xlabel(\"epoch\")\n",
    "plt.ylabel(\"loss\")\n",
    "plt.grid(linestyle=\"--\")\n",
    "plt.show()"
   ]
  },
  {
   "cell_type": "code",
   "execution_count": 73,
   "id": "38340354",
   "metadata": {},
   "outputs": [
    {
     "data": {
      "image/png": "[encoded data removed]",
      "text/plain": [
       "<Figure size 640x480 with 1 Axes>"
      ]
     },
     "metadata": {},
     "output_type": "display_data"
    }
   ],
   "source": [
    "### 정확도 곡선\n",
    "plt.title(\"LSTM train | val Accuracy\")\n",
    "plt.plot(history.epoch, history.history[\"accuracy\"])\n",
    "plt.plot(history.epoch, history.history[\"val_accuracy\"])\n",
    "plt.legend([\"train\", \"val\"])\n",
    "plt.xlabel(\"epoch\")\n",
    "plt.ylabel(\"accuracy\")\n",
    "plt.grid(linestyle=\"--\")\n",
    "plt.show()"
   ]
  },
  {
   "cell_type": "code",
   "execution_count": null,
   "id": "f0d17ab1",
   "metadata": {},
   "outputs": [
    {
     "name": "stdout",
     "output_type": "stream",
     "text": [
      "Model: \"sequential_12\"\n",
      "_________________________________________________________________\n",
      " Layer (type)                Output Shape              Param #   \n",
      "=================================================================\n",
      " embedding_12 (Embedding)    (None, 100, 16)           8000      \n",
      "                                                                 \n",
      " gru (GRU)                   (None, 8)                 624       \n",
      "                                                                 \n",
      " dense_14 (Dense)            (None, 1)                 9         \n",
      "                                                                 \n",
      "=================================================================\n",
      "Total params: 8,633\n",
      "Trainable params: 8,633\n",
      "Non-trainable params: 0\n",
      "_________________________________________________________________\n"
     ]
    }
   ],
   "source": [
    "model.summary()\n",
    "\n",
    "\"\"\"\n",
    "<GRU Param 계산공식>\n",
    " - GRU Param = 가중치 갯수 * (출력갯수 * (입력갯수 + 출력갯수 + 1))\n",
    "             = 3          *     (8   *    (16    +   8     + 1))\n",
    "             =\n",
    "             \n",
    "<가중치 설명>\n",
    " * 새로운 기억 셀(LSTM에서의 셀상태)\n",
    "  - 현재 시점의 입력과 업데이트된 이전 상태를 바탕으로 생성된 정보를 저장하는 역할\n",
    " \n",
    " * 업데이트 게이트\n",
    "  - 이전의 정보를 얼마나 유지할지 결정\n",
    "  - 문장의 앞부분에서 중요한 정보가 포함되어 있다면,\n",
    "    업데이트 게이트는 이 정보를 유지하도록(새로운 기억셀 업데이트) 처리하는 역할 수행\n",
    " \n",
    " * 리셋 게이트\n",
    "  - 이전의 정보를 얼마나 무시할지 결정\n",
    "  - 문장 중간에 나온 덜 중요한 정보는 무시할 수 있도록 처리하는 역할 수행\n",
    " \n",
    " * 중요한지 또는 무시할지는 단어들의 발생 빈도를 통해서 스스로 결정함\n",
    "\"\"\"\n"
   ]
  },
  {
   "cell_type": "code",
   "execution_count": null,
   "id": "6280506e",
   "metadata": {},
   "outputs": [],
   "source": []
  },
  {
   "cell_type": "code",
   "execution_count": null,
   "id": "a7cd6810",
   "metadata": {},
   "outputs": [],
   "source": []
  },
  {
   "cell_type": "code",
   "execution_count": null,
   "id": "ee94f15f",
   "metadata": {},
   "outputs": [],
   "source": []
  },
  {
   "cell_type": "code",
   "execution_count": null,
   "id": "675fe14e",
   "metadata": {},
   "outputs": [],
   "source": []
  }
 ],
 "metadata": {
  "kernelspec": {
   "display_name": "pk_dl_gpu",
   "language": "python",
   "name": "python3"
  },
  "language_info": {
   "codemirror_mode": {
    "name": "ipython",
    "version": 3
   },
   "file_extension": ".py",
   "mimetype": "text/x-python",
   "name": "python",
   "nbconvert_exporter": "python",
   "pygments_lexer": "ipython3",
   "version": "3.9.21"
  }
 },
 "nbformat": 4,
 "nbformat_minor": 5
}
