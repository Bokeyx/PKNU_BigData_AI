{
 "cells": [
  {
   "cell_type": "code",
   "execution_count": null,
   "id": "b5c2a9db-b5a2-45cb-aed2-d3c18782f3f2",
   "metadata": {},
   "outputs": [],
   "source": [
    "### 여러개의 변수값들은 묶어서 가지고 다니는 타입들\n",
    "# - 리스트(List), 딕셔너리(Dict), 튜플(Tuple), 이외 등등..."
   ]
  },
  {
   "cell_type": "code",
   "execution_count": null,
   "id": "47b086d1-f97b-442c-9d15-51bf8b5bc1d6",
   "metadata": {},
   "outputs": [],
   "source": [
    "\"\"\"\n",
    "<List(리스트) 변수>\n",
    "    - 여러 개의 변수들의 값들을 하나로 관리하는 변수\n",
    "    - 사용되는 기호 : 대괄호[]\n",
    "    - 리스트 메모리 공간 내에 여러개의 작은 메모리(변수)들이 존재함\n",
    "    - 여러개의 작은 메모리의 주소값을 -> 인덱스(index) 주소, 또는 번호라고 칭합ㄴ디ㅏ.\n",
    "    - 리스트 내에 있는 값들을 처리할 때는 주로 for문과 함께 사용됩니다.\n",
    "    - 리스트 내에 값들의 타입은 다양합니다.(어떤 타입도 넣을 수 있습니다)\n",
    "    - 리스트 내에 값을 추출하는 방법 : 작은 메모리 주소, 즉 인덱스(index) 번호를 이용해서 추출함\n",
    "\"\"\""
   ]
  },
  {
   "cell_type": "code",
   "execution_count": 21,
   "id": "45da5453-08fd-45f2-90f3-7954d6456b3e",
   "metadata": {},
   "outputs": [],
   "source": [
    "### 리스트 변수 만들기\n",
    "list_val = [10, 20, 30, 40, 50, \n",
    "            60, 70, 30, 30, 40]"
   ]
  },
  {
   "cell_type": "code",
   "execution_count": 22,
   "id": "8bfad7c5-1c66-4c38-8723-2dc2c05a78c9",
   "metadata": {},
   "outputs": [
    {
     "name": "stdout",
     "output_type": "stream",
     "text": [
      "[10, 20, 30, 40, 50, 60, 70, 30, 30, 40] <class 'list'>\n"
     ]
    }
   ],
   "source": [
    "### 반수의 타입 확인하는 방법\n",
    "# - 출력 결과의 기호를 통해 확인 할 수 있음\n",
    "# - type() 함수를 통해 확인 할 수 있음\n",
    "print(list_val, type(list_val))"
   ]
  },
  {
   "cell_type": "code",
   "execution_count": 5,
   "id": "6ffeb634-2179-4b1e-ae88-0e9c83ee3b68",
   "metadata": {},
   "outputs": [
    {
     "data": {
      "text/plain": [
       "int"
      ]
     },
     "execution_count": 5,
     "metadata": {},
     "output_type": "execute_result"
    }
   ],
   "source": [
    "a = 10\n",
    "type(a)"
   ]
  },
  {
   "cell_type": "code",
   "execution_count": 8,
   "id": "237378fb-92e0-4380-854f-c23af30fc737",
   "metadata": {},
   "outputs": [
    {
     "data": {
      "text/plain": [
       "(10, 20, 40)"
      ]
     },
     "execution_count": 8,
     "metadata": {},
     "output_type": "execute_result"
    }
   ],
   "source": [
    "## IndexError: List index out of range\n",
    "# : 사용하는 번호에 대한 인덱스 번호가 없다는 의미\n",
    "#   (인덱스 번호 범위를 벗어났다는 의미)\n",
    "list_val[0], list_val[1], list_val[9]"
   ]
  },
  {
   "cell_type": "code",
   "execution_count": 9,
   "id": "721893bf-6269-4875-bccc-8c1e4278df5d",
   "metadata": {},
   "outputs": [
    {
     "data": {
      "text/plain": [
       "10"
      ]
     },
     "execution_count": 9,
     "metadata": {},
     "output_type": "execute_result"
    }
   ],
   "source": [
    "### 리스트 내에 값의 갯수 학인하기\n",
    "len(list_val)"
   ]
  },
  {
   "cell_type": "code",
   "execution_count": 23,
   "id": "89b6b1c6-f6d6-4ec1-b7f3-d8acdaeb311e",
   "metadata": {},
   "outputs": [
    {
     "name": "stdout",
     "output_type": "stream",
     "text": [
      "10\n",
      "20\n",
      "30\n",
      "40\n",
      "50\n",
      "60\n",
      "70\n",
      "30\n",
      "30\n",
      "40\n"
     ]
    }
   ],
   "source": [
    "### 리스트 내에서 값 추출하기 : for문 이용\n",
    "# for range(len(list_val)) :\n",
    "# (0, 1, 2, 3..., 9)\n",
    "for i in range(0, len(list_val), 1) :\n",
    "    print(list_val[i])"
   ]
  },
  {
   "cell_type": "code",
   "execution_count": 30,
   "id": "ebbc2900-3e32-471c-8fd2-8ecf50c4015e",
   "metadata": {},
   "outputs": [
    {
     "name": "stdout",
     "output_type": "stream",
     "text": [
      "3\n"
     ]
    }
   ],
   "source": [
    "###리스트 내에 값 중에 30이라는 수자가 총 몇개 들어 있는지도 출력해주세요.\n",
    "# 총 갯수는 for문이 종료된 후 마지막에 한번만 출력해주세요\n",
    "### 30이라는 값이 체크될 때 1씩 증가 할 값(count)을 저장(누적값)\n",
    "\n",
    "cnt = 0\n",
    "\n",
    "for i in range(0, len(list_val), 1) :\n",
    "    if list_val[i] == 30 :\n",
    "        cnt += 1\n",
    "\n",
    "print(cnt)"
   ]
  },
  {
   "cell_type": "markdown",
   "id": "97d96b49-6e27-4512-8bb6-a0ec48272eef",
   "metadata": {},
   "source": [
    "## 리스트 출력 시 for문 작성하는 방법 2가지"
   ]
  },
  {
   "cell_type": "code",
   "execution_count": null,
   "id": "335b6e85-e97b-4ba6-9eaf-b5e59fa12958",
   "metadata": {},
   "outputs": [],
   "source": [
    "### for문 작성하는 방법 2가지\n",
    "# - 리스트 내에 index 번호를 이용하는 방법\n",
    "# - 리스트 내에 값 자체를 이용하는 방법"
   ]
  },
  {
   "cell_type": "code",
   "execution_count": 31,
   "id": "9bf87d3c-ecc6-497c-ae92-722209059b15",
   "metadata": {},
   "outputs": [
    {
     "data": {
      "text/plain": [
       "[1, 2, '이순신', '홍길동', 3.141592]"
      ]
     },
     "execution_count": 31,
     "metadata": {},
     "output_type": "execute_result"
    }
   ],
   "source": [
    "### 리스트 변수 생성\n",
    "# - 변수명 : list_temp\n",
    "# - 값 : 1, 2, \"이순신\", \"홍길동\", 3.141592\n",
    "\n",
    "list_temp = [1, 2, \"이순신\", \"홍길동\", 3.141592]\n",
    "list_temp"
   ]
  },
  {
   "cell_type": "code",
   "execution_count": 32,
   "id": "7981b9aa-cfb1-4fe7-8cd6-bbd0922ed0a3",
   "metadata": {},
   "outputs": [
    {
     "name": "stdout",
     "output_type": "stream",
     "text": [
      "1\n",
      "2\n",
      "이순신\n",
      "홍길동\n",
      "3.141592\n"
     ]
    }
   ],
   "source": [
    "### for문 : 리스트 내에 index 번호를 이용하는 방법\n",
    "for i in range(0, len(list_temp), 1) :\n",
    "    print(list_temp[i])"
   ]
  },
  {
   "cell_type": "code",
   "execution_count": 34,
   "id": "1d6b3f4b-29a7-4813-80b4-bf4961ab9a3f",
   "metadata": {},
   "outputs": [
    {
     "name": "stdout",
     "output_type": "stream",
     "text": [
      "1\n",
      "2\n",
      "이순신\n",
      "홍길동\n",
      "3.141592\n"
     ]
    }
   ],
   "source": [
    "### for문 : 리스트 내에 값 자체를 이용하는 방법\n",
    "# (1, 2, \"이순신\", \"홍길동\", 3.141592)\n",
    "# for v in (1, 2, \"이순신\", \"홍길동\", 3.141592)\n",
    "for v in list_temp :\n",
    "    print(v)"
   ]
  },
  {
   "cell_type": "markdown",
   "id": "ca1a4ada-e253-4bc3-a2e1-d78299329968",
   "metadata": {},
   "source": [
    "## list 변수 생성하는 방법"
   ]
  },
  {
   "cell_type": "code",
   "execution_count": 35,
   "id": "8a670b3f-5977-49c4-a951-e7316f030e50",
   "metadata": {},
   "outputs": [
    {
     "name": "stdout",
     "output_type": "stream",
     "text": [
      "[]\n"
     ]
    }
   ],
   "source": [
    "### 깨끗한 리스트 생성하기\n",
    "# - 깨끗하다는 의미는 값이 없다는 의미(값이 없는 공간만 존재함)\n",
    "list2 = []\n",
    "print(list2)"
   ]
  },
  {
   "cell_type": "code",
   "execution_count": 38,
   "id": "ac592f1b-b87b-491c-b7e7-cf2b719730b5",
   "metadata": {},
   "outputs": [
    {
     "name": "stdout",
     "output_type": "stream",
     "text": [
      "[]\n"
     ]
    }
   ],
   "source": [
    "### 깨끗한 리스트 생성하기 2\n",
    "list3 = list()\n",
    "print(list3)"
   ]
  },
  {
   "cell_type": "code",
   "execution_count": 37,
   "id": "aca63a2b-03a7-4680-8da4-81d96a1ca44f",
   "metadata": {},
   "outputs": [
    {
     "name": "stdout",
     "output_type": "stream",
     "text": [
      "[1, '홍']\n"
     ]
    }
   ],
   "source": [
    "### 값을 정희하여 생성하기 3\n",
    "list4 = [1, \"홍\"]\n",
    "print(list4)"
   ]
  },
  {
   "cell_type": "code",
   "execution_count": 39,
   "id": "76497a2b-dcec-43fc-ad45-1445eb6178f5",
   "metadata": {},
   "outputs": [
    {
     "name": "stdout",
     "output_type": "stream",
     "text": [
      "[1, '홍']\n"
     ]
    }
   ],
   "source": [
    "### 값을 정희하여 생성하기 4\n",
    "list5 = list((1, \"홍\"))\n",
    "print(list5)"
   ]
  },
  {
   "cell_type": "code",
   "execution_count": 41,
   "id": "84f9b9d7-93c9-4dd8-b6ba-14cd4bc9dc43",
   "metadata": {},
   "outputs": [
    {
     "name": "stdout",
     "output_type": "stream",
     "text": [
      "[0, 1, 2, 3, 4, 5, 6, 7, 8, 9, 10, 11, 12, 13, 14, 15, 16, 17, 18, 19, 20, 21, 22, 23, 24, 25, 26, 27, 28, 29, 30, 31, 32, 33, 34, 35, 36, 37, 38, 39, 40, 41, 42, 43, 44, 45, 46, 47, 48, 49, 50, 51, 52, 53, 54, 55, 56, 57, 58, 59, 60, 61, 62, 63, 64, 65, 66, 67, 68, 69, 70, 71, 72, 73, 74, 75, 76, 77, 78, 79, 80, 81, 82, 83, 84, 85, 86, 87, 88, 89, 90, 91, 92, 93, 94, 95, 96, 97, 98, 99, 100]\n"
     ]
    }
   ],
   "source": [
    "### 0부터 100까지의 값을 정의하여 생성하기 5\n",
    "list6 = list(range(0, 101, 1))\n",
    "print(list6)"
   ]
  },
  {
   "cell_type": "code",
   "execution_count": 42,
   "id": "eb3d2760-03c1-4719-8aba-94c03b88cb40",
   "metadata": {},
   "outputs": [
    {
     "name": "stdout",
     "output_type": "stream",
     "text": [
      "[range(0, 101)]\n"
     ]
    }
   ],
   "source": [
    "list7 = [range(0, 101, 1)]\n",
    "print(list7)"
   ]
  },
  {
   "cell_type": "code",
   "execution_count": null,
   "id": "3b398ab0-0685-4e62-ad71-c71e38ba7d44",
   "metadata": {},
   "outputs": [],
   "source": [
    "### 1부터 100까지의 범위 중에 짝수의 값들로 정의하여 리스트 변수 생성하기\n",
    "# 변수명 : list8\n",
    "### list8에 들어 있는 값들 중에 3의 배수들만 출력해주세요."
   ]
  },
  {
   "cell_type": "code",
   "execution_count": 1,
   "id": "e87e1d16-b2bf-49c3-a212-0b8804b81453",
   "metadata": {},
   "outputs": [
    {
     "name": "stdout",
     "output_type": "stream",
     "text": [
      "6\n",
      "12\n",
      "18\n",
      "24\n",
      "30\n",
      "36\n",
      "42\n",
      "48\n",
      "54\n",
      "60\n",
      "66\n",
      "72\n",
      "78\n",
      "84\n",
      "90\n",
      "96\n"
     ]
    }
   ],
   "source": [
    "list8 = list(range(0, 101, 2))\n",
    "for q in range(1, len(list8), 1) :\n",
    "    if list8[q] % 3 == 0 : \n",
    "        print(list8[q])"
   ]
  },
  {
   "cell_type": "code",
   "execution_count": 2,
   "id": "e8c62475-2310-470a-bec0-b62044ecadbf",
   "metadata": {},
   "outputs": [
    {
     "name": "stdout",
     "output_type": "stream",
     "text": [
      "6\n",
      "12\n",
      "18\n",
      "24\n",
      "30\n",
      "36\n",
      "42\n",
      "48\n",
      "54\n",
      "60\n",
      "66\n",
      "72\n",
      "78\n",
      "84\n",
      "90\n",
      "96\n"
     ]
    }
   ],
   "source": [
    "list8 = list(range(2, 101, 2))\n",
    "for w in list8 :\n",
    "    if w % 3 == 0 :\n",
    "        print(w)"
   ]
  },
  {
   "cell_type": "code",
   "execution_count": 3,
   "id": "6785b8c8-50d3-40c1-b863-c30a57c5c690",
   "metadata": {},
   "outputs": [
    {
     "name": "stdout",
     "output_type": "stream",
     "text": [
      "[2, 4, 6, 8, 10, 12, 14, 16, 18, 20, 22, 24, 26, 28, 30, 32, 34, 36, 38, 40, 42, 44, 46, 48, 50, 52, 54, 56, 58, 60, 62, 64, 66, 68, 70, 72, 74, 76, 78, 80, 82, 84, 86, 88, 90, 92, 94, 96, 98, 100]\n",
      "6\n",
      "12\n",
      "18\n",
      "24\n",
      "30\n",
      "36\n",
      "42\n",
      "48\n",
      "54\n",
      "60\n",
      "66\n",
      "72\n",
      "78\n",
      "84\n",
      "90\n",
      "96\n",
      "6\n",
      "12\n",
      "18\n",
      "24\n",
      "30\n",
      "36\n",
      "42\n",
      "48\n",
      "54\n",
      "60\n",
      "66\n",
      "72\n",
      "78\n",
      "84\n",
      "90\n",
      "96\n"
     ]
    }
   ],
   "source": [
    "### 1부터 100까지의 범위 중에 짝수의 값들로 정의하여 리스트 변수 생성하기\n",
    "# 변수명 : list8\n",
    "list8 = list(range(2, 101, 2))\n",
    "print(list8)\n",
    "\n",
    "### list8에 들어 있는 값들 중에 3의 배수들만 출력해주세요.\n",
    "# 인덱스번호를 이용하는 방식과, 값을 이용하는 방식 2가지 for문 방식으로 모두 해주세요.\n",
    "# (인덱스 번호 사용)\n",
    "for idx in range(0, len(list8), 1) :\n",
    "    if list8[idx] % 3 == 0 :\n",
    "        print(list8[idx])\n",
    "\n",
    "# (값 사용)\n",
    "for val in list8 :\n",
    "    if val % 3 == 0 :\n",
    "        print(val)"
   ]
  },
  {
   "cell_type": "code",
   "execution_count": null,
   "id": "78ff64c7-f2d8-4fab-aee4-2fcf0b7718d4",
   "metadata": {},
   "outputs": [],
   "source": []
  },
  {
   "cell_type": "code",
   "execution_count": null,
   "id": "d4634847-f686-416b-bb3f-acf7b1f7a5c9",
   "metadata": {},
   "outputs": [],
   "source": []
  },
  {
   "cell_type": "code",
   "execution_count": null,
   "id": "e2fdc3ad-aa0f-4f9b-a8ac-c7af5650f385",
   "metadata": {},
   "outputs": [],
   "source": []
  },
  {
   "cell_type": "code",
   "execution_count": null,
   "id": "bc211ccb-c213-4bc8-959b-a3e354e871ed",
   "metadata": {},
   "outputs": [],
   "source": []
  },
  {
   "cell_type": "code",
   "execution_count": null,
   "id": "9a2e0c28-3c08-4c5b-bc10-708f90e4f4f6",
   "metadata": {},
   "outputs": [],
   "source": []
  },
  {
   "cell_type": "code",
   "execution_count": null,
   "id": "092856a0-1306-4a30-bf57-4041de9f411b",
   "metadata": {},
   "outputs": [],
   "source": []
  },
  {
   "cell_type": "code",
   "execution_count": null,
   "id": "c76e257b-615e-4969-8f2d-1fc3f4f2e901",
   "metadata": {},
   "outputs": [],
   "source": []
  },
  {
   "cell_type": "code",
   "execution_count": null,
   "id": "fc0589eb-5943-4dcb-ac9f-85f3198465a2",
   "metadata": {},
   "outputs": [],
   "source": []
  },
  {
   "cell_type": "code",
   "execution_count": null,
   "id": "9092c33d-b51a-4388-90ed-b5f944bbccc1",
   "metadata": {},
   "outputs": [],
   "source": []
  }
 ],
 "metadata": {
  "kernelspec": {
   "display_name": "pk_base_202503_kernel",
   "language": "python",
   "name": "pk_base_202503"
  },
  "language_info": {
   "codemirror_mode": {
    "name": "ipython",
    "version": 3
   },
   "file_extension": ".py",
   "mimetype": "text/x-python",
   "name": "python",
   "nbconvert_exporter": "python",
   "pygments_lexer": "ipython3",
   "version": "3.9.21"
  }
 },
 "nbformat": 4,
 "nbformat_minor": 5
}
