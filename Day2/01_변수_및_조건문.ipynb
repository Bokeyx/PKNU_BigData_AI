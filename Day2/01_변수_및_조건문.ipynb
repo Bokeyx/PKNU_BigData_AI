{
 "cells": [
  {
   "cell_type": "markdown",
   "id": "328544fa-fa5e-4692-8c81-a4fce596d989",
   "metadata": {},
   "source": [
    "## 변수 타입 확인하기"
   ]
  },
  {
   "cell_type": "code",
   "execution_count": 30,
   "id": "8748035a-6112-43aa-bab7-c9139f505643",
   "metadata": {},
   "outputs": [],
   "source": [
    "a = 1\n",
    "b = \"2\""
   ]
  },
  {
   "cell_type": "code",
   "execution_count": 2,
   "id": "f7eca10c-5bff-40df-82d0-5544976098ed",
   "metadata": {},
   "outputs": [
    {
     "ename": "TypeError",
     "evalue": "unsupported operand type(s) for +: 'int' and 'str'",
     "output_type": "error",
     "traceback": [
      "\u001b[1;31m---------------------------------------------------------------------------\u001b[0m",
      "\u001b[1;31mTypeError\u001b[0m                                 Traceback (most recent call last)",
      "Cell \u001b[1;32mIn[2], line 1\u001b[0m\n\u001b[1;32m----> 1\u001b[0m \u001b[43ma\u001b[49m\u001b[43m \u001b[49m\u001b[38;5;241;43m+\u001b[39;49m\u001b[43m \u001b[49m\u001b[43mb\u001b[49m\n",
      "\u001b[1;31mTypeError\u001b[0m: unsupported operand type(s) for +: 'int' and 'str'"
     ]
    }
   ],
   "source": [
    "a + b"
   ]
  },
  {
   "cell_type": "code",
   "execution_count": 31,
   "id": "90f7c962-5067-4ef9-8788-d1ba9455e510",
   "metadata": {},
   "outputs": [
    {
     "data": {
      "text/plain": [
       "(int, str)"
      ]
     },
     "execution_count": 31,
     "metadata": {},
     "output_type": "execute_result"
    }
   ],
   "source": [
    "### 타입확인하는 함수 : tpye(값)\n",
    "type(a), type(b)"
   ]
  },
  {
   "cell_type": "code",
   "execution_count": 32,
   "id": "67ff9443-436d-454d-a950-9e69e2d45d12",
   "metadata": {},
   "outputs": [],
   "source": [
    "### 타입 변환하기 (형변환 이라고 합니다.)\n",
    "c = int(b)"
   ]
  },
  {
   "cell_type": "code",
   "execution_count": 33,
   "id": "30c6e1a2-3758-4d8f-a30d-08420ef44efb",
   "metadata": {},
   "outputs": [
    {
     "data": {
      "text/plain": [
       "int"
      ]
     },
     "execution_count": 33,
     "metadata": {},
     "output_type": "execute_result"
    }
   ],
   "source": [
    "type(c)"
   ]
  },
  {
   "cell_type": "code",
   "execution_count": 34,
   "id": "b731f1e9-888d-4d75-8d73-f15b259e80d5",
   "metadata": {},
   "outputs": [
    {
     "data": {
      "text/plain": [
       "3"
      ]
     },
     "execution_count": 34,
     "metadata": {},
     "output_type": "execute_result"
    }
   ],
   "source": [
    "a + c"
   ]
  },
  {
   "cell_type": "code",
   "execution_count": 35,
   "id": "7922ecfe-8413-4125-9427-63c8f8bddde4",
   "metadata": {},
   "outputs": [
    {
     "data": {
      "text/plain": [
       "3"
      ]
     },
     "execution_count": 35,
     "metadata": {},
     "output_type": "execute_result"
    }
   ],
   "source": [
    "a + int(b)"
   ]
  },
  {
   "cell_type": "code",
   "execution_count": 36,
   "id": "0fc6d13d-343c-41c0-a6ba-e93ed557a19c",
   "metadata": {},
   "outputs": [
    {
     "data": {
      "text/plain": [
       "'12'"
      ]
     },
     "execution_count": 36,
     "metadata": {},
     "output_type": "execute_result"
    }
   ],
   "source": [
    "str(a) + b"
   ]
  },
  {
   "cell_type": "code",
   "execution_count": null,
   "id": "dc79142d-05f2-4f77-b300-1e1081f4a28d",
   "metadata": {},
   "outputs": [],
   "source": [
    "### 변수명 규칙\n",
    "# - 변수명은 영문과 특수문자, 숫자 등의 조합으로 만듭니다.\n",
    "# - 가급적 영문명으로\n",
    "# - 필요시 특수문자를 사용하여 영문명 연결하여 사용(abc_ddd)\n",
    "# - 숫자는 변수명의 뒤에 사용 (abc_111)\n",
    "#   (숫자로 변수명 시작 못함)\n",
    "# - **제일 중요 : 변수명은 값이 아님(임의로 변수명을 갑처럼 만들어 낼 수 없음)"
   ]
  },
  {
   "cell_type": "code",
   "execution_count": null,
   "id": "90caeb57-da3f-4f9a-b829-968cfe6fd666",
   "metadata": {},
   "outputs": [],
   "source": []
  },
  {
   "cell_type": "markdown",
   "id": "b7be94c7-e869-466f-8550-710e7577ada0",
   "metadata": {},
   "source": [
    "## 산술연산자"
   ]
  },
  {
   "cell_type": "code",
   "execution_count": null,
   "id": "6b7a0fff-6353-4201-935d-031736a10953",
   "metadata": {},
   "outputs": [],
   "source": [
    "\"\"\"\n",
    " * 보통 숫자를 이용한 연산을 수행합니다.\n",
    "     - 간혹, 문자열간의 더하기(+) 또는 곱하기(*) 연산을 수행하는 경우도 있음\n",
    " * 연산자 기호 : +, -, *, /, %, //, **, ++, --\n",
    "              : 주로 사용하는 연산 기호는 +, -, *, /, %, ++\n",
    " * % : 나눈 나머지의 값 (홀/짝 체크할 때 주로 사용)\n",
    " * // : 나눈 목의 값\n",
    " * ** : 거듭제곱(^)\n",
    " \"\"\""
   ]
  },
  {
   "cell_type": "code",
   "execution_count": 37,
   "id": "cdcf2c39-ecac-4f0e-8b08-1aa6e5fa80b0",
   "metadata": {},
   "outputs": [],
   "source": [
    "### 짝수 홀수 출력하기\n",
    "# - 아래 a의 값이 짝수이면 \"짝수 입니다.\" 출력\n",
    "#                홀수이면 \"홀수 입니다.\" 출력\n",
    "a = 10"
   ]
  },
  {
   "cell_type": "code",
   "execution_count": 38,
   "id": "55407160-edcf-4b5f-a038-293da2360668",
   "metadata": {},
   "outputs": [
    {
     "name": "stdout",
     "output_type": "stream",
     "text": [
      "짝수 입니다\n"
     ]
    }
   ],
   "source": [
    "if (a % 2) == 0 : \n",
    "    print(\"짝수 입니다\")\n",
    "else:\n",
    "    print(\"홀수 입니다\")"
   ]
  },
  {
   "cell_type": "code",
   "execution_count": 27,
   "id": "373c2a02-3966-4417-9d6c-3d7fd47bc87f",
   "metadata": {},
   "outputs": [
    {
     "data": {
      "text/plain": [
       "'abc'"
      ]
     },
     "execution_count": 27,
     "metadata": {},
     "output_type": "execute_result"
    }
   ],
   "source": [
    "### 문자열 연산자\n",
    "a_str = \"abc\"\n",
    "a_str"
   ]
  },
  {
   "cell_type": "code",
   "execution_count": 39,
   "id": "a41e6d86-5416-44ae-8673-1b8ae935bb0a",
   "metadata": {},
   "outputs": [
    {
     "data": {
      "text/plain": [
       "'abcabc'"
      ]
     },
     "execution_count": 39,
     "metadata": {},
     "output_type": "execute_result"
    }
   ],
   "source": [
    "a_str + a_str"
   ]
  },
  {
   "cell_type": "code",
   "execution_count": 40,
   "id": "2847e0c2-5b57-4ff0-ac3a-999796697fa8",
   "metadata": {},
   "outputs": [
    {
     "data": {
      "text/plain": [
       "'abcabcabcabcabcabcabcabcabcabc'"
      ]
     },
     "execution_count": 40,
     "metadata": {},
     "output_type": "execute_result"
    }
   ],
   "source": [
    "### abc라는 문자열을 연속해서 10번 반복되게 출력해보시오.\n",
    "a_str + a_str + a_str + a_str + a_str + a_str + a_str + a_str + a_str + a_str"
   ]
  },
  {
   "cell_type": "code",
   "execution_count": 48,
   "id": "5976a685-e296-44f2-8df2-c22d9884dedd",
   "metadata": {},
   "outputs": [
    {
     "data": {
      "text/plain": [
       "'abcabcabcabcabcabcabcabcabcabc'"
      ]
     },
     "execution_count": 48,
     "metadata": {},
     "output_type": "execute_result"
    }
   ],
   "source": [
    "a_str * 10"
   ]
  },
  {
   "cell_type": "code",
   "execution_count": null,
   "id": "d948d3bb-341b-4eb5-86ea-735c095ab26b",
   "metadata": {},
   "outputs": [],
   "source": []
  },
  {
   "cell_type": "markdown",
   "id": "ed2be5e8-62d5-426b-99f7-01dc30a9277a",
   "metadata": {},
   "source": [
    "## 조건문"
   ]
  },
  {
   "cell_type": "code",
   "execution_count": null,
   "id": "95488d28-8ecc-4f95-8e15-bbd706c4d1a4",
   "metadata": {},
   "outputs": [],
   "source": [
    "\"\"\"\n",
    "* 임의 변수명(age)에 50이라는 값을 저장해 둘거에요.\n",
    "    - age변수명의 의미는 나이를 의미합니다.\n",
    "    - 임의 변수명에 있는 값이 20세 미만이면 \"청소년 입니다\" 출력\n",
    "    -                       20세 이상이면서 60세 이하면 \"일반인 입니다\" 출력\n",
    "    -                       60세를 초과하면 \"실버 입니다\" 출력\n",
    "    - 위 조건을 만족하는 문장(코드)을 작성해 주세요.\n",
    "\"\"\""
   ]
  },
  {
   "cell_type": "code",
   "execution_count": 54,
   "id": "27d5c99e-2b09-4eff-a6bc-4893ff0d46d8",
   "metadata": {},
   "outputs": [],
   "source": [
    "age = 50"
   ]
  },
  {
   "cell_type": "code",
   "execution_count": 57,
   "id": "583db45f-544c-407c-9de8-8c4b9ae18357",
   "metadata": {},
   "outputs": [
    {
     "name": "stdout",
     "output_type": "stream",
     "text": [
      "일반인 입니다.\n"
     ]
    }
   ],
   "source": [
    "if age < 20 :\n",
    "    print(\"청소년 입니다.\")\n",
    "elif (age >= 20) and (age <= 60) :\n",
    "    print(\"일반인 입니다.\")\n",
    "else :\n",
    "    print(\"실버 입니다.\")"
   ]
  },
  {
   "cell_type": "code",
   "execution_count": 59,
   "id": "a2193500-20a2-4f6e-8a6f-f80eafedd2b6",
   "metadata": {},
   "outputs": [
    {
     "name": "stdout",
     "output_type": "stream",
     "text": [
      "일반인 입니다.\n"
     ]
    }
   ],
   "source": [
    "if age < 20 :\n",
    "    print(\"청소년 입니다.\")\n",
    "elif age <= 60 :\n",
    "    print(\"일반인 입니다.\")\n",
    "else :\n",
    "    print(\"실버 입니다.\")"
   ]
  },
  {
   "cell_type": "code",
   "execution_count": null,
   "id": "765d71fd-a1e4-4834-8a74-d82d614a2b5b",
   "metadata": {},
   "outputs": [],
   "source": [
    "### 위 문제를 그대로 사용해서 출력결과만 처리하기\n",
    "# - 임의 변수명에 있는 값이 20세 미만이면 \"00살 청소년 입니다\" 출력\n",
    "# -                       20세 이상이면서 60세 이하면 \"00살 일반인 입니다\" 출력\n",
    "# -                       60세를 초과하면 \"00살 실버 입니다\" 출력\n",
    "# - 00살은 -> 변수에 저장된 값을 사용"
   ]
  },
  {
   "cell_type": "code",
   "execution_count": 70,
   "id": "7fede0a6-4c43-43bf-b28d-99666d32898d",
   "metadata": {},
   "outputs": [
    {
     "name": "stdout",
     "output_type": "stream",
     "text": [
      "50 살 일반인 입니다.\n",
      "50살 일반인 입니다.\n",
      "5060살 일반인 입니다.\n",
      "50살 일반인 입니다.\n"
     ]
    }
   ],
   "source": [
    "### format(포맷) : 문자열 함수\n",
    "# - 문자열에 변수의 값을 포함하여 사용하고자 할 때 유용함\n",
    "\n",
    "if age < 20 :\n",
    "    print(f\"{age}살 청소년 입니다.\")\n",
    "elif age <= 60 :\n",
    "    print(age, \"살 일반인 입니다.\")\n",
    "    print(\"{}살 일반인 입니다.\".format(age))\n",
    "    print(\"{0}{1}살 일반인 입니다.\".format(age, 60))\n",
    "    ### 주로 아래 방법을 사용함(편리함)\n",
    "    print(f\"{age}살 일반인 입니다.\")\n",
    "else :\n",
    "    print(f\"{age}살 실버 입니다.\")"
   ]
  },
  {
   "cell_type": "code",
   "execution_count": null,
   "id": "8f6a3f83-286c-40c7-a1f0-10ef6686d600",
   "metadata": {},
   "outputs": [],
   "source": [
    "### 위의 문제 조건은 그대로 사용\n",
    "# - 출력은 if문이 완전히 종료된 후 print() 사용하여 출력하기\n",
    "\n",
    "# - 출력 결과를 담을 변수를 하나 생성하여 조건에 맞는출력 결과를 저장해서\n",
    "#   if문이 완전히 종료 된 후 결과를 출력시키기"
   ]
  },
  {
   "cell_type": "code",
   "execution_count": 85,
   "id": "97658260-c605-4790-a043-8b5bb8a24641",
   "metadata": {},
   "outputs": [
    {
     "name": "stdout",
     "output_type": "stream",
     "text": [
      "50살 일반인 입니다.\n"
     ]
    }
   ],
   "source": [
    "age = 50\n",
    "message = \"\"\n",
    "\n",
    "if age < 20 :\n",
    "    message = f\"{age}살 청소년 입니다.\"\n",
    "elif age <= 60 :\n",
    "    message = f\"{age}살 일반인 입니다.\"\n",
    "else:\n",
    "    message = f\"{age}살 실버 입니다.\"\n",
    "    \n",
    "print(message)"
   ]
  },
  {
   "cell_type": "code",
   "execution_count": 87,
   "id": "5a9a834a-f6d7-40f9-bb79-a28a1a7f263e",
   "metadata": {},
   "outputs": [
    {
     "name": "stdout",
     "output_type": "stream",
     "text": [
      "50살 일반인 입니다.\n"
     ]
    }
   ],
   "source": [
    "age = 50\n",
    "message = \"\"\n",
    "\n",
    "if age < 20 :\n",
    "    message = f\"청소년 입니다.\"\n",
    "elif age <= 60 :\n",
    "    message = f\"일반인 입니다.\"\n",
    "else:\n",
    "    message = f\"실버 입니다.\"\n",
    "    \n",
    "print(f\"{age}살 {message}\")"
   ]
  },
  {
   "cell_type": "code",
   "execution_count": null,
   "id": "239eef40-8248-4046-abd3-8da88fc16135",
   "metadata": {},
   "outputs": [],
   "source": []
  },
  {
   "cell_type": "code",
   "execution_count": null,
   "id": "e7455e09-9553-4354-a75e-0648ee19ca7d",
   "metadata": {},
   "outputs": [],
   "source": []
  },
  {
   "cell_type": "code",
   "execution_count": null,
   "id": "8b83cd58-684d-4836-aba3-3c7db51c3eae",
   "metadata": {},
   "outputs": [],
   "source": []
  },
  {
   "cell_type": "code",
   "execution_count": null,
   "id": "74e2f90c-e43c-4a5c-8a0a-dd39429ba7dc",
   "metadata": {},
   "outputs": [],
   "source": []
  },
  {
   "cell_type": "code",
   "execution_count": null,
   "id": "6719eadc-5e1b-4937-9ec5-1f8fbe6121a4",
   "metadata": {},
   "outputs": [],
   "source": []
  }
 ],
 "metadata": {
  "kernelspec": {
   "display_name": "pk_base_202503_kernel",
   "language": "python",
   "name": "pk_base_202503"
  },
  "language_info": {
   "codemirror_mode": {
    "name": "ipython",
    "version": 3
   },
   "file_extension": ".py",
   "mimetype": "text/x-python",
   "name": "python",
   "nbconvert_exporter": "python",
   "pygments_lexer": "ipython3",
   "version": "3.9.21"
  }
 },
 "nbformat": 4,
 "nbformat_minor": 5
}
