{
 "cells": [
  {
   "cell_type": "code",
   "execution_count": 1,
   "id": "319ef4a9-df42-4cde-882e-8210f00a6071",
   "metadata": {},
   "outputs": [
    {
     "data": {
      "text/plain": [
       "'\\n<KNN 모델의 한계를 극복한 모델들(회귀 및 분류 공통)>\\n *** 지도학습 기반에서 회귀 및 분류분석 기준 모델들..(군집분석은 제외)\\n   - 보통 현업에서는 앙상블 모델의 랜덤포레스트부터 모델을 훈련시켜봅니다.\\n     -> 앙상블모데들로만 확인 후 비교 선정하는 추세입니다.\\n     -> 회귀분석의 경우에만, 릿지, 라쏘를 함께 훈련시켜서 비교 선정 합니다.\\n \\n * 회귀분석 모델\\n   - 선형회귀모델(선형회귀모델, 다항회귀모델, 다중회귀모델) -> 1개모델에서 처리됨\\n   - 릿지, 라쏘\\n   - 의사결정나무(트리모델), 로지스틱레그레이션모델\\n   - 앙상블모델(랜덤포레스트, 엑스트라트리, 그레디언트부스트, 히스토그램그래디언트부스트, 엑스지부스트... 기타 등등)\\n\\n * 분류분석 모델\\n   - 의사결정나무(트리모델)\\n   - 앙상블모델(랜덤포레스트, 엑스트라트리, 그레디언트부스트, 히스토그램그래디언트부스트, 엑스지부스트... 기타 등등)\\n'"
      ]
     },
     "execution_count": 1,
     "metadata": {},
     "output_type": "execute_result"
    }
   ],
   "source": [
    "\"\"\"\n",
    "<KNN 모델의 한계를 극복한 모델들(회귀 및 분류 공통)>\n",
    " *** 지도학습 기반에서 회귀 및 분류분석 기준 모델들..(군집분석은 제외)\n",
    "   - 보통 현업에서는 앙상블 모델의 랜덤포레스트부터 모델을 훈련시켜봅니다.\n",
    "     -> 앙상블모데들로만 확인 후 비교 선정하는 추세입니다.\n",
    "     -> 회귀분석의 경우에만, 릿지, 라쏘를 함께 훈련시켜서 비교 선정 합니다.\n",
    " \n",
    " * 회귀분석 모델\n",
    "   - 선형회귀모델(선형회귀모델, 다항회귀모델, 다중회귀모델) -> 1개모델에서 처리됨\n",
    "   - 릿지, 라쏘\n",
    "   - 의사결정나무(트리모델), 로지스틱레그레이션모델\n",
    "   - 앙상블모델(랜덤포레스트, 엑스트라트리, 그레디언트부스트, 히스토그램그래디언트부스트, 엑스지부스트... 기타 등등)\n",
    "\n",
    " * 분류분석 모델\n",
    "   - 의사결정나무(트리모델)\n",
    "   - 앙상블모델(랜덤포레스트, 엑스트라트리, 그레디언트부스트, 히스토그램그래디언트부스트, 엑스지부스트... 기타 등등)\n",
    "\"\"\""
   ]
  },
  {
   "cell_type": "markdown",
   "id": "2d95e495-cec3-41eb-b075-0d6ab287dee8",
   "metadata": {},
   "source": [
    "### 선형회귀모델(Linear Regression Model)"
   ]
  },
  {
   "cell_type": "code",
   "execution_count": 2,
   "id": "94b71070-f166-4f3f-a052-598329a66e60",
   "metadata": {},
   "outputs": [
    {
     "data": {
      "text/plain": [
       "'\\n<특징>\\n - 가장 널리 사용되었던 대표적인 모델임(현재도 일부 현업에서는 선호함)\\n - 비교적 간단하며, 성능이 뛰어나기 때문에 회귀모델 수행 시 가장 처음에 비교모델로 사용되기도 함\\n - 선형회귀 모델: 일반적으로 직선을 의미함(곡선은 다항회귀모델이라 칭함)\\n - (직선)선형회귀모델: 독립변수(특성)이 한개인 경우에 사용됨(일반적으로 선형회귀모델이라 칭함)\\n - (곡선)선형회귀모델: 독립변수(특성)이 두개인 경우에 사용됨(다항회귀모델)\\n - (자유곡선)선형회귀모델: 독립변수(특성)이 3개 이상인 경우에 사용됨(다중회귀모델)\\n - 선형회귀모델의 라이브러리는 1개만 사용되며, 선형/다항/다중은 모델이 판단함\\n   (데이터를 넣어주기만 하면 됨)\\n\\n<사용라이브러리>\\n - 패키지: sklearn.linear_model\\n - 모델(클래스): LinearRegression (선형/다항/다중 공통으로 사용됨)\\n\\n<훈련 절차(회귀 및 분류 공통)>\\n - 데이터수집 > 데이터전처리 및 탐색(차원처리, 분리, 스케일링) \\n   > 데이터가공(특성이 추가될 경우 추가) > 훈련모델생성 > 훈련시키기\\n   > 훈련 & 테스트 정확도(결정계수) 확인 > 과적합여부 확인 > 튜닝이 필요한 경우 튜닝 \\n   > 예측 > 예측결과로 평가하기 > 최종해석\\n'"
      ]
     },
     "execution_count": 2,
     "metadata": {},
     "output_type": "execute_result"
    }
   ],
   "source": [
    "\"\"\"\n",
    "<특징>\n",
    " - 가장 널리 사용되었던 대표적인 모델임(현재도 일부 현업에서는 선호함)\n",
    " - 비교적 간단하며, 성능이 뛰어나기 때문에 회귀모델 수행 시 가장 처음에 비교모델로 사용되기도 함\n",
    " - 선형회귀 모델: 일반적으로 직선을 의미함(곡선은 다항회귀모델이라 칭함)\n",
    " - (직선)선형회귀모델: 독립변수(특성)이 한개인 경우에 사용됨(일반적으로 선형회귀모델이라 칭함)\n",
    " - (곡선)선형회귀모델: 독립변수(특성)이 두개인 경우에 사용됨(다항회귀모델)\n",
    " - (자유곡선)선형회귀모델: 독립변수(특성)이 3개 이상인 경우에 사용됨(다중회귀모델)\n",
    " - 선형회귀모델의 라이브러리는 1개만 사용되며, 선형/다항/다중은 모델이 판단함\n",
    "   (데이터를 넣어주기만 하면 됨)\n",
    "\n",
    "<사용라이브러리>\n",
    " - 패키지: sklearn.linear_model\n",
    " - 모델(클래스): LinearRegression (선형/다항/다중 공통으로 사용됨)\n",
    "\n",
    "<훈련 절차(회귀 및 분류 공통)>\n",
    " - 데이터수집 > 데이터전처리 및 탐색(차원처리, 분리, 스케일링) \n",
    "   > 데이터가공(특성이 추가될 경우 추가) > 훈련모델생성 > 훈련시키기\n",
    "   > 훈련 & 테스트 정확도(결정계수) 확인 > 과적합여부 확인 > 튜닝이 필요한 경우 튜닝 \n",
    "   > 예측 > 예측결과로 평가하기 > 최종해석\n",
    "\"\"\""
   ]
  },
  {
   "cell_type": "code",
   "execution_count": 3,
   "id": "0dc0cfaa-3097-48e5-b8f2-2e3e2e42089f",
   "metadata": {},
   "outputs": [],
   "source": [
    "### Machine Running library install\n",
    "from sklearn.neighbors import KNeighborsRegressor\n",
    "\n",
    "### 선형회귀모델 라이브러리 정의\n",
    "from sklearn.linear_model import LinearRegression\n",
    "\n",
    "### visualization library\n",
    "import matplotlib.pyplot as plt\n",
    "\n",
    "# Definition of the NumPy library\n",
    "import numpy as np\n",
    "\n",
    "### Definition of Library (Preprocessing Library)\n",
    "from sklearn.model_selection import train_test_split\n",
    "\n",
    "plt.rc(\"font\", family=\"Malgun Gothic\")\n",
    "\n",
    "plt.rcParams[\"axes.unicode_minus\"] = False"
   ]
  },
  {
   "cell_type": "markdown",
   "id": "73c21e87-d509-48cd-86dd-0b3c3f66564d",
   "metadata": {},
   "source": [
    "### 사용할 데이터"
   ]
  },
  {
   "cell_type": "code",
   "execution_count": 4,
   "id": "829360f3-9a05-46a6-a611-7b3d5ae57e5a",
   "metadata": {},
   "outputs": [
    {
     "data": {
      "text/plain": [
       "((56,), (56,))"
      ]
     },
     "execution_count": 4,
     "metadata": {},
     "output_type": "execute_result"
    }
   ],
   "source": [
    "### 앞에서 사용한 농어의 길이와 무게 사용\n",
    "perch_length = np.array(\n",
    "    [8.4, 13.7, 15.0, 16.2, 17.4, 18.0, 18.7, 19.0, 19.6, 20.0, \n",
    "     21.0, 21.0, 21.0, 21.3, 22.0, 22.0, 22.0, 22.0, 22.0, 22.5, \n",
    "     22.5, 22.7, 23.0, 23.5, 24.0, 24.0, 24.6, 25.0, 25.6, 26.5, \n",
    "     27.3, 27.5, 27.5, 27.5, 28.0, 28.7, 30.0, 32.8, 34.5, 35.0, \n",
    "     36.5, 36.0, 37.0, 37.0, 39.0, 39.0, 39.0, 40.0, 40.0, 40.0, \n",
    "     40.0, 42.0, 43.0, 43.0, 43.5, 44.0]\n",
    "     )\n",
    "perch_weight = np.array(\n",
    "    [5.9, 32.0, 40.0, 51.5, 70.0, 100.0, 78.0, 80.0, 85.0, 85.0, \n",
    "     110.0, 115.0, 125.0, 130.0, 120.0, 120.0, 130.0, 135.0, 110.0, \n",
    "     130.0, 150.0, 145.0, 150.0, 170.0, 225.0, 145.0, 188.0, 180.0, \n",
    "     197.0, 218.0, 300.0, 260.0, 265.0, 250.0, 250.0, 300.0, 320.0, \n",
    "     514.0, 556.0, 840.0, 685.0, 700.0, 700.0, 690.0, 900.0, 650.0, \n",
    "     820.0, 850.0, 900.0, 1015.0, 820.0, 1100.0, 1000.0, 1100.0, \n",
    "     1000.0, 1000.0]\n",
    "     )\n",
    "\n",
    "perch_length.shape, perch_weight.shape"
   ]
  },
  {
   "cell_type": "code",
   "execution_count": 5,
   "id": "21855e29-72df-4b84-b47d-0b2db7c2f407",
   "metadata": {},
   "outputs": [
    {
     "name": "stdout",
     "output_type": "stream",
     "text": [
      "(42,) (42,)\n",
      "(14,) (14,)\n"
     ]
    }
   ],
   "source": [
    "### 훈련: 테스트 = 75% : 25% 로 분리하기\n",
    "# 변수명: 기존과 동일\n",
    "train_input, test_input, train_target, test_target = train_test_split(perch_length, perch_weight, test_size=0.25, random_state=42)\n",
    "\n",
    "### 독립변수와 종속변수 차원 및 갯수 확인(필수~)\n",
    "# - 독립변수가 1차원 ~~> 2차원으로 변환 필요\n",
    "print(train_input.shape, train_target.shape)\n",
    "print(test_input.shape, test_target.shape)"
   ]
  },
  {
   "cell_type": "code",
   "execution_count": 6,
   "id": "9bf00fc0-5b00-4b75-8525-26dbd8f792c5",
   "metadata": {},
   "outputs": [
    {
     "name": "stdout",
     "output_type": "stream",
     "text": [
      "(42, 1) (42,)\n",
      "(14, 1) (14,)\n"
     ]
    }
   ],
   "source": [
    "### 훈련 및 테스트 독립변수의 차원을 2차원으로 만들기\n",
    "train_input = train_input.reshape(-1, 1)\n",
    "test_input = test_input.reshape(-1, 1)\n",
    "\n",
    "print(train_input.shape, train_target.shape)\n",
    "print(test_input.shape, test_target.shape)"
   ]
  },
  {
   "cell_type": "markdown",
   "id": "72029d6b-988b-404a-a377-d152e90f7642",
   "metadata": {},
   "source": [
    "### 모델 훈련하기"
   ]
  },
  {
   "cell_type": "code",
   "execution_count": 7,
   "id": "11b63cab-68b1-46ac-940d-7eba4b6059f3",
   "metadata": {},
   "outputs": [
    {
     "name": "stdout",
     "output_type": "stream",
     "text": [
      "훈련 결정계수: 0.9398463339976041 \n",
      "테스트 결정계수: 0.824750312331356 \n",
      "훈련-테스트: 0.1150960216662481\n"
     ]
    }
   ],
   "source": [
    "### 1. 선형회귀 모델 생성하기\n",
    "lr = LinearRegression()\n",
    "\n",
    "### 2. 모델 훈련시키기\n",
    "lr.fit(train_input, train_target)\n",
    "\n",
    "### 3. 훈련 및 테스트 독립변수로 정확도(결정계수) 확인하기\n",
    "train_score = lr.score(train_input, train_target)\n",
    "test_score = lr.score(test_input, test_target)\n",
    "print(f\"훈련 결정계수: {train_score} \\n테스트 결정계수: {test_score} \\n훈련-테스트: {train_score-test_score}\")\n",
    "\n",
    "### 4. 과적합여부 해석하기\n",
    "# - 훈련정확도는 테스트정확도에 비하여 다소 높게 나왔으며, \n",
    "#   과대적합이 발생하고 있는 것으로 판단됨"
   ]
  },
  {
   "cell_type": "code",
   "execution_count": 8,
   "id": "dfa06380-7d89-447f-8032-548e072e0045",
   "metadata": {},
   "outputs": [
    {
     "data": {
      "text/plain": [
       "array([1241.83860323])"
      ]
     },
     "execution_count": 8,
     "metadata": {},
     "output_type": "execute_result"
    }
   ],
   "source": [
    "### 임의 길이 50cm로 예측하기\n",
    "# - 변수명: pred\n",
    "pred = lr.predict([[50]])\n",
    "pred"
   ]
  },
  {
   "cell_type": "code",
   "execution_count": 9,
   "id": "b116ef81-29c3-4869-ae9a-2c43bb7c6ba0",
   "metadata": {},
   "outputs": [
    {
     "name": "stdout",
     "output_type": "stream",
     "text": [
      "기울기 a = [39.01714496]\n",
      "y절편 b = -709.0186449535474\n"
     ]
    }
   ],
   "source": [
    "### 선형모델이 찾아낸 기울기와 절편 확인하기\n",
    "# - 기울기\n",
    "a = lr.coef_\n",
    "print(f\"기울기 a = {a}\")\n",
    "\n",
    "# - y절편\n",
    "b = lr.intercept_\n",
    "print(f\"y절편 b = {b}\")"
   ]
  },
  {
   "cell_type": "markdown",
   "id": "f704af54-2dcd-455f-87dc-3aba92b4836f",
   "metadata": {},
   "source": [
    "### 훈련, 임의데이터, 추세선 그리기"
   ]
  },
  {
   "cell_type": "code",
   "execution_count": 11,
   "id": "f778c3e3-bccb-4c12-b49f-e2e393eeda3f",
   "metadata": {},
   "outputs": [
    {
     "data": {
      "text/plain": [
       "<function matplotlib.pyplot.show(close=None, block=None)>"
      ]
     },
     "execution_count": 11,
     "metadata": {},
     "output_type": "execute_result"
    },
    {
     "data": {
      "image/png": "[encoded data removed]",
      "text/plain": [
       "<Figure size 640x480 with 1 Axes>"
      ]
     },
     "metadata": {},
     "output_type": "display_data"
    }
   ],
   "source": [
    "### 훈련 독립변수 및 종속변수로 산점도 그리기\n",
    "# - 임의 데이터 길이 및 예측 무게로 산점도 그리기\n",
    "# - 추세선 그리기\n",
    "plt.title(\"훈련데이터, 임의데이터 50길이, 추세선 그리기\")\n",
    "\n",
    "### 훈련 데이터 시각화\n",
    "plt.scatter(train_input, train_target, c=\"red\", label=\"training\")\n",
    "\n",
    "### 임의 데이터 50길이 시각화\n",
    "plt.scatter(50, pred[0], c=\"green\", label=\"prediction\")\n",
    "\n",
    "### 추세선(예측 기준선)\n",
    "# - 모델이 알아낸 기울기와 절편으로 직선 그리기\n",
    "# - 사용할 x값 = 15, 50 사용\n",
    "# - 사용할 y값 = ax + b = 기울기 * x값 + 절편\n",
    "x_values=np.array([15, 50])\n",
    "y_values=a*x_values+b\n",
    "plt.plot(x_values, y_values, color=\"blue\", label=\"line\", alpha=0.4)\n",
    "\n",
    "plt.xlabel(\"길이\")\n",
    "plt.ylabel(\"무게\")\n",
    "plt.legend()\n",
    "plt.grid(linestyle=\"--\")\n",
    "plt.show\n",
    "\n",
    "###(해석)\n",
    "# - 추세선에 가까운 데이터들이 많을수록 예측 결과가 좋은 모델이 됩니다.\n",
    "# - 추세선에서 떨어진 거리가 \"오차평균\" 입니다.\n",
    "# - 예측값이 추세선에 닿아 있으면, 예측이 잘된 것입니다.\n",
    "\n",
    "# - 단, y절편 값이 음수(-)인 경우에는 예측하고자 하는 값의 특성을 고려하여 판단해야 합니다.\n",
    "#  -> 즉, 예측하고자하는 무게의 성격은 음수(-)값이 나오면 안됩니다.(무게이기 때문에)\n",
    "\n",
    "# - (결론)\n",
    "#  - 추세선의 y절편이 음수(-)인 경우에는 음수값을 예측할 수 있는 모델이 되기에\n",
    "#  - 길이를 이용하여 무게를 예측하는 모델로는 \"직선의 선형모델은 부적합한것\"으로 판단됨\n",
    "\n",
    "# - (해결 방법)\n",
    "# - 데이터의 분포를 다시한번 확인하여 다른 방법을 모색\n",
    "# - 데이터의 산점도를 볼 때 좌하향의 산점도 분포가 곡선을 나타내고 있음\n",
    "# - 따라서, 모델이 곡선의 방정식을 적용할 수 있도록, 특성을 2개 만들어서 새로 훈련 시키기\n",
    "#  -> 곡선의 방정식 = ax^2 + bx + c\n",
    "#   => 특성 2개: x, x^2"
   ]
  },
  {
   "cell_type": "code",
   "execution_count": null,
   "id": "740e38f8-6ccf-49f5-b3b4-5fe6d90a15e2",
   "metadata": {},
   "outputs": [],
   "source": [
    "### 모델이 추출한 y절편값까지 추세선 그리기\n",
    "\n",
    "### 훈련 독립변수 및 종속변수로 산점도 그리기\n",
    "# - 임의 데이터 길이 및 예측 무게로 산점도 그리기\n",
    "# - 추세선 그리기\n",
    "plt.title(\"훈련데이터, 임의데이터 50길이, 추세선 그리기\")\n",
    "\n",
    "### 훈련 데이터 시각화\n",
    "plt.scatter(train_input, train_target, c=\"red\", label=\"training\")\n",
    "\n",
    "### 임의 데이터 50길이 시각화\n",
    "plt.scatter(50, pred[0], c=\"green\", label=\"prediction\")\n",
    "\n",
    "### 추세선(예측 기준선)\n",
    "# - 모델이 알아낸 기울기와 절편으로 직선 그리기\n",
    "# - 사용할 x값 = 15, 50 사용\n",
    "# - 사용할 y값 = ax + b = 기울기 * x값 + 절편\n",
    "x_values=np.array([0, 50])\n",
    "y_values=a*x_value+b\n",
    "plt.plot(x_values, y_values, color=\"blue\", label=\"line\", alpha=0.4)\n",
    "\n",
    "plt.xlabel(\"길이\")\n",
    "plt.ylabel(\"무게\")\n",
    "plt.legend()\n",
    "plt.grid(linestyle=\"--\")\n",
    "plt.show\n"
   ]
  },
  {
   "cell_type": "markdown",
   "id": "de654b58-b2ad-46f1-a1ec-f1a07dd141fd",
   "metadata": {},
   "source": [
    "### (곡선) 다항회귀모델로 적용하기"
   ]
  },
  {
   "cell_type": "code",
   "execution_count": null,
   "id": "0d5dae43-ceb4-490c-b02b-359a9f19bf25",
   "metadata": {},
   "outputs": [],
   "source": [
    "\"\"\"\n",
    "<다항회귀모델>\n",
    " - 다항식을 사용하는 선형모델\n",
    " - 산점도의 형태가 곡선을 띄는 경우에 사용\n",
    " - 다항식(y) = ax^2 + bx + c\n",
    " - (a와 b는 기울기, c는 y절편), 다항회귀모델에서는 a, b 계수라고 칭합니다.\n",
    " - 기존 특성 1개의 값을 제곱한 값이 추가로 필요합니다.(특성 2개 사용)\n",
    "\"\"\""
   ]
  },
  {
   "cell_type": "code",
   "execution_count": null,
   "id": "329b0bba-b3ad-41b5-b02f-9dd404ba569b",
   "metadata": {
    "scrolled": true
   },
   "outputs": [],
   "source": [
    "### 제곱값 계산하기\n",
    "# - 제곱한 값과 원래 값을 이용해서 2차원 데이터로 만들기\n",
    "# - 데이터 구성 순서: x^2이 먼저, x는 뒤에 [[x^2, x], [x^2, x]....]\n",
    "# train_input**2\n",
    "\n",
    "### 훈련데이터 제곱한값 추가하기 : 변수명 train_poly\n",
    "train_poly = np.column_stack((train_input**2, train_input))\n",
    "train_poly\n",
    "\n",
    "### 테스트데이터 제곱한값 추가하기 : 변수명 test_poly\n",
    "test_poly = np.column_stack((test_input**2, test_input))\n",
    "train_poly.shape, test_poly.shape"
   ]
  },
  {
   "cell_type": "markdown",
   "id": "323bc91d-a5ac-4f1d-bd7a-3aab76dc3c40",
   "metadata": {},
   "source": [
    "### 다항회귀 선형모델로 훈련하기"
   ]
  },
  {
   "cell_type": "code",
   "execution_count": null,
   "id": "1585dcd8-ce4b-4e86-8b15-fa06182fffbf",
   "metadata": {},
   "outputs": [],
   "source": [
    "### 훈련모델 생성\n",
    "mlr = LinearRegression()\n",
    "\n",
    "### 훈련시키기\n",
    "mlr.fit(train_poly, train_target)\n",
    "\n",
    "### 훈련 및 테스트 정확도 확인하기\n",
    "train_score = mlr.score(train_poly, train_target)\n",
    "test_score = mlr.score(test_poly, test_target)\n",
    "print(f\"훈련 결정계수: {train_score} \\n테스트 결정계수: {test_score} \\n훈련-테스트: {train_score-test_score}\")\n",
    "\n",
    "### 과적합 여부 확인\n",
    "# - 테스트정확도는 훈련정확도에 비하여 미세하게 높게 나왔으며,\n",
    "#   과소적합이 발생하고 있는 것으로 판단됨"
   ]
  },
  {
   "cell_type": "code",
   "execution_count": null,
   "id": "e450edc5-dcc1-4c1b-a4f7-3e0c6d552ff7",
   "metadata": {},
   "outputs": [],
   "source": [
    "### 임의 데이터 길이 50cm로 예측하기\n",
    "pred = mlr.predict([[50**2, 50]])\n",
    "pred"
   ]
  },
  {
   "cell_type": "code",
   "execution_count": null,
   "id": "c3e2b095-c0ab-4a41-a3f3-299f87a18c09",
   "metadata": {},
   "outputs": [],
   "source": [
    "### 모델이 알아낸, 기울기와 절편 확인해 주세요.\n",
    "coef = mlr.coef_\n",
    "a = coef[0]\n",
    "b = coef[1]\n",
    "print(f\"기울기 a = {a}\")\n",
    "print(f\"기울기 b = {b}\")\n",
    "\n",
    "c = mlr.intercept_\n",
    "print(f\"y절편 = {c}\")"
   ]
  },
  {
   "cell_type": "code",
   "execution_count": null,
   "id": "509aaf77-28c6-4ab6-9102-c3b9c8c82682",
   "metadata": {},
   "outputs": [],
   "source": [
    "### 모델이 추출한 y절편값까지 추세선 그리기\n",
    "# --> 곡선의 방정식에 따라, 추세선은 곡선으로 그립니다.\n",
    "\n",
    "### 훈련 독립변수 및 종속변수로 산점도 그리기\n",
    "# - 임의 데이터 길이 및 예측 무게로 산점도 그리기\n",
    "# - 추세선 그리기\n",
    "plt.title(\"훈련데이터, 임의데이터 50길이, 추세선 그리기\")\n",
    "\n",
    "### 훈련 데이터 시각화\n",
    "plt.scatter(train_input, train_target, c=\"red\", label=\"training\")\n",
    "\n",
    "### 임의 데이터 50길이 시각화\n",
    "plt.scatter(50, pred[0], c=\"green\", label=\"prediction\")\n",
    "\n",
    "### 추세선(예측 기준선)\n",
    "# - 모델이 알아낸 기울기와 절편으로 직선 그리기\n",
    "# - 사용할 x값 = 0, 50 사용\n",
    "# - 사용할 y값 = ax^2 + bx + c\n",
    "x_values=np.arange(0, 51)\n",
    "y_values = a * x_values**2 + b * x_values + c\n",
    "plt.plot(x_values, y_values, color=\"blue\", label=\"line\", alpha=0.7)\n",
    "\n",
    "plt.xlabel(\"길이\")\n",
    "plt.ylabel(\"무게\")\n",
    "plt.legend()\n",
    "plt.grid(linestyle=\"--\")\n",
    "plt.show()\n"
   ]
  },
  {
   "cell_type": "code",
   "execution_count": null,
   "id": "c8525174-8341-4014-8902-9e070d33dcb9",
   "metadata": {},
   "outputs": [],
   "source": [
    "### (해석)\n",
    "# - 훈련 및 테스트의 정확도의 결과로 볼 때,\n",
    "# - 미세하지만 과소적합이 발생하였음\n",
    "# - 과소적합인 경우 일반적으로 모델을 사용하지는 않으나,\n",
    "#   매우 미세한 과소적합의 경우에는 사용하는 경우도 있음(일반적 개념으로 해석하면 됨)\n",
    "# - 과소적합을 해소하는 방법을 찾아야 함\n",
    "\n",
    "# <과소적합 해소 방법>\n",
    "#  1. 데이터 양을 늘리기: 현실적으로 수집이 가능한 경우 진행\n",
    "#  2. 하이퍼파라미터 튜닝: 선형회귀모델은 선형방정식으로만 훈련하는 모델로, 하이퍼파라미터 튜닝 대상이 없음 (튜닝 방법은 제외) \n",
    "#  3. 다른 모델 사용\n",
    "#   - 선형회귀모델의 단점은 튜닝이 안된다는 점.\n",
    "#   - 이를 개선하여 나온 모델이 -> 다중회귀모델 임\n",
    "#   - 다중회귀모델은 튜닝의 개념으로 -> \"특성공학\"의 개념을 적용하였음\n",
    "#    -> 특성들의 갯수(양)을 늘리는 방법으로 훈련의 복잡도를 높이는 방식을 사용하였음\n",
    "#    -> 복잡도: 특성의 양을 늘려서, 학습을 어렵게 만듬(좀 더 집중력을 가하게 함)\n",
    "#    -> 특성공학은 행단위 양을 늘리기 어려울 때 주로 사용되는 빅데이터공학 개념 입니다.\n",
    "#   - 다중회귀 모델 공식 = ax1 + bx2 + cx3....nxn + 절편"
   ]
  },
  {
   "cell_type": "code",
   "execution_count": null,
   "id": "b6c503a4-cbad-4d4b-b475-cb187c96a16b",
   "metadata": {},
   "outputs": [],
   "source": []
  },
  {
   "cell_type": "code",
   "execution_count": null,
   "id": "21f8a8e5-195a-4f2b-89d9-03bdb1c76f98",
   "metadata": {},
   "outputs": [],
   "source": []
  },
  {
   "cell_type": "code",
   "execution_count": null,
   "id": "8fe73e51-0375-447d-8e32-fd157f10e503",
   "metadata": {},
   "outputs": [],
   "source": []
  },
  {
   "cell_type": "code",
   "execution_count": null,
   "id": "5f28d7dd-4814-4d8d-a9bc-c1a1f7966e7a",
   "metadata": {},
   "outputs": [],
   "source": []
  },
  {
   "cell_type": "code",
   "execution_count": null,
   "id": "3cd05cd7-8cfd-41fc-96fb-288fdf20351c",
   "metadata": {},
   "outputs": [],
   "source": []
  },
  {
   "cell_type": "code",
   "execution_count": null,
   "id": "2c33a501-d647-4e76-bfe1-8ab8364731d5",
   "metadata": {},
   "outputs": [],
   "source": []
  },
  {
   "cell_type": "code",
   "execution_count": null,
   "id": "3dfd518c-ec27-4d7c-bb73-930d2bf2ee54",
   "metadata": {},
   "outputs": [],
   "source": []
  },
  {
   "cell_type": "code",
   "execution_count": null,
   "id": "2bd2be41-d809-4f9d-a439-1b7fee1e9a7e",
   "metadata": {},
   "outputs": [],
   "source": []
  },
  {
   "cell_type": "code",
   "execution_count": null,
   "id": "e3c17f58-f0ed-40c0-a585-f45c3e573135",
   "metadata": {},
   "outputs": [],
   "source": []
  },
  {
   "cell_type": "code",
   "execution_count": null,
   "id": "87e952a9-66c9-43ef-b81c-463f780e78f1",
   "metadata": {},
   "outputs": [],
   "source": []
  },
  {
   "cell_type": "code",
   "execution_count": null,
   "id": "b7b3b838-3fcc-43a9-9f5b-1ac1eea23a1e",
   "metadata": {},
   "outputs": [],
   "source": []
  },
  {
   "cell_type": "code",
   "execution_count": null,
   "id": "01022e78-61c2-4b5a-b3c4-a845a061008e",
   "metadata": {},
   "outputs": [],
   "source": []
  },
  {
   "cell_type": "code",
   "execution_count": null,
   "id": "2d629748-964e-4d04-ab44-8442a58af6f4",
   "metadata": {},
   "outputs": [],
   "source": []
  }
 ],
 "metadata": {
  "kernelspec": {
   "display_name": "pk_dl_202503_kernel",
   "language": "python",
   "name": "pk_dl_202503"
  },
  "language_info": {
   "codemirror_mode": {
    "name": "ipython",
    "version": 3
   },
   "file_extension": ".py",
   "mimetype": "text/x-python",
   "name": "python",
   "nbconvert_exporter": "python",
   "pygments_lexer": "ipython3",
   "version": "3.9.21"
  }
 },
 "nbformat": 4,
 "nbformat_minor": 5
}
