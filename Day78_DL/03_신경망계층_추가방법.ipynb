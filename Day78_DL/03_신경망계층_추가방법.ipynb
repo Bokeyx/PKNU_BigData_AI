{
 "cells": [
  {
   "cell_type": "code",
   "execution_count": null,
   "id": "31087e21",
   "metadata": {},
   "outputs": [],
   "source": [
    "\"\"\"\n",
    "1. 패션데이터셋 읽어들이기 : 변수는 기존과 동일\n",
    "2. 데이터 스케일링 : 변수는 기존과 동일\n",
    "3. 2차원 데이터로 변경\n",
    "4. 훈련 : 검증 = 8:2로 분리 : 변수는 기존과 동일\n",
    "\"\"\""
   ]
  },
  {
   "cell_type": "code",
   "execution_count": 1,
   "id": "4b7fab24",
   "metadata": {},
   "outputs": [],
   "source": [
    "### 텐서플로우 프레임워크(패키지라고도 칭함)\n",
    "import tensorflow as tf\n",
    "\n",
    "### 케라스 라이브러리 불러들이기\n",
    "from tensorflow import keras\n",
    "\n",
    "### 시각화 라이브러리 불러들이기\n",
    "import matplotlib.pyplot as plt\n",
    "\n",
    "### 넘파이\n",
    "import numpy as np\n",
    "\n",
    "### 훈련 및 테스트 데이터로 분류하는 라이브러리\n",
    "from sklearn.model_selection import train_test_split\n",
    "\n",
    "\n",
    "### 딥러닝 랜덤 규칙 정의하기\n",
    "# - 딥러닝에서의 랜덤 규칙은 항상 일정하게 유지되지는 않음\n",
    "# - 딥러닝 모델 내부에서 훈련을 위한 데이터를 임의로 추출하여 사용(사람이 관여 안함)\n",
    "tf.keras.utils.set_random_seed(42)\n",
    "# tf.config.experimental.enable_op_determinism()"
   ]
  },
  {
   "cell_type": "code",
   "execution_count": 2,
   "id": "11c5ef2c",
   "metadata": {},
   "outputs": [
    {
     "name": "stdout",
     "output_type": "stream",
     "text": [
      "(60000, 28, 28) (60000,)\n",
      "(10000, 28, 28) (10000,)\n"
     ]
    }
   ],
   "source": [
    "(train_input, train_target), (test_input, test_target) = keras.datasets.fashion_mnist.load_data()\n",
    "\n",
    "print(train_input.shape, train_target.shape)\n",
    "print(test_input.shape, test_target.shape)"
   ]
  },
  {
   "cell_type": "code",
   "execution_count": 3,
   "id": "4de62f0a",
   "metadata": {},
   "outputs": [
    {
     "name": "stdout",
     "output_type": "stream",
     "text": [
      "(60000, 28, 28) (60000,)\n",
      "(10000, 28, 28) (10000,)\n"
     ]
    }
   ],
   "source": [
    "train_scaled_255 = train_input / 255.0\n",
    "test_scaled_255  = test_input / 255.0\n",
    "\n",
    "print(train_scaled_255.shape, train_target.shape)\n",
    "print(test_scaled_255.shape, test_target.shape)"
   ]
  },
  {
   "cell_type": "code",
   "execution_count": 4,
   "id": "335badc4",
   "metadata": {},
   "outputs": [
    {
     "name": "stdout",
     "output_type": "stream",
     "text": [
      "(60000, 784) (60000,)\n",
      "(10000, 784) (10000,)\n"
     ]
    }
   ],
   "source": [
    "train_scaled_2d = train_scaled_255.reshape(-1, 28 * 28)\n",
    "test_scaled_2d = test_scaled_255.reshape(-1, 28 * 28)\n",
    "\n",
    "print(train_scaled_2d.shape, train_target.shape)\n",
    "print(test_scaled_2d.shape, test_target.shape)"
   ]
  },
  {
   "cell_type": "code",
   "execution_count": 5,
   "id": "6b003b71",
   "metadata": {},
   "outputs": [
    {
     "name": "stdout",
     "output_type": "stream",
     "text": [
      "(48000, 784) (48000,)\n",
      "(12000, 784) (12000,)\n"
     ]
    }
   ],
   "source": [
    "train_scaled, val_scaled, train_target, val_target = train_test_split(train_scaled_2d, train_target, test_size=0.2, random_state=42)\n",
    "\n",
    "### 훈련 (train_scaled, train_target)\n",
    "print(train_scaled.shape, train_target.shape)\n",
    "### 검증 (val_scaled, val_target)\n",
    "print(val_scaled.shape, val_target.shape)"
   ]
  },
  {
   "cell_type": "markdown",
   "id": "5879a7ad",
   "metadata": {},
   "source": [
    "### 신경망 모델에 계층(Layer) 추가하는 방법(3가지)"
   ]
  },
  {
   "cell_type": "markdown",
   "id": "1486dfbb",
   "metadata": {},
   "source": [
    "##### 1. 계층(Layer)을 먼저 만들고, 신경망 모델 생성 시 추가하는 방법"
   ]
  },
  {
   "cell_type": "code",
   "execution_count": 6,
   "id": "c590b095",
   "metadata": {},
   "outputs": [
    {
     "data": {
      "text/plain": [
       "<keras.layers.core.dense.Dense at 0x23c900a9b20>"
      ]
     },
     "execution_count": 6,
     "metadata": {},
     "output_type": "execute_result"
    }
   ],
   "source": [
    "### 입력계층 생성하기\n",
    "# - 변수명 : dense1\n",
    "# - 활성화 함수 : sigmoid 사용\n",
    "# - 출력 데이터 갯수 : 100개\n",
    "# - 입력 데이터 갯수 : 784개\n",
    "dense1 = keras.layers.Dense(\n",
    "    # 출력갯수\n",
    "    units = 100,\n",
    "    # 활성화 함수\n",
    "    activation = \"sigmoid\",\n",
    "    # 입력 데이터 갯수\n",
    "    input_shape = (784, )\n",
    ")\n",
    "dense1"
   ]
  },
  {
   "cell_type": "code",
   "execution_count": null,
   "id": "05f2a010",
   "metadata": {},
   "outputs": [
    {
     "data": {
      "text/plain": [
       "<keras.layers.core.dense.Dense at 0x23ce6f9d910>"
      ]
     },
     "execution_count": 9,
     "metadata": {},
     "output_type": "execute_result"
    }
   ],
   "source": [
    "### 출력계층 생성하기\n",
    "dense2 = keras.layers.Dense(\n",
    "    units = 10,\n",
    "    activation = \"softmax\",\n",
    ")\n",
    "dense2"
   ]
  },
  {
   "cell_type": "code",
   "execution_count": 10,
   "id": "9db70239",
   "metadata": {},
   "outputs": [
    {
     "name": "stdout",
     "output_type": "stream",
     "text": [
      "Model: \"sequential_1\"\n",
      "_________________________________________________________________\n",
      " Layer (type)                Output Shape              Param #   \n",
      "=================================================================\n",
      " dense (Dense)               (None, 100)               78500     \n",
      "                                                                 \n",
      " dense_2 (Dense)             (None, 10)                1010      \n",
      "                                                                 \n",
      "=================================================================\n",
      "Total params: 79,510\n",
      "Trainable params: 79,510\n",
      "Non-trainable params: 0\n",
      "_________________________________________________________________\n"
     ]
    }
   ],
   "source": [
    "### 신경망 모델 생성과 동시에 미리 생성한 계층 추가하기\n",
    "model = keras.Sequential([dense1, dense2])\n",
    "model.summary()"
   ]
  },
  {
   "cell_type": "markdown",
   "id": "9bfa835f",
   "metadata": {},
   "source": [
    "##### 2. 신경망 모델 생성 시에 계층(Layer)을 함께 추가하는 방식"
   ]
  },
  {
   "cell_type": "code",
   "execution_count": 11,
   "id": "f9a8ae29",
   "metadata": {},
   "outputs": [
    {
     "name": "stdout",
     "output_type": "stream",
     "text": [
      "Model: \"Model2\"\n",
      "_________________________________________________________________\n",
      " Layer (type)                Output Shape              Param #   \n",
      "=================================================================\n",
      " Input_Layer (Dense)         (None, 100)               78500     \n",
      "                                                                 \n",
      " Output_Layer (Dense)        (None, 10)                1010      \n",
      "                                                                 \n",
      "=================================================================\n",
      "Total params: 79,510\n",
      "Trainable params: 79,510\n",
      "Non-trainable params: 0\n",
      "_________________________________________________________________\n"
     ]
    }
   ],
   "source": [
    "### 신경망 모델 생성하기\n",
    "model2 = keras.Sequential([\n",
    "    # 입력계층 생성하기\n",
    "    keras.layers.Dense(units=100, activation=\"sigmoid\", \n",
    "                       input_shape=(784, ), name=\"Input_Layer\"),\n",
    "    # 출력계층 생성하기\n",
    "    keras.layers.Dense(units=10, activation=\"softmax\", \n",
    "                       name=\"Output_Layer\"),\n",
    "    # 모델 이름 정의\n",
    "], \"Model2\")\n",
    "\n",
    "model2.summary()"
   ]
  },
  {
   "cell_type": "markdown",
   "id": "67c21d6f",
   "metadata": {},
   "source": [
    "##### 3. 신경망 모델을 먼저 생성 후 add()함수를 이용해서 계층(Layer) 추가하는 방식(가장 많이 사용됨)"
   ]
  },
  {
   "cell_type": "code",
   "execution_count": 12,
   "id": "6038a32a",
   "metadata": {},
   "outputs": [
    {
     "data": {
      "text/plain": [
       "<keras.engine.sequential.Sequential at 0x23d1ccf3640>"
      ]
     },
     "execution_count": 12,
     "metadata": {},
     "output_type": "execute_result"
    }
   ],
   "source": [
    "model3 = keras.Sequential()\n",
    "model3"
   ]
  },
  {
   "cell_type": "code",
   "execution_count": null,
   "id": "4e868684",
   "metadata": {},
   "outputs": [],
   "source": [
    "### 입력계층 생성 및 모델에 추가하기\n",
    "model3.add(\n",
    "    keras.layers.Dense(units=100, activation=\"sigmoid\",\n",
    "                       input_shape=(784, ), name=\"Input-Layer\")\n",
    ")"
   ]
  },
  {
   "cell_type": "code",
   "execution_count": 14,
   "id": "99126bfd",
   "metadata": {},
   "outputs": [],
   "source": [
    "### 출력계층 생성 및 모델에 추가하기\n",
    "model3.add(\n",
    "    keras.layers.Dense(units=10, activation=\"softmax\",\n",
    "                       name=\"Output-Layer\")\n",
    ")"
   ]
  },
  {
   "cell_type": "code",
   "execution_count": 15,
   "id": "dac65970",
   "metadata": {},
   "outputs": [
    {
     "name": "stdout",
     "output_type": "stream",
     "text": [
      "Model: \"sequential_2\"\n",
      "_________________________________________________________________\n",
      " Layer (type)                Output Shape              Param #   \n",
      "=================================================================\n",
      " Input-Layer (Dense)         (None, 100)               78500     \n",
      "                                                                 \n",
      " Output-Layer (Dense)        (None, 10)                1010      \n",
      "                                                                 \n",
      "=================================================================\n",
      "Total params: 79,510\n",
      "Trainable params: 79,510\n",
      "Non-trainable params: 0\n",
      "_________________________________________________________________\n"
     ]
    }
   ],
   "source": [
    "model3.summary()"
   ]
  },
  {
   "cell_type": "code",
   "execution_count": null,
   "id": "207c50bc",
   "metadata": {},
   "outputs": [],
   "source": []
  },
  {
   "cell_type": "code",
   "execution_count": null,
   "id": "3a1dd47a",
   "metadata": {},
   "outputs": [],
   "source": []
  },
  {
   "cell_type": "code",
   "execution_count": null,
   "id": "5ccd762a",
   "metadata": {},
   "outputs": [],
   "source": []
  },
  {
   "cell_type": "code",
   "execution_count": null,
   "id": "bad42168",
   "metadata": {},
   "outputs": [],
   "source": []
  },
  {
   "cell_type": "code",
   "execution_count": null,
   "id": "27904cda",
   "metadata": {},
   "outputs": [],
   "source": []
  },
  {
   "cell_type": "code",
   "execution_count": null,
   "id": "dbf56cc9",
   "metadata": {},
   "outputs": [],
   "source": []
  },
  {
   "cell_type": "code",
   "execution_count": null,
   "id": "27ad7bea",
   "metadata": {},
   "outputs": [],
   "source": []
  },
  {
   "cell_type": "code",
   "execution_count": null,
   "id": "86dc921b",
   "metadata": {},
   "outputs": [],
   "source": []
  },
  {
   "cell_type": "code",
   "execution_count": null,
   "id": "5d210422",
   "metadata": {},
   "outputs": [],
   "source": []
  },
  {
   "cell_type": "code",
   "execution_count": null,
   "id": "c1e188e4",
   "metadata": {},
   "outputs": [],
   "source": []
  }
 ],
 "metadata": {
  "kernelspec": {
   "display_name": "Python 3",
   "language": "python",
   "name": "python3"
  },
  "language_info": {
   "codemirror_mode": {
    "name": "ipython",
    "version": 3
   },
   "file_extension": ".py",
   "mimetype": "text/x-python",
   "name": "python",
   "nbconvert_exporter": "python",
   "pygments_lexer": "ipython3",
   "version": "3.9.21"
  }
 },
 "nbformat": 4,
 "nbformat_minor": 5
}
