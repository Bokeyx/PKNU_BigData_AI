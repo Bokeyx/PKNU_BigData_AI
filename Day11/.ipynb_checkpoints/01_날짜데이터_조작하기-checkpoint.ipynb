{
 "cells": [
  {
   "cell_type": "code",
   "execution_count": 42,
   "id": "bb54c640-8ae1-42fc-8638-5793eefe5b0b",
   "metadata": {},
   "outputs": [],
   "source": [
    "### 데이터 처리(조작) 라이브러리\n",
    "import pandas as pd\n",
    "import numpy as np\n",
    "\n",
    "import matplotlib.pyplot as plt\n",
    "\n",
    "import seaborn as sns\n",
    "\n",
    "plt.rc(\"font\", family=\"Malgun Gothic\")\n",
    "\n",
    "plt.rcParams[\"axes.unicode_minus\"] = False"
   ]
  },
  {
   "cell_type": "code",
   "execution_count": 2,
   "id": "24ae2185-5476-4941-a387-96808e94aa2c",
   "metadata": {},
   "outputs": [
    {
     "data": {
      "text/plain": [
       "['2020-01-01', '2020-03-01', '2020-09-01']"
      ]
     },
     "execution_count": 2,
     "metadata": {},
     "output_type": "execute_result"
    }
   ],
   "source": [
    "### 날짜 format(형태) : 문자열 타입인 경우 -> 날짜타입으로 형변환 가능\n",
    "# - yyyy-mm-dd hh:mm:ss, yyyy.mm.dd hh:mm:ss, yyyy/mm/dd hh:mm:ss, yyyymmddhhmmss\n",
    "# - yyyy-mm-dd, yyyy.mm.dd, yyyy/mm/dd, yyyymmdd (시분초를 생략하면 기본 00:00:00이됨)\n",
    "date = [\"2020-01-01\", \"2020-03-01\", \"2020-09-01\"]\n",
    "date"
   ]
  },
  {
   "cell_type": "code",
   "execution_count": 3,
   "id": "03a26369-112f-4b96-a76b-f723ff96889c",
   "metadata": {},
   "outputs": [
    {
     "data": {
      "text/plain": [
       "(DatetimeIndex(['2020-01-01', '2020-03-01', '2020-09-01'], dtype='datetime64[ns]', freq=None),\n",
       " pandas.core.indexes.datetimes.DatetimeIndex)"
      ]
     },
     "execution_count": 3,
     "metadata": {},
     "output_type": "execute_result"
    }
   ],
   "source": [
    "### 날짜 타입으로 형변화(타입변환) 하기\n",
    "ts_dates = pd.to_datetime(date)\n",
    "ts_dates, type(ts_dates)"
   ]
  },
  {
   "cell_type": "code",
   "execution_count": 4,
   "id": "d093d25b-6d5c-4ed5-9379-32276e8d90eb",
   "metadata": {},
   "outputs": [
    {
     "data": {
      "text/plain": [
       "Timestamp('2020-01-01 00:00:00')"
      ]
     },
     "execution_count": 4,
     "metadata": {},
     "output_type": "execute_result"
    }
   ],
   "source": [
    "ts_dates[0]"
   ]
  },
  {
   "cell_type": "markdown",
   "id": "ef3be60f-f9f8-4b3c-9fd5-9daefc22d744",
   "metadata": {},
   "source": [
    "## 날짜 데이터에서 -> 년/월/일 추출하기"
   ]
  },
  {
   "cell_type": "code",
   "execution_count": null,
   "id": "9b36d6ed-7965-4f8b-bd39-ed65e61d7bed",
   "metadata": {},
   "outputs": [],
   "source": [
    "\"\"\"\n",
    "<년/월/일 데이터 추출>\n",
    " - to_period() 한수 사용 : 날짜 데이터 추출함수\n",
    " - freq 속성(파라미터) 사요 : 년, 월, 일 지정 속성(파라미터 입니다.)\n",
    "\"\"\""
   ]
  },
  {
   "cell_type": "code",
   "execution_count": 5,
   "id": "56c2cec1-a24a-4150-961f-37bf5e8815d5",
   "metadata": {},
   "outputs": [
    {
     "data": {
      "text/plain": [
       "PeriodIndex(['2020-01-01', '2020-03-01', '2020-09-01'], dtype='period[D]')"
      ]
     },
     "execution_count": 5,
     "metadata": {},
     "output_type": "execute_result"
    }
   ],
   "source": [
    "### freq= \"D\" 년월일 모두 표시(일자 까지 모두 표시)\n",
    "ts_dates.to_period(freq=\"D\")"
   ]
  },
  {
   "cell_type": "code",
   "execution_count": 6,
   "id": "59302fef-e841-47f1-80d3-65b11cfa13f5",
   "metadata": {},
   "outputs": [
    {
     "data": {
      "text/plain": [
       "PeriodIndex(['2020-01', '2020-03', '2020-09'], dtype='period[M]')"
      ]
     },
     "execution_count": 6,
     "metadata": {},
     "output_type": "execute_result"
    }
   ],
   "source": [
    "### freq= \"M\" 년월 모두 표시(일자 까지 모두 표시)\n",
    "ts_dates.to_period(freq=\"M\")"
   ]
  },
  {
   "cell_type": "code",
   "execution_count": 7,
   "id": "6de27d54-ea98-4826-88b5-07d8b4a301f0",
   "metadata": {},
   "outputs": [
    {
     "data": {
      "text/plain": [
       "PeriodIndex(['2020', '2020', '2020'], dtype='period[Y-DEC]')"
      ]
     },
     "execution_count": 7,
     "metadata": {},
     "output_type": "execute_result"
    }
   ],
   "source": [
    "### freq= \"M\" 년월 모두 표시(일자 까지 모두 표시)\n",
    "ts_dates.to_period(freq=\"Y\")"
   ]
  },
  {
   "cell_type": "markdown",
   "id": "dbba2e44-d964-418a-aafe-e532d66ec84a",
   "metadata": {},
   "source": [
    "## 데이터 파일 읽어 들이기"
   ]
  },
  {
   "cell_type": "code",
   "execution_count": 8,
   "id": "b1382284-3d1d-4bd5-a2bc-c07519f155da",
   "metadata": {},
   "outputs": [
    {
     "name": "stdout",
     "output_type": "stream",
     "text": [
      "<class 'pandas.core.frame.DataFrame'>\n",
      "RangeIndex: 5 entries, 0 to 4\n",
      "Data columns (total 6 columns):\n",
      " #   Column  Non-Null Count  Dtype \n",
      "---  ------  --------------  ----- \n",
      " 0   Date    5 non-null      object\n",
      " 1   Close   5 non-null      int64 \n",
      " 2   Start   5 non-null      int64 \n",
      " 3   High    5 non-null      int64 \n",
      " 4   Low     5 non-null      int64 \n",
      " 5   Volume  5 non-null      int64 \n",
      "dtypes: int64(5), object(1)\n",
      "memory usage: 368.0+ bytes\n"
     ]
    },
    {
     "data": {
      "text/html": [
       "<div>\n",
       "<style scoped>\n",
       "    .dataframe tbody tr th:only-of-type {\n",
       "        vertical-align: middle;\n",
       "    }\n",
       "\n",
       "    .dataframe tbody tr th {\n",
       "        vertical-align: top;\n",
       "    }\n",
       "\n",
       "    .dataframe thead th {\n",
       "        text-align: right;\n",
       "    }\n",
       "</style>\n",
       "<table border=\"1\" class=\"dataframe\">\n",
       "  <thead>\n",
       "    <tr style=\"text-align: right;\">\n",
       "      <th></th>\n",
       "      <th>Close</th>\n",
       "      <th>Start</th>\n",
       "      <th>High</th>\n",
       "      <th>Low</th>\n",
       "      <th>Volume</th>\n",
       "    </tr>\n",
       "  </thead>\n",
       "  <tbody>\n",
       "    <tr>\n",
       "      <th>count</th>\n",
       "      <td>5.000000</td>\n",
       "      <td>5.000000</td>\n",
       "      <td>5.000000</td>\n",
       "      <td>5.000000</td>\n",
       "      <td>5.000000</td>\n",
       "    </tr>\n",
       "    <tr>\n",
       "      <th>mean</th>\n",
       "      <td>10580.000000</td>\n",
       "      <td>10800.000000</td>\n",
       "      <td>10960.000000</td>\n",
       "      <td>10268.000000</td>\n",
       "      <td>132117.200000</td>\n",
       "    </tr>\n",
       "    <tr>\n",
       "      <th>std</th>\n",
       "      <td>327.108545</td>\n",
       "      <td>145.773797</td>\n",
       "      <td>65.192024</td>\n",
       "      <td>317.600378</td>\n",
       "      <td>41297.484926</td>\n",
       "    </tr>\n",
       "    <tr>\n",
       "      <th>min</th>\n",
       "      <td>10100.000000</td>\n",
       "      <td>10550.000000</td>\n",
       "      <td>10900.000000</td>\n",
       "      <td>9990.000000</td>\n",
       "      <td>63039.000000</td>\n",
       "    </tr>\n",
       "    <tr>\n",
       "      <th>25%</th>\n",
       "      <td>10400.000000</td>\n",
       "      <td>10800.000000</td>\n",
       "      <td>10900.000000</td>\n",
       "      <td>10000.000000</td>\n",
       "      <td>133548.000000</td>\n",
       "    </tr>\n",
       "    <tr>\n",
       "      <th>50%</th>\n",
       "      <td>10700.000000</td>\n",
       "      <td>10850.000000</td>\n",
       "      <td>10950.000000</td>\n",
       "      <td>10150.000000</td>\n",
       "      <td>137977.000000</td>\n",
       "    </tr>\n",
       "    <tr>\n",
       "      <th>75%</th>\n",
       "      <td>10800.000000</td>\n",
       "      <td>10900.000000</td>\n",
       "      <td>11000.000000</td>\n",
       "      <td>10500.000000</td>\n",
       "      <td>155769.000000</td>\n",
       "    </tr>\n",
       "    <tr>\n",
       "      <th>max</th>\n",
       "      <td>10900.000000</td>\n",
       "      <td>10900.000000</td>\n",
       "      <td>11050.000000</td>\n",
       "      <td>10700.000000</td>\n",
       "      <td>170253.000000</td>\n",
       "    </tr>\n",
       "  </tbody>\n",
       "</table>\n",
       "</div>"
      ],
      "text/plain": [
       "              Close         Start          High           Low         Volume\n",
       "count      5.000000      5.000000      5.000000      5.000000       5.000000\n",
       "mean   10580.000000  10800.000000  10960.000000  10268.000000  132117.200000\n",
       "std      327.108545    145.773797     65.192024    317.600378   41297.484926\n",
       "min    10100.000000  10550.000000  10900.000000   9990.000000   63039.000000\n",
       "25%    10400.000000  10800.000000  10900.000000  10000.000000  133548.000000\n",
       "50%    10700.000000  10850.000000  10950.000000  10150.000000  137977.000000\n",
       "75%    10800.000000  10900.000000  11000.000000  10500.000000  155769.000000\n",
       "max    10900.000000  10900.000000  11050.000000  10700.000000  170253.000000"
      ]
     },
     "execution_count": 8,
     "metadata": {},
     "output_type": "execute_result"
    }
   ],
   "source": [
    "### timeseries.csv 파일 읽어들이기\n",
    "# 데이터프레임 변수명 : df\n",
    "file_path = \"./data/timeseries.csv\"\n",
    "df = pd.read_csv(file_path)\n",
    "\n",
    "df.info()\n",
    "df.describe()"
   ]
  },
  {
   "cell_type": "code",
   "execution_count": 9,
   "id": "eced4c4e-30ce-4f0b-8723-e018ce712c06",
   "metadata": {},
   "outputs": [
    {
     "data": {
      "text/html": [
       "<div>\n",
       "<style scoped>\n",
       "    .dataframe tbody tr th:only-of-type {\n",
       "        vertical-align: middle;\n",
       "    }\n",
       "\n",
       "    .dataframe tbody tr th {\n",
       "        vertical-align: top;\n",
       "    }\n",
       "\n",
       "    .dataframe thead th {\n",
       "        text-align: right;\n",
       "    }\n",
       "</style>\n",
       "<table border=\"1\" class=\"dataframe\">\n",
       "  <thead>\n",
       "    <tr style=\"text-align: right;\">\n",
       "      <th></th>\n",
       "      <th>Date</th>\n",
       "      <th>Close</th>\n",
       "      <th>Start</th>\n",
       "      <th>High</th>\n",
       "      <th>Low</th>\n",
       "      <th>Volume</th>\n",
       "    </tr>\n",
       "  </thead>\n",
       "  <tbody>\n",
       "    <tr>\n",
       "      <th>0</th>\n",
       "      <td>2015-07-02</td>\n",
       "      <td>10100</td>\n",
       "      <td>10850</td>\n",
       "      <td>10900</td>\n",
       "      <td>10000</td>\n",
       "      <td>137977</td>\n",
       "    </tr>\n",
       "    <tr>\n",
       "      <th>1</th>\n",
       "      <td>2016-06-29</td>\n",
       "      <td>10700</td>\n",
       "      <td>10550</td>\n",
       "      <td>10900</td>\n",
       "      <td>9990</td>\n",
       "      <td>170253</td>\n",
       "    </tr>\n",
       "    <tr>\n",
       "      <th>2</th>\n",
       "      <td>2017-06-28</td>\n",
       "      <td>10400</td>\n",
       "      <td>10900</td>\n",
       "      <td>10950</td>\n",
       "      <td>10150</td>\n",
       "      <td>155769</td>\n",
       "    </tr>\n",
       "    <tr>\n",
       "      <th>3</th>\n",
       "      <td>2018-06-27</td>\n",
       "      <td>10900</td>\n",
       "      <td>10800</td>\n",
       "      <td>11050</td>\n",
       "      <td>10500</td>\n",
       "      <td>133548</td>\n",
       "    </tr>\n",
       "    <tr>\n",
       "      <th>4</th>\n",
       "      <td>2019-06-26</td>\n",
       "      <td>10800</td>\n",
       "      <td>10900</td>\n",
       "      <td>11000</td>\n",
       "      <td>10700</td>\n",
       "      <td>63039</td>\n",
       "    </tr>\n",
       "  </tbody>\n",
       "</table>\n",
       "</div>"
      ],
      "text/plain": [
       "         Date  Close  Start   High    Low  Volume\n",
       "0  2015-07-02  10100  10850  10900  10000  137977\n",
       "1  2016-06-29  10700  10550  10900   9990  170253\n",
       "2  2017-06-28  10400  10900  10950  10150  155769\n",
       "3  2018-06-27  10900  10800  11050  10500  133548\n",
       "4  2019-06-26  10800  10900  11000  10700   63039"
      ]
     },
     "execution_count": 9,
     "metadata": {},
     "output_type": "execute_result"
    }
   ],
   "source": [
    "df"
   ]
  },
  {
   "cell_type": "code",
   "execution_count": 10,
   "id": "4f1f227d-50ee-4a01-a8d0-daaa18b7f8a6",
   "metadata": {},
   "outputs": [
    {
     "name": "stdout",
     "output_type": "stream",
     "text": [
      "<class 'pandas.core.frame.DataFrame'>\n",
      "RangeIndex: 5 entries, 0 to 4\n",
      "Data columns (total 7 columns):\n",
      " #   Column    Non-Null Count  Dtype         \n",
      "---  ------    --------------  -----         \n",
      " 0   Date      5 non-null      object        \n",
      " 1   Close     5 non-null      int64         \n",
      " 2   Start     5 non-null      int64         \n",
      " 3   High      5 non-null      int64         \n",
      " 4   Low       5 non-null      int64         \n",
      " 5   Volume    5 non-null      int64         \n",
      " 6   New_Date  5 non-null      datetime64[ns]\n",
      "dtypes: datetime64[ns](1), int64(5), object(1)\n",
      "memory usage: 408.0+ bytes\n"
     ]
    },
    {
     "data": {
      "text/html": [
       "<div>\n",
       "<style scoped>\n",
       "    .dataframe tbody tr th:only-of-type {\n",
       "        vertical-align: middle;\n",
       "    }\n",
       "\n",
       "    .dataframe tbody tr th {\n",
       "        vertical-align: top;\n",
       "    }\n",
       "\n",
       "    .dataframe thead th {\n",
       "        text-align: right;\n",
       "    }\n",
       "</style>\n",
       "<table border=\"1\" class=\"dataframe\">\n",
       "  <thead>\n",
       "    <tr style=\"text-align: right;\">\n",
       "      <th></th>\n",
       "      <th>Date</th>\n",
       "      <th>Close</th>\n",
       "      <th>Start</th>\n",
       "      <th>High</th>\n",
       "      <th>Low</th>\n",
       "      <th>Volume</th>\n",
       "      <th>New_Date</th>\n",
       "    </tr>\n",
       "  </thead>\n",
       "  <tbody>\n",
       "    <tr>\n",
       "      <th>0</th>\n",
       "      <td>2015-07-02</td>\n",
       "      <td>10100</td>\n",
       "      <td>10850</td>\n",
       "      <td>10900</td>\n",
       "      <td>10000</td>\n",
       "      <td>137977</td>\n",
       "      <td>2015-07-02</td>\n",
       "    </tr>\n",
       "    <tr>\n",
       "      <th>1</th>\n",
       "      <td>2016-06-29</td>\n",
       "      <td>10700</td>\n",
       "      <td>10550</td>\n",
       "      <td>10900</td>\n",
       "      <td>9990</td>\n",
       "      <td>170253</td>\n",
       "      <td>2016-06-29</td>\n",
       "    </tr>\n",
       "    <tr>\n",
       "      <th>2</th>\n",
       "      <td>2017-06-28</td>\n",
       "      <td>10400</td>\n",
       "      <td>10900</td>\n",
       "      <td>10950</td>\n",
       "      <td>10150</td>\n",
       "      <td>155769</td>\n",
       "      <td>2017-06-28</td>\n",
       "    </tr>\n",
       "    <tr>\n",
       "      <th>3</th>\n",
       "      <td>2018-06-27</td>\n",
       "      <td>10900</td>\n",
       "      <td>10800</td>\n",
       "      <td>11050</td>\n",
       "      <td>10500</td>\n",
       "      <td>133548</td>\n",
       "      <td>2018-06-27</td>\n",
       "    </tr>\n",
       "    <tr>\n",
       "      <th>4</th>\n",
       "      <td>2019-06-26</td>\n",
       "      <td>10800</td>\n",
       "      <td>10900</td>\n",
       "      <td>11000</td>\n",
       "      <td>10700</td>\n",
       "      <td>63039</td>\n",
       "      <td>2019-06-26</td>\n",
       "    </tr>\n",
       "  </tbody>\n",
       "</table>\n",
       "</div>"
      ],
      "text/plain": [
       "         Date  Close  Start   High    Low  Volume   New_Date\n",
       "0  2015-07-02  10100  10850  10900  10000  137977 2015-07-02\n",
       "1  2016-06-29  10700  10550  10900   9990  170253 2016-06-29\n",
       "2  2017-06-28  10400  10900  10950  10150  155769 2017-06-28\n",
       "3  2018-06-27  10900  10800  11050  10500  133548 2018-06-27\n",
       "4  2019-06-26  10800  10900  11000  10700   63039 2019-06-26"
      ]
     },
     "execution_count": 10,
     "metadata": {},
     "output_type": "execute_result"
    }
   ],
   "source": [
    "### Date 컬럼의 데이터를 날짜타입으로 변환 (Data 컬럼에서 직접 변경 안함)\n",
    "# - New_Date 컬럼 생성\n",
    "#  -> 사용할 데이터 : Date 컬럼의 데이터를 날짜로 형변환(to_datetime 함수 사용)한 값으로 사용\n",
    "df[\"New_Date\"] = pd.to_datetime(df[\"Date\"])\n",
    "df.info()\n",
    "df"
   ]
  },
  {
   "cell_type": "code",
   "execution_count": 11,
   "id": "655fee74-2d71-404c-bd9e-3f69f9d13814",
   "metadata": {},
   "outputs": [
    {
     "data": {
      "text/plain": [
       "('2015-07-02', Timestamp('2015-07-02 00:00:00'))"
      ]
     },
     "execution_count": 11,
     "metadata": {},
     "output_type": "execute_result"
    }
   ],
   "source": [
    "### Date 컬럼과 New_Date 컬럼 각각의 0번째 값 추출하기\n",
    "df[\"Date\"][0], df[\"New_Date\"][0]"
   ]
  },
  {
   "cell_type": "code",
   "execution_count": 12,
   "id": "b32b0c43-931b-4b52-ad18-3cffdb7e54ad",
   "metadata": {},
   "outputs": [
    {
     "data": {
      "text/plain": [
       "Date                 2015-07-02\n",
       "New_Date    2015-07-02 00:00:00\n",
       "Name: 0, dtype: object"
      ]
     },
     "execution_count": 12,
     "metadata": {},
     "output_type": "execute_result"
    }
   ],
   "source": [
    "### Loc와 iloc를 이용해서 Date와 New_Date 0번째 값 추출..\n",
    "df.loc[0, [\"Date\", \"New_Date\"]]\n",
    "df[[\"Date\", \"New_Date\"]].loc[0]\n",
    "df.iloc[0, [0, 6]]"
   ]
  },
  {
   "cell_type": "code",
   "execution_count": 13,
   "id": "245da0c0-375d-4ae8-92f0-a92f24359917",
   "metadata": {},
   "outputs": [],
   "source": [
    "### Date 컬럼 삭제하기\n",
    "type(df)\n",
    "df.drop(\"Date\", axis=1, inplace=True)"
   ]
  },
  {
   "cell_type": "code",
   "execution_count": 14,
   "id": "b7f1b10a-4ef9-4f61-b87a-a83d8a986eee",
   "metadata": {},
   "outputs": [
    {
     "data": {
      "text/html": [
       "<div>\n",
       "<style scoped>\n",
       "    .dataframe tbody tr th:only-of-type {\n",
       "        vertical-align: middle;\n",
       "    }\n",
       "\n",
       "    .dataframe tbody tr th {\n",
       "        vertical-align: top;\n",
       "    }\n",
       "\n",
       "    .dataframe thead th {\n",
       "        text-align: right;\n",
       "    }\n",
       "</style>\n",
       "<table border=\"1\" class=\"dataframe\">\n",
       "  <thead>\n",
       "    <tr style=\"text-align: right;\">\n",
       "      <th></th>\n",
       "      <th>Close</th>\n",
       "      <th>Start</th>\n",
       "      <th>High</th>\n",
       "      <th>Low</th>\n",
       "      <th>Volume</th>\n",
       "      <th>New_Date</th>\n",
       "    </tr>\n",
       "  </thead>\n",
       "  <tbody>\n",
       "    <tr>\n",
       "      <th>0</th>\n",
       "      <td>10100</td>\n",
       "      <td>10850</td>\n",
       "      <td>10900</td>\n",
       "      <td>10000</td>\n",
       "      <td>137977</td>\n",
       "      <td>2015-07-02</td>\n",
       "    </tr>\n",
       "    <tr>\n",
       "      <th>1</th>\n",
       "      <td>10700</td>\n",
       "      <td>10550</td>\n",
       "      <td>10900</td>\n",
       "      <td>9990</td>\n",
       "      <td>170253</td>\n",
       "      <td>2016-06-29</td>\n",
       "    </tr>\n",
       "    <tr>\n",
       "      <th>2</th>\n",
       "      <td>10400</td>\n",
       "      <td>10900</td>\n",
       "      <td>10950</td>\n",
       "      <td>10150</td>\n",
       "      <td>155769</td>\n",
       "      <td>2017-06-28</td>\n",
       "    </tr>\n",
       "    <tr>\n",
       "      <th>3</th>\n",
       "      <td>10900</td>\n",
       "      <td>10800</td>\n",
       "      <td>11050</td>\n",
       "      <td>10500</td>\n",
       "      <td>133548</td>\n",
       "      <td>2018-06-27</td>\n",
       "    </tr>\n",
       "    <tr>\n",
       "      <th>4</th>\n",
       "      <td>10800</td>\n",
       "      <td>10900</td>\n",
       "      <td>11000</td>\n",
       "      <td>10700</td>\n",
       "      <td>63039</td>\n",
       "      <td>2019-06-26</td>\n",
       "    </tr>\n",
       "  </tbody>\n",
       "</table>\n",
       "</div>"
      ],
      "text/plain": [
       "   Close  Start   High    Low  Volume   New_Date\n",
       "0  10100  10850  10900  10000  137977 2015-07-02\n",
       "1  10700  10550  10900   9990  170253 2016-06-29\n",
       "2  10400  10900  10950  10150  155769 2017-06-28\n",
       "3  10900  10800  11050  10500  133548 2018-06-27\n",
       "4  10800  10900  11000  10700   63039 2019-06-26"
      ]
     },
     "execution_count": 14,
     "metadata": {},
     "output_type": "execute_result"
    }
   ],
   "source": [
    "df"
   ]
  },
  {
   "cell_type": "markdown",
   "id": "537d8893-bc77-4f44-b395-ba1eee0c43cc",
   "metadata": {},
   "source": [
    "## 시계열 데이터프레임 형태로 만들기"
   ]
  },
  {
   "cell_type": "code",
   "execution_count": null,
   "id": "feff59a3-4c67-4865-b296-e00cb2b90cb6",
   "metadata": {},
   "outputs": [],
   "source": [
    "\"\"\"\n",
    "<시계열 데이터>\n",
    " - 날짜 타입을 인덱스로 사용하는 형태\n",
    " - 데이터프레임의 인덱스를 날짜타입의 값으로 사용하게 됨\n",
    " - 실제 날짜 타입의 컬럼이 인덱스로 설정하거나,\n",
    "   인덱스를 만들 떄 날짜 타입으로 만들어 주어야 합니다.\n",
    "\"\"\""
   ]
  },
  {
   "cell_type": "code",
   "execution_count": 16,
   "id": "c5260d90-9cf2-4640-bd62-7ff5a35f8965",
   "metadata": {},
   "outputs": [
    {
     "name": "stdout",
     "output_type": "stream",
     "text": [
      "<class 'pandas.core.frame.DataFrame'>\n",
      "RangeIndex: 5 entries, 0 to 4\n",
      "Data columns (total 6 columns):\n",
      " #   Column    Non-Null Count  Dtype         \n",
      "---  ------    --------------  -----         \n",
      " 0   Close     5 non-null      int64         \n",
      " 1   Start     5 non-null      int64         \n",
      " 2   High      5 non-null      int64         \n",
      " 3   Low       5 non-null      int64         \n",
      " 4   Volume    5 non-null      int64         \n",
      " 5   New_Date  5 non-null      datetime64[ns]\n",
      "dtypes: datetime64[ns](1), int64(5)\n",
      "memory usage: 368.0 bytes\n"
     ]
    }
   ],
   "source": [
    "df.info()"
   ]
  },
  {
   "cell_type": "code",
   "execution_count": 17,
   "id": "7602900a-e307-4a00-b8a6-2d96a1e7539a",
   "metadata": {},
   "outputs": [],
   "source": [
    "### New-Date 컬럼을 인덱스로 변환하기\n",
    "# - New-Date 컬럼의 타입이 -> 날짜타입이기 떄문에 이론적으로 타당함\n",
    "df.set_index(\"New_Date\", inplace=True)"
   ]
  },
  {
   "cell_type": "code",
   "execution_count": 18,
   "id": "910ff381-ddd3-43bc-ac37-6c5ed368bc79",
   "metadata": {},
   "outputs": [
    {
     "data": {
      "text/plain": [
       "<Axes: xlabel='New_Date'>"
      ]
     },
     "execution_count": 18,
     "metadata": {},
     "output_type": "execute_result"
    },
    {
     "data": {
      "image/png": "[encoded data removed]",
      "text/plain": [
       "<Figure size 640x480 with 1 Axes>"
      ]
     },
     "metadata": {},
     "output_type": "display_data"
    }
   ],
   "source": [
    "### 선그래프 그리기\n",
    "# - 데이터프레임에서도 그래프 함수를 제공해 줍니다.\n",
    "# - 선그래프 : plot()\n",
    "df.plot()"
   ]
  },
  {
   "cell_type": "markdown",
   "id": "c091c58c-ec15-4254-958a-213567e55760",
   "metadata": {},
   "source": [
    "## 날짜를 세밀하게 조작하기"
   ]
  },
  {
   "cell_type": "code",
   "execution_count": 19,
   "id": "eaa8d94d-fa1e-4c3c-a795-0f816cb35669",
   "metadata": {},
   "outputs": [
    {
     "data": {
      "text/plain": [
       "DatetimeIndex(['2020-12-31 00:00:00+09:00', '2021-12-31 00:00:00+09:00',\n",
       "               '2022-12-31 00:00:00+09:00', '2023-12-31 00:00:00+09:00',\n",
       "               '2024-12-31 00:00:00+09:00', '2025-12-31 00:00:00+09:00'],\n",
       "              dtype='datetime64[ns, Asia/Seoul]', freq='YE-DEC')"
      ]
     },
     "execution_count": 19,
     "metadata": {},
     "output_type": "execute_result"
    }
   ],
   "source": [
    "### 임의 날짜 범위 데이터 생성하기\n",
    "# - start : 생성할 시작 년월일\n",
    "# - end : 마지막 시작 년월일(None을 정의할 경우 현재 기준의 년월일을 의미함)\n",
    "# - periods : 생성할 기간의 갯수(freq에 따라 년도 or 월 or 일 로 구분됨)\n",
    "# - freq : 생성할 기준을 정의(YE or ME or D, 년/월/일)\n",
    "# - tz : 국가 시간대 영역\n",
    "pd.date_range(start=\"2020-01-01\", end=None, periods=6, freq=\"YE\", tz=\"Asia/Seoul\" )"
   ]
  },
  {
   "cell_type": "code",
   "execution_count": 20,
   "id": "195f149c-2f8f-4545-9a9b-a1baa7931ea1",
   "metadata": {},
   "outputs": [
    {
     "data": {
      "text/plain": [
       "DatetimeIndex(['2020-12-31 00:00:00+09:00', '2022-12-31 00:00:00+09:00',\n",
       "               '2024-12-31 00:00:00+09:00', '2026-12-31 00:00:00+09:00',\n",
       "               '2028-12-31 00:00:00+09:00', '2030-12-31 00:00:00+09:00'],\n",
       "              dtype='datetime64[ns, Asia/Seoul]', freq='2YE-DEC')"
      ]
     },
     "execution_count": 20,
     "metadata": {},
     "output_type": "execute_result"
    }
   ],
   "source": [
    "### 2년 단위로 증가 시키기\n",
    "pd.date_range(start=\"2020-01-01\", end=None, periods=6, freq=\"2YE\", tz=\"Asia/Seoul\" )"
   ]
  },
  {
   "cell_type": "code",
   "execution_count": 21,
   "id": "f9ffaf51-b44d-4d29-a159-ae3cf975eb15",
   "metadata": {},
   "outputs": [
    {
     "data": {
      "text/plain": [
       "DatetimeIndex(['2020-01-31 00:00:00+09:00', '2020-03-31 00:00:00+09:00',\n",
       "               '2020-05-31 00:00:00+09:00', '2020-07-31 00:00:00+09:00',\n",
       "               '2020-09-30 00:00:00+09:00', '2020-11-30 00:00:00+09:00'],\n",
       "              dtype='datetime64[ns, Asia/Seoul]', freq='2ME')"
      ]
     },
     "execution_count": 21,
     "metadata": {},
     "output_type": "execute_result"
    }
   ],
   "source": [
    "### 월을 기준으로, 2개월씩 증가\n",
    "pd.date_range(start=\"2020-01-01\", end=None, periods=6, freq=\"2ME\", tz=\"Asia/Seoul\" )"
   ]
  },
  {
   "cell_type": "code",
   "execution_count": 22,
   "id": "e30b9e0d-d776-46c5-bf41-a6f1bc77a1ff",
   "metadata": {},
   "outputs": [
    {
     "data": {
      "text/plain": [
       "DatetimeIndex(['2020-01-01 00:00:00+09:00', '2020-01-02 00:00:00+09:00',\n",
       "               '2020-01-03 00:00:00+09:00', '2020-01-04 00:00:00+09:00',\n",
       "               '2020-01-05 00:00:00+09:00', '2020-01-06 00:00:00+09:00'],\n",
       "              dtype='datetime64[ns, Asia/Seoul]', freq='D')"
      ]
     },
     "execution_count": 22,
     "metadata": {},
     "output_type": "execute_result"
    }
   ],
   "source": [
    "### 일을 기준으로, 1일씩 증가\n",
    "pd.date_range(start=\"2020-01-01\", end=None, periods=6, freq=\"D\", tz=\"Asia/Seoul\" )"
   ]
  },
  {
   "cell_type": "code",
   "execution_count": 23,
   "id": "a8a2277a-487c-44fc-87db-9e0ada19e33e",
   "metadata": {},
   "outputs": [
    {
     "data": {
      "text/plain": [
       "DatetimeIndex(['2020-01-01 00:00:00+09:00', '2020-01-03 00:00:00+09:00',\n",
       "               '2020-01-05 00:00:00+09:00', '2020-01-07 00:00:00+09:00',\n",
       "               '2020-01-09 00:00:00+09:00', '2020-01-11 00:00:00+09:00'],\n",
       "              dtype='datetime64[ns, Asia/Seoul]', freq='2D')"
      ]
     },
     "execution_count": 23,
     "metadata": {},
     "output_type": "execute_result"
    }
   ],
   "source": [
    "### 일을 기준으로, 2일씩 증가\n",
    "pd.date_range(start=\"2020-01-01\", end=None, periods=6, freq=\"2D\", tz=\"Asia/Seoul\" )"
   ]
  },
  {
   "cell_type": "code",
   "execution_count": 24,
   "id": "6ef6a067-1ccd-4b18-b144-3bd7bda70802",
   "metadata": {},
   "outputs": [
    {
     "data": {
      "text/plain": [
       "DatetimeIndex(['2020-01-01 00:00:00+09:00', '2020-01-01 01:00:00+09:00',\n",
       "               '2020-01-01 02:00:00+09:00', '2020-01-01 03:00:00+09:00',\n",
       "               '2020-01-01 04:00:00+09:00', '2020-01-01 05:00:00+09:00'],\n",
       "              dtype='datetime64[ns, Asia/Seoul]', freq='h')"
      ]
     },
     "execution_count": 24,
     "metadata": {},
     "output_type": "execute_result"
    }
   ],
   "source": [
    "### 시간 단위 설정, 1시간씩 증가(최초 시간 정의가 없으면, 00시 부터 시작)\n",
    "pd.date_range(start=\"2020-01-01\", end=None, periods=6, freq=\"h\", tz=\"Asia/Seoul\" )"
   ]
  },
  {
   "cell_type": "code",
   "execution_count": 25,
   "id": "a186ea52-34e3-4da3-b63d-af19b96325fa",
   "metadata": {},
   "outputs": [
    {
     "data": {
      "text/plain": [
       "DatetimeIndex(['2020-01-01 00:00:00+09:00', '2020-01-01 02:00:00+09:00',\n",
       "               '2020-01-01 04:00:00+09:00', '2020-01-01 06:00:00+09:00',\n",
       "               '2020-01-01 08:00:00+09:00', '2020-01-01 10:00:00+09:00'],\n",
       "              dtype='datetime64[ns, Asia/Seoul]', freq='2h')"
      ]
     },
     "execution_count": 25,
     "metadata": {},
     "output_type": "execute_result"
    }
   ],
   "source": [
    "### 시간 단위 설정, 2시간씩 증가(최초 시간 정의가 없으면, 00시 부터 시작)\n",
    "pd.date_range(start=\"2020-01-01\", end=None, periods=6, freq=\"2h\", tz=\"Asia/Seoul\" )"
   ]
  },
  {
   "cell_type": "markdown",
   "id": "866edda3-d91d-46f4-9590-be580ac96c03",
   "metadata": {},
   "source": [
    "## 다시 데이터 읽어들이기"
   ]
  },
  {
   "cell_type": "code",
   "execution_count": 26,
   "id": "cdcf5302-ff0b-42d5-a82f-b1f9975bf5a8",
   "metadata": {},
   "outputs": [
    {
     "data": {
      "text/html": [
       "<div>\n",
       "<style scoped>\n",
       "    .dataframe tbody tr th:only-of-type {\n",
       "        vertical-align: middle;\n",
       "    }\n",
       "\n",
       "    .dataframe tbody tr th {\n",
       "        vertical-align: top;\n",
       "    }\n",
       "\n",
       "    .dataframe thead th {\n",
       "        text-align: right;\n",
       "    }\n",
       "</style>\n",
       "<table border=\"1\" class=\"dataframe\">\n",
       "  <thead>\n",
       "    <tr style=\"text-align: right;\">\n",
       "      <th></th>\n",
       "      <th>Date</th>\n",
       "      <th>Close</th>\n",
       "      <th>Start</th>\n",
       "      <th>High</th>\n",
       "      <th>Low</th>\n",
       "      <th>Volume</th>\n",
       "    </tr>\n",
       "  </thead>\n",
       "  <tbody>\n",
       "    <tr>\n",
       "      <th>0</th>\n",
       "      <td>2015-07-02</td>\n",
       "      <td>10100</td>\n",
       "      <td>10850</td>\n",
       "      <td>10900</td>\n",
       "      <td>10000</td>\n",
       "      <td>137977</td>\n",
       "    </tr>\n",
       "    <tr>\n",
       "      <th>1</th>\n",
       "      <td>2016-06-29</td>\n",
       "      <td>10700</td>\n",
       "      <td>10550</td>\n",
       "      <td>10900</td>\n",
       "      <td>9990</td>\n",
       "      <td>170253</td>\n",
       "    </tr>\n",
       "    <tr>\n",
       "      <th>2</th>\n",
       "      <td>2017-06-28</td>\n",
       "      <td>10400</td>\n",
       "      <td>10900</td>\n",
       "      <td>10950</td>\n",
       "      <td>10150</td>\n",
       "      <td>155769</td>\n",
       "    </tr>\n",
       "    <tr>\n",
       "      <th>3</th>\n",
       "      <td>2018-06-27</td>\n",
       "      <td>10900</td>\n",
       "      <td>10800</td>\n",
       "      <td>11050</td>\n",
       "      <td>10500</td>\n",
       "      <td>133548</td>\n",
       "    </tr>\n",
       "    <tr>\n",
       "      <th>4</th>\n",
       "      <td>2019-06-26</td>\n",
       "      <td>10800</td>\n",
       "      <td>10900</td>\n",
       "      <td>11000</td>\n",
       "      <td>10700</td>\n",
       "      <td>63039</td>\n",
       "    </tr>\n",
       "  </tbody>\n",
       "</table>\n",
       "</div>"
      ],
      "text/plain": [
       "         Date  Close  Start   High    Low  Volume\n",
       "0  2015-07-02  10100  10850  10900  10000  137977\n",
       "1  2016-06-29  10700  10550  10900   9990  170253\n",
       "2  2017-06-28  10400  10900  10950  10150  155769\n",
       "3  2018-06-27  10900  10800  11050  10500  133548\n",
       "4  2019-06-26  10800  10900  11000  10700   63039"
      ]
     },
     "execution_count": 26,
     "metadata": {},
     "output_type": "execute_result"
    }
   ],
   "source": [
    "df = pd.read_csv(file_path)\n",
    "df"
   ]
  },
  {
   "cell_type": "code",
   "execution_count": 27,
   "id": "78d959f4-ccbf-4fb2-9437-23e40e1679da",
   "metadata": {},
   "outputs": [],
   "source": [
    "### New_Date 날짜 타입의 데이터로 컬럼 만들기\n",
    "# - 인덱스로 사용하지 않을 겁니다.\n",
    "df[\"New_Date\"] = pd.to_datetime(df[\"Date\"])"
   ]
  },
  {
   "cell_type": "code",
   "execution_count": 28,
   "id": "207b1f8f-9d44-4a28-a71f-b442409496d6",
   "metadata": {},
   "outputs": [
    {
     "name": "stdout",
     "output_type": "stream",
     "text": [
      "<class 'pandas.core.frame.DataFrame'>\n",
      "RangeIndex: 5 entries, 0 to 4\n",
      "Data columns (total 7 columns):\n",
      " #   Column    Non-Null Count  Dtype         \n",
      "---  ------    --------------  -----         \n",
      " 0   Date      5 non-null      object        \n",
      " 1   Close     5 non-null      int64         \n",
      " 2   Start     5 non-null      int64         \n",
      " 3   High      5 non-null      int64         \n",
      " 4   Low       5 non-null      int64         \n",
      " 5   Volume    5 non-null      int64         \n",
      " 6   New_Date  5 non-null      datetime64[ns]\n",
      "dtypes: datetime64[ns](1), int64(5), object(1)\n",
      "memory usage: 408.0+ bytes\n"
     ]
    }
   ],
   "source": [
    "df.info()"
   ]
  },
  {
   "cell_type": "code",
   "execution_count": 29,
   "id": "a9dde8eb-f502-438a-b624-d4764c1705fb",
   "metadata": {},
   "outputs": [],
   "source": [
    "### Year, Month, Day 컬럼을 각각 만들기...\n",
    "# - 각 데이터는 New_Date 컬럼의 데이터를 이용하기\n",
    "df[\"Year\"] = df[\"New_Date\"].dt.year\n",
    "df[\"Month\"] = df[\"New_Date\"].dt.month\n",
    "df[\"Day\"] = df[\"New_Date\"].dt.day"
   ]
  },
  {
   "cell_type": "code",
   "execution_count": 30,
   "id": "26e31d08-6873-47bc-968d-c76d0715fb3c",
   "metadata": {},
   "outputs": [
    {
     "name": "stdout",
     "output_type": "stream",
     "text": [
      "<class 'pandas.core.frame.DataFrame'>\n",
      "RangeIndex: 5 entries, 0 to 4\n",
      "Data columns (total 10 columns):\n",
      " #   Column    Non-Null Count  Dtype         \n",
      "---  ------    --------------  -----         \n",
      " 0   Date      5 non-null      object        \n",
      " 1   Close     5 non-null      int64         \n",
      " 2   Start     5 non-null      int64         \n",
      " 3   High      5 non-null      int64         \n",
      " 4   Low       5 non-null      int64         \n",
      " 5   Volume    5 non-null      int64         \n",
      " 6   New_Date  5 non-null      datetime64[ns]\n",
      " 7   Year      5 non-null      int32         \n",
      " 8   Month     5 non-null      int32         \n",
      " 9   Day       5 non-null      int32         \n",
      "dtypes: datetime64[ns](1), int32(3), int64(5), object(1)\n",
      "memory usage: 468.0+ bytes\n"
     ]
    }
   ],
   "source": [
    "df.info()"
   ]
  },
  {
   "cell_type": "code",
   "execution_count": null,
   "id": "a6f95e37-0dfe-4d2d-b3c6-4cb0ec6753c8",
   "metadata": {},
   "outputs": [],
   "source": [
    "### 년월(0000-00) 형태의 YM 컬럼과\n",
    "#   년월일(0000-00-00) 형태의 YMD 컬럼 새로 만들기\n",
    "# - 각 컬럼의 데이터는 New_Date 컬럼의 데이터 사용"
   ]
  },
  {
   "cell_type": "code",
   "execution_count": 34,
   "id": "58e2040e-9628-4dd9-befb-107ada656f06",
   "metadata": {},
   "outputs": [],
   "source": [
    "df[\"YM\"] = df[\"New_Date\"].dt.to_period(freq=\"M\")\n",
    "df[\"YMD\"] = df[\"New_Date\"].dt.to_period(freq=\"D\")"
   ]
  },
  {
   "cell_type": "code",
   "execution_count": 39,
   "id": "f8ba7d5c-7bc8-4ba7-a07f-74f2c6d90f91",
   "metadata": {},
   "outputs": [
    {
     "name": "stdout",
     "output_type": "stream",
     "text": [
      "<class 'pandas.core.frame.DataFrame'>\n",
      "RangeIndex: 5 entries, 0 to 4\n",
      "Data columns (total 12 columns):\n",
      " #   Column    Non-Null Count  Dtype         \n",
      "---  ------    --------------  -----         \n",
      " 0   Date      5 non-null      object        \n",
      " 1   Close     5 non-null      int64         \n",
      " 2   Start     5 non-null      int64         \n",
      " 3   High      5 non-null      int64         \n",
      " 4   Low       5 non-null      int64         \n",
      " 5   Volume    5 non-null      int64         \n",
      " 6   New_Date  5 non-null      datetime64[ns]\n",
      " 7   Year      5 non-null      int32         \n",
      " 8   Month     5 non-null      int32         \n",
      " 9   Day       5 non-null      int32         \n",
      " 10  YM        5 non-null      period[M]     \n",
      " 11  YMD       5 non-null      period[D]     \n",
      "dtypes: datetime64[ns](1), int32(3), int64(5), object(1), period[D](1), period[M](1)\n",
      "memory usage: 548.0+ bytes\n"
     ]
    }
   ],
   "source": [
    "df.info()"
   ]
  },
  {
   "cell_type": "markdown",
   "id": "ad4f86bf-83d8-4e50-8f45-1f081c556223",
   "metadata": {},
   "source": [
    "## 날짜 타입의 인덱스 컨트롤 하기"
   ]
  },
  {
   "cell_type": "code",
   "execution_count": 40,
   "id": "253c7848-1923-495d-b4e0-bb8ed17923b7",
   "metadata": {},
   "outputs": [],
   "source": [
    "### New_Date 컬럼을 인덱스로 변환해 주세요.\n",
    "df.set_index(\"New_Date\", inplace=True)"
   ]
  },
  {
   "cell_type": "code",
   "execution_count": 41,
   "id": "f07800d9-5718-48dc-8a20-eefd2425ccc0",
   "metadata": {},
   "outputs": [
    {
     "name": "stdout",
     "output_type": "stream",
     "text": [
      "<class 'pandas.core.frame.DataFrame'>\n",
      "DatetimeIndex: 5 entries, 2015-07-02 to 2019-06-26\n",
      "Data columns (total 11 columns):\n",
      " #   Column  Non-Null Count  Dtype    \n",
      "---  ------  --------------  -----    \n",
      " 0   Date    5 non-null      object   \n",
      " 1   Close   5 non-null      int64    \n",
      " 2   Start   5 non-null      int64    \n",
      " 3   High    5 non-null      int64    \n",
      " 4   Low     5 non-null      int64    \n",
      " 5   Volume  5 non-null      int64    \n",
      " 6   Year    5 non-null      int32    \n",
      " 7   Month   5 non-null      int32    \n",
      " 8   Day     5 non-null      int32    \n",
      " 9   YM      5 non-null      period[M]\n",
      " 10  YMD     5 non-null      period[D]\n",
      "dtypes: int32(3), int64(5), object(1), period[D](1), period[M](1)\n",
      "memory usage: 420.0+ bytes\n"
     ]
    }
   ],
   "source": [
    "df.info()"
   ]
  },
  {
   "cell_type": "code",
   "execution_count": 43,
   "id": "96b279a5-5e88-4f57-9a35-352abe6c0db4",
   "metadata": {},
   "outputs": [
    {
     "data": {
      "text/html": [
       "<div>\n",
       "<style scoped>\n",
       "    .dataframe tbody tr th:only-of-type {\n",
       "        vertical-align: middle;\n",
       "    }\n",
       "\n",
       "    .dataframe tbody tr th {\n",
       "        vertical-align: top;\n",
       "    }\n",
       "\n",
       "    .dataframe thead th {\n",
       "        text-align: right;\n",
       "    }\n",
       "</style>\n",
       "<table border=\"1\" class=\"dataframe\">\n",
       "  <thead>\n",
       "    <tr style=\"text-align: right;\">\n",
       "      <th></th>\n",
       "      <th>Date</th>\n",
       "      <th>Close</th>\n",
       "      <th>Start</th>\n",
       "      <th>High</th>\n",
       "      <th>Low</th>\n",
       "      <th>Volume</th>\n",
       "      <th>Year</th>\n",
       "      <th>Month</th>\n",
       "      <th>Day</th>\n",
       "      <th>YM</th>\n",
       "      <th>YMD</th>\n",
       "    </tr>\n",
       "    <tr>\n",
       "      <th>New_Date</th>\n",
       "      <th></th>\n",
       "      <th></th>\n",
       "      <th></th>\n",
       "      <th></th>\n",
       "      <th></th>\n",
       "      <th></th>\n",
       "      <th></th>\n",
       "      <th></th>\n",
       "      <th></th>\n",
       "      <th></th>\n",
       "      <th></th>\n",
       "    </tr>\n",
       "  </thead>\n",
       "  <tbody>\n",
       "    <tr>\n",
       "      <th>2015-07-02</th>\n",
       "      <td>2015-07-02</td>\n",
       "      <td>10100</td>\n",
       "      <td>10850</td>\n",
       "      <td>10900</td>\n",
       "      <td>10000</td>\n",
       "      <td>137977</td>\n",
       "      <td>2015</td>\n",
       "      <td>7</td>\n",
       "      <td>2</td>\n",
       "      <td>2015-07</td>\n",
       "      <td>2015-07-02</td>\n",
       "    </tr>\n",
       "    <tr>\n",
       "      <th>2016-06-29</th>\n",
       "      <td>2016-06-29</td>\n",
       "      <td>10700</td>\n",
       "      <td>10550</td>\n",
       "      <td>10900</td>\n",
       "      <td>9990</td>\n",
       "      <td>170253</td>\n",
       "      <td>2016</td>\n",
       "      <td>6</td>\n",
       "      <td>29</td>\n",
       "      <td>2016-06</td>\n",
       "      <td>2016-06-29</td>\n",
       "    </tr>\n",
       "    <tr>\n",
       "      <th>2017-06-28</th>\n",
       "      <td>2017-06-28</td>\n",
       "      <td>10400</td>\n",
       "      <td>10900</td>\n",
       "      <td>10950</td>\n",
       "      <td>10150</td>\n",
       "      <td>155769</td>\n",
       "      <td>2017</td>\n",
       "      <td>6</td>\n",
       "      <td>28</td>\n",
       "      <td>2017-06</td>\n",
       "      <td>2017-06-28</td>\n",
       "    </tr>\n",
       "    <tr>\n",
       "      <th>2018-06-27</th>\n",
       "      <td>2018-06-27</td>\n",
       "      <td>10900</td>\n",
       "      <td>10800</td>\n",
       "      <td>11050</td>\n",
       "      <td>10500</td>\n",
       "      <td>133548</td>\n",
       "      <td>2018</td>\n",
       "      <td>6</td>\n",
       "      <td>27</td>\n",
       "      <td>2018-06</td>\n",
       "      <td>2018-06-27</td>\n",
       "    </tr>\n",
       "    <tr>\n",
       "      <th>2019-06-26</th>\n",
       "      <td>2019-06-26</td>\n",
       "      <td>10800</td>\n",
       "      <td>10900</td>\n",
       "      <td>11000</td>\n",
       "      <td>10700</td>\n",
       "      <td>63039</td>\n",
       "      <td>2019</td>\n",
       "      <td>6</td>\n",
       "      <td>26</td>\n",
       "      <td>2019-06</td>\n",
       "      <td>2019-06-26</td>\n",
       "    </tr>\n",
       "  </tbody>\n",
       "</table>\n",
       "</div>"
      ],
      "text/plain": [
       "                  Date  Close  Start   High    Low  Volume  Year  Month  Day  \\\n",
       "New_Date                                                                       \n",
       "2015-07-02  2015-07-02  10100  10850  10900  10000  137977  2015      7    2   \n",
       "2016-06-29  2016-06-29  10700  10550  10900   9990  170253  2016      6   29   \n",
       "2017-06-28  2017-06-28  10400  10900  10950  10150  155769  2017      6   28   \n",
       "2018-06-27  2018-06-27  10900  10800  11050  10500  133548  2018      6   27   \n",
       "2019-06-26  2019-06-26  10800  10900  11000  10700   63039  2019      6   26   \n",
       "\n",
       "                 YM         YMD  \n",
       "New_Date                         \n",
       "2015-07-02  2015-07  2015-07-02  \n",
       "2016-06-29  2016-06  2016-06-29  \n",
       "2017-06-28  2017-06  2017-06-28  \n",
       "2018-06-27  2018-06  2018-06-27  \n",
       "2019-06-26  2019-06  2019-06-26  "
      ]
     },
     "execution_count": 43,
     "metadata": {},
     "output_type": "execute_result"
    }
   ],
   "source": [
    "df"
   ]
  },
  {
   "cell_type": "code",
   "execution_count": 56,
   "id": "8dbab72c-072f-43ba-b71f-9358575bc34e",
   "metadata": {},
   "outputs": [
    {
     "data": {
      "text/plain": [
       "Date      2015-07-02\n",
       "Close          10100\n",
       "Start          10850\n",
       "High           10900\n",
       "Low            10000\n",
       "Volume        137977\n",
       "Year            2015\n",
       "Month              7\n",
       "Day                2\n",
       "YM           2015-07\n",
       "YMD       2015-07-02\n",
       "Name: 2015-07-02 00:00:00, dtype: object"
      ]
     },
     "execution_count": 56,
     "metadata": {},
     "output_type": "execute_result"
    }
   ],
   "source": [
    "### 메모리 0번째 행의 데이터 조회하기...\n",
    "# loc와 iloc 각각 사용해보기\n",
    "df.loc[\"2015-07-02\"]\n",
    "df.iloc[0]"
   ]
  },
  {
   "cell_type": "code",
   "execution_count": 70,
   "id": "fbc1bd35-da0f-4c57-bc4a-042eced3dd13",
   "metadata": {},
   "outputs": [
    {
     "data": {
      "text/html": [
       "<div>\n",
       "<style scoped>\n",
       "    .dataframe tbody tr th:only-of-type {\n",
       "        vertical-align: middle;\n",
       "    }\n",
       "\n",
       "    .dataframe tbody tr th {\n",
       "        vertical-align: top;\n",
       "    }\n",
       "\n",
       "    .dataframe thead th {\n",
       "        text-align: right;\n",
       "    }\n",
       "</style>\n",
       "<table border=\"1\" class=\"dataframe\">\n",
       "  <thead>\n",
       "    <tr style=\"text-align: right;\">\n",
       "      <th></th>\n",
       "      <th>Date</th>\n",
       "      <th>Close</th>\n",
       "      <th>Start</th>\n",
       "      <th>High</th>\n",
       "      <th>Low</th>\n",
       "      <th>Volume</th>\n",
       "      <th>Year</th>\n",
       "      <th>Month</th>\n",
       "      <th>Day</th>\n",
       "      <th>YM</th>\n",
       "      <th>YMD</th>\n",
       "    </tr>\n",
       "    <tr>\n",
       "      <th>New_Date</th>\n",
       "      <th></th>\n",
       "      <th></th>\n",
       "      <th></th>\n",
       "      <th></th>\n",
       "      <th></th>\n",
       "      <th></th>\n",
       "      <th></th>\n",
       "      <th></th>\n",
       "      <th></th>\n",
       "      <th></th>\n",
       "      <th></th>\n",
       "    </tr>\n",
       "  </thead>\n",
       "  <tbody>\n",
       "    <tr>\n",
       "      <th>2015-07-02</th>\n",
       "      <td>2015-07-02</td>\n",
       "      <td>10100</td>\n",
       "      <td>10850</td>\n",
       "      <td>10900</td>\n",
       "      <td>10000</td>\n",
       "      <td>137977</td>\n",
       "      <td>2015</td>\n",
       "      <td>7</td>\n",
       "      <td>2</td>\n",
       "      <td>2015-07</td>\n",
       "      <td>2015-07-02</td>\n",
       "    </tr>\n",
       "    <tr>\n",
       "      <th>2016-06-29</th>\n",
       "      <td>2016-06-29</td>\n",
       "      <td>10700</td>\n",
       "      <td>10550</td>\n",
       "      <td>10900</td>\n",
       "      <td>9990</td>\n",
       "      <td>170253</td>\n",
       "      <td>2016</td>\n",
       "      <td>6</td>\n",
       "      <td>29</td>\n",
       "      <td>2016-06</td>\n",
       "      <td>2016-06-29</td>\n",
       "    </tr>\n",
       "    <tr>\n",
       "      <th>2017-06-28</th>\n",
       "      <td>2017-06-28</td>\n",
       "      <td>10400</td>\n",
       "      <td>10900</td>\n",
       "      <td>10950</td>\n",
       "      <td>10150</td>\n",
       "      <td>155769</td>\n",
       "      <td>2017</td>\n",
       "      <td>6</td>\n",
       "      <td>28</td>\n",
       "      <td>2017-06</td>\n",
       "      <td>2017-06-28</td>\n",
       "    </tr>\n",
       "  </tbody>\n",
       "</table>\n",
       "</div>"
      ],
      "text/plain": [
       "                  Date  Close  Start   High    Low  Volume  Year  Month  Day  \\\n",
       "New_Date                                                                       \n",
       "2015-07-02  2015-07-02  10100  10850  10900  10000  137977  2015      7    2   \n",
       "2016-06-29  2016-06-29  10700  10550  10900   9990  170253  2016      6   29   \n",
       "2017-06-28  2017-06-28  10400  10900  10950  10150  155769  2017      6   28   \n",
       "\n",
       "                 YM         YMD  \n",
       "New_Date                         \n",
       "2015-07-02  2015-07  2015-07-02  \n",
       "2016-06-29  2016-06  2016-06-29  \n",
       "2017-06-28  2017-06  2017-06-28  "
      ]
     },
     "execution_count": 70,
     "metadata": {},
     "output_type": "execute_result"
    }
   ],
   "source": [
    "### 0번째부터 2번째까지의 행 데이터 조회...\n",
    "# loc, iloc 사용\n",
    "df.loc[\"2015-07-02\" : \"2017-06-28\"]\n",
    "df.iloc[0 : 3]"
   ]
  },
  {
   "cell_type": "code",
   "execution_count": null,
   "id": "01f822ca-bec8-4432-8901-c97ed87b6cf0",
   "metadata": {},
   "outputs": [],
   "source": []
  },
  {
   "cell_type": "code",
   "execution_count": null,
   "id": "1ddcd1ea-7d68-4ab0-a219-90ebb1c7721d",
   "metadata": {},
   "outputs": [],
   "source": []
  },
  {
   "cell_type": "code",
   "execution_count": null,
   "id": "089284cf-06a1-4a4c-958f-7c86d66f88fd",
   "metadata": {},
   "outputs": [],
   "source": []
  },
  {
   "cell_type": "code",
   "execution_count": null,
   "id": "6074ef62-d388-44ed-a428-45308f3a2e9a",
   "metadata": {},
   "outputs": [],
   "source": []
  },
  {
   "cell_type": "code",
   "execution_count": null,
   "id": "cc691fa4-aaac-4274-b3e4-344960b0ae92",
   "metadata": {},
   "outputs": [],
   "source": []
  },
  {
   "cell_type": "code",
   "execution_count": null,
   "id": "86c53e2f-9060-45ca-a93a-39d7f0b8c79c",
   "metadata": {},
   "outputs": [],
   "source": []
  },
  {
   "cell_type": "code",
   "execution_count": null,
   "id": "ae06d56b-3dfd-42d3-b7fe-994eaaf08ba0",
   "metadata": {},
   "outputs": [],
   "source": []
  },
  {
   "cell_type": "code",
   "execution_count": null,
   "id": "7aa23c44-aeba-468a-ba44-f6780182d875",
   "metadata": {},
   "outputs": [],
   "source": []
  },
  {
   "cell_type": "code",
   "execution_count": null,
   "id": "869be430-7122-41be-928d-e89b0d6103a2",
   "metadata": {},
   "outputs": [],
   "source": []
  }
 ],
 "metadata": {
  "kernelspec": {
   "display_name": "pk_base_202503_kernel",
   "language": "python",
   "name": "pk_base_202503"
  },
  "language_info": {
   "codemirror_mode": {
    "name": "ipython",
    "version": 3
   },
   "file_extension": ".py",
   "mimetype": "text/x-python",
   "name": "python",
   "nbconvert_exporter": "python",
   "pygments_lexer": "ipython3",
   "version": "3.9.21"
  }
 },
 "nbformat": 4,
 "nbformat_minor": 5
}
