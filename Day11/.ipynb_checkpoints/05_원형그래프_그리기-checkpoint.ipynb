{
 "cells": [
  {
   "cell_type": "code",
   "execution_count": 1,
   "id": "da4505a5-4483-4ace-b2a7-8b95ccd98852",
   "metadata": {},
   "outputs": [],
   "source": [
    "### 데이터 처리(조작) 라이브러리\n",
    "import pandas as pd\n",
    "import numpy as np\n",
    "\n",
    "import matplotlib.pyplot as plt\n",
    "\n",
    "import seaborn as sns\n",
    "\n",
    "plt.rc(\"font\", family=\"Malgun Gothic\")\n",
    "\n",
    "plt.rcParams[\"axes.unicode_minus\"] = False"
   ]
  },
  {
   "cell_type": "code",
   "execution_count": 19,
   "id": "5294acb8-aab9-4655-96e3-2635512c0c55",
   "metadata": {},
   "outputs": [
    {
     "data": {
      "image/png": "[encoded data removed]",
      "text/plain": [
       "<Figure size 640x480 with 1 Axes>"
      ]
     },
     "metadata": {},
     "output_type": "display_data"
    }
   ],
   "source": [
    "### 사용할 데이터\n",
    "# - Label은 데이터프레임의 특정 컬럼명이라고 생각하시면 됩니다.\n",
    "#  -> 안에 데이터는 범주명이라고 생각하시면 됩니다.\n",
    "label = [\"A\", \"B\", \"C\", \"D\"]\n",
    "\n",
    "# - 해당 특정 컬럼의 범주별 집계 데이터(열)라고 생각하시면 됩니다.\n",
    "sizes = [25, 25 ,20, 30]\n",
    "\n",
    "### 원형 차트 그리기\n",
    "# - 사용함수 : pie()\n",
    "\n",
    "### 대표 그래프 관리자 정의\n",
    "# - 별도의 작은 그래프 공간이 없는 상태로 설정(Axes는 1개의 공간만 사용됨)\n",
    "fig, ax = plt.subplots()\n",
    "\n",
    "### 하나의 공간에 원형 차트 그리기\n",
    "# - 첫번째 : 빈도 데이터\n",
    "# - 두번째 : 표시할 범주 이름\n",
    "# - autopct : 빈도 데이터를 표시(기호% 사용), 1.1f는 소숫점 자리수 지정\n",
    "# - startangle : 원형 차트의 각도 지정(왼쪽으로 돌아갑니다.)\n",
    "\n",
    "# wedges : 원형차트 자체 정보\n",
    "# texts : labels 값 반환 (label 표시 스타일 지정시 사용)\n",
    "# autotexts : 데이터 값 반환 (데이터 표시 스타일 지정 시 사용)\n",
    "wedges, texts, autotexts = ax.pie(sizes, labels=label, autopct=\"%1.1f%%\", startangle=45)\n",
    "\n",
    "### autotexts(집계(빈도) 데이터)애 대한 텍스트 스타일 지정\n",
    "plt.setp(autotexts, size=8, weight=\"bold\", color=\"white\")\n",
    "\n",
    "### texts(label)에 대한 텍스트 스타일 지정\n",
    "# - 텍스트 스타일 지정\n",
    "plt.setp(texts, size=10, weight=\"bold\", color=\"blue\", va=\"bottom\")\n",
    "\n",
    "plt.show()"
   ]
  },
  {
   "cell_type": "code",
   "execution_count": null,
   "id": "5d96a10d-7afc-44c1-9f1c-83e1ea99cfdc",
   "metadata": {},
   "outputs": [],
   "source": []
  },
  {
   "cell_type": "code",
   "execution_count": null,
   "id": "6507fa28-7f13-4a03-bd3b-c75cee556b17",
   "metadata": {},
   "outputs": [],
   "source": []
  },
  {
   "cell_type": "code",
   "execution_count": null,
   "id": "17749b7f-cde3-4d78-852a-deac5d723c94",
   "metadata": {},
   "outputs": [],
   "source": []
  },
  {
   "cell_type": "code",
   "execution_count": null,
   "id": "e70ef060-85ce-45f4-8a20-0752772362a9",
   "metadata": {},
   "outputs": [],
   "source": []
  },
  {
   "cell_type": "code",
   "execution_count": null,
   "id": "bb052224-5a5a-4fd6-89d0-6fab2756090e",
   "metadata": {},
   "outputs": [],
   "source": []
  },
  {
   "cell_type": "code",
   "execution_count": null,
   "id": "4f9e8284-3ff4-4315-8589-51948cdef61c",
   "metadata": {},
   "outputs": [],
   "source": []
  },
  {
   "cell_type": "code",
   "execution_count": null,
   "id": "c11479a3-9fb1-4c70-ae5f-646d602a2f25",
   "metadata": {},
   "outputs": [],
   "source": []
  },
  {
   "cell_type": "code",
   "execution_count": null,
   "id": "78c9ce31-32b6-4f78-98c0-acb3f6afd312",
   "metadata": {},
   "outputs": [],
   "source": []
  },
  {
   "cell_type": "code",
   "execution_count": null,
   "id": "3e8980f0-9de8-42c4-b945-e99c090a8d5b",
   "metadata": {},
   "outputs": [],
   "source": []
  },
  {
   "cell_type": "code",
   "execution_count": null,
   "id": "4c3ca054-2fbe-4b01-850b-5e88c63eec31",
   "metadata": {},
   "outputs": [],
   "source": []
  },
  {
   "cell_type": "code",
   "execution_count": null,
   "id": "a09d9db6-cb7c-4d2f-939b-79bd39a2850b",
   "metadata": {},
   "outputs": [],
   "source": []
  },
  {
   "cell_type": "code",
   "execution_count": null,
   "id": "1a1f2961-ee17-4107-8a4b-558a9d52689a",
   "metadata": {},
   "outputs": [],
   "source": []
  },
  {
   "cell_type": "code",
   "execution_count": null,
   "id": "a29c2a3b-a901-4e14-ae8f-a087a2860501",
   "metadata": {},
   "outputs": [],
   "source": []
  },
  {
   "cell_type": "code",
   "execution_count": null,
   "id": "e3858539-f91a-4539-bfa4-5fe68552c93f",
   "metadata": {},
   "outputs": [],
   "source": []
  }
 ],
 "metadata": {
  "kernelspec": {
   "display_name": "pk_base_202503_kernel",
   "language": "python",
   "name": "pk_base_202503"
  },
  "language_info": {
   "codemirror_mode": {
    "name": "ipython",
    "version": 3
   },
   "file_extension": ".py",
   "mimetype": "text/x-python",
   "name": "python",
   "nbconvert_exporter": "python",
   "pygments_lexer": "ipython3",
   "version": "3.9.21"
  }
 },
 "nbformat": 4,
 "nbformat_minor": 5
}
